{
 "cells": [
  {
   "cell_type": "markdown",
   "metadata": {
    "id": "zpsSnBHsU5LC",
    "slideshow": {
     "slide_type": "slide"
    }
   },
   "source": [
    "<h1 style=\"text-align: center;\">Portfolio Optimization Techniques</h1>\n",
    "\n",
    "<h2 style=\"text-align: center;\"> A Comparative Study</h2>"
   ]
  },
  {
   "cell_type": "markdown",
   "metadata": {
    "slideshow": {
     "slide_type": "fragment"
    }
   },
   "source": [
    "Investing in a portfolio is complex due to uncertainty, randomness, and biases affecting decision-making. The efficient market hypothesis suggests it's difficult to consistently outperform the market. Modern portfolio theory aims to balance risk and return, often through diversification. Diversification spreads risk across different assets but requires understanding correlations between them. Automating asset classification and clustering can help reduce biases and optimize diversification strategies for better investment decisions."
   ]
  },
  {
   "cell_type": "markdown",
   "metadata": {
    "slideshow": {
     "slide_type": "fragment"
    }
   },
   "source": [
    "This notebook explores various portfolio optimization strategies by combining traditional and advanced machine learning techniques. The core methodologies include autoencoders for dimensionality reduction, KMeans clustering (with both Euclidean Distance & Dynamic Time Warping as a metric) for asset selection, and the application of classic portfolio optimization techniques such as Sharpe Ratio maximization and mean-variance optimization.\n",
    "\n",
    "Throughout this notebook, we focus on understanding how these techniques can improve portfolio construction and achieve superior returns over a specified testing period, benchmarking the results against the MASI Index."
   ]
  },
  {
   "cell_type": "markdown",
   "metadata": {},
   "source": [
    "# Setting Up the Environment\n",
    "\n",
    "In this section, we will import the necessary libraries and packages required for the implementation of various portfolio optimization strategies. These include traditional finance tools such as mean-variance optimization and Sharpe Ratio maximization, as well as machine learning techniques like autoencoders and KMeans clustering. The combination of these tools allows us to explore and compare different approaches for constructing and optimizing portfolios."
   ]
  },
  {
   "cell_type": "code",
   "execution_count": 1,
   "metadata": {
    "id": "7NQzx7q-U5LF",
    "slideshow": {
     "slide_type": "skip"
    }
   },
   "outputs": [],
   "source": [
    "import numpy as np\n",
    "import pandas as pd\n",
    "import yfinance as yf\n",
    "import matplotlib.pyplot as plt\n",
    "import random\n",
    "from scipy.optimize import minimize\n",
    "import plotly.graph_objects as go\n",
    "\n",
    "# Import libraries for time series clustering and preprocessing\n",
    "from tslearn.clustering import TimeSeriesKMeans\n",
    "from sklearn.cluster import KMeans\n",
    "\n",
    "# Standard scaling & ParameterGrid\n",
    "from sklearn.preprocessing import StandardScaler\n",
    "from sklearn.model_selection import ParameterGrid\n",
    "\n",
    "# Import libraries for autoencoder\n",
    "import tensorflow as tf\n",
    "from tensorflow.keras.models import Model\n",
    "from tensorflow.keras.layers import Input, Dense\n",
    "\n",
    "import warnings\n",
    "# Ignore warnings to keep the output clean\n",
    "warnings.simplefilter(action='ignore')"
   ]
  },
  {
   "cell_type": "markdown",
   "metadata": {},
   "source": [
    "# Data Loading & Preprocessing\n",
    "\n",
    "In this step, we load the historical moroccan stock price data and relevant company information. The stock price data will be used to compute returns and apply various portfolio optimization techniques, while the company information will assist in selecting assets based on criteria such as market capitalization. We set the `Date` as the index for the stock price data to facilitate time-series analysis."
   ]
  },
  {
   "cell_type": "code",
   "execution_count": 2,
   "metadata": {
    "colab": {
     "base_uri": "https://localhost:8080/"
    },
    "id": "uZoEs3eoU5LH",
    "outputId": "b5f91d21-2944-4d17-e26f-69519f4c01e3",
    "slideshow": {
     "slide_type": "skip"
    }
   },
   "outputs": [],
   "source": [
    "# Load the stock price data, with 'Date' as the index column\n",
    "stocks = pd.read_csv(\"data/stocks.csv\", index_col='Date')\n",
    "\n",
    "# Load the companies' information with the first column as the index\n",
    "companies = pd.read_csv(\"data/companies_isin.csv\", index_col=0)"
   ]
  },
  {
   "cell_type": "code",
   "execution_count": 3,
   "metadata": {},
   "outputs": [],
   "source": [
    "# Convert the index of the stocks DataFrame to datetime format\n",
    "stocks.index = pd.to_datetime(stocks.index, format='%d/%m/%Y')\n",
    "\n",
    "# Remove companies whose instruments are not found in the stocks DataFrame columns\n",
    "companies.drop(companies[~companies[\"Instrument\"].isin(stocks.columns)].index, inplace=True)\n",
    "companies.reset_index(inplace=True, drop=True)"
   ]
  },
  {
   "cell_type": "code",
   "execution_count": 4,
   "metadata": {},
   "outputs": [
    {
     "data": {
      "text/plain": [
       "Diac Salaf         1660.000000\n",
       "SAMIR              1660.000000\n",
       "Aradei Capital     1277.333333\n",
       "Mutandis            621.333333\n",
       "Immr Invest         429.333333\n",
       "Nexans Maroc         64.000000\n",
       "Maghreb Oxygene      32.000000\n",
       "Agma                 30.666667\n",
       "Unimer               28.000000\n",
       "Maghrebail           26.666667\n",
       "Central.Danone       24.000000\n",
       "Zellidja             22.666667\n",
       "BALIMA               21.333333\n",
       "Rebab Company        20.000000\n",
       "Afric Indus          17.333333\n",
       "dtype: float64"
      ]
     },
     "execution_count": 4,
     "metadata": {},
     "output_type": "execute_result"
    }
   ],
   "source": [
    "# Display top 15 rows with missing values in the stocks DataFrame\n",
    "(stocks.isnull().sum() * 100 / stocks.shape[1]).sort_values(ascending=False).head(15)"
   ]
  },
  {
   "cell_type": "markdown",
   "metadata": {},
   "source": [
    "In this step, we select the **MASI index**, a market index, as our benchmark. This index will serve as a reference point to evaluate the performance of our various portfolio optimization strategies. By comparing our portfolios against this benchmark, we can assess how well each strategy performs relative to the broader market."
   ]
  },
  {
   "cell_type": "code",
   "execution_count": 5,
   "metadata": {},
   "outputs": [],
   "source": [
    "# Set 'MASI' column as the benchmark (likely a market index)\n",
    "benchmark = stocks['MASI']"
   ]
  },
  {
   "cell_type": "code",
   "execution_count": 6,
   "metadata": {},
   "outputs": [],
   "source": [
    "# Drop columns with more than 10% missing values, alongside the benchmark column\n",
    "stocks.drop(columns=[\"SAMIR\", \"Diac Salaf\", \"Aradei Capital\", \"Mutandis\", \"Immr Invest\", \"MASI\"], inplace=True)\n",
    "\n",
    "# Remove the corresponding rows in the companies DataFrame\n",
    "companies.drop(companies[companies[\"Instrument\"].isin([\"SAMIR\", \"Diac Salaf\", \"Aradei Capital\", \"Mutandis\", \"Immr Invest\"])].index, inplace=True)\n",
    "companies.reset_index(drop=True, inplace=True)"
   ]
  },
  {
   "cell_type": "markdown",
   "metadata": {},
   "source": [
    "After cleaning the dataset by removing stocks with significant missing data, we address the remaining missing data in the stock prices. Missing values are filled using forward filling and backward filling methods, ensuring that any gaps in the time series data are handled appropriately. This step ensures consistency in the data before proceeding with further analysis and optimizations."
   ]
  },
  {
   "cell_type": "code",
   "execution_count": 7,
   "metadata": {},
   "outputs": [],
   "source": [
    "# Fill missing values by forward filling (propagating last valid observation forward)\n",
    "stocks = stocks.fillna(method='ffill')\n",
    "\n",
    "# Fill any remaining missing values by backward filling (propagating next valid observation backward)\n",
    "stocks = stocks.fillna(method='bfill')"
   ]
  },
  {
   "cell_type": "markdown",
   "metadata": {},
   "source": [
    "To build and evaluate our portfolio optimization strategies, we divide the stock price data into training and testing sets. The training set, comprising $80%$ of the data, will be used to develop and optimize the portfolios, while the remaining $20%$ will be reserved for testing and evaluating the performance of the portfolios against the benchmark. This ensures that the strategies are trained on historical data and validated on unseen data, allowing for an objective performance comparison."
   ]
  },
  {
   "cell_type": "code",
   "execution_count": 8,
   "metadata": {},
   "outputs": [
    {
     "name": "stdout",
     "output_type": "stream",
     "text": [
      "Shape of the training set: (996, 69)\n",
      "Shape of the testing set: (249, 69)\n"
     ]
    }
   ],
   "source": [
    "# Get the number of assets (columns) in the stocks DataFrame\n",
    "num_assets = stocks.shape[1]\n",
    "\n",
    "# Split the data into 80% for training and 20% for testing\n",
    "split = int(len(stocks) * 0.8)\n",
    "train = stocks.iloc[:split]  # Training data\n",
    "test = stocks.iloc[split:]   # Testing data\n",
    "test_benchmark = benchmark.loc[test.index] # Benchmark data for testing\n",
    "\n",
    "# Print the shapes of the training and testing sets\n",
    "print(f\"Shape of the training set: {train.shape}\")\n",
    "print(f\"Shape of the testing set: {test.shape}\")"
   ]
  },
  {
   "cell_type": "markdown",
   "metadata": {},
   "source": [
    "# Portfolio Utility Functions"
   ]
  },
  {
   "cell_type": "markdown",
   "metadata": {},
   "source": [
    "In this section, we define several utility functions that will be used throughout the notebook for portfolio analysis and optimization. These functions help calculate key performance metrics such as cumulative returns and Sharpe Ratio, which are essential for evaluating and comparing the performance of various portfolio strategies. By abstracting these calculations into reusable functions, we streamline the optimization process and ensure consistency across different strategies."
   ]
  },
  {
   "cell_type": "code",
   "execution_count": 9,
   "metadata": {
    "slideshow": {
     "slide_type": "slide"
    }
   },
   "outputs": [],
   "source": [
    "def cumulative_returns(weights, data):\n",
    "    \"\"\"\n",
    "    Parameters:\n",
    "    - weights : A List or numpy array of weights for each asset in the portfolio.\n",
    "    - data : A pandas DataFrame containing historical adjusted close prices of assets.\n",
    "\n",
    "    Returns:\n",
    "    - cumulative_returns : Cumulative returns of the portfolio over the period.\n",
    "    \"\"\"\n",
    "    \n",
    "    # Calculate daily returns for each asset as a percentage change\n",
    "    daily_returns = data.pct_change()\n",
    "\n",
    "    # Set the first row (which contains NaNs due to pct_change) to zero\n",
    "    daily_returns.iloc[0] = 0\n",
    "    \n",
    "    # Apply the portfolio weights to each asset's daily returns\n",
    "    weighted_returns = (weights * daily_returns).sum(axis=1)\n",
    "    \n",
    "    # Calculate the cumulative returns of the portfolio\n",
    "    cumulative_returns = (weighted_returns + 1).cumprod() - 1\n",
    "    \n",
    "    return cumulative_returns"
   ]
  },
  {
   "cell_type": "code",
   "execution_count": 10,
   "metadata": {
    "slideshow": {
     "slide_type": "slide"
    }
   },
   "outputs": [],
   "source": [
    "def sharpe_ratio(weights, returns, risk_free_rate=0.02):\n",
    "    \"\"\"\n",
    "    Compute the Negative Sharpe Ratio of a portfolio with given weights.\n",
    "\n",
    "    Parameters:\n",
    "    - weights: A list or numpy array of weights for each asset in the portfolio.\n",
    "    - returns: A pandas DataFrame containing the historical returns of each asset.\n",
    "    - risk_free_rate: The annual risk-free rate, usually expressed as a decimal (e.g., 0.05 for 5%).\n",
    "\n",
    "    Returns:\n",
    "    - sharpe_ratio: The Sharpe Ratio of the portfolio.\n",
    "    \"\"\"\n",
    "    \n",
    "    # Calculate the weighted returns of the portfolio\n",
    "    weighted_returns = (weights * returns).sum(axis=1)\n",
    "    \n",
    "    # Calculate the excess return of the portfolio (over the risk-free rate, annualized)\n",
    "    excess_return = weighted_returns.mean() - (risk_free_rate / 252)  # Assuming 252 trading days in a year\n",
    "    \n",
    "    # Calculate the annualized volatility (standard deviation) of the portfolio returns\n",
    "    volatility = weighted_returns.std() * np.sqrt(252)  # Assuming 252 trading days in a year\n",
    "    \n",
    "    # Calculate and return the Sharpe Ratio (negative for minimization purposes)\n",
    "    sharpe_ratio = excess_return / volatility\n",
    "    \n",
    "    return -sharpe_ratio  # Negating for optimization (to maximize Sharpe Ratio)"
   ]
  },
  {
   "cell_type": "code",
   "execution_count": 11,
   "metadata": {
    "slideshow": {
     "slide_type": "slide"
    }
   },
   "outputs": [],
   "source": [
    "def maximum_drawdown(returns):\n",
    "    \"\"\"\n",
    "    Compute the maximum drawdown of a portfolio.\n",
    "\n",
    "    Parameters:\n",
    "    - returns: A pandas DataFrame containing the historical cumulative returns of the portfolio.\n",
    "\n",
    "    Returns:\n",
    "    - drawdown: The full drawdown series of the portfolio.\n",
    "    \"\"\"\n",
    "    \n",
    "    # Calculate the rolling maximum cumulative return at each point in time\n",
    "    rolling_max = returns.cummax()\n",
    "    \n",
    "    # Calculate the drawdown as the percentage decline from the rolling maximum\n",
    "    drawdown = (returns - rolling_max) / rolling_max\n",
    "\n",
    "    # Set the first drawdown value to 0 (to avoid NaNs or misleading values)\n",
    "    drawdown.iloc[0] = 0\n",
    "    \n",
    "    return drawdown"
   ]
  },
  {
   "cell_type": "markdown",
   "metadata": {
    "id": "5WQew07UU5LH",
    "slideshow": {
     "slide_type": "slide"
    }
   },
   "source": [
    "# Equal-Weighted portfolio"
   ]
  },
  {
   "cell_type": "markdown",
   "metadata": {
    "slideshow": {
     "slide_type": "fragment"
    }
   },
   "source": [
    "As a baseline strategy, we construct an equal-weighted portfolio, where each asset is assigned the same weight regardless of its characteristics or historical performance. This simple approach provides a benchmark for comparison against more advanced optimization techniques."
   ]
  },
  {
   "cell_type": "markdown",
   "metadata": {
    "slideshow": {
     "slide_type": "slide"
    }
   },
   "source": [
    "## Building the Equal-Weighted Portfolio"
   ]
  },
  {
   "cell_type": "code",
   "execution_count": 12,
   "metadata": {
    "slideshow": {
     "slide_type": "subslide"
    }
   },
   "outputs": [
    {
     "name": "stdout",
     "output_type": "stream",
     "text": [
      "The cumulative return for the equal weighted portfolio over the entire testing period : 28.06%\n"
     ]
    }
   ],
   "source": [
    "# Calculate equal weights for the portfolio, assigning the same weight to each asset\n",
    "equal_weights = np.full(num_assets, 1 / num_assets)\n",
    "\n",
    "# Calculate the cumulative returns of the portfolio using equal weights\n",
    "portfolio_returns_equal_weighted = cumulative_returns(equal_weights, test)\n",
    "\n",
    "print(f\"The cumulative return for the equal weighted portfolio over the entire testing period : {portfolio_returns_equal_weighted[-1] * 100:.2f}%\")"
   ]
  },
  {
   "cell_type": "markdown",
   "metadata": {
    "slideshow": {
     "slide_type": "slide"
    }
   },
   "source": [
    "## Backtesting the Equal-Weighted Portfolio"
   ]
  },
  {
   "cell_type": "markdown",
   "metadata": {
    "slideshow": {
     "slide_type": "fragment"
    }
   },
   "source": [
    "We will backtest the equal-weighted portfolio using historical stock data from 2021 to 2022. The backtesting process involves simulating the portfolio's performance over time to evaluate its effectiveness. The portfolio is rebalanced annually, ensuring that each asset maintains equal weighting throughout the testing period. This approach provides a benchmark to compare with more advanced strategies implemented later in the notebook."
   ]
  },
  {
   "cell_type": "code",
   "execution_count": 13,
   "metadata": {},
   "outputs": [],
   "source": [
    "# Calculate the cumulative returns for the benchmark (e.g., MASI) over the test period\n",
    "benchmark_cumulative_returns = cumulative_returns([1], pd.DataFrame(benchmark[test.index]))"
   ]
  },
  {
   "cell_type": "code",
   "execution_count": 14,
   "metadata": {
    "slideshow": {
     "slide_type": "subslide"
    },
    "tags": [
     "to_remove"
    ]
   },
   "outputs": [
    {
     "data": {
      "application/vnd.plotly.v1+json": {
       "config": {
        "plotlyServerURL": "https://plot.ly"
       },
       "data": [
        {
         "line": {
          "color": "green"
         },
         "mode": "lines",
         "name": "Equal-Weighted Portfolio",
         "type": "scatter",
         "x": [
          "2021-02-08T00:00:00",
          "2021-02-09T00:00:00",
          "2021-02-10T00:00:00",
          "2021-02-11T00:00:00",
          "2021-02-12T00:00:00",
          "2021-02-15T00:00:00",
          "2021-02-16T00:00:00",
          "2021-02-17T00:00:00",
          "2021-02-18T00:00:00",
          "2021-02-19T00:00:00",
          "2021-02-22T00:00:00",
          "2021-02-23T00:00:00",
          "2021-02-24T00:00:00",
          "2021-02-25T00:00:00",
          "2021-02-26T00:00:00",
          "2021-03-01T00:00:00",
          "2021-03-02T00:00:00",
          "2021-03-03T00:00:00",
          "2021-03-04T00:00:00",
          "2021-03-05T00:00:00",
          "2021-03-08T00:00:00",
          "2021-03-09T00:00:00",
          "2021-03-10T00:00:00",
          "2021-03-11T00:00:00",
          "2021-03-12T00:00:00",
          "2021-03-15T00:00:00",
          "2021-03-16T00:00:00",
          "2021-03-17T00:00:00",
          "2021-03-18T00:00:00",
          "2021-03-19T00:00:00",
          "2021-03-22T00:00:00",
          "2021-03-23T00:00:00",
          "2021-03-24T00:00:00",
          "2021-03-25T00:00:00",
          "2021-03-26T00:00:00",
          "2021-03-29T00:00:00",
          "2021-03-30T00:00:00",
          "2021-03-31T00:00:00",
          "2021-04-01T00:00:00",
          "2021-04-02T00:00:00",
          "2021-04-05T00:00:00",
          "2021-04-06T00:00:00",
          "2021-04-07T00:00:00",
          "2021-04-08T00:00:00",
          "2021-04-09T00:00:00",
          "2021-04-12T00:00:00",
          "2021-04-13T00:00:00",
          "2021-04-14T00:00:00",
          "2021-04-15T00:00:00",
          "2021-04-16T00:00:00",
          "2021-04-19T00:00:00",
          "2021-04-20T00:00:00",
          "2021-04-21T00:00:00",
          "2021-04-22T00:00:00",
          "2021-04-23T00:00:00",
          "2021-04-26T00:00:00",
          "2021-04-27T00:00:00",
          "2021-04-28T00:00:00",
          "2021-04-29T00:00:00",
          "2021-04-30T00:00:00",
          "2021-05-03T00:00:00",
          "2021-05-04T00:00:00",
          "2021-05-05T00:00:00",
          "2021-05-06T00:00:00",
          "2021-05-07T00:00:00",
          "2021-05-10T00:00:00",
          "2021-05-11T00:00:00",
          "2021-05-12T00:00:00",
          "2021-05-17T00:00:00",
          "2021-05-18T00:00:00",
          "2021-05-19T00:00:00",
          "2021-05-20T00:00:00",
          "2021-05-21T00:00:00",
          "2021-05-24T00:00:00",
          "2021-05-25T00:00:00",
          "2021-05-26T00:00:00",
          "2021-05-27T00:00:00",
          "2021-05-28T00:00:00",
          "2021-05-31T00:00:00",
          "2021-06-01T00:00:00",
          "2021-06-02T00:00:00",
          "2021-06-03T00:00:00",
          "2021-06-04T00:00:00",
          "2021-06-07T00:00:00",
          "2021-06-08T00:00:00",
          "2021-06-09T00:00:00",
          "2021-06-10T00:00:00",
          "2021-06-11T00:00:00",
          "2021-06-14T00:00:00",
          "2021-06-15T00:00:00",
          "2021-06-16T00:00:00",
          "2021-06-17T00:00:00",
          "2021-06-18T00:00:00",
          "2021-06-21T00:00:00",
          "2021-06-22T00:00:00",
          "2021-06-23T00:00:00",
          "2021-06-24T00:00:00",
          "2021-06-25T00:00:00",
          "2021-06-28T00:00:00",
          "2021-06-29T00:00:00",
          "2021-06-30T00:00:00",
          "2021-07-01T00:00:00",
          "2021-07-02T00:00:00",
          "2021-07-05T00:00:00",
          "2021-07-06T00:00:00",
          "2021-07-07T00:00:00",
          "2021-07-08T00:00:00",
          "2021-07-09T00:00:00",
          "2021-07-12T00:00:00",
          "2021-07-13T00:00:00",
          "2021-07-14T00:00:00",
          "2021-07-15T00:00:00",
          "2021-07-16T00:00:00",
          "2021-07-19T00:00:00",
          "2021-07-20T00:00:00",
          "2021-07-23T00:00:00",
          "2021-07-26T00:00:00",
          "2021-07-27T00:00:00",
          "2021-07-28T00:00:00",
          "2021-07-29T00:00:00",
          "2021-08-02T00:00:00",
          "2021-08-03T00:00:00",
          "2021-08-04T00:00:00",
          "2021-08-05T00:00:00",
          "2021-08-06T00:00:00",
          "2021-08-09T00:00:00",
          "2021-08-11T00:00:00",
          "2021-08-12T00:00:00",
          "2021-08-13T00:00:00",
          "2021-08-16T00:00:00",
          "2021-08-17T00:00:00",
          "2021-08-18T00:00:00",
          "2021-08-19T00:00:00",
          "2021-08-23T00:00:00",
          "2021-08-24T00:00:00",
          "2021-08-25T00:00:00",
          "2021-08-26T00:00:00",
          "2021-08-27T00:00:00",
          "2021-08-30T00:00:00",
          "2021-08-31T00:00:00",
          "2021-09-01T00:00:00",
          "2021-09-02T00:00:00",
          "2021-09-03T00:00:00",
          "2021-09-06T00:00:00",
          "2021-09-07T00:00:00",
          "2021-09-08T00:00:00",
          "2021-09-09T00:00:00",
          "2021-09-10T00:00:00",
          "2021-09-13T00:00:00",
          "2021-09-14T00:00:00",
          "2021-09-15T00:00:00",
          "2021-09-16T00:00:00",
          "2021-09-17T00:00:00",
          "2021-09-20T00:00:00",
          "2021-09-21T00:00:00",
          "2021-09-22T00:00:00",
          "2021-09-23T00:00:00",
          "2021-09-24T00:00:00",
          "2021-09-27T00:00:00",
          "2021-09-28T00:00:00",
          "2021-09-29T00:00:00",
          "2021-09-30T00:00:00",
          "2021-10-01T00:00:00",
          "2021-10-04T00:00:00",
          "2021-10-05T00:00:00",
          "2021-10-06T00:00:00",
          "2021-10-07T00:00:00",
          "2021-10-08T00:00:00",
          "2021-10-11T00:00:00",
          "2021-10-12T00:00:00",
          "2021-10-13T00:00:00",
          "2021-10-14T00:00:00",
          "2021-10-15T00:00:00",
          "2021-10-18T00:00:00",
          "2021-10-21T00:00:00",
          "2021-10-22T00:00:00",
          "2021-10-25T00:00:00",
          "2021-10-26T00:00:00",
          "2021-10-27T00:00:00",
          "2021-10-28T00:00:00",
          "2021-10-29T00:00:00",
          "2021-11-01T00:00:00",
          "2021-11-02T00:00:00",
          "2021-11-03T00:00:00",
          "2021-11-04T00:00:00",
          "2021-11-05T00:00:00",
          "2021-11-08T00:00:00",
          "2021-11-09T00:00:00",
          "2021-11-10T00:00:00",
          "2021-11-11T00:00:00",
          "2021-11-12T00:00:00",
          "2021-11-15T00:00:00",
          "2021-11-16T00:00:00",
          "2021-11-17T00:00:00",
          "2021-11-19T00:00:00",
          "2021-11-22T00:00:00",
          "2021-11-23T00:00:00",
          "2021-11-24T00:00:00",
          "2021-11-25T00:00:00",
          "2021-11-26T00:00:00",
          "2021-11-29T00:00:00",
          "2021-11-30T00:00:00",
          "2021-12-01T00:00:00",
          "2021-12-02T00:00:00",
          "2021-12-03T00:00:00",
          "2021-12-06T00:00:00",
          "2021-12-07T00:00:00",
          "2021-12-08T00:00:00",
          "2021-12-09T00:00:00",
          "2021-12-10T00:00:00",
          "2021-12-13T00:00:00",
          "2021-12-14T00:00:00",
          "2021-12-15T00:00:00",
          "2021-12-16T00:00:00",
          "2021-12-17T00:00:00",
          "2021-12-20T00:00:00",
          "2021-12-21T00:00:00",
          "2021-12-22T00:00:00",
          "2021-12-23T00:00:00",
          "2021-12-24T00:00:00",
          "2021-12-27T00:00:00",
          "2021-12-28T00:00:00",
          "2021-12-29T00:00:00",
          "2021-12-30T00:00:00",
          "2021-12-31T00:00:00",
          "2022-01-03T00:00:00",
          "2022-01-04T00:00:00",
          "2022-01-05T00:00:00",
          "2022-01-06T00:00:00",
          "2022-01-07T00:00:00",
          "2022-01-10T00:00:00",
          "2022-01-12T00:00:00",
          "2022-01-13T00:00:00",
          "2022-01-14T00:00:00",
          "2022-01-17T00:00:00",
          "2022-01-18T00:00:00",
          "2022-01-19T00:00:00",
          "2022-01-20T00:00:00",
          "2022-01-21T00:00:00",
          "2022-01-24T00:00:00",
          "2022-01-25T00:00:00",
          "2022-01-26T00:00:00",
          "2022-01-27T00:00:00",
          "2022-01-28T00:00:00",
          "2022-01-31T00:00:00",
          "2022-02-01T00:00:00",
          "2022-02-02T00:00:00",
          "2022-02-03T00:00:00",
          "2022-02-04T00:00:00"
         ],
         "y": [
          0,
          -0.0028566001226608684,
          -0.005402442994301815,
          -0.0039048614295835726,
          -0.0025491123588503584,
          -0.0029701711819448695,
          -0.003656364745435514,
          -0.004413603232252372,
          -0.004612875801084715,
          -0.0053863692269569,
          -0.007610248313445256,
          -0.009862307236745638,
          -0.016081385341762067,
          -0.01667529333691964,
          -0.014598358132562494,
          -0.015524171121699126,
          -0.012462126967131004,
          -0.013036653280491306,
          -0.012699531744481574,
          -0.011632584962045556,
          -0.01010484051273608,
          -0.008395840924616316,
          -0.010521824210738884,
          -0.012374614147940166,
          -0.007774482029372032,
          -0.00799624553588374,
          -0.004937661103340929,
          -0.0035263194162056255,
          -0.004651973497653561,
          -0.006952493429109752,
          -0.006642267832019488,
          -0.008427873876870828,
          -0.007434600710729322,
          -0.010492712932447468,
          -0.009811993961210796,
          -0.007813844362244304,
          -0.006524534248004699,
          -0.007469843551303201,
          -0.0038627254366129238,
          -0.0010123929691430167,
          -0.0033786171276708465,
          -0.0012267399176154603,
          -0.0033708124073911216,
          -0.00420306830909789,
          -0.00038502231038961554,
          -0.002399311616404831,
          0.0003697820857013756,
          0.001850533304983637,
          0.00266045691231942,
          0.0043136333000610705,
          0.0046652029996381295,
          0.00547573831141368,
          0.0060350408468823336,
          0.006624609763850042,
          0.00607792503496829,
          0.00791959494708605,
          0.011728509781467888,
          0.016793040730692654,
          0.01890336835241957,
          0.01865445532134391,
          0.022407660265400864,
          0.026361400929778123,
          0.028813716751610485,
          0.031155927331405042,
          0.033709768062558654,
          0.03762190631934259,
          0.037327461733873024,
          0.03710787334293619,
          0.04045945232101045,
          0.04208865790881955,
          0.044385481379451974,
          0.03916954139978368,
          0.04555328713561635,
          0.044931309885473336,
          0.04211776101588538,
          0.04601462506634202,
          0.04597629321549901,
          0.04452623161972502,
          0.044429229255822156,
          0.047432579635722005,
          0.05110547852187741,
          0.058406097766268594,
          0.061587969891061745,
          0.062151202652203086,
          0.06428979431839754,
          0.0680712212500929,
          0.06905007068630109,
          0.07519744087186742,
          0.08274383735646085,
          0.08665531367460844,
          0.07978184951538281,
          0.07903797898273512,
          0.08287816223597133,
          0.08996784936119862,
          0.08821835506477438,
          0.0874960550476016,
          0.08708535266051265,
          0.07801663433902872,
          0.08116929144999574,
          0.07785284586456931,
          0.07567710154714646,
          0.07607175758702489,
          0.07459174679417901,
          0.06524289292944863,
          0.06475529247828127,
          0.07151956032907258,
          0.07667480430485374,
          0.07679768710587132,
          0.07774186538608441,
          0.07755334231744859,
          0.07832233643464348,
          0.07903486317125363,
          0.08004854679479756,
          0.07996659402848172,
          0.0791339953138166,
          0.08046406332563416,
          0.07676651073186314,
          0.07737534262233936,
          0.07797291149000429,
          0.07879115539745629,
          0.08080740688782662,
          0.08470737801763617,
          0.0859270955071445,
          0.08765178828347753,
          0.08689797329134064,
          0.0855042323192845,
          0.08749298737226985,
          0.08225842369925718,
          0.0852042500151946,
          0.08873852157277318,
          0.09252459528295698,
          0.0950971757521466,
          0.09481851490204729,
          0.0966144718779196,
          0.10015531443552717,
          0.09871708749900998,
          0.10272713353985496,
          0.10576715619692911,
          0.10757936887481168,
          0.10918823813092349,
          0.11018725365606263,
          0.10977988913549597,
          0.11547017408787363,
          0.11576793867896806,
          0.11840651750891396,
          0.12116763362915384,
          0.13354805675906034,
          0.13511694293750587,
          0.13619204523716633,
          0.1354100596772656,
          0.134822318526006,
          0.1337958170994349,
          0.13653192673733283,
          0.1349984739120591,
          0.13366913017571336,
          0.13522112475001746,
          0.13787686193689863,
          0.14157777299668006,
          0.14050296751094504,
          0.14357543914870052,
          0.14561991653727624,
          0.1393385083315728,
          0.13373879589137339,
          0.13630870329115585,
          0.138239336658442,
          0.1414425646480617,
          0.14569268221709297,
          0.15015783742520905,
          0.15220210208166374,
          0.15579329033597578,
          0.1558854503574354,
          0.16255622454397822,
          0.17051579820523122,
          0.17399478616505215,
          0.17844036187324464,
          0.18520674526679826,
          0.18702514799402947,
          0.1970165321704762,
          0.2072907099484167,
          0.21296087028608146,
          0.21758482789568667,
          0.2205485348263927,
          0.22483111847785553,
          0.23319739687403307,
          0.23631735696204847,
          0.231880922157506,
          0.2291584830733142,
          0.22581300679551863,
          0.2214267057108692,
          0.21754555478765658,
          0.21411535903684964,
          0.21721009506638222,
          0.21618463515672426,
          0.21340678969727778,
          0.21844695164004535,
          0.22275573797708192,
          0.22046344797079964,
          0.2176247023033162,
          0.21802455292272538,
          0.21211323435294327,
          0.19510286870271365,
          0.196914928070679,
          0.19946935367552432,
          0.19981272905453018,
          0.20233699448632492,
          0.1987525007253661,
          0.20060043490339452,
          0.19777062925909306,
          0.20045463892075865,
          0.19913908421582005,
          0.19590993205382312,
          0.18960287895294803,
          0.19164214165654636,
          0.19238834766058543,
          0.1940721595828938,
          0.19078477282302586,
          0.19108634799386137,
          0.1902513278589817,
          0.18957646180076915,
          0.19352796996890476,
          0.19370889178177553,
          0.19477717305600617,
          0.1986303488301655,
          0.19789091975689033,
          0.1963082421827118,
          0.1968616400678953,
          0.1989013473213299,
          0.2039514098452948,
          0.20841245426457355,
          0.21900423166898086,
          0.2248404120332672,
          0.23120236513562853,
          0.23712401788119886,
          0.24742744656384885,
          0.25329147477904934,
          0.2578746146298043,
          0.2678539749013089,
          0.2743410234449051,
          0.2760846650044073,
          0.27191055978859313,
          0.265756609302511,
          0.26725917565164115,
          0.2690431426618358,
          0.27246378932507676,
          0.2765815343031939,
          0.2788863154433454,
          0.2789165583523916,
          0.27778228773561664,
          0.2805544441719616
         ]
        },
        {
         "line": {
          "color": "red",
          "dash": "dash"
         },
         "mode": "lines",
         "name": "MASI Index",
         "type": "scatter",
         "x": [
          "2021-02-08T00:00:00",
          "2021-02-09T00:00:00",
          "2021-02-10T00:00:00",
          "2021-02-11T00:00:00",
          "2021-02-12T00:00:00",
          "2021-02-15T00:00:00",
          "2021-02-16T00:00:00",
          "2021-02-17T00:00:00",
          "2021-02-18T00:00:00",
          "2021-02-19T00:00:00",
          "2021-02-22T00:00:00",
          "2021-02-23T00:00:00",
          "2021-02-24T00:00:00",
          "2021-02-25T00:00:00",
          "2021-02-26T00:00:00",
          "2021-03-01T00:00:00",
          "2021-03-02T00:00:00",
          "2021-03-03T00:00:00",
          "2021-03-04T00:00:00",
          "2021-03-05T00:00:00",
          "2021-03-08T00:00:00",
          "2021-03-09T00:00:00",
          "2021-03-10T00:00:00",
          "2021-03-11T00:00:00",
          "2021-03-12T00:00:00",
          "2021-03-15T00:00:00",
          "2021-03-16T00:00:00",
          "2021-03-17T00:00:00",
          "2021-03-18T00:00:00",
          "2021-03-19T00:00:00",
          "2021-03-22T00:00:00",
          "2021-03-23T00:00:00",
          "2021-03-24T00:00:00",
          "2021-03-25T00:00:00",
          "2021-03-26T00:00:00",
          "2021-03-29T00:00:00",
          "2021-03-30T00:00:00",
          "2021-03-31T00:00:00",
          "2021-04-01T00:00:00",
          "2021-04-02T00:00:00",
          "2021-04-05T00:00:00",
          "2021-04-06T00:00:00",
          "2021-04-07T00:00:00",
          "2021-04-08T00:00:00",
          "2021-04-09T00:00:00",
          "2021-04-12T00:00:00",
          "2021-04-13T00:00:00",
          "2021-04-14T00:00:00",
          "2021-04-15T00:00:00",
          "2021-04-16T00:00:00",
          "2021-04-19T00:00:00",
          "2021-04-20T00:00:00",
          "2021-04-21T00:00:00",
          "2021-04-22T00:00:00",
          "2021-04-23T00:00:00",
          "2021-04-26T00:00:00",
          "2021-04-27T00:00:00",
          "2021-04-28T00:00:00",
          "2021-04-29T00:00:00",
          "2021-04-30T00:00:00",
          "2021-05-03T00:00:00",
          "2021-05-04T00:00:00",
          "2021-05-05T00:00:00",
          "2021-05-06T00:00:00",
          "2021-05-07T00:00:00",
          "2021-05-10T00:00:00",
          "2021-05-11T00:00:00",
          "2021-05-12T00:00:00",
          "2021-05-17T00:00:00",
          "2021-05-18T00:00:00",
          "2021-05-19T00:00:00",
          "2021-05-20T00:00:00",
          "2021-05-21T00:00:00",
          "2021-05-24T00:00:00",
          "2021-05-25T00:00:00",
          "2021-05-26T00:00:00",
          "2021-05-27T00:00:00",
          "2021-05-28T00:00:00",
          "2021-05-31T00:00:00",
          "2021-06-01T00:00:00",
          "2021-06-02T00:00:00",
          "2021-06-03T00:00:00",
          "2021-06-04T00:00:00",
          "2021-06-07T00:00:00",
          "2021-06-08T00:00:00",
          "2021-06-09T00:00:00",
          "2021-06-10T00:00:00",
          "2021-06-11T00:00:00",
          "2021-06-14T00:00:00",
          "2021-06-15T00:00:00",
          "2021-06-16T00:00:00",
          "2021-06-17T00:00:00",
          "2021-06-18T00:00:00",
          "2021-06-21T00:00:00",
          "2021-06-22T00:00:00",
          "2021-06-23T00:00:00",
          "2021-06-24T00:00:00",
          "2021-06-25T00:00:00",
          "2021-06-28T00:00:00",
          "2021-06-29T00:00:00",
          "2021-06-30T00:00:00",
          "2021-07-01T00:00:00",
          "2021-07-02T00:00:00",
          "2021-07-05T00:00:00",
          "2021-07-06T00:00:00",
          "2021-07-07T00:00:00",
          "2021-07-08T00:00:00",
          "2021-07-09T00:00:00",
          "2021-07-12T00:00:00",
          "2021-07-13T00:00:00",
          "2021-07-14T00:00:00",
          "2021-07-15T00:00:00",
          "2021-07-16T00:00:00",
          "2021-07-19T00:00:00",
          "2021-07-20T00:00:00",
          "2021-07-23T00:00:00",
          "2021-07-26T00:00:00",
          "2021-07-27T00:00:00",
          "2021-07-28T00:00:00",
          "2021-07-29T00:00:00",
          "2021-08-02T00:00:00",
          "2021-08-03T00:00:00",
          "2021-08-04T00:00:00",
          "2021-08-05T00:00:00",
          "2021-08-06T00:00:00",
          "2021-08-09T00:00:00",
          "2021-08-11T00:00:00",
          "2021-08-12T00:00:00",
          "2021-08-13T00:00:00",
          "2021-08-16T00:00:00",
          "2021-08-17T00:00:00",
          "2021-08-18T00:00:00",
          "2021-08-19T00:00:00",
          "2021-08-23T00:00:00",
          "2021-08-24T00:00:00",
          "2021-08-25T00:00:00",
          "2021-08-26T00:00:00",
          "2021-08-27T00:00:00",
          "2021-08-30T00:00:00",
          "2021-08-31T00:00:00",
          "2021-09-01T00:00:00",
          "2021-09-02T00:00:00",
          "2021-09-03T00:00:00",
          "2021-09-06T00:00:00",
          "2021-09-07T00:00:00",
          "2021-09-08T00:00:00",
          "2021-09-09T00:00:00",
          "2021-09-10T00:00:00",
          "2021-09-13T00:00:00",
          "2021-09-14T00:00:00",
          "2021-09-15T00:00:00",
          "2021-09-16T00:00:00",
          "2021-09-17T00:00:00",
          "2021-09-20T00:00:00",
          "2021-09-21T00:00:00",
          "2021-09-22T00:00:00",
          "2021-09-23T00:00:00",
          "2021-09-24T00:00:00",
          "2021-09-27T00:00:00",
          "2021-09-28T00:00:00",
          "2021-09-29T00:00:00",
          "2021-09-30T00:00:00",
          "2021-10-01T00:00:00",
          "2021-10-04T00:00:00",
          "2021-10-05T00:00:00",
          "2021-10-06T00:00:00",
          "2021-10-07T00:00:00",
          "2021-10-08T00:00:00",
          "2021-10-11T00:00:00",
          "2021-10-12T00:00:00",
          "2021-10-13T00:00:00",
          "2021-10-14T00:00:00",
          "2021-10-15T00:00:00",
          "2021-10-18T00:00:00",
          "2021-10-21T00:00:00",
          "2021-10-22T00:00:00",
          "2021-10-25T00:00:00",
          "2021-10-26T00:00:00",
          "2021-10-27T00:00:00",
          "2021-10-28T00:00:00",
          "2021-10-29T00:00:00",
          "2021-11-01T00:00:00",
          "2021-11-02T00:00:00",
          "2021-11-03T00:00:00",
          "2021-11-04T00:00:00",
          "2021-11-05T00:00:00",
          "2021-11-08T00:00:00",
          "2021-11-09T00:00:00",
          "2021-11-10T00:00:00",
          "2021-11-11T00:00:00",
          "2021-11-12T00:00:00",
          "2021-11-15T00:00:00",
          "2021-11-16T00:00:00",
          "2021-11-17T00:00:00",
          "2021-11-19T00:00:00",
          "2021-11-22T00:00:00",
          "2021-11-23T00:00:00",
          "2021-11-24T00:00:00",
          "2021-11-25T00:00:00",
          "2021-11-26T00:00:00",
          "2021-11-29T00:00:00",
          "2021-11-30T00:00:00",
          "2021-12-01T00:00:00",
          "2021-12-02T00:00:00",
          "2021-12-03T00:00:00",
          "2021-12-06T00:00:00",
          "2021-12-07T00:00:00",
          "2021-12-08T00:00:00",
          "2021-12-09T00:00:00",
          "2021-12-10T00:00:00",
          "2021-12-13T00:00:00",
          "2021-12-14T00:00:00",
          "2021-12-15T00:00:00",
          "2021-12-16T00:00:00",
          "2021-12-17T00:00:00",
          "2021-12-20T00:00:00",
          "2021-12-21T00:00:00",
          "2021-12-22T00:00:00",
          "2021-12-23T00:00:00",
          "2021-12-24T00:00:00",
          "2021-12-27T00:00:00",
          "2021-12-28T00:00:00",
          "2021-12-29T00:00:00",
          "2021-12-30T00:00:00",
          "2021-12-31T00:00:00",
          "2022-01-03T00:00:00",
          "2022-01-04T00:00:00",
          "2022-01-05T00:00:00",
          "2022-01-06T00:00:00",
          "2022-01-07T00:00:00",
          "2022-01-10T00:00:00",
          "2022-01-12T00:00:00",
          "2022-01-13T00:00:00",
          "2022-01-14T00:00:00",
          "2022-01-17T00:00:00",
          "2022-01-18T00:00:00",
          "2022-01-19T00:00:00",
          "2022-01-20T00:00:00",
          "2022-01-21T00:00:00",
          "2022-01-24T00:00:00",
          "2022-01-25T00:00:00",
          "2022-01-26T00:00:00",
          "2022-01-27T00:00:00",
          "2022-01-28T00:00:00",
          "2022-01-31T00:00:00",
          "2022-02-01T00:00:00",
          "2022-02-02T00:00:00",
          "2022-02-03T00:00:00",
          "2022-02-04T00:00:00"
         ],
         "y": [
          0,
          -0.004573021857980031,
          -0.01200090059126313,
          -0.009601986625110692,
          -0.012658633287570886,
          -0.015080324321870231,
          -0.010615156067898313,
          -0.015697133478634218,
          -0.01167973196944061,
          -0.020309113862777006,
          -0.02145708322350237,
          -0.027581970127370847,
          -0.03575385418792454,
          -0.03000693333612614,
          -0.029611000226924644,
          -0.03013541958063526,
          -0.028581786022703892,
          -0.031250427977778106,
          -0.030273491673029174,
          -0.03029827647223926,
          -0.03184497267858177,
          -0.02901062029073298,
          -0.029971417855148452,
          -0.030226425330785567,
          -0.024750761760931494,
          -0.024509765685054585,
          -0.018580995660147925,
          -0.01229515707330131,
          -0.017743677827887994,
          -0.020465699798634218,
          -0.022382245697429637,
          -0.027530623473370985,
          -0.02313302604909695,
          -0.018117243958691964,
          -0.017546663877600288,
          -0.01894424119893312,
          -0.01596197456471249,
          -0.018890416919366215,
          -0.012984167656513335,
          -0.011260799660144483,
          -0.014664689817639465,
          -0.014241938547555066,
          -0.015236465993832549,
          -0.012673080407689441,
          -0.010671979128755282,
          -0.007483898701714509,
          -0.008329580656148194,
          -0.007296983211497743,
          -0.005996366485213178,
          -0.0030256507122583542,
          -0.003520389820379166,
          -0.00029040334710417337,
          -0.0018872415688084843,
          0.000811798288916199,
          0.002963325613935197,
          0.0020871774085593486,
          0.0035530603037234876,
          0.0066458888430036556,
          0.008091532100343413,
          0.009097097795700337,
          0.012878390131860096,
          0.01758544298949838,
          0.02132037809693932,
          0.026074540014503267,
          0.026282985216546706,
          0.030054640443603287,
          0.027656495395730563,
          0.028811282498534263,
          0.04030036545233462,
          0.03950512453703792,
          0.04259626145610307,
          0.02945891673477119,
          0.03742749025868153,
          0.03299321543247369,
          0.03318656420562904,
          0.035194406334813744,
          0.0335058105317525,
          0.03910823455175505,
          0.03500297131382091,
          0.03932692345398925,
          0.048280549642266024,
          0.058264363997917235,
          0.05734041470616402,
          0.0576439750993849,
          0.05654210666128545,
          0.05609372478188357,
          0.057152234772554156,
          0.06476391060525355,
          0.07355755053016977,
          0.06807899070146295,
          0.06388621601978217,
          0.06298864062501663,
          0.06688809007013052,
          0.07186467441535238,
          0.06945555946669169,
          0.06918193562515351,
          0.06593546012655072,
          0.060902052720471556,
          0.06530440889454225,
          0.06042741655359185,
          0.06018752259391569,
          0.06100185831315419,
          0.06161974395550973,
          0.04925182158235519,
          0.0407908327922355,
          0.045940082008893324,
          0.0479549042073486,
          0.04528927812063732,
          0.04499276614497871,
          0.043221127167728524,
          0.03970141228672741,
          0.0372077932191468,
          0.03941445198480786,
          0.03849778178610075,
          0.03780690871194525,
          0.04378181383362367,
          0.04089397890766544,
          0.042952808862319,
          0.04546545438554994,
          0.05120916286764721,
          0.0622981776406093,
          0.0633383617456178,
          0.06161759952786294,
          0.06519147188635199,
          0.07038269549753595,
          0.067711063304708,
          0.07365556198019929,
          0.0701664756773328,
          0.07846031017701982,
          0.07628205867001903,
          0.07858024434155331,
          0.07794430620670179,
          0.07710655265408373,
          0.08617414961845937,
          0.08557670865880285,
          0.08119646315703677,
          0.08374413717966855,
          0.09226422161133807,
          0.0914825222012976,
          0.08453020233682951,
          0.08550619885257027,
          0.0862473762692797,
          0.09079457956014081,
          0.08429219649870645,
          0.08628414765011416,
          0.08853361807687188,
          0.10818786987158457,
          0.10075331009280597,
          0.10106601207001686,
          0.10224636997738346,
          0.10171420163612233,
          0.10232391111410544,
          0.1123001131787893,
          0.1063504712943617,
          0.1056037149483573,
          0.10838743833926756,
          0.11732630984011383,
          0.12192714945273986,
          0.12108426123472182,
          0.125131539490843,
          0.12751457102275476,
          0.12662119904791758,
          0.11969113509587359,
          0.1176433348467627,
          0.11567580112249809,
          0.11730454945280289,
          0.11897999675328408,
          0.12711043611857153,
          0.12309741744357128,
          0.12437764074837543,
          0.1266985265962286,
          0.1348510680902839,
          0.1363698611066162,
          0.13548998791935274,
          0.13590962079863655,
          0.13635197094131213,
          0.13918118012022473,
          0.15774894184242894,
          0.15665952988045784,
          0.16012675327357617,
          0.15811512635774894,
          0.15402205474631336,
          0.15872876586249407,
          0.15930068727880675,
          0.15397482607687762,
          0.1460130361209,
          0.14724853401244498,
          0.14315403563042417,
          0.14007390278629273,
          0.13906326223029097,
          0.13592522129617457,
          0.13598742678498832,
          0.13313492792574255,
          0.13539134424762556,
          0.13974608729312066,
          0.14069271113058335,
          0.13687067466914504,
          0.13977708324332183,
          0.13838597337907332,
          0.12954771910687146,
          0.11915973567289129,
          0.11795378987388938,
          0.12519969982455392,
          0.13043010409384803,
          0.1299683430363825,
          0.12591067583995108,
          0.13017085902413728,
          0.1304253966052702,
          0.13438509506935348,
          0.13969190418502309,
          0.13492168896249002,
          0.1347409675361917,
          0.13381532662422346,
          0.13368773745104034,
          0.1366087383854555,
          0.13235710728124528,
          0.1314170790539133,
          0.12864413760598947,
          0.13201550252026029,
          0.13137219131346178,
          0.13085552094730124,
          0.1347350468654389,
          0.14391130052624823,
          0.14522967926478958,
          0.14127306501736103,
          0.1359733043192537,
          0.1344521960045464,
          0.13548938987180126,
          0.14216571079160123,
          0.15143394416571465,
          0.15220751012906542,
          0.15604778704080147,
          0.1609163725418956,
          0.17766723163079456,
          0.17651197463348645,
          0.17627835162955674,
          0.1736862255868321,
          0.17709324267866378,
          0.17762453103567144,
          0.17503550629667397,
          0.17103009991264106,
          0.1723683936346223,
          0.17335769243659893,
          0.1784281873343605,
          0.18614133474934813,
          0.1843994614530522,
          0.18802229681887428,
          0.18869584360113123,
          0.19176737310406833
         ]
        }
       ],
       "layout": {
        "legend": {
         "font": {
          "size": 12
         },
         "traceorder": "normal",
         "x": 0,
         "y": 1
        },
        "template": {
         "data": {
          "bar": [
           {
            "error_x": {
             "color": "#2a3f5f"
            },
            "error_y": {
             "color": "#2a3f5f"
            },
            "marker": {
             "line": {
              "color": "#E5ECF6",
              "width": 0.5
             },
             "pattern": {
              "fillmode": "overlay",
              "size": 10,
              "solidity": 0.2
             }
            },
            "type": "bar"
           }
          ],
          "barpolar": [
           {
            "marker": {
             "line": {
              "color": "#E5ECF6",
              "width": 0.5
             },
             "pattern": {
              "fillmode": "overlay",
              "size": 10,
              "solidity": 0.2
             }
            },
            "type": "barpolar"
           }
          ],
          "carpet": [
           {
            "aaxis": {
             "endlinecolor": "#2a3f5f",
             "gridcolor": "white",
             "linecolor": "white",
             "minorgridcolor": "white",
             "startlinecolor": "#2a3f5f"
            },
            "baxis": {
             "endlinecolor": "#2a3f5f",
             "gridcolor": "white",
             "linecolor": "white",
             "minorgridcolor": "white",
             "startlinecolor": "#2a3f5f"
            },
            "type": "carpet"
           }
          ],
          "choropleth": [
           {
            "colorbar": {
             "outlinewidth": 0,
             "ticks": ""
            },
            "type": "choropleth"
           }
          ],
          "contour": [
           {
            "colorbar": {
             "outlinewidth": 0,
             "ticks": ""
            },
            "colorscale": [
             [
              0,
              "#0d0887"
             ],
             [
              0.1111111111111111,
              "#46039f"
             ],
             [
              0.2222222222222222,
              "#7201a8"
             ],
             [
              0.3333333333333333,
              "#9c179e"
             ],
             [
              0.4444444444444444,
              "#bd3786"
             ],
             [
              0.5555555555555556,
              "#d8576b"
             ],
             [
              0.6666666666666666,
              "#ed7953"
             ],
             [
              0.7777777777777778,
              "#fb9f3a"
             ],
             [
              0.8888888888888888,
              "#fdca26"
             ],
             [
              1,
              "#f0f921"
             ]
            ],
            "type": "contour"
           }
          ],
          "contourcarpet": [
           {
            "colorbar": {
             "outlinewidth": 0,
             "ticks": ""
            },
            "type": "contourcarpet"
           }
          ],
          "heatmap": [
           {
            "colorbar": {
             "outlinewidth": 0,
             "ticks": ""
            },
            "colorscale": [
             [
              0,
              "#0d0887"
             ],
             [
              0.1111111111111111,
              "#46039f"
             ],
             [
              0.2222222222222222,
              "#7201a8"
             ],
             [
              0.3333333333333333,
              "#9c179e"
             ],
             [
              0.4444444444444444,
              "#bd3786"
             ],
             [
              0.5555555555555556,
              "#d8576b"
             ],
             [
              0.6666666666666666,
              "#ed7953"
             ],
             [
              0.7777777777777778,
              "#fb9f3a"
             ],
             [
              0.8888888888888888,
              "#fdca26"
             ],
             [
              1,
              "#f0f921"
             ]
            ],
            "type": "heatmap"
           }
          ],
          "heatmapgl": [
           {
            "colorbar": {
             "outlinewidth": 0,
             "ticks": ""
            },
            "colorscale": [
             [
              0,
              "#0d0887"
             ],
             [
              0.1111111111111111,
              "#46039f"
             ],
             [
              0.2222222222222222,
              "#7201a8"
             ],
             [
              0.3333333333333333,
              "#9c179e"
             ],
             [
              0.4444444444444444,
              "#bd3786"
             ],
             [
              0.5555555555555556,
              "#d8576b"
             ],
             [
              0.6666666666666666,
              "#ed7953"
             ],
             [
              0.7777777777777778,
              "#fb9f3a"
             ],
             [
              0.8888888888888888,
              "#fdca26"
             ],
             [
              1,
              "#f0f921"
             ]
            ],
            "type": "heatmapgl"
           }
          ],
          "histogram": [
           {
            "marker": {
             "pattern": {
              "fillmode": "overlay",
              "size": 10,
              "solidity": 0.2
             }
            },
            "type": "histogram"
           }
          ],
          "histogram2d": [
           {
            "colorbar": {
             "outlinewidth": 0,
             "ticks": ""
            },
            "colorscale": [
             [
              0,
              "#0d0887"
             ],
             [
              0.1111111111111111,
              "#46039f"
             ],
             [
              0.2222222222222222,
              "#7201a8"
             ],
             [
              0.3333333333333333,
              "#9c179e"
             ],
             [
              0.4444444444444444,
              "#bd3786"
             ],
             [
              0.5555555555555556,
              "#d8576b"
             ],
             [
              0.6666666666666666,
              "#ed7953"
             ],
             [
              0.7777777777777778,
              "#fb9f3a"
             ],
             [
              0.8888888888888888,
              "#fdca26"
             ],
             [
              1,
              "#f0f921"
             ]
            ],
            "type": "histogram2d"
           }
          ],
          "histogram2dcontour": [
           {
            "colorbar": {
             "outlinewidth": 0,
             "ticks": ""
            },
            "colorscale": [
             [
              0,
              "#0d0887"
             ],
             [
              0.1111111111111111,
              "#46039f"
             ],
             [
              0.2222222222222222,
              "#7201a8"
             ],
             [
              0.3333333333333333,
              "#9c179e"
             ],
             [
              0.4444444444444444,
              "#bd3786"
             ],
             [
              0.5555555555555556,
              "#d8576b"
             ],
             [
              0.6666666666666666,
              "#ed7953"
             ],
             [
              0.7777777777777778,
              "#fb9f3a"
             ],
             [
              0.8888888888888888,
              "#fdca26"
             ],
             [
              1,
              "#f0f921"
             ]
            ],
            "type": "histogram2dcontour"
           }
          ],
          "mesh3d": [
           {
            "colorbar": {
             "outlinewidth": 0,
             "ticks": ""
            },
            "type": "mesh3d"
           }
          ],
          "parcoords": [
           {
            "line": {
             "colorbar": {
              "outlinewidth": 0,
              "ticks": ""
             }
            },
            "type": "parcoords"
           }
          ],
          "pie": [
           {
            "automargin": true,
            "type": "pie"
           }
          ],
          "scatter": [
           {
            "fillpattern": {
             "fillmode": "overlay",
             "size": 10,
             "solidity": 0.2
            },
            "type": "scatter"
           }
          ],
          "scatter3d": [
           {
            "line": {
             "colorbar": {
              "outlinewidth": 0,
              "ticks": ""
             }
            },
            "marker": {
             "colorbar": {
              "outlinewidth": 0,
              "ticks": ""
             }
            },
            "type": "scatter3d"
           }
          ],
          "scattercarpet": [
           {
            "marker": {
             "colorbar": {
              "outlinewidth": 0,
              "ticks": ""
             }
            },
            "type": "scattercarpet"
           }
          ],
          "scattergeo": [
           {
            "marker": {
             "colorbar": {
              "outlinewidth": 0,
              "ticks": ""
             }
            },
            "type": "scattergeo"
           }
          ],
          "scattergl": [
           {
            "marker": {
             "colorbar": {
              "outlinewidth": 0,
              "ticks": ""
             }
            },
            "type": "scattergl"
           }
          ],
          "scattermapbox": [
           {
            "marker": {
             "colorbar": {
              "outlinewidth": 0,
              "ticks": ""
             }
            },
            "type": "scattermapbox"
           }
          ],
          "scatterpolar": [
           {
            "marker": {
             "colorbar": {
              "outlinewidth": 0,
              "ticks": ""
             }
            },
            "type": "scatterpolar"
           }
          ],
          "scatterpolargl": [
           {
            "marker": {
             "colorbar": {
              "outlinewidth": 0,
              "ticks": ""
             }
            },
            "type": "scatterpolargl"
           }
          ],
          "scatterternary": [
           {
            "marker": {
             "colorbar": {
              "outlinewidth": 0,
              "ticks": ""
             }
            },
            "type": "scatterternary"
           }
          ],
          "surface": [
           {
            "colorbar": {
             "outlinewidth": 0,
             "ticks": ""
            },
            "colorscale": [
             [
              0,
              "#0d0887"
             ],
             [
              0.1111111111111111,
              "#46039f"
             ],
             [
              0.2222222222222222,
              "#7201a8"
             ],
             [
              0.3333333333333333,
              "#9c179e"
             ],
             [
              0.4444444444444444,
              "#bd3786"
             ],
             [
              0.5555555555555556,
              "#d8576b"
             ],
             [
              0.6666666666666666,
              "#ed7953"
             ],
             [
              0.7777777777777778,
              "#fb9f3a"
             ],
             [
              0.8888888888888888,
              "#fdca26"
             ],
             [
              1,
              "#f0f921"
             ]
            ],
            "type": "surface"
           }
          ],
          "table": [
           {
            "cells": {
             "fill": {
              "color": "#EBF0F8"
             },
             "line": {
              "color": "white"
             }
            },
            "header": {
             "fill": {
              "color": "#C8D4E3"
             },
             "line": {
              "color": "white"
             }
            },
            "type": "table"
           }
          ]
         },
         "layout": {
          "annotationdefaults": {
           "arrowcolor": "#2a3f5f",
           "arrowhead": 0,
           "arrowwidth": 1
          },
          "autotypenumbers": "strict",
          "coloraxis": {
           "colorbar": {
            "outlinewidth": 0,
            "ticks": ""
           }
          },
          "colorscale": {
           "diverging": [
            [
             0,
             "#8e0152"
            ],
            [
             0.1,
             "#c51b7d"
            ],
            [
             0.2,
             "#de77ae"
            ],
            [
             0.3,
             "#f1b6da"
            ],
            [
             0.4,
             "#fde0ef"
            ],
            [
             0.5,
             "#f7f7f7"
            ],
            [
             0.6,
             "#e6f5d0"
            ],
            [
             0.7,
             "#b8e186"
            ],
            [
             0.8,
             "#7fbc41"
            ],
            [
             0.9,
             "#4d9221"
            ],
            [
             1,
             "#276419"
            ]
           ],
           "sequential": [
            [
             0,
             "#0d0887"
            ],
            [
             0.1111111111111111,
             "#46039f"
            ],
            [
             0.2222222222222222,
             "#7201a8"
            ],
            [
             0.3333333333333333,
             "#9c179e"
            ],
            [
             0.4444444444444444,
             "#bd3786"
            ],
            [
             0.5555555555555556,
             "#d8576b"
            ],
            [
             0.6666666666666666,
             "#ed7953"
            ],
            [
             0.7777777777777778,
             "#fb9f3a"
            ],
            [
             0.8888888888888888,
             "#fdca26"
            ],
            [
             1,
             "#f0f921"
            ]
           ],
           "sequentialminus": [
            [
             0,
             "#0d0887"
            ],
            [
             0.1111111111111111,
             "#46039f"
            ],
            [
             0.2222222222222222,
             "#7201a8"
            ],
            [
             0.3333333333333333,
             "#9c179e"
            ],
            [
             0.4444444444444444,
             "#bd3786"
            ],
            [
             0.5555555555555556,
             "#d8576b"
            ],
            [
             0.6666666666666666,
             "#ed7953"
            ],
            [
             0.7777777777777778,
             "#fb9f3a"
            ],
            [
             0.8888888888888888,
             "#fdca26"
            ],
            [
             1,
             "#f0f921"
            ]
           ]
          },
          "colorway": [
           "#636efa",
           "#EF553B",
           "#00cc96",
           "#ab63fa",
           "#FFA15A",
           "#19d3f3",
           "#FF6692",
           "#B6E880",
           "#FF97FF",
           "#FECB52"
          ],
          "font": {
           "color": "#2a3f5f"
          },
          "geo": {
           "bgcolor": "white",
           "lakecolor": "white",
           "landcolor": "#E5ECF6",
           "showlakes": true,
           "showland": true,
           "subunitcolor": "white"
          },
          "hoverlabel": {
           "align": "left"
          },
          "hovermode": "closest",
          "mapbox": {
           "style": "light"
          },
          "paper_bgcolor": "white",
          "plot_bgcolor": "#E5ECF6",
          "polar": {
           "angularaxis": {
            "gridcolor": "white",
            "linecolor": "white",
            "ticks": ""
           },
           "bgcolor": "#E5ECF6",
           "radialaxis": {
            "gridcolor": "white",
            "linecolor": "white",
            "ticks": ""
           }
          },
          "scene": {
           "xaxis": {
            "backgroundcolor": "#E5ECF6",
            "gridcolor": "white",
            "gridwidth": 2,
            "linecolor": "white",
            "showbackground": true,
            "ticks": "",
            "zerolinecolor": "white"
           },
           "yaxis": {
            "backgroundcolor": "#E5ECF6",
            "gridcolor": "white",
            "gridwidth": 2,
            "linecolor": "white",
            "showbackground": true,
            "ticks": "",
            "zerolinecolor": "white"
           },
           "zaxis": {
            "backgroundcolor": "#E5ECF6",
            "gridcolor": "white",
            "gridwidth": 2,
            "linecolor": "white",
            "showbackground": true,
            "ticks": "",
            "zerolinecolor": "white"
           }
          },
          "shapedefaults": {
           "line": {
            "color": "#2a3f5f"
           }
          },
          "ternary": {
           "aaxis": {
            "gridcolor": "white",
            "linecolor": "white",
            "ticks": ""
           },
           "baxis": {
            "gridcolor": "white",
            "linecolor": "white",
            "ticks": ""
           },
           "bgcolor": "#E5ECF6",
           "caxis": {
            "gridcolor": "white",
            "linecolor": "white",
            "ticks": ""
           }
          },
          "title": {
           "x": 0.05
          },
          "xaxis": {
           "automargin": true,
           "gridcolor": "white",
           "linecolor": "white",
           "ticks": "",
           "title": {
            "standoff": 15
           },
           "zerolinecolor": "white",
           "zerolinewidth": 2
          },
          "yaxis": {
           "automargin": true,
           "gridcolor": "white",
           "linecolor": "white",
           "ticks": "",
           "title": {
            "standoff": 15
           },
           "zerolinecolor": "white",
           "zerolinewidth": 2
          }
         }
        },
        "title": {
         "text": "Equal-Weighted Portfolio Performance"
        },
        "xaxis": {
         "title": {
          "text": "Date"
         }
        },
        "yaxis": {
         "title": {
          "text": "Cumulative Returns"
         }
        }
       }
      }
     },
     "metadata": {},
     "output_type": "display_data"
    }
   ],
   "source": [
    "# Create traces\n",
    "portfolio_trace = go.Scatter(x=portfolio_returns_equal_weighted.index, y=portfolio_returns_equal_weighted, mode='lines', name='Equal-Weighted Portfolio', line=dict(color='green'))\n",
    "masi_trace = go.Scatter(x=benchmark_cumulative_returns.index, y=benchmark_cumulative_returns, mode='lines', name='MASI Index', line=dict(color='red', dash='dash'))\n",
    "\n",
    "# Layout\n",
    "layout = go.Layout(\n",
    "    title='Equal-Weighted Portfolio Performance',\n",
    "    xaxis=dict(title='Date'),\n",
    "    yaxis=dict(title='Cumulative Returns'),\n",
    "    legend=dict(x=0, y=1, traceorder='normal', font=dict(size=12))\n",
    ")\n",
    "\n",
    "# Create figure\n",
    "fig = go.Figure(data=[portfolio_trace, masi_trace], layout=layout)\n",
    "\n",
    "# Show plot\n",
    "fig.show()"
   ]
  },
  {
   "cell_type": "markdown",
   "metadata": {},
   "source": [
    "The equal-weighted portfolio consistently outperforms the MASI Index, particularly from mid-2021 onwards, indicating that this simple strategy was effective during the period under consideration. The portfolio is rebalanced annually, ensuring that all assets maintain equal weighting, which contributes to its steady growth. The MASI Index, represented with a dashed line, exhibits more volatility and lower overall returns compared to the equal-weighted strategy."
   ]
  },
  {
   "cell_type": "code",
   "execution_count": 15,
   "metadata": {
    "slideshow": {
     "slide_type": "subslide"
    },
    "tags": [
     "to_remove"
    ]
   },
   "outputs": [
    {
     "data": {
      "application/vnd.plotly.v1+json": {
       "config": {
        "plotlyServerURL": "https://plot.ly"
       },
       "data": [
        {
         "line": {
          "color": "blue"
         },
         "mode": "lines",
         "name": "Equal-Weighted Portfolio Drawdown",
         "type": "scatter",
         "x": [
          "2021-02-08T00:00:00",
          "2021-02-09T00:00:00",
          "2021-02-10T00:00:00",
          "2021-02-11T00:00:00",
          "2021-02-12T00:00:00",
          "2021-02-15T00:00:00",
          "2021-02-16T00:00:00",
          "2021-02-17T00:00:00",
          "2021-02-18T00:00:00",
          "2021-02-19T00:00:00",
          "2021-02-22T00:00:00",
          "2021-02-23T00:00:00",
          "2021-02-24T00:00:00",
          "2021-02-25T00:00:00",
          "2021-02-26T00:00:00",
          "2021-03-01T00:00:00",
          "2021-03-02T00:00:00",
          "2021-03-03T00:00:00",
          "2021-03-04T00:00:00",
          "2021-03-05T00:00:00",
          "2021-03-08T00:00:00",
          "2021-03-09T00:00:00",
          "2021-03-10T00:00:00",
          "2021-03-11T00:00:00",
          "2021-03-12T00:00:00",
          "2021-03-15T00:00:00",
          "2021-03-16T00:00:00",
          "2021-03-17T00:00:00",
          "2021-03-18T00:00:00",
          "2021-03-19T00:00:00",
          "2021-03-22T00:00:00",
          "2021-03-23T00:00:00",
          "2021-03-24T00:00:00",
          "2021-03-25T00:00:00",
          "2021-03-26T00:00:00",
          "2021-03-29T00:00:00",
          "2021-03-30T00:00:00",
          "2021-03-31T00:00:00",
          "2021-04-01T00:00:00",
          "2021-04-02T00:00:00",
          "2021-04-05T00:00:00",
          "2021-04-06T00:00:00",
          "2021-04-07T00:00:00",
          "2021-04-08T00:00:00",
          "2021-04-09T00:00:00",
          "2021-04-12T00:00:00",
          "2021-04-13T00:00:00",
          "2021-04-14T00:00:00",
          "2021-04-15T00:00:00",
          "2021-04-16T00:00:00",
          "2021-04-19T00:00:00",
          "2021-04-20T00:00:00",
          "2021-04-21T00:00:00",
          "2021-04-22T00:00:00",
          "2021-04-23T00:00:00",
          "2021-04-26T00:00:00",
          "2021-04-27T00:00:00",
          "2021-04-28T00:00:00",
          "2021-04-29T00:00:00",
          "2021-04-30T00:00:00",
          "2021-05-03T00:00:00",
          "2021-05-04T00:00:00",
          "2021-05-05T00:00:00",
          "2021-05-06T00:00:00",
          "2021-05-07T00:00:00",
          "2021-05-10T00:00:00",
          "2021-05-11T00:00:00",
          "2021-05-12T00:00:00",
          "2021-05-17T00:00:00",
          "2021-05-18T00:00:00",
          "2021-05-19T00:00:00",
          "2021-05-20T00:00:00",
          "2021-05-21T00:00:00",
          "2021-05-24T00:00:00",
          "2021-05-25T00:00:00",
          "2021-05-26T00:00:00",
          "2021-05-27T00:00:00",
          "2021-05-28T00:00:00",
          "2021-05-31T00:00:00",
          "2021-06-01T00:00:00",
          "2021-06-02T00:00:00",
          "2021-06-03T00:00:00",
          "2021-06-04T00:00:00",
          "2021-06-07T00:00:00",
          "2021-06-08T00:00:00",
          "2021-06-09T00:00:00",
          "2021-06-10T00:00:00",
          "2021-06-11T00:00:00",
          "2021-06-14T00:00:00",
          "2021-06-15T00:00:00",
          "2021-06-16T00:00:00",
          "2021-06-17T00:00:00",
          "2021-06-18T00:00:00",
          "2021-06-21T00:00:00",
          "2021-06-22T00:00:00",
          "2021-06-23T00:00:00",
          "2021-06-24T00:00:00",
          "2021-06-25T00:00:00",
          "2021-06-28T00:00:00",
          "2021-06-29T00:00:00",
          "2021-06-30T00:00:00",
          "2021-07-01T00:00:00",
          "2021-07-02T00:00:00",
          "2021-07-05T00:00:00",
          "2021-07-06T00:00:00",
          "2021-07-07T00:00:00",
          "2021-07-08T00:00:00",
          "2021-07-09T00:00:00",
          "2021-07-12T00:00:00",
          "2021-07-13T00:00:00",
          "2021-07-14T00:00:00",
          "2021-07-15T00:00:00",
          "2021-07-16T00:00:00",
          "2021-07-19T00:00:00",
          "2021-07-20T00:00:00",
          "2021-07-23T00:00:00",
          "2021-07-26T00:00:00",
          "2021-07-27T00:00:00",
          "2021-07-28T00:00:00",
          "2021-07-29T00:00:00",
          "2021-08-02T00:00:00",
          "2021-08-03T00:00:00",
          "2021-08-04T00:00:00",
          "2021-08-05T00:00:00",
          "2021-08-06T00:00:00",
          "2021-08-09T00:00:00",
          "2021-08-11T00:00:00",
          "2021-08-12T00:00:00",
          "2021-08-13T00:00:00",
          "2021-08-16T00:00:00",
          "2021-08-17T00:00:00",
          "2021-08-18T00:00:00",
          "2021-08-19T00:00:00",
          "2021-08-23T00:00:00",
          "2021-08-24T00:00:00",
          "2021-08-25T00:00:00",
          "2021-08-26T00:00:00",
          "2021-08-27T00:00:00",
          "2021-08-30T00:00:00",
          "2021-08-31T00:00:00",
          "2021-09-01T00:00:00",
          "2021-09-02T00:00:00",
          "2021-09-03T00:00:00",
          "2021-09-06T00:00:00",
          "2021-09-07T00:00:00",
          "2021-09-08T00:00:00",
          "2021-09-09T00:00:00",
          "2021-09-10T00:00:00",
          "2021-09-13T00:00:00",
          "2021-09-14T00:00:00",
          "2021-09-15T00:00:00",
          "2021-09-16T00:00:00",
          "2021-09-17T00:00:00",
          "2021-09-20T00:00:00",
          "2021-09-21T00:00:00",
          "2021-09-22T00:00:00",
          "2021-09-23T00:00:00",
          "2021-09-24T00:00:00",
          "2021-09-27T00:00:00",
          "2021-09-28T00:00:00",
          "2021-09-29T00:00:00",
          "2021-09-30T00:00:00",
          "2021-10-01T00:00:00",
          "2021-10-04T00:00:00",
          "2021-10-05T00:00:00",
          "2021-10-06T00:00:00",
          "2021-10-07T00:00:00",
          "2021-10-08T00:00:00",
          "2021-10-11T00:00:00",
          "2021-10-12T00:00:00",
          "2021-10-13T00:00:00",
          "2021-10-14T00:00:00",
          "2021-10-15T00:00:00",
          "2021-10-18T00:00:00",
          "2021-10-21T00:00:00",
          "2021-10-22T00:00:00",
          "2021-10-25T00:00:00",
          "2021-10-26T00:00:00",
          "2021-10-27T00:00:00",
          "2021-10-28T00:00:00",
          "2021-10-29T00:00:00",
          "2021-11-01T00:00:00",
          "2021-11-02T00:00:00",
          "2021-11-03T00:00:00",
          "2021-11-04T00:00:00",
          "2021-11-05T00:00:00",
          "2021-11-08T00:00:00",
          "2021-11-09T00:00:00",
          "2021-11-10T00:00:00",
          "2021-11-11T00:00:00",
          "2021-11-12T00:00:00",
          "2021-11-15T00:00:00",
          "2021-11-16T00:00:00",
          "2021-11-17T00:00:00",
          "2021-11-19T00:00:00",
          "2021-11-22T00:00:00",
          "2021-11-23T00:00:00",
          "2021-11-24T00:00:00",
          "2021-11-25T00:00:00",
          "2021-11-26T00:00:00",
          "2021-11-29T00:00:00",
          "2021-11-30T00:00:00",
          "2021-12-01T00:00:00",
          "2021-12-02T00:00:00",
          "2021-12-03T00:00:00",
          "2021-12-06T00:00:00",
          "2021-12-07T00:00:00",
          "2021-12-08T00:00:00",
          "2021-12-09T00:00:00",
          "2021-12-10T00:00:00",
          "2021-12-13T00:00:00",
          "2021-12-14T00:00:00",
          "2021-12-15T00:00:00",
          "2021-12-16T00:00:00",
          "2021-12-17T00:00:00",
          "2021-12-20T00:00:00",
          "2021-12-21T00:00:00",
          "2021-12-22T00:00:00",
          "2021-12-23T00:00:00",
          "2021-12-24T00:00:00",
          "2021-12-27T00:00:00",
          "2021-12-28T00:00:00",
          "2021-12-29T00:00:00",
          "2021-12-30T00:00:00",
          "2021-12-31T00:00:00",
          "2022-01-03T00:00:00",
          "2022-01-04T00:00:00",
          "2022-01-05T00:00:00",
          "2022-01-06T00:00:00",
          "2022-01-07T00:00:00",
          "2022-01-10T00:00:00",
          "2022-01-12T00:00:00",
          "2022-01-13T00:00:00",
          "2022-01-14T00:00:00",
          "2022-01-17T00:00:00",
          "2022-01-18T00:00:00",
          "2022-01-19T00:00:00",
          "2022-01-20T00:00:00",
          "2022-01-21T00:00:00",
          "2022-01-24T00:00:00",
          "2022-01-25T00:00:00",
          "2022-01-26T00:00:00",
          "2022-01-27T00:00:00",
          "2022-01-28T00:00:00",
          "2022-01-31T00:00:00",
          "2022-02-01T00:00:00",
          "2022-02-02T00:00:00",
          "2022-02-03T00:00:00",
          "2022-02-04T00:00:00"
         ],
         "y": [
          0,
          null,
          null,
          null,
          null,
          null,
          null,
          null,
          null,
          null,
          null,
          null,
          null,
          null,
          null,
          null,
          null,
          null,
          null,
          null,
          null,
          null,
          null,
          null,
          null,
          null,
          null,
          null,
          null,
          null,
          null,
          null,
          null,
          null,
          null,
          null,
          null,
          null,
          null,
          null,
          null,
          null,
          null,
          null,
          null,
          null,
          0,
          0,
          0,
          0,
          0,
          0,
          0,
          0,
          -0.08252331056011275,
          0,
          0,
          0,
          0,
          -0.013167654908644853,
          0,
          0,
          0,
          0,
          0,
          0,
          -0.007826413233031295,
          -0.013663129455567153,
          0,
          0,
          0,
          -0.11751455245189671,
          0,
          -0.013653839036716043,
          -0.0754177433892551,
          0,
          -0.0008330362528814352,
          -0.032346095278861724,
          -0.03445417208624657,
          0,
          0,
          0,
          0,
          0,
          0,
          0,
          0,
          0,
          0,
          0,
          -0.0793195923914782,
          -0.08790383842445576,
          -0.04358822648568726,
          0,
          -0.019445772115774942,
          -0.02747419585049063,
          -0.03203918645552431,
          -0.13283873191398324,
          -0.09779669041413724,
          -0.13465925419635819,
          -0.15884283013900155,
          -0.1544561959949088,
          -0.17090663693969566,
          -0.2748199118607962,
          -0.28023963073403235,
          -0.20505424063279232,
          -0.14775328243066693,
          -0.14638743005239976,
          -0.1358928112867288,
          -0.13798826060528416,
          -0.1294408281318506,
          -0.12152103520949747,
          -0.1102538588710453,
          -0.11116477056780956,
          -0.12041917334143201,
          -0.1056353586647282,
          -0.14673395799798855,
          -0.13996674176686677,
          -0.1333247149549793,
          -0.12422986703695303,
          -0.1018190669046127,
          -0.0584705689967419,
          -0.04491330939602088,
          -0.025743208203440282,
          -0.03412192346104871,
          -0.0496134682956997,
          -0.0275082933125678,
          -0.08569089643334704,
          -0.05294779612747371,
          -0.013664078858770893,
          0,
          0,
          -0.00293027472051945,
          0,
          0,
          -0.014359966264626045,
          0,
          0,
          0,
          0,
          0,
          -0.003697020363518724,
          0,
          0,
          0,
          0,
          0,
          0,
          0,
          -0.005741785862301749,
          -0.010057318023053811,
          -0.017594479424687542,
          0,
          -0.01123145964404256,
          -0.02096796427056266,
          -0.009600699401519157,
          0,
          0,
          -0.007591625881558566,
          0,
          0,
          -0.043135639375919486,
          -0.08158994269758071,
          -0.06394189385307657,
          -0.050683862855703,
          -0.028686679600899233,
          0,
          0,
          0,
          0,
          0,
          0,
          0,
          0,
          0,
          0,
          0,
          0,
          0,
          0,
          0,
          0,
          0,
          0,
          0,
          -0.01877320761189348,
          -0.030293474761077098,
          -0.044450184707409336,
          -0.06301124658215711,
          -0.07943471616182032,
          -0.09394992484096028,
          -0.08085424676924934,
          -0.0851935806330021,
          -0.09694830527598544,
          -0.07562036725416252,
          -0.057387316612315054,
          -0.0670873658839833,
          -0.07909979571129946,
          -0.07740778872311457,
          -0.10242211118243118,
          -0.17440313648207267,
          -0.16673523010710264,
          -0.15592592842193045,
          -0.15447290193492125,
          -0.14379122597067914,
          -0.15895936176501468,
          -0.1511396476238939,
          -0.16311424686907722,
          -0.15175659757843862,
          -0.15732349593008985,
          -0.17098796900777208,
          -0.19767688082514645,
          -0.18904754132248,
          -0.18588989766214187,
          -0.1787646828918244,
          -0.19267558136381385,
          -0.19139943654435423,
          -0.1949329058824265,
          -0.19778866758731442,
          -0.18106747444714993,
          -0.18030188610782272,
          -0.17578134945336865,
          -0.15947625945196797,
          -0.16260522586721915,
          -0.16930248075583357,
          -0.16696072350068464,
          -0.15832950284192374,
          -0.13695966954281524,
          -0.11808232394015952,
          -0.07326218232818177,
          -0.0485658145314498,
          -0.021644587990383587,
          0,
          0,
          0,
          0,
          0,
          0,
          0,
          -0.015118931780392617,
          -0.0374090161861451,
          -0.03196660471028075,
          -0.025504938285721465,
          -0.013115091630579181,
          0,
          0,
          0,
          -0.004066702326585736,
          0
         ]
        },
        {
         "line": {
          "color": "red",
          "dash": "dash"
         },
         "mode": "lines",
         "name": "MASI Index Drawdown",
         "type": "scatter",
         "x": [
          "2021-02-08T00:00:00",
          "2021-02-09T00:00:00",
          "2021-02-10T00:00:00",
          "2021-02-11T00:00:00",
          "2021-02-12T00:00:00",
          "2021-02-15T00:00:00",
          "2021-02-16T00:00:00",
          "2021-02-17T00:00:00",
          "2021-02-18T00:00:00",
          "2021-02-19T00:00:00",
          "2021-02-22T00:00:00",
          "2021-02-23T00:00:00",
          "2021-02-24T00:00:00",
          "2021-02-25T00:00:00",
          "2021-02-26T00:00:00",
          "2021-03-01T00:00:00",
          "2021-03-02T00:00:00",
          "2021-03-03T00:00:00",
          "2021-03-04T00:00:00",
          "2021-03-05T00:00:00",
          "2021-03-08T00:00:00",
          "2021-03-09T00:00:00",
          "2021-03-10T00:00:00",
          "2021-03-11T00:00:00",
          "2021-03-12T00:00:00",
          "2021-03-15T00:00:00",
          "2021-03-16T00:00:00",
          "2021-03-17T00:00:00",
          "2021-03-18T00:00:00",
          "2021-03-19T00:00:00",
          "2021-03-22T00:00:00",
          "2021-03-23T00:00:00",
          "2021-03-24T00:00:00",
          "2021-03-25T00:00:00",
          "2021-03-26T00:00:00",
          "2021-03-29T00:00:00",
          "2021-03-30T00:00:00",
          "2021-03-31T00:00:00",
          "2021-04-01T00:00:00",
          "2021-04-02T00:00:00",
          "2021-04-05T00:00:00",
          "2021-04-06T00:00:00",
          "2021-04-07T00:00:00",
          "2021-04-08T00:00:00",
          "2021-04-09T00:00:00",
          "2021-04-12T00:00:00",
          "2021-04-13T00:00:00",
          "2021-04-14T00:00:00",
          "2021-04-15T00:00:00",
          "2021-04-16T00:00:00",
          "2021-04-19T00:00:00",
          "2021-04-20T00:00:00",
          "2021-04-21T00:00:00",
          "2021-04-22T00:00:00",
          "2021-04-23T00:00:00",
          "2021-04-26T00:00:00",
          "2021-04-27T00:00:00",
          "2021-04-28T00:00:00",
          "2021-04-29T00:00:00",
          "2021-04-30T00:00:00",
          "2021-05-03T00:00:00",
          "2021-05-04T00:00:00",
          "2021-05-05T00:00:00",
          "2021-05-06T00:00:00",
          "2021-05-07T00:00:00",
          "2021-05-10T00:00:00",
          "2021-05-11T00:00:00",
          "2021-05-12T00:00:00",
          "2021-05-17T00:00:00",
          "2021-05-18T00:00:00",
          "2021-05-19T00:00:00",
          "2021-05-20T00:00:00",
          "2021-05-21T00:00:00",
          "2021-05-24T00:00:00",
          "2021-05-25T00:00:00",
          "2021-05-26T00:00:00",
          "2021-05-27T00:00:00",
          "2021-05-28T00:00:00",
          "2021-05-31T00:00:00",
          "2021-06-01T00:00:00",
          "2021-06-02T00:00:00",
          "2021-06-03T00:00:00",
          "2021-06-04T00:00:00",
          "2021-06-07T00:00:00",
          "2021-06-08T00:00:00",
          "2021-06-09T00:00:00",
          "2021-06-10T00:00:00",
          "2021-06-11T00:00:00",
          "2021-06-14T00:00:00",
          "2021-06-15T00:00:00",
          "2021-06-16T00:00:00",
          "2021-06-17T00:00:00",
          "2021-06-18T00:00:00",
          "2021-06-21T00:00:00",
          "2021-06-22T00:00:00",
          "2021-06-23T00:00:00",
          "2021-06-24T00:00:00",
          "2021-06-25T00:00:00",
          "2021-06-28T00:00:00",
          "2021-06-29T00:00:00",
          "2021-06-30T00:00:00",
          "2021-07-01T00:00:00",
          "2021-07-02T00:00:00",
          "2021-07-05T00:00:00",
          "2021-07-06T00:00:00",
          "2021-07-07T00:00:00",
          "2021-07-08T00:00:00",
          "2021-07-09T00:00:00",
          "2021-07-12T00:00:00",
          "2021-07-13T00:00:00",
          "2021-07-14T00:00:00",
          "2021-07-15T00:00:00",
          "2021-07-16T00:00:00",
          "2021-07-19T00:00:00",
          "2021-07-20T00:00:00",
          "2021-07-23T00:00:00",
          "2021-07-26T00:00:00",
          "2021-07-27T00:00:00",
          "2021-07-28T00:00:00",
          "2021-07-29T00:00:00",
          "2021-08-02T00:00:00",
          "2021-08-03T00:00:00",
          "2021-08-04T00:00:00",
          "2021-08-05T00:00:00",
          "2021-08-06T00:00:00",
          "2021-08-09T00:00:00",
          "2021-08-11T00:00:00",
          "2021-08-12T00:00:00",
          "2021-08-13T00:00:00",
          "2021-08-16T00:00:00",
          "2021-08-17T00:00:00",
          "2021-08-18T00:00:00",
          "2021-08-19T00:00:00",
          "2021-08-23T00:00:00",
          "2021-08-24T00:00:00",
          "2021-08-25T00:00:00",
          "2021-08-26T00:00:00",
          "2021-08-27T00:00:00",
          "2021-08-30T00:00:00",
          "2021-08-31T00:00:00",
          "2021-09-01T00:00:00",
          "2021-09-02T00:00:00",
          "2021-09-03T00:00:00",
          "2021-09-06T00:00:00",
          "2021-09-07T00:00:00",
          "2021-09-08T00:00:00",
          "2021-09-09T00:00:00",
          "2021-09-10T00:00:00",
          "2021-09-13T00:00:00",
          "2021-09-14T00:00:00",
          "2021-09-15T00:00:00",
          "2021-09-16T00:00:00",
          "2021-09-17T00:00:00",
          "2021-09-20T00:00:00",
          "2021-09-21T00:00:00",
          "2021-09-22T00:00:00",
          "2021-09-23T00:00:00",
          "2021-09-24T00:00:00",
          "2021-09-27T00:00:00",
          "2021-09-28T00:00:00",
          "2021-09-29T00:00:00",
          "2021-09-30T00:00:00",
          "2021-10-01T00:00:00",
          "2021-10-04T00:00:00",
          "2021-10-05T00:00:00",
          "2021-10-06T00:00:00",
          "2021-10-07T00:00:00",
          "2021-10-08T00:00:00",
          "2021-10-11T00:00:00",
          "2021-10-12T00:00:00",
          "2021-10-13T00:00:00",
          "2021-10-14T00:00:00",
          "2021-10-15T00:00:00",
          "2021-10-18T00:00:00",
          "2021-10-21T00:00:00",
          "2021-10-22T00:00:00",
          "2021-10-25T00:00:00",
          "2021-10-26T00:00:00",
          "2021-10-27T00:00:00",
          "2021-10-28T00:00:00",
          "2021-10-29T00:00:00",
          "2021-11-01T00:00:00",
          "2021-11-02T00:00:00",
          "2021-11-03T00:00:00",
          "2021-11-04T00:00:00",
          "2021-11-05T00:00:00",
          "2021-11-08T00:00:00",
          "2021-11-09T00:00:00",
          "2021-11-10T00:00:00",
          "2021-11-11T00:00:00",
          "2021-11-12T00:00:00",
          "2021-11-15T00:00:00",
          "2021-11-16T00:00:00",
          "2021-11-17T00:00:00",
          "2021-11-19T00:00:00",
          "2021-11-22T00:00:00",
          "2021-11-23T00:00:00",
          "2021-11-24T00:00:00",
          "2021-11-25T00:00:00",
          "2021-11-26T00:00:00",
          "2021-11-29T00:00:00",
          "2021-11-30T00:00:00",
          "2021-12-01T00:00:00",
          "2021-12-02T00:00:00",
          "2021-12-03T00:00:00",
          "2021-12-06T00:00:00",
          "2021-12-07T00:00:00",
          "2021-12-08T00:00:00",
          "2021-12-09T00:00:00",
          "2021-12-10T00:00:00",
          "2021-12-13T00:00:00",
          "2021-12-14T00:00:00",
          "2021-12-15T00:00:00",
          "2021-12-16T00:00:00",
          "2021-12-17T00:00:00",
          "2021-12-20T00:00:00",
          "2021-12-21T00:00:00",
          "2021-12-22T00:00:00",
          "2021-12-23T00:00:00",
          "2021-12-24T00:00:00",
          "2021-12-27T00:00:00",
          "2021-12-28T00:00:00",
          "2021-12-29T00:00:00",
          "2021-12-30T00:00:00",
          "2021-12-31T00:00:00",
          "2022-01-03T00:00:00",
          "2022-01-04T00:00:00",
          "2022-01-05T00:00:00",
          "2022-01-06T00:00:00",
          "2022-01-07T00:00:00",
          "2022-01-10T00:00:00",
          "2022-01-12T00:00:00",
          "2022-01-13T00:00:00",
          "2022-01-14T00:00:00",
          "2022-01-17T00:00:00",
          "2022-01-18T00:00:00",
          "2022-01-19T00:00:00",
          "2022-01-20T00:00:00",
          "2022-01-21T00:00:00",
          "2022-01-24T00:00:00",
          "2022-01-25T00:00:00",
          "2022-01-26T00:00:00",
          "2022-01-27T00:00:00",
          "2022-01-28T00:00:00",
          "2022-01-31T00:00:00",
          "2022-02-01T00:00:00",
          "2022-02-02T00:00:00",
          "2022-02-03T00:00:00",
          "2022-02-04T00:00:00"
         ],
         "y": [
          0,
          null,
          null,
          null,
          null,
          null,
          null,
          null,
          null,
          null,
          null,
          null,
          null,
          null,
          null,
          null,
          null,
          null,
          null,
          null,
          null,
          null,
          null,
          null,
          null,
          null,
          null,
          null,
          null,
          null,
          null,
          null,
          null,
          null,
          null,
          null,
          null,
          null,
          null,
          null,
          null,
          null,
          null,
          null,
          null,
          null,
          null,
          null,
          null,
          null,
          null,
          null,
          null,
          0,
          0,
          -0.2956638316274508,
          0,
          0,
          0,
          0,
          0,
          0,
          0,
          0,
          0,
          0,
          -0.07979283772743107,
          -0.04136991581723131,
          0,
          -0.019732846250172985,
          0,
          -0.3084154400467837,
          -0.12134330621357789,
          -0.22544340032107404,
          -0.220904298377712,
          -0.17376771735982496,
          -0.21340959543406396,
          -0.08188575206165807,
          -0.17826189160068215,
          -0.07675175920034641,
          0,
          0,
          -0.015857879986233787,
          -0.010647827522059767,
          -0.029559360447036682,
          -0.037255005754654055,
          -0.019087640352563256,
          0,
          0,
          -0.0744799111609865,
          -0.13147983369050442,
          -0.14368218937386007,
          -0.09066996402094375,
          -0.023014307880236597,
          -0.055765737628737974,
          -0.05948559833054242,
          -0.10362077514384928,
          -0.17204892928711019,
          -0.1121997888203533,
          -0.1785015118358593,
          -0.18176282162590962,
          -0.17069209247072248,
          -0.16229206231879245,
          -0.3304314617959653,
          -0.44545689058113674,
          -0.3754538904874094,
          -0.3480627908119397,
          -0.3843014375245973,
          -0.38833245777366054,
          -0.41241753081485094,
          -0.46026734168583006,
          -0.49416758781430664,
          -0.4641685088651511,
          -0.47663045454034236,
          -0.48602273404361557,
          -0.40479510916195505,
          -0.4440546400346393,
          -0.4160652638276498,
          -0.38190635688851277,
          -0.3038218034918975,
          -0.15306889379007282,
          -0.1389278015770869,
          -0.16232121537828578,
          -0.1137351445707319,
          -0.04316151108554986,
          -0.07948180959429615,
          0,
          -0.04737030319318519,
          0,
          -0.02776246362124096,
          0,
          -0.008092850056400713,
          -0.018753971813374612,
          0,
          -0.006932948712598003,
          -0.05776310510125803,
          -0.028198856032230404,
          0,
          -0.008472400204419108,
          -0.08382468457912133,
          -0.07324640733691865,
          -0.06521320222484793,
          -0.01592862352850178,
          -0.08640429598174773,
          -0.06481465791165397,
          -0.04043391326901684,
          0,
          -0.06871897734564125,
          -0.06582861655397339,
          -0.054918355461231305,
          -0.059837283450966165,
          -0.05420162874488113,
          0,
          -0.052979838719800436,
          -0.059629487815126996,
          -0.03484123683199228,
          0,
          0,
          -0.006913047847023979,
          0,
          0,
          -0.007006038350533025,
          -0.061353270172434596,
          -0.07741261329444894,
          -0.09284248698248034,
          -0.08006945000920652,
          -0.0669301884562487,
          -0.003169323324713311,
          -0.034640383006858504,
          -0.024600563286367914,
          -0.006399617078902627,
          0,
          0,
          -0.006452108846657537,
          -0.0033749415321309086,
          -0.0001311885570528065,
          0,
          0,
          -0.0069059858611240765,
          0,
          -0.012562715940354928,
          -0.038124163529581756,
          -0.008730504943753178,
          -0.005158825604601429,
          -0.03841910905536188,
          -0.08814090627668522,
          -0.08042515693257572,
          -0.10599551477918343,
          -0.1252311064661581,
          -0.13154260991789596,
          -0.1511398406739275,
          -0.1507513641230574,
          -0.1685653695964106,
          -0.15447393093451556,
          -0.12727833147053944,
          -0.12136661579461247,
          -0.14523543461034383,
          -0.12708476013053846,
          -0.13577231443242205,
          -0.19096767742777188,
          -0.25584118058456373,
          -0.2633723755557223,
          -0.21812128663690233,
          -0.18545713675335368,
          -0.18834085885491045,
          -0.21368120400946997,
          -0.18707613585507055,
          -0.18548653526722847,
          -0.16075801000125903,
          -0.12761670783170254,
          -0.15740695290326262,
          -0.15853556771998573,
          -0.16431624392208652,
          -0.165113045022307,
          -0.14687124048496875,
          -0.1734229004499112,
          -0.1792934261935134,
          -0.19661059144688162,
          -0.1755562401573701,
          -0.17957375249460839,
          -0.18280038611827157,
          -0.15857254262038017,
          -0.10126635565778243,
          -0.09303301106302317,
          -0.11774227523369352,
          -0.15083955966468868,
          -0.16033896113015458,
          -0.15386163085241628,
          -0.11216765540289539,
          -0.054287050290777315,
          -0.049456090144916316,
          -0.02547335875727026,
          0,
          0,
          -0.006502363923296933,
          -0.00781731098351337,
          -0.022407092221908845,
          -0.0032306967743133365,
          -0.00024034029646985785,
          -0.01481266584706802,
          -0.03735709538124589,
          -0.02982450926676016,
          -0.024256241033524792,
          0,
          0,
          -0.009357799537869905,
          0,
          0,
          0
         ]
        }
       ],
       "layout": {
        "legend": {
         "font": {
          "size": 11
         },
         "traceorder": "normal",
         "x": 0,
         "y": 1
        },
        "template": {
         "data": {
          "bar": [
           {
            "error_x": {
             "color": "#2a3f5f"
            },
            "error_y": {
             "color": "#2a3f5f"
            },
            "marker": {
             "line": {
              "color": "#E5ECF6",
              "width": 0.5
             },
             "pattern": {
              "fillmode": "overlay",
              "size": 10,
              "solidity": 0.2
             }
            },
            "type": "bar"
           }
          ],
          "barpolar": [
           {
            "marker": {
             "line": {
              "color": "#E5ECF6",
              "width": 0.5
             },
             "pattern": {
              "fillmode": "overlay",
              "size": 10,
              "solidity": 0.2
             }
            },
            "type": "barpolar"
           }
          ],
          "carpet": [
           {
            "aaxis": {
             "endlinecolor": "#2a3f5f",
             "gridcolor": "white",
             "linecolor": "white",
             "minorgridcolor": "white",
             "startlinecolor": "#2a3f5f"
            },
            "baxis": {
             "endlinecolor": "#2a3f5f",
             "gridcolor": "white",
             "linecolor": "white",
             "minorgridcolor": "white",
             "startlinecolor": "#2a3f5f"
            },
            "type": "carpet"
           }
          ],
          "choropleth": [
           {
            "colorbar": {
             "outlinewidth": 0,
             "ticks": ""
            },
            "type": "choropleth"
           }
          ],
          "contour": [
           {
            "colorbar": {
             "outlinewidth": 0,
             "ticks": ""
            },
            "colorscale": [
             [
              0,
              "#0d0887"
             ],
             [
              0.1111111111111111,
              "#46039f"
             ],
             [
              0.2222222222222222,
              "#7201a8"
             ],
             [
              0.3333333333333333,
              "#9c179e"
             ],
             [
              0.4444444444444444,
              "#bd3786"
             ],
             [
              0.5555555555555556,
              "#d8576b"
             ],
             [
              0.6666666666666666,
              "#ed7953"
             ],
             [
              0.7777777777777778,
              "#fb9f3a"
             ],
             [
              0.8888888888888888,
              "#fdca26"
             ],
             [
              1,
              "#f0f921"
             ]
            ],
            "type": "contour"
           }
          ],
          "contourcarpet": [
           {
            "colorbar": {
             "outlinewidth": 0,
             "ticks": ""
            },
            "type": "contourcarpet"
           }
          ],
          "heatmap": [
           {
            "colorbar": {
             "outlinewidth": 0,
             "ticks": ""
            },
            "colorscale": [
             [
              0,
              "#0d0887"
             ],
             [
              0.1111111111111111,
              "#46039f"
             ],
             [
              0.2222222222222222,
              "#7201a8"
             ],
             [
              0.3333333333333333,
              "#9c179e"
             ],
             [
              0.4444444444444444,
              "#bd3786"
             ],
             [
              0.5555555555555556,
              "#d8576b"
             ],
             [
              0.6666666666666666,
              "#ed7953"
             ],
             [
              0.7777777777777778,
              "#fb9f3a"
             ],
             [
              0.8888888888888888,
              "#fdca26"
             ],
             [
              1,
              "#f0f921"
             ]
            ],
            "type": "heatmap"
           }
          ],
          "heatmapgl": [
           {
            "colorbar": {
             "outlinewidth": 0,
             "ticks": ""
            },
            "colorscale": [
             [
              0,
              "#0d0887"
             ],
             [
              0.1111111111111111,
              "#46039f"
             ],
             [
              0.2222222222222222,
              "#7201a8"
             ],
             [
              0.3333333333333333,
              "#9c179e"
             ],
             [
              0.4444444444444444,
              "#bd3786"
             ],
             [
              0.5555555555555556,
              "#d8576b"
             ],
             [
              0.6666666666666666,
              "#ed7953"
             ],
             [
              0.7777777777777778,
              "#fb9f3a"
             ],
             [
              0.8888888888888888,
              "#fdca26"
             ],
             [
              1,
              "#f0f921"
             ]
            ],
            "type": "heatmapgl"
           }
          ],
          "histogram": [
           {
            "marker": {
             "pattern": {
              "fillmode": "overlay",
              "size": 10,
              "solidity": 0.2
             }
            },
            "type": "histogram"
           }
          ],
          "histogram2d": [
           {
            "colorbar": {
             "outlinewidth": 0,
             "ticks": ""
            },
            "colorscale": [
             [
              0,
              "#0d0887"
             ],
             [
              0.1111111111111111,
              "#46039f"
             ],
             [
              0.2222222222222222,
              "#7201a8"
             ],
             [
              0.3333333333333333,
              "#9c179e"
             ],
             [
              0.4444444444444444,
              "#bd3786"
             ],
             [
              0.5555555555555556,
              "#d8576b"
             ],
             [
              0.6666666666666666,
              "#ed7953"
             ],
             [
              0.7777777777777778,
              "#fb9f3a"
             ],
             [
              0.8888888888888888,
              "#fdca26"
             ],
             [
              1,
              "#f0f921"
             ]
            ],
            "type": "histogram2d"
           }
          ],
          "histogram2dcontour": [
           {
            "colorbar": {
             "outlinewidth": 0,
             "ticks": ""
            },
            "colorscale": [
             [
              0,
              "#0d0887"
             ],
             [
              0.1111111111111111,
              "#46039f"
             ],
             [
              0.2222222222222222,
              "#7201a8"
             ],
             [
              0.3333333333333333,
              "#9c179e"
             ],
             [
              0.4444444444444444,
              "#bd3786"
             ],
             [
              0.5555555555555556,
              "#d8576b"
             ],
             [
              0.6666666666666666,
              "#ed7953"
             ],
             [
              0.7777777777777778,
              "#fb9f3a"
             ],
             [
              0.8888888888888888,
              "#fdca26"
             ],
             [
              1,
              "#f0f921"
             ]
            ],
            "type": "histogram2dcontour"
           }
          ],
          "mesh3d": [
           {
            "colorbar": {
             "outlinewidth": 0,
             "ticks": ""
            },
            "type": "mesh3d"
           }
          ],
          "parcoords": [
           {
            "line": {
             "colorbar": {
              "outlinewidth": 0,
              "ticks": ""
             }
            },
            "type": "parcoords"
           }
          ],
          "pie": [
           {
            "automargin": true,
            "type": "pie"
           }
          ],
          "scatter": [
           {
            "fillpattern": {
             "fillmode": "overlay",
             "size": 10,
             "solidity": 0.2
            },
            "type": "scatter"
           }
          ],
          "scatter3d": [
           {
            "line": {
             "colorbar": {
              "outlinewidth": 0,
              "ticks": ""
             }
            },
            "marker": {
             "colorbar": {
              "outlinewidth": 0,
              "ticks": ""
             }
            },
            "type": "scatter3d"
           }
          ],
          "scattercarpet": [
           {
            "marker": {
             "colorbar": {
              "outlinewidth": 0,
              "ticks": ""
             }
            },
            "type": "scattercarpet"
           }
          ],
          "scattergeo": [
           {
            "marker": {
             "colorbar": {
              "outlinewidth": 0,
              "ticks": ""
             }
            },
            "type": "scattergeo"
           }
          ],
          "scattergl": [
           {
            "marker": {
             "colorbar": {
              "outlinewidth": 0,
              "ticks": ""
             }
            },
            "type": "scattergl"
           }
          ],
          "scattermapbox": [
           {
            "marker": {
             "colorbar": {
              "outlinewidth": 0,
              "ticks": ""
             }
            },
            "type": "scattermapbox"
           }
          ],
          "scatterpolar": [
           {
            "marker": {
             "colorbar": {
              "outlinewidth": 0,
              "ticks": ""
             }
            },
            "type": "scatterpolar"
           }
          ],
          "scatterpolargl": [
           {
            "marker": {
             "colorbar": {
              "outlinewidth": 0,
              "ticks": ""
             }
            },
            "type": "scatterpolargl"
           }
          ],
          "scatterternary": [
           {
            "marker": {
             "colorbar": {
              "outlinewidth": 0,
              "ticks": ""
             }
            },
            "type": "scatterternary"
           }
          ],
          "surface": [
           {
            "colorbar": {
             "outlinewidth": 0,
             "ticks": ""
            },
            "colorscale": [
             [
              0,
              "#0d0887"
             ],
             [
              0.1111111111111111,
              "#46039f"
             ],
             [
              0.2222222222222222,
              "#7201a8"
             ],
             [
              0.3333333333333333,
              "#9c179e"
             ],
             [
              0.4444444444444444,
              "#bd3786"
             ],
             [
              0.5555555555555556,
              "#d8576b"
             ],
             [
              0.6666666666666666,
              "#ed7953"
             ],
             [
              0.7777777777777778,
              "#fb9f3a"
             ],
             [
              0.8888888888888888,
              "#fdca26"
             ],
             [
              1,
              "#f0f921"
             ]
            ],
            "type": "surface"
           }
          ],
          "table": [
           {
            "cells": {
             "fill": {
              "color": "#EBF0F8"
             },
             "line": {
              "color": "white"
             }
            },
            "header": {
             "fill": {
              "color": "#C8D4E3"
             },
             "line": {
              "color": "white"
             }
            },
            "type": "table"
           }
          ]
         },
         "layout": {
          "annotationdefaults": {
           "arrowcolor": "#2a3f5f",
           "arrowhead": 0,
           "arrowwidth": 1
          },
          "autotypenumbers": "strict",
          "coloraxis": {
           "colorbar": {
            "outlinewidth": 0,
            "ticks": ""
           }
          },
          "colorscale": {
           "diverging": [
            [
             0,
             "#8e0152"
            ],
            [
             0.1,
             "#c51b7d"
            ],
            [
             0.2,
             "#de77ae"
            ],
            [
             0.3,
             "#f1b6da"
            ],
            [
             0.4,
             "#fde0ef"
            ],
            [
             0.5,
             "#f7f7f7"
            ],
            [
             0.6,
             "#e6f5d0"
            ],
            [
             0.7,
             "#b8e186"
            ],
            [
             0.8,
             "#7fbc41"
            ],
            [
             0.9,
             "#4d9221"
            ],
            [
             1,
             "#276419"
            ]
           ],
           "sequential": [
            [
             0,
             "#0d0887"
            ],
            [
             0.1111111111111111,
             "#46039f"
            ],
            [
             0.2222222222222222,
             "#7201a8"
            ],
            [
             0.3333333333333333,
             "#9c179e"
            ],
            [
             0.4444444444444444,
             "#bd3786"
            ],
            [
             0.5555555555555556,
             "#d8576b"
            ],
            [
             0.6666666666666666,
             "#ed7953"
            ],
            [
             0.7777777777777778,
             "#fb9f3a"
            ],
            [
             0.8888888888888888,
             "#fdca26"
            ],
            [
             1,
             "#f0f921"
            ]
           ],
           "sequentialminus": [
            [
             0,
             "#0d0887"
            ],
            [
             0.1111111111111111,
             "#46039f"
            ],
            [
             0.2222222222222222,
             "#7201a8"
            ],
            [
             0.3333333333333333,
             "#9c179e"
            ],
            [
             0.4444444444444444,
             "#bd3786"
            ],
            [
             0.5555555555555556,
             "#d8576b"
            ],
            [
             0.6666666666666666,
             "#ed7953"
            ],
            [
             0.7777777777777778,
             "#fb9f3a"
            ],
            [
             0.8888888888888888,
             "#fdca26"
            ],
            [
             1,
             "#f0f921"
            ]
           ]
          },
          "colorway": [
           "#636efa",
           "#EF553B",
           "#00cc96",
           "#ab63fa",
           "#FFA15A",
           "#19d3f3",
           "#FF6692",
           "#B6E880",
           "#FF97FF",
           "#FECB52"
          ],
          "font": {
           "color": "#2a3f5f"
          },
          "geo": {
           "bgcolor": "white",
           "lakecolor": "white",
           "landcolor": "#E5ECF6",
           "showlakes": true,
           "showland": true,
           "subunitcolor": "white"
          },
          "hoverlabel": {
           "align": "left"
          },
          "hovermode": "closest",
          "mapbox": {
           "style": "light"
          },
          "paper_bgcolor": "white",
          "plot_bgcolor": "#E5ECF6",
          "polar": {
           "angularaxis": {
            "gridcolor": "white",
            "linecolor": "white",
            "ticks": ""
           },
           "bgcolor": "#E5ECF6",
           "radialaxis": {
            "gridcolor": "white",
            "linecolor": "white",
            "ticks": ""
           }
          },
          "scene": {
           "xaxis": {
            "backgroundcolor": "#E5ECF6",
            "gridcolor": "white",
            "gridwidth": 2,
            "linecolor": "white",
            "showbackground": true,
            "ticks": "",
            "zerolinecolor": "white"
           },
           "yaxis": {
            "backgroundcolor": "#E5ECF6",
            "gridcolor": "white",
            "gridwidth": 2,
            "linecolor": "white",
            "showbackground": true,
            "ticks": "",
            "zerolinecolor": "white"
           },
           "zaxis": {
            "backgroundcolor": "#E5ECF6",
            "gridcolor": "white",
            "gridwidth": 2,
            "linecolor": "white",
            "showbackground": true,
            "ticks": "",
            "zerolinecolor": "white"
           }
          },
          "shapedefaults": {
           "line": {
            "color": "#2a3f5f"
           }
          },
          "ternary": {
           "aaxis": {
            "gridcolor": "white",
            "linecolor": "white",
            "ticks": ""
           },
           "baxis": {
            "gridcolor": "white",
            "linecolor": "white",
            "ticks": ""
           },
           "bgcolor": "#E5ECF6",
           "caxis": {
            "gridcolor": "white",
            "linecolor": "white",
            "ticks": ""
           }
          },
          "title": {
           "x": 0.05
          },
          "xaxis": {
           "automargin": true,
           "gridcolor": "white",
           "linecolor": "white",
           "ticks": "",
           "title": {
            "standoff": 15
           },
           "zerolinecolor": "white",
           "zerolinewidth": 2
          },
          "yaxis": {
           "automargin": true,
           "gridcolor": "white",
           "linecolor": "white",
           "ticks": "",
           "title": {
            "standoff": 15
           },
           "zerolinecolor": "white",
           "zerolinewidth": 2
          }
         }
        },
        "title": {
         "text": "Equal-Weighted Portfolio Drawdown Comparison"
        },
        "xaxis": {
         "title": {
          "text": "Date"
         }
        },
        "yaxis": {
         "title": {
          "text": "Maximum Drawdown"
         }
        }
       }
      }
     },
     "metadata": {},
     "output_type": "display_data"
    }
   ],
   "source": [
    "# Create traces\n",
    "portfolio_trace = go.Scatter(x=portfolio_returns_equal_weighted.index, y=maximum_drawdown(portfolio_returns_equal_weighted), mode='lines', name='Equal-Weighted Portfolio Drawdown', line=dict(color='blue'))\n",
    "masi_trace = go.Scatter(x=benchmark_cumulative_returns.index, y=maximum_drawdown(benchmark_cumulative_returns), mode='lines', name='MASI Index Drawdown', line=dict(dash='dash', color='red'))\n",
    "\n",
    "# Layout\n",
    "layout = go.Layout(\n",
    "    title='Equal-Weighted Portfolio Drawdown Comparison',\n",
    "    xaxis=dict(title='Date'),\n",
    "    yaxis=dict(title='Maximum Drawdown'),\n",
    "    legend=dict(x=0, y=1, traceorder='normal', font=dict(size=11))\n",
    ")\n",
    "\n",
    "# Create figure\n",
    "fig = go.Figure(data=[portfolio_trace, masi_trace], layout=layout)\n",
    "\n",
    "# Show plot\n",
    "fig.show()"
   ]
  },
  {
   "cell_type": "markdown",
   "metadata": {
    "slideshow": {
     "slide_type": "notes"
    }
   },
   "source": [
    "Drawdown measures the decline from the portfolio's peak value to its lowest point before a recovery. The equal-weighted portfolio demonstrates better resilience, with shallower drawdowns compared to the MASI Index. The MASI Index shows periods of more severe drawdowns, particularly in mid-2021, where it experiences a significant drop of nearly 50%. In contrast, the equal-weighted portfolio’s largest drawdown is around 30%, indicating that it was less volatile and more stable during downturns. This drawdown comparison highlights the risk reduction benefits of the equal-weighted strategy relative to the market index."
   ]
  },
  {
   "cell_type": "markdown",
   "metadata": {
    "id": "fh_DfgHiU5LI",
    "slideshow": {
     "slide_type": "slide"
    }
   },
   "source": [
    "# Market-Cap Weighted Portfolio"
   ]
  },
  {
   "cell_type": "markdown",
   "metadata": {
    "slideshow": {
     "slide_type": "fragment"
    }
   },
   "source": [
    "In this section, we construct a market-cap weighted portfolio, where the weight of each stock is proportional to its market capitalization. This strategy reflects the relative size of each company in the market, with larger companies receiving higher allocations in the portfolio. We begin by extracting the market capitalization data, calculate the total market value, and then assign weights accordingly. Finally, we calculate the cumulative returns of the market-cap weighted portfolio over the testing period to evaluate its performance."
   ]
  },
  {
   "cell_type": "markdown",
   "metadata": {},
   "source": [
    "## Building the Market-Cap Weighted Portfolio"
   ]
  },
  {
   "cell_type": "code",
   "execution_count": 16,
   "metadata": {
    "colab": {
     "base_uri": "https://localhost:8080/"
    },
    "id": "GYnSHHflU5LJ",
    "outputId": "79be60fe-d3d5-4ffa-e855-336ca093f069",
    "slideshow": {
     "slide_type": "subslide"
    }
   },
   "outputs": [
    {
     "name": "stdout",
     "output_type": "stream",
     "text": [
      "The cumulative return for the market cap weighted portfolio over the entire testing period : 8.86%\n"
     ]
    }
   ],
   "source": [
    "# Step 1: Extract market capitalization for each stock from the companies DataFrame\n",
    "market_cap = companies.set_index(\"Instrument\")[\"Share Capital\"]\n",
    "\n",
    "# Step 2: Calculate the total market capitalization across all stocks\n",
    "total_market_cap = market_cap.sum()\n",
    "\n",
    "# Step 3: Calculate the portfolio weights for each stock based on their proportion of total market capitalization\n",
    "weights = market_cap / total_market_cap\n",
    "\n",
    "# Step 4: Calculate the cumulative returns of the market cap-weighted portfolio\n",
    "portfolio_returns_market_cap_weighted = cumulative_returns(weights, test)\n",
    "\n",
    "print(f\"The cumulative return for the market cap weighted portfolio over the entire testing period : {portfolio_returns_market_cap_weighted[-1] * 100 :.2f}%\")"
   ]
  },
  {
   "cell_type": "markdown",
   "metadata": {},
   "source": [
    "## Backtesting the Market-Cap Weighted Portfolio"
   ]
  },
  {
   "cell_type": "code",
   "execution_count": 17,
   "metadata": {
    "slideshow": {
     "slide_type": "subslide"
    },
    "tags": [
     "to_remove"
    ]
   },
   "outputs": [
    {
     "data": {
      "application/vnd.plotly.v1+json": {
       "config": {
        "plotlyServerURL": "https://plot.ly"
       },
       "data": [
        {
         "line": {
          "color": "green"
         },
         "mode": "lines",
         "name": "Market-Cap Portfolio",
         "type": "scatter",
         "x": [
          "2021-02-08T00:00:00",
          "2021-02-09T00:00:00",
          "2021-02-10T00:00:00",
          "2021-02-11T00:00:00",
          "2021-02-12T00:00:00",
          "2021-02-15T00:00:00",
          "2021-02-16T00:00:00",
          "2021-02-17T00:00:00",
          "2021-02-18T00:00:00",
          "2021-02-19T00:00:00",
          "2021-02-22T00:00:00",
          "2021-02-23T00:00:00",
          "2021-02-24T00:00:00",
          "2021-02-25T00:00:00",
          "2021-02-26T00:00:00",
          "2021-03-01T00:00:00",
          "2021-03-02T00:00:00",
          "2021-03-03T00:00:00",
          "2021-03-04T00:00:00",
          "2021-03-05T00:00:00",
          "2021-03-08T00:00:00",
          "2021-03-09T00:00:00",
          "2021-03-10T00:00:00",
          "2021-03-11T00:00:00",
          "2021-03-12T00:00:00",
          "2021-03-15T00:00:00",
          "2021-03-16T00:00:00",
          "2021-03-17T00:00:00",
          "2021-03-18T00:00:00",
          "2021-03-19T00:00:00",
          "2021-03-22T00:00:00",
          "2021-03-23T00:00:00",
          "2021-03-24T00:00:00",
          "2021-03-25T00:00:00",
          "2021-03-26T00:00:00",
          "2021-03-29T00:00:00",
          "2021-03-30T00:00:00",
          "2021-03-31T00:00:00",
          "2021-04-01T00:00:00",
          "2021-04-02T00:00:00",
          "2021-04-05T00:00:00",
          "2021-04-06T00:00:00",
          "2021-04-07T00:00:00",
          "2021-04-08T00:00:00",
          "2021-04-09T00:00:00",
          "2021-04-12T00:00:00",
          "2021-04-13T00:00:00",
          "2021-04-14T00:00:00",
          "2021-04-15T00:00:00",
          "2021-04-16T00:00:00",
          "2021-04-19T00:00:00",
          "2021-04-20T00:00:00",
          "2021-04-21T00:00:00",
          "2021-04-22T00:00:00",
          "2021-04-23T00:00:00",
          "2021-04-26T00:00:00",
          "2021-04-27T00:00:00",
          "2021-04-28T00:00:00",
          "2021-04-29T00:00:00",
          "2021-04-30T00:00:00",
          "2021-05-03T00:00:00",
          "2021-05-04T00:00:00",
          "2021-05-05T00:00:00",
          "2021-05-06T00:00:00",
          "2021-05-07T00:00:00",
          "2021-05-10T00:00:00",
          "2021-05-11T00:00:00",
          "2021-05-12T00:00:00",
          "2021-05-17T00:00:00",
          "2021-05-18T00:00:00",
          "2021-05-19T00:00:00",
          "2021-05-20T00:00:00",
          "2021-05-21T00:00:00",
          "2021-05-24T00:00:00",
          "2021-05-25T00:00:00",
          "2021-05-26T00:00:00",
          "2021-05-27T00:00:00",
          "2021-05-28T00:00:00",
          "2021-05-31T00:00:00",
          "2021-06-01T00:00:00",
          "2021-06-02T00:00:00",
          "2021-06-03T00:00:00",
          "2021-06-04T00:00:00",
          "2021-06-07T00:00:00",
          "2021-06-08T00:00:00",
          "2021-06-09T00:00:00",
          "2021-06-10T00:00:00",
          "2021-06-11T00:00:00",
          "2021-06-14T00:00:00",
          "2021-06-15T00:00:00",
          "2021-06-16T00:00:00",
          "2021-06-17T00:00:00",
          "2021-06-18T00:00:00",
          "2021-06-21T00:00:00",
          "2021-06-22T00:00:00",
          "2021-06-23T00:00:00",
          "2021-06-24T00:00:00",
          "2021-06-25T00:00:00",
          "2021-06-28T00:00:00",
          "2021-06-29T00:00:00",
          "2021-06-30T00:00:00",
          "2021-07-01T00:00:00",
          "2021-07-02T00:00:00",
          "2021-07-05T00:00:00",
          "2021-07-06T00:00:00",
          "2021-07-07T00:00:00",
          "2021-07-08T00:00:00",
          "2021-07-09T00:00:00",
          "2021-07-12T00:00:00",
          "2021-07-13T00:00:00",
          "2021-07-14T00:00:00",
          "2021-07-15T00:00:00",
          "2021-07-16T00:00:00",
          "2021-07-19T00:00:00",
          "2021-07-20T00:00:00",
          "2021-07-23T00:00:00",
          "2021-07-26T00:00:00",
          "2021-07-27T00:00:00",
          "2021-07-28T00:00:00",
          "2021-07-29T00:00:00",
          "2021-08-02T00:00:00",
          "2021-08-03T00:00:00",
          "2021-08-04T00:00:00",
          "2021-08-05T00:00:00",
          "2021-08-06T00:00:00",
          "2021-08-09T00:00:00",
          "2021-08-11T00:00:00",
          "2021-08-12T00:00:00",
          "2021-08-13T00:00:00",
          "2021-08-16T00:00:00",
          "2021-08-17T00:00:00",
          "2021-08-18T00:00:00",
          "2021-08-19T00:00:00",
          "2021-08-23T00:00:00",
          "2021-08-24T00:00:00",
          "2021-08-25T00:00:00",
          "2021-08-26T00:00:00",
          "2021-08-27T00:00:00",
          "2021-08-30T00:00:00",
          "2021-08-31T00:00:00",
          "2021-09-01T00:00:00",
          "2021-09-02T00:00:00",
          "2021-09-03T00:00:00",
          "2021-09-06T00:00:00",
          "2021-09-07T00:00:00",
          "2021-09-08T00:00:00",
          "2021-09-09T00:00:00",
          "2021-09-10T00:00:00",
          "2021-09-13T00:00:00",
          "2021-09-14T00:00:00",
          "2021-09-15T00:00:00",
          "2021-09-16T00:00:00",
          "2021-09-17T00:00:00",
          "2021-09-20T00:00:00",
          "2021-09-21T00:00:00",
          "2021-09-22T00:00:00",
          "2021-09-23T00:00:00",
          "2021-09-24T00:00:00",
          "2021-09-27T00:00:00",
          "2021-09-28T00:00:00",
          "2021-09-29T00:00:00",
          "2021-09-30T00:00:00",
          "2021-10-01T00:00:00",
          "2021-10-04T00:00:00",
          "2021-10-05T00:00:00",
          "2021-10-06T00:00:00",
          "2021-10-07T00:00:00",
          "2021-10-08T00:00:00",
          "2021-10-11T00:00:00",
          "2021-10-12T00:00:00",
          "2021-10-13T00:00:00",
          "2021-10-14T00:00:00",
          "2021-10-15T00:00:00",
          "2021-10-18T00:00:00",
          "2021-10-21T00:00:00",
          "2021-10-22T00:00:00",
          "2021-10-25T00:00:00",
          "2021-10-26T00:00:00",
          "2021-10-27T00:00:00",
          "2021-10-28T00:00:00",
          "2021-10-29T00:00:00",
          "2021-11-01T00:00:00",
          "2021-11-02T00:00:00",
          "2021-11-03T00:00:00",
          "2021-11-04T00:00:00",
          "2021-11-05T00:00:00",
          "2021-11-08T00:00:00",
          "2021-11-09T00:00:00",
          "2021-11-10T00:00:00",
          "2021-11-11T00:00:00",
          "2021-11-12T00:00:00",
          "2021-11-15T00:00:00",
          "2021-11-16T00:00:00",
          "2021-11-17T00:00:00",
          "2021-11-19T00:00:00",
          "2021-11-22T00:00:00",
          "2021-11-23T00:00:00",
          "2021-11-24T00:00:00",
          "2021-11-25T00:00:00",
          "2021-11-26T00:00:00",
          "2021-11-29T00:00:00",
          "2021-11-30T00:00:00",
          "2021-12-01T00:00:00",
          "2021-12-02T00:00:00",
          "2021-12-03T00:00:00",
          "2021-12-06T00:00:00",
          "2021-12-07T00:00:00",
          "2021-12-08T00:00:00",
          "2021-12-09T00:00:00",
          "2021-12-10T00:00:00",
          "2021-12-13T00:00:00",
          "2021-12-14T00:00:00",
          "2021-12-15T00:00:00",
          "2021-12-16T00:00:00",
          "2021-12-17T00:00:00",
          "2021-12-20T00:00:00",
          "2021-12-21T00:00:00",
          "2021-12-22T00:00:00",
          "2021-12-23T00:00:00",
          "2021-12-24T00:00:00",
          "2021-12-27T00:00:00",
          "2021-12-28T00:00:00",
          "2021-12-29T00:00:00",
          "2021-12-30T00:00:00",
          "2021-12-31T00:00:00",
          "2022-01-03T00:00:00",
          "2022-01-04T00:00:00",
          "2022-01-05T00:00:00",
          "2022-01-06T00:00:00",
          "2022-01-07T00:00:00",
          "2022-01-10T00:00:00",
          "2022-01-12T00:00:00",
          "2022-01-13T00:00:00",
          "2022-01-14T00:00:00",
          "2022-01-17T00:00:00",
          "2022-01-18T00:00:00",
          "2022-01-19T00:00:00",
          "2022-01-20T00:00:00",
          "2022-01-21T00:00:00",
          "2022-01-24T00:00:00",
          "2022-01-25T00:00:00",
          "2022-01-26T00:00:00",
          "2022-01-27T00:00:00",
          "2022-01-28T00:00:00",
          "2022-01-31T00:00:00",
          "2022-02-01T00:00:00",
          "2022-02-02T00:00:00",
          "2022-02-03T00:00:00",
          "2022-02-04T00:00:00"
         ],
         "y": [
          0,
          -0.007355157896288489,
          -0.014030539272416931,
          -0.010666913731401273,
          -0.01384466959047903,
          -0.014117268884396128,
          -0.011827295517101932,
          -0.012066321831994409,
          -0.009674907209634154,
          -0.02747920076742838,
          -0.031669761011591024,
          -0.040033857058867084,
          -0.04831209231746658,
          -0.041738026488222335,
          -0.0400668978026949,
          -0.03997039505088262,
          -0.03708963395872078,
          -0.03932797899494045,
          -0.03828731011199038,
          -0.036986334790683695,
          -0.0373042575238538,
          -0.03556443605301696,
          -0.03528064184354929,
          -0.034478936018016104,
          -0.03190294926948556,
          -0.03110821918001261,
          -0.02466142741991517,
          -0.020603557992127874,
          -0.026866089299168894,
          -0.02723289954777408,
          -0.02920699067249899,
          -0.030832903510981113,
          -0.02889553718827087,
          -0.02559285015731405,
          -0.02796203396043806,
          -0.025393132469245905,
          -0.023777620592695392,
          -0.026221497133672278,
          -0.020718986398637562,
          -0.018290532285648697,
          -0.02123521779756643,
          -0.023352893035716527,
          -0.026792104726864663,
          -0.02665373298701257,
          -0.022778247660895534,
          -0.020137376295907172,
          -0.021294347945982173,
          -0.019578520579396463,
          -0.019017094810773627,
          -0.017525411100916544,
          -0.018278542610156046,
          -0.016797568126442064,
          -0.017119026691552408,
          -0.016144743013193796,
          -0.021262221572280304,
          -0.020244728209133367,
          -0.01863239353378232,
          -0.013426105718991166,
          -0.012146790427026932,
          -0.00962448706797403,
          -0.00825508876482195,
          -0.0011832760023915423,
          0.003161018277976213,
          0.00559682362923164,
          0.006199583291531585,
          0.008586580752170558,
          0.0064667895769146,
          0.006843822787931719,
          0.016166275453482815,
          0.01590631615154403,
          0.017387078802096667,
          0.006497515142360744,
          0.012984883162617589,
          0.010169766381192824,
          0.010478314169108938,
          0.01303673015434037,
          0.012086957116186792,
          0.01674012852533835,
          0.01340674184399937,
          0.01596666502267774,
          0.022336559329424688,
          0.030174003128690785,
          0.028963642702583003,
          0.02630025593387031,
          0.0237910004434434,
          0.019263041051328367,
          0.022769432011129798,
          0.029124192256940518,
          0.033155698995608995,
          0.029306909872301556,
          0.025891053839234512,
          0.02580990013777984,
          0.027792118782035136,
          0.03019447793633212,
          0.026747173860823148,
          0.027352604915082512,
          0.02463451262757066,
          0.015224173708966893,
          0.019834695028243754,
          0.016945340665237563,
          0.015346166980799714,
          0.0158013548714806,
          0.01347719655552404,
          0.003288740373873722,
          -0.003010505194239732,
          0.0006635759206630176,
          0.003473127027148415,
          0.0029450926046923342,
          0.004245556996846922,
          0.003926168063466351,
          0.002832067662431159,
          0.00023790425966629947,
          0.0024778544480665854,
          0.0006876216482598618,
          -0.0003950962549895687,
          0.0023347424567390362,
          -0.00011713085618036967,
          0.0031937717785603947,
          0.005115666849162537,
          0.009114481669394436,
          0.01967336517048146,
          0.019857062148028515,
          0.019613765239052894,
          0.02151762376275146,
          0.025026810447593695,
          0.022713926906011705,
          0.028280132135193092,
          0.024837709349980086,
          0.03097602977072622,
          0.029550832525889303,
          0.034484999194582144,
          0.033249229351082654,
          0.03235889875160569,
          0.03963539276388839,
          0.039499598225963384,
          0.03447253851467247,
          0.038690793355866226,
          0.0449474375073835,
          0.04401323439916238,
          0.041698069901149104,
          0.04119805924504183,
          0.04183042970724382,
          0.047457913433607724,
          0.03450142291682834,
          0.03941453437491882,
          0.04383217699839537,
          0.06187481069043521,
          0.05131195719216941,
          0.05061215502339178,
          0.05340997071915132,
          0.052069410734930655,
          0.05268671229825528,
          0.06004635246989598,
          0.05416065995012098,
          0.054378621925231796,
          0.05717542204040105,
          0.06260746549140461,
          0.06838244604394816,
          0.06543128928059105,
          0.06906338991297245,
          0.0697529737046807,
          0.06522451189945677,
          0.06280235849367632,
          0.06163331450397225,
          0.06050271469167323,
          0.059786571203976235,
          0.06074604510552328,
          0.06635297929516226,
          0.06376461543373924,
          0.06618868516187981,
          0.06741409761313433,
          0.07419381762566091,
          0.0770438653425356,
          0.07632444753007905,
          0.07707883869032717,
          0.07837984928456043,
          0.08083044542274354,
          0.089525477258805,
          0.09396608979263021,
          0.09268625550035603,
          0.08743170680011736,
          0.0857504659233308,
          0.09015580988693372,
          0.09303720356230327,
          0.08772492352461092,
          0.08116051455864515,
          0.08136536476117384,
          0.07890521355056346,
          0.0772555885461057,
          0.07700408181933471,
          0.07326016382248657,
          0.07416928780145304,
          0.07251315987662421,
          0.07435036241886128,
          0.07733665696284886,
          0.07971173747482307,
          0.07699970081024765,
          0.07789266857135813,
          0.07633728389610317,
          0.06949486781612224,
          0.059465230154386095,
          0.0593289494081608,
          0.06514369794000219,
          0.06994996062769454,
          0.07122492205600062,
          0.0662090503041608,
          0.07008908601880304,
          0.06996682017231959,
          0.07130859923547184,
          0.07796994462133777,
          0.0742002087488729,
          0.0737712982070089,
          0.07142994531278135,
          0.06987679795655599,
          0.0676882793139546,
          0.06091713460543602,
          0.057844653798790446,
          0.05540598594103163,
          0.05692873854651426,
          0.056198075391579394,
          0.056820847926308815,
          0.05818605926238907,
          0.06658829983063042,
          0.06842725819928286,
          0.06666393929181247,
          0.06297331920496907,
          0.06212599603570523,
          0.06238919005196997,
          0.06743773305359468,
          0.07701152068732853,
          0.07792628481959918,
          0.08214787337542884,
          0.083399218272042,
          0.0924079680389267,
          0.09016038364848655,
          0.09065734138114778,
          0.08936495797112087,
          0.0892569896880131,
          0.08766505998506391,
          0.08462260387349407,
          0.08028941023134006,
          0.08148074547637418,
          0.08364761894163886,
          0.08281252304491726,
          0.08595254458688228,
          0.08674113230943092,
          0.08742158559466806,
          0.09042910091020606,
          0.08860463550825282
         ]
        },
        {
         "line": {
          "dash": "dash"
         },
         "mode": "lines",
         "name": "MASI Index",
         "type": "scatter",
         "x": [
          "2021-02-08T00:00:00",
          "2021-02-09T00:00:00",
          "2021-02-10T00:00:00",
          "2021-02-11T00:00:00",
          "2021-02-12T00:00:00",
          "2021-02-15T00:00:00",
          "2021-02-16T00:00:00",
          "2021-02-17T00:00:00",
          "2021-02-18T00:00:00",
          "2021-02-19T00:00:00",
          "2021-02-22T00:00:00",
          "2021-02-23T00:00:00",
          "2021-02-24T00:00:00",
          "2021-02-25T00:00:00",
          "2021-02-26T00:00:00",
          "2021-03-01T00:00:00",
          "2021-03-02T00:00:00",
          "2021-03-03T00:00:00",
          "2021-03-04T00:00:00",
          "2021-03-05T00:00:00",
          "2021-03-08T00:00:00",
          "2021-03-09T00:00:00",
          "2021-03-10T00:00:00",
          "2021-03-11T00:00:00",
          "2021-03-12T00:00:00",
          "2021-03-15T00:00:00",
          "2021-03-16T00:00:00",
          "2021-03-17T00:00:00",
          "2021-03-18T00:00:00",
          "2021-03-19T00:00:00",
          "2021-03-22T00:00:00",
          "2021-03-23T00:00:00",
          "2021-03-24T00:00:00",
          "2021-03-25T00:00:00",
          "2021-03-26T00:00:00",
          "2021-03-29T00:00:00",
          "2021-03-30T00:00:00",
          "2021-03-31T00:00:00",
          "2021-04-01T00:00:00",
          "2021-04-02T00:00:00",
          "2021-04-05T00:00:00",
          "2021-04-06T00:00:00",
          "2021-04-07T00:00:00",
          "2021-04-08T00:00:00",
          "2021-04-09T00:00:00",
          "2021-04-12T00:00:00",
          "2021-04-13T00:00:00",
          "2021-04-14T00:00:00",
          "2021-04-15T00:00:00",
          "2021-04-16T00:00:00",
          "2021-04-19T00:00:00",
          "2021-04-20T00:00:00",
          "2021-04-21T00:00:00",
          "2021-04-22T00:00:00",
          "2021-04-23T00:00:00",
          "2021-04-26T00:00:00",
          "2021-04-27T00:00:00",
          "2021-04-28T00:00:00",
          "2021-04-29T00:00:00",
          "2021-04-30T00:00:00",
          "2021-05-03T00:00:00",
          "2021-05-04T00:00:00",
          "2021-05-05T00:00:00",
          "2021-05-06T00:00:00",
          "2021-05-07T00:00:00",
          "2021-05-10T00:00:00",
          "2021-05-11T00:00:00",
          "2021-05-12T00:00:00",
          "2021-05-17T00:00:00",
          "2021-05-18T00:00:00",
          "2021-05-19T00:00:00",
          "2021-05-20T00:00:00",
          "2021-05-21T00:00:00",
          "2021-05-24T00:00:00",
          "2021-05-25T00:00:00",
          "2021-05-26T00:00:00",
          "2021-05-27T00:00:00",
          "2021-05-28T00:00:00",
          "2021-05-31T00:00:00",
          "2021-06-01T00:00:00",
          "2021-06-02T00:00:00",
          "2021-06-03T00:00:00",
          "2021-06-04T00:00:00",
          "2021-06-07T00:00:00",
          "2021-06-08T00:00:00",
          "2021-06-09T00:00:00",
          "2021-06-10T00:00:00",
          "2021-06-11T00:00:00",
          "2021-06-14T00:00:00",
          "2021-06-15T00:00:00",
          "2021-06-16T00:00:00",
          "2021-06-17T00:00:00",
          "2021-06-18T00:00:00",
          "2021-06-21T00:00:00",
          "2021-06-22T00:00:00",
          "2021-06-23T00:00:00",
          "2021-06-24T00:00:00",
          "2021-06-25T00:00:00",
          "2021-06-28T00:00:00",
          "2021-06-29T00:00:00",
          "2021-06-30T00:00:00",
          "2021-07-01T00:00:00",
          "2021-07-02T00:00:00",
          "2021-07-05T00:00:00",
          "2021-07-06T00:00:00",
          "2021-07-07T00:00:00",
          "2021-07-08T00:00:00",
          "2021-07-09T00:00:00",
          "2021-07-12T00:00:00",
          "2021-07-13T00:00:00",
          "2021-07-14T00:00:00",
          "2021-07-15T00:00:00",
          "2021-07-16T00:00:00",
          "2021-07-19T00:00:00",
          "2021-07-20T00:00:00",
          "2021-07-23T00:00:00",
          "2021-07-26T00:00:00",
          "2021-07-27T00:00:00",
          "2021-07-28T00:00:00",
          "2021-07-29T00:00:00",
          "2021-08-02T00:00:00",
          "2021-08-03T00:00:00",
          "2021-08-04T00:00:00",
          "2021-08-05T00:00:00",
          "2021-08-06T00:00:00",
          "2021-08-09T00:00:00",
          "2021-08-11T00:00:00",
          "2021-08-12T00:00:00",
          "2021-08-13T00:00:00",
          "2021-08-16T00:00:00",
          "2021-08-17T00:00:00",
          "2021-08-18T00:00:00",
          "2021-08-19T00:00:00",
          "2021-08-23T00:00:00",
          "2021-08-24T00:00:00",
          "2021-08-25T00:00:00",
          "2021-08-26T00:00:00",
          "2021-08-27T00:00:00",
          "2021-08-30T00:00:00",
          "2021-08-31T00:00:00",
          "2021-09-01T00:00:00",
          "2021-09-02T00:00:00",
          "2021-09-03T00:00:00",
          "2021-09-06T00:00:00",
          "2021-09-07T00:00:00",
          "2021-09-08T00:00:00",
          "2021-09-09T00:00:00",
          "2021-09-10T00:00:00",
          "2021-09-13T00:00:00",
          "2021-09-14T00:00:00",
          "2021-09-15T00:00:00",
          "2021-09-16T00:00:00",
          "2021-09-17T00:00:00",
          "2021-09-20T00:00:00",
          "2021-09-21T00:00:00",
          "2021-09-22T00:00:00",
          "2021-09-23T00:00:00",
          "2021-09-24T00:00:00",
          "2021-09-27T00:00:00",
          "2021-09-28T00:00:00",
          "2021-09-29T00:00:00",
          "2021-09-30T00:00:00",
          "2021-10-01T00:00:00",
          "2021-10-04T00:00:00",
          "2021-10-05T00:00:00",
          "2021-10-06T00:00:00",
          "2021-10-07T00:00:00",
          "2021-10-08T00:00:00",
          "2021-10-11T00:00:00",
          "2021-10-12T00:00:00",
          "2021-10-13T00:00:00",
          "2021-10-14T00:00:00",
          "2021-10-15T00:00:00",
          "2021-10-18T00:00:00",
          "2021-10-21T00:00:00",
          "2021-10-22T00:00:00",
          "2021-10-25T00:00:00",
          "2021-10-26T00:00:00",
          "2021-10-27T00:00:00",
          "2021-10-28T00:00:00",
          "2021-10-29T00:00:00",
          "2021-11-01T00:00:00",
          "2021-11-02T00:00:00",
          "2021-11-03T00:00:00",
          "2021-11-04T00:00:00",
          "2021-11-05T00:00:00",
          "2021-11-08T00:00:00",
          "2021-11-09T00:00:00",
          "2021-11-10T00:00:00",
          "2021-11-11T00:00:00",
          "2021-11-12T00:00:00",
          "2021-11-15T00:00:00",
          "2021-11-16T00:00:00",
          "2021-11-17T00:00:00",
          "2021-11-19T00:00:00",
          "2021-11-22T00:00:00",
          "2021-11-23T00:00:00",
          "2021-11-24T00:00:00",
          "2021-11-25T00:00:00",
          "2021-11-26T00:00:00",
          "2021-11-29T00:00:00",
          "2021-11-30T00:00:00",
          "2021-12-01T00:00:00",
          "2021-12-02T00:00:00",
          "2021-12-03T00:00:00",
          "2021-12-06T00:00:00",
          "2021-12-07T00:00:00",
          "2021-12-08T00:00:00",
          "2021-12-09T00:00:00",
          "2021-12-10T00:00:00",
          "2021-12-13T00:00:00",
          "2021-12-14T00:00:00",
          "2021-12-15T00:00:00",
          "2021-12-16T00:00:00",
          "2021-12-17T00:00:00",
          "2021-12-20T00:00:00",
          "2021-12-21T00:00:00",
          "2021-12-22T00:00:00",
          "2021-12-23T00:00:00",
          "2021-12-24T00:00:00",
          "2021-12-27T00:00:00",
          "2021-12-28T00:00:00",
          "2021-12-29T00:00:00",
          "2021-12-30T00:00:00",
          "2021-12-31T00:00:00",
          "2022-01-03T00:00:00",
          "2022-01-04T00:00:00",
          "2022-01-05T00:00:00",
          "2022-01-06T00:00:00",
          "2022-01-07T00:00:00",
          "2022-01-10T00:00:00",
          "2022-01-12T00:00:00",
          "2022-01-13T00:00:00",
          "2022-01-14T00:00:00",
          "2022-01-17T00:00:00",
          "2022-01-18T00:00:00",
          "2022-01-19T00:00:00",
          "2022-01-20T00:00:00",
          "2022-01-21T00:00:00",
          "2022-01-24T00:00:00",
          "2022-01-25T00:00:00",
          "2022-01-26T00:00:00",
          "2022-01-27T00:00:00",
          "2022-01-28T00:00:00",
          "2022-01-31T00:00:00",
          "2022-02-01T00:00:00",
          "2022-02-02T00:00:00",
          "2022-02-03T00:00:00",
          "2022-02-04T00:00:00"
         ],
         "y": [
          0,
          -0.004573021857980031,
          -0.01200090059126313,
          -0.009601986625110692,
          -0.012658633287570886,
          -0.015080324321870231,
          -0.010615156067898313,
          -0.015697133478634218,
          -0.01167973196944061,
          -0.020309113862777006,
          -0.02145708322350237,
          -0.027581970127370847,
          -0.03575385418792454,
          -0.03000693333612614,
          -0.029611000226924644,
          -0.03013541958063526,
          -0.028581786022703892,
          -0.031250427977778106,
          -0.030273491673029174,
          -0.03029827647223926,
          -0.03184497267858177,
          -0.02901062029073298,
          -0.029971417855148452,
          -0.030226425330785567,
          -0.024750761760931494,
          -0.024509765685054585,
          -0.018580995660147925,
          -0.01229515707330131,
          -0.017743677827887994,
          -0.020465699798634218,
          -0.022382245697429637,
          -0.027530623473370985,
          -0.02313302604909695,
          -0.018117243958691964,
          -0.017546663877600288,
          -0.01894424119893312,
          -0.01596197456471249,
          -0.018890416919366215,
          -0.012984167656513335,
          -0.011260799660144483,
          -0.014664689817639465,
          -0.014241938547555066,
          -0.015236465993832549,
          -0.012673080407689441,
          -0.010671979128755282,
          -0.007483898701714509,
          -0.008329580656148194,
          -0.007296983211497743,
          -0.005996366485213178,
          -0.0030256507122583542,
          -0.003520389820379166,
          -0.00029040334710417337,
          -0.0018872415688084843,
          0.000811798288916199,
          0.002963325613935197,
          0.0020871774085593486,
          0.0035530603037234876,
          0.0066458888430036556,
          0.008091532100343413,
          0.009097097795700337,
          0.012878390131860096,
          0.01758544298949838,
          0.02132037809693932,
          0.026074540014503267,
          0.026282985216546706,
          0.030054640443603287,
          0.027656495395730563,
          0.028811282498534263,
          0.04030036545233462,
          0.03950512453703792,
          0.04259626145610307,
          0.02945891673477119,
          0.03742749025868153,
          0.03299321543247369,
          0.03318656420562904,
          0.035194406334813744,
          0.0335058105317525,
          0.03910823455175505,
          0.03500297131382091,
          0.03932692345398925,
          0.048280549642266024,
          0.058264363997917235,
          0.05734041470616402,
          0.0576439750993849,
          0.05654210666128545,
          0.05609372478188357,
          0.057152234772554156,
          0.06476391060525355,
          0.07355755053016977,
          0.06807899070146295,
          0.06388621601978217,
          0.06298864062501663,
          0.06688809007013052,
          0.07186467441535238,
          0.06945555946669169,
          0.06918193562515351,
          0.06593546012655072,
          0.060902052720471556,
          0.06530440889454225,
          0.06042741655359185,
          0.06018752259391569,
          0.06100185831315419,
          0.06161974395550973,
          0.04925182158235519,
          0.0407908327922355,
          0.045940082008893324,
          0.0479549042073486,
          0.04528927812063732,
          0.04499276614497871,
          0.043221127167728524,
          0.03970141228672741,
          0.0372077932191468,
          0.03941445198480786,
          0.03849778178610075,
          0.03780690871194525,
          0.04378181383362367,
          0.04089397890766544,
          0.042952808862319,
          0.04546545438554994,
          0.05120916286764721,
          0.0622981776406093,
          0.0633383617456178,
          0.06161759952786294,
          0.06519147188635199,
          0.07038269549753595,
          0.067711063304708,
          0.07365556198019929,
          0.0701664756773328,
          0.07846031017701982,
          0.07628205867001903,
          0.07858024434155331,
          0.07794430620670179,
          0.07710655265408373,
          0.08617414961845937,
          0.08557670865880285,
          0.08119646315703677,
          0.08374413717966855,
          0.09226422161133807,
          0.0914825222012976,
          0.08453020233682951,
          0.08550619885257027,
          0.0862473762692797,
          0.09079457956014081,
          0.08429219649870645,
          0.08628414765011416,
          0.08853361807687188,
          0.10818786987158457,
          0.10075331009280597,
          0.10106601207001686,
          0.10224636997738346,
          0.10171420163612233,
          0.10232391111410544,
          0.1123001131787893,
          0.1063504712943617,
          0.1056037149483573,
          0.10838743833926756,
          0.11732630984011383,
          0.12192714945273986,
          0.12108426123472182,
          0.125131539490843,
          0.12751457102275476,
          0.12662119904791758,
          0.11969113509587359,
          0.1176433348467627,
          0.11567580112249809,
          0.11730454945280289,
          0.11897999675328408,
          0.12711043611857153,
          0.12309741744357128,
          0.12437764074837543,
          0.1266985265962286,
          0.1348510680902839,
          0.1363698611066162,
          0.13548998791935274,
          0.13590962079863655,
          0.13635197094131213,
          0.13918118012022473,
          0.15774894184242894,
          0.15665952988045784,
          0.16012675327357617,
          0.15811512635774894,
          0.15402205474631336,
          0.15872876586249407,
          0.15930068727880675,
          0.15397482607687762,
          0.1460130361209,
          0.14724853401244498,
          0.14315403563042417,
          0.14007390278629273,
          0.13906326223029097,
          0.13592522129617457,
          0.13598742678498832,
          0.13313492792574255,
          0.13539134424762556,
          0.13974608729312066,
          0.14069271113058335,
          0.13687067466914504,
          0.13977708324332183,
          0.13838597337907332,
          0.12954771910687146,
          0.11915973567289129,
          0.11795378987388938,
          0.12519969982455392,
          0.13043010409384803,
          0.1299683430363825,
          0.12591067583995108,
          0.13017085902413728,
          0.1304253966052702,
          0.13438509506935348,
          0.13969190418502309,
          0.13492168896249002,
          0.1347409675361917,
          0.13381532662422346,
          0.13368773745104034,
          0.1366087383854555,
          0.13235710728124528,
          0.1314170790539133,
          0.12864413760598947,
          0.13201550252026029,
          0.13137219131346178,
          0.13085552094730124,
          0.1347350468654389,
          0.14391130052624823,
          0.14522967926478958,
          0.14127306501736103,
          0.1359733043192537,
          0.1344521960045464,
          0.13548938987180126,
          0.14216571079160123,
          0.15143394416571465,
          0.15220751012906542,
          0.15604778704080147,
          0.1609163725418956,
          0.17766723163079456,
          0.17651197463348645,
          0.17627835162955674,
          0.1736862255868321,
          0.17709324267866378,
          0.17762453103567144,
          0.17503550629667397,
          0.17103009991264106,
          0.1723683936346223,
          0.17335769243659893,
          0.1784281873343605,
          0.18614133474934813,
          0.1843994614530522,
          0.18802229681887428,
          0.18869584360113123,
          0.19176737310406833
         ]
        }
       ],
       "layout": {
        "legend": {
         "font": {
          "size": 12
         },
         "traceorder": "normal",
         "x": 0,
         "y": 1
        },
        "template": {
         "data": {
          "bar": [
           {
            "error_x": {
             "color": "#2a3f5f"
            },
            "error_y": {
             "color": "#2a3f5f"
            },
            "marker": {
             "line": {
              "color": "#E5ECF6",
              "width": 0.5
             },
             "pattern": {
              "fillmode": "overlay",
              "size": 10,
              "solidity": 0.2
             }
            },
            "type": "bar"
           }
          ],
          "barpolar": [
           {
            "marker": {
             "line": {
              "color": "#E5ECF6",
              "width": 0.5
             },
             "pattern": {
              "fillmode": "overlay",
              "size": 10,
              "solidity": 0.2
             }
            },
            "type": "barpolar"
           }
          ],
          "carpet": [
           {
            "aaxis": {
             "endlinecolor": "#2a3f5f",
             "gridcolor": "white",
             "linecolor": "white",
             "minorgridcolor": "white",
             "startlinecolor": "#2a3f5f"
            },
            "baxis": {
             "endlinecolor": "#2a3f5f",
             "gridcolor": "white",
             "linecolor": "white",
             "minorgridcolor": "white",
             "startlinecolor": "#2a3f5f"
            },
            "type": "carpet"
           }
          ],
          "choropleth": [
           {
            "colorbar": {
             "outlinewidth": 0,
             "ticks": ""
            },
            "type": "choropleth"
           }
          ],
          "contour": [
           {
            "colorbar": {
             "outlinewidth": 0,
             "ticks": ""
            },
            "colorscale": [
             [
              0,
              "#0d0887"
             ],
             [
              0.1111111111111111,
              "#46039f"
             ],
             [
              0.2222222222222222,
              "#7201a8"
             ],
             [
              0.3333333333333333,
              "#9c179e"
             ],
             [
              0.4444444444444444,
              "#bd3786"
             ],
             [
              0.5555555555555556,
              "#d8576b"
             ],
             [
              0.6666666666666666,
              "#ed7953"
             ],
             [
              0.7777777777777778,
              "#fb9f3a"
             ],
             [
              0.8888888888888888,
              "#fdca26"
             ],
             [
              1,
              "#f0f921"
             ]
            ],
            "type": "contour"
           }
          ],
          "contourcarpet": [
           {
            "colorbar": {
             "outlinewidth": 0,
             "ticks": ""
            },
            "type": "contourcarpet"
           }
          ],
          "heatmap": [
           {
            "colorbar": {
             "outlinewidth": 0,
             "ticks": ""
            },
            "colorscale": [
             [
              0,
              "#0d0887"
             ],
             [
              0.1111111111111111,
              "#46039f"
             ],
             [
              0.2222222222222222,
              "#7201a8"
             ],
             [
              0.3333333333333333,
              "#9c179e"
             ],
             [
              0.4444444444444444,
              "#bd3786"
             ],
             [
              0.5555555555555556,
              "#d8576b"
             ],
             [
              0.6666666666666666,
              "#ed7953"
             ],
             [
              0.7777777777777778,
              "#fb9f3a"
             ],
             [
              0.8888888888888888,
              "#fdca26"
             ],
             [
              1,
              "#f0f921"
             ]
            ],
            "type": "heatmap"
           }
          ],
          "heatmapgl": [
           {
            "colorbar": {
             "outlinewidth": 0,
             "ticks": ""
            },
            "colorscale": [
             [
              0,
              "#0d0887"
             ],
             [
              0.1111111111111111,
              "#46039f"
             ],
             [
              0.2222222222222222,
              "#7201a8"
             ],
             [
              0.3333333333333333,
              "#9c179e"
             ],
             [
              0.4444444444444444,
              "#bd3786"
             ],
             [
              0.5555555555555556,
              "#d8576b"
             ],
             [
              0.6666666666666666,
              "#ed7953"
             ],
             [
              0.7777777777777778,
              "#fb9f3a"
             ],
             [
              0.8888888888888888,
              "#fdca26"
             ],
             [
              1,
              "#f0f921"
             ]
            ],
            "type": "heatmapgl"
           }
          ],
          "histogram": [
           {
            "marker": {
             "pattern": {
              "fillmode": "overlay",
              "size": 10,
              "solidity": 0.2
             }
            },
            "type": "histogram"
           }
          ],
          "histogram2d": [
           {
            "colorbar": {
             "outlinewidth": 0,
             "ticks": ""
            },
            "colorscale": [
             [
              0,
              "#0d0887"
             ],
             [
              0.1111111111111111,
              "#46039f"
             ],
             [
              0.2222222222222222,
              "#7201a8"
             ],
             [
              0.3333333333333333,
              "#9c179e"
             ],
             [
              0.4444444444444444,
              "#bd3786"
             ],
             [
              0.5555555555555556,
              "#d8576b"
             ],
             [
              0.6666666666666666,
              "#ed7953"
             ],
             [
              0.7777777777777778,
              "#fb9f3a"
             ],
             [
              0.8888888888888888,
              "#fdca26"
             ],
             [
              1,
              "#f0f921"
             ]
            ],
            "type": "histogram2d"
           }
          ],
          "histogram2dcontour": [
           {
            "colorbar": {
             "outlinewidth": 0,
             "ticks": ""
            },
            "colorscale": [
             [
              0,
              "#0d0887"
             ],
             [
              0.1111111111111111,
              "#46039f"
             ],
             [
              0.2222222222222222,
              "#7201a8"
             ],
             [
              0.3333333333333333,
              "#9c179e"
             ],
             [
              0.4444444444444444,
              "#bd3786"
             ],
             [
              0.5555555555555556,
              "#d8576b"
             ],
             [
              0.6666666666666666,
              "#ed7953"
             ],
             [
              0.7777777777777778,
              "#fb9f3a"
             ],
             [
              0.8888888888888888,
              "#fdca26"
             ],
             [
              1,
              "#f0f921"
             ]
            ],
            "type": "histogram2dcontour"
           }
          ],
          "mesh3d": [
           {
            "colorbar": {
             "outlinewidth": 0,
             "ticks": ""
            },
            "type": "mesh3d"
           }
          ],
          "parcoords": [
           {
            "line": {
             "colorbar": {
              "outlinewidth": 0,
              "ticks": ""
             }
            },
            "type": "parcoords"
           }
          ],
          "pie": [
           {
            "automargin": true,
            "type": "pie"
           }
          ],
          "scatter": [
           {
            "fillpattern": {
             "fillmode": "overlay",
             "size": 10,
             "solidity": 0.2
            },
            "type": "scatter"
           }
          ],
          "scatter3d": [
           {
            "line": {
             "colorbar": {
              "outlinewidth": 0,
              "ticks": ""
             }
            },
            "marker": {
             "colorbar": {
              "outlinewidth": 0,
              "ticks": ""
             }
            },
            "type": "scatter3d"
           }
          ],
          "scattercarpet": [
           {
            "marker": {
             "colorbar": {
              "outlinewidth": 0,
              "ticks": ""
             }
            },
            "type": "scattercarpet"
           }
          ],
          "scattergeo": [
           {
            "marker": {
             "colorbar": {
              "outlinewidth": 0,
              "ticks": ""
             }
            },
            "type": "scattergeo"
           }
          ],
          "scattergl": [
           {
            "marker": {
             "colorbar": {
              "outlinewidth": 0,
              "ticks": ""
             }
            },
            "type": "scattergl"
           }
          ],
          "scattermapbox": [
           {
            "marker": {
             "colorbar": {
              "outlinewidth": 0,
              "ticks": ""
             }
            },
            "type": "scattermapbox"
           }
          ],
          "scatterpolar": [
           {
            "marker": {
             "colorbar": {
              "outlinewidth": 0,
              "ticks": ""
             }
            },
            "type": "scatterpolar"
           }
          ],
          "scatterpolargl": [
           {
            "marker": {
             "colorbar": {
              "outlinewidth": 0,
              "ticks": ""
             }
            },
            "type": "scatterpolargl"
           }
          ],
          "scatterternary": [
           {
            "marker": {
             "colorbar": {
              "outlinewidth": 0,
              "ticks": ""
             }
            },
            "type": "scatterternary"
           }
          ],
          "surface": [
           {
            "colorbar": {
             "outlinewidth": 0,
             "ticks": ""
            },
            "colorscale": [
             [
              0,
              "#0d0887"
             ],
             [
              0.1111111111111111,
              "#46039f"
             ],
             [
              0.2222222222222222,
              "#7201a8"
             ],
             [
              0.3333333333333333,
              "#9c179e"
             ],
             [
              0.4444444444444444,
              "#bd3786"
             ],
             [
              0.5555555555555556,
              "#d8576b"
             ],
             [
              0.6666666666666666,
              "#ed7953"
             ],
             [
              0.7777777777777778,
              "#fb9f3a"
             ],
             [
              0.8888888888888888,
              "#fdca26"
             ],
             [
              1,
              "#f0f921"
             ]
            ],
            "type": "surface"
           }
          ],
          "table": [
           {
            "cells": {
             "fill": {
              "color": "#EBF0F8"
             },
             "line": {
              "color": "white"
             }
            },
            "header": {
             "fill": {
              "color": "#C8D4E3"
             },
             "line": {
              "color": "white"
             }
            },
            "type": "table"
           }
          ]
         },
         "layout": {
          "annotationdefaults": {
           "arrowcolor": "#2a3f5f",
           "arrowhead": 0,
           "arrowwidth": 1
          },
          "autotypenumbers": "strict",
          "coloraxis": {
           "colorbar": {
            "outlinewidth": 0,
            "ticks": ""
           }
          },
          "colorscale": {
           "diverging": [
            [
             0,
             "#8e0152"
            ],
            [
             0.1,
             "#c51b7d"
            ],
            [
             0.2,
             "#de77ae"
            ],
            [
             0.3,
             "#f1b6da"
            ],
            [
             0.4,
             "#fde0ef"
            ],
            [
             0.5,
             "#f7f7f7"
            ],
            [
             0.6,
             "#e6f5d0"
            ],
            [
             0.7,
             "#b8e186"
            ],
            [
             0.8,
             "#7fbc41"
            ],
            [
             0.9,
             "#4d9221"
            ],
            [
             1,
             "#276419"
            ]
           ],
           "sequential": [
            [
             0,
             "#0d0887"
            ],
            [
             0.1111111111111111,
             "#46039f"
            ],
            [
             0.2222222222222222,
             "#7201a8"
            ],
            [
             0.3333333333333333,
             "#9c179e"
            ],
            [
             0.4444444444444444,
             "#bd3786"
            ],
            [
             0.5555555555555556,
             "#d8576b"
            ],
            [
             0.6666666666666666,
             "#ed7953"
            ],
            [
             0.7777777777777778,
             "#fb9f3a"
            ],
            [
             0.8888888888888888,
             "#fdca26"
            ],
            [
             1,
             "#f0f921"
            ]
           ],
           "sequentialminus": [
            [
             0,
             "#0d0887"
            ],
            [
             0.1111111111111111,
             "#46039f"
            ],
            [
             0.2222222222222222,
             "#7201a8"
            ],
            [
             0.3333333333333333,
             "#9c179e"
            ],
            [
             0.4444444444444444,
             "#bd3786"
            ],
            [
             0.5555555555555556,
             "#d8576b"
            ],
            [
             0.6666666666666666,
             "#ed7953"
            ],
            [
             0.7777777777777778,
             "#fb9f3a"
            ],
            [
             0.8888888888888888,
             "#fdca26"
            ],
            [
             1,
             "#f0f921"
            ]
           ]
          },
          "colorway": [
           "#636efa",
           "#EF553B",
           "#00cc96",
           "#ab63fa",
           "#FFA15A",
           "#19d3f3",
           "#FF6692",
           "#B6E880",
           "#FF97FF",
           "#FECB52"
          ],
          "font": {
           "color": "#2a3f5f"
          },
          "geo": {
           "bgcolor": "white",
           "lakecolor": "white",
           "landcolor": "#E5ECF6",
           "showlakes": true,
           "showland": true,
           "subunitcolor": "white"
          },
          "hoverlabel": {
           "align": "left"
          },
          "hovermode": "closest",
          "mapbox": {
           "style": "light"
          },
          "paper_bgcolor": "white",
          "plot_bgcolor": "#E5ECF6",
          "polar": {
           "angularaxis": {
            "gridcolor": "white",
            "linecolor": "white",
            "ticks": ""
           },
           "bgcolor": "#E5ECF6",
           "radialaxis": {
            "gridcolor": "white",
            "linecolor": "white",
            "ticks": ""
           }
          },
          "scene": {
           "xaxis": {
            "backgroundcolor": "#E5ECF6",
            "gridcolor": "white",
            "gridwidth": 2,
            "linecolor": "white",
            "showbackground": true,
            "ticks": "",
            "zerolinecolor": "white"
           },
           "yaxis": {
            "backgroundcolor": "#E5ECF6",
            "gridcolor": "white",
            "gridwidth": 2,
            "linecolor": "white",
            "showbackground": true,
            "ticks": "",
            "zerolinecolor": "white"
           },
           "zaxis": {
            "backgroundcolor": "#E5ECF6",
            "gridcolor": "white",
            "gridwidth": 2,
            "linecolor": "white",
            "showbackground": true,
            "ticks": "",
            "zerolinecolor": "white"
           }
          },
          "shapedefaults": {
           "line": {
            "color": "#2a3f5f"
           }
          },
          "ternary": {
           "aaxis": {
            "gridcolor": "white",
            "linecolor": "white",
            "ticks": ""
           },
           "baxis": {
            "gridcolor": "white",
            "linecolor": "white",
            "ticks": ""
           },
           "bgcolor": "#E5ECF6",
           "caxis": {
            "gridcolor": "white",
            "linecolor": "white",
            "ticks": ""
           }
          },
          "title": {
           "x": 0.05
          },
          "xaxis": {
           "automargin": true,
           "gridcolor": "white",
           "linecolor": "white",
           "ticks": "",
           "title": {
            "standoff": 15
           },
           "zerolinecolor": "white",
           "zerolinewidth": 2
          },
          "yaxis": {
           "automargin": true,
           "gridcolor": "white",
           "linecolor": "white",
           "ticks": "",
           "title": {
            "standoff": 15
           },
           "zerolinecolor": "white",
           "zerolinewidth": 2
          }
         }
        },
        "title": {
         "text": "Market-Cap Weighted Portfolio Performance"
        },
        "xaxis": {
         "title": {
          "text": "Date"
         }
        },
        "yaxis": {
         "title": {
          "text": "Cumulative Returns"
         }
        }
       }
      }
     },
     "metadata": {},
     "output_type": "display_data"
    }
   ],
   "source": [
    "# Create traces\n",
    "marketcap_trace = go.Scatter(x=portfolio_returns_market_cap_weighted.index, y=portfolio_returns_market_cap_weighted, mode='lines', name='Market-Cap Portfolio', line=dict(color='green'))\n",
    "masi_trace = go.Scatter(x=benchmark_cumulative_returns.index, y=benchmark_cumulative_returns, mode='lines', name='MASI Index', line=dict(dash='dash'))\n",
    "\n",
    "# Layout\n",
    "layout = go.Layout(\n",
    "    title='Market-Cap Weighted Portfolio Performance',\n",
    "    xaxis=dict(title='Date'),\n",
    "    yaxis=dict(title='Cumulative Returns'),\n",
    "    legend=dict(x=0, y=1, traceorder='normal', font=dict(size=12))\n",
    ")\n",
    "\n",
    "# Create figure\n",
    "fig = go.Figure(data=[marketcap_trace, masi_trace], layout=layout)\n",
    "\n",
    "# Show plot\n",
    "fig.show()"
   ]
  },
  {
   "cell_type": "markdown",
   "metadata": {},
   "source": [
    "Unlike the equal-weighted portfolio, the market-cap weighted portfolio gives more weight to larger companies, which may influence its performance. In this case, the market-cap weighted portfolio underperforms the MASI Index, particularly from mid-2021 onwards. While it experiences a slight uptick in performance towards the end of the period, it still lags behind the benchmark index, which demonstrates stronger and more consistent growth. This suggests that, during the testing period, larger companies included in the portfolio did not perform as well relative to the overall market."
   ]
  },
  {
   "cell_type": "code",
   "execution_count": 18,
   "metadata": {
    "slideshow": {
     "slide_type": "subslide"
    },
    "tags": [
     "to_remove"
    ]
   },
   "outputs": [
    {
     "data": {
      "application/vnd.plotly.v1+json": {
       "config": {
        "plotlyServerURL": "https://plot.ly"
       },
       "data": [
        {
         "line": {
          "color": "blue"
         },
         "mode": "lines",
         "name": "Market-Cap Portfolio Drawdown",
         "type": "scatter",
         "x": [
          "2021-02-08T00:00:00",
          "2021-02-09T00:00:00",
          "2021-02-10T00:00:00",
          "2021-02-11T00:00:00",
          "2021-02-12T00:00:00",
          "2021-02-15T00:00:00",
          "2021-02-16T00:00:00",
          "2021-02-17T00:00:00",
          "2021-02-18T00:00:00",
          "2021-02-19T00:00:00",
          "2021-02-22T00:00:00",
          "2021-02-23T00:00:00",
          "2021-02-24T00:00:00",
          "2021-02-25T00:00:00",
          "2021-02-26T00:00:00",
          "2021-03-01T00:00:00",
          "2021-03-02T00:00:00",
          "2021-03-03T00:00:00",
          "2021-03-04T00:00:00",
          "2021-03-05T00:00:00",
          "2021-03-08T00:00:00",
          "2021-03-09T00:00:00",
          "2021-03-10T00:00:00",
          "2021-03-11T00:00:00",
          "2021-03-12T00:00:00",
          "2021-03-15T00:00:00",
          "2021-03-16T00:00:00",
          "2021-03-17T00:00:00",
          "2021-03-18T00:00:00",
          "2021-03-19T00:00:00",
          "2021-03-22T00:00:00",
          "2021-03-23T00:00:00",
          "2021-03-24T00:00:00",
          "2021-03-25T00:00:00",
          "2021-03-26T00:00:00",
          "2021-03-29T00:00:00",
          "2021-03-30T00:00:00",
          "2021-03-31T00:00:00",
          "2021-04-01T00:00:00",
          "2021-04-02T00:00:00",
          "2021-04-05T00:00:00",
          "2021-04-06T00:00:00",
          "2021-04-07T00:00:00",
          "2021-04-08T00:00:00",
          "2021-04-09T00:00:00",
          "2021-04-12T00:00:00",
          "2021-04-13T00:00:00",
          "2021-04-14T00:00:00",
          "2021-04-15T00:00:00",
          "2021-04-16T00:00:00",
          "2021-04-19T00:00:00",
          "2021-04-20T00:00:00",
          "2021-04-21T00:00:00",
          "2021-04-22T00:00:00",
          "2021-04-23T00:00:00",
          "2021-04-26T00:00:00",
          "2021-04-27T00:00:00",
          "2021-04-28T00:00:00",
          "2021-04-29T00:00:00",
          "2021-04-30T00:00:00",
          "2021-05-03T00:00:00",
          "2021-05-04T00:00:00",
          "2021-05-05T00:00:00",
          "2021-05-06T00:00:00",
          "2021-05-07T00:00:00",
          "2021-05-10T00:00:00",
          "2021-05-11T00:00:00",
          "2021-05-12T00:00:00",
          "2021-05-17T00:00:00",
          "2021-05-18T00:00:00",
          "2021-05-19T00:00:00",
          "2021-05-20T00:00:00",
          "2021-05-21T00:00:00",
          "2021-05-24T00:00:00",
          "2021-05-25T00:00:00",
          "2021-05-26T00:00:00",
          "2021-05-27T00:00:00",
          "2021-05-28T00:00:00",
          "2021-05-31T00:00:00",
          "2021-06-01T00:00:00",
          "2021-06-02T00:00:00",
          "2021-06-03T00:00:00",
          "2021-06-04T00:00:00",
          "2021-06-07T00:00:00",
          "2021-06-08T00:00:00",
          "2021-06-09T00:00:00",
          "2021-06-10T00:00:00",
          "2021-06-11T00:00:00",
          "2021-06-14T00:00:00",
          "2021-06-15T00:00:00",
          "2021-06-16T00:00:00",
          "2021-06-17T00:00:00",
          "2021-06-18T00:00:00",
          "2021-06-21T00:00:00",
          "2021-06-22T00:00:00",
          "2021-06-23T00:00:00",
          "2021-06-24T00:00:00",
          "2021-06-25T00:00:00",
          "2021-06-28T00:00:00",
          "2021-06-29T00:00:00",
          "2021-06-30T00:00:00",
          "2021-07-01T00:00:00",
          "2021-07-02T00:00:00",
          "2021-07-05T00:00:00",
          "2021-07-06T00:00:00",
          "2021-07-07T00:00:00",
          "2021-07-08T00:00:00",
          "2021-07-09T00:00:00",
          "2021-07-12T00:00:00",
          "2021-07-13T00:00:00",
          "2021-07-14T00:00:00",
          "2021-07-15T00:00:00",
          "2021-07-16T00:00:00",
          "2021-07-19T00:00:00",
          "2021-07-20T00:00:00",
          "2021-07-23T00:00:00",
          "2021-07-26T00:00:00",
          "2021-07-27T00:00:00",
          "2021-07-28T00:00:00",
          "2021-07-29T00:00:00",
          "2021-08-02T00:00:00",
          "2021-08-03T00:00:00",
          "2021-08-04T00:00:00",
          "2021-08-05T00:00:00",
          "2021-08-06T00:00:00",
          "2021-08-09T00:00:00",
          "2021-08-11T00:00:00",
          "2021-08-12T00:00:00",
          "2021-08-13T00:00:00",
          "2021-08-16T00:00:00",
          "2021-08-17T00:00:00",
          "2021-08-18T00:00:00",
          "2021-08-19T00:00:00",
          "2021-08-23T00:00:00",
          "2021-08-24T00:00:00",
          "2021-08-25T00:00:00",
          "2021-08-26T00:00:00",
          "2021-08-27T00:00:00",
          "2021-08-30T00:00:00",
          "2021-08-31T00:00:00",
          "2021-09-01T00:00:00",
          "2021-09-02T00:00:00",
          "2021-09-03T00:00:00",
          "2021-09-06T00:00:00",
          "2021-09-07T00:00:00",
          "2021-09-08T00:00:00",
          "2021-09-09T00:00:00",
          "2021-09-10T00:00:00",
          "2021-09-13T00:00:00",
          "2021-09-14T00:00:00",
          "2021-09-15T00:00:00",
          "2021-09-16T00:00:00",
          "2021-09-17T00:00:00",
          "2021-09-20T00:00:00",
          "2021-09-21T00:00:00",
          "2021-09-22T00:00:00",
          "2021-09-23T00:00:00",
          "2021-09-24T00:00:00",
          "2021-09-27T00:00:00",
          "2021-09-28T00:00:00",
          "2021-09-29T00:00:00",
          "2021-09-30T00:00:00",
          "2021-10-01T00:00:00",
          "2021-10-04T00:00:00",
          "2021-10-05T00:00:00",
          "2021-10-06T00:00:00",
          "2021-10-07T00:00:00",
          "2021-10-08T00:00:00",
          "2021-10-11T00:00:00",
          "2021-10-12T00:00:00",
          "2021-10-13T00:00:00",
          "2021-10-14T00:00:00",
          "2021-10-15T00:00:00",
          "2021-10-18T00:00:00",
          "2021-10-21T00:00:00",
          "2021-10-22T00:00:00",
          "2021-10-25T00:00:00",
          "2021-10-26T00:00:00",
          "2021-10-27T00:00:00",
          "2021-10-28T00:00:00",
          "2021-10-29T00:00:00",
          "2021-11-01T00:00:00",
          "2021-11-02T00:00:00",
          "2021-11-03T00:00:00",
          "2021-11-04T00:00:00",
          "2021-11-05T00:00:00",
          "2021-11-08T00:00:00",
          "2021-11-09T00:00:00",
          "2021-11-10T00:00:00",
          "2021-11-11T00:00:00",
          "2021-11-12T00:00:00",
          "2021-11-15T00:00:00",
          "2021-11-16T00:00:00",
          "2021-11-17T00:00:00",
          "2021-11-19T00:00:00",
          "2021-11-22T00:00:00",
          "2021-11-23T00:00:00",
          "2021-11-24T00:00:00",
          "2021-11-25T00:00:00",
          "2021-11-26T00:00:00",
          "2021-11-29T00:00:00",
          "2021-11-30T00:00:00",
          "2021-12-01T00:00:00",
          "2021-12-02T00:00:00",
          "2021-12-03T00:00:00",
          "2021-12-06T00:00:00",
          "2021-12-07T00:00:00",
          "2021-12-08T00:00:00",
          "2021-12-09T00:00:00",
          "2021-12-10T00:00:00",
          "2021-12-13T00:00:00",
          "2021-12-14T00:00:00",
          "2021-12-15T00:00:00",
          "2021-12-16T00:00:00",
          "2021-12-17T00:00:00",
          "2021-12-20T00:00:00",
          "2021-12-21T00:00:00",
          "2021-12-22T00:00:00",
          "2021-12-23T00:00:00",
          "2021-12-24T00:00:00",
          "2021-12-27T00:00:00",
          "2021-12-28T00:00:00",
          "2021-12-29T00:00:00",
          "2021-12-30T00:00:00",
          "2021-12-31T00:00:00",
          "2022-01-03T00:00:00",
          "2022-01-04T00:00:00",
          "2022-01-05T00:00:00",
          "2022-01-06T00:00:00",
          "2022-01-07T00:00:00",
          "2022-01-10T00:00:00",
          "2022-01-12T00:00:00",
          "2022-01-13T00:00:00",
          "2022-01-14T00:00:00",
          "2022-01-17T00:00:00",
          "2022-01-18T00:00:00",
          "2022-01-19T00:00:00",
          "2022-01-20T00:00:00",
          "2022-01-21T00:00:00",
          "2022-01-24T00:00:00",
          "2022-01-25T00:00:00",
          "2022-01-26T00:00:00",
          "2022-01-27T00:00:00",
          "2022-01-28T00:00:00",
          "2022-01-31T00:00:00",
          "2022-02-01T00:00:00",
          "2022-02-02T00:00:00",
          "2022-02-03T00:00:00",
          "2022-02-04T00:00:00"
         ],
         "y": [
          0,
          null,
          null,
          null,
          null,
          null,
          null,
          null,
          null,
          null,
          null,
          null,
          null,
          null,
          null,
          null,
          null,
          null,
          null,
          null,
          null,
          null,
          null,
          null,
          null,
          null,
          null,
          null,
          null,
          null,
          null,
          null,
          null,
          null,
          null,
          null,
          null,
          null,
          null,
          null,
          null,
          null,
          null,
          null,
          null,
          null,
          null,
          null,
          null,
          null,
          null,
          null,
          null,
          null,
          null,
          null,
          null,
          null,
          null,
          null,
          null,
          null,
          0,
          0,
          0,
          0,
          -0.24687256038675315,
          -0.2029629738005196,
          0,
          -0.01608034594528567,
          0,
          -0.6263020823499561,
          -0.2531877660178447,
          -0.4150963196896263,
          -0.3973505102050045,
          -0.2502058394784349,
          -0.3048310614012255,
          -0.03720868146524439,
          -0.2289249967405288,
          -0.08169364132907957,
          0,
          0,
          -0.04011268975301845,
          -0.12838028743813396,
          -0.21153980325461497,
          -0.3616014100226493,
          -0.24539571650406544,
          -0.03479189908189744,
          0,
          -0.11608227966531959,
          -0.21910698240253004,
          -0.22155463707165404,
          -0.16176948084503331,
          -0.08931258121474221,
          -0.19328577978810116,
          -0.17502553878580634,
          -0.25700517938610934,
          -0.5408278464892832,
          -0.4017711696902973,
          -0.4889161990678666,
          -0.5371484406698198,
          -0.5234196427717218,
          -0.5935179482324018,
          -0.9008091980111995,
          -1.090799026575746,
          -0.9799860675309273,
          -0.8952479624209285,
          -0.9111738647077725,
          -0.8719509126497624,
          -0.8815839152120932,
          -0.9145827791835658,
          -0.9928246344709003,
          -0.9252661073924352,
          -0.9792608308951373,
          -1.0119163904534751,
          -0.9295824691541493,
          -1.0035327518263415,
          -0.9036735199284032,
          -0.8457077665640518,
          -0.7251006027470113,
          -0.4066369955558192,
          -0.40109656108718134,
          -0.4084345728421995,
          -0.35101281485269953,
          -0.24517319176687716,
          -0.3149314418308646,
          -0.14705064312055682,
          -0.25087661842781567,
          -0.06574040936888227,
          -0.10872539499761733,
          0,
          -0.035834997023680926,
          -0.061652906847406264,
          0,
          -0.0034260929047416045,
          -0.13025868773324661,
          -0.02383222019898291,
          0,
          -0.020784346339380522,
          -0.07229261080124148,
          -0.08341695256210689,
          -0.0693478421239843,
          0,
          -0.27301011737284125,
          -0.16948446479724322,
          -0.07639898539333508,
          0,
          -0.17071330611599975,
          -0.18202327476024818,
          -0.13680591304972523,
          -0.15847159524352783,
          -0.14849497379715226,
          -0.029550930340412004,
          -0.12467352472250401,
          -0.1211508961652823,
          -0.07594994792865863,
          0,
          0,
          -0.04315664229765129,
          0,
          0,
          -0.06492141574345596,
          -0.09964614900049718,
          -0.1164059217759714,
          -0.13261454704671233,
          -0.14288139947839498,
          -0.12912608768897568,
          -0.04874336145027009,
          -0.08585093871832479,
          -0.051098732476859386,
          -0.033530844168001735,
          0,
          0,
          -0.009337768935372442,
          0,
          0,
          0,
          0,
          0,
          -0.013620171863047582,
          -0.06953979895229553,
          -0.0874317946764639,
          -0.040549520727160566,
          -0.009885334511384496,
          -0.06641934640243793,
          -0.13627868587748143,
          -0.13409864195971524,
          -0.1602799081594644,
          -0.17783544343924718,
          -0.18051201247948317,
          -0.22035530068175316,
          -0.2106802787565801,
          -0.22830501900578778,
          -0.2087532578726863,
          -0.17697270224269357,
          -0.15169677007167656,
          -0.1805586357783427,
          -0.17105555053683558,
          -0.18760816732324725,
          -0.26042609658987065,
          -0.36716287454743096,
          -0.3686131929178776,
          -0.306731842478866,
          -0.2555829365458949,
          -0.24201462236873023,
          -0.2953942166767315,
          -0.2541023450749129,
          -0.255403514962404,
          -0.24112411836184983,
          -0.17023316822689608,
          -0.21035121379827343,
          -0.21491573854130092,
          -0.23983273678390712,
          -0.2563615437147152,
          -0.2796520589147319,
          -0.3517115084827786,
          -0.384409270126645,
          -0.4103619075423405,
          -0.3941565657127174,
          -0.40193238310117463,
          -0.3953047524728938,
          -0.38077598641384974,
          -0.2913581912626,
          -0.27178774438425524,
          -0.290553225754841,
          -0.32982931029755286,
          -0.33884663953976946,
          -0.3360456927636977,
          -0.28231840653984686,
          -0.1804328470272415,
          -0.1706978018179601,
          -0.12577107809085702,
          -0.11245409427920007,
          -0.016581745150213923,
          -0.04050084613015518,
          -0.035212153860870114,
          -0.04896587515414746,
          -0.050114888413569494,
          -0.06705642239101128,
          -0.09943465711679483,
          -0.1455490974613569,
          -0.13287074458253406,
          -0.10981058032491033,
          -0.11869778525771675,
          -0.08528124585616666,
          -0.07688898728406963,
          -0.06964751020719222,
          -0.03764112021932362,
          -0.057057330960662136
         ]
        },
        {
         "line": {
          "color": "red",
          "dash": "dash"
         },
         "mode": "lines",
         "name": "MASI Index Drawdown",
         "type": "scatter",
         "x": [
          "2021-02-08T00:00:00",
          "2021-02-09T00:00:00",
          "2021-02-10T00:00:00",
          "2021-02-11T00:00:00",
          "2021-02-12T00:00:00",
          "2021-02-15T00:00:00",
          "2021-02-16T00:00:00",
          "2021-02-17T00:00:00",
          "2021-02-18T00:00:00",
          "2021-02-19T00:00:00",
          "2021-02-22T00:00:00",
          "2021-02-23T00:00:00",
          "2021-02-24T00:00:00",
          "2021-02-25T00:00:00",
          "2021-02-26T00:00:00",
          "2021-03-01T00:00:00",
          "2021-03-02T00:00:00",
          "2021-03-03T00:00:00",
          "2021-03-04T00:00:00",
          "2021-03-05T00:00:00",
          "2021-03-08T00:00:00",
          "2021-03-09T00:00:00",
          "2021-03-10T00:00:00",
          "2021-03-11T00:00:00",
          "2021-03-12T00:00:00",
          "2021-03-15T00:00:00",
          "2021-03-16T00:00:00",
          "2021-03-17T00:00:00",
          "2021-03-18T00:00:00",
          "2021-03-19T00:00:00",
          "2021-03-22T00:00:00",
          "2021-03-23T00:00:00",
          "2021-03-24T00:00:00",
          "2021-03-25T00:00:00",
          "2021-03-26T00:00:00",
          "2021-03-29T00:00:00",
          "2021-03-30T00:00:00",
          "2021-03-31T00:00:00",
          "2021-04-01T00:00:00",
          "2021-04-02T00:00:00",
          "2021-04-05T00:00:00",
          "2021-04-06T00:00:00",
          "2021-04-07T00:00:00",
          "2021-04-08T00:00:00",
          "2021-04-09T00:00:00",
          "2021-04-12T00:00:00",
          "2021-04-13T00:00:00",
          "2021-04-14T00:00:00",
          "2021-04-15T00:00:00",
          "2021-04-16T00:00:00",
          "2021-04-19T00:00:00",
          "2021-04-20T00:00:00",
          "2021-04-21T00:00:00",
          "2021-04-22T00:00:00",
          "2021-04-23T00:00:00",
          "2021-04-26T00:00:00",
          "2021-04-27T00:00:00",
          "2021-04-28T00:00:00",
          "2021-04-29T00:00:00",
          "2021-04-30T00:00:00",
          "2021-05-03T00:00:00",
          "2021-05-04T00:00:00",
          "2021-05-05T00:00:00",
          "2021-05-06T00:00:00",
          "2021-05-07T00:00:00",
          "2021-05-10T00:00:00",
          "2021-05-11T00:00:00",
          "2021-05-12T00:00:00",
          "2021-05-17T00:00:00",
          "2021-05-18T00:00:00",
          "2021-05-19T00:00:00",
          "2021-05-20T00:00:00",
          "2021-05-21T00:00:00",
          "2021-05-24T00:00:00",
          "2021-05-25T00:00:00",
          "2021-05-26T00:00:00",
          "2021-05-27T00:00:00",
          "2021-05-28T00:00:00",
          "2021-05-31T00:00:00",
          "2021-06-01T00:00:00",
          "2021-06-02T00:00:00",
          "2021-06-03T00:00:00",
          "2021-06-04T00:00:00",
          "2021-06-07T00:00:00",
          "2021-06-08T00:00:00",
          "2021-06-09T00:00:00",
          "2021-06-10T00:00:00",
          "2021-06-11T00:00:00",
          "2021-06-14T00:00:00",
          "2021-06-15T00:00:00",
          "2021-06-16T00:00:00",
          "2021-06-17T00:00:00",
          "2021-06-18T00:00:00",
          "2021-06-21T00:00:00",
          "2021-06-22T00:00:00",
          "2021-06-23T00:00:00",
          "2021-06-24T00:00:00",
          "2021-06-25T00:00:00",
          "2021-06-28T00:00:00",
          "2021-06-29T00:00:00",
          "2021-06-30T00:00:00",
          "2021-07-01T00:00:00",
          "2021-07-02T00:00:00",
          "2021-07-05T00:00:00",
          "2021-07-06T00:00:00",
          "2021-07-07T00:00:00",
          "2021-07-08T00:00:00",
          "2021-07-09T00:00:00",
          "2021-07-12T00:00:00",
          "2021-07-13T00:00:00",
          "2021-07-14T00:00:00",
          "2021-07-15T00:00:00",
          "2021-07-16T00:00:00",
          "2021-07-19T00:00:00",
          "2021-07-20T00:00:00",
          "2021-07-23T00:00:00",
          "2021-07-26T00:00:00",
          "2021-07-27T00:00:00",
          "2021-07-28T00:00:00",
          "2021-07-29T00:00:00",
          "2021-08-02T00:00:00",
          "2021-08-03T00:00:00",
          "2021-08-04T00:00:00",
          "2021-08-05T00:00:00",
          "2021-08-06T00:00:00",
          "2021-08-09T00:00:00",
          "2021-08-11T00:00:00",
          "2021-08-12T00:00:00",
          "2021-08-13T00:00:00",
          "2021-08-16T00:00:00",
          "2021-08-17T00:00:00",
          "2021-08-18T00:00:00",
          "2021-08-19T00:00:00",
          "2021-08-23T00:00:00",
          "2021-08-24T00:00:00",
          "2021-08-25T00:00:00",
          "2021-08-26T00:00:00",
          "2021-08-27T00:00:00",
          "2021-08-30T00:00:00",
          "2021-08-31T00:00:00",
          "2021-09-01T00:00:00",
          "2021-09-02T00:00:00",
          "2021-09-03T00:00:00",
          "2021-09-06T00:00:00",
          "2021-09-07T00:00:00",
          "2021-09-08T00:00:00",
          "2021-09-09T00:00:00",
          "2021-09-10T00:00:00",
          "2021-09-13T00:00:00",
          "2021-09-14T00:00:00",
          "2021-09-15T00:00:00",
          "2021-09-16T00:00:00",
          "2021-09-17T00:00:00",
          "2021-09-20T00:00:00",
          "2021-09-21T00:00:00",
          "2021-09-22T00:00:00",
          "2021-09-23T00:00:00",
          "2021-09-24T00:00:00",
          "2021-09-27T00:00:00",
          "2021-09-28T00:00:00",
          "2021-09-29T00:00:00",
          "2021-09-30T00:00:00",
          "2021-10-01T00:00:00",
          "2021-10-04T00:00:00",
          "2021-10-05T00:00:00",
          "2021-10-06T00:00:00",
          "2021-10-07T00:00:00",
          "2021-10-08T00:00:00",
          "2021-10-11T00:00:00",
          "2021-10-12T00:00:00",
          "2021-10-13T00:00:00",
          "2021-10-14T00:00:00",
          "2021-10-15T00:00:00",
          "2021-10-18T00:00:00",
          "2021-10-21T00:00:00",
          "2021-10-22T00:00:00",
          "2021-10-25T00:00:00",
          "2021-10-26T00:00:00",
          "2021-10-27T00:00:00",
          "2021-10-28T00:00:00",
          "2021-10-29T00:00:00",
          "2021-11-01T00:00:00",
          "2021-11-02T00:00:00",
          "2021-11-03T00:00:00",
          "2021-11-04T00:00:00",
          "2021-11-05T00:00:00",
          "2021-11-08T00:00:00",
          "2021-11-09T00:00:00",
          "2021-11-10T00:00:00",
          "2021-11-11T00:00:00",
          "2021-11-12T00:00:00",
          "2021-11-15T00:00:00",
          "2021-11-16T00:00:00",
          "2021-11-17T00:00:00",
          "2021-11-19T00:00:00",
          "2021-11-22T00:00:00",
          "2021-11-23T00:00:00",
          "2021-11-24T00:00:00",
          "2021-11-25T00:00:00",
          "2021-11-26T00:00:00",
          "2021-11-29T00:00:00",
          "2021-11-30T00:00:00",
          "2021-12-01T00:00:00",
          "2021-12-02T00:00:00",
          "2021-12-03T00:00:00",
          "2021-12-06T00:00:00",
          "2021-12-07T00:00:00",
          "2021-12-08T00:00:00",
          "2021-12-09T00:00:00",
          "2021-12-10T00:00:00",
          "2021-12-13T00:00:00",
          "2021-12-14T00:00:00",
          "2021-12-15T00:00:00",
          "2021-12-16T00:00:00",
          "2021-12-17T00:00:00",
          "2021-12-20T00:00:00",
          "2021-12-21T00:00:00",
          "2021-12-22T00:00:00",
          "2021-12-23T00:00:00",
          "2021-12-24T00:00:00",
          "2021-12-27T00:00:00",
          "2021-12-28T00:00:00",
          "2021-12-29T00:00:00",
          "2021-12-30T00:00:00",
          "2021-12-31T00:00:00",
          "2022-01-03T00:00:00",
          "2022-01-04T00:00:00",
          "2022-01-05T00:00:00",
          "2022-01-06T00:00:00",
          "2022-01-07T00:00:00",
          "2022-01-10T00:00:00",
          "2022-01-12T00:00:00",
          "2022-01-13T00:00:00",
          "2022-01-14T00:00:00",
          "2022-01-17T00:00:00",
          "2022-01-18T00:00:00",
          "2022-01-19T00:00:00",
          "2022-01-20T00:00:00",
          "2022-01-21T00:00:00",
          "2022-01-24T00:00:00",
          "2022-01-25T00:00:00",
          "2022-01-26T00:00:00",
          "2022-01-27T00:00:00",
          "2022-01-28T00:00:00",
          "2022-01-31T00:00:00",
          "2022-02-01T00:00:00",
          "2022-02-02T00:00:00",
          "2022-02-03T00:00:00",
          "2022-02-04T00:00:00"
         ],
         "y": [
          0,
          null,
          null,
          null,
          null,
          null,
          null,
          null,
          null,
          null,
          null,
          null,
          null,
          null,
          null,
          null,
          null,
          null,
          null,
          null,
          null,
          null,
          null,
          null,
          null,
          null,
          null,
          null,
          null,
          null,
          null,
          null,
          null,
          null,
          null,
          null,
          null,
          null,
          null,
          null,
          null,
          null,
          null,
          null,
          null,
          null,
          null,
          null,
          null,
          null,
          null,
          null,
          null,
          0,
          0,
          -0.2956638316274508,
          0,
          0,
          0,
          0,
          0,
          0,
          0,
          0,
          0,
          0,
          -0.07979283772743107,
          -0.04136991581723131,
          0,
          -0.019732846250172985,
          0,
          -0.3084154400467837,
          -0.12134330621357789,
          -0.22544340032107404,
          -0.220904298377712,
          -0.17376771735982496,
          -0.21340959543406396,
          -0.08188575206165807,
          -0.17826189160068215,
          -0.07675175920034641,
          0,
          0,
          -0.015857879986233787,
          -0.010647827522059767,
          -0.029559360447036682,
          -0.037255005754654055,
          -0.019087640352563256,
          0,
          0,
          -0.0744799111609865,
          -0.13147983369050442,
          -0.14368218937386007,
          -0.09066996402094375,
          -0.023014307880236597,
          -0.055765737628737974,
          -0.05948559833054242,
          -0.10362077514384928,
          -0.17204892928711019,
          -0.1121997888203533,
          -0.1785015118358593,
          -0.18176282162590962,
          -0.17069209247072248,
          -0.16229206231879245,
          -0.3304314617959653,
          -0.44545689058113674,
          -0.3754538904874094,
          -0.3480627908119397,
          -0.3843014375245973,
          -0.38833245777366054,
          -0.41241753081485094,
          -0.46026734168583006,
          -0.49416758781430664,
          -0.4641685088651511,
          -0.47663045454034236,
          -0.48602273404361557,
          -0.40479510916195505,
          -0.4440546400346393,
          -0.4160652638276498,
          -0.38190635688851277,
          -0.3038218034918975,
          -0.15306889379007282,
          -0.1389278015770869,
          -0.16232121537828578,
          -0.1137351445707319,
          -0.04316151108554986,
          -0.07948180959429615,
          0,
          -0.04737030319318519,
          0,
          -0.02776246362124096,
          0,
          -0.008092850056400713,
          -0.018753971813374612,
          0,
          -0.006932948712598003,
          -0.05776310510125803,
          -0.028198856032230404,
          0,
          -0.008472400204419108,
          -0.08382468457912133,
          -0.07324640733691865,
          -0.06521320222484793,
          -0.01592862352850178,
          -0.08640429598174773,
          -0.06481465791165397,
          -0.04043391326901684,
          0,
          -0.06871897734564125,
          -0.06582861655397339,
          -0.054918355461231305,
          -0.059837283450966165,
          -0.05420162874488113,
          0,
          -0.052979838719800436,
          -0.059629487815126996,
          -0.03484123683199228,
          0,
          0,
          -0.006913047847023979,
          0,
          0,
          -0.007006038350533025,
          -0.061353270172434596,
          -0.07741261329444894,
          -0.09284248698248034,
          -0.08006945000920652,
          -0.0669301884562487,
          -0.003169323324713311,
          -0.034640383006858504,
          -0.024600563286367914,
          -0.006399617078902627,
          0,
          0,
          -0.006452108846657537,
          -0.0033749415321309086,
          -0.0001311885570528065,
          0,
          0,
          -0.0069059858611240765,
          0,
          -0.012562715940354928,
          -0.038124163529581756,
          -0.008730504943753178,
          -0.005158825604601429,
          -0.03841910905536188,
          -0.08814090627668522,
          -0.08042515693257572,
          -0.10599551477918343,
          -0.1252311064661581,
          -0.13154260991789596,
          -0.1511398406739275,
          -0.1507513641230574,
          -0.1685653695964106,
          -0.15447393093451556,
          -0.12727833147053944,
          -0.12136661579461247,
          -0.14523543461034383,
          -0.12708476013053846,
          -0.13577231443242205,
          -0.19096767742777188,
          -0.25584118058456373,
          -0.2633723755557223,
          -0.21812128663690233,
          -0.18545713675335368,
          -0.18834085885491045,
          -0.21368120400946997,
          -0.18707613585507055,
          -0.18548653526722847,
          -0.16075801000125903,
          -0.12761670783170254,
          -0.15740695290326262,
          -0.15853556771998573,
          -0.16431624392208652,
          -0.165113045022307,
          -0.14687124048496875,
          -0.1734229004499112,
          -0.1792934261935134,
          -0.19661059144688162,
          -0.1755562401573701,
          -0.17957375249460839,
          -0.18280038611827157,
          -0.15857254262038017,
          -0.10126635565778243,
          -0.09303301106302317,
          -0.11774227523369352,
          -0.15083955966468868,
          -0.16033896113015458,
          -0.15386163085241628,
          -0.11216765540289539,
          -0.054287050290777315,
          -0.049456090144916316,
          -0.02547335875727026,
          0,
          0,
          -0.006502363923296933,
          -0.00781731098351337,
          -0.022407092221908845,
          -0.0032306967743133365,
          -0.00024034029646985785,
          -0.01481266584706802,
          -0.03735709538124589,
          -0.02982450926676016,
          -0.024256241033524792,
          0,
          0,
          -0.009357799537869905,
          0,
          0,
          0
         ]
        }
       ],
       "layout": {
        "legend": {
         "font": {
          "size": 11
         },
         "traceorder": "normal",
         "x": 0,
         "y": 1
        },
        "template": {
         "data": {
          "bar": [
           {
            "error_x": {
             "color": "#2a3f5f"
            },
            "error_y": {
             "color": "#2a3f5f"
            },
            "marker": {
             "line": {
              "color": "#E5ECF6",
              "width": 0.5
             },
             "pattern": {
              "fillmode": "overlay",
              "size": 10,
              "solidity": 0.2
             }
            },
            "type": "bar"
           }
          ],
          "barpolar": [
           {
            "marker": {
             "line": {
              "color": "#E5ECF6",
              "width": 0.5
             },
             "pattern": {
              "fillmode": "overlay",
              "size": 10,
              "solidity": 0.2
             }
            },
            "type": "barpolar"
           }
          ],
          "carpet": [
           {
            "aaxis": {
             "endlinecolor": "#2a3f5f",
             "gridcolor": "white",
             "linecolor": "white",
             "minorgridcolor": "white",
             "startlinecolor": "#2a3f5f"
            },
            "baxis": {
             "endlinecolor": "#2a3f5f",
             "gridcolor": "white",
             "linecolor": "white",
             "minorgridcolor": "white",
             "startlinecolor": "#2a3f5f"
            },
            "type": "carpet"
           }
          ],
          "choropleth": [
           {
            "colorbar": {
             "outlinewidth": 0,
             "ticks": ""
            },
            "type": "choropleth"
           }
          ],
          "contour": [
           {
            "colorbar": {
             "outlinewidth": 0,
             "ticks": ""
            },
            "colorscale": [
             [
              0,
              "#0d0887"
             ],
             [
              0.1111111111111111,
              "#46039f"
             ],
             [
              0.2222222222222222,
              "#7201a8"
             ],
             [
              0.3333333333333333,
              "#9c179e"
             ],
             [
              0.4444444444444444,
              "#bd3786"
             ],
             [
              0.5555555555555556,
              "#d8576b"
             ],
             [
              0.6666666666666666,
              "#ed7953"
             ],
             [
              0.7777777777777778,
              "#fb9f3a"
             ],
             [
              0.8888888888888888,
              "#fdca26"
             ],
             [
              1,
              "#f0f921"
             ]
            ],
            "type": "contour"
           }
          ],
          "contourcarpet": [
           {
            "colorbar": {
             "outlinewidth": 0,
             "ticks": ""
            },
            "type": "contourcarpet"
           }
          ],
          "heatmap": [
           {
            "colorbar": {
             "outlinewidth": 0,
             "ticks": ""
            },
            "colorscale": [
             [
              0,
              "#0d0887"
             ],
             [
              0.1111111111111111,
              "#46039f"
             ],
             [
              0.2222222222222222,
              "#7201a8"
             ],
             [
              0.3333333333333333,
              "#9c179e"
             ],
             [
              0.4444444444444444,
              "#bd3786"
             ],
             [
              0.5555555555555556,
              "#d8576b"
             ],
             [
              0.6666666666666666,
              "#ed7953"
             ],
             [
              0.7777777777777778,
              "#fb9f3a"
             ],
             [
              0.8888888888888888,
              "#fdca26"
             ],
             [
              1,
              "#f0f921"
             ]
            ],
            "type": "heatmap"
           }
          ],
          "heatmapgl": [
           {
            "colorbar": {
             "outlinewidth": 0,
             "ticks": ""
            },
            "colorscale": [
             [
              0,
              "#0d0887"
             ],
             [
              0.1111111111111111,
              "#46039f"
             ],
             [
              0.2222222222222222,
              "#7201a8"
             ],
             [
              0.3333333333333333,
              "#9c179e"
             ],
             [
              0.4444444444444444,
              "#bd3786"
             ],
             [
              0.5555555555555556,
              "#d8576b"
             ],
             [
              0.6666666666666666,
              "#ed7953"
             ],
             [
              0.7777777777777778,
              "#fb9f3a"
             ],
             [
              0.8888888888888888,
              "#fdca26"
             ],
             [
              1,
              "#f0f921"
             ]
            ],
            "type": "heatmapgl"
           }
          ],
          "histogram": [
           {
            "marker": {
             "pattern": {
              "fillmode": "overlay",
              "size": 10,
              "solidity": 0.2
             }
            },
            "type": "histogram"
           }
          ],
          "histogram2d": [
           {
            "colorbar": {
             "outlinewidth": 0,
             "ticks": ""
            },
            "colorscale": [
             [
              0,
              "#0d0887"
             ],
             [
              0.1111111111111111,
              "#46039f"
             ],
             [
              0.2222222222222222,
              "#7201a8"
             ],
             [
              0.3333333333333333,
              "#9c179e"
             ],
             [
              0.4444444444444444,
              "#bd3786"
             ],
             [
              0.5555555555555556,
              "#d8576b"
             ],
             [
              0.6666666666666666,
              "#ed7953"
             ],
             [
              0.7777777777777778,
              "#fb9f3a"
             ],
             [
              0.8888888888888888,
              "#fdca26"
             ],
             [
              1,
              "#f0f921"
             ]
            ],
            "type": "histogram2d"
           }
          ],
          "histogram2dcontour": [
           {
            "colorbar": {
             "outlinewidth": 0,
             "ticks": ""
            },
            "colorscale": [
             [
              0,
              "#0d0887"
             ],
             [
              0.1111111111111111,
              "#46039f"
             ],
             [
              0.2222222222222222,
              "#7201a8"
             ],
             [
              0.3333333333333333,
              "#9c179e"
             ],
             [
              0.4444444444444444,
              "#bd3786"
             ],
             [
              0.5555555555555556,
              "#d8576b"
             ],
             [
              0.6666666666666666,
              "#ed7953"
             ],
             [
              0.7777777777777778,
              "#fb9f3a"
             ],
             [
              0.8888888888888888,
              "#fdca26"
             ],
             [
              1,
              "#f0f921"
             ]
            ],
            "type": "histogram2dcontour"
           }
          ],
          "mesh3d": [
           {
            "colorbar": {
             "outlinewidth": 0,
             "ticks": ""
            },
            "type": "mesh3d"
           }
          ],
          "parcoords": [
           {
            "line": {
             "colorbar": {
              "outlinewidth": 0,
              "ticks": ""
             }
            },
            "type": "parcoords"
           }
          ],
          "pie": [
           {
            "automargin": true,
            "type": "pie"
           }
          ],
          "scatter": [
           {
            "fillpattern": {
             "fillmode": "overlay",
             "size": 10,
             "solidity": 0.2
            },
            "type": "scatter"
           }
          ],
          "scatter3d": [
           {
            "line": {
             "colorbar": {
              "outlinewidth": 0,
              "ticks": ""
             }
            },
            "marker": {
             "colorbar": {
              "outlinewidth": 0,
              "ticks": ""
             }
            },
            "type": "scatter3d"
           }
          ],
          "scattercarpet": [
           {
            "marker": {
             "colorbar": {
              "outlinewidth": 0,
              "ticks": ""
             }
            },
            "type": "scattercarpet"
           }
          ],
          "scattergeo": [
           {
            "marker": {
             "colorbar": {
              "outlinewidth": 0,
              "ticks": ""
             }
            },
            "type": "scattergeo"
           }
          ],
          "scattergl": [
           {
            "marker": {
             "colorbar": {
              "outlinewidth": 0,
              "ticks": ""
             }
            },
            "type": "scattergl"
           }
          ],
          "scattermapbox": [
           {
            "marker": {
             "colorbar": {
              "outlinewidth": 0,
              "ticks": ""
             }
            },
            "type": "scattermapbox"
           }
          ],
          "scatterpolar": [
           {
            "marker": {
             "colorbar": {
              "outlinewidth": 0,
              "ticks": ""
             }
            },
            "type": "scatterpolar"
           }
          ],
          "scatterpolargl": [
           {
            "marker": {
             "colorbar": {
              "outlinewidth": 0,
              "ticks": ""
             }
            },
            "type": "scatterpolargl"
           }
          ],
          "scatterternary": [
           {
            "marker": {
             "colorbar": {
              "outlinewidth": 0,
              "ticks": ""
             }
            },
            "type": "scatterternary"
           }
          ],
          "surface": [
           {
            "colorbar": {
             "outlinewidth": 0,
             "ticks": ""
            },
            "colorscale": [
             [
              0,
              "#0d0887"
             ],
             [
              0.1111111111111111,
              "#46039f"
             ],
             [
              0.2222222222222222,
              "#7201a8"
             ],
             [
              0.3333333333333333,
              "#9c179e"
             ],
             [
              0.4444444444444444,
              "#bd3786"
             ],
             [
              0.5555555555555556,
              "#d8576b"
             ],
             [
              0.6666666666666666,
              "#ed7953"
             ],
             [
              0.7777777777777778,
              "#fb9f3a"
             ],
             [
              0.8888888888888888,
              "#fdca26"
             ],
             [
              1,
              "#f0f921"
             ]
            ],
            "type": "surface"
           }
          ],
          "table": [
           {
            "cells": {
             "fill": {
              "color": "#EBF0F8"
             },
             "line": {
              "color": "white"
             }
            },
            "header": {
             "fill": {
              "color": "#C8D4E3"
             },
             "line": {
              "color": "white"
             }
            },
            "type": "table"
           }
          ]
         },
         "layout": {
          "annotationdefaults": {
           "arrowcolor": "#2a3f5f",
           "arrowhead": 0,
           "arrowwidth": 1
          },
          "autotypenumbers": "strict",
          "coloraxis": {
           "colorbar": {
            "outlinewidth": 0,
            "ticks": ""
           }
          },
          "colorscale": {
           "diverging": [
            [
             0,
             "#8e0152"
            ],
            [
             0.1,
             "#c51b7d"
            ],
            [
             0.2,
             "#de77ae"
            ],
            [
             0.3,
             "#f1b6da"
            ],
            [
             0.4,
             "#fde0ef"
            ],
            [
             0.5,
             "#f7f7f7"
            ],
            [
             0.6,
             "#e6f5d0"
            ],
            [
             0.7,
             "#b8e186"
            ],
            [
             0.8,
             "#7fbc41"
            ],
            [
             0.9,
             "#4d9221"
            ],
            [
             1,
             "#276419"
            ]
           ],
           "sequential": [
            [
             0,
             "#0d0887"
            ],
            [
             0.1111111111111111,
             "#46039f"
            ],
            [
             0.2222222222222222,
             "#7201a8"
            ],
            [
             0.3333333333333333,
             "#9c179e"
            ],
            [
             0.4444444444444444,
             "#bd3786"
            ],
            [
             0.5555555555555556,
             "#d8576b"
            ],
            [
             0.6666666666666666,
             "#ed7953"
            ],
            [
             0.7777777777777778,
             "#fb9f3a"
            ],
            [
             0.8888888888888888,
             "#fdca26"
            ],
            [
             1,
             "#f0f921"
            ]
           ],
           "sequentialminus": [
            [
             0,
             "#0d0887"
            ],
            [
             0.1111111111111111,
             "#46039f"
            ],
            [
             0.2222222222222222,
             "#7201a8"
            ],
            [
             0.3333333333333333,
             "#9c179e"
            ],
            [
             0.4444444444444444,
             "#bd3786"
            ],
            [
             0.5555555555555556,
             "#d8576b"
            ],
            [
             0.6666666666666666,
             "#ed7953"
            ],
            [
             0.7777777777777778,
             "#fb9f3a"
            ],
            [
             0.8888888888888888,
             "#fdca26"
            ],
            [
             1,
             "#f0f921"
            ]
           ]
          },
          "colorway": [
           "#636efa",
           "#EF553B",
           "#00cc96",
           "#ab63fa",
           "#FFA15A",
           "#19d3f3",
           "#FF6692",
           "#B6E880",
           "#FF97FF",
           "#FECB52"
          ],
          "font": {
           "color": "#2a3f5f"
          },
          "geo": {
           "bgcolor": "white",
           "lakecolor": "white",
           "landcolor": "#E5ECF6",
           "showlakes": true,
           "showland": true,
           "subunitcolor": "white"
          },
          "hoverlabel": {
           "align": "left"
          },
          "hovermode": "closest",
          "mapbox": {
           "style": "light"
          },
          "paper_bgcolor": "white",
          "plot_bgcolor": "#E5ECF6",
          "polar": {
           "angularaxis": {
            "gridcolor": "white",
            "linecolor": "white",
            "ticks": ""
           },
           "bgcolor": "#E5ECF6",
           "radialaxis": {
            "gridcolor": "white",
            "linecolor": "white",
            "ticks": ""
           }
          },
          "scene": {
           "xaxis": {
            "backgroundcolor": "#E5ECF6",
            "gridcolor": "white",
            "gridwidth": 2,
            "linecolor": "white",
            "showbackground": true,
            "ticks": "",
            "zerolinecolor": "white"
           },
           "yaxis": {
            "backgroundcolor": "#E5ECF6",
            "gridcolor": "white",
            "gridwidth": 2,
            "linecolor": "white",
            "showbackground": true,
            "ticks": "",
            "zerolinecolor": "white"
           },
           "zaxis": {
            "backgroundcolor": "#E5ECF6",
            "gridcolor": "white",
            "gridwidth": 2,
            "linecolor": "white",
            "showbackground": true,
            "ticks": "",
            "zerolinecolor": "white"
           }
          },
          "shapedefaults": {
           "line": {
            "color": "#2a3f5f"
           }
          },
          "ternary": {
           "aaxis": {
            "gridcolor": "white",
            "linecolor": "white",
            "ticks": ""
           },
           "baxis": {
            "gridcolor": "white",
            "linecolor": "white",
            "ticks": ""
           },
           "bgcolor": "#E5ECF6",
           "caxis": {
            "gridcolor": "white",
            "linecolor": "white",
            "ticks": ""
           }
          },
          "title": {
           "x": 0.05
          },
          "xaxis": {
           "automargin": true,
           "gridcolor": "white",
           "linecolor": "white",
           "ticks": "",
           "title": {
            "standoff": 15
           },
           "zerolinecolor": "white",
           "zerolinewidth": 2
          },
          "yaxis": {
           "automargin": true,
           "gridcolor": "white",
           "linecolor": "white",
           "ticks": "",
           "title": {
            "standoff": 15
           },
           "zerolinecolor": "white",
           "zerolinewidth": 2
          }
         }
        },
        "title": {
         "text": "Market-Cap Portfolio Drawdown Comparison"
        },
        "xaxis": {
         "title": {
          "text": "Date"
         }
        },
        "yaxis": {
         "title": {
          "text": "Maximum Drawdown"
         }
        }
       }
      }
     },
     "metadata": {},
     "output_type": "display_data"
    }
   ],
   "source": [
    "# Create traces\n",
    "marketcap_trace = go.Scatter(x=portfolio_returns_market_cap_weighted.index, y=maximum_drawdown(portfolio_returns_market_cap_weighted), mode='lines', name='Market-Cap Portfolio Drawdown', line=dict(color='blue'))\n",
    "masi_trace = go.Scatter(x=benchmark_cumulative_returns.index, y=maximum_drawdown(benchmark_cumulative_returns), mode='lines', name='MASI Index Drawdown', line=dict(dash='dash', color='red'))\n",
    "\n",
    "# Layout\n",
    "layout = go.Layout(\n",
    "    title='Market-Cap Portfolio Drawdown Comparison',\n",
    "    xaxis=dict(title='Date'),\n",
    "    yaxis=dict(title='Maximum Drawdown'),\n",
    "    legend=dict(x=0, y=1, traceorder='normal', font=dict(size=11))\n",
    ")\n",
    "\n",
    "# Create figure\n",
    "fig = go.Figure(data=[marketcap_trace, masi_trace], layout=layout)\n",
    "\n",
    "# Show plot\n",
    "fig.show()"
   ]
  },
  {
   "cell_type": "markdown",
   "metadata": {
    "slideshow": {
     "slide_type": "notes"
    }
   },
   "source": [
    "The market-cap weighted portfolio exhibits significantly deeper drawdowns compared to the MASI Index, with a dramatic dip occurring in mid-2021, where the portfolio experienced a drawdown of over 100%, indicating a substantial loss. Although the MASI Index also experiences drawdowns, they are much less severe and recover more quickly than those of the market-cap portfolio. This suggests that the market-cap weighted strategy carried higher risk and was more vulnerable to large losses during this period, emphasizing the importance of managing downside risk in portfolio construction."
   ]
  },
  {
   "cell_type": "markdown",
   "metadata": {
    "id": "_6yPYXGlU5LJ",
    "slideshow": {
     "slide_type": "slide"
    }
   },
   "source": [
    "# Maximizing Sharpe Ratio"
   ]
  },
  {
   "cell_type": "markdown",
   "metadata": {
    "slideshow": {
     "slide_type": "fragment"
    }
   },
   "source": [
    "The Sharp ratio measures the risk-adjusted return of an investment. It is given by the formula:\n",
    "\n",
    "$$\n",
    "\\text{Sharp Ratio} = \\frac{R_p - R_f}{\\sigma_p}\n",
    "$$\n",
    "\n",
    "where: \n",
    "\n",
    "- $R_p$ is the portfolio return\n",
    "- $R_f$ is the risk-free rate\n",
    "- $\\sigma_p$ is the portfolio standard deviation\n",
    "The Sharp ratio is used to compare the performance of different portfolios. A higher Sharp ratio indicates better risk-adjusted returns.\n",
    "\n",
    "To build an optimal portfolio, the goal is to maximize the Sharpe Ratio. This is done by adjusting the portfolio's asset weights such that the overall return ($R_p$) increases relative to the portfolio’s risk ($\\sigma_p$). In practice, this involves solving a constrained optimization problem, where the sum of the portfolio weights equals 1 (fully invested portfolio) and no asset weight exceeds predefined bounds. By optimizing the Sharpe Ratio, we seek to construct a portfolio that maximizes returns for each unit of risk, thus improving overall performance compared to other strategies that may not account for risk as effectively."
   ]
  },
  {
   "cell_type": "markdown",
   "metadata": {
    "slideshow": {
     "slide_type": "slide"
    }
   },
   "source": [
    "## Building a Sharp Ratio Optimized Portfolio"
   ]
  },
  {
   "cell_type": "markdown",
   "metadata": {},
   "source": [
    "In this section, we aim to optimize the portfolio's asset weights to maximize the Sharpe Ratio, thereby achieving the best possible risk-adjusted returns. We start by making an initial guess of equal weights for all assets and then define the bounds for the weights, ensuring that no asset exceeds a certain allocation. Additionally, we impose a constraint that the total allocation across all assets must sum to 100%, ensuring a fully invested portfolio.\n",
    "\n",
    "To optimize the portfolio, we use the SLSQP (Sequential Least Squares Programming) method, which minimizes the negative Sharpe Ratio—effectively maximizing it. The result of this optimization is a set of asset weights that generate the highest possible Sharpe Ratio, maximizing returns for each unit of risk taken.\n"
   ]
  },
  {
   "cell_type": "code",
   "execution_count": 19,
   "metadata": {
    "slideshow": {
     "slide_type": "subslide"
    }
   },
   "outputs": [
    {
     "name": "stdout",
     "output_type": "stream",
     "text": [
      "Optimized Sharpe Ratio: 0.00927165701200428\n"
     ]
    }
   ],
   "source": [
    "# Define the initial guess for the weights (equal weights for each asset)\n",
    "initial_weights = np.array([1 / num_assets] * num_assets)\n",
    "\n",
    "# Define the bounds for the weights (each weight should be between 0.001 and 1)\n",
    "bounds = [(0.001, 1)] * num_assets\n",
    "\n",
    "# Define the constraint that the sum of all weights must equal 1 (full investment)\n",
    "constraints = ({'type': 'eq', 'fun': lambda x: np.sum(x) - 1})\n",
    "\n",
    "# Calculate the daily returns for the training data, removing any rows with missing values\n",
    "train_returns = train.pct_change().dropna()\n",
    "\n",
    "# Minimize the negative Sharpe Ratio (to effectively maximize the Sharpe Ratio)\n",
    "result = minimize(sharpe_ratio, initial_weights, args=(train_returns),\n",
    "                  bounds=bounds, method='SLSQP', constraints=constraints)\n",
    "\n",
    "# Extract the optimized weights from the result of the minimization\n",
    "optimized_weights = result.x\n",
    "\n",
    "# Print the optimized Sharpe Ratio (converted back from the negative value)\n",
    "print(\"Optimized Sharpe Ratio:\", -result.fun)"
   ]
  },
  {
   "cell_type": "code",
   "execution_count": 20,
   "metadata": {
    "slideshow": {
     "slide_type": "subslide"
    }
   },
   "outputs": [
    {
     "name": "stdout",
     "output_type": "stream",
     "text": [
      "The cumulative return for the optimized portfolio over the entire testing period : 21.72%\n"
     ]
    }
   ],
   "source": [
    "# Calculate the portfolio return using the portfolio_return function\n",
    "portfolio_returns_optimized = cumulative_returns(optimized_weights, test)\n",
    "\n",
    "print(f\"The cumulative return for the optimized portfolio over the entire testing period : {portfolio_returns_optimized[-1]*100:.2f}%\")"
   ]
  },
  {
   "cell_type": "markdown",
   "metadata": {
    "slideshow": {
     "slide_type": "slide"
    }
   },
   "source": [
    "## Backtesting the Sharpe Ratio Optimized Portfolio"
   ]
  },
  {
   "cell_type": "code",
   "execution_count": 21,
   "metadata": {
    "slideshow": {
     "slide_type": "subslide"
    },
    "tags": [
     "to_remove"
    ]
   },
   "outputs": [
    {
     "data": {
      "application/vnd.plotly.v1+json": {
       "config": {
        "plotlyServerURL": "https://plot.ly"
       },
       "data": [
        {
         "line": {
          "color": "red",
          "dash": "dash"
         },
         "mode": "lines",
         "name": "MASI Index",
         "type": "scatter",
         "x": [
          "2021-02-08T00:00:00",
          "2021-02-09T00:00:00",
          "2021-02-10T00:00:00",
          "2021-02-11T00:00:00",
          "2021-02-12T00:00:00",
          "2021-02-15T00:00:00",
          "2021-02-16T00:00:00",
          "2021-02-17T00:00:00",
          "2021-02-18T00:00:00",
          "2021-02-19T00:00:00",
          "2021-02-22T00:00:00",
          "2021-02-23T00:00:00",
          "2021-02-24T00:00:00",
          "2021-02-25T00:00:00",
          "2021-02-26T00:00:00",
          "2021-03-01T00:00:00",
          "2021-03-02T00:00:00",
          "2021-03-03T00:00:00",
          "2021-03-04T00:00:00",
          "2021-03-05T00:00:00",
          "2021-03-08T00:00:00",
          "2021-03-09T00:00:00",
          "2021-03-10T00:00:00",
          "2021-03-11T00:00:00",
          "2021-03-12T00:00:00",
          "2021-03-15T00:00:00",
          "2021-03-16T00:00:00",
          "2021-03-17T00:00:00",
          "2021-03-18T00:00:00",
          "2021-03-19T00:00:00",
          "2021-03-22T00:00:00",
          "2021-03-23T00:00:00",
          "2021-03-24T00:00:00",
          "2021-03-25T00:00:00",
          "2021-03-26T00:00:00",
          "2021-03-29T00:00:00",
          "2021-03-30T00:00:00",
          "2021-03-31T00:00:00",
          "2021-04-01T00:00:00",
          "2021-04-02T00:00:00",
          "2021-04-05T00:00:00",
          "2021-04-06T00:00:00",
          "2021-04-07T00:00:00",
          "2021-04-08T00:00:00",
          "2021-04-09T00:00:00",
          "2021-04-12T00:00:00",
          "2021-04-13T00:00:00",
          "2021-04-14T00:00:00",
          "2021-04-15T00:00:00",
          "2021-04-16T00:00:00",
          "2021-04-19T00:00:00",
          "2021-04-20T00:00:00",
          "2021-04-21T00:00:00",
          "2021-04-22T00:00:00",
          "2021-04-23T00:00:00",
          "2021-04-26T00:00:00",
          "2021-04-27T00:00:00",
          "2021-04-28T00:00:00",
          "2021-04-29T00:00:00",
          "2021-04-30T00:00:00",
          "2021-05-03T00:00:00",
          "2021-05-04T00:00:00",
          "2021-05-05T00:00:00",
          "2021-05-06T00:00:00",
          "2021-05-07T00:00:00",
          "2021-05-10T00:00:00",
          "2021-05-11T00:00:00",
          "2021-05-12T00:00:00",
          "2021-05-17T00:00:00",
          "2021-05-18T00:00:00",
          "2021-05-19T00:00:00",
          "2021-05-20T00:00:00",
          "2021-05-21T00:00:00",
          "2021-05-24T00:00:00",
          "2021-05-25T00:00:00",
          "2021-05-26T00:00:00",
          "2021-05-27T00:00:00",
          "2021-05-28T00:00:00",
          "2021-05-31T00:00:00",
          "2021-06-01T00:00:00",
          "2021-06-02T00:00:00",
          "2021-06-03T00:00:00",
          "2021-06-04T00:00:00",
          "2021-06-07T00:00:00",
          "2021-06-08T00:00:00",
          "2021-06-09T00:00:00",
          "2021-06-10T00:00:00",
          "2021-06-11T00:00:00",
          "2021-06-14T00:00:00",
          "2021-06-15T00:00:00",
          "2021-06-16T00:00:00",
          "2021-06-17T00:00:00",
          "2021-06-18T00:00:00",
          "2021-06-21T00:00:00",
          "2021-06-22T00:00:00",
          "2021-06-23T00:00:00",
          "2021-06-24T00:00:00",
          "2021-06-25T00:00:00",
          "2021-06-28T00:00:00",
          "2021-06-29T00:00:00",
          "2021-06-30T00:00:00",
          "2021-07-01T00:00:00",
          "2021-07-02T00:00:00",
          "2021-07-05T00:00:00",
          "2021-07-06T00:00:00",
          "2021-07-07T00:00:00",
          "2021-07-08T00:00:00",
          "2021-07-09T00:00:00",
          "2021-07-12T00:00:00",
          "2021-07-13T00:00:00",
          "2021-07-14T00:00:00",
          "2021-07-15T00:00:00",
          "2021-07-16T00:00:00",
          "2021-07-19T00:00:00",
          "2021-07-20T00:00:00",
          "2021-07-23T00:00:00",
          "2021-07-26T00:00:00",
          "2021-07-27T00:00:00",
          "2021-07-28T00:00:00",
          "2021-07-29T00:00:00",
          "2021-08-02T00:00:00",
          "2021-08-03T00:00:00",
          "2021-08-04T00:00:00",
          "2021-08-05T00:00:00",
          "2021-08-06T00:00:00",
          "2021-08-09T00:00:00",
          "2021-08-11T00:00:00",
          "2021-08-12T00:00:00",
          "2021-08-13T00:00:00",
          "2021-08-16T00:00:00",
          "2021-08-17T00:00:00",
          "2021-08-18T00:00:00",
          "2021-08-19T00:00:00",
          "2021-08-23T00:00:00",
          "2021-08-24T00:00:00",
          "2021-08-25T00:00:00",
          "2021-08-26T00:00:00",
          "2021-08-27T00:00:00",
          "2021-08-30T00:00:00",
          "2021-08-31T00:00:00",
          "2021-09-01T00:00:00",
          "2021-09-02T00:00:00",
          "2021-09-03T00:00:00",
          "2021-09-06T00:00:00",
          "2021-09-07T00:00:00",
          "2021-09-08T00:00:00",
          "2021-09-09T00:00:00",
          "2021-09-10T00:00:00",
          "2021-09-13T00:00:00",
          "2021-09-14T00:00:00",
          "2021-09-15T00:00:00",
          "2021-09-16T00:00:00",
          "2021-09-17T00:00:00",
          "2021-09-20T00:00:00",
          "2021-09-21T00:00:00",
          "2021-09-22T00:00:00",
          "2021-09-23T00:00:00",
          "2021-09-24T00:00:00",
          "2021-09-27T00:00:00",
          "2021-09-28T00:00:00",
          "2021-09-29T00:00:00",
          "2021-09-30T00:00:00",
          "2021-10-01T00:00:00",
          "2021-10-04T00:00:00",
          "2021-10-05T00:00:00",
          "2021-10-06T00:00:00",
          "2021-10-07T00:00:00",
          "2021-10-08T00:00:00",
          "2021-10-11T00:00:00",
          "2021-10-12T00:00:00",
          "2021-10-13T00:00:00",
          "2021-10-14T00:00:00",
          "2021-10-15T00:00:00",
          "2021-10-18T00:00:00",
          "2021-10-21T00:00:00",
          "2021-10-22T00:00:00",
          "2021-10-25T00:00:00",
          "2021-10-26T00:00:00",
          "2021-10-27T00:00:00",
          "2021-10-28T00:00:00",
          "2021-10-29T00:00:00",
          "2021-11-01T00:00:00",
          "2021-11-02T00:00:00",
          "2021-11-03T00:00:00",
          "2021-11-04T00:00:00",
          "2021-11-05T00:00:00",
          "2021-11-08T00:00:00",
          "2021-11-09T00:00:00",
          "2021-11-10T00:00:00",
          "2021-11-11T00:00:00",
          "2021-11-12T00:00:00",
          "2021-11-15T00:00:00",
          "2021-11-16T00:00:00",
          "2021-11-17T00:00:00",
          "2021-11-19T00:00:00",
          "2021-11-22T00:00:00",
          "2021-11-23T00:00:00",
          "2021-11-24T00:00:00",
          "2021-11-25T00:00:00",
          "2021-11-26T00:00:00",
          "2021-11-29T00:00:00",
          "2021-11-30T00:00:00",
          "2021-12-01T00:00:00",
          "2021-12-02T00:00:00",
          "2021-12-03T00:00:00",
          "2021-12-06T00:00:00",
          "2021-12-07T00:00:00",
          "2021-12-08T00:00:00",
          "2021-12-09T00:00:00",
          "2021-12-10T00:00:00",
          "2021-12-13T00:00:00",
          "2021-12-14T00:00:00",
          "2021-12-15T00:00:00",
          "2021-12-16T00:00:00",
          "2021-12-17T00:00:00",
          "2021-12-20T00:00:00",
          "2021-12-21T00:00:00",
          "2021-12-22T00:00:00",
          "2021-12-23T00:00:00",
          "2021-12-24T00:00:00",
          "2021-12-27T00:00:00",
          "2021-12-28T00:00:00",
          "2021-12-29T00:00:00",
          "2021-12-30T00:00:00",
          "2021-12-31T00:00:00",
          "2022-01-03T00:00:00",
          "2022-01-04T00:00:00",
          "2022-01-05T00:00:00",
          "2022-01-06T00:00:00",
          "2022-01-07T00:00:00",
          "2022-01-10T00:00:00",
          "2022-01-12T00:00:00",
          "2022-01-13T00:00:00",
          "2022-01-14T00:00:00",
          "2022-01-17T00:00:00",
          "2022-01-18T00:00:00",
          "2022-01-19T00:00:00",
          "2022-01-20T00:00:00",
          "2022-01-21T00:00:00",
          "2022-01-24T00:00:00",
          "2022-01-25T00:00:00",
          "2022-01-26T00:00:00",
          "2022-01-27T00:00:00",
          "2022-01-28T00:00:00",
          "2022-01-31T00:00:00",
          "2022-02-01T00:00:00",
          "2022-02-02T00:00:00",
          "2022-02-03T00:00:00",
          "2022-02-04T00:00:00"
         ],
         "y": [
          0,
          -0.004573021857980031,
          -0.01200090059126313,
          -0.009601986625110692,
          -0.012658633287570886,
          -0.015080324321870231,
          -0.010615156067898313,
          -0.015697133478634218,
          -0.01167973196944061,
          -0.020309113862777006,
          -0.02145708322350237,
          -0.027581970127370847,
          -0.03575385418792454,
          -0.03000693333612614,
          -0.029611000226924644,
          -0.03013541958063526,
          -0.028581786022703892,
          -0.031250427977778106,
          -0.030273491673029174,
          -0.03029827647223926,
          -0.03184497267858177,
          -0.02901062029073298,
          -0.029971417855148452,
          -0.030226425330785567,
          -0.024750761760931494,
          -0.024509765685054585,
          -0.018580995660147925,
          -0.01229515707330131,
          -0.017743677827887994,
          -0.020465699798634218,
          -0.022382245697429637,
          -0.027530623473370985,
          -0.02313302604909695,
          -0.018117243958691964,
          -0.017546663877600288,
          -0.01894424119893312,
          -0.01596197456471249,
          -0.018890416919366215,
          -0.012984167656513335,
          -0.011260799660144483,
          -0.014664689817639465,
          -0.014241938547555066,
          -0.015236465993832549,
          -0.012673080407689441,
          -0.010671979128755282,
          -0.007483898701714509,
          -0.008329580656148194,
          -0.007296983211497743,
          -0.005996366485213178,
          -0.0030256507122583542,
          -0.003520389820379166,
          -0.00029040334710417337,
          -0.0018872415688084843,
          0.000811798288916199,
          0.002963325613935197,
          0.0020871774085593486,
          0.0035530603037234876,
          0.0066458888430036556,
          0.008091532100343413,
          0.009097097795700337,
          0.012878390131860096,
          0.01758544298949838,
          0.02132037809693932,
          0.026074540014503267,
          0.026282985216546706,
          0.030054640443603287,
          0.027656495395730563,
          0.028811282498534263,
          0.04030036545233462,
          0.03950512453703792,
          0.04259626145610307,
          0.02945891673477119,
          0.03742749025868153,
          0.03299321543247369,
          0.03318656420562904,
          0.035194406334813744,
          0.0335058105317525,
          0.03910823455175505,
          0.03500297131382091,
          0.03932692345398925,
          0.048280549642266024,
          0.058264363997917235,
          0.05734041470616402,
          0.0576439750993849,
          0.05654210666128545,
          0.05609372478188357,
          0.057152234772554156,
          0.06476391060525355,
          0.07355755053016977,
          0.06807899070146295,
          0.06388621601978217,
          0.06298864062501663,
          0.06688809007013052,
          0.07186467441535238,
          0.06945555946669169,
          0.06918193562515351,
          0.06593546012655072,
          0.060902052720471556,
          0.06530440889454225,
          0.06042741655359185,
          0.06018752259391569,
          0.06100185831315419,
          0.06161974395550973,
          0.04925182158235519,
          0.0407908327922355,
          0.045940082008893324,
          0.0479549042073486,
          0.04528927812063732,
          0.04499276614497871,
          0.043221127167728524,
          0.03970141228672741,
          0.0372077932191468,
          0.03941445198480786,
          0.03849778178610075,
          0.03780690871194525,
          0.04378181383362367,
          0.04089397890766544,
          0.042952808862319,
          0.04546545438554994,
          0.05120916286764721,
          0.0622981776406093,
          0.0633383617456178,
          0.06161759952786294,
          0.06519147188635199,
          0.07038269549753595,
          0.067711063304708,
          0.07365556198019929,
          0.0701664756773328,
          0.07846031017701982,
          0.07628205867001903,
          0.07858024434155331,
          0.07794430620670179,
          0.07710655265408373,
          0.08617414961845937,
          0.08557670865880285,
          0.08119646315703677,
          0.08374413717966855,
          0.09226422161133807,
          0.0914825222012976,
          0.08453020233682951,
          0.08550619885257027,
          0.0862473762692797,
          0.09079457956014081,
          0.08429219649870645,
          0.08628414765011416,
          0.08853361807687188,
          0.10818786987158457,
          0.10075331009280597,
          0.10106601207001686,
          0.10224636997738346,
          0.10171420163612233,
          0.10232391111410544,
          0.1123001131787893,
          0.1063504712943617,
          0.1056037149483573,
          0.10838743833926756,
          0.11732630984011383,
          0.12192714945273986,
          0.12108426123472182,
          0.125131539490843,
          0.12751457102275476,
          0.12662119904791758,
          0.11969113509587359,
          0.1176433348467627,
          0.11567580112249809,
          0.11730454945280289,
          0.11897999675328408,
          0.12711043611857153,
          0.12309741744357128,
          0.12437764074837543,
          0.1266985265962286,
          0.1348510680902839,
          0.1363698611066162,
          0.13548998791935274,
          0.13590962079863655,
          0.13635197094131213,
          0.13918118012022473,
          0.15774894184242894,
          0.15665952988045784,
          0.16012675327357617,
          0.15811512635774894,
          0.15402205474631336,
          0.15872876586249407,
          0.15930068727880675,
          0.15397482607687762,
          0.1460130361209,
          0.14724853401244498,
          0.14315403563042417,
          0.14007390278629273,
          0.13906326223029097,
          0.13592522129617457,
          0.13598742678498832,
          0.13313492792574255,
          0.13539134424762556,
          0.13974608729312066,
          0.14069271113058335,
          0.13687067466914504,
          0.13977708324332183,
          0.13838597337907332,
          0.12954771910687146,
          0.11915973567289129,
          0.11795378987388938,
          0.12519969982455392,
          0.13043010409384803,
          0.1299683430363825,
          0.12591067583995108,
          0.13017085902413728,
          0.1304253966052702,
          0.13438509506935348,
          0.13969190418502309,
          0.13492168896249002,
          0.1347409675361917,
          0.13381532662422346,
          0.13368773745104034,
          0.1366087383854555,
          0.13235710728124528,
          0.1314170790539133,
          0.12864413760598947,
          0.13201550252026029,
          0.13137219131346178,
          0.13085552094730124,
          0.1347350468654389,
          0.14391130052624823,
          0.14522967926478958,
          0.14127306501736103,
          0.1359733043192537,
          0.1344521960045464,
          0.13548938987180126,
          0.14216571079160123,
          0.15143394416571465,
          0.15220751012906542,
          0.15604778704080147,
          0.1609163725418956,
          0.17766723163079456,
          0.17651197463348645,
          0.17627835162955674,
          0.1736862255868321,
          0.17709324267866378,
          0.17762453103567144,
          0.17503550629667397,
          0.17103009991264106,
          0.1723683936346223,
          0.17335769243659893,
          0.1784281873343605,
          0.18614133474934813,
          0.1843994614530522,
          0.18802229681887428,
          0.18869584360113123,
          0.19176737310406833
         ]
        },
        {
         "line": {
          "color": "green"
         },
         "mode": "lines",
         "name": "Optimized Portfolio",
         "type": "scatter",
         "x": [
          "2021-02-08T00:00:00",
          "2021-02-09T00:00:00",
          "2021-02-10T00:00:00",
          "2021-02-11T00:00:00",
          "2021-02-12T00:00:00",
          "2021-02-15T00:00:00",
          "2021-02-16T00:00:00",
          "2021-02-17T00:00:00",
          "2021-02-18T00:00:00",
          "2021-02-19T00:00:00",
          "2021-02-22T00:00:00",
          "2021-02-23T00:00:00",
          "2021-02-24T00:00:00",
          "2021-02-25T00:00:00",
          "2021-02-26T00:00:00",
          "2021-03-01T00:00:00",
          "2021-03-02T00:00:00",
          "2021-03-03T00:00:00",
          "2021-03-04T00:00:00",
          "2021-03-05T00:00:00",
          "2021-03-08T00:00:00",
          "2021-03-09T00:00:00",
          "2021-03-10T00:00:00",
          "2021-03-11T00:00:00",
          "2021-03-12T00:00:00",
          "2021-03-15T00:00:00",
          "2021-03-16T00:00:00",
          "2021-03-17T00:00:00",
          "2021-03-18T00:00:00",
          "2021-03-19T00:00:00",
          "2021-03-22T00:00:00",
          "2021-03-23T00:00:00",
          "2021-03-24T00:00:00",
          "2021-03-25T00:00:00",
          "2021-03-26T00:00:00",
          "2021-03-29T00:00:00",
          "2021-03-30T00:00:00",
          "2021-03-31T00:00:00",
          "2021-04-01T00:00:00",
          "2021-04-02T00:00:00",
          "2021-04-05T00:00:00",
          "2021-04-06T00:00:00",
          "2021-04-07T00:00:00",
          "2021-04-08T00:00:00",
          "2021-04-09T00:00:00",
          "2021-04-12T00:00:00",
          "2021-04-13T00:00:00",
          "2021-04-14T00:00:00",
          "2021-04-15T00:00:00",
          "2021-04-16T00:00:00",
          "2021-04-19T00:00:00",
          "2021-04-20T00:00:00",
          "2021-04-21T00:00:00",
          "2021-04-22T00:00:00",
          "2021-04-23T00:00:00",
          "2021-04-26T00:00:00",
          "2021-04-27T00:00:00",
          "2021-04-28T00:00:00",
          "2021-04-29T00:00:00",
          "2021-04-30T00:00:00",
          "2021-05-03T00:00:00",
          "2021-05-04T00:00:00",
          "2021-05-05T00:00:00",
          "2021-05-06T00:00:00",
          "2021-05-07T00:00:00",
          "2021-05-10T00:00:00",
          "2021-05-11T00:00:00",
          "2021-05-12T00:00:00",
          "2021-05-17T00:00:00",
          "2021-05-18T00:00:00",
          "2021-05-19T00:00:00",
          "2021-05-20T00:00:00",
          "2021-05-21T00:00:00",
          "2021-05-24T00:00:00",
          "2021-05-25T00:00:00",
          "2021-05-26T00:00:00",
          "2021-05-27T00:00:00",
          "2021-05-28T00:00:00",
          "2021-05-31T00:00:00",
          "2021-06-01T00:00:00",
          "2021-06-02T00:00:00",
          "2021-06-03T00:00:00",
          "2021-06-04T00:00:00",
          "2021-06-07T00:00:00",
          "2021-06-08T00:00:00",
          "2021-06-09T00:00:00",
          "2021-06-10T00:00:00",
          "2021-06-11T00:00:00",
          "2021-06-14T00:00:00",
          "2021-06-15T00:00:00",
          "2021-06-16T00:00:00",
          "2021-06-17T00:00:00",
          "2021-06-18T00:00:00",
          "2021-06-21T00:00:00",
          "2021-06-22T00:00:00",
          "2021-06-23T00:00:00",
          "2021-06-24T00:00:00",
          "2021-06-25T00:00:00",
          "2021-06-28T00:00:00",
          "2021-06-29T00:00:00",
          "2021-06-30T00:00:00",
          "2021-07-01T00:00:00",
          "2021-07-02T00:00:00",
          "2021-07-05T00:00:00",
          "2021-07-06T00:00:00",
          "2021-07-07T00:00:00",
          "2021-07-08T00:00:00",
          "2021-07-09T00:00:00",
          "2021-07-12T00:00:00",
          "2021-07-13T00:00:00",
          "2021-07-14T00:00:00",
          "2021-07-15T00:00:00",
          "2021-07-16T00:00:00",
          "2021-07-19T00:00:00",
          "2021-07-20T00:00:00",
          "2021-07-23T00:00:00",
          "2021-07-26T00:00:00",
          "2021-07-27T00:00:00",
          "2021-07-28T00:00:00",
          "2021-07-29T00:00:00",
          "2021-08-02T00:00:00",
          "2021-08-03T00:00:00",
          "2021-08-04T00:00:00",
          "2021-08-05T00:00:00",
          "2021-08-06T00:00:00",
          "2021-08-09T00:00:00",
          "2021-08-11T00:00:00",
          "2021-08-12T00:00:00",
          "2021-08-13T00:00:00",
          "2021-08-16T00:00:00",
          "2021-08-17T00:00:00",
          "2021-08-18T00:00:00",
          "2021-08-19T00:00:00",
          "2021-08-23T00:00:00",
          "2021-08-24T00:00:00",
          "2021-08-25T00:00:00",
          "2021-08-26T00:00:00",
          "2021-08-27T00:00:00",
          "2021-08-30T00:00:00",
          "2021-08-31T00:00:00",
          "2021-09-01T00:00:00",
          "2021-09-02T00:00:00",
          "2021-09-03T00:00:00",
          "2021-09-06T00:00:00",
          "2021-09-07T00:00:00",
          "2021-09-08T00:00:00",
          "2021-09-09T00:00:00",
          "2021-09-10T00:00:00",
          "2021-09-13T00:00:00",
          "2021-09-14T00:00:00",
          "2021-09-15T00:00:00",
          "2021-09-16T00:00:00",
          "2021-09-17T00:00:00",
          "2021-09-20T00:00:00",
          "2021-09-21T00:00:00",
          "2021-09-22T00:00:00",
          "2021-09-23T00:00:00",
          "2021-09-24T00:00:00",
          "2021-09-27T00:00:00",
          "2021-09-28T00:00:00",
          "2021-09-29T00:00:00",
          "2021-09-30T00:00:00",
          "2021-10-01T00:00:00",
          "2021-10-04T00:00:00",
          "2021-10-05T00:00:00",
          "2021-10-06T00:00:00",
          "2021-10-07T00:00:00",
          "2021-10-08T00:00:00",
          "2021-10-11T00:00:00",
          "2021-10-12T00:00:00",
          "2021-10-13T00:00:00",
          "2021-10-14T00:00:00",
          "2021-10-15T00:00:00",
          "2021-10-18T00:00:00",
          "2021-10-21T00:00:00",
          "2021-10-22T00:00:00",
          "2021-10-25T00:00:00",
          "2021-10-26T00:00:00",
          "2021-10-27T00:00:00",
          "2021-10-28T00:00:00",
          "2021-10-29T00:00:00",
          "2021-11-01T00:00:00",
          "2021-11-02T00:00:00",
          "2021-11-03T00:00:00",
          "2021-11-04T00:00:00",
          "2021-11-05T00:00:00",
          "2021-11-08T00:00:00",
          "2021-11-09T00:00:00",
          "2021-11-10T00:00:00",
          "2021-11-11T00:00:00",
          "2021-11-12T00:00:00",
          "2021-11-15T00:00:00",
          "2021-11-16T00:00:00",
          "2021-11-17T00:00:00",
          "2021-11-19T00:00:00",
          "2021-11-22T00:00:00",
          "2021-11-23T00:00:00",
          "2021-11-24T00:00:00",
          "2021-11-25T00:00:00",
          "2021-11-26T00:00:00",
          "2021-11-29T00:00:00",
          "2021-11-30T00:00:00",
          "2021-12-01T00:00:00",
          "2021-12-02T00:00:00",
          "2021-12-03T00:00:00",
          "2021-12-06T00:00:00",
          "2021-12-07T00:00:00",
          "2021-12-08T00:00:00",
          "2021-12-09T00:00:00",
          "2021-12-10T00:00:00",
          "2021-12-13T00:00:00",
          "2021-12-14T00:00:00",
          "2021-12-15T00:00:00",
          "2021-12-16T00:00:00",
          "2021-12-17T00:00:00",
          "2021-12-20T00:00:00",
          "2021-12-21T00:00:00",
          "2021-12-22T00:00:00",
          "2021-12-23T00:00:00",
          "2021-12-24T00:00:00",
          "2021-12-27T00:00:00",
          "2021-12-28T00:00:00",
          "2021-12-29T00:00:00",
          "2021-12-30T00:00:00",
          "2021-12-31T00:00:00",
          "2022-01-03T00:00:00",
          "2022-01-04T00:00:00",
          "2022-01-05T00:00:00",
          "2022-01-06T00:00:00",
          "2022-01-07T00:00:00",
          "2022-01-10T00:00:00",
          "2022-01-12T00:00:00",
          "2022-01-13T00:00:00",
          "2022-01-14T00:00:00",
          "2022-01-17T00:00:00",
          "2022-01-18T00:00:00",
          "2022-01-19T00:00:00",
          "2022-01-20T00:00:00",
          "2022-01-21T00:00:00",
          "2022-01-24T00:00:00",
          "2022-01-25T00:00:00",
          "2022-01-26T00:00:00",
          "2022-01-27T00:00:00",
          "2022-01-28T00:00:00",
          "2022-01-31T00:00:00",
          "2022-02-01T00:00:00",
          "2022-02-02T00:00:00",
          "2022-02-03T00:00:00",
          "2022-02-04T00:00:00"
         ],
         "y": [
          0,
          -0.0010503453950776453,
          0.0048793328360277055,
          0.007274787709892205,
          0.009644872908285418,
          0.00914634665254388,
          0.010904163245470055,
          0.011757148440531884,
          0.006770081724891908,
          0.002849712246583369,
          0.003277751348811364,
          0.005023738772919506,
          -0.00042466523096551523,
          -0.007073900140438738,
          -0.0005895151272300447,
          -0.0021344666406323265,
          -0.0004758916950787784,
          0.0018372422022630008,
          -0.00402285850152162,
          0.001409685467818056,
          0.004275410429328552,
          0.006425064298311911,
          0.005361277662434993,
          0.00006339728502657849,
          0.002225207195464929,
          0.0018739273555741232,
          -0.0017642867324616507,
          -0.0001313010866630382,
          0.005167181557218736,
          0.0014421340108412561,
          -0.004135776655273982,
          -0.008583385241642483,
          -0.016090036710778466,
          -0.01694290996380199,
          -0.015554664325299838,
          -0.015864045405037275,
          -0.020784255807154928,
          -0.021083593316191807,
          -0.022950043771787443,
          -0.025827329631507134,
          -0.025346744472591665,
          -0.026622599499186328,
          -0.029882525235210178,
          -0.02406532029001507,
          -0.02733956144926719,
          -0.029701451327210915,
          -0.026367096787509703,
          -0.024367050405903257,
          -0.023538735195211546,
          -0.015758416214872062,
          -0.014997032769486718,
          -0.017330462034012895,
          -0.016912093039474496,
          -0.012150634148522022,
          -0.008694898039085741,
          -0.01040904898572681,
          -0.003878451904182012,
          -0.0016567559255524777,
          0.003553944398623221,
          0.0017601695585824917,
          0.008722423759717657,
          0.008598546211901592,
          0.008189021912137218,
          0.009025134269577961,
          0.012704079874445329,
          0.013369401726269992,
          0.010418935385861694,
          0.010993155735899762,
          0.011094987765526865,
          0.013003643206809246,
          0.01277452618904551,
          0.010067281333687061,
          0.016232042838276728,
          0.013752654167979994,
          0.01026553197379032,
          0.020107180377492817,
          0.023838283054492315,
          0.014778778818418825,
          0.007934986914907238,
          0.01179285839489208,
          0.0218361883833742,
          0.031256163385848135,
          0.03957404069271542,
          0.04521981661356045,
          0.04918234128176291,
          0.052753334249977524,
          0.050651095397535206,
          0.04644837879917896,
          0.04840531511318269,
          0.04983378782960379,
          0.0441301309096267,
          0.04484549637535307,
          0.04653493389161767,
          0.050541487634214954,
          0.05130163166550261,
          0.047254008057299624,
          0.04698437835366254,
          0.04462898530210113,
          0.046789552134340884,
          0.039904934712131857,
          0.03896017226293824,
          0.03654397946886734,
          0.04517430098302522,
          0.040708203285817035,
          0.03259858227858303,
          0.045156757358438826,
          0.04347508820734647,
          0.048558583415339696,
          0.04275038930548947,
          0.037798393332582725,
          0.034955930140642355,
          0.03484470843457643,
          0.03444775326041083,
          0.033523822173610274,
          0.03334099699841975,
          0.03942171162534769,
          0.03027547035592404,
          0.031232588607631673,
          0.030178385751340686,
          0.03137863773624039,
          0.031008424506315357,
          0.021130253213289096,
          0.02466977267437409,
          0.022522701065289086,
          0.026120248839380134,
          0.022810813447554423,
          0.019378524843262523,
          0.016225663910512722,
          0.019086198678524458,
          0.018481094769693174,
          0.021513777969849768,
          0.02451124862646048,
          0.02411839904026114,
          0.034830712707781375,
          0.035083675912782164,
          0.032390055949377494,
          0.032242000632320966,
          0.03711942243633426,
          0.0394934686263928,
          0.03542840458381735,
          0.03716234916624983,
          0.03594781538353664,
          0.0413894217686086,
          0.03679011599679227,
          0.035123629677096035,
          0.035477696335515674,
          0.043309784730937606,
          0.04594010285885286,
          0.04337711462609328,
          0.041706016836509985,
          0.04170945684482086,
          0.042211221335731075,
          0.05444406499178944,
          0.04873178914881349,
          0.0520125748625464,
          0.0536787027366874,
          0.05842911802583206,
          0.06109468850414812,
          0.06164423398266661,
          0.055269935616882426,
          0.05835465525083716,
          0.05800082891876279,
          0.05803496148558751,
          0.06053486321107093,
          0.05965396555277058,
          0.05940927891970338,
          0.06444630373187588,
          0.07180895838689971,
          0.0724130410072501,
          0.07131697798649461,
          0.07766292325628177,
          0.09610204935967892,
          0.10879140123840125,
          0.11306004951357651,
          0.11916058396761353,
          0.1262960112374487,
          0.13455305825702335,
          0.14801820887112216,
          0.14161273109420436,
          0.14369941949964993,
          0.15828144596931426,
          0.1556274742054291,
          0.14266358798711898,
          0.1448043917998294,
          0.1403909794629632,
          0.14352574474654256,
          0.14043869943017184,
          0.14682841408146818,
          0.13820630279754353,
          0.12782118831949396,
          0.12310330503301348,
          0.12478509445274044,
          0.1213134589858762,
          0.12418931327250116,
          0.12028647210774746,
          0.122556249405956,
          0.11847731035456621,
          0.12211717621562035,
          0.1238979523952235,
          0.12045450908844635,
          0.1028687802690309,
          0.12529633145282149,
          0.12391678291821129,
          0.12071291191032674,
          0.1240968656826893,
          0.1273866135993036,
          0.12698815056867563,
          0.12603964536991108,
          0.12682810841116643,
          0.12569971618976838,
          0.12483151131093906,
          0.11899857360428645,
          0.12010223508176998,
          0.12630550055833245,
          0.1414214622959855,
          0.13844139864878713,
          0.1377666448619792,
          0.13734404788997456,
          0.13748748004973899,
          0.1528264863386617,
          0.14950012291653292,
          0.1602541891856777,
          0.16804006174530173,
          0.17697799051580465,
          0.17771680839185677,
          0.17453835296034725,
          0.17379034996154052,
          0.17263960609127382,
          0.1707252199978455,
          0.1720172102451476,
          0.17129551550652944,
          0.17925465650288075,
          0.18425147480030546,
          0.20139987954383587,
          0.20984329690346115,
          0.21382881545467392,
          0.2183884519783572,
          0.22056036567091764,
          0.2278511541657724,
          0.22249825619200836,
          0.21639150528725581,
          0.21404407129253777,
          0.2172485759210514,
          0.22110453644149097,
          0.22046440494662845,
          0.22186659749697957,
          0.21458180015040185,
          0.21462958321386982,
          0.21723940429348176
         ]
        }
       ],
       "layout": {
        "legend": {
         "font": {
          "size": 12
         },
         "traceorder": "normal",
         "x": 0,
         "y": 1
        },
        "template": {
         "data": {
          "bar": [
           {
            "error_x": {
             "color": "#2a3f5f"
            },
            "error_y": {
             "color": "#2a3f5f"
            },
            "marker": {
             "line": {
              "color": "#E5ECF6",
              "width": 0.5
             },
             "pattern": {
              "fillmode": "overlay",
              "size": 10,
              "solidity": 0.2
             }
            },
            "type": "bar"
           }
          ],
          "barpolar": [
           {
            "marker": {
             "line": {
              "color": "#E5ECF6",
              "width": 0.5
             },
             "pattern": {
              "fillmode": "overlay",
              "size": 10,
              "solidity": 0.2
             }
            },
            "type": "barpolar"
           }
          ],
          "carpet": [
           {
            "aaxis": {
             "endlinecolor": "#2a3f5f",
             "gridcolor": "white",
             "linecolor": "white",
             "minorgridcolor": "white",
             "startlinecolor": "#2a3f5f"
            },
            "baxis": {
             "endlinecolor": "#2a3f5f",
             "gridcolor": "white",
             "linecolor": "white",
             "minorgridcolor": "white",
             "startlinecolor": "#2a3f5f"
            },
            "type": "carpet"
           }
          ],
          "choropleth": [
           {
            "colorbar": {
             "outlinewidth": 0,
             "ticks": ""
            },
            "type": "choropleth"
           }
          ],
          "contour": [
           {
            "colorbar": {
             "outlinewidth": 0,
             "ticks": ""
            },
            "colorscale": [
             [
              0,
              "#0d0887"
             ],
             [
              0.1111111111111111,
              "#46039f"
             ],
             [
              0.2222222222222222,
              "#7201a8"
             ],
             [
              0.3333333333333333,
              "#9c179e"
             ],
             [
              0.4444444444444444,
              "#bd3786"
             ],
             [
              0.5555555555555556,
              "#d8576b"
             ],
             [
              0.6666666666666666,
              "#ed7953"
             ],
             [
              0.7777777777777778,
              "#fb9f3a"
             ],
             [
              0.8888888888888888,
              "#fdca26"
             ],
             [
              1,
              "#f0f921"
             ]
            ],
            "type": "contour"
           }
          ],
          "contourcarpet": [
           {
            "colorbar": {
             "outlinewidth": 0,
             "ticks": ""
            },
            "type": "contourcarpet"
           }
          ],
          "heatmap": [
           {
            "colorbar": {
             "outlinewidth": 0,
             "ticks": ""
            },
            "colorscale": [
             [
              0,
              "#0d0887"
             ],
             [
              0.1111111111111111,
              "#46039f"
             ],
             [
              0.2222222222222222,
              "#7201a8"
             ],
             [
              0.3333333333333333,
              "#9c179e"
             ],
             [
              0.4444444444444444,
              "#bd3786"
             ],
             [
              0.5555555555555556,
              "#d8576b"
             ],
             [
              0.6666666666666666,
              "#ed7953"
             ],
             [
              0.7777777777777778,
              "#fb9f3a"
             ],
             [
              0.8888888888888888,
              "#fdca26"
             ],
             [
              1,
              "#f0f921"
             ]
            ],
            "type": "heatmap"
           }
          ],
          "heatmapgl": [
           {
            "colorbar": {
             "outlinewidth": 0,
             "ticks": ""
            },
            "colorscale": [
             [
              0,
              "#0d0887"
             ],
             [
              0.1111111111111111,
              "#46039f"
             ],
             [
              0.2222222222222222,
              "#7201a8"
             ],
             [
              0.3333333333333333,
              "#9c179e"
             ],
             [
              0.4444444444444444,
              "#bd3786"
             ],
             [
              0.5555555555555556,
              "#d8576b"
             ],
             [
              0.6666666666666666,
              "#ed7953"
             ],
             [
              0.7777777777777778,
              "#fb9f3a"
             ],
             [
              0.8888888888888888,
              "#fdca26"
             ],
             [
              1,
              "#f0f921"
             ]
            ],
            "type": "heatmapgl"
           }
          ],
          "histogram": [
           {
            "marker": {
             "pattern": {
              "fillmode": "overlay",
              "size": 10,
              "solidity": 0.2
             }
            },
            "type": "histogram"
           }
          ],
          "histogram2d": [
           {
            "colorbar": {
             "outlinewidth": 0,
             "ticks": ""
            },
            "colorscale": [
             [
              0,
              "#0d0887"
             ],
             [
              0.1111111111111111,
              "#46039f"
             ],
             [
              0.2222222222222222,
              "#7201a8"
             ],
             [
              0.3333333333333333,
              "#9c179e"
             ],
             [
              0.4444444444444444,
              "#bd3786"
             ],
             [
              0.5555555555555556,
              "#d8576b"
             ],
             [
              0.6666666666666666,
              "#ed7953"
             ],
             [
              0.7777777777777778,
              "#fb9f3a"
             ],
             [
              0.8888888888888888,
              "#fdca26"
             ],
             [
              1,
              "#f0f921"
             ]
            ],
            "type": "histogram2d"
           }
          ],
          "histogram2dcontour": [
           {
            "colorbar": {
             "outlinewidth": 0,
             "ticks": ""
            },
            "colorscale": [
             [
              0,
              "#0d0887"
             ],
             [
              0.1111111111111111,
              "#46039f"
             ],
             [
              0.2222222222222222,
              "#7201a8"
             ],
             [
              0.3333333333333333,
              "#9c179e"
             ],
             [
              0.4444444444444444,
              "#bd3786"
             ],
             [
              0.5555555555555556,
              "#d8576b"
             ],
             [
              0.6666666666666666,
              "#ed7953"
             ],
             [
              0.7777777777777778,
              "#fb9f3a"
             ],
             [
              0.8888888888888888,
              "#fdca26"
             ],
             [
              1,
              "#f0f921"
             ]
            ],
            "type": "histogram2dcontour"
           }
          ],
          "mesh3d": [
           {
            "colorbar": {
             "outlinewidth": 0,
             "ticks": ""
            },
            "type": "mesh3d"
           }
          ],
          "parcoords": [
           {
            "line": {
             "colorbar": {
              "outlinewidth": 0,
              "ticks": ""
             }
            },
            "type": "parcoords"
           }
          ],
          "pie": [
           {
            "automargin": true,
            "type": "pie"
           }
          ],
          "scatter": [
           {
            "fillpattern": {
             "fillmode": "overlay",
             "size": 10,
             "solidity": 0.2
            },
            "type": "scatter"
           }
          ],
          "scatter3d": [
           {
            "line": {
             "colorbar": {
              "outlinewidth": 0,
              "ticks": ""
             }
            },
            "marker": {
             "colorbar": {
              "outlinewidth": 0,
              "ticks": ""
             }
            },
            "type": "scatter3d"
           }
          ],
          "scattercarpet": [
           {
            "marker": {
             "colorbar": {
              "outlinewidth": 0,
              "ticks": ""
             }
            },
            "type": "scattercarpet"
           }
          ],
          "scattergeo": [
           {
            "marker": {
             "colorbar": {
              "outlinewidth": 0,
              "ticks": ""
             }
            },
            "type": "scattergeo"
           }
          ],
          "scattergl": [
           {
            "marker": {
             "colorbar": {
              "outlinewidth": 0,
              "ticks": ""
             }
            },
            "type": "scattergl"
           }
          ],
          "scattermapbox": [
           {
            "marker": {
             "colorbar": {
              "outlinewidth": 0,
              "ticks": ""
             }
            },
            "type": "scattermapbox"
           }
          ],
          "scatterpolar": [
           {
            "marker": {
             "colorbar": {
              "outlinewidth": 0,
              "ticks": ""
             }
            },
            "type": "scatterpolar"
           }
          ],
          "scatterpolargl": [
           {
            "marker": {
             "colorbar": {
              "outlinewidth": 0,
              "ticks": ""
             }
            },
            "type": "scatterpolargl"
           }
          ],
          "scatterternary": [
           {
            "marker": {
             "colorbar": {
              "outlinewidth": 0,
              "ticks": ""
             }
            },
            "type": "scatterternary"
           }
          ],
          "surface": [
           {
            "colorbar": {
             "outlinewidth": 0,
             "ticks": ""
            },
            "colorscale": [
             [
              0,
              "#0d0887"
             ],
             [
              0.1111111111111111,
              "#46039f"
             ],
             [
              0.2222222222222222,
              "#7201a8"
             ],
             [
              0.3333333333333333,
              "#9c179e"
             ],
             [
              0.4444444444444444,
              "#bd3786"
             ],
             [
              0.5555555555555556,
              "#d8576b"
             ],
             [
              0.6666666666666666,
              "#ed7953"
             ],
             [
              0.7777777777777778,
              "#fb9f3a"
             ],
             [
              0.8888888888888888,
              "#fdca26"
             ],
             [
              1,
              "#f0f921"
             ]
            ],
            "type": "surface"
           }
          ],
          "table": [
           {
            "cells": {
             "fill": {
              "color": "#EBF0F8"
             },
             "line": {
              "color": "white"
             }
            },
            "header": {
             "fill": {
              "color": "#C8D4E3"
             },
             "line": {
              "color": "white"
             }
            },
            "type": "table"
           }
          ]
         },
         "layout": {
          "annotationdefaults": {
           "arrowcolor": "#2a3f5f",
           "arrowhead": 0,
           "arrowwidth": 1
          },
          "autotypenumbers": "strict",
          "coloraxis": {
           "colorbar": {
            "outlinewidth": 0,
            "ticks": ""
           }
          },
          "colorscale": {
           "diverging": [
            [
             0,
             "#8e0152"
            ],
            [
             0.1,
             "#c51b7d"
            ],
            [
             0.2,
             "#de77ae"
            ],
            [
             0.3,
             "#f1b6da"
            ],
            [
             0.4,
             "#fde0ef"
            ],
            [
             0.5,
             "#f7f7f7"
            ],
            [
             0.6,
             "#e6f5d0"
            ],
            [
             0.7,
             "#b8e186"
            ],
            [
             0.8,
             "#7fbc41"
            ],
            [
             0.9,
             "#4d9221"
            ],
            [
             1,
             "#276419"
            ]
           ],
           "sequential": [
            [
             0,
             "#0d0887"
            ],
            [
             0.1111111111111111,
             "#46039f"
            ],
            [
             0.2222222222222222,
             "#7201a8"
            ],
            [
             0.3333333333333333,
             "#9c179e"
            ],
            [
             0.4444444444444444,
             "#bd3786"
            ],
            [
             0.5555555555555556,
             "#d8576b"
            ],
            [
             0.6666666666666666,
             "#ed7953"
            ],
            [
             0.7777777777777778,
             "#fb9f3a"
            ],
            [
             0.8888888888888888,
             "#fdca26"
            ],
            [
             1,
             "#f0f921"
            ]
           ],
           "sequentialminus": [
            [
             0,
             "#0d0887"
            ],
            [
             0.1111111111111111,
             "#46039f"
            ],
            [
             0.2222222222222222,
             "#7201a8"
            ],
            [
             0.3333333333333333,
             "#9c179e"
            ],
            [
             0.4444444444444444,
             "#bd3786"
            ],
            [
             0.5555555555555556,
             "#d8576b"
            ],
            [
             0.6666666666666666,
             "#ed7953"
            ],
            [
             0.7777777777777778,
             "#fb9f3a"
            ],
            [
             0.8888888888888888,
             "#fdca26"
            ],
            [
             1,
             "#f0f921"
            ]
           ]
          },
          "colorway": [
           "#636efa",
           "#EF553B",
           "#00cc96",
           "#ab63fa",
           "#FFA15A",
           "#19d3f3",
           "#FF6692",
           "#B6E880",
           "#FF97FF",
           "#FECB52"
          ],
          "font": {
           "color": "#2a3f5f"
          },
          "geo": {
           "bgcolor": "white",
           "lakecolor": "white",
           "landcolor": "#E5ECF6",
           "showlakes": true,
           "showland": true,
           "subunitcolor": "white"
          },
          "hoverlabel": {
           "align": "left"
          },
          "hovermode": "closest",
          "mapbox": {
           "style": "light"
          },
          "paper_bgcolor": "white",
          "plot_bgcolor": "#E5ECF6",
          "polar": {
           "angularaxis": {
            "gridcolor": "white",
            "linecolor": "white",
            "ticks": ""
           },
           "bgcolor": "#E5ECF6",
           "radialaxis": {
            "gridcolor": "white",
            "linecolor": "white",
            "ticks": ""
           }
          },
          "scene": {
           "xaxis": {
            "backgroundcolor": "#E5ECF6",
            "gridcolor": "white",
            "gridwidth": 2,
            "linecolor": "white",
            "showbackground": true,
            "ticks": "",
            "zerolinecolor": "white"
           },
           "yaxis": {
            "backgroundcolor": "#E5ECF6",
            "gridcolor": "white",
            "gridwidth": 2,
            "linecolor": "white",
            "showbackground": true,
            "ticks": "",
            "zerolinecolor": "white"
           },
           "zaxis": {
            "backgroundcolor": "#E5ECF6",
            "gridcolor": "white",
            "gridwidth": 2,
            "linecolor": "white",
            "showbackground": true,
            "ticks": "",
            "zerolinecolor": "white"
           }
          },
          "shapedefaults": {
           "line": {
            "color": "#2a3f5f"
           }
          },
          "ternary": {
           "aaxis": {
            "gridcolor": "white",
            "linecolor": "white",
            "ticks": ""
           },
           "baxis": {
            "gridcolor": "white",
            "linecolor": "white",
            "ticks": ""
           },
           "bgcolor": "#E5ECF6",
           "caxis": {
            "gridcolor": "white",
            "linecolor": "white",
            "ticks": ""
           }
          },
          "title": {
           "x": 0.05
          },
          "xaxis": {
           "automargin": true,
           "gridcolor": "white",
           "linecolor": "white",
           "ticks": "",
           "title": {
            "standoff": 15
           },
           "zerolinecolor": "white",
           "zerolinewidth": 2
          },
          "yaxis": {
           "automargin": true,
           "gridcolor": "white",
           "linecolor": "white",
           "ticks": "",
           "title": {
            "standoff": 15
           },
           "zerolinecolor": "white",
           "zerolinewidth": 2
          }
         }
        },
        "title": {
         "text": "Sharpe Ratio Optimized Portfolio Performance"
        },
        "xaxis": {
         "title": {
          "text": "Date"
         }
        },
        "yaxis": {
         "title": {
          "text": "Cumulative Returns"
         }
        }
       }
      }
     },
     "metadata": {},
     "output_type": "display_data"
    }
   ],
   "source": [
    "# Create traces\n",
    "masi_trace = go.Scatter(x=benchmark_cumulative_returns.index, y=benchmark_cumulative_returns, mode='lines', name='MASI Index', line=dict(dash='dash', color='red'))\n",
    "optimized_trace = go.Scatter(x=portfolio_returns_optimized.index, y=portfolio_returns_optimized, mode='lines', name='Optimized Portfolio', line=dict(color='green'))\n",
    "\n",
    "# Layout\n",
    "layout = go.Layout(\n",
    "    title='Sharpe Ratio Optimized Portfolio Performance',\n",
    "    xaxis=dict(title='Date'),\n",
    "    yaxis=dict(title='Cumulative Returns'),\n",
    "    legend=dict(x=0, y=1, traceorder='normal', font=dict(size=12))\n",
    ")\n",
    "\n",
    "# Create figure\n",
    "fig = go.Figure(data=[masi_trace, optimized_trace], layout=layout)\n",
    "\n",
    "# Show plot\n",
    "fig.show()"
   ]
  },
  {
   "cell_type": "markdown",
   "metadata": {},
   "source": [
    "The optimized portfolio is constructed to maximize risk-adjusted returns, meaning it seeks to achieve the highest possible returns for a given level of risk. \n",
    "\n",
    "Throughout the testing period, the optimized portfolio shows a performance similar to the MASI Index but demonstrates higher stability in periods of market volatility. Particularly towards the end of 2021, the optimized portfolio begins to outperform the MASI Index. This suggests that the optimization successfully adjusted asset weights to"
   ]
  },
  {
   "cell_type": "code",
   "execution_count": 22,
   "metadata": {
    "slideshow": {
     "slide_type": "subslide"
    },
    "tags": [
     "to_remove"
    ]
   },
   "outputs": [
    {
     "data": {
      "application/vnd.plotly.v1+json": {
       "config": {
        "plotlyServerURL": "https://plot.ly"
       },
       "data": [
        {
         "line": {
          "color": "purple"
         },
         "mode": "lines",
         "name": "Optimized Portfolio Drawdown",
         "type": "scatter",
         "x": [
          "2021-02-08T00:00:00",
          "2021-02-09T00:00:00",
          "2021-02-10T00:00:00",
          "2021-02-11T00:00:00",
          "2021-02-12T00:00:00",
          "2021-02-15T00:00:00",
          "2021-02-16T00:00:00",
          "2021-02-17T00:00:00",
          "2021-02-18T00:00:00",
          "2021-02-19T00:00:00",
          "2021-02-22T00:00:00",
          "2021-02-23T00:00:00",
          "2021-02-24T00:00:00",
          "2021-02-25T00:00:00",
          "2021-02-26T00:00:00",
          "2021-03-01T00:00:00",
          "2021-03-02T00:00:00",
          "2021-03-03T00:00:00",
          "2021-03-04T00:00:00",
          "2021-03-05T00:00:00",
          "2021-03-08T00:00:00",
          "2021-03-09T00:00:00",
          "2021-03-10T00:00:00",
          "2021-03-11T00:00:00",
          "2021-03-12T00:00:00",
          "2021-03-15T00:00:00",
          "2021-03-16T00:00:00",
          "2021-03-17T00:00:00",
          "2021-03-18T00:00:00",
          "2021-03-19T00:00:00",
          "2021-03-22T00:00:00",
          "2021-03-23T00:00:00",
          "2021-03-24T00:00:00",
          "2021-03-25T00:00:00",
          "2021-03-26T00:00:00",
          "2021-03-29T00:00:00",
          "2021-03-30T00:00:00",
          "2021-03-31T00:00:00",
          "2021-04-01T00:00:00",
          "2021-04-02T00:00:00",
          "2021-04-05T00:00:00",
          "2021-04-06T00:00:00",
          "2021-04-07T00:00:00",
          "2021-04-08T00:00:00",
          "2021-04-09T00:00:00",
          "2021-04-12T00:00:00",
          "2021-04-13T00:00:00",
          "2021-04-14T00:00:00",
          "2021-04-15T00:00:00",
          "2021-04-16T00:00:00",
          "2021-04-19T00:00:00",
          "2021-04-20T00:00:00",
          "2021-04-21T00:00:00",
          "2021-04-22T00:00:00",
          "2021-04-23T00:00:00",
          "2021-04-26T00:00:00",
          "2021-04-27T00:00:00",
          "2021-04-28T00:00:00",
          "2021-04-29T00:00:00",
          "2021-04-30T00:00:00",
          "2021-05-03T00:00:00",
          "2021-05-04T00:00:00",
          "2021-05-05T00:00:00",
          "2021-05-06T00:00:00",
          "2021-05-07T00:00:00",
          "2021-05-10T00:00:00",
          "2021-05-11T00:00:00",
          "2021-05-12T00:00:00",
          "2021-05-17T00:00:00",
          "2021-05-18T00:00:00",
          "2021-05-19T00:00:00",
          "2021-05-20T00:00:00",
          "2021-05-21T00:00:00",
          "2021-05-24T00:00:00",
          "2021-05-25T00:00:00",
          "2021-05-26T00:00:00",
          "2021-05-27T00:00:00",
          "2021-05-28T00:00:00",
          "2021-05-31T00:00:00",
          "2021-06-01T00:00:00",
          "2021-06-02T00:00:00",
          "2021-06-03T00:00:00",
          "2021-06-04T00:00:00",
          "2021-06-07T00:00:00",
          "2021-06-08T00:00:00",
          "2021-06-09T00:00:00",
          "2021-06-10T00:00:00",
          "2021-06-11T00:00:00",
          "2021-06-14T00:00:00",
          "2021-06-15T00:00:00",
          "2021-06-16T00:00:00",
          "2021-06-17T00:00:00",
          "2021-06-18T00:00:00",
          "2021-06-21T00:00:00",
          "2021-06-22T00:00:00",
          "2021-06-23T00:00:00",
          "2021-06-24T00:00:00",
          "2021-06-25T00:00:00",
          "2021-06-28T00:00:00",
          "2021-06-29T00:00:00",
          "2021-06-30T00:00:00",
          "2021-07-01T00:00:00",
          "2021-07-02T00:00:00",
          "2021-07-05T00:00:00",
          "2021-07-06T00:00:00",
          "2021-07-07T00:00:00",
          "2021-07-08T00:00:00",
          "2021-07-09T00:00:00",
          "2021-07-12T00:00:00",
          "2021-07-13T00:00:00",
          "2021-07-14T00:00:00",
          "2021-07-15T00:00:00",
          "2021-07-16T00:00:00",
          "2021-07-19T00:00:00",
          "2021-07-20T00:00:00",
          "2021-07-23T00:00:00",
          "2021-07-26T00:00:00",
          "2021-07-27T00:00:00",
          "2021-07-28T00:00:00",
          "2021-07-29T00:00:00",
          "2021-08-02T00:00:00",
          "2021-08-03T00:00:00",
          "2021-08-04T00:00:00",
          "2021-08-05T00:00:00",
          "2021-08-06T00:00:00",
          "2021-08-09T00:00:00",
          "2021-08-11T00:00:00",
          "2021-08-12T00:00:00",
          "2021-08-13T00:00:00",
          "2021-08-16T00:00:00",
          "2021-08-17T00:00:00",
          "2021-08-18T00:00:00",
          "2021-08-19T00:00:00",
          "2021-08-23T00:00:00",
          "2021-08-24T00:00:00",
          "2021-08-25T00:00:00",
          "2021-08-26T00:00:00",
          "2021-08-27T00:00:00",
          "2021-08-30T00:00:00",
          "2021-08-31T00:00:00",
          "2021-09-01T00:00:00",
          "2021-09-02T00:00:00",
          "2021-09-03T00:00:00",
          "2021-09-06T00:00:00",
          "2021-09-07T00:00:00",
          "2021-09-08T00:00:00",
          "2021-09-09T00:00:00",
          "2021-09-10T00:00:00",
          "2021-09-13T00:00:00",
          "2021-09-14T00:00:00",
          "2021-09-15T00:00:00",
          "2021-09-16T00:00:00",
          "2021-09-17T00:00:00",
          "2021-09-20T00:00:00",
          "2021-09-21T00:00:00",
          "2021-09-22T00:00:00",
          "2021-09-23T00:00:00",
          "2021-09-24T00:00:00",
          "2021-09-27T00:00:00",
          "2021-09-28T00:00:00",
          "2021-09-29T00:00:00",
          "2021-09-30T00:00:00",
          "2021-10-01T00:00:00",
          "2021-10-04T00:00:00",
          "2021-10-05T00:00:00",
          "2021-10-06T00:00:00",
          "2021-10-07T00:00:00",
          "2021-10-08T00:00:00",
          "2021-10-11T00:00:00",
          "2021-10-12T00:00:00",
          "2021-10-13T00:00:00",
          "2021-10-14T00:00:00",
          "2021-10-15T00:00:00",
          "2021-10-18T00:00:00",
          "2021-10-21T00:00:00",
          "2021-10-22T00:00:00",
          "2021-10-25T00:00:00",
          "2021-10-26T00:00:00",
          "2021-10-27T00:00:00",
          "2021-10-28T00:00:00",
          "2021-10-29T00:00:00",
          "2021-11-01T00:00:00",
          "2021-11-02T00:00:00",
          "2021-11-03T00:00:00",
          "2021-11-04T00:00:00",
          "2021-11-05T00:00:00",
          "2021-11-08T00:00:00",
          "2021-11-09T00:00:00",
          "2021-11-10T00:00:00",
          "2021-11-11T00:00:00",
          "2021-11-12T00:00:00",
          "2021-11-15T00:00:00",
          "2021-11-16T00:00:00",
          "2021-11-17T00:00:00",
          "2021-11-19T00:00:00",
          "2021-11-22T00:00:00",
          "2021-11-23T00:00:00",
          "2021-11-24T00:00:00",
          "2021-11-25T00:00:00",
          "2021-11-26T00:00:00",
          "2021-11-29T00:00:00",
          "2021-11-30T00:00:00",
          "2021-12-01T00:00:00",
          "2021-12-02T00:00:00",
          "2021-12-03T00:00:00",
          "2021-12-06T00:00:00",
          "2021-12-07T00:00:00",
          "2021-12-08T00:00:00",
          "2021-12-09T00:00:00",
          "2021-12-10T00:00:00",
          "2021-12-13T00:00:00",
          "2021-12-14T00:00:00",
          "2021-12-15T00:00:00",
          "2021-12-16T00:00:00",
          "2021-12-17T00:00:00",
          "2021-12-20T00:00:00",
          "2021-12-21T00:00:00",
          "2021-12-22T00:00:00",
          "2021-12-23T00:00:00",
          "2021-12-24T00:00:00",
          "2021-12-27T00:00:00",
          "2021-12-28T00:00:00",
          "2021-12-29T00:00:00",
          "2021-12-30T00:00:00",
          "2021-12-31T00:00:00",
          "2022-01-03T00:00:00",
          "2022-01-04T00:00:00",
          "2022-01-05T00:00:00",
          "2022-01-06T00:00:00",
          "2022-01-07T00:00:00",
          "2022-01-10T00:00:00",
          "2022-01-12T00:00:00",
          "2022-01-13T00:00:00",
          "2022-01-14T00:00:00",
          "2022-01-17T00:00:00",
          "2022-01-18T00:00:00",
          "2022-01-19T00:00:00",
          "2022-01-20T00:00:00",
          "2022-01-21T00:00:00",
          "2022-01-24T00:00:00",
          "2022-01-25T00:00:00",
          "2022-01-26T00:00:00",
          "2022-01-27T00:00:00",
          "2022-01-28T00:00:00",
          "2022-01-31T00:00:00",
          "2022-02-01T00:00:00",
          "2022-02-02T00:00:00",
          "2022-02-03T00:00:00",
          "2022-02-04T00:00:00"
         ],
         "y": [
          0,
          null,
          0,
          0,
          0,
          -0.051688214088677076,
          0,
          0,
          -0.4241731522626217,
          -0.757618757558661,
          -0.7212120468334343,
          -0.5727077191948564,
          -1.0361197473276356,
          -1.6016680129726015,
          -1.0501409955153527,
          -1.1815462866211601,
          -1.040476795669108,
          -0.8437340302747861,
          -1.3421627720249851,
          -0.8800997133830282,
          -0.6363565152763235,
          -0.453518484451384,
          -0.5439984712660093,
          -0.9946077668962636,
          -0.8107358083705318,
          -0.840613787854043,
          -1.1500607686791982,
          -1.011167766344634,
          -0.5605072451577402,
          -0.8773398143150419,
          -1.351766984672593,
          -1.7300567212413436,
          -2.3685322416538757,
          -2.4410730671216654,
          -2.3229963374176945,
          -2.3493106330398255,
          -2.767797345783504,
          -2.7932573891393346,
          -2.952007656267135,
          -3.196734162381531,
          -3.1558581658466327,
          -3.264375552783439,
          -3.54164735491409,
          -3.04686709636596,
          -3.3253564916316027,
          -3.5262461792876065,
          -3.242643862232029,
          -3.0725306420304848,
          -3.002078591953771,
          -2.3403263805487144,
          -2.275567187515093,
          -2.474036168010555,
          -2.438451944790569,
          -2.0334677842999436,
          -1.7395414018173603,
          -1.8853378894020252,
          -1.3298803212189907,
          -1.140914774865046,
          -0.6977205470697924,
          -0.8502894160530933,
          -0.25811740798918914,
          -0.2686537679273699,
          -0.30348570883853254,
          -0.2323704752706455,
          0,
          0,
          -0.22068798595608255,
          -0.177737645933779,
          -0.17012084813593817,
          -0.02735788234577877,
          -0.04449529974520779,
          -0.24699088711609896,
          0,
          -0.15274655784237431,
          -0.36757609155742227,
          0,
          0,
          -0.38004013189054864,
          -0.6671326161884845,
          -0.5052974927793836,
          -0.08398652984115906,
          0,
          0,
          0,
          0,
          0,
          -0.03985035035853138,
          -0.11951766727998339,
          -0.08242169331309493,
          -0.055343353399031354,
          -0.16346271686807173,
          -0.14990214338210908,
          -0.11787691615648928,
          -0.04192809131801013,
          -0.02751868872583216,
          -0.104246040006092,
          -0.10935718051447041,
          -0.1540063592829652,
          -0.11305033511960774,
          -0.24355616039285974,
          -0.2614652169980167,
          -0.30726692467058786,
          -0.1436692746478965,
          -0.2283292826019925,
          -0.38205645686562606,
          -0.14400183418817616,
          -0.17587980313557164,
          -0.07951631672721456,
          -0.18961730261613405,
          -0.28348807009106103,
          -0.3373702224204483,
          -0.3394785575171245,
          -0.3470032984611678,
          -0.36451747268231566,
          -0.3679831337213732,
          -0.25271620863728655,
          -0.42609370978409883,
          -0.4079504347605293,
          -0.427934059895872,
          -0.4051819058952893,
          -0.4121997225923484,
          -0.5994517974321576,
          -0.5323561434529686,
          -0.5730563501718627,
          -0.5048607029158302,
          -0.5675948492760124,
          -0.632657819287114,
          -0.692423917062273,
          -0.6381991972662355,
          -0.6496696363850964,
          -0.5921816454689983,
          -0.5353611487321122,
          -0.5428080635439376,
          -0.3397438625825587,
          -0.3349486546853271,
          -0.38600931277834266,
          -0.38881587124827655,
          -0.296358742739563,
          -0.251355972321131,
          -0.32841392705272565,
          -0.2955450173035145,
          -0.31856789917403266,
          -0.21541600437082822,
          -0.30260112427286157,
          -0.33419128522457325,
          -0.32747954532313206,
          -0.17901332026314415,
          -0.12915262111849482,
          -0.17773700482047228,
          -0.20941458147685227,
          -0.20934937217094238,
          -0.19983785032982898,
          0,
          -0.10492008346249326,
          -0.044660334043935324,
          -0.0140577720494872,
          0,
          0,
          0,
          -0.10340461636000756,
          -0.053363932346931646,
          -0.05910374464103623,
          -0.05855004213522984,
          -0.017996342884358207,
          -0.03228636810469017,
          -0.036255703389738984,
          0,
          0,
          0,
          -0.015136265588483563,
          0,
          0,
          0,
          0,
          0,
          0,
          0,
          0,
          -0.04327493100862327,
          -0.029177419483791715,
          0,
          -0.01676742177601584,
          -0.0986714386297879,
          -0.08514614007315571,
          -0.11302946088715578,
          -0.09322445301410982,
          -0.1127279728200206,
          -0.0723586508684439,
          -0.1268319419805064,
          -0.19244364027180783,
          -0.22225056588831457,
          -0.21162525595746515,
          -0.23355856245213338,
          -0.2153893179837546,
          -0.24004692166467081,
          -0.22570678669617564,
          -0.25147695215309573,
          -0.22848078959744286,
          -0.21723009518599312,
          -0.23898528756302462,
          -0.350089458438648,
          -0.20839533221656023,
          -0.21711112657996054,
          -0.23735273473727847,
          -0.2159733889040429,
          -0.19518922246894432,
          -0.1977066560707653,
          -0.20369917902856308,
          -0.19871777999959409,
          -0.20584680396375982,
          -0.21133200075048644,
          -0.24818368397167354,
          -0.24121090538271941,
          -0.20201954319510657,
          -0.10651901472139295,
          -0.12534663932987752,
          -0.12960963922020413,
          -0.13227954768241626,
          -0.1313733633922359,
          -0.034463670692710946,
          -0.055479168761724366,
          0,
          0,
          0,
          0,
          -0.017884945494301148,
          -0.02209390583730607,
          -0.028569060780047156,
          -0.03934117688291562,
          -0.0320712384961463,
          -0.03613216410666514,
          0,
          0,
          0,
          0,
          0,
          0,
          0,
          0,
          -0.02349295966203249,
          -0.05029445174624461,
          -0.06059694068167555,
          -0.04653291436481872,
          -0.029609758831298006,
          -0.03241918719345062,
          -0.026265202345381947,
          -0.05823694009342815,
          -0.05802722834699033,
          -0.046573167079812496
         ]
        },
        {
         "line": {
          "color": "red",
          "dash": "dash"
         },
         "mode": "lines",
         "name": "MASI Index Drawdown",
         "type": "scatter",
         "x": [
          "2021-02-08T00:00:00",
          "2021-02-09T00:00:00",
          "2021-02-10T00:00:00",
          "2021-02-11T00:00:00",
          "2021-02-12T00:00:00",
          "2021-02-15T00:00:00",
          "2021-02-16T00:00:00",
          "2021-02-17T00:00:00",
          "2021-02-18T00:00:00",
          "2021-02-19T00:00:00",
          "2021-02-22T00:00:00",
          "2021-02-23T00:00:00",
          "2021-02-24T00:00:00",
          "2021-02-25T00:00:00",
          "2021-02-26T00:00:00",
          "2021-03-01T00:00:00",
          "2021-03-02T00:00:00",
          "2021-03-03T00:00:00",
          "2021-03-04T00:00:00",
          "2021-03-05T00:00:00",
          "2021-03-08T00:00:00",
          "2021-03-09T00:00:00",
          "2021-03-10T00:00:00",
          "2021-03-11T00:00:00",
          "2021-03-12T00:00:00",
          "2021-03-15T00:00:00",
          "2021-03-16T00:00:00",
          "2021-03-17T00:00:00",
          "2021-03-18T00:00:00",
          "2021-03-19T00:00:00",
          "2021-03-22T00:00:00",
          "2021-03-23T00:00:00",
          "2021-03-24T00:00:00",
          "2021-03-25T00:00:00",
          "2021-03-26T00:00:00",
          "2021-03-29T00:00:00",
          "2021-03-30T00:00:00",
          "2021-03-31T00:00:00",
          "2021-04-01T00:00:00",
          "2021-04-02T00:00:00",
          "2021-04-05T00:00:00",
          "2021-04-06T00:00:00",
          "2021-04-07T00:00:00",
          "2021-04-08T00:00:00",
          "2021-04-09T00:00:00",
          "2021-04-12T00:00:00",
          "2021-04-13T00:00:00",
          "2021-04-14T00:00:00",
          "2021-04-15T00:00:00",
          "2021-04-16T00:00:00",
          "2021-04-19T00:00:00",
          "2021-04-20T00:00:00",
          "2021-04-21T00:00:00",
          "2021-04-22T00:00:00",
          "2021-04-23T00:00:00",
          "2021-04-26T00:00:00",
          "2021-04-27T00:00:00",
          "2021-04-28T00:00:00",
          "2021-04-29T00:00:00",
          "2021-04-30T00:00:00",
          "2021-05-03T00:00:00",
          "2021-05-04T00:00:00",
          "2021-05-05T00:00:00",
          "2021-05-06T00:00:00",
          "2021-05-07T00:00:00",
          "2021-05-10T00:00:00",
          "2021-05-11T00:00:00",
          "2021-05-12T00:00:00",
          "2021-05-17T00:00:00",
          "2021-05-18T00:00:00",
          "2021-05-19T00:00:00",
          "2021-05-20T00:00:00",
          "2021-05-21T00:00:00",
          "2021-05-24T00:00:00",
          "2021-05-25T00:00:00",
          "2021-05-26T00:00:00",
          "2021-05-27T00:00:00",
          "2021-05-28T00:00:00",
          "2021-05-31T00:00:00",
          "2021-06-01T00:00:00",
          "2021-06-02T00:00:00",
          "2021-06-03T00:00:00",
          "2021-06-04T00:00:00",
          "2021-06-07T00:00:00",
          "2021-06-08T00:00:00",
          "2021-06-09T00:00:00",
          "2021-06-10T00:00:00",
          "2021-06-11T00:00:00",
          "2021-06-14T00:00:00",
          "2021-06-15T00:00:00",
          "2021-06-16T00:00:00",
          "2021-06-17T00:00:00",
          "2021-06-18T00:00:00",
          "2021-06-21T00:00:00",
          "2021-06-22T00:00:00",
          "2021-06-23T00:00:00",
          "2021-06-24T00:00:00",
          "2021-06-25T00:00:00",
          "2021-06-28T00:00:00",
          "2021-06-29T00:00:00",
          "2021-06-30T00:00:00",
          "2021-07-01T00:00:00",
          "2021-07-02T00:00:00",
          "2021-07-05T00:00:00",
          "2021-07-06T00:00:00",
          "2021-07-07T00:00:00",
          "2021-07-08T00:00:00",
          "2021-07-09T00:00:00",
          "2021-07-12T00:00:00",
          "2021-07-13T00:00:00",
          "2021-07-14T00:00:00",
          "2021-07-15T00:00:00",
          "2021-07-16T00:00:00",
          "2021-07-19T00:00:00",
          "2021-07-20T00:00:00",
          "2021-07-23T00:00:00",
          "2021-07-26T00:00:00",
          "2021-07-27T00:00:00",
          "2021-07-28T00:00:00",
          "2021-07-29T00:00:00",
          "2021-08-02T00:00:00",
          "2021-08-03T00:00:00",
          "2021-08-04T00:00:00",
          "2021-08-05T00:00:00",
          "2021-08-06T00:00:00",
          "2021-08-09T00:00:00",
          "2021-08-11T00:00:00",
          "2021-08-12T00:00:00",
          "2021-08-13T00:00:00",
          "2021-08-16T00:00:00",
          "2021-08-17T00:00:00",
          "2021-08-18T00:00:00",
          "2021-08-19T00:00:00",
          "2021-08-23T00:00:00",
          "2021-08-24T00:00:00",
          "2021-08-25T00:00:00",
          "2021-08-26T00:00:00",
          "2021-08-27T00:00:00",
          "2021-08-30T00:00:00",
          "2021-08-31T00:00:00",
          "2021-09-01T00:00:00",
          "2021-09-02T00:00:00",
          "2021-09-03T00:00:00",
          "2021-09-06T00:00:00",
          "2021-09-07T00:00:00",
          "2021-09-08T00:00:00",
          "2021-09-09T00:00:00",
          "2021-09-10T00:00:00",
          "2021-09-13T00:00:00",
          "2021-09-14T00:00:00",
          "2021-09-15T00:00:00",
          "2021-09-16T00:00:00",
          "2021-09-17T00:00:00",
          "2021-09-20T00:00:00",
          "2021-09-21T00:00:00",
          "2021-09-22T00:00:00",
          "2021-09-23T00:00:00",
          "2021-09-24T00:00:00",
          "2021-09-27T00:00:00",
          "2021-09-28T00:00:00",
          "2021-09-29T00:00:00",
          "2021-09-30T00:00:00",
          "2021-10-01T00:00:00",
          "2021-10-04T00:00:00",
          "2021-10-05T00:00:00",
          "2021-10-06T00:00:00",
          "2021-10-07T00:00:00",
          "2021-10-08T00:00:00",
          "2021-10-11T00:00:00",
          "2021-10-12T00:00:00",
          "2021-10-13T00:00:00",
          "2021-10-14T00:00:00",
          "2021-10-15T00:00:00",
          "2021-10-18T00:00:00",
          "2021-10-21T00:00:00",
          "2021-10-22T00:00:00",
          "2021-10-25T00:00:00",
          "2021-10-26T00:00:00",
          "2021-10-27T00:00:00",
          "2021-10-28T00:00:00",
          "2021-10-29T00:00:00",
          "2021-11-01T00:00:00",
          "2021-11-02T00:00:00",
          "2021-11-03T00:00:00",
          "2021-11-04T00:00:00",
          "2021-11-05T00:00:00",
          "2021-11-08T00:00:00",
          "2021-11-09T00:00:00",
          "2021-11-10T00:00:00",
          "2021-11-11T00:00:00",
          "2021-11-12T00:00:00",
          "2021-11-15T00:00:00",
          "2021-11-16T00:00:00",
          "2021-11-17T00:00:00",
          "2021-11-19T00:00:00",
          "2021-11-22T00:00:00",
          "2021-11-23T00:00:00",
          "2021-11-24T00:00:00",
          "2021-11-25T00:00:00",
          "2021-11-26T00:00:00",
          "2021-11-29T00:00:00",
          "2021-11-30T00:00:00",
          "2021-12-01T00:00:00",
          "2021-12-02T00:00:00",
          "2021-12-03T00:00:00",
          "2021-12-06T00:00:00",
          "2021-12-07T00:00:00",
          "2021-12-08T00:00:00",
          "2021-12-09T00:00:00",
          "2021-12-10T00:00:00",
          "2021-12-13T00:00:00",
          "2021-12-14T00:00:00",
          "2021-12-15T00:00:00",
          "2021-12-16T00:00:00",
          "2021-12-17T00:00:00",
          "2021-12-20T00:00:00",
          "2021-12-21T00:00:00",
          "2021-12-22T00:00:00",
          "2021-12-23T00:00:00",
          "2021-12-24T00:00:00",
          "2021-12-27T00:00:00",
          "2021-12-28T00:00:00",
          "2021-12-29T00:00:00",
          "2021-12-30T00:00:00",
          "2021-12-31T00:00:00",
          "2022-01-03T00:00:00",
          "2022-01-04T00:00:00",
          "2022-01-05T00:00:00",
          "2022-01-06T00:00:00",
          "2022-01-07T00:00:00",
          "2022-01-10T00:00:00",
          "2022-01-12T00:00:00",
          "2022-01-13T00:00:00",
          "2022-01-14T00:00:00",
          "2022-01-17T00:00:00",
          "2022-01-18T00:00:00",
          "2022-01-19T00:00:00",
          "2022-01-20T00:00:00",
          "2022-01-21T00:00:00",
          "2022-01-24T00:00:00",
          "2022-01-25T00:00:00",
          "2022-01-26T00:00:00",
          "2022-01-27T00:00:00",
          "2022-01-28T00:00:00",
          "2022-01-31T00:00:00",
          "2022-02-01T00:00:00",
          "2022-02-02T00:00:00",
          "2022-02-03T00:00:00",
          "2022-02-04T00:00:00"
         ],
         "y": [
          0,
          null,
          null,
          null,
          null,
          null,
          null,
          null,
          null,
          null,
          null,
          null,
          null,
          null,
          null,
          null,
          null,
          null,
          null,
          null,
          null,
          null,
          null,
          null,
          null,
          null,
          null,
          null,
          null,
          null,
          null,
          null,
          null,
          null,
          null,
          null,
          null,
          null,
          null,
          null,
          null,
          null,
          null,
          null,
          null,
          null,
          null,
          null,
          null,
          null,
          null,
          null,
          null,
          0,
          0,
          -0.2956638316274508,
          0,
          0,
          0,
          0,
          0,
          0,
          0,
          0,
          0,
          0,
          -0.07979283772743107,
          -0.04136991581723131,
          0,
          -0.019732846250172985,
          0,
          -0.3084154400467837,
          -0.12134330621357789,
          -0.22544340032107404,
          -0.220904298377712,
          -0.17376771735982496,
          -0.21340959543406396,
          -0.08188575206165807,
          -0.17826189160068215,
          -0.07675175920034641,
          0,
          0,
          -0.015857879986233787,
          -0.010647827522059767,
          -0.029559360447036682,
          -0.037255005754654055,
          -0.019087640352563256,
          0,
          0,
          -0.0744799111609865,
          -0.13147983369050442,
          -0.14368218937386007,
          -0.09066996402094375,
          -0.023014307880236597,
          -0.055765737628737974,
          -0.05948559833054242,
          -0.10362077514384928,
          -0.17204892928711019,
          -0.1121997888203533,
          -0.1785015118358593,
          -0.18176282162590962,
          -0.17069209247072248,
          -0.16229206231879245,
          -0.3304314617959653,
          -0.44545689058113674,
          -0.3754538904874094,
          -0.3480627908119397,
          -0.3843014375245973,
          -0.38833245777366054,
          -0.41241753081485094,
          -0.46026734168583006,
          -0.49416758781430664,
          -0.4641685088651511,
          -0.47663045454034236,
          -0.48602273404361557,
          -0.40479510916195505,
          -0.4440546400346393,
          -0.4160652638276498,
          -0.38190635688851277,
          -0.3038218034918975,
          -0.15306889379007282,
          -0.1389278015770869,
          -0.16232121537828578,
          -0.1137351445707319,
          -0.04316151108554986,
          -0.07948180959429615,
          0,
          -0.04737030319318519,
          0,
          -0.02776246362124096,
          0,
          -0.008092850056400713,
          -0.018753971813374612,
          0,
          -0.006932948712598003,
          -0.05776310510125803,
          -0.028198856032230404,
          0,
          -0.008472400204419108,
          -0.08382468457912133,
          -0.07324640733691865,
          -0.06521320222484793,
          -0.01592862352850178,
          -0.08640429598174773,
          -0.06481465791165397,
          -0.04043391326901684,
          0,
          -0.06871897734564125,
          -0.06582861655397339,
          -0.054918355461231305,
          -0.059837283450966165,
          -0.05420162874488113,
          0,
          -0.052979838719800436,
          -0.059629487815126996,
          -0.03484123683199228,
          0,
          0,
          -0.006913047847023979,
          0,
          0,
          -0.007006038350533025,
          -0.061353270172434596,
          -0.07741261329444894,
          -0.09284248698248034,
          -0.08006945000920652,
          -0.0669301884562487,
          -0.003169323324713311,
          -0.034640383006858504,
          -0.024600563286367914,
          -0.006399617078902627,
          0,
          0,
          -0.006452108846657537,
          -0.0033749415321309086,
          -0.0001311885570528065,
          0,
          0,
          -0.0069059858611240765,
          0,
          -0.012562715940354928,
          -0.038124163529581756,
          -0.008730504943753178,
          -0.005158825604601429,
          -0.03841910905536188,
          -0.08814090627668522,
          -0.08042515693257572,
          -0.10599551477918343,
          -0.1252311064661581,
          -0.13154260991789596,
          -0.1511398406739275,
          -0.1507513641230574,
          -0.1685653695964106,
          -0.15447393093451556,
          -0.12727833147053944,
          -0.12136661579461247,
          -0.14523543461034383,
          -0.12708476013053846,
          -0.13577231443242205,
          -0.19096767742777188,
          -0.25584118058456373,
          -0.2633723755557223,
          -0.21812128663690233,
          -0.18545713675335368,
          -0.18834085885491045,
          -0.21368120400946997,
          -0.18707613585507055,
          -0.18548653526722847,
          -0.16075801000125903,
          -0.12761670783170254,
          -0.15740695290326262,
          -0.15853556771998573,
          -0.16431624392208652,
          -0.165113045022307,
          -0.14687124048496875,
          -0.1734229004499112,
          -0.1792934261935134,
          -0.19661059144688162,
          -0.1755562401573701,
          -0.17957375249460839,
          -0.18280038611827157,
          -0.15857254262038017,
          -0.10126635565778243,
          -0.09303301106302317,
          -0.11774227523369352,
          -0.15083955966468868,
          -0.16033896113015458,
          -0.15386163085241628,
          -0.11216765540289539,
          -0.054287050290777315,
          -0.049456090144916316,
          -0.02547335875727026,
          0,
          0,
          -0.006502363923296933,
          -0.00781731098351337,
          -0.022407092221908845,
          -0.0032306967743133365,
          -0.00024034029646985785,
          -0.01481266584706802,
          -0.03735709538124589,
          -0.02982450926676016,
          -0.024256241033524792,
          0,
          0,
          -0.009357799537869905,
          0,
          0,
          0
         ]
        }
       ],
       "layout": {
        "legend": {
         "font": {
          "size": 11
         },
         "traceorder": "normal",
         "x": 0,
         "y": 1
        },
        "template": {
         "data": {
          "bar": [
           {
            "error_x": {
             "color": "#2a3f5f"
            },
            "error_y": {
             "color": "#2a3f5f"
            },
            "marker": {
             "line": {
              "color": "#E5ECF6",
              "width": 0.5
             },
             "pattern": {
              "fillmode": "overlay",
              "size": 10,
              "solidity": 0.2
             }
            },
            "type": "bar"
           }
          ],
          "barpolar": [
           {
            "marker": {
             "line": {
              "color": "#E5ECF6",
              "width": 0.5
             },
             "pattern": {
              "fillmode": "overlay",
              "size": 10,
              "solidity": 0.2
             }
            },
            "type": "barpolar"
           }
          ],
          "carpet": [
           {
            "aaxis": {
             "endlinecolor": "#2a3f5f",
             "gridcolor": "white",
             "linecolor": "white",
             "minorgridcolor": "white",
             "startlinecolor": "#2a3f5f"
            },
            "baxis": {
             "endlinecolor": "#2a3f5f",
             "gridcolor": "white",
             "linecolor": "white",
             "minorgridcolor": "white",
             "startlinecolor": "#2a3f5f"
            },
            "type": "carpet"
           }
          ],
          "choropleth": [
           {
            "colorbar": {
             "outlinewidth": 0,
             "ticks": ""
            },
            "type": "choropleth"
           }
          ],
          "contour": [
           {
            "colorbar": {
             "outlinewidth": 0,
             "ticks": ""
            },
            "colorscale": [
             [
              0,
              "#0d0887"
             ],
             [
              0.1111111111111111,
              "#46039f"
             ],
             [
              0.2222222222222222,
              "#7201a8"
             ],
             [
              0.3333333333333333,
              "#9c179e"
             ],
             [
              0.4444444444444444,
              "#bd3786"
             ],
             [
              0.5555555555555556,
              "#d8576b"
             ],
             [
              0.6666666666666666,
              "#ed7953"
             ],
             [
              0.7777777777777778,
              "#fb9f3a"
             ],
             [
              0.8888888888888888,
              "#fdca26"
             ],
             [
              1,
              "#f0f921"
             ]
            ],
            "type": "contour"
           }
          ],
          "contourcarpet": [
           {
            "colorbar": {
             "outlinewidth": 0,
             "ticks": ""
            },
            "type": "contourcarpet"
           }
          ],
          "heatmap": [
           {
            "colorbar": {
             "outlinewidth": 0,
             "ticks": ""
            },
            "colorscale": [
             [
              0,
              "#0d0887"
             ],
             [
              0.1111111111111111,
              "#46039f"
             ],
             [
              0.2222222222222222,
              "#7201a8"
             ],
             [
              0.3333333333333333,
              "#9c179e"
             ],
             [
              0.4444444444444444,
              "#bd3786"
             ],
             [
              0.5555555555555556,
              "#d8576b"
             ],
             [
              0.6666666666666666,
              "#ed7953"
             ],
             [
              0.7777777777777778,
              "#fb9f3a"
             ],
             [
              0.8888888888888888,
              "#fdca26"
             ],
             [
              1,
              "#f0f921"
             ]
            ],
            "type": "heatmap"
           }
          ],
          "heatmapgl": [
           {
            "colorbar": {
             "outlinewidth": 0,
             "ticks": ""
            },
            "colorscale": [
             [
              0,
              "#0d0887"
             ],
             [
              0.1111111111111111,
              "#46039f"
             ],
             [
              0.2222222222222222,
              "#7201a8"
             ],
             [
              0.3333333333333333,
              "#9c179e"
             ],
             [
              0.4444444444444444,
              "#bd3786"
             ],
             [
              0.5555555555555556,
              "#d8576b"
             ],
             [
              0.6666666666666666,
              "#ed7953"
             ],
             [
              0.7777777777777778,
              "#fb9f3a"
             ],
             [
              0.8888888888888888,
              "#fdca26"
             ],
             [
              1,
              "#f0f921"
             ]
            ],
            "type": "heatmapgl"
           }
          ],
          "histogram": [
           {
            "marker": {
             "pattern": {
              "fillmode": "overlay",
              "size": 10,
              "solidity": 0.2
             }
            },
            "type": "histogram"
           }
          ],
          "histogram2d": [
           {
            "colorbar": {
             "outlinewidth": 0,
             "ticks": ""
            },
            "colorscale": [
             [
              0,
              "#0d0887"
             ],
             [
              0.1111111111111111,
              "#46039f"
             ],
             [
              0.2222222222222222,
              "#7201a8"
             ],
             [
              0.3333333333333333,
              "#9c179e"
             ],
             [
              0.4444444444444444,
              "#bd3786"
             ],
             [
              0.5555555555555556,
              "#d8576b"
             ],
             [
              0.6666666666666666,
              "#ed7953"
             ],
             [
              0.7777777777777778,
              "#fb9f3a"
             ],
             [
              0.8888888888888888,
              "#fdca26"
             ],
             [
              1,
              "#f0f921"
             ]
            ],
            "type": "histogram2d"
           }
          ],
          "histogram2dcontour": [
           {
            "colorbar": {
             "outlinewidth": 0,
             "ticks": ""
            },
            "colorscale": [
             [
              0,
              "#0d0887"
             ],
             [
              0.1111111111111111,
              "#46039f"
             ],
             [
              0.2222222222222222,
              "#7201a8"
             ],
             [
              0.3333333333333333,
              "#9c179e"
             ],
             [
              0.4444444444444444,
              "#bd3786"
             ],
             [
              0.5555555555555556,
              "#d8576b"
             ],
             [
              0.6666666666666666,
              "#ed7953"
             ],
             [
              0.7777777777777778,
              "#fb9f3a"
             ],
             [
              0.8888888888888888,
              "#fdca26"
             ],
             [
              1,
              "#f0f921"
             ]
            ],
            "type": "histogram2dcontour"
           }
          ],
          "mesh3d": [
           {
            "colorbar": {
             "outlinewidth": 0,
             "ticks": ""
            },
            "type": "mesh3d"
           }
          ],
          "parcoords": [
           {
            "line": {
             "colorbar": {
              "outlinewidth": 0,
              "ticks": ""
             }
            },
            "type": "parcoords"
           }
          ],
          "pie": [
           {
            "automargin": true,
            "type": "pie"
           }
          ],
          "scatter": [
           {
            "fillpattern": {
             "fillmode": "overlay",
             "size": 10,
             "solidity": 0.2
            },
            "type": "scatter"
           }
          ],
          "scatter3d": [
           {
            "line": {
             "colorbar": {
              "outlinewidth": 0,
              "ticks": ""
             }
            },
            "marker": {
             "colorbar": {
              "outlinewidth": 0,
              "ticks": ""
             }
            },
            "type": "scatter3d"
           }
          ],
          "scattercarpet": [
           {
            "marker": {
             "colorbar": {
              "outlinewidth": 0,
              "ticks": ""
             }
            },
            "type": "scattercarpet"
           }
          ],
          "scattergeo": [
           {
            "marker": {
             "colorbar": {
              "outlinewidth": 0,
              "ticks": ""
             }
            },
            "type": "scattergeo"
           }
          ],
          "scattergl": [
           {
            "marker": {
             "colorbar": {
              "outlinewidth": 0,
              "ticks": ""
             }
            },
            "type": "scattergl"
           }
          ],
          "scattermapbox": [
           {
            "marker": {
             "colorbar": {
              "outlinewidth": 0,
              "ticks": ""
             }
            },
            "type": "scattermapbox"
           }
          ],
          "scatterpolar": [
           {
            "marker": {
             "colorbar": {
              "outlinewidth": 0,
              "ticks": ""
             }
            },
            "type": "scatterpolar"
           }
          ],
          "scatterpolargl": [
           {
            "marker": {
             "colorbar": {
              "outlinewidth": 0,
              "ticks": ""
             }
            },
            "type": "scatterpolargl"
           }
          ],
          "scatterternary": [
           {
            "marker": {
             "colorbar": {
              "outlinewidth": 0,
              "ticks": ""
             }
            },
            "type": "scatterternary"
           }
          ],
          "surface": [
           {
            "colorbar": {
             "outlinewidth": 0,
             "ticks": ""
            },
            "colorscale": [
             [
              0,
              "#0d0887"
             ],
             [
              0.1111111111111111,
              "#46039f"
             ],
             [
              0.2222222222222222,
              "#7201a8"
             ],
             [
              0.3333333333333333,
              "#9c179e"
             ],
             [
              0.4444444444444444,
              "#bd3786"
             ],
             [
              0.5555555555555556,
              "#d8576b"
             ],
             [
              0.6666666666666666,
              "#ed7953"
             ],
             [
              0.7777777777777778,
              "#fb9f3a"
             ],
             [
              0.8888888888888888,
              "#fdca26"
             ],
             [
              1,
              "#f0f921"
             ]
            ],
            "type": "surface"
           }
          ],
          "table": [
           {
            "cells": {
             "fill": {
              "color": "#EBF0F8"
             },
             "line": {
              "color": "white"
             }
            },
            "header": {
             "fill": {
              "color": "#C8D4E3"
             },
             "line": {
              "color": "white"
             }
            },
            "type": "table"
           }
          ]
         },
         "layout": {
          "annotationdefaults": {
           "arrowcolor": "#2a3f5f",
           "arrowhead": 0,
           "arrowwidth": 1
          },
          "autotypenumbers": "strict",
          "coloraxis": {
           "colorbar": {
            "outlinewidth": 0,
            "ticks": ""
           }
          },
          "colorscale": {
           "diverging": [
            [
             0,
             "#8e0152"
            ],
            [
             0.1,
             "#c51b7d"
            ],
            [
             0.2,
             "#de77ae"
            ],
            [
             0.3,
             "#f1b6da"
            ],
            [
             0.4,
             "#fde0ef"
            ],
            [
             0.5,
             "#f7f7f7"
            ],
            [
             0.6,
             "#e6f5d0"
            ],
            [
             0.7,
             "#b8e186"
            ],
            [
             0.8,
             "#7fbc41"
            ],
            [
             0.9,
             "#4d9221"
            ],
            [
             1,
             "#276419"
            ]
           ],
           "sequential": [
            [
             0,
             "#0d0887"
            ],
            [
             0.1111111111111111,
             "#46039f"
            ],
            [
             0.2222222222222222,
             "#7201a8"
            ],
            [
             0.3333333333333333,
             "#9c179e"
            ],
            [
             0.4444444444444444,
             "#bd3786"
            ],
            [
             0.5555555555555556,
             "#d8576b"
            ],
            [
             0.6666666666666666,
             "#ed7953"
            ],
            [
             0.7777777777777778,
             "#fb9f3a"
            ],
            [
             0.8888888888888888,
             "#fdca26"
            ],
            [
             1,
             "#f0f921"
            ]
           ],
           "sequentialminus": [
            [
             0,
             "#0d0887"
            ],
            [
             0.1111111111111111,
             "#46039f"
            ],
            [
             0.2222222222222222,
             "#7201a8"
            ],
            [
             0.3333333333333333,
             "#9c179e"
            ],
            [
             0.4444444444444444,
             "#bd3786"
            ],
            [
             0.5555555555555556,
             "#d8576b"
            ],
            [
             0.6666666666666666,
             "#ed7953"
            ],
            [
             0.7777777777777778,
             "#fb9f3a"
            ],
            [
             0.8888888888888888,
             "#fdca26"
            ],
            [
             1,
             "#f0f921"
            ]
           ]
          },
          "colorway": [
           "#636efa",
           "#EF553B",
           "#00cc96",
           "#ab63fa",
           "#FFA15A",
           "#19d3f3",
           "#FF6692",
           "#B6E880",
           "#FF97FF",
           "#FECB52"
          ],
          "font": {
           "color": "#2a3f5f"
          },
          "geo": {
           "bgcolor": "white",
           "lakecolor": "white",
           "landcolor": "#E5ECF6",
           "showlakes": true,
           "showland": true,
           "subunitcolor": "white"
          },
          "hoverlabel": {
           "align": "left"
          },
          "hovermode": "closest",
          "mapbox": {
           "style": "light"
          },
          "paper_bgcolor": "white",
          "plot_bgcolor": "#E5ECF6",
          "polar": {
           "angularaxis": {
            "gridcolor": "white",
            "linecolor": "white",
            "ticks": ""
           },
           "bgcolor": "#E5ECF6",
           "radialaxis": {
            "gridcolor": "white",
            "linecolor": "white",
            "ticks": ""
           }
          },
          "scene": {
           "xaxis": {
            "backgroundcolor": "#E5ECF6",
            "gridcolor": "white",
            "gridwidth": 2,
            "linecolor": "white",
            "showbackground": true,
            "ticks": "",
            "zerolinecolor": "white"
           },
           "yaxis": {
            "backgroundcolor": "#E5ECF6",
            "gridcolor": "white",
            "gridwidth": 2,
            "linecolor": "white",
            "showbackground": true,
            "ticks": "",
            "zerolinecolor": "white"
           },
           "zaxis": {
            "backgroundcolor": "#E5ECF6",
            "gridcolor": "white",
            "gridwidth": 2,
            "linecolor": "white",
            "showbackground": true,
            "ticks": "",
            "zerolinecolor": "white"
           }
          },
          "shapedefaults": {
           "line": {
            "color": "#2a3f5f"
           }
          },
          "ternary": {
           "aaxis": {
            "gridcolor": "white",
            "linecolor": "white",
            "ticks": ""
           },
           "baxis": {
            "gridcolor": "white",
            "linecolor": "white",
            "ticks": ""
           },
           "bgcolor": "#E5ECF6",
           "caxis": {
            "gridcolor": "white",
            "linecolor": "white",
            "ticks": ""
           }
          },
          "title": {
           "x": 0.05
          },
          "xaxis": {
           "automargin": true,
           "gridcolor": "white",
           "linecolor": "white",
           "ticks": "",
           "title": {
            "standoff": 15
           },
           "zerolinecolor": "white",
           "zerolinewidth": 2
          },
          "yaxis": {
           "automargin": true,
           "gridcolor": "white",
           "linecolor": "white",
           "ticks": "",
           "title": {
            "standoff": 15
           },
           "zerolinecolor": "white",
           "zerolinewidth": 2
          }
         }
        },
        "title": {
         "text": "Sharpe Ratio Optimized Portfolio Drawdown Comparison"
        },
        "xaxis": {
         "title": {
          "text": "Date"
         }
        },
        "yaxis": {
         "title": {
          "text": "Maximum Drawdown"
         }
        }
       }
      }
     },
     "metadata": {},
     "output_type": "display_data"
    }
   ],
   "source": [
    "# Create traces\n",
    "masi_trace = go.Scatter(x=benchmark_cumulative_returns.index, y=maximum_drawdown(benchmark_cumulative_returns), mode='lines', name='MASI Index Drawdown', line=dict(dash='dash', color='red'))\n",
    "optimized_trace = go.Scatter(x=portfolio_returns_optimized.index, y=maximum_drawdown(portfolio_returns_optimized), mode='lines', name='Optimized Portfolio Drawdown', line=dict(color='purple'))\n",
    "\n",
    "# Layout\n",
    "layout = go.Layout(\n",
    "    title='Sharpe Ratio Optimized Portfolio Drawdown Comparison',\n",
    "    xaxis=dict(title='Date'),\n",
    "    yaxis=dict(title='Maximum Drawdown'),\n",
    "    legend=dict(x=0, y=1, traceorder='normal', font=dict(size=11))\n",
    ")\n",
    "\n",
    "# Create figure\n",
    "fig = go.Figure(data=[optimized_trace, masi_trace], layout=layout)\n",
    "\n",
    "# Show plot\n",
    "fig.show()"
   ]
  },
  {
   "cell_type": "markdown",
   "metadata": {},
   "source": [
    "Interestingly, the Sharpe Ratio optimized portfolio exhibits larger drawdowns early in the testing period, particularly around March 2021. This indicates that the portfolio experienced a substantial loss during that time. However, after recovering from this significant drop, the optimized portfolio exhibits shallower drawdowns and stabilizes, closely tracking the MASI Index for the rest of the testing period.\n",
    "\n",
    "This comparison highlights the optimized portfolio's ability to recover from early drawdowns and maintain stability, showing that while the portfolio was exposed to greater initial risk, it managed to mitigate further losses and perform on par with the market benchmark for the majority of the period."
   ]
  },
  {
   "cell_type": "markdown",
   "metadata": {},
   "source": [
    "# Mean-Variance Optimization (MVO)"
   ]
  },
  {
   "cell_type": "markdown",
   "metadata": {},
   "source": [
    "Mean-Variance Optimization (MVO) is a portfolio optimization technique that seeks to maximize expected returns for a given level of risk. By considering both the expected returns and the covariance matrix of the assets, MVO identifies the optimal allocation of weights to minimize risk while achieving the desired level of return. This method is fundamental in modern portfolio theory and is widely used to balance the risk-return trade-off.\n",
    "\n",
    "Logarithmic (log) returns are often preferred when calculating the expected returns and the covariance matrix of assets due to the following reasons:\n",
    "\n",
    "+ **Normalization**: Log returns transform absolute price changes into relative changes, thereby normalizing the data. This makes it easier to compare returns across different assets or time periods, especially when assets have varying price scales.\n",
    "   \n",
    "+ **Additivity**: One of the key advantages of log returns is their additive property. The sum of individual log returns over multiple time periods is equivalent to the total log return for the combined period. This additivity simplifies the calculation of returns across time horizons.\n",
    "  \n",
    "+ **Statistical Properties**: Log returns often exhibit more desirable statistical properties compared to simple returns. They tend to have more symmetric distributions and are closer to normality, making them more suitable for use in mathematical models and statistical analyses, such as those employed in MVO. These properties lead to more robust and reliable results in optimization.\n",
    "\n",
    "By using log returns in MVO, we ensure that the optimization process benefits from more stable and mathematically tractable inputs, which helps improve the accuracy and effectiveness of the portfolio construction."
   ]
  },
  {
   "cell_type": "markdown",
   "metadata": {},
   "source": [
    "## Building the Mean-Variance Optimized Portfolio\n",
    "\n",
    "In this step, we calculate the log returns of the assets, which are essential inputs for the mean-variance optimization process. Log returns are preferred due to their normalization properties, additivity over time periods, and more favorable statistical characteristics. After calculating the log returns, we compute the expected return (mean) and the covariance matrix of the assets, which represent the relationships between asset returns. These statistics will be used to determine the optimal portfolio allocation under the mean-variance framework."
   ]
  },
  {
   "cell_type": "code",
   "execution_count": 23,
   "metadata": {},
   "outputs": [],
   "source": [
    "# Calculate the log returns for the training data\n",
    "log_returns = np.log(train / train.shift(1))\n",
    "\n",
    "# Drop any rows with missing values (due to shifting)\n",
    "log_returns = log_returns.dropna()\n",
    "\n",
    "# Compute the mean of the log returns (logarithmic expected returns)\n",
    "log_mu = log_returns.mean()\n",
    "\n",
    "# Compute the covariance matrix of the log returns (logarithmic covariance of returns)\n",
    "log_cov = log_returns.cov()"
   ]
  },
  {
   "cell_type": "markdown",
   "metadata": {},
   "source": [
    "The objective function in portfolio optimization, $F(w)$, combines different components to find an optimal allocation of assets. It can be mathematically represented as:\n",
    "\n",
    "\\begin{align*} \n",
    "\\text{Objective Function} = \\text{Portfolio Risk} + \\text{Penalty}\n",
    "\\end{align*}\n",
    "\n",
    "1. **Portfolio Risk**: The portfolio risk measures the uncertainty or volatility of the portfolio's returns. It is typically represented by the standard deviation of the portfolio returns. The portfolio risk can be computed using the following formula:\n",
    "\n",
    "   \\begin{align*}\n",
    "   \\text{Portfolio Risk} = \\sqrt{w^T \\cdot C_{log} \\cdot w}\n",
    "   \\end{align*}\n",
    "\n",
    "   Here, $w$ represents the vector of portfolio weights, and $C_{log}$ is the logarithmic covariance matrix of asset returns.\n",
    "\n",
    "2. **Penalty**: The penalty term is included to enforce the desired target return in the optimization process. The penalty encourages the portfolio to approach the target return by penalizing deviations from it. Mathematically, the penalty term can be expressed as:\n",
    "\n",
    "   \\begin{align*}\n",
    "   \\text{Penalty} = P \\cdot \\left|\\bar V - (1 + T) V\\right|\n",
    "   \\end{align*}\n",
    "\n",
    "   Here, **$\\bar V$** represents the expected return of the portfolio, **$P$** is a parameter that controls the strength of the penalty, **$T$** is the desired target return, and **$V$** is the value of the portfolio.\n",
    "   \n",
    "   **Note**:\n",
    "   \n",
    "   \\begin{align*}\n",
    "   \\bar V = w^T \\cdot \\mu_{log}\\\\ \\text{ and } V = w^T \\cdot \\Gamma\n",
    "   \\end{align*}\n",
    "   where $\\mu_{log}$ denotes the logarithmic expected returns and $\\Gamma$ is the return in the last period.\n",
    "   \n",
    "\n",
    "By summing the portfolio risk and the penalty term, the objective function aims to find the optimal weights that minimize the risk of the portfolio while considering the deviation from the target return.\n",
    "\n",
    "The total formula of the objective function, combining the portfolio risk and the penalty term, is as follows:\n",
    "\n",
    "\\begin{align*}\n",
    "F(w) = \\sqrt{w^T \\cdot C_{log} \\cdot w} + P \\cdot \\left| \\bar V - (1 + T) \\cdot V \\right|\n",
    "     = \\sqrt{w^T \\cdot C_{log} \\cdot w} + P \\cdot \\left|w^T \\cdot (\\mu_{log} - (1 + T) \\cdot \\Gamma)\\right|\n",
    "\\end{align*}\n",
    "\n",
    "\n",
    "It's important to note that the specific formulas and mathematical representations may vary depending on the optimization approach or methodology used. However, the key idea remains consistent: to balance risk and return while incorporating a penalty for deviations from the desired target return."
   ]
  },
  {
   "cell_type": "code",
   "execution_count": 24,
   "metadata": {},
   "outputs": [],
   "source": [
    "def objective(weights, log_mu, log_cov, target_return, penalty_weight):\n",
    "    \"\"\"\n",
    "    Objective function to minimize for the portfolio optimization problem.\n",
    "\n",
    "    Parameters:\n",
    "    - weights: A numpy array of portfolio weights.\n",
    "    - log_mu: A numpy array of mean log returns for each asset.\n",
    "    - log_cov: A 2-dimensional numpy array of log return covariance matrix.\n",
    "    - target_return: The desired target return for the portfolio.\n",
    "    - penalty_weight: A penalty factor for deviating from the target return.\n",
    "\n",
    "    Returns:\n",
    "    - objective_value: The objective value to minimize.\n",
    "    \"\"\"\n",
    "\n",
    "    # Calculate the expected portfolio return using the log returns mean and weights\n",
    "    portfolio_return = log_mu @ weights\n",
    "    \n",
    "    # Calculate the portfolio risk (standard deviation) using the covariance matrix and weights\n",
    "    portfolio_risk = np.sqrt(np.dot(weights.T, np.dot(log_cov, weights)))\n",
    "    \n",
    "    # Compute the portfolio value based on the last available log returns\n",
    "    portfolio_value = np.dot(weights, log_returns.iloc[-1].values.T)\n",
    "    \n",
    "    # Calculate the penalty based on how far the portfolio return deviates from the target return\n",
    "    penalty = penalty_weight * np.abs(portfolio_return - (1 + target_return) * portfolio_value)\n",
    "    \n",
    "    # Return the objective value, combining risk and penalty\n",
    "    return portfolio_risk + penalty"
   ]
  },
  {
   "cell_type": "markdown",
   "metadata": {},
   "source": [
    "In this cell, we define the key parameters that guide the portfolio optimization process. Each parameter plays a crucial role in ensuring the portfolio adheres to specific requirements and objectives:\n",
    "\n",
    "1. **Constraints**:  \n",
    "   The constraints parameter defines the conditions that the portfolio must satisfy during optimization. In this case, the primary constraint ensures that the sum of all weights assigned to assets equals 1. This constraint guarantees that the portfolio is fully invested, meaning all available resources are allocated across the assets without any leftover capital. The portfolio remains balanced by adhering to this constraint.\n",
    "\n",
    "2. **Bounds**:  \n",
    "   The bounds parameter specifies the allowable range for the portfolio weights of each asset. Here, the bounds are set between 0 and 1, which means that each asset can have a minimum allocation of 0% and a maximum allocation of 100%. This ensures the portfolio follows a long-only strategy, prohibiting short-selling (negative weights) and ensuring that the entire portfolio remains fully allocated.\n",
    "\n",
    "3. **Target Return**:  \n",
    "   The target return represents the desired level of expected return that the portfolio optimization aims to achieve. For this problem, the target return is set at 10% (0.1). The optimization algorithm will seek to find the best allocation of weights that produces this return while simultaneously minimizing portfolio risk, aligning with the principles of mean-variance optimization.\n",
    "\n",
    "4. **Penalty Weight**:  \n",
    "   The penalty weight is a critical parameter that determines the significance of the penalty term in the objective function. It controls how strongly the optimization prioritizes achieving the target return. A higher penalty weight forces the portfolio to stay closer to the desired return, potentially at the expense of higher risk. Conversely, a lower penalty weight allows for greater flexibility in balancing the risk-return trade-off, giving the optimizer more leeway in deviating slightly from the target return to minimize overall risk."
   ]
  },
  {
   "cell_type": "code",
   "execution_count": 25,
   "metadata": {},
   "outputs": [],
   "source": [
    "# Define constraint: The sum of the weights must be equal to 1 (fully invested portfolio)\n",
    "constraints = ({'type': 'eq', 'fun': lambda x: np.sum(x) - 1})\n",
    "\n",
    "# Define bounds: Each weight must be between 0 and 1 (no short selling, no over-leveraging)\n",
    "bounds = tuple((0, 1) for i in range(len(log_returns.mean())))\n",
    "\n",
    "# Define the target return for the portfolio optimization (e.g., aiming for 20% return)\n",
    "target_return = 0.2\n",
    "\n",
    "# Define the penalty weight to balance between minimizing risk and achieving the target return\n",
    "penalty_weight = 0.05"
   ]
  },
  {
   "cell_type": "code",
   "execution_count": 26,
   "metadata": {},
   "outputs": [],
   "source": [
    "# Optimize portfolio weights by minimizing the objective function (risk + penalty)\n",
    "# Starting with equal weights, and considering the log returns mean, covariance, target return, and penalty weight\n",
    "result = minimize(objective,\n",
    "                  x0=np.ones(len(log_mu)) / len(log_mu), \n",
    "                  args=(log_mu, log_cov, target_return, penalty_weight), \n",
    "                  method='SLSQP',\n",
    "                  bounds=bounds,\n",
    "                  constraints=constraints\n",
    "                  )\n",
    "\n",
    "# Extract the optimized weights from the optimization result\n",
    "optimized_weights = result.x"
   ]
  },
  {
   "cell_type": "markdown",
   "metadata": {},
   "source": [
    "## Backtesting the Mean-Variance Optimized Portfolio"
   ]
  },
  {
   "cell_type": "code",
   "execution_count": 27,
   "metadata": {},
   "outputs": [
    {
     "name": "stdout",
     "output_type": "stream",
     "text": [
      "The cumulative return for the optimized portfolio over the entire testing period : 17.59%\n"
     ]
    }
   ],
   "source": [
    "# Calculate the portfolio return using the portfolio_return function\n",
    "mean_variance_portfolio = cumulative_returns(result.x, test)\n",
    "\n",
    "print(f\"The cumulative return for the optimized portfolio over the entire testing period : {mean_variance_portfolio[-1]*100:.2f}%\")"
   ]
  },
  {
   "cell_type": "code",
   "execution_count": 28,
   "metadata": {},
   "outputs": [
    {
     "data": {
      "application/vnd.plotly.v1+json": {
       "config": {
        "plotlyServerURL": "https://plot.ly"
       },
       "data": [
        {
         "line": {
          "color": "red",
          "dash": "dash"
         },
         "mode": "lines",
         "name": "MASI Index",
         "type": "scatter",
         "x": [
          "2021-02-08T00:00:00",
          "2021-02-09T00:00:00",
          "2021-02-10T00:00:00",
          "2021-02-11T00:00:00",
          "2021-02-12T00:00:00",
          "2021-02-15T00:00:00",
          "2021-02-16T00:00:00",
          "2021-02-17T00:00:00",
          "2021-02-18T00:00:00",
          "2021-02-19T00:00:00",
          "2021-02-22T00:00:00",
          "2021-02-23T00:00:00",
          "2021-02-24T00:00:00",
          "2021-02-25T00:00:00",
          "2021-02-26T00:00:00",
          "2021-03-01T00:00:00",
          "2021-03-02T00:00:00",
          "2021-03-03T00:00:00",
          "2021-03-04T00:00:00",
          "2021-03-05T00:00:00",
          "2021-03-08T00:00:00",
          "2021-03-09T00:00:00",
          "2021-03-10T00:00:00",
          "2021-03-11T00:00:00",
          "2021-03-12T00:00:00",
          "2021-03-15T00:00:00",
          "2021-03-16T00:00:00",
          "2021-03-17T00:00:00",
          "2021-03-18T00:00:00",
          "2021-03-19T00:00:00",
          "2021-03-22T00:00:00",
          "2021-03-23T00:00:00",
          "2021-03-24T00:00:00",
          "2021-03-25T00:00:00",
          "2021-03-26T00:00:00",
          "2021-03-29T00:00:00",
          "2021-03-30T00:00:00",
          "2021-03-31T00:00:00",
          "2021-04-01T00:00:00",
          "2021-04-02T00:00:00",
          "2021-04-05T00:00:00",
          "2021-04-06T00:00:00",
          "2021-04-07T00:00:00",
          "2021-04-08T00:00:00",
          "2021-04-09T00:00:00",
          "2021-04-12T00:00:00",
          "2021-04-13T00:00:00",
          "2021-04-14T00:00:00",
          "2021-04-15T00:00:00",
          "2021-04-16T00:00:00",
          "2021-04-19T00:00:00",
          "2021-04-20T00:00:00",
          "2021-04-21T00:00:00",
          "2021-04-22T00:00:00",
          "2021-04-23T00:00:00",
          "2021-04-26T00:00:00",
          "2021-04-27T00:00:00",
          "2021-04-28T00:00:00",
          "2021-04-29T00:00:00",
          "2021-04-30T00:00:00",
          "2021-05-03T00:00:00",
          "2021-05-04T00:00:00",
          "2021-05-05T00:00:00",
          "2021-05-06T00:00:00",
          "2021-05-07T00:00:00",
          "2021-05-10T00:00:00",
          "2021-05-11T00:00:00",
          "2021-05-12T00:00:00",
          "2021-05-17T00:00:00",
          "2021-05-18T00:00:00",
          "2021-05-19T00:00:00",
          "2021-05-20T00:00:00",
          "2021-05-21T00:00:00",
          "2021-05-24T00:00:00",
          "2021-05-25T00:00:00",
          "2021-05-26T00:00:00",
          "2021-05-27T00:00:00",
          "2021-05-28T00:00:00",
          "2021-05-31T00:00:00",
          "2021-06-01T00:00:00",
          "2021-06-02T00:00:00",
          "2021-06-03T00:00:00",
          "2021-06-04T00:00:00",
          "2021-06-07T00:00:00",
          "2021-06-08T00:00:00",
          "2021-06-09T00:00:00",
          "2021-06-10T00:00:00",
          "2021-06-11T00:00:00",
          "2021-06-14T00:00:00",
          "2021-06-15T00:00:00",
          "2021-06-16T00:00:00",
          "2021-06-17T00:00:00",
          "2021-06-18T00:00:00",
          "2021-06-21T00:00:00",
          "2021-06-22T00:00:00",
          "2021-06-23T00:00:00",
          "2021-06-24T00:00:00",
          "2021-06-25T00:00:00",
          "2021-06-28T00:00:00",
          "2021-06-29T00:00:00",
          "2021-06-30T00:00:00",
          "2021-07-01T00:00:00",
          "2021-07-02T00:00:00",
          "2021-07-05T00:00:00",
          "2021-07-06T00:00:00",
          "2021-07-07T00:00:00",
          "2021-07-08T00:00:00",
          "2021-07-09T00:00:00",
          "2021-07-12T00:00:00",
          "2021-07-13T00:00:00",
          "2021-07-14T00:00:00",
          "2021-07-15T00:00:00",
          "2021-07-16T00:00:00",
          "2021-07-19T00:00:00",
          "2021-07-20T00:00:00",
          "2021-07-23T00:00:00",
          "2021-07-26T00:00:00",
          "2021-07-27T00:00:00",
          "2021-07-28T00:00:00",
          "2021-07-29T00:00:00",
          "2021-08-02T00:00:00",
          "2021-08-03T00:00:00",
          "2021-08-04T00:00:00",
          "2021-08-05T00:00:00",
          "2021-08-06T00:00:00",
          "2021-08-09T00:00:00",
          "2021-08-11T00:00:00",
          "2021-08-12T00:00:00",
          "2021-08-13T00:00:00",
          "2021-08-16T00:00:00",
          "2021-08-17T00:00:00",
          "2021-08-18T00:00:00",
          "2021-08-19T00:00:00",
          "2021-08-23T00:00:00",
          "2021-08-24T00:00:00",
          "2021-08-25T00:00:00",
          "2021-08-26T00:00:00",
          "2021-08-27T00:00:00",
          "2021-08-30T00:00:00",
          "2021-08-31T00:00:00",
          "2021-09-01T00:00:00",
          "2021-09-02T00:00:00",
          "2021-09-03T00:00:00",
          "2021-09-06T00:00:00",
          "2021-09-07T00:00:00",
          "2021-09-08T00:00:00",
          "2021-09-09T00:00:00",
          "2021-09-10T00:00:00",
          "2021-09-13T00:00:00",
          "2021-09-14T00:00:00",
          "2021-09-15T00:00:00",
          "2021-09-16T00:00:00",
          "2021-09-17T00:00:00",
          "2021-09-20T00:00:00",
          "2021-09-21T00:00:00",
          "2021-09-22T00:00:00",
          "2021-09-23T00:00:00",
          "2021-09-24T00:00:00",
          "2021-09-27T00:00:00",
          "2021-09-28T00:00:00",
          "2021-09-29T00:00:00",
          "2021-09-30T00:00:00",
          "2021-10-01T00:00:00",
          "2021-10-04T00:00:00",
          "2021-10-05T00:00:00",
          "2021-10-06T00:00:00",
          "2021-10-07T00:00:00",
          "2021-10-08T00:00:00",
          "2021-10-11T00:00:00",
          "2021-10-12T00:00:00",
          "2021-10-13T00:00:00",
          "2021-10-14T00:00:00",
          "2021-10-15T00:00:00",
          "2021-10-18T00:00:00",
          "2021-10-21T00:00:00",
          "2021-10-22T00:00:00",
          "2021-10-25T00:00:00",
          "2021-10-26T00:00:00",
          "2021-10-27T00:00:00",
          "2021-10-28T00:00:00",
          "2021-10-29T00:00:00",
          "2021-11-01T00:00:00",
          "2021-11-02T00:00:00",
          "2021-11-03T00:00:00",
          "2021-11-04T00:00:00",
          "2021-11-05T00:00:00",
          "2021-11-08T00:00:00",
          "2021-11-09T00:00:00",
          "2021-11-10T00:00:00",
          "2021-11-11T00:00:00",
          "2021-11-12T00:00:00",
          "2021-11-15T00:00:00",
          "2021-11-16T00:00:00",
          "2021-11-17T00:00:00",
          "2021-11-19T00:00:00",
          "2021-11-22T00:00:00",
          "2021-11-23T00:00:00",
          "2021-11-24T00:00:00",
          "2021-11-25T00:00:00",
          "2021-11-26T00:00:00",
          "2021-11-29T00:00:00",
          "2021-11-30T00:00:00",
          "2021-12-01T00:00:00",
          "2021-12-02T00:00:00",
          "2021-12-03T00:00:00",
          "2021-12-06T00:00:00",
          "2021-12-07T00:00:00",
          "2021-12-08T00:00:00",
          "2021-12-09T00:00:00",
          "2021-12-10T00:00:00",
          "2021-12-13T00:00:00",
          "2021-12-14T00:00:00",
          "2021-12-15T00:00:00",
          "2021-12-16T00:00:00",
          "2021-12-17T00:00:00",
          "2021-12-20T00:00:00",
          "2021-12-21T00:00:00",
          "2021-12-22T00:00:00",
          "2021-12-23T00:00:00",
          "2021-12-24T00:00:00",
          "2021-12-27T00:00:00",
          "2021-12-28T00:00:00",
          "2021-12-29T00:00:00",
          "2021-12-30T00:00:00",
          "2021-12-31T00:00:00",
          "2022-01-03T00:00:00",
          "2022-01-04T00:00:00",
          "2022-01-05T00:00:00",
          "2022-01-06T00:00:00",
          "2022-01-07T00:00:00",
          "2022-01-10T00:00:00",
          "2022-01-12T00:00:00",
          "2022-01-13T00:00:00",
          "2022-01-14T00:00:00",
          "2022-01-17T00:00:00",
          "2022-01-18T00:00:00",
          "2022-01-19T00:00:00",
          "2022-01-20T00:00:00",
          "2022-01-21T00:00:00",
          "2022-01-24T00:00:00",
          "2022-01-25T00:00:00",
          "2022-01-26T00:00:00",
          "2022-01-27T00:00:00",
          "2022-01-28T00:00:00",
          "2022-01-31T00:00:00",
          "2022-02-01T00:00:00",
          "2022-02-02T00:00:00",
          "2022-02-03T00:00:00",
          "2022-02-04T00:00:00"
         ],
         "y": [
          0,
          -0.004573021857980031,
          -0.01200090059126313,
          -0.009601986625110692,
          -0.012658633287570886,
          -0.015080324321870231,
          -0.010615156067898313,
          -0.015697133478634218,
          -0.01167973196944061,
          -0.020309113862777006,
          -0.02145708322350237,
          -0.027581970127370847,
          -0.03575385418792454,
          -0.03000693333612614,
          -0.029611000226924644,
          -0.03013541958063526,
          -0.028581786022703892,
          -0.031250427977778106,
          -0.030273491673029174,
          -0.03029827647223926,
          -0.03184497267858177,
          -0.02901062029073298,
          -0.029971417855148452,
          -0.030226425330785567,
          -0.024750761760931494,
          -0.024509765685054585,
          -0.018580995660147925,
          -0.01229515707330131,
          -0.017743677827887994,
          -0.020465699798634218,
          -0.022382245697429637,
          -0.027530623473370985,
          -0.02313302604909695,
          -0.018117243958691964,
          -0.017546663877600288,
          -0.01894424119893312,
          -0.01596197456471249,
          -0.018890416919366215,
          -0.012984167656513335,
          -0.011260799660144483,
          -0.014664689817639465,
          -0.014241938547555066,
          -0.015236465993832549,
          -0.012673080407689441,
          -0.010671979128755282,
          -0.007483898701714509,
          -0.008329580656148194,
          -0.007296983211497743,
          -0.005996366485213178,
          -0.0030256507122583542,
          -0.003520389820379166,
          -0.00029040334710417337,
          -0.0018872415688084843,
          0.000811798288916199,
          0.002963325613935197,
          0.0020871774085593486,
          0.0035530603037234876,
          0.0066458888430036556,
          0.008091532100343413,
          0.009097097795700337,
          0.012878390131860096,
          0.01758544298949838,
          0.02132037809693932,
          0.026074540014503267,
          0.026282985216546706,
          0.030054640443603287,
          0.027656495395730563,
          0.028811282498534263,
          0.04030036545233462,
          0.03950512453703792,
          0.04259626145610307,
          0.02945891673477119,
          0.03742749025868153,
          0.03299321543247369,
          0.03318656420562904,
          0.035194406334813744,
          0.0335058105317525,
          0.03910823455175505,
          0.03500297131382091,
          0.03932692345398925,
          0.048280549642266024,
          0.058264363997917235,
          0.05734041470616402,
          0.0576439750993849,
          0.05654210666128545,
          0.05609372478188357,
          0.057152234772554156,
          0.06476391060525355,
          0.07355755053016977,
          0.06807899070146295,
          0.06388621601978217,
          0.06298864062501663,
          0.06688809007013052,
          0.07186467441535238,
          0.06945555946669169,
          0.06918193562515351,
          0.06593546012655072,
          0.060902052720471556,
          0.06530440889454225,
          0.06042741655359185,
          0.06018752259391569,
          0.06100185831315419,
          0.06161974395550973,
          0.04925182158235519,
          0.0407908327922355,
          0.045940082008893324,
          0.0479549042073486,
          0.04528927812063732,
          0.04499276614497871,
          0.043221127167728524,
          0.03970141228672741,
          0.0372077932191468,
          0.03941445198480786,
          0.03849778178610075,
          0.03780690871194525,
          0.04378181383362367,
          0.04089397890766544,
          0.042952808862319,
          0.04546545438554994,
          0.05120916286764721,
          0.0622981776406093,
          0.0633383617456178,
          0.06161759952786294,
          0.06519147188635199,
          0.07038269549753595,
          0.067711063304708,
          0.07365556198019929,
          0.0701664756773328,
          0.07846031017701982,
          0.07628205867001903,
          0.07858024434155331,
          0.07794430620670179,
          0.07710655265408373,
          0.08617414961845937,
          0.08557670865880285,
          0.08119646315703677,
          0.08374413717966855,
          0.09226422161133807,
          0.0914825222012976,
          0.08453020233682951,
          0.08550619885257027,
          0.0862473762692797,
          0.09079457956014081,
          0.08429219649870645,
          0.08628414765011416,
          0.08853361807687188,
          0.10818786987158457,
          0.10075331009280597,
          0.10106601207001686,
          0.10224636997738346,
          0.10171420163612233,
          0.10232391111410544,
          0.1123001131787893,
          0.1063504712943617,
          0.1056037149483573,
          0.10838743833926756,
          0.11732630984011383,
          0.12192714945273986,
          0.12108426123472182,
          0.125131539490843,
          0.12751457102275476,
          0.12662119904791758,
          0.11969113509587359,
          0.1176433348467627,
          0.11567580112249809,
          0.11730454945280289,
          0.11897999675328408,
          0.12711043611857153,
          0.12309741744357128,
          0.12437764074837543,
          0.1266985265962286,
          0.1348510680902839,
          0.1363698611066162,
          0.13548998791935274,
          0.13590962079863655,
          0.13635197094131213,
          0.13918118012022473,
          0.15774894184242894,
          0.15665952988045784,
          0.16012675327357617,
          0.15811512635774894,
          0.15402205474631336,
          0.15872876586249407,
          0.15930068727880675,
          0.15397482607687762,
          0.1460130361209,
          0.14724853401244498,
          0.14315403563042417,
          0.14007390278629273,
          0.13906326223029097,
          0.13592522129617457,
          0.13598742678498832,
          0.13313492792574255,
          0.13539134424762556,
          0.13974608729312066,
          0.14069271113058335,
          0.13687067466914504,
          0.13977708324332183,
          0.13838597337907332,
          0.12954771910687146,
          0.11915973567289129,
          0.11795378987388938,
          0.12519969982455392,
          0.13043010409384803,
          0.1299683430363825,
          0.12591067583995108,
          0.13017085902413728,
          0.1304253966052702,
          0.13438509506935348,
          0.13969190418502309,
          0.13492168896249002,
          0.1347409675361917,
          0.13381532662422346,
          0.13368773745104034,
          0.1366087383854555,
          0.13235710728124528,
          0.1314170790539133,
          0.12864413760598947,
          0.13201550252026029,
          0.13137219131346178,
          0.13085552094730124,
          0.1347350468654389,
          0.14391130052624823,
          0.14522967926478958,
          0.14127306501736103,
          0.1359733043192537,
          0.1344521960045464,
          0.13548938987180126,
          0.14216571079160123,
          0.15143394416571465,
          0.15220751012906542,
          0.15604778704080147,
          0.1609163725418956,
          0.17766723163079456,
          0.17651197463348645,
          0.17627835162955674,
          0.1736862255868321,
          0.17709324267866378,
          0.17762453103567144,
          0.17503550629667397,
          0.17103009991264106,
          0.1723683936346223,
          0.17335769243659893,
          0.1784281873343605,
          0.18614133474934813,
          0.1843994614530522,
          0.18802229681887428,
          0.18869584360113123,
          0.19176737310406833
         ]
        },
        {
         "line": {
          "color": "green"
         },
         "mode": "lines",
         "name": "Mean-Variance Optimized Portfolio",
         "type": "scatter",
         "x": [
          "2021-02-08T00:00:00",
          "2021-02-09T00:00:00",
          "2021-02-10T00:00:00",
          "2021-02-11T00:00:00",
          "2021-02-12T00:00:00",
          "2021-02-15T00:00:00",
          "2021-02-16T00:00:00",
          "2021-02-17T00:00:00",
          "2021-02-18T00:00:00",
          "2021-02-19T00:00:00",
          "2021-02-22T00:00:00",
          "2021-02-23T00:00:00",
          "2021-02-24T00:00:00",
          "2021-02-25T00:00:00",
          "2021-02-26T00:00:00",
          "2021-03-01T00:00:00",
          "2021-03-02T00:00:00",
          "2021-03-03T00:00:00",
          "2021-03-04T00:00:00",
          "2021-03-05T00:00:00",
          "2021-03-08T00:00:00",
          "2021-03-09T00:00:00",
          "2021-03-10T00:00:00",
          "2021-03-11T00:00:00",
          "2021-03-12T00:00:00",
          "2021-03-15T00:00:00",
          "2021-03-16T00:00:00",
          "2021-03-17T00:00:00",
          "2021-03-18T00:00:00",
          "2021-03-19T00:00:00",
          "2021-03-22T00:00:00",
          "2021-03-23T00:00:00",
          "2021-03-24T00:00:00",
          "2021-03-25T00:00:00",
          "2021-03-26T00:00:00",
          "2021-03-29T00:00:00",
          "2021-03-30T00:00:00",
          "2021-03-31T00:00:00",
          "2021-04-01T00:00:00",
          "2021-04-02T00:00:00",
          "2021-04-05T00:00:00",
          "2021-04-06T00:00:00",
          "2021-04-07T00:00:00",
          "2021-04-08T00:00:00",
          "2021-04-09T00:00:00",
          "2021-04-12T00:00:00",
          "2021-04-13T00:00:00",
          "2021-04-14T00:00:00",
          "2021-04-15T00:00:00",
          "2021-04-16T00:00:00",
          "2021-04-19T00:00:00",
          "2021-04-20T00:00:00",
          "2021-04-21T00:00:00",
          "2021-04-22T00:00:00",
          "2021-04-23T00:00:00",
          "2021-04-26T00:00:00",
          "2021-04-27T00:00:00",
          "2021-04-28T00:00:00",
          "2021-04-29T00:00:00",
          "2021-04-30T00:00:00",
          "2021-05-03T00:00:00",
          "2021-05-04T00:00:00",
          "2021-05-05T00:00:00",
          "2021-05-06T00:00:00",
          "2021-05-07T00:00:00",
          "2021-05-10T00:00:00",
          "2021-05-11T00:00:00",
          "2021-05-12T00:00:00",
          "2021-05-17T00:00:00",
          "2021-05-18T00:00:00",
          "2021-05-19T00:00:00",
          "2021-05-20T00:00:00",
          "2021-05-21T00:00:00",
          "2021-05-24T00:00:00",
          "2021-05-25T00:00:00",
          "2021-05-26T00:00:00",
          "2021-05-27T00:00:00",
          "2021-05-28T00:00:00",
          "2021-05-31T00:00:00",
          "2021-06-01T00:00:00",
          "2021-06-02T00:00:00",
          "2021-06-03T00:00:00",
          "2021-06-04T00:00:00",
          "2021-06-07T00:00:00",
          "2021-06-08T00:00:00",
          "2021-06-09T00:00:00",
          "2021-06-10T00:00:00",
          "2021-06-11T00:00:00",
          "2021-06-14T00:00:00",
          "2021-06-15T00:00:00",
          "2021-06-16T00:00:00",
          "2021-06-17T00:00:00",
          "2021-06-18T00:00:00",
          "2021-06-21T00:00:00",
          "2021-06-22T00:00:00",
          "2021-06-23T00:00:00",
          "2021-06-24T00:00:00",
          "2021-06-25T00:00:00",
          "2021-06-28T00:00:00",
          "2021-06-29T00:00:00",
          "2021-06-30T00:00:00",
          "2021-07-01T00:00:00",
          "2021-07-02T00:00:00",
          "2021-07-05T00:00:00",
          "2021-07-06T00:00:00",
          "2021-07-07T00:00:00",
          "2021-07-08T00:00:00",
          "2021-07-09T00:00:00",
          "2021-07-12T00:00:00",
          "2021-07-13T00:00:00",
          "2021-07-14T00:00:00",
          "2021-07-15T00:00:00",
          "2021-07-16T00:00:00",
          "2021-07-19T00:00:00",
          "2021-07-20T00:00:00",
          "2021-07-23T00:00:00",
          "2021-07-26T00:00:00",
          "2021-07-27T00:00:00",
          "2021-07-28T00:00:00",
          "2021-07-29T00:00:00",
          "2021-08-02T00:00:00",
          "2021-08-03T00:00:00",
          "2021-08-04T00:00:00",
          "2021-08-05T00:00:00",
          "2021-08-06T00:00:00",
          "2021-08-09T00:00:00",
          "2021-08-11T00:00:00",
          "2021-08-12T00:00:00",
          "2021-08-13T00:00:00",
          "2021-08-16T00:00:00",
          "2021-08-17T00:00:00",
          "2021-08-18T00:00:00",
          "2021-08-19T00:00:00",
          "2021-08-23T00:00:00",
          "2021-08-24T00:00:00",
          "2021-08-25T00:00:00",
          "2021-08-26T00:00:00",
          "2021-08-27T00:00:00",
          "2021-08-30T00:00:00",
          "2021-08-31T00:00:00",
          "2021-09-01T00:00:00",
          "2021-09-02T00:00:00",
          "2021-09-03T00:00:00",
          "2021-09-06T00:00:00",
          "2021-09-07T00:00:00",
          "2021-09-08T00:00:00",
          "2021-09-09T00:00:00",
          "2021-09-10T00:00:00",
          "2021-09-13T00:00:00",
          "2021-09-14T00:00:00",
          "2021-09-15T00:00:00",
          "2021-09-16T00:00:00",
          "2021-09-17T00:00:00",
          "2021-09-20T00:00:00",
          "2021-09-21T00:00:00",
          "2021-09-22T00:00:00",
          "2021-09-23T00:00:00",
          "2021-09-24T00:00:00",
          "2021-09-27T00:00:00",
          "2021-09-28T00:00:00",
          "2021-09-29T00:00:00",
          "2021-09-30T00:00:00",
          "2021-10-01T00:00:00",
          "2021-10-04T00:00:00",
          "2021-10-05T00:00:00",
          "2021-10-06T00:00:00",
          "2021-10-07T00:00:00",
          "2021-10-08T00:00:00",
          "2021-10-11T00:00:00",
          "2021-10-12T00:00:00",
          "2021-10-13T00:00:00",
          "2021-10-14T00:00:00",
          "2021-10-15T00:00:00",
          "2021-10-18T00:00:00",
          "2021-10-21T00:00:00",
          "2021-10-22T00:00:00",
          "2021-10-25T00:00:00",
          "2021-10-26T00:00:00",
          "2021-10-27T00:00:00",
          "2021-10-28T00:00:00",
          "2021-10-29T00:00:00",
          "2021-11-01T00:00:00",
          "2021-11-02T00:00:00",
          "2021-11-03T00:00:00",
          "2021-11-04T00:00:00",
          "2021-11-05T00:00:00",
          "2021-11-08T00:00:00",
          "2021-11-09T00:00:00",
          "2021-11-10T00:00:00",
          "2021-11-11T00:00:00",
          "2021-11-12T00:00:00",
          "2021-11-15T00:00:00",
          "2021-11-16T00:00:00",
          "2021-11-17T00:00:00",
          "2021-11-19T00:00:00",
          "2021-11-22T00:00:00",
          "2021-11-23T00:00:00",
          "2021-11-24T00:00:00",
          "2021-11-25T00:00:00",
          "2021-11-26T00:00:00",
          "2021-11-29T00:00:00",
          "2021-11-30T00:00:00",
          "2021-12-01T00:00:00",
          "2021-12-02T00:00:00",
          "2021-12-03T00:00:00",
          "2021-12-06T00:00:00",
          "2021-12-07T00:00:00",
          "2021-12-08T00:00:00",
          "2021-12-09T00:00:00",
          "2021-12-10T00:00:00",
          "2021-12-13T00:00:00",
          "2021-12-14T00:00:00",
          "2021-12-15T00:00:00",
          "2021-12-16T00:00:00",
          "2021-12-17T00:00:00",
          "2021-12-20T00:00:00",
          "2021-12-21T00:00:00",
          "2021-12-22T00:00:00",
          "2021-12-23T00:00:00",
          "2021-12-24T00:00:00",
          "2021-12-27T00:00:00",
          "2021-12-28T00:00:00",
          "2021-12-29T00:00:00",
          "2021-12-30T00:00:00",
          "2021-12-31T00:00:00",
          "2022-01-03T00:00:00",
          "2022-01-04T00:00:00",
          "2022-01-05T00:00:00",
          "2022-01-06T00:00:00",
          "2022-01-07T00:00:00",
          "2022-01-10T00:00:00",
          "2022-01-12T00:00:00",
          "2022-01-13T00:00:00",
          "2022-01-14T00:00:00",
          "2022-01-17T00:00:00",
          "2022-01-18T00:00:00",
          "2022-01-19T00:00:00",
          "2022-01-20T00:00:00",
          "2022-01-21T00:00:00",
          "2022-01-24T00:00:00",
          "2022-01-25T00:00:00",
          "2022-01-26T00:00:00",
          "2022-01-27T00:00:00",
          "2022-01-28T00:00:00",
          "2022-01-31T00:00:00",
          "2022-02-01T00:00:00",
          "2022-02-02T00:00:00",
          "2022-02-03T00:00:00",
          "2022-02-04T00:00:00"
         ],
         "y": [
          0,
          -0.00007465896094471791,
          -0.0002726597076705417,
          -0.000053091236216329385,
          -0.00019236475885531235,
          0.00008048003380678459,
          1.9160197206602447e-7,
          0.0002951730195133173,
          0.00042333298452845725,
          0.00021588104043801515,
          0.00006245338480725948,
          0.00014842145856275302,
          -0.0002759946549680814,
          -0.00015776739200323853,
          -0.00019845658238815123,
          -0.00026515787248626577,
          -0.00011485446985226577,
          0.00016618340818053134,
          0.00003341743884655024,
          0.0004883850514607602,
          0.0004347650273333059,
          0.0005371667752400722,
          0.0005028692004507285,
          0.0003943280853306863,
          0.0008622947615568588,
          0.0007149533204293679,
          0.00066621650408627,
          0.0008607728185363595,
          0.0012796793196399037,
          0.0011432987525372695,
          0.0009879624234165885,
          0.0011315093316153213,
          0.0014085235705063592,
          0.001058314890531431,
          0.0008955295764316862,
          0.001063560191722157,
          0.0010349983378874494,
          0.0013639769644515631,
          0.001359404952946841,
          0.0016674773925124953,
          0.001354998530973317,
          0.0014712434917805162,
          0.0016868761939141663,
          0.0016033695702337702,
          0.0020331439125793604,
          0.0017950023034909446,
          0.002459953257693437,
          0.002441932773969535,
          0.0024391035558120056,
          0.002669147974728059,
          0.0025970951817155807,
          0.0027018725543088706,
          0.002856324978953051,
          0.0029982306116391744,
          0.0030073761481670402,
          0.0032143652896765573,
          0.0038568461775945195,
          0.0042317213803855225,
          0.0043640904784227885,
          0.004503082105649314,
          0.004890550273042971,
          0.0050878952464079585,
          0.005158139367898107,
          0.005253783407271895,
          0.0054887089436834735,
          0.005451479954086791,
          0.005620651709204116,
          0.005282915502300867,
          0.005369262221455617,
          0.0057208205058356665,
          0.005749254665073922,
          0.005535344071243786,
          0.0058138661310995765,
          0.005542124961453787,
          0.005257652750973785,
          0.00516108203130794,
          0.004951559535769201,
          0.004987156464800746,
          0.005043041943189941,
          -0.11014361734110467,
          -0.10999001017000809,
          -0.1098486668161246,
          -0.10956515872510442,
          -0.1094409283696467,
          -0.10936602445074728,
          -0.10940118563704138,
          -0.10937152760200297,
          -0.10942836894472974,
          -0.1096805306906401,
          -0.10974827876415294,
          -0.11050307034011098,
          -0.11082818565956609,
          -0.11118085619333451,
          -0.11110591960495542,
          -0.1116728906670228,
          -0.11223855196586008,
          -0.11244652911471398,
          -0.11324050046484879,
          -0.11328937192560196,
          -0.11367577411593188,
          -0.11392277984399779,
          -0.11441247006903621,
          -0.11458643939132618,
          -0.11551915274582447,
          -0.11534190346355222,
          -0.11530464406996166,
          -0.11544674590427284,
          -0.11520533551367718,
          -0.11523218823503645,
          -0.11520314993390857,
          -0.11503963273363438,
          -0.11505682751399626,
          -0.11503381764381015,
          -0.11467296143689165,
          -0.1147489739440577,
          -0.11480699556559226,
          -0.11492232635707855,
          -0.11513608096310313,
          -0.11520195968801017,
          -0.11531922747430423,
          -0.11533135031709729,
          -0.11582579863890108,
          -0.11585163171390556,
          -0.11572413855476704,
          -0.16448112616334776,
          -0.16455722063608735,
          -0.1645363474198166,
          -0.16459438605139487,
          -0.16454749581748718,
          -0.1642365655430561,
          -0.1771129353845713,
          -0.16391681847229622,
          -0.1638602699838807,
          -0.16392923541045246,
          -0.16385056144008725,
          -0.14954109360542522,
          -0.13483420714553662,
          -0.12042164233990249,
          -0.12044740645379215,
          -0.12035052245315914,
          -0.12027141086354032,
          -0.12029666950631002,
          -0.11994701010287812,
          -0.120257920187546,
          -0.12026006973009284,
          -0.12004850597114014,
          -0.11935310330122173,
          -0.10442782225535707,
          -0.1045806203823576,
          -0.10461080695364111,
          -0.10448172159176239,
          -0.10448584272283001,
          -0.10425705061175039,
          -0.08890476357145916,
          -0.08873432359296862,
          -0.08822072336287012,
          -0.08815720841343055,
          -0.08818363032165422,
          -0.08830047513782135,
          -0.10259295312819361,
          -0.0891971937023146,
          -0.08949474032945248,
          -0.0892629590648234,
          -0.07398219369796644,
          -0.07361924683955612,
          -0.08924292196007289,
          -0.08839717657446389,
          -0.08817089758950081,
          -0.08791899872530295,
          -0.08865528316913751,
          -0.08870212325817495,
          -0.08835307623245148,
          -0.08802522193377671,
          -0.08728384645771337,
          -0.05660082999339444,
          -0.024445966607666514,
          -0.024527253070322996,
          -0.006714906232897722,
          -0.005648472655677583,
          0.02186825462820119,
          0.056843940684129235,
          0.057460433065297245,
          0.08830601995435039,
          0.08875073870095163,
          0.11089034089365502,
          0.11090283339055351,
          0.14863545194967065,
          0.18693645370503242,
          0.18689365625626508,
          0.1976190403292517,
          0.23597755519409902,
          0.2581007001159348,
          0.29262624069074206,
          0.29305416723747424,
          0.3281482864683696,
          0.32841884512966346,
          0.327596206795558,
          0.3273780636530865,
          0.3525767222537035,
          0.35224927118423466,
          0.3053875295009725,
          0.30551268697614264,
          0.305688216619449,
          0.2621252865190684,
          0.21954475743998136,
          0.17802690019137724,
          0.1642011966670065,
          0.16426755275175697,
          0.12525872074677236,
          0.12548164647158289,
          0.1297550287633369,
          0.12948344150532076,
          0.12961655288856422,
          0.12967405949825284,
          0.11277346651410469,
          0.11245097070377952,
          0.11245303693154529,
          0.11305936668732142,
          0.12145646193939497,
          0.12132427997548212,
          0.12995290009899296,
          0.13025299495264653,
          0.13101103476427123,
          0.1311100851436784,
          0.1320889114177557,
          0.13193618215347946,
          0.13200664328162204,
          0.1321098948817796,
          0.1319895691389188,
          0.15869694983107463,
          0.15895135364835222,
          0.1589754153481362,
          0.16326213009513202,
          0.1632540494061987,
          0.17655864750976336,
          0.21554895366400517,
          0.2166467893306696,
          0.21627083639510603,
          0.21718585273699675,
          0.2169100430412576,
          0.2162580118647699,
          0.21629089781286237,
          0.21629901097293702,
          0.21633842251726443,
          0.2165076406221098,
          0.21679216720279815,
          0.21684278687610092,
          0.21682942496244895,
          0.1759269655578437
         ]
        }
       ],
       "layout": {
        "legend": {
         "font": {
          "size": 12
         },
         "traceorder": "normal",
         "x": 0,
         "y": 1
        },
        "template": {
         "data": {
          "bar": [
           {
            "error_x": {
             "color": "#2a3f5f"
            },
            "error_y": {
             "color": "#2a3f5f"
            },
            "marker": {
             "line": {
              "color": "#E5ECF6",
              "width": 0.5
             },
             "pattern": {
              "fillmode": "overlay",
              "size": 10,
              "solidity": 0.2
             }
            },
            "type": "bar"
           }
          ],
          "barpolar": [
           {
            "marker": {
             "line": {
              "color": "#E5ECF6",
              "width": 0.5
             },
             "pattern": {
              "fillmode": "overlay",
              "size": 10,
              "solidity": 0.2
             }
            },
            "type": "barpolar"
           }
          ],
          "carpet": [
           {
            "aaxis": {
             "endlinecolor": "#2a3f5f",
             "gridcolor": "white",
             "linecolor": "white",
             "minorgridcolor": "white",
             "startlinecolor": "#2a3f5f"
            },
            "baxis": {
             "endlinecolor": "#2a3f5f",
             "gridcolor": "white",
             "linecolor": "white",
             "minorgridcolor": "white",
             "startlinecolor": "#2a3f5f"
            },
            "type": "carpet"
           }
          ],
          "choropleth": [
           {
            "colorbar": {
             "outlinewidth": 0,
             "ticks": ""
            },
            "type": "choropleth"
           }
          ],
          "contour": [
           {
            "colorbar": {
             "outlinewidth": 0,
             "ticks": ""
            },
            "colorscale": [
             [
              0,
              "#0d0887"
             ],
             [
              0.1111111111111111,
              "#46039f"
             ],
             [
              0.2222222222222222,
              "#7201a8"
             ],
             [
              0.3333333333333333,
              "#9c179e"
             ],
             [
              0.4444444444444444,
              "#bd3786"
             ],
             [
              0.5555555555555556,
              "#d8576b"
             ],
             [
              0.6666666666666666,
              "#ed7953"
             ],
             [
              0.7777777777777778,
              "#fb9f3a"
             ],
             [
              0.8888888888888888,
              "#fdca26"
             ],
             [
              1,
              "#f0f921"
             ]
            ],
            "type": "contour"
           }
          ],
          "contourcarpet": [
           {
            "colorbar": {
             "outlinewidth": 0,
             "ticks": ""
            },
            "type": "contourcarpet"
           }
          ],
          "heatmap": [
           {
            "colorbar": {
             "outlinewidth": 0,
             "ticks": ""
            },
            "colorscale": [
             [
              0,
              "#0d0887"
             ],
             [
              0.1111111111111111,
              "#46039f"
             ],
             [
              0.2222222222222222,
              "#7201a8"
             ],
             [
              0.3333333333333333,
              "#9c179e"
             ],
             [
              0.4444444444444444,
              "#bd3786"
             ],
             [
              0.5555555555555556,
              "#d8576b"
             ],
             [
              0.6666666666666666,
              "#ed7953"
             ],
             [
              0.7777777777777778,
              "#fb9f3a"
             ],
             [
              0.8888888888888888,
              "#fdca26"
             ],
             [
              1,
              "#f0f921"
             ]
            ],
            "type": "heatmap"
           }
          ],
          "heatmapgl": [
           {
            "colorbar": {
             "outlinewidth": 0,
             "ticks": ""
            },
            "colorscale": [
             [
              0,
              "#0d0887"
             ],
             [
              0.1111111111111111,
              "#46039f"
             ],
             [
              0.2222222222222222,
              "#7201a8"
             ],
             [
              0.3333333333333333,
              "#9c179e"
             ],
             [
              0.4444444444444444,
              "#bd3786"
             ],
             [
              0.5555555555555556,
              "#d8576b"
             ],
             [
              0.6666666666666666,
              "#ed7953"
             ],
             [
              0.7777777777777778,
              "#fb9f3a"
             ],
             [
              0.8888888888888888,
              "#fdca26"
             ],
             [
              1,
              "#f0f921"
             ]
            ],
            "type": "heatmapgl"
           }
          ],
          "histogram": [
           {
            "marker": {
             "pattern": {
              "fillmode": "overlay",
              "size": 10,
              "solidity": 0.2
             }
            },
            "type": "histogram"
           }
          ],
          "histogram2d": [
           {
            "colorbar": {
             "outlinewidth": 0,
             "ticks": ""
            },
            "colorscale": [
             [
              0,
              "#0d0887"
             ],
             [
              0.1111111111111111,
              "#46039f"
             ],
             [
              0.2222222222222222,
              "#7201a8"
             ],
             [
              0.3333333333333333,
              "#9c179e"
             ],
             [
              0.4444444444444444,
              "#bd3786"
             ],
             [
              0.5555555555555556,
              "#d8576b"
             ],
             [
              0.6666666666666666,
              "#ed7953"
             ],
             [
              0.7777777777777778,
              "#fb9f3a"
             ],
             [
              0.8888888888888888,
              "#fdca26"
             ],
             [
              1,
              "#f0f921"
             ]
            ],
            "type": "histogram2d"
           }
          ],
          "histogram2dcontour": [
           {
            "colorbar": {
             "outlinewidth": 0,
             "ticks": ""
            },
            "colorscale": [
             [
              0,
              "#0d0887"
             ],
             [
              0.1111111111111111,
              "#46039f"
             ],
             [
              0.2222222222222222,
              "#7201a8"
             ],
             [
              0.3333333333333333,
              "#9c179e"
             ],
             [
              0.4444444444444444,
              "#bd3786"
             ],
             [
              0.5555555555555556,
              "#d8576b"
             ],
             [
              0.6666666666666666,
              "#ed7953"
             ],
             [
              0.7777777777777778,
              "#fb9f3a"
             ],
             [
              0.8888888888888888,
              "#fdca26"
             ],
             [
              1,
              "#f0f921"
             ]
            ],
            "type": "histogram2dcontour"
           }
          ],
          "mesh3d": [
           {
            "colorbar": {
             "outlinewidth": 0,
             "ticks": ""
            },
            "type": "mesh3d"
           }
          ],
          "parcoords": [
           {
            "line": {
             "colorbar": {
              "outlinewidth": 0,
              "ticks": ""
             }
            },
            "type": "parcoords"
           }
          ],
          "pie": [
           {
            "automargin": true,
            "type": "pie"
           }
          ],
          "scatter": [
           {
            "fillpattern": {
             "fillmode": "overlay",
             "size": 10,
             "solidity": 0.2
            },
            "type": "scatter"
           }
          ],
          "scatter3d": [
           {
            "line": {
             "colorbar": {
              "outlinewidth": 0,
              "ticks": ""
             }
            },
            "marker": {
             "colorbar": {
              "outlinewidth": 0,
              "ticks": ""
             }
            },
            "type": "scatter3d"
           }
          ],
          "scattercarpet": [
           {
            "marker": {
             "colorbar": {
              "outlinewidth": 0,
              "ticks": ""
             }
            },
            "type": "scattercarpet"
           }
          ],
          "scattergeo": [
           {
            "marker": {
             "colorbar": {
              "outlinewidth": 0,
              "ticks": ""
             }
            },
            "type": "scattergeo"
           }
          ],
          "scattergl": [
           {
            "marker": {
             "colorbar": {
              "outlinewidth": 0,
              "ticks": ""
             }
            },
            "type": "scattergl"
           }
          ],
          "scattermapbox": [
           {
            "marker": {
             "colorbar": {
              "outlinewidth": 0,
              "ticks": ""
             }
            },
            "type": "scattermapbox"
           }
          ],
          "scatterpolar": [
           {
            "marker": {
             "colorbar": {
              "outlinewidth": 0,
              "ticks": ""
             }
            },
            "type": "scatterpolar"
           }
          ],
          "scatterpolargl": [
           {
            "marker": {
             "colorbar": {
              "outlinewidth": 0,
              "ticks": ""
             }
            },
            "type": "scatterpolargl"
           }
          ],
          "scatterternary": [
           {
            "marker": {
             "colorbar": {
              "outlinewidth": 0,
              "ticks": ""
             }
            },
            "type": "scatterternary"
           }
          ],
          "surface": [
           {
            "colorbar": {
             "outlinewidth": 0,
             "ticks": ""
            },
            "colorscale": [
             [
              0,
              "#0d0887"
             ],
             [
              0.1111111111111111,
              "#46039f"
             ],
             [
              0.2222222222222222,
              "#7201a8"
             ],
             [
              0.3333333333333333,
              "#9c179e"
             ],
             [
              0.4444444444444444,
              "#bd3786"
             ],
             [
              0.5555555555555556,
              "#d8576b"
             ],
             [
              0.6666666666666666,
              "#ed7953"
             ],
             [
              0.7777777777777778,
              "#fb9f3a"
             ],
             [
              0.8888888888888888,
              "#fdca26"
             ],
             [
              1,
              "#f0f921"
             ]
            ],
            "type": "surface"
           }
          ],
          "table": [
           {
            "cells": {
             "fill": {
              "color": "#EBF0F8"
             },
             "line": {
              "color": "white"
             }
            },
            "header": {
             "fill": {
              "color": "#C8D4E3"
             },
             "line": {
              "color": "white"
             }
            },
            "type": "table"
           }
          ]
         },
         "layout": {
          "annotationdefaults": {
           "arrowcolor": "#2a3f5f",
           "arrowhead": 0,
           "arrowwidth": 1
          },
          "autotypenumbers": "strict",
          "coloraxis": {
           "colorbar": {
            "outlinewidth": 0,
            "ticks": ""
           }
          },
          "colorscale": {
           "diverging": [
            [
             0,
             "#8e0152"
            ],
            [
             0.1,
             "#c51b7d"
            ],
            [
             0.2,
             "#de77ae"
            ],
            [
             0.3,
             "#f1b6da"
            ],
            [
             0.4,
             "#fde0ef"
            ],
            [
             0.5,
             "#f7f7f7"
            ],
            [
             0.6,
             "#e6f5d0"
            ],
            [
             0.7,
             "#b8e186"
            ],
            [
             0.8,
             "#7fbc41"
            ],
            [
             0.9,
             "#4d9221"
            ],
            [
             1,
             "#276419"
            ]
           ],
           "sequential": [
            [
             0,
             "#0d0887"
            ],
            [
             0.1111111111111111,
             "#46039f"
            ],
            [
             0.2222222222222222,
             "#7201a8"
            ],
            [
             0.3333333333333333,
             "#9c179e"
            ],
            [
             0.4444444444444444,
             "#bd3786"
            ],
            [
             0.5555555555555556,
             "#d8576b"
            ],
            [
             0.6666666666666666,
             "#ed7953"
            ],
            [
             0.7777777777777778,
             "#fb9f3a"
            ],
            [
             0.8888888888888888,
             "#fdca26"
            ],
            [
             1,
             "#f0f921"
            ]
           ],
           "sequentialminus": [
            [
             0,
             "#0d0887"
            ],
            [
             0.1111111111111111,
             "#46039f"
            ],
            [
             0.2222222222222222,
             "#7201a8"
            ],
            [
             0.3333333333333333,
             "#9c179e"
            ],
            [
             0.4444444444444444,
             "#bd3786"
            ],
            [
             0.5555555555555556,
             "#d8576b"
            ],
            [
             0.6666666666666666,
             "#ed7953"
            ],
            [
             0.7777777777777778,
             "#fb9f3a"
            ],
            [
             0.8888888888888888,
             "#fdca26"
            ],
            [
             1,
             "#f0f921"
            ]
           ]
          },
          "colorway": [
           "#636efa",
           "#EF553B",
           "#00cc96",
           "#ab63fa",
           "#FFA15A",
           "#19d3f3",
           "#FF6692",
           "#B6E880",
           "#FF97FF",
           "#FECB52"
          ],
          "font": {
           "color": "#2a3f5f"
          },
          "geo": {
           "bgcolor": "white",
           "lakecolor": "white",
           "landcolor": "#E5ECF6",
           "showlakes": true,
           "showland": true,
           "subunitcolor": "white"
          },
          "hoverlabel": {
           "align": "left"
          },
          "hovermode": "closest",
          "mapbox": {
           "style": "light"
          },
          "paper_bgcolor": "white",
          "plot_bgcolor": "#E5ECF6",
          "polar": {
           "angularaxis": {
            "gridcolor": "white",
            "linecolor": "white",
            "ticks": ""
           },
           "bgcolor": "#E5ECF6",
           "radialaxis": {
            "gridcolor": "white",
            "linecolor": "white",
            "ticks": ""
           }
          },
          "scene": {
           "xaxis": {
            "backgroundcolor": "#E5ECF6",
            "gridcolor": "white",
            "gridwidth": 2,
            "linecolor": "white",
            "showbackground": true,
            "ticks": "",
            "zerolinecolor": "white"
           },
           "yaxis": {
            "backgroundcolor": "#E5ECF6",
            "gridcolor": "white",
            "gridwidth": 2,
            "linecolor": "white",
            "showbackground": true,
            "ticks": "",
            "zerolinecolor": "white"
           },
           "zaxis": {
            "backgroundcolor": "#E5ECF6",
            "gridcolor": "white",
            "gridwidth": 2,
            "linecolor": "white",
            "showbackground": true,
            "ticks": "",
            "zerolinecolor": "white"
           }
          },
          "shapedefaults": {
           "line": {
            "color": "#2a3f5f"
           }
          },
          "ternary": {
           "aaxis": {
            "gridcolor": "white",
            "linecolor": "white",
            "ticks": ""
           },
           "baxis": {
            "gridcolor": "white",
            "linecolor": "white",
            "ticks": ""
           },
           "bgcolor": "#E5ECF6",
           "caxis": {
            "gridcolor": "white",
            "linecolor": "white",
            "ticks": ""
           }
          },
          "title": {
           "x": 0.05
          },
          "xaxis": {
           "automargin": true,
           "gridcolor": "white",
           "linecolor": "white",
           "ticks": "",
           "title": {
            "standoff": 15
           },
           "zerolinecolor": "white",
           "zerolinewidth": 2
          },
          "yaxis": {
           "automargin": true,
           "gridcolor": "white",
           "linecolor": "white",
           "ticks": "",
           "title": {
            "standoff": 15
           },
           "zerolinecolor": "white",
           "zerolinewidth": 2
          }
         }
        },
        "title": {
         "text": "Mean-Variance Optimized Portfolio Performance"
        },
        "xaxis": {
         "title": {
          "text": "Date"
         }
        },
        "yaxis": {
         "title": {
          "text": "Cumulative Returns"
         }
        }
       }
      }
     },
     "metadata": {},
     "output_type": "display_data"
    }
   ],
   "source": [
    "# Create traces\n",
    "masi_trace = go.Scatter(x=benchmark_cumulative_returns.index, y=benchmark_cumulative_returns, mode='lines', name='MASI Index', line=dict(dash='dash', color='red'))\n",
    "mean_variance_trace = go.Scatter(x=mean_variance_portfolio.index, y=mean_variance_portfolio, mode='lines', name='Mean-Variance Optimized Portfolio', line=dict(color='green'))\n",
    "\n",
    "# Layout\n",
    "layout = go.Layout(\n",
    "    title='Mean-Variance Optimized Portfolio Performance',\n",
    "    xaxis=dict(title='Date'),\n",
    "    yaxis=dict(title='Cumulative Returns'),\n",
    "    legend=dict(x=0, y=1, traceorder='normal', font=dict(size=12))\n",
    ")\n",
    "\n",
    "# Create figure\n",
    "fig = go.Figure(data=[masi_trace, mean_variance_trace], layout=layout)\n",
    "\n",
    "# Show plot\n",
    "fig.show()"
   ]
  },
  {
   "cell_type": "markdown",
   "metadata": {},
   "source": [
    "The Mean-Variance Optimization (MVO) approach aims to maximize returns for a given level of risk by considering both expected returns and the covariance of asset returns.\n",
    "\n",
    "During the initial months, the mean-variance optimized portfolio underperforms, showing a sharp decline in returns around May 2021, even dipping below -20%. The portfolio remains flat for a significant period after this drop, indicating that the optimization was unable to fully recover or provide substantial returns until late in the year.\n",
    "\n",
    "Starting in November 2021, the optimized portfolio experiences a substantial increase, significantly outperforming the MASI Index. This suggests that, despite its earlier underperformance, the optimization eventually aligned the portfolio to capture a favorable upward trend in the market. However, the volatility and sharp drawdowns earlier in the period highlight the potential risk associated with this strategy. Ultimately, the MVO portfolio ends the period with higher cumulative returns than the MASI Index, but with higher volatility along the way.\n"
   ]
  },
  {
   "cell_type": "code",
   "execution_count": 29,
   "metadata": {},
   "outputs": [
    {
     "data": {
      "application/vnd.plotly.v1+json": {
       "config": {
        "plotlyServerURL": "https://plot.ly"
       },
       "data": [
        {
         "line": {
          "color": "purple"
         },
         "mode": "lines",
         "name": "Mean-Variance Optimized Portfolio Drawdown",
         "type": "scatter",
         "x": [
          "2021-02-08T00:00:00",
          "2021-02-09T00:00:00",
          "2021-02-10T00:00:00",
          "2021-02-11T00:00:00",
          "2021-02-12T00:00:00",
          "2021-02-15T00:00:00",
          "2021-02-16T00:00:00",
          "2021-02-17T00:00:00",
          "2021-02-18T00:00:00",
          "2021-02-19T00:00:00",
          "2021-02-22T00:00:00",
          "2021-02-23T00:00:00",
          "2021-02-24T00:00:00",
          "2021-02-25T00:00:00",
          "2021-02-26T00:00:00",
          "2021-03-01T00:00:00",
          "2021-03-02T00:00:00",
          "2021-03-03T00:00:00",
          "2021-03-04T00:00:00",
          "2021-03-05T00:00:00",
          "2021-03-08T00:00:00",
          "2021-03-09T00:00:00",
          "2021-03-10T00:00:00",
          "2021-03-11T00:00:00",
          "2021-03-12T00:00:00",
          "2021-03-15T00:00:00",
          "2021-03-16T00:00:00",
          "2021-03-17T00:00:00",
          "2021-03-18T00:00:00",
          "2021-03-19T00:00:00",
          "2021-03-22T00:00:00",
          "2021-03-23T00:00:00",
          "2021-03-24T00:00:00",
          "2021-03-25T00:00:00",
          "2021-03-26T00:00:00",
          "2021-03-29T00:00:00",
          "2021-03-30T00:00:00",
          "2021-03-31T00:00:00",
          "2021-04-01T00:00:00",
          "2021-04-02T00:00:00",
          "2021-04-05T00:00:00",
          "2021-04-06T00:00:00",
          "2021-04-07T00:00:00",
          "2021-04-08T00:00:00",
          "2021-04-09T00:00:00",
          "2021-04-12T00:00:00",
          "2021-04-13T00:00:00",
          "2021-04-14T00:00:00",
          "2021-04-15T00:00:00",
          "2021-04-16T00:00:00",
          "2021-04-19T00:00:00",
          "2021-04-20T00:00:00",
          "2021-04-21T00:00:00",
          "2021-04-22T00:00:00",
          "2021-04-23T00:00:00",
          "2021-04-26T00:00:00",
          "2021-04-27T00:00:00",
          "2021-04-28T00:00:00",
          "2021-04-29T00:00:00",
          "2021-04-30T00:00:00",
          "2021-05-03T00:00:00",
          "2021-05-04T00:00:00",
          "2021-05-05T00:00:00",
          "2021-05-06T00:00:00",
          "2021-05-07T00:00:00",
          "2021-05-10T00:00:00",
          "2021-05-11T00:00:00",
          "2021-05-12T00:00:00",
          "2021-05-17T00:00:00",
          "2021-05-18T00:00:00",
          "2021-05-19T00:00:00",
          "2021-05-20T00:00:00",
          "2021-05-21T00:00:00",
          "2021-05-24T00:00:00",
          "2021-05-25T00:00:00",
          "2021-05-26T00:00:00",
          "2021-05-27T00:00:00",
          "2021-05-28T00:00:00",
          "2021-05-31T00:00:00",
          "2021-06-01T00:00:00",
          "2021-06-02T00:00:00",
          "2021-06-03T00:00:00",
          "2021-06-04T00:00:00",
          "2021-06-07T00:00:00",
          "2021-06-08T00:00:00",
          "2021-06-09T00:00:00",
          "2021-06-10T00:00:00",
          "2021-06-11T00:00:00",
          "2021-06-14T00:00:00",
          "2021-06-15T00:00:00",
          "2021-06-16T00:00:00",
          "2021-06-17T00:00:00",
          "2021-06-18T00:00:00",
          "2021-06-21T00:00:00",
          "2021-06-22T00:00:00",
          "2021-06-23T00:00:00",
          "2021-06-24T00:00:00",
          "2021-06-25T00:00:00",
          "2021-06-28T00:00:00",
          "2021-06-29T00:00:00",
          "2021-06-30T00:00:00",
          "2021-07-01T00:00:00",
          "2021-07-02T00:00:00",
          "2021-07-05T00:00:00",
          "2021-07-06T00:00:00",
          "2021-07-07T00:00:00",
          "2021-07-08T00:00:00",
          "2021-07-09T00:00:00",
          "2021-07-12T00:00:00",
          "2021-07-13T00:00:00",
          "2021-07-14T00:00:00",
          "2021-07-15T00:00:00",
          "2021-07-16T00:00:00",
          "2021-07-19T00:00:00",
          "2021-07-20T00:00:00",
          "2021-07-23T00:00:00",
          "2021-07-26T00:00:00",
          "2021-07-27T00:00:00",
          "2021-07-28T00:00:00",
          "2021-07-29T00:00:00",
          "2021-08-02T00:00:00",
          "2021-08-03T00:00:00",
          "2021-08-04T00:00:00",
          "2021-08-05T00:00:00",
          "2021-08-06T00:00:00",
          "2021-08-09T00:00:00",
          "2021-08-11T00:00:00",
          "2021-08-12T00:00:00",
          "2021-08-13T00:00:00",
          "2021-08-16T00:00:00",
          "2021-08-17T00:00:00",
          "2021-08-18T00:00:00",
          "2021-08-19T00:00:00",
          "2021-08-23T00:00:00",
          "2021-08-24T00:00:00",
          "2021-08-25T00:00:00",
          "2021-08-26T00:00:00",
          "2021-08-27T00:00:00",
          "2021-08-30T00:00:00",
          "2021-08-31T00:00:00",
          "2021-09-01T00:00:00",
          "2021-09-02T00:00:00",
          "2021-09-03T00:00:00",
          "2021-09-06T00:00:00",
          "2021-09-07T00:00:00",
          "2021-09-08T00:00:00",
          "2021-09-09T00:00:00",
          "2021-09-10T00:00:00",
          "2021-09-13T00:00:00",
          "2021-09-14T00:00:00",
          "2021-09-15T00:00:00",
          "2021-09-16T00:00:00",
          "2021-09-17T00:00:00",
          "2021-09-20T00:00:00",
          "2021-09-21T00:00:00",
          "2021-09-22T00:00:00",
          "2021-09-23T00:00:00",
          "2021-09-24T00:00:00",
          "2021-09-27T00:00:00",
          "2021-09-28T00:00:00",
          "2021-09-29T00:00:00",
          "2021-09-30T00:00:00",
          "2021-10-01T00:00:00",
          "2021-10-04T00:00:00",
          "2021-10-05T00:00:00",
          "2021-10-06T00:00:00",
          "2021-10-07T00:00:00",
          "2021-10-08T00:00:00",
          "2021-10-11T00:00:00",
          "2021-10-12T00:00:00",
          "2021-10-13T00:00:00",
          "2021-10-14T00:00:00",
          "2021-10-15T00:00:00",
          "2021-10-18T00:00:00",
          "2021-10-21T00:00:00",
          "2021-10-22T00:00:00",
          "2021-10-25T00:00:00",
          "2021-10-26T00:00:00",
          "2021-10-27T00:00:00",
          "2021-10-28T00:00:00",
          "2021-10-29T00:00:00",
          "2021-11-01T00:00:00",
          "2021-11-02T00:00:00",
          "2021-11-03T00:00:00",
          "2021-11-04T00:00:00",
          "2021-11-05T00:00:00",
          "2021-11-08T00:00:00",
          "2021-11-09T00:00:00",
          "2021-11-10T00:00:00",
          "2021-11-11T00:00:00",
          "2021-11-12T00:00:00",
          "2021-11-15T00:00:00",
          "2021-11-16T00:00:00",
          "2021-11-17T00:00:00",
          "2021-11-19T00:00:00",
          "2021-11-22T00:00:00",
          "2021-11-23T00:00:00",
          "2021-11-24T00:00:00",
          "2021-11-25T00:00:00",
          "2021-11-26T00:00:00",
          "2021-11-29T00:00:00",
          "2021-11-30T00:00:00",
          "2021-12-01T00:00:00",
          "2021-12-02T00:00:00",
          "2021-12-03T00:00:00",
          "2021-12-06T00:00:00",
          "2021-12-07T00:00:00",
          "2021-12-08T00:00:00",
          "2021-12-09T00:00:00",
          "2021-12-10T00:00:00",
          "2021-12-13T00:00:00",
          "2021-12-14T00:00:00",
          "2021-12-15T00:00:00",
          "2021-12-16T00:00:00",
          "2021-12-17T00:00:00",
          "2021-12-20T00:00:00",
          "2021-12-21T00:00:00",
          "2021-12-22T00:00:00",
          "2021-12-23T00:00:00",
          "2021-12-24T00:00:00",
          "2021-12-27T00:00:00",
          "2021-12-28T00:00:00",
          "2021-12-29T00:00:00",
          "2021-12-30T00:00:00",
          "2021-12-31T00:00:00",
          "2022-01-03T00:00:00",
          "2022-01-04T00:00:00",
          "2022-01-05T00:00:00",
          "2022-01-06T00:00:00",
          "2022-01-07T00:00:00",
          "2022-01-10T00:00:00",
          "2022-01-12T00:00:00",
          "2022-01-13T00:00:00",
          "2022-01-14T00:00:00",
          "2022-01-17T00:00:00",
          "2022-01-18T00:00:00",
          "2022-01-19T00:00:00",
          "2022-01-20T00:00:00",
          "2022-01-21T00:00:00",
          "2022-01-24T00:00:00",
          "2022-01-25T00:00:00",
          "2022-01-26T00:00:00",
          "2022-01-27T00:00:00",
          "2022-01-28T00:00:00",
          "2022-01-31T00:00:00",
          "2022-02-01T00:00:00",
          "2022-02-02T00:00:00",
          "2022-02-03T00:00:00",
          "2022-02-04T00:00:00"
         ],
         "y": [
          0,
          null,
          null,
          null,
          null,
          0,
          -0.9976192607904959,
          0,
          0,
          -0.49004436618970043,
          -0.8524721977976152,
          -0.649397840501191,
          -1.651956415055885,
          -1.3726791858162735,
          -1.4687954627707744,
          -1.626357695187915,
          -1.2713099948500353,
          -0.6074404446286179,
          -0.9210611030374274,
          0,
          -0.10979046956305627,
          0,
          -0.06384902486572318,
          -0.2659112523211213,
          0,
          -0.17087131651068876,
          -0.22739121958316527,
          -0.0017649916111649657,
          0,
          -0.10657401820091228,
          -0.227960936576988,
          -0.11578681139137012,
          0,
          -0.24863529962017564,
          -0.3642068935277054,
          -0.24491132843463104,
          -0.2651891955806098,
          -0.031626454102419994,
          -0.03487241434082655,
          0,
          -0.1873961607769364,
          -0.11768309520304854,
          0,
          -0.04950370630735521,
          0,
          -0.11712973568422712,
          0,
          -0.007325539079876081,
          -0.008475649614977212,
          0,
          -0.02699467908661718,
          0,
          0,
          0,
          0,
          0,
          0,
          0,
          0,
          0,
          0,
          0,
          0,
          0,
          0,
          -0.006782831805925249,
          0,
          -0.0600884424754853,
          -0.04472603903508829,
          0,
          0,
          -0.0372066652621284,
          0,
          -0.04674018347140632,
          -0.09567013886860776,
          -0.11228055223008303,
          -0.148318962956116,
          -0.1421961991654037,
          -0.1325837524511163,
          -19.94498683963905,
          -19.918566009225547,
          -19.894254587067508,
          -19.845490462709083,
          -19.824122520507387,
          -19.811238852873775,
          -19.817286667787503,
          -19.812185409112185,
          -19.82196226696289,
          -19.865334738950416,
          -19.876987582683856,
          -20.006813684444353,
          -20.06273435962399,
          -20.123394602879664,
          -20.110505316011114,
          -20.208025803976003,
          -20.30532100928034,
          -20.341093616382764,
          -20.477658740558518,
          -20.486064758112263,
          -20.552526933473164,
          -20.59501255706615,
          -20.679240541336195,
          -20.709163714379237,
          -20.86959282187262,
          -20.83910548723584,
          -20.83269677524448,
          -20.85713865799631,
          -20.815615446908886,
          -20.820234184381295,
          -20.81523952154024,
          -20.787114140496545,
          -20.790071687157262,
          -20.786113930018168,
          -20.72404572982549,
          -20.73712007750602,
          -20.747099946361995,
          -20.766937140560422,
          -20.803703485227555,
          -20.815034796169623,
          -20.83520515848099,
          -20.83729031877187,
          -20.922336707982463,
          -20.926780063646657,
          -20.904850910779423,
          -29.291178787812825,
          -29.304267233783836,
          -29.300676986640184,
          -29.31065978126764,
          -29.302594539851626,
          -29.249113729076186,
          -31.46388261971796,
          -29.19411640654592,
          -29.18438992039361,
          -29.19625215199933,
          -29.182720025770216,
          -26.721454576585256,
          -24.19183209676612,
          -21.712833702128457,
          -21.717265196302677,
          -21.7006008978052,
          -21.686993499933475,
          -21.691338051768714,
          -21.631195730712935,
          -21.68467306879693,
          -21.6850427956703,
          -21.64865328236159,
          -21.52904222592557,
          -18.961855312896006,
          -18.98813698563408,
          -18.993329153909514,
          -18.971126138056047,
          -18.9718349832504,
          -18.932482148850625,
          -16.2918491012184,
          -16.262532984430155,
          -16.174192417496364,
          -16.163267682043685,
          -16.167812318543366,
          -16.18790992889977,
          -18.646253080958058,
          -16.342147839486756,
          -16.39332662833885,
          -16.35345965180335,
          -13.725128516843608,
          -13.662700719191227,
          -16.35001321800204,
          -16.204542825919063,
          -16.1656222557063,
          -16.122295000052716,
          -16.248937827257837,
          -16.25699444362657,
          -16.196957453119282,
          -16.1405656664352,
          -16.013047168529383,
          -10.735489038976121,
          -5.204769435075219,
          -5.218750916730199,
          -2.154981226172081,
          -1.9715518947818098,
          0,
          0,
          0,
          0,
          0,
          0,
          0,
          0,
          0,
          -0.00022894116112243227,
          0,
          0,
          0,
          0,
          0,
          0,
          0,
          -0.0025048450973654247,
          -0.003169067463732244,
          0,
          -0.0009287370628887685,
          -0.1338409196474835,
          -0.13348594024223476,
          -0.13298809216484508,
          -0.2565439804320065,
          -0.3773135219006216,
          -0.49506904751563696,
          -0.5342823666366372,
          -0.5340941633873519,
          -0.6447334357580192,
          -0.6441011599702544,
          -0.6319807276727444,
          -0.6327510203236038,
          -0.6323734815502197,
          -0.632210377731791,
          -0.6801448893357278,
          -0.6810595719848368,
          -0.6810537116213036,
          -0.6793340015057281,
          -0.6555176383652503,
          -0.6558925410617981,
          -0.6314195126997556,
          -0.6305683650353967,
          -0.6284183654359358,
          -0.6281374325973353,
          -0.6253612247188897,
          -0.6257944049450259,
          -0.6255945587166868,
          -0.6253017101148347,
          -0.625642985460784,
          -0.5498938534096386,
          -0.5491722975007531,
          -0.5491040522132306,
          -0.5369458055780167,
          -0.5369687245299024,
          -0.49923339697191604,
          -0.38864666876986087,
          -0.38553291905987724,
          -0.38659922012808295,
          -0.3840039939428661,
          -0.38478626253387277,
          -0.3866355938576195,
          -0.38654232068892513,
          -0.3865193096403715,
          -0.38640752817029744,
          -0.3859275812703328,
          -0.3851205893087829,
          -0.3849770186471147,
          -0.38501491653659126,
          -0.5010250125609483
         ]
        },
        {
         "line": {
          "color": "red",
          "dash": "dash"
         },
         "mode": "lines",
         "name": "MASI Index Drawdown",
         "type": "scatter",
         "x": [
          "2021-02-08T00:00:00",
          "2021-02-09T00:00:00",
          "2021-02-10T00:00:00",
          "2021-02-11T00:00:00",
          "2021-02-12T00:00:00",
          "2021-02-15T00:00:00",
          "2021-02-16T00:00:00",
          "2021-02-17T00:00:00",
          "2021-02-18T00:00:00",
          "2021-02-19T00:00:00",
          "2021-02-22T00:00:00",
          "2021-02-23T00:00:00",
          "2021-02-24T00:00:00",
          "2021-02-25T00:00:00",
          "2021-02-26T00:00:00",
          "2021-03-01T00:00:00",
          "2021-03-02T00:00:00",
          "2021-03-03T00:00:00",
          "2021-03-04T00:00:00",
          "2021-03-05T00:00:00",
          "2021-03-08T00:00:00",
          "2021-03-09T00:00:00",
          "2021-03-10T00:00:00",
          "2021-03-11T00:00:00",
          "2021-03-12T00:00:00",
          "2021-03-15T00:00:00",
          "2021-03-16T00:00:00",
          "2021-03-17T00:00:00",
          "2021-03-18T00:00:00",
          "2021-03-19T00:00:00",
          "2021-03-22T00:00:00",
          "2021-03-23T00:00:00",
          "2021-03-24T00:00:00",
          "2021-03-25T00:00:00",
          "2021-03-26T00:00:00",
          "2021-03-29T00:00:00",
          "2021-03-30T00:00:00",
          "2021-03-31T00:00:00",
          "2021-04-01T00:00:00",
          "2021-04-02T00:00:00",
          "2021-04-05T00:00:00",
          "2021-04-06T00:00:00",
          "2021-04-07T00:00:00",
          "2021-04-08T00:00:00",
          "2021-04-09T00:00:00",
          "2021-04-12T00:00:00",
          "2021-04-13T00:00:00",
          "2021-04-14T00:00:00",
          "2021-04-15T00:00:00",
          "2021-04-16T00:00:00",
          "2021-04-19T00:00:00",
          "2021-04-20T00:00:00",
          "2021-04-21T00:00:00",
          "2021-04-22T00:00:00",
          "2021-04-23T00:00:00",
          "2021-04-26T00:00:00",
          "2021-04-27T00:00:00",
          "2021-04-28T00:00:00",
          "2021-04-29T00:00:00",
          "2021-04-30T00:00:00",
          "2021-05-03T00:00:00",
          "2021-05-04T00:00:00",
          "2021-05-05T00:00:00",
          "2021-05-06T00:00:00",
          "2021-05-07T00:00:00",
          "2021-05-10T00:00:00",
          "2021-05-11T00:00:00",
          "2021-05-12T00:00:00",
          "2021-05-17T00:00:00",
          "2021-05-18T00:00:00",
          "2021-05-19T00:00:00",
          "2021-05-20T00:00:00",
          "2021-05-21T00:00:00",
          "2021-05-24T00:00:00",
          "2021-05-25T00:00:00",
          "2021-05-26T00:00:00",
          "2021-05-27T00:00:00",
          "2021-05-28T00:00:00",
          "2021-05-31T00:00:00",
          "2021-06-01T00:00:00",
          "2021-06-02T00:00:00",
          "2021-06-03T00:00:00",
          "2021-06-04T00:00:00",
          "2021-06-07T00:00:00",
          "2021-06-08T00:00:00",
          "2021-06-09T00:00:00",
          "2021-06-10T00:00:00",
          "2021-06-11T00:00:00",
          "2021-06-14T00:00:00",
          "2021-06-15T00:00:00",
          "2021-06-16T00:00:00",
          "2021-06-17T00:00:00",
          "2021-06-18T00:00:00",
          "2021-06-21T00:00:00",
          "2021-06-22T00:00:00",
          "2021-06-23T00:00:00",
          "2021-06-24T00:00:00",
          "2021-06-25T00:00:00",
          "2021-06-28T00:00:00",
          "2021-06-29T00:00:00",
          "2021-06-30T00:00:00",
          "2021-07-01T00:00:00",
          "2021-07-02T00:00:00",
          "2021-07-05T00:00:00",
          "2021-07-06T00:00:00",
          "2021-07-07T00:00:00",
          "2021-07-08T00:00:00",
          "2021-07-09T00:00:00",
          "2021-07-12T00:00:00",
          "2021-07-13T00:00:00",
          "2021-07-14T00:00:00",
          "2021-07-15T00:00:00",
          "2021-07-16T00:00:00",
          "2021-07-19T00:00:00",
          "2021-07-20T00:00:00",
          "2021-07-23T00:00:00",
          "2021-07-26T00:00:00",
          "2021-07-27T00:00:00",
          "2021-07-28T00:00:00",
          "2021-07-29T00:00:00",
          "2021-08-02T00:00:00",
          "2021-08-03T00:00:00",
          "2021-08-04T00:00:00",
          "2021-08-05T00:00:00",
          "2021-08-06T00:00:00",
          "2021-08-09T00:00:00",
          "2021-08-11T00:00:00",
          "2021-08-12T00:00:00",
          "2021-08-13T00:00:00",
          "2021-08-16T00:00:00",
          "2021-08-17T00:00:00",
          "2021-08-18T00:00:00",
          "2021-08-19T00:00:00",
          "2021-08-23T00:00:00",
          "2021-08-24T00:00:00",
          "2021-08-25T00:00:00",
          "2021-08-26T00:00:00",
          "2021-08-27T00:00:00",
          "2021-08-30T00:00:00",
          "2021-08-31T00:00:00",
          "2021-09-01T00:00:00",
          "2021-09-02T00:00:00",
          "2021-09-03T00:00:00",
          "2021-09-06T00:00:00",
          "2021-09-07T00:00:00",
          "2021-09-08T00:00:00",
          "2021-09-09T00:00:00",
          "2021-09-10T00:00:00",
          "2021-09-13T00:00:00",
          "2021-09-14T00:00:00",
          "2021-09-15T00:00:00",
          "2021-09-16T00:00:00",
          "2021-09-17T00:00:00",
          "2021-09-20T00:00:00",
          "2021-09-21T00:00:00",
          "2021-09-22T00:00:00",
          "2021-09-23T00:00:00",
          "2021-09-24T00:00:00",
          "2021-09-27T00:00:00",
          "2021-09-28T00:00:00",
          "2021-09-29T00:00:00",
          "2021-09-30T00:00:00",
          "2021-10-01T00:00:00",
          "2021-10-04T00:00:00",
          "2021-10-05T00:00:00",
          "2021-10-06T00:00:00",
          "2021-10-07T00:00:00",
          "2021-10-08T00:00:00",
          "2021-10-11T00:00:00",
          "2021-10-12T00:00:00",
          "2021-10-13T00:00:00",
          "2021-10-14T00:00:00",
          "2021-10-15T00:00:00",
          "2021-10-18T00:00:00",
          "2021-10-21T00:00:00",
          "2021-10-22T00:00:00",
          "2021-10-25T00:00:00",
          "2021-10-26T00:00:00",
          "2021-10-27T00:00:00",
          "2021-10-28T00:00:00",
          "2021-10-29T00:00:00",
          "2021-11-01T00:00:00",
          "2021-11-02T00:00:00",
          "2021-11-03T00:00:00",
          "2021-11-04T00:00:00",
          "2021-11-05T00:00:00",
          "2021-11-08T00:00:00",
          "2021-11-09T00:00:00",
          "2021-11-10T00:00:00",
          "2021-11-11T00:00:00",
          "2021-11-12T00:00:00",
          "2021-11-15T00:00:00",
          "2021-11-16T00:00:00",
          "2021-11-17T00:00:00",
          "2021-11-19T00:00:00",
          "2021-11-22T00:00:00",
          "2021-11-23T00:00:00",
          "2021-11-24T00:00:00",
          "2021-11-25T00:00:00",
          "2021-11-26T00:00:00",
          "2021-11-29T00:00:00",
          "2021-11-30T00:00:00",
          "2021-12-01T00:00:00",
          "2021-12-02T00:00:00",
          "2021-12-03T00:00:00",
          "2021-12-06T00:00:00",
          "2021-12-07T00:00:00",
          "2021-12-08T00:00:00",
          "2021-12-09T00:00:00",
          "2021-12-10T00:00:00",
          "2021-12-13T00:00:00",
          "2021-12-14T00:00:00",
          "2021-12-15T00:00:00",
          "2021-12-16T00:00:00",
          "2021-12-17T00:00:00",
          "2021-12-20T00:00:00",
          "2021-12-21T00:00:00",
          "2021-12-22T00:00:00",
          "2021-12-23T00:00:00",
          "2021-12-24T00:00:00",
          "2021-12-27T00:00:00",
          "2021-12-28T00:00:00",
          "2021-12-29T00:00:00",
          "2021-12-30T00:00:00",
          "2021-12-31T00:00:00",
          "2022-01-03T00:00:00",
          "2022-01-04T00:00:00",
          "2022-01-05T00:00:00",
          "2022-01-06T00:00:00",
          "2022-01-07T00:00:00",
          "2022-01-10T00:00:00",
          "2022-01-12T00:00:00",
          "2022-01-13T00:00:00",
          "2022-01-14T00:00:00",
          "2022-01-17T00:00:00",
          "2022-01-18T00:00:00",
          "2022-01-19T00:00:00",
          "2022-01-20T00:00:00",
          "2022-01-21T00:00:00",
          "2022-01-24T00:00:00",
          "2022-01-25T00:00:00",
          "2022-01-26T00:00:00",
          "2022-01-27T00:00:00",
          "2022-01-28T00:00:00",
          "2022-01-31T00:00:00",
          "2022-02-01T00:00:00",
          "2022-02-02T00:00:00",
          "2022-02-03T00:00:00",
          "2022-02-04T00:00:00"
         ],
         "y": [
          0,
          null,
          null,
          null,
          null,
          null,
          null,
          null,
          null,
          null,
          null,
          null,
          null,
          null,
          null,
          null,
          null,
          null,
          null,
          null,
          null,
          null,
          null,
          null,
          null,
          null,
          null,
          null,
          null,
          null,
          null,
          null,
          null,
          null,
          null,
          null,
          null,
          null,
          null,
          null,
          null,
          null,
          null,
          null,
          null,
          null,
          null,
          null,
          null,
          null,
          null,
          null,
          null,
          0,
          0,
          -0.2956638316274508,
          0,
          0,
          0,
          0,
          0,
          0,
          0,
          0,
          0,
          0,
          -0.07979283772743107,
          -0.04136991581723131,
          0,
          -0.019732846250172985,
          0,
          -0.3084154400467837,
          -0.12134330621357789,
          -0.22544340032107404,
          -0.220904298377712,
          -0.17376771735982496,
          -0.21340959543406396,
          -0.08188575206165807,
          -0.17826189160068215,
          -0.07675175920034641,
          0,
          0,
          -0.015857879986233787,
          -0.010647827522059767,
          -0.029559360447036682,
          -0.037255005754654055,
          -0.019087640352563256,
          0,
          0,
          -0.0744799111609865,
          -0.13147983369050442,
          -0.14368218937386007,
          -0.09066996402094375,
          -0.023014307880236597,
          -0.055765737628737974,
          -0.05948559833054242,
          -0.10362077514384928,
          -0.17204892928711019,
          -0.1121997888203533,
          -0.1785015118358593,
          -0.18176282162590962,
          -0.17069209247072248,
          -0.16229206231879245,
          -0.3304314617959653,
          -0.44545689058113674,
          -0.3754538904874094,
          -0.3480627908119397,
          -0.3843014375245973,
          -0.38833245777366054,
          -0.41241753081485094,
          -0.46026734168583006,
          -0.49416758781430664,
          -0.4641685088651511,
          -0.47663045454034236,
          -0.48602273404361557,
          -0.40479510916195505,
          -0.4440546400346393,
          -0.4160652638276498,
          -0.38190635688851277,
          -0.3038218034918975,
          -0.15306889379007282,
          -0.1389278015770869,
          -0.16232121537828578,
          -0.1137351445707319,
          -0.04316151108554986,
          -0.07948180959429615,
          0,
          -0.04737030319318519,
          0,
          -0.02776246362124096,
          0,
          -0.008092850056400713,
          -0.018753971813374612,
          0,
          -0.006932948712598003,
          -0.05776310510125803,
          -0.028198856032230404,
          0,
          -0.008472400204419108,
          -0.08382468457912133,
          -0.07324640733691865,
          -0.06521320222484793,
          -0.01592862352850178,
          -0.08640429598174773,
          -0.06481465791165397,
          -0.04043391326901684,
          0,
          -0.06871897734564125,
          -0.06582861655397339,
          -0.054918355461231305,
          -0.059837283450966165,
          -0.05420162874488113,
          0,
          -0.052979838719800436,
          -0.059629487815126996,
          -0.03484123683199228,
          0,
          0,
          -0.006913047847023979,
          0,
          0,
          -0.007006038350533025,
          -0.061353270172434596,
          -0.07741261329444894,
          -0.09284248698248034,
          -0.08006945000920652,
          -0.0669301884562487,
          -0.003169323324713311,
          -0.034640383006858504,
          -0.024600563286367914,
          -0.006399617078902627,
          0,
          0,
          -0.006452108846657537,
          -0.0033749415321309086,
          -0.0001311885570528065,
          0,
          0,
          -0.0069059858611240765,
          0,
          -0.012562715940354928,
          -0.038124163529581756,
          -0.008730504943753178,
          -0.005158825604601429,
          -0.03841910905536188,
          -0.08814090627668522,
          -0.08042515693257572,
          -0.10599551477918343,
          -0.1252311064661581,
          -0.13154260991789596,
          -0.1511398406739275,
          -0.1507513641230574,
          -0.1685653695964106,
          -0.15447393093451556,
          -0.12727833147053944,
          -0.12136661579461247,
          -0.14523543461034383,
          -0.12708476013053846,
          -0.13577231443242205,
          -0.19096767742777188,
          -0.25584118058456373,
          -0.2633723755557223,
          -0.21812128663690233,
          -0.18545713675335368,
          -0.18834085885491045,
          -0.21368120400946997,
          -0.18707613585507055,
          -0.18548653526722847,
          -0.16075801000125903,
          -0.12761670783170254,
          -0.15740695290326262,
          -0.15853556771998573,
          -0.16431624392208652,
          -0.165113045022307,
          -0.14687124048496875,
          -0.1734229004499112,
          -0.1792934261935134,
          -0.19661059144688162,
          -0.1755562401573701,
          -0.17957375249460839,
          -0.18280038611827157,
          -0.15857254262038017,
          -0.10126635565778243,
          -0.09303301106302317,
          -0.11774227523369352,
          -0.15083955966468868,
          -0.16033896113015458,
          -0.15386163085241628,
          -0.11216765540289539,
          -0.054287050290777315,
          -0.049456090144916316,
          -0.02547335875727026,
          0,
          0,
          -0.006502363923296933,
          -0.00781731098351337,
          -0.022407092221908845,
          -0.0032306967743133365,
          -0.00024034029646985785,
          -0.01481266584706802,
          -0.03735709538124589,
          -0.02982450926676016,
          -0.024256241033524792,
          0,
          0,
          -0.009357799537869905,
          0,
          0,
          0
         ]
        }
       ],
       "layout": {
        "legend": {
         "font": {
          "size": 11
         },
         "traceorder": "normal",
         "x": 0,
         "y": 1
        },
        "template": {
         "data": {
          "bar": [
           {
            "error_x": {
             "color": "#2a3f5f"
            },
            "error_y": {
             "color": "#2a3f5f"
            },
            "marker": {
             "line": {
              "color": "#E5ECF6",
              "width": 0.5
             },
             "pattern": {
              "fillmode": "overlay",
              "size": 10,
              "solidity": 0.2
             }
            },
            "type": "bar"
           }
          ],
          "barpolar": [
           {
            "marker": {
             "line": {
              "color": "#E5ECF6",
              "width": 0.5
             },
             "pattern": {
              "fillmode": "overlay",
              "size": 10,
              "solidity": 0.2
             }
            },
            "type": "barpolar"
           }
          ],
          "carpet": [
           {
            "aaxis": {
             "endlinecolor": "#2a3f5f",
             "gridcolor": "white",
             "linecolor": "white",
             "minorgridcolor": "white",
             "startlinecolor": "#2a3f5f"
            },
            "baxis": {
             "endlinecolor": "#2a3f5f",
             "gridcolor": "white",
             "linecolor": "white",
             "minorgridcolor": "white",
             "startlinecolor": "#2a3f5f"
            },
            "type": "carpet"
           }
          ],
          "choropleth": [
           {
            "colorbar": {
             "outlinewidth": 0,
             "ticks": ""
            },
            "type": "choropleth"
           }
          ],
          "contour": [
           {
            "colorbar": {
             "outlinewidth": 0,
             "ticks": ""
            },
            "colorscale": [
             [
              0,
              "#0d0887"
             ],
             [
              0.1111111111111111,
              "#46039f"
             ],
             [
              0.2222222222222222,
              "#7201a8"
             ],
             [
              0.3333333333333333,
              "#9c179e"
             ],
             [
              0.4444444444444444,
              "#bd3786"
             ],
             [
              0.5555555555555556,
              "#d8576b"
             ],
             [
              0.6666666666666666,
              "#ed7953"
             ],
             [
              0.7777777777777778,
              "#fb9f3a"
             ],
             [
              0.8888888888888888,
              "#fdca26"
             ],
             [
              1,
              "#f0f921"
             ]
            ],
            "type": "contour"
           }
          ],
          "contourcarpet": [
           {
            "colorbar": {
             "outlinewidth": 0,
             "ticks": ""
            },
            "type": "contourcarpet"
           }
          ],
          "heatmap": [
           {
            "colorbar": {
             "outlinewidth": 0,
             "ticks": ""
            },
            "colorscale": [
             [
              0,
              "#0d0887"
             ],
             [
              0.1111111111111111,
              "#46039f"
             ],
             [
              0.2222222222222222,
              "#7201a8"
             ],
             [
              0.3333333333333333,
              "#9c179e"
             ],
             [
              0.4444444444444444,
              "#bd3786"
             ],
             [
              0.5555555555555556,
              "#d8576b"
             ],
             [
              0.6666666666666666,
              "#ed7953"
             ],
             [
              0.7777777777777778,
              "#fb9f3a"
             ],
             [
              0.8888888888888888,
              "#fdca26"
             ],
             [
              1,
              "#f0f921"
             ]
            ],
            "type": "heatmap"
           }
          ],
          "heatmapgl": [
           {
            "colorbar": {
             "outlinewidth": 0,
             "ticks": ""
            },
            "colorscale": [
             [
              0,
              "#0d0887"
             ],
             [
              0.1111111111111111,
              "#46039f"
             ],
             [
              0.2222222222222222,
              "#7201a8"
             ],
             [
              0.3333333333333333,
              "#9c179e"
             ],
             [
              0.4444444444444444,
              "#bd3786"
             ],
             [
              0.5555555555555556,
              "#d8576b"
             ],
             [
              0.6666666666666666,
              "#ed7953"
             ],
             [
              0.7777777777777778,
              "#fb9f3a"
             ],
             [
              0.8888888888888888,
              "#fdca26"
             ],
             [
              1,
              "#f0f921"
             ]
            ],
            "type": "heatmapgl"
           }
          ],
          "histogram": [
           {
            "marker": {
             "pattern": {
              "fillmode": "overlay",
              "size": 10,
              "solidity": 0.2
             }
            },
            "type": "histogram"
           }
          ],
          "histogram2d": [
           {
            "colorbar": {
             "outlinewidth": 0,
             "ticks": ""
            },
            "colorscale": [
             [
              0,
              "#0d0887"
             ],
             [
              0.1111111111111111,
              "#46039f"
             ],
             [
              0.2222222222222222,
              "#7201a8"
             ],
             [
              0.3333333333333333,
              "#9c179e"
             ],
             [
              0.4444444444444444,
              "#bd3786"
             ],
             [
              0.5555555555555556,
              "#d8576b"
             ],
             [
              0.6666666666666666,
              "#ed7953"
             ],
             [
              0.7777777777777778,
              "#fb9f3a"
             ],
             [
              0.8888888888888888,
              "#fdca26"
             ],
             [
              1,
              "#f0f921"
             ]
            ],
            "type": "histogram2d"
           }
          ],
          "histogram2dcontour": [
           {
            "colorbar": {
             "outlinewidth": 0,
             "ticks": ""
            },
            "colorscale": [
             [
              0,
              "#0d0887"
             ],
             [
              0.1111111111111111,
              "#46039f"
             ],
             [
              0.2222222222222222,
              "#7201a8"
             ],
             [
              0.3333333333333333,
              "#9c179e"
             ],
             [
              0.4444444444444444,
              "#bd3786"
             ],
             [
              0.5555555555555556,
              "#d8576b"
             ],
             [
              0.6666666666666666,
              "#ed7953"
             ],
             [
              0.7777777777777778,
              "#fb9f3a"
             ],
             [
              0.8888888888888888,
              "#fdca26"
             ],
             [
              1,
              "#f0f921"
             ]
            ],
            "type": "histogram2dcontour"
           }
          ],
          "mesh3d": [
           {
            "colorbar": {
             "outlinewidth": 0,
             "ticks": ""
            },
            "type": "mesh3d"
           }
          ],
          "parcoords": [
           {
            "line": {
             "colorbar": {
              "outlinewidth": 0,
              "ticks": ""
             }
            },
            "type": "parcoords"
           }
          ],
          "pie": [
           {
            "automargin": true,
            "type": "pie"
           }
          ],
          "scatter": [
           {
            "fillpattern": {
             "fillmode": "overlay",
             "size": 10,
             "solidity": 0.2
            },
            "type": "scatter"
           }
          ],
          "scatter3d": [
           {
            "line": {
             "colorbar": {
              "outlinewidth": 0,
              "ticks": ""
             }
            },
            "marker": {
             "colorbar": {
              "outlinewidth": 0,
              "ticks": ""
             }
            },
            "type": "scatter3d"
           }
          ],
          "scattercarpet": [
           {
            "marker": {
             "colorbar": {
              "outlinewidth": 0,
              "ticks": ""
             }
            },
            "type": "scattercarpet"
           }
          ],
          "scattergeo": [
           {
            "marker": {
             "colorbar": {
              "outlinewidth": 0,
              "ticks": ""
             }
            },
            "type": "scattergeo"
           }
          ],
          "scattergl": [
           {
            "marker": {
             "colorbar": {
              "outlinewidth": 0,
              "ticks": ""
             }
            },
            "type": "scattergl"
           }
          ],
          "scattermapbox": [
           {
            "marker": {
             "colorbar": {
              "outlinewidth": 0,
              "ticks": ""
             }
            },
            "type": "scattermapbox"
           }
          ],
          "scatterpolar": [
           {
            "marker": {
             "colorbar": {
              "outlinewidth": 0,
              "ticks": ""
             }
            },
            "type": "scatterpolar"
           }
          ],
          "scatterpolargl": [
           {
            "marker": {
             "colorbar": {
              "outlinewidth": 0,
              "ticks": ""
             }
            },
            "type": "scatterpolargl"
           }
          ],
          "scatterternary": [
           {
            "marker": {
             "colorbar": {
              "outlinewidth": 0,
              "ticks": ""
             }
            },
            "type": "scatterternary"
           }
          ],
          "surface": [
           {
            "colorbar": {
             "outlinewidth": 0,
             "ticks": ""
            },
            "colorscale": [
             [
              0,
              "#0d0887"
             ],
             [
              0.1111111111111111,
              "#46039f"
             ],
             [
              0.2222222222222222,
              "#7201a8"
             ],
             [
              0.3333333333333333,
              "#9c179e"
             ],
             [
              0.4444444444444444,
              "#bd3786"
             ],
             [
              0.5555555555555556,
              "#d8576b"
             ],
             [
              0.6666666666666666,
              "#ed7953"
             ],
             [
              0.7777777777777778,
              "#fb9f3a"
             ],
             [
              0.8888888888888888,
              "#fdca26"
             ],
             [
              1,
              "#f0f921"
             ]
            ],
            "type": "surface"
           }
          ],
          "table": [
           {
            "cells": {
             "fill": {
              "color": "#EBF0F8"
             },
             "line": {
              "color": "white"
             }
            },
            "header": {
             "fill": {
              "color": "#C8D4E3"
             },
             "line": {
              "color": "white"
             }
            },
            "type": "table"
           }
          ]
         },
         "layout": {
          "annotationdefaults": {
           "arrowcolor": "#2a3f5f",
           "arrowhead": 0,
           "arrowwidth": 1
          },
          "autotypenumbers": "strict",
          "coloraxis": {
           "colorbar": {
            "outlinewidth": 0,
            "ticks": ""
           }
          },
          "colorscale": {
           "diverging": [
            [
             0,
             "#8e0152"
            ],
            [
             0.1,
             "#c51b7d"
            ],
            [
             0.2,
             "#de77ae"
            ],
            [
             0.3,
             "#f1b6da"
            ],
            [
             0.4,
             "#fde0ef"
            ],
            [
             0.5,
             "#f7f7f7"
            ],
            [
             0.6,
             "#e6f5d0"
            ],
            [
             0.7,
             "#b8e186"
            ],
            [
             0.8,
             "#7fbc41"
            ],
            [
             0.9,
             "#4d9221"
            ],
            [
             1,
             "#276419"
            ]
           ],
           "sequential": [
            [
             0,
             "#0d0887"
            ],
            [
             0.1111111111111111,
             "#46039f"
            ],
            [
             0.2222222222222222,
             "#7201a8"
            ],
            [
             0.3333333333333333,
             "#9c179e"
            ],
            [
             0.4444444444444444,
             "#bd3786"
            ],
            [
             0.5555555555555556,
             "#d8576b"
            ],
            [
             0.6666666666666666,
             "#ed7953"
            ],
            [
             0.7777777777777778,
             "#fb9f3a"
            ],
            [
             0.8888888888888888,
             "#fdca26"
            ],
            [
             1,
             "#f0f921"
            ]
           ],
           "sequentialminus": [
            [
             0,
             "#0d0887"
            ],
            [
             0.1111111111111111,
             "#46039f"
            ],
            [
             0.2222222222222222,
             "#7201a8"
            ],
            [
             0.3333333333333333,
             "#9c179e"
            ],
            [
             0.4444444444444444,
             "#bd3786"
            ],
            [
             0.5555555555555556,
             "#d8576b"
            ],
            [
             0.6666666666666666,
             "#ed7953"
            ],
            [
             0.7777777777777778,
             "#fb9f3a"
            ],
            [
             0.8888888888888888,
             "#fdca26"
            ],
            [
             1,
             "#f0f921"
            ]
           ]
          },
          "colorway": [
           "#636efa",
           "#EF553B",
           "#00cc96",
           "#ab63fa",
           "#FFA15A",
           "#19d3f3",
           "#FF6692",
           "#B6E880",
           "#FF97FF",
           "#FECB52"
          ],
          "font": {
           "color": "#2a3f5f"
          },
          "geo": {
           "bgcolor": "white",
           "lakecolor": "white",
           "landcolor": "#E5ECF6",
           "showlakes": true,
           "showland": true,
           "subunitcolor": "white"
          },
          "hoverlabel": {
           "align": "left"
          },
          "hovermode": "closest",
          "mapbox": {
           "style": "light"
          },
          "paper_bgcolor": "white",
          "plot_bgcolor": "#E5ECF6",
          "polar": {
           "angularaxis": {
            "gridcolor": "white",
            "linecolor": "white",
            "ticks": ""
           },
           "bgcolor": "#E5ECF6",
           "radialaxis": {
            "gridcolor": "white",
            "linecolor": "white",
            "ticks": ""
           }
          },
          "scene": {
           "xaxis": {
            "backgroundcolor": "#E5ECF6",
            "gridcolor": "white",
            "gridwidth": 2,
            "linecolor": "white",
            "showbackground": true,
            "ticks": "",
            "zerolinecolor": "white"
           },
           "yaxis": {
            "backgroundcolor": "#E5ECF6",
            "gridcolor": "white",
            "gridwidth": 2,
            "linecolor": "white",
            "showbackground": true,
            "ticks": "",
            "zerolinecolor": "white"
           },
           "zaxis": {
            "backgroundcolor": "#E5ECF6",
            "gridcolor": "white",
            "gridwidth": 2,
            "linecolor": "white",
            "showbackground": true,
            "ticks": "",
            "zerolinecolor": "white"
           }
          },
          "shapedefaults": {
           "line": {
            "color": "#2a3f5f"
           }
          },
          "ternary": {
           "aaxis": {
            "gridcolor": "white",
            "linecolor": "white",
            "ticks": ""
           },
           "baxis": {
            "gridcolor": "white",
            "linecolor": "white",
            "ticks": ""
           },
           "bgcolor": "#E5ECF6",
           "caxis": {
            "gridcolor": "white",
            "linecolor": "white",
            "ticks": ""
           }
          },
          "title": {
           "x": 0.05
          },
          "xaxis": {
           "automargin": true,
           "gridcolor": "white",
           "linecolor": "white",
           "ticks": "",
           "title": {
            "standoff": 15
           },
           "zerolinecolor": "white",
           "zerolinewidth": 2
          },
          "yaxis": {
           "automargin": true,
           "gridcolor": "white",
           "linecolor": "white",
           "ticks": "",
           "title": {
            "standoff": 15
           },
           "zerolinecolor": "white",
           "zerolinewidth": 2
          }
         }
        },
        "title": {
         "text": "Mean-Variance Optimized Portfolio Drawdown Comparison"
        },
        "xaxis": {
         "title": {
          "text": "Date"
         }
        },
        "yaxis": {
         "title": {
          "text": "Maximum Drawdown"
         }
        }
       }
      }
     },
     "metadata": {},
     "output_type": "display_data"
    }
   ],
   "source": [
    "# Create traces\n",
    "masi_trace = go.Scatter(x=benchmark_cumulative_returns.index, y=maximum_drawdown(benchmark_cumulative_returns), mode='lines', name='MASI Index Drawdown', line=dict(dash='dash', color='red'))\n",
    "mean_variance_trace = go.Scatter(x=mean_variance_portfolio.index, y=maximum_drawdown(mean_variance_portfolio), mode='lines', name='Mean-Variance Optimized Portfolio Drawdown', line=dict(color='purple'))\n",
    "\n",
    "# Layout\n",
    "layout = go.Layout(\n",
    "    title='Mean-Variance Optimized Portfolio Drawdown Comparison',\n",
    "    xaxis=dict(title='Date'),\n",
    "    yaxis=dict(title='Maximum Drawdown'),\n",
    "    legend=dict(x=0, y=1, traceorder='normal', font=dict(size=11))\n",
    ")\n",
    "\n",
    "# Create figure\n",
    "fig = go.Figure(data=[mean_variance_trace, masi_trace], layout=layout)\n",
    "\n",
    "# Show plot\n",
    "fig.show()"
   ]
  },
  {
   "cell_type": "markdown",
   "metadata": {},
   "source": [
    "The Mean-Variance Optimized Portfolio experiences a severe drawdown around May 2021, with the drawdown reaching nearly 30%. This indicates that the portfolio suffered significant losses during this period and remained in a deep drawdown for several months, with minimal recovery until late in the year. In contrast, the MASI Index (in red) demonstrates a much smaller drawdown, consistently staying within a relatively tight range throughout the period.\n",
    "\n",
    "The recovery of the Mean-Variance Optimized Portfolio is delayed until late 2021, where it begins to recover from the earlier drawdowns. Although it eventually improves and stabilizes by the end of the period, the prolonged drawdown highlights the higher volatility and risk associated with the mean-variance strategy during the first half of the testing period. This plot underscores the importance of risk management in mean-variance optimization, as the portfolio's steep early losses contrast with its eventual stabilization."
   ]
  },
  {
   "cell_type": "markdown",
   "metadata": {
    "slideshow": {
     "slide_type": "slide"
    }
   },
   "source": [
    "# K-Means Clustering Portfolio"
   ]
  },
  {
   "cell_type": "markdown",
   "metadata": {
    "slideshow": {
     "slide_type": "fragment"
    }
   },
   "source": [
    "Clustering methods can broadly be categorized into two types: hierarchical clustering and partitional clustering. \n",
    "\n",
    "- **Hierarchical clustering** either merges smaller clusters into larger ones or splits larger clusters into smaller subsets. This method is often used when the underlying structure of the data can be represented as a tree, and its results are typically visualized in a dendrogram.\n",
    "\n",
    "- **Partitional clustering**, on the other hand, directly divides the data set into a set of disjoint clusters. The most commonly used method in this category is **K-means clustering**, which partitions the data by minimizing the variance within each cluster.\n",
    "\n",
    "In this section, we apply K-means clustering to group assets based on their historical returns, aiming to construct a diversified portfolio from the resulting clusters. By clustering assets with similar return patterns, we can identify groups of stocks that exhibit comparable behaviors and select representative assets from each cluster to form the portfolio. This approach helps reduce risk by diversifying across different clusters, ensuring that the portfolio is not overly exposed to a single asset class or sector."
   ]
  },
  {
   "cell_type": "markdown",
   "metadata": {
    "slideshow": {
     "slide_type": "slide"
    }
   },
   "source": [
    "## Building the K-Means Clustering Portfolio"
   ]
  },
  {
   "cell_type": "markdown",
   "metadata": {},
   "source": [
    "Before applying K-means clustering, it is important to standardize the asset returns data. Standardization ensures that all assets are on the same scale, which prevents the clustering algorithm from being biased towards assets with larger numerical values."
   ]
  },
  {
   "cell_type": "code",
   "execution_count": 30,
   "metadata": {},
   "outputs": [],
   "source": [
    "# Step 1: Standardize the data (returns), with assets as rows\n",
    "train_returns = train.pct_change().dropna().T  # Transpose to have assets as rows and dates as columns\n",
    "\n",
    "# Apply standardization to the returns data (z-score normalization)\n",
    "scaler = StandardScaler()\n",
    "scaled_returns = scaler.fit_transform(train_returns)"
   ]
  },
  {
   "cell_type": "markdown",
   "metadata": {},
   "source": [
    "To construct an optimal portfolio from the clustered assets, we define an objective function that balances the number of clusters, the number of assets selected per cluster, and the portfolio's risk-return characteristics. The objective function aims to maximize the Sharpe Ratio by selecting the most appropriate assets from each cluster.\n",
    "\n",
    "The process begins with KMeans clustering of the returns data. After clustering, we select a specified number of assets from each cluster, ensuring that the portfolio remains diversified. Finally, we optimize the weights of the selected assets to maximize the portfolio’s Sharpe Ratio, subject to constraints such as ensuring that all weights sum to 1 and that no individual asset weight exceeds predefined limits."
   ]
  },
  {
   "cell_type": "code",
   "execution_count": 31,
   "metadata": {},
   "outputs": [],
   "source": [
    "def objective_function(n_clusters, n_assets_per_cluster, returns, metric, risk_free_rate=0.02):\n",
    "    \"\"\"\n",
    "    Objective function to maximize returns while balancing the number of clusters and assets per cluster.\n",
    "\n",
    "    Parameters:\n",
    "    - n_clusters: Number of clusters for KMeans.\n",
    "    - n_assets_per_cluster: Number of assets to select from each cluster.\n",
    "    - returns: Historical returns data of the assets.\n",
    "    - risk_free_rate: Annual risk-free rate, default to 2%.\n",
    "    - metric: The metric to use for clustering (e.g., 'euclidean', 'dtw', 'softdtw', 'correlation').\n",
    "\n",
    "    Returns:\n",
    "    - sharpe_ratio: Negative Sharpe ratio (to be minimized).\n",
    "    \"\"\"\n",
    "    \n",
    "    # Step 1: Perform KMeans clustering on the returns data\n",
    "    kmeans = TimeSeriesKMeans(n_clusters=n_clusters, random_state=42, metric=metric)\n",
    "    clusters = kmeans.fit_predict(returns)\n",
    "\n",
    "    # Step 2: Select a fixed number of assets from each cluster\n",
    "    selected_assets = []\n",
    "    for cluster in range(n_clusters):\n",
    "        # Get indices of assets in the current cluster\n",
    "        cluster_assets = np.where(clusters == cluster)[0]\n",
    "        \n",
    "        # Select up to n_assets_per_cluster assets from the current cluster\n",
    "        n_assets_in_cluster = min(n_assets_per_cluster, len(cluster_assets))\n",
    "        selected_assets.extend(np.random.choice(cluster_assets, n_assets_in_cluster, replace=False))\n",
    "\n",
    "    # Step 3: Subset the returns data to only the selected assets\n",
    "    returns = returns[:, selected_assets].T  # Transpose to align with the optimization\n",
    "\n",
    "    # Initialize weights equally across the selected assets\n",
    "    initial_weights = np.full(len(selected_assets), 1 / len(selected_assets))\n",
    "    \n",
    "    # Define bounds and constraints for the optimization (weights must sum to 1)\n",
    "    bounds = [(0.001, 1)] * len(selected_assets)\n",
    "    constraints = {'type': 'eq', 'fun': lambda w: np.sum(w) - 1}\n",
    "    \n",
    "    # Optimize the Sharpe Ratio using the selected assets' returns\n",
    "    result = minimize(sharpe_ratio, initial_weights, args=(returns.T, risk_free_rate),\n",
    "                      bounds=bounds, method='SLSQP', constraints=constraints)\n",
    "    \n",
    "    # Return the negative Sharpe Ratio (for minimization purposes)\n",
    "    return result.fun"
   ]
  },
  {
   "cell_type": "markdown",
   "metadata": {},
   "source": [
    "In this section, we define a parameter grid and perform a grid search to identify the optimal combination of clusters and assets per cluster for the KMeans-based portfolio. By varying the number of clusters and the number of assets selected from each cluster, we aim to maximize the Sharpe Ratio.\n",
    "\n",
    "The parameter grid includes a range of values for both the number of clusters and the number of assets per cluster. We evaluate each parameter combination by calculating the portfolio’s Sharpe Ratio. The goal is to identify the set of parameters that produces the highest risk-adjusted return. The best combination of parameters is determined based on the lowest negative Sharpe Ratio, which we will use to build the final portfolio."
   ]
  },
  {
   "cell_type": "code",
   "execution_count": 32,
   "metadata": {},
   "outputs": [
    {
     "name": "stdout",
     "output_type": "stream",
     "text": [
      "Best Sharpe Ratio: -1.0381695126974114e-05\n",
      "Optimal Parameters: {'n_assets_per_cluster': 3, 'n_clusters': 3}\n"
     ]
    }
   ],
   "source": [
    "# Define the parameter grid for the number of clusters and assets per cluster\n",
    "param_grid = {\n",
    "    'n_clusters': range(3, 10),  # Define a reasonable range for clusters\n",
    "    'n_assets_per_cluster': range(3, 15)  # Define a range for assets per cluster\n",
    "}\n",
    "\n",
    "# Create a grid of all possible parameter combinations\n",
    "grid = ParameterGrid(param_grid)\n",
    "\n",
    "# Initialize variables to track the best Sharpe Ratio and corresponding parameters\n",
    "best_sharpe_ratio = float('inf')\n",
    "best_params = None\n",
    "\n",
    "# Iterate through each combination of parameters in the grid\n",
    "for params in grid:\n",
    "    n_clusters = params['n_clusters']\n",
    "    n_assets_per_cluster = params['n_assets_per_cluster']\n",
    "    \n",
    "    # Compute the negative Sharpe Ratio for the current parameter combination\n",
    "    sharpe_ratio_value = objective_function(n_clusters, n_assets_per_cluster, scaled_returns, \"euclidean\")\n",
    "    \n",
    "    # Update the best Sharpe Ratio and parameters if a better combination is found\n",
    "    if sharpe_ratio_value < best_sharpe_ratio:\n",
    "        best_sharpe_ratio = sharpe_ratio_value\n",
    "        best_params = params\n",
    "\n",
    "# Print the best (negative) Sharpe Ratio and the corresponding optimal parameters\n",
    "print(f\"Best Sharpe Ratio: {-best_sharpe_ratio}\")\n",
    "print(f\"Optimal Parameters: {best_params}\")"
   ]
  },
  {
   "cell_type": "markdown",
   "metadata": {},
   "source": [
    "Once the data has been standardized and hyperparameters have been defined, we proceed to apply KMeans clustering to group the assets based on their historical returns. Clustering helps us identify patterns in the data and group similar assets together, allowing for more informed asset selection in the portfolio construction process."
   ]
  },
  {
   "cell_type": "code",
   "execution_count": 33,
   "metadata": {},
   "outputs": [],
   "source": [
    "# Step 2: Apply KMeans Clustering to the scaled returns data\n",
    "n_clusters = 3  # Set the number of clusters for KMeans\n",
    "kmeans = TimeSeriesKMeans(n_clusters=n_clusters, metric=\"euclidean\", random_state=42)\n",
    "\n",
    "# Fit the KMeans model and predict cluster assignments for the assets\n",
    "clusters = kmeans.fit_predict(scaled_returns)  # Transposed to cluster assets instead of time periods"
   ]
  },
  {
   "cell_type": "code",
   "execution_count": 34,
   "metadata": {},
   "outputs": [
    {
     "name": "stdout",
     "output_type": "stream",
     "text": [
      "         Instrument\n",
      "Cluster            \n",
      "0                 1\n",
      "1                67\n",
      "2                 1\n"
     ]
    }
   ],
   "source": [
    "# Create a DataFrame to associate each asset with its assigned cluster\n",
    "cluster_df = pd.DataFrame({\n",
    "    'Instrument': train_returns.index,  # Asset names\n",
    "    'Cluster': clusters  # Cluster assignments\n",
    "})\n",
    "\n",
    "# Print the number of assets in each cluster\n",
    "print(cluster_df.groupby('Cluster').count())"
   ]
  },
  {
   "cell_type": "markdown",
   "metadata": {},
   "source": [
    "After clustering the assets, the next step is to select a specific number of assets from each cluster to include in the portfolio. By sampling assets from each cluster, we ensure that the portfolio remains diversified across different groups of assets with similar return patterns. \n",
    "\n",
    "In this step, we define how many assets to select from each cluster. If a cluster contains fewer assets than the specified number, we select all available assets. Otherwise, we randomly sample the required number of assets. This method allows us to build a portfolio that captures the diversity within each cluster while adhering to the desired portfolio size."
   ]
  },
  {
   "cell_type": "code",
   "execution_count": 35,
   "metadata": {},
   "outputs": [
    {
     "name": "stdout",
     "output_type": "stream",
     "text": [
      "Selected Assets: ['Delta Holding', 'M2M Group', 'CIH', 'Agma', 'Auto Nejma', 'Alliances']\n"
     ]
    }
   ],
   "source": [
    "# Step 3: Select Assets from Each Cluster\n",
    "n_assets_per_cluster = 4  # Number of assets to select from each cluster\n",
    "selected_assets = []\n",
    "\n",
    "for cluster in range(n_clusters):\n",
    "    # Get the assets belonging to the current cluster\n",
    "    cluster_assets = cluster_df[cluster_df['Cluster'] == cluster]['Instrument']\n",
    "    \n",
    "    # Get the number of assets in the current cluster\n",
    "    n_assets_in_cluster = len(cluster_assets)\n",
    "    \n",
    "    # If the cluster has fewer assets than required, select all assets from the cluster\n",
    "    if n_assets_per_cluster > n_assets_in_cluster:\n",
    "        selected_assets.extend(cluster_assets.values)\n",
    "    else:\n",
    "        # Randomly select the specified number of assets from the cluster\n",
    "        selected_assets.extend(cluster_assets.sample(n=n_assets_per_cluster, random_state=42).values)\n",
    "\n",
    "print(\"Selected Assets:\", selected_assets)"
   ]
  },
  {
   "cell_type": "markdown",
   "metadata": {},
   "source": [
    "With the assets selected from each cluster, we now proceed to build and optimize the portfolio. We begin by calculating the daily returns for the selected assets and assign equal initial weights to each asset in the portfolio.\n",
    "\n",
    "The next step is to optimize the portfolio to maximize the Sharpe Ratio, which measures the risk-adjusted returns of the portfolio. By applying constraints to ensure the portfolio remains fully invested (weights sum to 1) and setting bounds on the weights, we aim to find the optimal asset allocation that delivers the highest possible returns for the level of risk taken. This optimization process allows us to adjust the asset weights in a way that enhances the portfolio’s overall performance."
   ]
  },
  {
   "cell_type": "code",
   "execution_count": 36,
   "metadata": {},
   "outputs": [
    {
     "name": "stdout",
     "output_type": "stream",
     "text": [
      "Optimized Weights: [0.04914818 0.3118435  0.02120566 0.61580265 0.001      0.001     ]\n",
      "Optimized Sharpe Ratio: 0.003559630332449057\n"
     ]
    }
   ],
   "source": [
    "# Step 4: Create the Portfolio with Selected Assets\n",
    "# Calculate daily returns for the selected assets and drop missing values\n",
    "selected_returns = stocks[selected_assets].pct_change().dropna()\n",
    "\n",
    "# Define initial equal weights for the selected assets\n",
    "initial_weights = np.array([1 / len(selected_assets)] * len(selected_assets))\n",
    "\n",
    "# Define bounds for the weights (each weight between 0.001 and 1) and a constraint that weights must sum to 1\n",
    "bounds = [(0.001, 1)] * len(selected_assets)\n",
    "constraints = ({'type': 'eq', 'fun': lambda x: np.sum(x) - 1})\n",
    "\n",
    "# Optimize the portfolio for maximum Sharpe Ratio using the selected assets' returns\n",
    "result = minimize(sharpe_ratio, initial_weights, args=(selected_returns, 0.02),\n",
    "                  bounds=bounds, method='SLSQP', constraints=constraints)\n",
    "\n",
    "# Extract the optimized portfolio weights\n",
    "optimized_weights = result.x\n",
    "\n",
    "# Print the optimized weights and the Sharpe Ratio of the optimized portfolio\n",
    "print(\"Optimized Weights:\", optimized_weights)\n",
    "optimized_sharpe_ratio = -result.fun  # Convert back to positive since it was negated for optimization\n",
    "print(\"Optimized Sharpe Ratio:\", optimized_sharpe_ratio)"
   ]
  },
  {
   "cell_type": "code",
   "execution_count": 37,
   "metadata": {},
   "outputs": [
    {
     "name": "stdout",
     "output_type": "stream",
     "text": [
      "Portfolio Composition:\n",
      "            Asset    Weight\n",
      "0  Delta Holding  0.049148\n",
      "1      M2M Group  0.311844\n",
      "2            CIH  0.021206\n",
      "3           Agma  0.615803\n",
      "4     Auto Nejma  0.001000\n",
      "5      Alliances  0.001000\n"
     ]
    }
   ],
   "source": [
    "# Show the selected assets and their corresponding optimized weights\n",
    "portfolio = pd.DataFrame({\n",
    "    'Asset': selected_assets,  # List of selected assets\n",
    "    'Weight': optimized_weights  # Corresponding optimized weights\n",
    "})\n",
    "\n",
    "# Print the portfolio composition (assets and their weights)\n",
    "print(\"Portfolio Composition:\\n\", portfolio)"
   ]
  },
  {
   "cell_type": "markdown",
   "metadata": {
    "slideshow": {
     "slide_type": "slide"
    }
   },
   "source": [
    "## Backtesting the K-Means Clustering Portfolio"
   ]
  },
  {
   "cell_type": "code",
   "execution_count": 38,
   "metadata": {},
   "outputs": [
    {
     "name": "stdout",
     "output_type": "stream",
     "text": [
      "The cumulative return for the KMeans Portfolio (Euclidean) over the entire testing period : 11.14%\n"
     ]
    }
   ],
   "source": [
    "# Calculate the cumulative returns for the KMeans-optimized portfolio over the testing period\n",
    "kmeans_portfolio_returns = cumulative_returns(optimized_weights, test[selected_assets])\n",
    "\n",
    "print(f\"The cumulative return for the KMeans Portfolio (Euclidean) over the entire testing period : {kmeans_portfolio_returns[-1] * 100:.2f}%\")"
   ]
  },
  {
   "cell_type": "code",
   "execution_count": 39,
   "metadata": {
    "slideshow": {
     "slide_type": "subslide"
    },
    "tags": [
     "to_remove"
    ]
   },
   "outputs": [
    {
     "data": {
      "application/vnd.plotly.v1+json": {
       "config": {
        "plotlyServerURL": "https://plot.ly"
       },
       "data": [
        {
         "line": {
          "color": "green"
         },
         "mode": "lines",
         "name": "KMeans (Euclidean Metric) Portfolio",
         "type": "scatter",
         "x": [
          "2021-02-08T00:00:00",
          "2021-02-09T00:00:00",
          "2021-02-10T00:00:00",
          "2021-02-11T00:00:00",
          "2021-02-12T00:00:00",
          "2021-02-15T00:00:00",
          "2021-02-16T00:00:00",
          "2021-02-17T00:00:00",
          "2021-02-18T00:00:00",
          "2021-02-19T00:00:00",
          "2021-02-22T00:00:00",
          "2021-02-23T00:00:00",
          "2021-02-24T00:00:00",
          "2021-02-25T00:00:00",
          "2021-02-26T00:00:00",
          "2021-03-01T00:00:00",
          "2021-03-02T00:00:00",
          "2021-03-03T00:00:00",
          "2021-03-04T00:00:00",
          "2021-03-05T00:00:00",
          "2021-03-08T00:00:00",
          "2021-03-09T00:00:00",
          "2021-03-10T00:00:00",
          "2021-03-11T00:00:00",
          "2021-03-12T00:00:00",
          "2021-03-15T00:00:00",
          "2021-03-16T00:00:00",
          "2021-03-17T00:00:00",
          "2021-03-18T00:00:00",
          "2021-03-19T00:00:00",
          "2021-03-22T00:00:00",
          "2021-03-23T00:00:00",
          "2021-03-24T00:00:00",
          "2021-03-25T00:00:00",
          "2021-03-26T00:00:00",
          "2021-03-29T00:00:00",
          "2021-03-30T00:00:00",
          "2021-03-31T00:00:00",
          "2021-04-01T00:00:00",
          "2021-04-02T00:00:00",
          "2021-04-05T00:00:00",
          "2021-04-06T00:00:00",
          "2021-04-07T00:00:00",
          "2021-04-08T00:00:00",
          "2021-04-09T00:00:00",
          "2021-04-12T00:00:00",
          "2021-04-13T00:00:00",
          "2021-04-14T00:00:00",
          "2021-04-15T00:00:00",
          "2021-04-16T00:00:00",
          "2021-04-19T00:00:00",
          "2021-04-20T00:00:00",
          "2021-04-21T00:00:00",
          "2021-04-22T00:00:00",
          "2021-04-23T00:00:00",
          "2021-04-26T00:00:00",
          "2021-04-27T00:00:00",
          "2021-04-28T00:00:00",
          "2021-04-29T00:00:00",
          "2021-04-30T00:00:00",
          "2021-05-03T00:00:00",
          "2021-05-04T00:00:00",
          "2021-05-05T00:00:00",
          "2021-05-06T00:00:00",
          "2021-05-07T00:00:00",
          "2021-05-10T00:00:00",
          "2021-05-11T00:00:00",
          "2021-05-12T00:00:00",
          "2021-05-17T00:00:00",
          "2021-05-18T00:00:00",
          "2021-05-19T00:00:00",
          "2021-05-20T00:00:00",
          "2021-05-21T00:00:00",
          "2021-05-24T00:00:00",
          "2021-05-25T00:00:00",
          "2021-05-26T00:00:00",
          "2021-05-27T00:00:00",
          "2021-05-28T00:00:00",
          "2021-05-31T00:00:00",
          "2021-06-01T00:00:00",
          "2021-06-02T00:00:00",
          "2021-06-03T00:00:00",
          "2021-06-04T00:00:00",
          "2021-06-07T00:00:00",
          "2021-06-08T00:00:00",
          "2021-06-09T00:00:00",
          "2021-06-10T00:00:00",
          "2021-06-11T00:00:00",
          "2021-06-14T00:00:00",
          "2021-06-15T00:00:00",
          "2021-06-16T00:00:00",
          "2021-06-17T00:00:00",
          "2021-06-18T00:00:00",
          "2021-06-21T00:00:00",
          "2021-06-22T00:00:00",
          "2021-06-23T00:00:00",
          "2021-06-24T00:00:00",
          "2021-06-25T00:00:00",
          "2021-06-28T00:00:00",
          "2021-06-29T00:00:00",
          "2021-06-30T00:00:00",
          "2021-07-01T00:00:00",
          "2021-07-02T00:00:00",
          "2021-07-05T00:00:00",
          "2021-07-06T00:00:00",
          "2021-07-07T00:00:00",
          "2021-07-08T00:00:00",
          "2021-07-09T00:00:00",
          "2021-07-12T00:00:00",
          "2021-07-13T00:00:00",
          "2021-07-14T00:00:00",
          "2021-07-15T00:00:00",
          "2021-07-16T00:00:00",
          "2021-07-19T00:00:00",
          "2021-07-20T00:00:00",
          "2021-07-23T00:00:00",
          "2021-07-26T00:00:00",
          "2021-07-27T00:00:00",
          "2021-07-28T00:00:00",
          "2021-07-29T00:00:00",
          "2021-08-02T00:00:00",
          "2021-08-03T00:00:00",
          "2021-08-04T00:00:00",
          "2021-08-05T00:00:00",
          "2021-08-06T00:00:00",
          "2021-08-09T00:00:00",
          "2021-08-11T00:00:00",
          "2021-08-12T00:00:00",
          "2021-08-13T00:00:00",
          "2021-08-16T00:00:00",
          "2021-08-17T00:00:00",
          "2021-08-18T00:00:00",
          "2021-08-19T00:00:00",
          "2021-08-23T00:00:00",
          "2021-08-24T00:00:00",
          "2021-08-25T00:00:00",
          "2021-08-26T00:00:00",
          "2021-08-27T00:00:00",
          "2021-08-30T00:00:00",
          "2021-08-31T00:00:00",
          "2021-09-01T00:00:00",
          "2021-09-02T00:00:00",
          "2021-09-03T00:00:00",
          "2021-09-06T00:00:00",
          "2021-09-07T00:00:00",
          "2021-09-08T00:00:00",
          "2021-09-09T00:00:00",
          "2021-09-10T00:00:00",
          "2021-09-13T00:00:00",
          "2021-09-14T00:00:00",
          "2021-09-15T00:00:00",
          "2021-09-16T00:00:00",
          "2021-09-17T00:00:00",
          "2021-09-20T00:00:00",
          "2021-09-21T00:00:00",
          "2021-09-22T00:00:00",
          "2021-09-23T00:00:00",
          "2021-09-24T00:00:00",
          "2021-09-27T00:00:00",
          "2021-09-28T00:00:00",
          "2021-09-29T00:00:00",
          "2021-09-30T00:00:00",
          "2021-10-01T00:00:00",
          "2021-10-04T00:00:00",
          "2021-10-05T00:00:00",
          "2021-10-06T00:00:00",
          "2021-10-07T00:00:00",
          "2021-10-08T00:00:00",
          "2021-10-11T00:00:00",
          "2021-10-12T00:00:00",
          "2021-10-13T00:00:00",
          "2021-10-14T00:00:00",
          "2021-10-15T00:00:00",
          "2021-10-18T00:00:00",
          "2021-10-21T00:00:00",
          "2021-10-22T00:00:00",
          "2021-10-25T00:00:00",
          "2021-10-26T00:00:00",
          "2021-10-27T00:00:00",
          "2021-10-28T00:00:00",
          "2021-10-29T00:00:00",
          "2021-11-01T00:00:00",
          "2021-11-02T00:00:00",
          "2021-11-03T00:00:00",
          "2021-11-04T00:00:00",
          "2021-11-05T00:00:00",
          "2021-11-08T00:00:00",
          "2021-11-09T00:00:00",
          "2021-11-10T00:00:00",
          "2021-11-11T00:00:00",
          "2021-11-12T00:00:00",
          "2021-11-15T00:00:00",
          "2021-11-16T00:00:00",
          "2021-11-17T00:00:00",
          "2021-11-19T00:00:00",
          "2021-11-22T00:00:00",
          "2021-11-23T00:00:00",
          "2021-11-24T00:00:00",
          "2021-11-25T00:00:00",
          "2021-11-26T00:00:00",
          "2021-11-29T00:00:00",
          "2021-11-30T00:00:00",
          "2021-12-01T00:00:00",
          "2021-12-02T00:00:00",
          "2021-12-03T00:00:00",
          "2021-12-06T00:00:00",
          "2021-12-07T00:00:00",
          "2021-12-08T00:00:00",
          "2021-12-09T00:00:00",
          "2021-12-10T00:00:00",
          "2021-12-13T00:00:00",
          "2021-12-14T00:00:00",
          "2021-12-15T00:00:00",
          "2021-12-16T00:00:00",
          "2021-12-17T00:00:00",
          "2021-12-20T00:00:00",
          "2021-12-21T00:00:00",
          "2021-12-22T00:00:00",
          "2021-12-23T00:00:00",
          "2021-12-24T00:00:00",
          "2021-12-27T00:00:00",
          "2021-12-28T00:00:00",
          "2021-12-29T00:00:00",
          "2021-12-30T00:00:00",
          "2021-12-31T00:00:00",
          "2022-01-03T00:00:00",
          "2022-01-04T00:00:00",
          "2022-01-05T00:00:00",
          "2022-01-06T00:00:00",
          "2022-01-07T00:00:00",
          "2022-01-10T00:00:00",
          "2022-01-12T00:00:00",
          "2022-01-13T00:00:00",
          "2022-01-14T00:00:00",
          "2022-01-17T00:00:00",
          "2022-01-18T00:00:00",
          "2022-01-19T00:00:00",
          "2022-01-20T00:00:00",
          "2022-01-21T00:00:00",
          "2022-01-24T00:00:00",
          "2022-01-25T00:00:00",
          "2022-01-26T00:00:00",
          "2022-01-27T00:00:00",
          "2022-01-28T00:00:00",
          "2022-01-31T00:00:00",
          "2022-02-01T00:00:00",
          "2022-02-02T00:00:00",
          "2022-02-03T00:00:00",
          "2022-02-04T00:00:00"
         ],
         "y": [
          0,
          0.001301613181158956,
          0.007570740346183991,
          0.020066755206908482,
          0.020077536400256113,
          0.0005231588001848309,
          0.010716791267860737,
          0.010165129059646727,
          0.002769729146663291,
          0.00751722147106082,
          -0.005802884629947602,
          0.007372045491804036,
          0.00646491199345034,
          -0.005059578383199814,
          -0.011576081666197613,
          -0.017991731008706324,
          -0.01359322758184156,
          -0.01357394654294719,
          -0.01745215182120141,
          -0.005219479749870137,
          -0.005219754593398629,
          0.006796462102518053,
          0.00035936925024238064,
          -0.00558863537730403,
          0.00725889497727672,
          0.020032520334739568,
          0.014212667058178141,
          0.02677503427982364,
          0.03989102394029942,
          0.03986916436922572,
          0.026461992298797865,
          0.013655984014872669,
          0.0019416934014400145,
          0.001935470161108288,
          -0.00010120037566696549,
          -0.00022129992699726486,
          0.006387258964352993,
          0.007864577151410979,
          -0.0028207854214880035,
          -0.002461453754538989,
          -0.0027774461029507203,
          -0.014566990924366197,
          -0.016207521862166896,
          -0.017827858033008348,
          -0.015536089364877492,
          -0.015057653252034786,
          0.006377538208794498,
          0.006393975708585353,
          0.011955012375225227,
          0.01348561619150157,
          0.013456734477050425,
          0.01304718963154805,
          0.013133882476130454,
          0.025466092985880096,
          0.040280283674819284,
          0.035776137923768214,
          0.047346230779438336,
          0.06095394740430771,
          0.06204410531912785,
          0.05070244092735088,
          0.07202868153580622,
          0.07327964705011847,
          0.07465729522842923,
          0.07452443579190593,
          0.07472562750241019,
          0.0756057285422016,
          0.06331954705498455,
          0.06541721585287208,
          0.0664222585958334,
          0.06617909522869447,
          0.06656453155516551,
          0.06580172475209345,
          0.06999507857403708,
          0.07046851269799936,
          0.06441441929355052,
          0.06284999724867402,
          0.06082421069621824,
          0.060758560605050915,
          0.04829310564469291,
          0.059615750549626645,
          0.08546721440132132,
          0.08077989960549803,
          0.07458995776493116,
          0.08080089179865135,
          0.07449115875512047,
          0.08708577867650913,
          0.07369789939187465,
          0.05737779041605773,
          0.04957773719455205,
          0.062049622254563896,
          0.06200734320909196,
          0.07144601933177808,
          0.08384535114354885,
          0.08268476671745018,
          0.07605420324813705,
          0.06262183862473814,
          0.06032424303072226,
          0.046653586375068556,
          0.048810473177742564,
          0.048771738645567275,
          0.04775802590649181,
          0.04670035205210654,
          0.04490727229898339,
          0.048519906944718416,
          0.048527588232603724,
          0.05262372810724081,
          0.04046272408799645,
          0.03992408113398849,
          0.052653945194049534,
          0.05766353547792846,
          0.04498559302292149,
          0.03129534469201789,
          0.029700860691139752,
          0.03062251081068945,
          0.030605346047788196,
          0.030968623033792442,
          0.02832183706556135,
          0.030347500408679062,
          0.03036628278498843,
          0.03022024405790158,
          0.027412524489552004,
          -0.02376721582186192,
          -0.036663681243432444,
          -0.04707265389335347,
          -0.058978679594915984,
          -0.07091209762206041,
          -0.08234666486504094,
          -0.0926936715546407,
          -0.0824704367678849,
          -0.06947051098598644,
          -0.04654576111393738,
          -0.034702716254406796,
          -0.022547126575782728,
          -0.022357987490190023,
          -0.010449596053828336,
          -0.015820697935823302,
          -0.00999136210895657,
          -0.008481795678822346,
          -0.009070840932840163,
          -0.021468866601727643,
          -0.010302167922940253,
          -0.010574348154989477,
          -0.011570480897851398,
          -0.01067650616883975,
          -0.010741729445368886,
          -0.01103235096609323,
          0.0008309887474882149,
          -0.0001448361859376357,
          -0.011205277686258563,
          -0.010847833480715607,
          -0.00009420808989601959,
          -0.004067187773394543,
          -0.0016899837111578053,
          -0.0020844937153610132,
          -0.0026489641911031647,
          -0.0014337331536077302,
          -0.0017638054630294553,
          -0.0021479841429665747,
          -0.0019129170642102622,
          -0.0021717439507968894,
          -0.0018412438390734698,
          -0.008256828082518597,
          -0.001368109610531909,
          -0.0002611232646346773,
          -0.01350857064680333,
          -0.013484651310162077,
          -0.01433842699168053,
          -0.01626208932084483,
          -0.003476907091793602,
          -0.0015041145269337752,
          0.018528179183378235,
          0.029277006386009274,
          0.04852766811300091,
          0.07584976654734343,
          0.08689616435404401,
          0.08800192183496325,
          0.10259125298375515,
          0.10244280237090608,
          0.08305274882287872,
          0.10203684122985557,
          0.1000687362861481,
          0.07306469276741856,
          0.047486135967017784,
          0.031214451774810748,
          0.049015775219601876,
          0.04912361611794669,
          0.049107544329011876,
          0.04893989255357489,
          0.04938765195150441,
          0.04948625283562125,
          0.04823131637598821,
          0.03311904747899774,
          0.03261251379352381,
          0.03285216597370866,
          0.03150825235111321,
          0.03368714101354775,
          0.011602430813926867,
          0.011778715723843591,
          0.011050366383191124,
          0.010584268801817842,
          0.008235775191442807,
          0.01075886189309383,
          0.010948986307460551,
          0.01161171788434845,
          0.011677250432845288,
          0.011429753860493719,
          -0.006372386688241249,
          -0.012237447914871025,
          -0.012151397812954046,
          -0.025366008365130255,
          -0.033956208227739926,
          -0.04388243489510535,
          -0.04380194397492132,
          -0.04382116403634895,
          -0.007446571304527083,
          -0.007798831314246857,
          -0.007675000831601553,
          -0.010733258435348003,
          -0.04415373745419604,
          -0.04297989003502978,
          -0.04297685151910946,
          -0.04417460861595446,
          -0.02035377439725916,
          -0.012393056098419564,
          0.011789944233902006,
          0.010327524900755947,
          0.010346624243007474,
          0.004723388028236686,
          -0.02038195208107818,
          -0.01876256993884562,
          -0.021638430635757766,
          -0.00922950118703203,
          -0.004440243227268437,
          0.014863513053992472,
          0.05231591388130119,
          0.05753916136380721,
          0.07387943062056568,
          0.0865313550919804,
          0.12622311422788113,
          0.12697516670196363,
          0.10465942314010523,
          0.1046010697156361,
          0.1044462670863755,
          0.10312235366729383,
          0.10416850003728251,
          0.10582173418344909,
          0.10429709561029998,
          0.10431040380606738,
          0.11144226958052528
         ]
        },
        {
         "line": {
          "dash": "dash"
         },
         "mode": "lines",
         "name": "MASI Index",
         "type": "scatter",
         "x": [
          "2021-02-08T00:00:00",
          "2021-02-09T00:00:00",
          "2021-02-10T00:00:00",
          "2021-02-11T00:00:00",
          "2021-02-12T00:00:00",
          "2021-02-15T00:00:00",
          "2021-02-16T00:00:00",
          "2021-02-17T00:00:00",
          "2021-02-18T00:00:00",
          "2021-02-19T00:00:00",
          "2021-02-22T00:00:00",
          "2021-02-23T00:00:00",
          "2021-02-24T00:00:00",
          "2021-02-25T00:00:00",
          "2021-02-26T00:00:00",
          "2021-03-01T00:00:00",
          "2021-03-02T00:00:00",
          "2021-03-03T00:00:00",
          "2021-03-04T00:00:00",
          "2021-03-05T00:00:00",
          "2021-03-08T00:00:00",
          "2021-03-09T00:00:00",
          "2021-03-10T00:00:00",
          "2021-03-11T00:00:00",
          "2021-03-12T00:00:00",
          "2021-03-15T00:00:00",
          "2021-03-16T00:00:00",
          "2021-03-17T00:00:00",
          "2021-03-18T00:00:00",
          "2021-03-19T00:00:00",
          "2021-03-22T00:00:00",
          "2021-03-23T00:00:00",
          "2021-03-24T00:00:00",
          "2021-03-25T00:00:00",
          "2021-03-26T00:00:00",
          "2021-03-29T00:00:00",
          "2021-03-30T00:00:00",
          "2021-03-31T00:00:00",
          "2021-04-01T00:00:00",
          "2021-04-02T00:00:00",
          "2021-04-05T00:00:00",
          "2021-04-06T00:00:00",
          "2021-04-07T00:00:00",
          "2021-04-08T00:00:00",
          "2021-04-09T00:00:00",
          "2021-04-12T00:00:00",
          "2021-04-13T00:00:00",
          "2021-04-14T00:00:00",
          "2021-04-15T00:00:00",
          "2021-04-16T00:00:00",
          "2021-04-19T00:00:00",
          "2021-04-20T00:00:00",
          "2021-04-21T00:00:00",
          "2021-04-22T00:00:00",
          "2021-04-23T00:00:00",
          "2021-04-26T00:00:00",
          "2021-04-27T00:00:00",
          "2021-04-28T00:00:00",
          "2021-04-29T00:00:00",
          "2021-04-30T00:00:00",
          "2021-05-03T00:00:00",
          "2021-05-04T00:00:00",
          "2021-05-05T00:00:00",
          "2021-05-06T00:00:00",
          "2021-05-07T00:00:00",
          "2021-05-10T00:00:00",
          "2021-05-11T00:00:00",
          "2021-05-12T00:00:00",
          "2021-05-17T00:00:00",
          "2021-05-18T00:00:00",
          "2021-05-19T00:00:00",
          "2021-05-20T00:00:00",
          "2021-05-21T00:00:00",
          "2021-05-24T00:00:00",
          "2021-05-25T00:00:00",
          "2021-05-26T00:00:00",
          "2021-05-27T00:00:00",
          "2021-05-28T00:00:00",
          "2021-05-31T00:00:00",
          "2021-06-01T00:00:00",
          "2021-06-02T00:00:00",
          "2021-06-03T00:00:00",
          "2021-06-04T00:00:00",
          "2021-06-07T00:00:00",
          "2021-06-08T00:00:00",
          "2021-06-09T00:00:00",
          "2021-06-10T00:00:00",
          "2021-06-11T00:00:00",
          "2021-06-14T00:00:00",
          "2021-06-15T00:00:00",
          "2021-06-16T00:00:00",
          "2021-06-17T00:00:00",
          "2021-06-18T00:00:00",
          "2021-06-21T00:00:00",
          "2021-06-22T00:00:00",
          "2021-06-23T00:00:00",
          "2021-06-24T00:00:00",
          "2021-06-25T00:00:00",
          "2021-06-28T00:00:00",
          "2021-06-29T00:00:00",
          "2021-06-30T00:00:00",
          "2021-07-01T00:00:00",
          "2021-07-02T00:00:00",
          "2021-07-05T00:00:00",
          "2021-07-06T00:00:00",
          "2021-07-07T00:00:00",
          "2021-07-08T00:00:00",
          "2021-07-09T00:00:00",
          "2021-07-12T00:00:00",
          "2021-07-13T00:00:00",
          "2021-07-14T00:00:00",
          "2021-07-15T00:00:00",
          "2021-07-16T00:00:00",
          "2021-07-19T00:00:00",
          "2021-07-20T00:00:00",
          "2021-07-23T00:00:00",
          "2021-07-26T00:00:00",
          "2021-07-27T00:00:00",
          "2021-07-28T00:00:00",
          "2021-07-29T00:00:00",
          "2021-08-02T00:00:00",
          "2021-08-03T00:00:00",
          "2021-08-04T00:00:00",
          "2021-08-05T00:00:00",
          "2021-08-06T00:00:00",
          "2021-08-09T00:00:00",
          "2021-08-11T00:00:00",
          "2021-08-12T00:00:00",
          "2021-08-13T00:00:00",
          "2021-08-16T00:00:00",
          "2021-08-17T00:00:00",
          "2021-08-18T00:00:00",
          "2021-08-19T00:00:00",
          "2021-08-23T00:00:00",
          "2021-08-24T00:00:00",
          "2021-08-25T00:00:00",
          "2021-08-26T00:00:00",
          "2021-08-27T00:00:00",
          "2021-08-30T00:00:00",
          "2021-08-31T00:00:00",
          "2021-09-01T00:00:00",
          "2021-09-02T00:00:00",
          "2021-09-03T00:00:00",
          "2021-09-06T00:00:00",
          "2021-09-07T00:00:00",
          "2021-09-08T00:00:00",
          "2021-09-09T00:00:00",
          "2021-09-10T00:00:00",
          "2021-09-13T00:00:00",
          "2021-09-14T00:00:00",
          "2021-09-15T00:00:00",
          "2021-09-16T00:00:00",
          "2021-09-17T00:00:00",
          "2021-09-20T00:00:00",
          "2021-09-21T00:00:00",
          "2021-09-22T00:00:00",
          "2021-09-23T00:00:00",
          "2021-09-24T00:00:00",
          "2021-09-27T00:00:00",
          "2021-09-28T00:00:00",
          "2021-09-29T00:00:00",
          "2021-09-30T00:00:00",
          "2021-10-01T00:00:00",
          "2021-10-04T00:00:00",
          "2021-10-05T00:00:00",
          "2021-10-06T00:00:00",
          "2021-10-07T00:00:00",
          "2021-10-08T00:00:00",
          "2021-10-11T00:00:00",
          "2021-10-12T00:00:00",
          "2021-10-13T00:00:00",
          "2021-10-14T00:00:00",
          "2021-10-15T00:00:00",
          "2021-10-18T00:00:00",
          "2021-10-21T00:00:00",
          "2021-10-22T00:00:00",
          "2021-10-25T00:00:00",
          "2021-10-26T00:00:00",
          "2021-10-27T00:00:00",
          "2021-10-28T00:00:00",
          "2021-10-29T00:00:00",
          "2021-11-01T00:00:00",
          "2021-11-02T00:00:00",
          "2021-11-03T00:00:00",
          "2021-11-04T00:00:00",
          "2021-11-05T00:00:00",
          "2021-11-08T00:00:00",
          "2021-11-09T00:00:00",
          "2021-11-10T00:00:00",
          "2021-11-11T00:00:00",
          "2021-11-12T00:00:00",
          "2021-11-15T00:00:00",
          "2021-11-16T00:00:00",
          "2021-11-17T00:00:00",
          "2021-11-19T00:00:00",
          "2021-11-22T00:00:00",
          "2021-11-23T00:00:00",
          "2021-11-24T00:00:00",
          "2021-11-25T00:00:00",
          "2021-11-26T00:00:00",
          "2021-11-29T00:00:00",
          "2021-11-30T00:00:00",
          "2021-12-01T00:00:00",
          "2021-12-02T00:00:00",
          "2021-12-03T00:00:00",
          "2021-12-06T00:00:00",
          "2021-12-07T00:00:00",
          "2021-12-08T00:00:00",
          "2021-12-09T00:00:00",
          "2021-12-10T00:00:00",
          "2021-12-13T00:00:00",
          "2021-12-14T00:00:00",
          "2021-12-15T00:00:00",
          "2021-12-16T00:00:00",
          "2021-12-17T00:00:00",
          "2021-12-20T00:00:00",
          "2021-12-21T00:00:00",
          "2021-12-22T00:00:00",
          "2021-12-23T00:00:00",
          "2021-12-24T00:00:00",
          "2021-12-27T00:00:00",
          "2021-12-28T00:00:00",
          "2021-12-29T00:00:00",
          "2021-12-30T00:00:00",
          "2021-12-31T00:00:00",
          "2022-01-03T00:00:00",
          "2022-01-04T00:00:00",
          "2022-01-05T00:00:00",
          "2022-01-06T00:00:00",
          "2022-01-07T00:00:00",
          "2022-01-10T00:00:00",
          "2022-01-12T00:00:00",
          "2022-01-13T00:00:00",
          "2022-01-14T00:00:00",
          "2022-01-17T00:00:00",
          "2022-01-18T00:00:00",
          "2022-01-19T00:00:00",
          "2022-01-20T00:00:00",
          "2022-01-21T00:00:00",
          "2022-01-24T00:00:00",
          "2022-01-25T00:00:00",
          "2022-01-26T00:00:00",
          "2022-01-27T00:00:00",
          "2022-01-28T00:00:00",
          "2022-01-31T00:00:00",
          "2022-02-01T00:00:00",
          "2022-02-02T00:00:00",
          "2022-02-03T00:00:00",
          "2022-02-04T00:00:00"
         ],
         "y": [
          0,
          -0.004573021857980031,
          -0.01200090059126313,
          -0.009601986625110692,
          -0.012658633287570886,
          -0.015080324321870231,
          -0.010615156067898313,
          -0.015697133478634218,
          -0.01167973196944061,
          -0.020309113862777006,
          -0.02145708322350237,
          -0.027581970127370847,
          -0.03575385418792454,
          -0.03000693333612614,
          -0.029611000226924644,
          -0.03013541958063526,
          -0.028581786022703892,
          -0.031250427977778106,
          -0.030273491673029174,
          -0.03029827647223926,
          -0.03184497267858177,
          -0.02901062029073298,
          -0.029971417855148452,
          -0.030226425330785567,
          -0.024750761760931494,
          -0.024509765685054585,
          -0.018580995660147925,
          -0.01229515707330131,
          -0.017743677827887994,
          -0.020465699798634218,
          -0.022382245697429637,
          -0.027530623473370985,
          -0.02313302604909695,
          -0.018117243958691964,
          -0.017546663877600288,
          -0.01894424119893312,
          -0.01596197456471249,
          -0.018890416919366215,
          -0.012984167656513335,
          -0.011260799660144483,
          -0.014664689817639465,
          -0.014241938547555066,
          -0.015236465993832549,
          -0.012673080407689441,
          -0.010671979128755282,
          -0.007483898701714509,
          -0.008329580656148194,
          -0.007296983211497743,
          -0.005996366485213178,
          -0.0030256507122583542,
          -0.003520389820379166,
          -0.00029040334710417337,
          -0.0018872415688084843,
          0.000811798288916199,
          0.002963325613935197,
          0.0020871774085593486,
          0.0035530603037234876,
          0.0066458888430036556,
          0.008091532100343413,
          0.009097097795700337,
          0.012878390131860096,
          0.01758544298949838,
          0.02132037809693932,
          0.026074540014503267,
          0.026282985216546706,
          0.030054640443603287,
          0.027656495395730563,
          0.028811282498534263,
          0.04030036545233462,
          0.03950512453703792,
          0.04259626145610307,
          0.02945891673477119,
          0.03742749025868153,
          0.03299321543247369,
          0.03318656420562904,
          0.035194406334813744,
          0.0335058105317525,
          0.03910823455175505,
          0.03500297131382091,
          0.03932692345398925,
          0.048280549642266024,
          0.058264363997917235,
          0.05734041470616402,
          0.0576439750993849,
          0.05654210666128545,
          0.05609372478188357,
          0.057152234772554156,
          0.06476391060525355,
          0.07355755053016977,
          0.06807899070146295,
          0.06388621601978217,
          0.06298864062501663,
          0.06688809007013052,
          0.07186467441535238,
          0.06945555946669169,
          0.06918193562515351,
          0.06593546012655072,
          0.060902052720471556,
          0.06530440889454225,
          0.06042741655359185,
          0.06018752259391569,
          0.06100185831315419,
          0.06161974395550973,
          0.04925182158235519,
          0.0407908327922355,
          0.045940082008893324,
          0.0479549042073486,
          0.04528927812063732,
          0.04499276614497871,
          0.043221127167728524,
          0.03970141228672741,
          0.0372077932191468,
          0.03941445198480786,
          0.03849778178610075,
          0.03780690871194525,
          0.04378181383362367,
          0.04089397890766544,
          0.042952808862319,
          0.04546545438554994,
          0.05120916286764721,
          0.0622981776406093,
          0.0633383617456178,
          0.06161759952786294,
          0.06519147188635199,
          0.07038269549753595,
          0.067711063304708,
          0.07365556198019929,
          0.0701664756773328,
          0.07846031017701982,
          0.07628205867001903,
          0.07858024434155331,
          0.07794430620670179,
          0.07710655265408373,
          0.08617414961845937,
          0.08557670865880285,
          0.08119646315703677,
          0.08374413717966855,
          0.09226422161133807,
          0.0914825222012976,
          0.08453020233682951,
          0.08550619885257027,
          0.0862473762692797,
          0.09079457956014081,
          0.08429219649870645,
          0.08628414765011416,
          0.08853361807687188,
          0.10818786987158457,
          0.10075331009280597,
          0.10106601207001686,
          0.10224636997738346,
          0.10171420163612233,
          0.10232391111410544,
          0.1123001131787893,
          0.1063504712943617,
          0.1056037149483573,
          0.10838743833926756,
          0.11732630984011383,
          0.12192714945273986,
          0.12108426123472182,
          0.125131539490843,
          0.12751457102275476,
          0.12662119904791758,
          0.11969113509587359,
          0.1176433348467627,
          0.11567580112249809,
          0.11730454945280289,
          0.11897999675328408,
          0.12711043611857153,
          0.12309741744357128,
          0.12437764074837543,
          0.1266985265962286,
          0.1348510680902839,
          0.1363698611066162,
          0.13548998791935274,
          0.13590962079863655,
          0.13635197094131213,
          0.13918118012022473,
          0.15774894184242894,
          0.15665952988045784,
          0.16012675327357617,
          0.15811512635774894,
          0.15402205474631336,
          0.15872876586249407,
          0.15930068727880675,
          0.15397482607687762,
          0.1460130361209,
          0.14724853401244498,
          0.14315403563042417,
          0.14007390278629273,
          0.13906326223029097,
          0.13592522129617457,
          0.13598742678498832,
          0.13313492792574255,
          0.13539134424762556,
          0.13974608729312066,
          0.14069271113058335,
          0.13687067466914504,
          0.13977708324332183,
          0.13838597337907332,
          0.12954771910687146,
          0.11915973567289129,
          0.11795378987388938,
          0.12519969982455392,
          0.13043010409384803,
          0.1299683430363825,
          0.12591067583995108,
          0.13017085902413728,
          0.1304253966052702,
          0.13438509506935348,
          0.13969190418502309,
          0.13492168896249002,
          0.1347409675361917,
          0.13381532662422346,
          0.13368773745104034,
          0.1366087383854555,
          0.13235710728124528,
          0.1314170790539133,
          0.12864413760598947,
          0.13201550252026029,
          0.13137219131346178,
          0.13085552094730124,
          0.1347350468654389,
          0.14391130052624823,
          0.14522967926478958,
          0.14127306501736103,
          0.1359733043192537,
          0.1344521960045464,
          0.13548938987180126,
          0.14216571079160123,
          0.15143394416571465,
          0.15220751012906542,
          0.15604778704080147,
          0.1609163725418956,
          0.17766723163079456,
          0.17651197463348645,
          0.17627835162955674,
          0.1736862255868321,
          0.17709324267866378,
          0.17762453103567144,
          0.17503550629667397,
          0.17103009991264106,
          0.1723683936346223,
          0.17335769243659893,
          0.1784281873343605,
          0.18614133474934813,
          0.1843994614530522,
          0.18802229681887428,
          0.18869584360113123,
          0.19176737310406833
         ]
        }
       ],
       "layout": {
        "legend": {
         "font": {
          "size": 12
         },
         "traceorder": "normal",
         "x": 0,
         "y": 1
        },
        "template": {
         "data": {
          "bar": [
           {
            "error_x": {
             "color": "#2a3f5f"
            },
            "error_y": {
             "color": "#2a3f5f"
            },
            "marker": {
             "line": {
              "color": "#E5ECF6",
              "width": 0.5
             },
             "pattern": {
              "fillmode": "overlay",
              "size": 10,
              "solidity": 0.2
             }
            },
            "type": "bar"
           }
          ],
          "barpolar": [
           {
            "marker": {
             "line": {
              "color": "#E5ECF6",
              "width": 0.5
             },
             "pattern": {
              "fillmode": "overlay",
              "size": 10,
              "solidity": 0.2
             }
            },
            "type": "barpolar"
           }
          ],
          "carpet": [
           {
            "aaxis": {
             "endlinecolor": "#2a3f5f",
             "gridcolor": "white",
             "linecolor": "white",
             "minorgridcolor": "white",
             "startlinecolor": "#2a3f5f"
            },
            "baxis": {
             "endlinecolor": "#2a3f5f",
             "gridcolor": "white",
             "linecolor": "white",
             "minorgridcolor": "white",
             "startlinecolor": "#2a3f5f"
            },
            "type": "carpet"
           }
          ],
          "choropleth": [
           {
            "colorbar": {
             "outlinewidth": 0,
             "ticks": ""
            },
            "type": "choropleth"
           }
          ],
          "contour": [
           {
            "colorbar": {
             "outlinewidth": 0,
             "ticks": ""
            },
            "colorscale": [
             [
              0,
              "#0d0887"
             ],
             [
              0.1111111111111111,
              "#46039f"
             ],
             [
              0.2222222222222222,
              "#7201a8"
             ],
             [
              0.3333333333333333,
              "#9c179e"
             ],
             [
              0.4444444444444444,
              "#bd3786"
             ],
             [
              0.5555555555555556,
              "#d8576b"
             ],
             [
              0.6666666666666666,
              "#ed7953"
             ],
             [
              0.7777777777777778,
              "#fb9f3a"
             ],
             [
              0.8888888888888888,
              "#fdca26"
             ],
             [
              1,
              "#f0f921"
             ]
            ],
            "type": "contour"
           }
          ],
          "contourcarpet": [
           {
            "colorbar": {
             "outlinewidth": 0,
             "ticks": ""
            },
            "type": "contourcarpet"
           }
          ],
          "heatmap": [
           {
            "colorbar": {
             "outlinewidth": 0,
             "ticks": ""
            },
            "colorscale": [
             [
              0,
              "#0d0887"
             ],
             [
              0.1111111111111111,
              "#46039f"
             ],
             [
              0.2222222222222222,
              "#7201a8"
             ],
             [
              0.3333333333333333,
              "#9c179e"
             ],
             [
              0.4444444444444444,
              "#bd3786"
             ],
             [
              0.5555555555555556,
              "#d8576b"
             ],
             [
              0.6666666666666666,
              "#ed7953"
             ],
             [
              0.7777777777777778,
              "#fb9f3a"
             ],
             [
              0.8888888888888888,
              "#fdca26"
             ],
             [
              1,
              "#f0f921"
             ]
            ],
            "type": "heatmap"
           }
          ],
          "heatmapgl": [
           {
            "colorbar": {
             "outlinewidth": 0,
             "ticks": ""
            },
            "colorscale": [
             [
              0,
              "#0d0887"
             ],
             [
              0.1111111111111111,
              "#46039f"
             ],
             [
              0.2222222222222222,
              "#7201a8"
             ],
             [
              0.3333333333333333,
              "#9c179e"
             ],
             [
              0.4444444444444444,
              "#bd3786"
             ],
             [
              0.5555555555555556,
              "#d8576b"
             ],
             [
              0.6666666666666666,
              "#ed7953"
             ],
             [
              0.7777777777777778,
              "#fb9f3a"
             ],
             [
              0.8888888888888888,
              "#fdca26"
             ],
             [
              1,
              "#f0f921"
             ]
            ],
            "type": "heatmapgl"
           }
          ],
          "histogram": [
           {
            "marker": {
             "pattern": {
              "fillmode": "overlay",
              "size": 10,
              "solidity": 0.2
             }
            },
            "type": "histogram"
           }
          ],
          "histogram2d": [
           {
            "colorbar": {
             "outlinewidth": 0,
             "ticks": ""
            },
            "colorscale": [
             [
              0,
              "#0d0887"
             ],
             [
              0.1111111111111111,
              "#46039f"
             ],
             [
              0.2222222222222222,
              "#7201a8"
             ],
             [
              0.3333333333333333,
              "#9c179e"
             ],
             [
              0.4444444444444444,
              "#bd3786"
             ],
             [
              0.5555555555555556,
              "#d8576b"
             ],
             [
              0.6666666666666666,
              "#ed7953"
             ],
             [
              0.7777777777777778,
              "#fb9f3a"
             ],
             [
              0.8888888888888888,
              "#fdca26"
             ],
             [
              1,
              "#f0f921"
             ]
            ],
            "type": "histogram2d"
           }
          ],
          "histogram2dcontour": [
           {
            "colorbar": {
             "outlinewidth": 0,
             "ticks": ""
            },
            "colorscale": [
             [
              0,
              "#0d0887"
             ],
             [
              0.1111111111111111,
              "#46039f"
             ],
             [
              0.2222222222222222,
              "#7201a8"
             ],
             [
              0.3333333333333333,
              "#9c179e"
             ],
             [
              0.4444444444444444,
              "#bd3786"
             ],
             [
              0.5555555555555556,
              "#d8576b"
             ],
             [
              0.6666666666666666,
              "#ed7953"
             ],
             [
              0.7777777777777778,
              "#fb9f3a"
             ],
             [
              0.8888888888888888,
              "#fdca26"
             ],
             [
              1,
              "#f0f921"
             ]
            ],
            "type": "histogram2dcontour"
           }
          ],
          "mesh3d": [
           {
            "colorbar": {
             "outlinewidth": 0,
             "ticks": ""
            },
            "type": "mesh3d"
           }
          ],
          "parcoords": [
           {
            "line": {
             "colorbar": {
              "outlinewidth": 0,
              "ticks": ""
             }
            },
            "type": "parcoords"
           }
          ],
          "pie": [
           {
            "automargin": true,
            "type": "pie"
           }
          ],
          "scatter": [
           {
            "fillpattern": {
             "fillmode": "overlay",
             "size": 10,
             "solidity": 0.2
            },
            "type": "scatter"
           }
          ],
          "scatter3d": [
           {
            "line": {
             "colorbar": {
              "outlinewidth": 0,
              "ticks": ""
             }
            },
            "marker": {
             "colorbar": {
              "outlinewidth": 0,
              "ticks": ""
             }
            },
            "type": "scatter3d"
           }
          ],
          "scattercarpet": [
           {
            "marker": {
             "colorbar": {
              "outlinewidth": 0,
              "ticks": ""
             }
            },
            "type": "scattercarpet"
           }
          ],
          "scattergeo": [
           {
            "marker": {
             "colorbar": {
              "outlinewidth": 0,
              "ticks": ""
             }
            },
            "type": "scattergeo"
           }
          ],
          "scattergl": [
           {
            "marker": {
             "colorbar": {
              "outlinewidth": 0,
              "ticks": ""
             }
            },
            "type": "scattergl"
           }
          ],
          "scattermapbox": [
           {
            "marker": {
             "colorbar": {
              "outlinewidth": 0,
              "ticks": ""
             }
            },
            "type": "scattermapbox"
           }
          ],
          "scatterpolar": [
           {
            "marker": {
             "colorbar": {
              "outlinewidth": 0,
              "ticks": ""
             }
            },
            "type": "scatterpolar"
           }
          ],
          "scatterpolargl": [
           {
            "marker": {
             "colorbar": {
              "outlinewidth": 0,
              "ticks": ""
             }
            },
            "type": "scatterpolargl"
           }
          ],
          "scatterternary": [
           {
            "marker": {
             "colorbar": {
              "outlinewidth": 0,
              "ticks": ""
             }
            },
            "type": "scatterternary"
           }
          ],
          "surface": [
           {
            "colorbar": {
             "outlinewidth": 0,
             "ticks": ""
            },
            "colorscale": [
             [
              0,
              "#0d0887"
             ],
             [
              0.1111111111111111,
              "#46039f"
             ],
             [
              0.2222222222222222,
              "#7201a8"
             ],
             [
              0.3333333333333333,
              "#9c179e"
             ],
             [
              0.4444444444444444,
              "#bd3786"
             ],
             [
              0.5555555555555556,
              "#d8576b"
             ],
             [
              0.6666666666666666,
              "#ed7953"
             ],
             [
              0.7777777777777778,
              "#fb9f3a"
             ],
             [
              0.8888888888888888,
              "#fdca26"
             ],
             [
              1,
              "#f0f921"
             ]
            ],
            "type": "surface"
           }
          ],
          "table": [
           {
            "cells": {
             "fill": {
              "color": "#EBF0F8"
             },
             "line": {
              "color": "white"
             }
            },
            "header": {
             "fill": {
              "color": "#C8D4E3"
             },
             "line": {
              "color": "white"
             }
            },
            "type": "table"
           }
          ]
         },
         "layout": {
          "annotationdefaults": {
           "arrowcolor": "#2a3f5f",
           "arrowhead": 0,
           "arrowwidth": 1
          },
          "autotypenumbers": "strict",
          "coloraxis": {
           "colorbar": {
            "outlinewidth": 0,
            "ticks": ""
           }
          },
          "colorscale": {
           "diverging": [
            [
             0,
             "#8e0152"
            ],
            [
             0.1,
             "#c51b7d"
            ],
            [
             0.2,
             "#de77ae"
            ],
            [
             0.3,
             "#f1b6da"
            ],
            [
             0.4,
             "#fde0ef"
            ],
            [
             0.5,
             "#f7f7f7"
            ],
            [
             0.6,
             "#e6f5d0"
            ],
            [
             0.7,
             "#b8e186"
            ],
            [
             0.8,
             "#7fbc41"
            ],
            [
             0.9,
             "#4d9221"
            ],
            [
             1,
             "#276419"
            ]
           ],
           "sequential": [
            [
             0,
             "#0d0887"
            ],
            [
             0.1111111111111111,
             "#46039f"
            ],
            [
             0.2222222222222222,
             "#7201a8"
            ],
            [
             0.3333333333333333,
             "#9c179e"
            ],
            [
             0.4444444444444444,
             "#bd3786"
            ],
            [
             0.5555555555555556,
             "#d8576b"
            ],
            [
             0.6666666666666666,
             "#ed7953"
            ],
            [
             0.7777777777777778,
             "#fb9f3a"
            ],
            [
             0.8888888888888888,
             "#fdca26"
            ],
            [
             1,
             "#f0f921"
            ]
           ],
           "sequentialminus": [
            [
             0,
             "#0d0887"
            ],
            [
             0.1111111111111111,
             "#46039f"
            ],
            [
             0.2222222222222222,
             "#7201a8"
            ],
            [
             0.3333333333333333,
             "#9c179e"
            ],
            [
             0.4444444444444444,
             "#bd3786"
            ],
            [
             0.5555555555555556,
             "#d8576b"
            ],
            [
             0.6666666666666666,
             "#ed7953"
            ],
            [
             0.7777777777777778,
             "#fb9f3a"
            ],
            [
             0.8888888888888888,
             "#fdca26"
            ],
            [
             1,
             "#f0f921"
            ]
           ]
          },
          "colorway": [
           "#636efa",
           "#EF553B",
           "#00cc96",
           "#ab63fa",
           "#FFA15A",
           "#19d3f3",
           "#FF6692",
           "#B6E880",
           "#FF97FF",
           "#FECB52"
          ],
          "font": {
           "color": "#2a3f5f"
          },
          "geo": {
           "bgcolor": "white",
           "lakecolor": "white",
           "landcolor": "#E5ECF6",
           "showlakes": true,
           "showland": true,
           "subunitcolor": "white"
          },
          "hoverlabel": {
           "align": "left"
          },
          "hovermode": "closest",
          "mapbox": {
           "style": "light"
          },
          "paper_bgcolor": "white",
          "plot_bgcolor": "#E5ECF6",
          "polar": {
           "angularaxis": {
            "gridcolor": "white",
            "linecolor": "white",
            "ticks": ""
           },
           "bgcolor": "#E5ECF6",
           "radialaxis": {
            "gridcolor": "white",
            "linecolor": "white",
            "ticks": ""
           }
          },
          "scene": {
           "xaxis": {
            "backgroundcolor": "#E5ECF6",
            "gridcolor": "white",
            "gridwidth": 2,
            "linecolor": "white",
            "showbackground": true,
            "ticks": "",
            "zerolinecolor": "white"
           },
           "yaxis": {
            "backgroundcolor": "#E5ECF6",
            "gridcolor": "white",
            "gridwidth": 2,
            "linecolor": "white",
            "showbackground": true,
            "ticks": "",
            "zerolinecolor": "white"
           },
           "zaxis": {
            "backgroundcolor": "#E5ECF6",
            "gridcolor": "white",
            "gridwidth": 2,
            "linecolor": "white",
            "showbackground": true,
            "ticks": "",
            "zerolinecolor": "white"
           }
          },
          "shapedefaults": {
           "line": {
            "color": "#2a3f5f"
           }
          },
          "ternary": {
           "aaxis": {
            "gridcolor": "white",
            "linecolor": "white",
            "ticks": ""
           },
           "baxis": {
            "gridcolor": "white",
            "linecolor": "white",
            "ticks": ""
           },
           "bgcolor": "#E5ECF6",
           "caxis": {
            "gridcolor": "white",
            "linecolor": "white",
            "ticks": ""
           }
          },
          "title": {
           "x": 0.05
          },
          "xaxis": {
           "automargin": true,
           "gridcolor": "white",
           "linecolor": "white",
           "ticks": "",
           "title": {
            "standoff": 15
           },
           "zerolinecolor": "white",
           "zerolinewidth": 2
          },
          "yaxis": {
           "automargin": true,
           "gridcolor": "white",
           "linecolor": "white",
           "ticks": "",
           "title": {
            "standoff": 15
           },
           "zerolinecolor": "white",
           "zerolinewidth": 2
          }
         }
        },
        "title": {
         "text": "KMeans (Euclidean Metric) Portfolio Performance"
        },
        "xaxis": {
         "title": {
          "text": "Date"
         }
        },
        "yaxis": {
         "title": {
          "text": "Cumulative Returns"
         }
        }
       }
      }
     },
     "metadata": {},
     "output_type": "display_data"
    }
   ],
   "source": [
    "# Create traces\n",
    "masi_trace = go.Scatter(x=benchmark_cumulative_returns.index, y=benchmark_cumulative_returns, mode='lines', name='MASI Index', line=dict(dash='dash'))\n",
    "kmeans_trace = go.Scatter(x=kmeans_portfolio_returns.index, y=kmeans_portfolio_returns, mode='lines', name='KMeans (Euclidean Metric) Portfolio', line=dict(color='green'))\n",
    "\n",
    "# Layout\n",
    "layout = go.Layout(\n",
    "    title='KMeans (Euclidean Metric) Portfolio Performance',\n",
    "    xaxis=dict(title='Date'),\n",
    "    yaxis=dict(title='Cumulative Returns'),\n",
    "    legend=dict(x=0, y=1, traceorder='normal', font=dict(size=12))\n",
    ")\n",
    "\n",
    "# Create figure\n",
    "fig = go.Figure(data=[kmeans_trace, masi_trace], layout=layout)\n",
    "\n",
    "# Show plot\n",
    "fig.show()"
   ]
  },
  {
   "cell_type": "markdown",
   "metadata": {},
   "source": [
    "Throughout the testing period, the KMeans portfolio demonstrates fluctuating performance. Initially, it trails the MASI Index, showing minimal growth and even negative returns in the first few months. However, around mid-2021, the KMeans portfolio begins to gain traction, showing significant improvements in cumulative returns.\n",
    "\n",
    "By late 2021, the KMeans portfolio overtakes the MASI Index, reflecting successful asset selection and weight optimization based on cluster characteristics. While the portfolio shows more volatility compared to the MASI Index, it ultimately yields a competitive performance. This indicates that the KMeans approach, particularly with the Euclidean metric, can effectively capture trends in asset returns and construct a portfolio that adapts to market dynamics."
   ]
  },
  {
   "cell_type": "code",
   "execution_count": 40,
   "metadata": {
    "slideshow": {
     "slide_type": "subslide"
    },
    "tags": [
     "to_remove"
    ]
   },
   "outputs": [
    {
     "data": {
      "application/vnd.plotly.v1+json": {
       "config": {
        "plotlyServerURL": "https://plot.ly"
       },
       "data": [
        {
         "line": {
          "color": "orange"
         },
         "mode": "lines",
         "name": "KMeans (Euclidean Metric) Portfolio Drawdown",
         "type": "scatter",
         "x": [
          "2021-02-08T00:00:00",
          "2021-02-09T00:00:00",
          "2021-02-10T00:00:00",
          "2021-02-11T00:00:00",
          "2021-02-12T00:00:00",
          "2021-02-15T00:00:00",
          "2021-02-16T00:00:00",
          "2021-02-17T00:00:00",
          "2021-02-18T00:00:00",
          "2021-02-19T00:00:00",
          "2021-02-22T00:00:00",
          "2021-02-23T00:00:00",
          "2021-02-24T00:00:00",
          "2021-02-25T00:00:00",
          "2021-02-26T00:00:00",
          "2021-03-01T00:00:00",
          "2021-03-02T00:00:00",
          "2021-03-03T00:00:00",
          "2021-03-04T00:00:00",
          "2021-03-05T00:00:00",
          "2021-03-08T00:00:00",
          "2021-03-09T00:00:00",
          "2021-03-10T00:00:00",
          "2021-03-11T00:00:00",
          "2021-03-12T00:00:00",
          "2021-03-15T00:00:00",
          "2021-03-16T00:00:00",
          "2021-03-17T00:00:00",
          "2021-03-18T00:00:00",
          "2021-03-19T00:00:00",
          "2021-03-22T00:00:00",
          "2021-03-23T00:00:00",
          "2021-03-24T00:00:00",
          "2021-03-25T00:00:00",
          "2021-03-26T00:00:00",
          "2021-03-29T00:00:00",
          "2021-03-30T00:00:00",
          "2021-03-31T00:00:00",
          "2021-04-01T00:00:00",
          "2021-04-02T00:00:00",
          "2021-04-05T00:00:00",
          "2021-04-06T00:00:00",
          "2021-04-07T00:00:00",
          "2021-04-08T00:00:00",
          "2021-04-09T00:00:00",
          "2021-04-12T00:00:00",
          "2021-04-13T00:00:00",
          "2021-04-14T00:00:00",
          "2021-04-15T00:00:00",
          "2021-04-16T00:00:00",
          "2021-04-19T00:00:00",
          "2021-04-20T00:00:00",
          "2021-04-21T00:00:00",
          "2021-04-22T00:00:00",
          "2021-04-23T00:00:00",
          "2021-04-26T00:00:00",
          "2021-04-27T00:00:00",
          "2021-04-28T00:00:00",
          "2021-04-29T00:00:00",
          "2021-04-30T00:00:00",
          "2021-05-03T00:00:00",
          "2021-05-04T00:00:00",
          "2021-05-05T00:00:00",
          "2021-05-06T00:00:00",
          "2021-05-07T00:00:00",
          "2021-05-10T00:00:00",
          "2021-05-11T00:00:00",
          "2021-05-12T00:00:00",
          "2021-05-17T00:00:00",
          "2021-05-18T00:00:00",
          "2021-05-19T00:00:00",
          "2021-05-20T00:00:00",
          "2021-05-21T00:00:00",
          "2021-05-24T00:00:00",
          "2021-05-25T00:00:00",
          "2021-05-26T00:00:00",
          "2021-05-27T00:00:00",
          "2021-05-28T00:00:00",
          "2021-05-31T00:00:00",
          "2021-06-01T00:00:00",
          "2021-06-02T00:00:00",
          "2021-06-03T00:00:00",
          "2021-06-04T00:00:00",
          "2021-06-07T00:00:00",
          "2021-06-08T00:00:00",
          "2021-06-09T00:00:00",
          "2021-06-10T00:00:00",
          "2021-06-11T00:00:00",
          "2021-06-14T00:00:00",
          "2021-06-15T00:00:00",
          "2021-06-16T00:00:00",
          "2021-06-17T00:00:00",
          "2021-06-18T00:00:00",
          "2021-06-21T00:00:00",
          "2021-06-22T00:00:00",
          "2021-06-23T00:00:00",
          "2021-06-24T00:00:00",
          "2021-06-25T00:00:00",
          "2021-06-28T00:00:00",
          "2021-06-29T00:00:00",
          "2021-06-30T00:00:00",
          "2021-07-01T00:00:00",
          "2021-07-02T00:00:00",
          "2021-07-05T00:00:00",
          "2021-07-06T00:00:00",
          "2021-07-07T00:00:00",
          "2021-07-08T00:00:00",
          "2021-07-09T00:00:00",
          "2021-07-12T00:00:00",
          "2021-07-13T00:00:00",
          "2021-07-14T00:00:00",
          "2021-07-15T00:00:00",
          "2021-07-16T00:00:00",
          "2021-07-19T00:00:00",
          "2021-07-20T00:00:00",
          "2021-07-23T00:00:00",
          "2021-07-26T00:00:00",
          "2021-07-27T00:00:00",
          "2021-07-28T00:00:00",
          "2021-07-29T00:00:00",
          "2021-08-02T00:00:00",
          "2021-08-03T00:00:00",
          "2021-08-04T00:00:00",
          "2021-08-05T00:00:00",
          "2021-08-06T00:00:00",
          "2021-08-09T00:00:00",
          "2021-08-11T00:00:00",
          "2021-08-12T00:00:00",
          "2021-08-13T00:00:00",
          "2021-08-16T00:00:00",
          "2021-08-17T00:00:00",
          "2021-08-18T00:00:00",
          "2021-08-19T00:00:00",
          "2021-08-23T00:00:00",
          "2021-08-24T00:00:00",
          "2021-08-25T00:00:00",
          "2021-08-26T00:00:00",
          "2021-08-27T00:00:00",
          "2021-08-30T00:00:00",
          "2021-08-31T00:00:00",
          "2021-09-01T00:00:00",
          "2021-09-02T00:00:00",
          "2021-09-03T00:00:00",
          "2021-09-06T00:00:00",
          "2021-09-07T00:00:00",
          "2021-09-08T00:00:00",
          "2021-09-09T00:00:00",
          "2021-09-10T00:00:00",
          "2021-09-13T00:00:00",
          "2021-09-14T00:00:00",
          "2021-09-15T00:00:00",
          "2021-09-16T00:00:00",
          "2021-09-17T00:00:00",
          "2021-09-20T00:00:00",
          "2021-09-21T00:00:00",
          "2021-09-22T00:00:00",
          "2021-09-23T00:00:00",
          "2021-09-24T00:00:00",
          "2021-09-27T00:00:00",
          "2021-09-28T00:00:00",
          "2021-09-29T00:00:00",
          "2021-09-30T00:00:00",
          "2021-10-01T00:00:00",
          "2021-10-04T00:00:00",
          "2021-10-05T00:00:00",
          "2021-10-06T00:00:00",
          "2021-10-07T00:00:00",
          "2021-10-08T00:00:00",
          "2021-10-11T00:00:00",
          "2021-10-12T00:00:00",
          "2021-10-13T00:00:00",
          "2021-10-14T00:00:00",
          "2021-10-15T00:00:00",
          "2021-10-18T00:00:00",
          "2021-10-21T00:00:00",
          "2021-10-22T00:00:00",
          "2021-10-25T00:00:00",
          "2021-10-26T00:00:00",
          "2021-10-27T00:00:00",
          "2021-10-28T00:00:00",
          "2021-10-29T00:00:00",
          "2021-11-01T00:00:00",
          "2021-11-02T00:00:00",
          "2021-11-03T00:00:00",
          "2021-11-04T00:00:00",
          "2021-11-05T00:00:00",
          "2021-11-08T00:00:00",
          "2021-11-09T00:00:00",
          "2021-11-10T00:00:00",
          "2021-11-11T00:00:00",
          "2021-11-12T00:00:00",
          "2021-11-15T00:00:00",
          "2021-11-16T00:00:00",
          "2021-11-17T00:00:00",
          "2021-11-19T00:00:00",
          "2021-11-22T00:00:00",
          "2021-11-23T00:00:00",
          "2021-11-24T00:00:00",
          "2021-11-25T00:00:00",
          "2021-11-26T00:00:00",
          "2021-11-29T00:00:00",
          "2021-11-30T00:00:00",
          "2021-12-01T00:00:00",
          "2021-12-02T00:00:00",
          "2021-12-03T00:00:00",
          "2021-12-06T00:00:00",
          "2021-12-07T00:00:00",
          "2021-12-08T00:00:00",
          "2021-12-09T00:00:00",
          "2021-12-10T00:00:00",
          "2021-12-13T00:00:00",
          "2021-12-14T00:00:00",
          "2021-12-15T00:00:00",
          "2021-12-16T00:00:00",
          "2021-12-17T00:00:00",
          "2021-12-20T00:00:00",
          "2021-12-21T00:00:00",
          "2021-12-22T00:00:00",
          "2021-12-23T00:00:00",
          "2021-12-24T00:00:00",
          "2021-12-27T00:00:00",
          "2021-12-28T00:00:00",
          "2021-12-29T00:00:00",
          "2021-12-30T00:00:00",
          "2021-12-31T00:00:00",
          "2022-01-03T00:00:00",
          "2022-01-04T00:00:00",
          "2022-01-05T00:00:00",
          "2022-01-06T00:00:00",
          "2022-01-07T00:00:00",
          "2022-01-10T00:00:00",
          "2022-01-12T00:00:00",
          "2022-01-13T00:00:00",
          "2022-01-14T00:00:00",
          "2022-01-17T00:00:00",
          "2022-01-18T00:00:00",
          "2022-01-19T00:00:00",
          "2022-01-20T00:00:00",
          "2022-01-21T00:00:00",
          "2022-01-24T00:00:00",
          "2022-01-25T00:00:00",
          "2022-01-26T00:00:00",
          "2022-01-27T00:00:00",
          "2022-01-28T00:00:00",
          "2022-01-31T00:00:00",
          "2022-02-01T00:00:00",
          "2022-02-02T00:00:00",
          "2022-02-03T00:00:00",
          "2022-02-04T00:00:00"
         ],
         "y": [
          0,
          0,
          0,
          0,
          0,
          -0.9739430779874887,
          -0.46622976772568414,
          -0.4937063563477311,
          -0.8620483563596996,
          -0.6255904449031442,
          -1.28902373848385,
          -0.6328212114853894,
          -0.6780027258041543,
          -1.2520019529455453,
          -1.5765688297320157,
          -1.8961124836250736,
          -1.6770366299357407,
          -1.6760763010134072,
          -1.8692377128988191,
          -1.259966145537834,
          -1.2599798346440574,
          -0.6614892401623859,
          -0.9821009289646814,
          -1.2783526457575114,
          -0.6384568887055224,
          -0.0022421110149734923,
          -0.29211100531254214,
          0,
          0,
          -0.0005479822003670837,
          -0.33664294156999663,
          -0.6576677491329853,
          -0.9513250548708417,
          -0.9514810609021995,
          -1.0025369209829866,
          -1.0055476120976103,
          -0.8398823009930225,
          -0.8028484512410351,
          -1.0707122841897858,
          -1.0617044515634089,
          -1.0696258413197772,
          -1.3651696418263677,
          -1.4062949571418106,
          -1.4469140240593819,
          -1.3894632884863691,
          -1.3774697103431075,
          -0.8401259837717109,
          -0.8397139236597555,
          -0.7003082098590149,
          -0.6619385801757299,
          -0.6626625955455627,
          -0.6729291870002041,
          -0.6707559451021735,
          -0.36160844043531093,
          0,
          -0.11182010999259125,
          0,
          0,
          0,
          -0.18280003125905986,
          0,
          0,
          0,
          -0.0017795908104732713,
          0,
          0,
          -0.1625033145518749,
          -0.1347584751285413,
          -0.12146526623630347,
          -0.12468146918583516,
          -0.11958349137512085,
          -0.1296727639445436,
          -0.07420932350427341,
          -0.06794744185732891,
          -0.14802197484816668,
          -0.16871382022868267,
          -0.19550790834232373,
          -0.19637622999510274,
          -0.3612507071109477,
          -0.21149161976065967,
          0,
          -0.05484342538430535,
          -0.12726817777533653,
          -0.054597808473769896,
          -0.12842416502147244,
          0,
          -0.153732095964433,
          -0.34113478356558524,
          -0.43070225761298325,
          -0.2874884602564688,
          -0.2879739476243775,
          -0.17959027963482843,
          -0.0372096062320031,
          -0.05053651728150765,
          -0.126674821033067,
          -0.28091773907936585,
          -0.3073008710778817,
          -0.4642800801222774,
          -0.4395126974858307,
          -0.43995748345162167,
          -0.45159787703231213,
          -0.4637430730730357,
          -0.48433288441047306,
          -0.4428492495318714,
          -0.4427610458320016,
          -0.39572535370306394,
          -0.5353693254750557,
          -0.5415545254261156,
          -0.395378372975924,
          -0.33785359269592363,
          -0.4834335329304912,
          -0.6406377118327401,
          -0.6589470618220311,
          -0.648363816962118,
          -0.6485609187525838,
          -0.6443894341367813,
          -0.6747822951579004,
          -0.6515217424717692,
          -0.6513060657379234,
          -0.652983018385144,
          -0.6852238688548768,
          -1.2729173027222753,
          -1.4210065271348633,
          -1.540532043334086,
          -1.6772481166414044,
          -1.8142787341372022,
          -1.945581082428255,
          -2.0643950477719533,
          -1.947002346665941,
          -1.7977250940597687,
          -1.5344817698287725,
          -1.3984889011937796,
          -1.2589071019223106,
          -1.2567352308261666,
          -1.1199919919490489,
          -1.1816679850172924,
          -1.1147301231131057,
          -1.097395875741423,
          -1.1041598418329004,
          -1.2465255168869351,
          -1.11829908487365,
          -1.1214245117365167,
          -1.1328630354312084,
          -1.1225975851751748,
          -1.1233465395684221,
          -1.126683726479317,
          -0.9904578134327188,
          -1.0016631439500088,
          -1.1286694320996078,
          -1.1245649249002092,
          -1.0010817850093063,
          -1.04670323714395,
          -1.0194059665865245,
          -1.0239360977996663,
          -1.0304178734043714,
          -1.016463459079048,
          -1.020253656680057,
          -1.0246651540080445,
          -1.0219658949289072,
          -1.0249379862453099,
          -1.021142876219928,
          -1.0948125883238595,
          -1.0157099084526064,
          -1.0029984604674047,
          -1.1551179865656662,
          -1.1548433224700496,
          -1.1646471698317402,
          -1.1867364518982182,
          -1.0399250847226045,
          -1.0172716435426385,
          -0.7872421942484611,
          -0.6638141516221342,
          -0.4427601285709011,
          -0.1290223535912017,
          -0.002177328208426092,
          0,
          0,
          -0.0014470104276100217,
          -0.19045000029359488,
          -0.005404084049810512,
          -0.024588028942452694,
          -0.28780777461614576,
          -0.5371327029748141,
          -0.6957396379615969,
          -0.5222226671959714,
          -0.5211714966993806,
          -0.5213281551713982,
          -0.5229623273894092,
          -0.518597828614836,
          -0.5176367244149249,
          -0.5298691167791331,
          -0.6771747442811524,
          -0.6821121407037708,
          -0.6797761503223804,
          -0.6928758404373676,
          -0.6716372981731498,
          -0.8869062373595918,
          -0.8851879143565125,
          -0.8922874410653616,
          -0.8968306898104285,
          -0.9197224426847881,
          -0.8951288576736903,
          -0.8932756352123482,
          -0.8868157123864437,
          -0.8861769391324782,
          -0.8885893920965799,
          -1.0621143275172815,
          -1.1192835408376265,
          -1.118444774379334,
          -1.2472531295542988,
          -1.3309854128900904,
          -1.4277405102173177,
          -1.426955931436544,
          -1.4271432774418675,
          -1.072584855803508,
          -1.0760184819604628,
          -1.0748114542749259,
          -1.104621574677985,
          -1.4303850101254498,
          -1.41894302667144,
          -1.4189134089815107,
          -1.430588450098658,
          -1.1983967814535035,
          -1.12080031911085,
          -0.8850784653564092,
          -0.8993332803685392,
          -0.8991471110636906,
          -0.9539591545003879,
          -1.1986714411637567,
          -1.1828866437747532,
          -1.210918864975595,
          -1.0899638216573246,
          -1.0432809142897546,
          -0.8551191001015843,
          -0.4900548306044652,
          -0.4391416452149359,
          -0.2798661828190739,
          -0.15654256503054664,
          0,
          0,
          -0.17574888178125375,
          -0.17620844742692132,
          -0.17742760415875655,
          -0.18785415805483577,
          -0.17961517403015484,
          -0.16659503639925055,
          -0.17860241242993333,
          -0.1784976029926783,
          -0.12233019672182985
         ]
        },
        {
         "line": {
          "color": "red",
          "dash": "dash"
         },
         "mode": "lines",
         "name": "MASI Drawdown",
         "type": "scatter",
         "x": [
          "2021-02-08T00:00:00",
          "2021-02-09T00:00:00",
          "2021-02-10T00:00:00",
          "2021-02-11T00:00:00",
          "2021-02-12T00:00:00",
          "2021-02-15T00:00:00",
          "2021-02-16T00:00:00",
          "2021-02-17T00:00:00",
          "2021-02-18T00:00:00",
          "2021-02-19T00:00:00",
          "2021-02-22T00:00:00",
          "2021-02-23T00:00:00",
          "2021-02-24T00:00:00",
          "2021-02-25T00:00:00",
          "2021-02-26T00:00:00",
          "2021-03-01T00:00:00",
          "2021-03-02T00:00:00",
          "2021-03-03T00:00:00",
          "2021-03-04T00:00:00",
          "2021-03-05T00:00:00",
          "2021-03-08T00:00:00",
          "2021-03-09T00:00:00",
          "2021-03-10T00:00:00",
          "2021-03-11T00:00:00",
          "2021-03-12T00:00:00",
          "2021-03-15T00:00:00",
          "2021-03-16T00:00:00",
          "2021-03-17T00:00:00",
          "2021-03-18T00:00:00",
          "2021-03-19T00:00:00",
          "2021-03-22T00:00:00",
          "2021-03-23T00:00:00",
          "2021-03-24T00:00:00",
          "2021-03-25T00:00:00",
          "2021-03-26T00:00:00",
          "2021-03-29T00:00:00",
          "2021-03-30T00:00:00",
          "2021-03-31T00:00:00",
          "2021-04-01T00:00:00",
          "2021-04-02T00:00:00",
          "2021-04-05T00:00:00",
          "2021-04-06T00:00:00",
          "2021-04-07T00:00:00",
          "2021-04-08T00:00:00",
          "2021-04-09T00:00:00",
          "2021-04-12T00:00:00",
          "2021-04-13T00:00:00",
          "2021-04-14T00:00:00",
          "2021-04-15T00:00:00",
          "2021-04-16T00:00:00",
          "2021-04-19T00:00:00",
          "2021-04-20T00:00:00",
          "2021-04-21T00:00:00",
          "2021-04-22T00:00:00",
          "2021-04-23T00:00:00",
          "2021-04-26T00:00:00",
          "2021-04-27T00:00:00",
          "2021-04-28T00:00:00",
          "2021-04-29T00:00:00",
          "2021-04-30T00:00:00",
          "2021-05-03T00:00:00",
          "2021-05-04T00:00:00",
          "2021-05-05T00:00:00",
          "2021-05-06T00:00:00",
          "2021-05-07T00:00:00",
          "2021-05-10T00:00:00",
          "2021-05-11T00:00:00",
          "2021-05-12T00:00:00",
          "2021-05-17T00:00:00",
          "2021-05-18T00:00:00",
          "2021-05-19T00:00:00",
          "2021-05-20T00:00:00",
          "2021-05-21T00:00:00",
          "2021-05-24T00:00:00",
          "2021-05-25T00:00:00",
          "2021-05-26T00:00:00",
          "2021-05-27T00:00:00",
          "2021-05-28T00:00:00",
          "2021-05-31T00:00:00",
          "2021-06-01T00:00:00",
          "2021-06-02T00:00:00",
          "2021-06-03T00:00:00",
          "2021-06-04T00:00:00",
          "2021-06-07T00:00:00",
          "2021-06-08T00:00:00",
          "2021-06-09T00:00:00",
          "2021-06-10T00:00:00",
          "2021-06-11T00:00:00",
          "2021-06-14T00:00:00",
          "2021-06-15T00:00:00",
          "2021-06-16T00:00:00",
          "2021-06-17T00:00:00",
          "2021-06-18T00:00:00",
          "2021-06-21T00:00:00",
          "2021-06-22T00:00:00",
          "2021-06-23T00:00:00",
          "2021-06-24T00:00:00",
          "2021-06-25T00:00:00",
          "2021-06-28T00:00:00",
          "2021-06-29T00:00:00",
          "2021-06-30T00:00:00",
          "2021-07-01T00:00:00",
          "2021-07-02T00:00:00",
          "2021-07-05T00:00:00",
          "2021-07-06T00:00:00",
          "2021-07-07T00:00:00",
          "2021-07-08T00:00:00",
          "2021-07-09T00:00:00",
          "2021-07-12T00:00:00",
          "2021-07-13T00:00:00",
          "2021-07-14T00:00:00",
          "2021-07-15T00:00:00",
          "2021-07-16T00:00:00",
          "2021-07-19T00:00:00",
          "2021-07-20T00:00:00",
          "2021-07-23T00:00:00",
          "2021-07-26T00:00:00",
          "2021-07-27T00:00:00",
          "2021-07-28T00:00:00",
          "2021-07-29T00:00:00",
          "2021-08-02T00:00:00",
          "2021-08-03T00:00:00",
          "2021-08-04T00:00:00",
          "2021-08-05T00:00:00",
          "2021-08-06T00:00:00",
          "2021-08-09T00:00:00",
          "2021-08-11T00:00:00",
          "2021-08-12T00:00:00",
          "2021-08-13T00:00:00",
          "2021-08-16T00:00:00",
          "2021-08-17T00:00:00",
          "2021-08-18T00:00:00",
          "2021-08-19T00:00:00",
          "2021-08-23T00:00:00",
          "2021-08-24T00:00:00",
          "2021-08-25T00:00:00",
          "2021-08-26T00:00:00",
          "2021-08-27T00:00:00",
          "2021-08-30T00:00:00",
          "2021-08-31T00:00:00",
          "2021-09-01T00:00:00",
          "2021-09-02T00:00:00",
          "2021-09-03T00:00:00",
          "2021-09-06T00:00:00",
          "2021-09-07T00:00:00",
          "2021-09-08T00:00:00",
          "2021-09-09T00:00:00",
          "2021-09-10T00:00:00",
          "2021-09-13T00:00:00",
          "2021-09-14T00:00:00",
          "2021-09-15T00:00:00",
          "2021-09-16T00:00:00",
          "2021-09-17T00:00:00",
          "2021-09-20T00:00:00",
          "2021-09-21T00:00:00",
          "2021-09-22T00:00:00",
          "2021-09-23T00:00:00",
          "2021-09-24T00:00:00",
          "2021-09-27T00:00:00",
          "2021-09-28T00:00:00",
          "2021-09-29T00:00:00",
          "2021-09-30T00:00:00",
          "2021-10-01T00:00:00",
          "2021-10-04T00:00:00",
          "2021-10-05T00:00:00",
          "2021-10-06T00:00:00",
          "2021-10-07T00:00:00",
          "2021-10-08T00:00:00",
          "2021-10-11T00:00:00",
          "2021-10-12T00:00:00",
          "2021-10-13T00:00:00",
          "2021-10-14T00:00:00",
          "2021-10-15T00:00:00",
          "2021-10-18T00:00:00",
          "2021-10-21T00:00:00",
          "2021-10-22T00:00:00",
          "2021-10-25T00:00:00",
          "2021-10-26T00:00:00",
          "2021-10-27T00:00:00",
          "2021-10-28T00:00:00",
          "2021-10-29T00:00:00",
          "2021-11-01T00:00:00",
          "2021-11-02T00:00:00",
          "2021-11-03T00:00:00",
          "2021-11-04T00:00:00",
          "2021-11-05T00:00:00",
          "2021-11-08T00:00:00",
          "2021-11-09T00:00:00",
          "2021-11-10T00:00:00",
          "2021-11-11T00:00:00",
          "2021-11-12T00:00:00",
          "2021-11-15T00:00:00",
          "2021-11-16T00:00:00",
          "2021-11-17T00:00:00",
          "2021-11-19T00:00:00",
          "2021-11-22T00:00:00",
          "2021-11-23T00:00:00",
          "2021-11-24T00:00:00",
          "2021-11-25T00:00:00",
          "2021-11-26T00:00:00",
          "2021-11-29T00:00:00",
          "2021-11-30T00:00:00",
          "2021-12-01T00:00:00",
          "2021-12-02T00:00:00",
          "2021-12-03T00:00:00",
          "2021-12-06T00:00:00",
          "2021-12-07T00:00:00",
          "2021-12-08T00:00:00",
          "2021-12-09T00:00:00",
          "2021-12-10T00:00:00",
          "2021-12-13T00:00:00",
          "2021-12-14T00:00:00",
          "2021-12-15T00:00:00",
          "2021-12-16T00:00:00",
          "2021-12-17T00:00:00",
          "2021-12-20T00:00:00",
          "2021-12-21T00:00:00",
          "2021-12-22T00:00:00",
          "2021-12-23T00:00:00",
          "2021-12-24T00:00:00",
          "2021-12-27T00:00:00",
          "2021-12-28T00:00:00",
          "2021-12-29T00:00:00",
          "2021-12-30T00:00:00",
          "2021-12-31T00:00:00",
          "2022-01-03T00:00:00",
          "2022-01-04T00:00:00",
          "2022-01-05T00:00:00",
          "2022-01-06T00:00:00",
          "2022-01-07T00:00:00",
          "2022-01-10T00:00:00",
          "2022-01-12T00:00:00",
          "2022-01-13T00:00:00",
          "2022-01-14T00:00:00",
          "2022-01-17T00:00:00",
          "2022-01-18T00:00:00",
          "2022-01-19T00:00:00",
          "2022-01-20T00:00:00",
          "2022-01-21T00:00:00",
          "2022-01-24T00:00:00",
          "2022-01-25T00:00:00",
          "2022-01-26T00:00:00",
          "2022-01-27T00:00:00",
          "2022-01-28T00:00:00",
          "2022-01-31T00:00:00",
          "2022-02-01T00:00:00",
          "2022-02-02T00:00:00",
          "2022-02-03T00:00:00",
          "2022-02-04T00:00:00"
         ],
         "y": [
          0,
          null,
          null,
          null,
          null,
          null,
          null,
          null,
          null,
          null,
          null,
          null,
          null,
          null,
          null,
          null,
          null,
          null,
          null,
          null,
          null,
          null,
          null,
          null,
          null,
          null,
          null,
          null,
          null,
          null,
          null,
          null,
          null,
          null,
          null,
          null,
          null,
          null,
          null,
          null,
          null,
          null,
          null,
          null,
          null,
          null,
          null,
          null,
          null,
          null,
          null,
          null,
          null,
          0,
          0,
          -0.2956638316274508,
          0,
          0,
          0,
          0,
          0,
          0,
          0,
          0,
          0,
          0,
          -0.07979283772743107,
          -0.04136991581723131,
          0,
          -0.019732846250172985,
          0,
          -0.3084154400467837,
          -0.12134330621357789,
          -0.22544340032107404,
          -0.220904298377712,
          -0.17376771735982496,
          -0.21340959543406396,
          -0.08188575206165807,
          -0.17826189160068215,
          -0.07675175920034641,
          0,
          0,
          -0.015857879986233787,
          -0.010647827522059767,
          -0.029559360447036682,
          -0.037255005754654055,
          -0.019087640352563256,
          0,
          0,
          -0.0744799111609865,
          -0.13147983369050442,
          -0.14368218937386007,
          -0.09066996402094375,
          -0.023014307880236597,
          -0.055765737628737974,
          -0.05948559833054242,
          -0.10362077514384928,
          -0.17204892928711019,
          -0.1121997888203533,
          -0.1785015118358593,
          -0.18176282162590962,
          -0.17069209247072248,
          -0.16229206231879245,
          -0.3304314617959653,
          -0.44545689058113674,
          -0.3754538904874094,
          -0.3480627908119397,
          -0.3843014375245973,
          -0.38833245777366054,
          -0.41241753081485094,
          -0.46026734168583006,
          -0.49416758781430664,
          -0.4641685088651511,
          -0.47663045454034236,
          -0.48602273404361557,
          -0.40479510916195505,
          -0.4440546400346393,
          -0.4160652638276498,
          -0.38190635688851277,
          -0.3038218034918975,
          -0.15306889379007282,
          -0.1389278015770869,
          -0.16232121537828578,
          -0.1137351445707319,
          -0.04316151108554986,
          -0.07948180959429615,
          0,
          -0.04737030319318519,
          0,
          -0.02776246362124096,
          0,
          -0.008092850056400713,
          -0.018753971813374612,
          0,
          -0.006932948712598003,
          -0.05776310510125803,
          -0.028198856032230404,
          0,
          -0.008472400204419108,
          -0.08382468457912133,
          -0.07324640733691865,
          -0.06521320222484793,
          -0.01592862352850178,
          -0.08640429598174773,
          -0.06481465791165397,
          -0.04043391326901684,
          0,
          -0.06871897734564125,
          -0.06582861655397339,
          -0.054918355461231305,
          -0.059837283450966165,
          -0.05420162874488113,
          0,
          -0.052979838719800436,
          -0.059629487815126996,
          -0.03484123683199228,
          0,
          0,
          -0.006913047847023979,
          0,
          0,
          -0.007006038350533025,
          -0.061353270172434596,
          -0.07741261329444894,
          -0.09284248698248034,
          -0.08006945000920652,
          -0.0669301884562487,
          -0.003169323324713311,
          -0.034640383006858504,
          -0.024600563286367914,
          -0.006399617078902627,
          0,
          0,
          -0.006452108846657537,
          -0.0033749415321309086,
          -0.0001311885570528065,
          0,
          0,
          -0.0069059858611240765,
          0,
          -0.012562715940354928,
          -0.038124163529581756,
          -0.008730504943753178,
          -0.005158825604601429,
          -0.03841910905536188,
          -0.08814090627668522,
          -0.08042515693257572,
          -0.10599551477918343,
          -0.1252311064661581,
          -0.13154260991789596,
          -0.1511398406739275,
          -0.1507513641230574,
          -0.1685653695964106,
          -0.15447393093451556,
          -0.12727833147053944,
          -0.12136661579461247,
          -0.14523543461034383,
          -0.12708476013053846,
          -0.13577231443242205,
          -0.19096767742777188,
          -0.25584118058456373,
          -0.2633723755557223,
          -0.21812128663690233,
          -0.18545713675335368,
          -0.18834085885491045,
          -0.21368120400946997,
          -0.18707613585507055,
          -0.18548653526722847,
          -0.16075801000125903,
          -0.12761670783170254,
          -0.15740695290326262,
          -0.15853556771998573,
          -0.16431624392208652,
          -0.165113045022307,
          -0.14687124048496875,
          -0.1734229004499112,
          -0.1792934261935134,
          -0.19661059144688162,
          -0.1755562401573701,
          -0.17957375249460839,
          -0.18280038611827157,
          -0.15857254262038017,
          -0.10126635565778243,
          -0.09303301106302317,
          -0.11774227523369352,
          -0.15083955966468868,
          -0.16033896113015458,
          -0.15386163085241628,
          -0.11216765540289539,
          -0.054287050290777315,
          -0.049456090144916316,
          -0.02547335875727026,
          0,
          0,
          -0.006502363923296933,
          -0.00781731098351337,
          -0.022407092221908845,
          -0.0032306967743133365,
          -0.00024034029646985785,
          -0.01481266584706802,
          -0.03735709538124589,
          -0.02982450926676016,
          -0.024256241033524792,
          0,
          0,
          -0.009357799537869905,
          0,
          0,
          0
         ]
        }
       ],
       "layout": {
        "legend": {
         "font": {
          "size": 10
         },
         "traceorder": "normal",
         "x": 0,
         "y": 1
        },
        "template": {
         "data": {
          "bar": [
           {
            "error_x": {
             "color": "#2a3f5f"
            },
            "error_y": {
             "color": "#2a3f5f"
            },
            "marker": {
             "line": {
              "color": "#E5ECF6",
              "width": 0.5
             },
             "pattern": {
              "fillmode": "overlay",
              "size": 10,
              "solidity": 0.2
             }
            },
            "type": "bar"
           }
          ],
          "barpolar": [
           {
            "marker": {
             "line": {
              "color": "#E5ECF6",
              "width": 0.5
             },
             "pattern": {
              "fillmode": "overlay",
              "size": 10,
              "solidity": 0.2
             }
            },
            "type": "barpolar"
           }
          ],
          "carpet": [
           {
            "aaxis": {
             "endlinecolor": "#2a3f5f",
             "gridcolor": "white",
             "linecolor": "white",
             "minorgridcolor": "white",
             "startlinecolor": "#2a3f5f"
            },
            "baxis": {
             "endlinecolor": "#2a3f5f",
             "gridcolor": "white",
             "linecolor": "white",
             "minorgridcolor": "white",
             "startlinecolor": "#2a3f5f"
            },
            "type": "carpet"
           }
          ],
          "choropleth": [
           {
            "colorbar": {
             "outlinewidth": 0,
             "ticks": ""
            },
            "type": "choropleth"
           }
          ],
          "contour": [
           {
            "colorbar": {
             "outlinewidth": 0,
             "ticks": ""
            },
            "colorscale": [
             [
              0,
              "#0d0887"
             ],
             [
              0.1111111111111111,
              "#46039f"
             ],
             [
              0.2222222222222222,
              "#7201a8"
             ],
             [
              0.3333333333333333,
              "#9c179e"
             ],
             [
              0.4444444444444444,
              "#bd3786"
             ],
             [
              0.5555555555555556,
              "#d8576b"
             ],
             [
              0.6666666666666666,
              "#ed7953"
             ],
             [
              0.7777777777777778,
              "#fb9f3a"
             ],
             [
              0.8888888888888888,
              "#fdca26"
             ],
             [
              1,
              "#f0f921"
             ]
            ],
            "type": "contour"
           }
          ],
          "contourcarpet": [
           {
            "colorbar": {
             "outlinewidth": 0,
             "ticks": ""
            },
            "type": "contourcarpet"
           }
          ],
          "heatmap": [
           {
            "colorbar": {
             "outlinewidth": 0,
             "ticks": ""
            },
            "colorscale": [
             [
              0,
              "#0d0887"
             ],
             [
              0.1111111111111111,
              "#46039f"
             ],
             [
              0.2222222222222222,
              "#7201a8"
             ],
             [
              0.3333333333333333,
              "#9c179e"
             ],
             [
              0.4444444444444444,
              "#bd3786"
             ],
             [
              0.5555555555555556,
              "#d8576b"
             ],
             [
              0.6666666666666666,
              "#ed7953"
             ],
             [
              0.7777777777777778,
              "#fb9f3a"
             ],
             [
              0.8888888888888888,
              "#fdca26"
             ],
             [
              1,
              "#f0f921"
             ]
            ],
            "type": "heatmap"
           }
          ],
          "heatmapgl": [
           {
            "colorbar": {
             "outlinewidth": 0,
             "ticks": ""
            },
            "colorscale": [
             [
              0,
              "#0d0887"
             ],
             [
              0.1111111111111111,
              "#46039f"
             ],
             [
              0.2222222222222222,
              "#7201a8"
             ],
             [
              0.3333333333333333,
              "#9c179e"
             ],
             [
              0.4444444444444444,
              "#bd3786"
             ],
             [
              0.5555555555555556,
              "#d8576b"
             ],
             [
              0.6666666666666666,
              "#ed7953"
             ],
             [
              0.7777777777777778,
              "#fb9f3a"
             ],
             [
              0.8888888888888888,
              "#fdca26"
             ],
             [
              1,
              "#f0f921"
             ]
            ],
            "type": "heatmapgl"
           }
          ],
          "histogram": [
           {
            "marker": {
             "pattern": {
              "fillmode": "overlay",
              "size": 10,
              "solidity": 0.2
             }
            },
            "type": "histogram"
           }
          ],
          "histogram2d": [
           {
            "colorbar": {
             "outlinewidth": 0,
             "ticks": ""
            },
            "colorscale": [
             [
              0,
              "#0d0887"
             ],
             [
              0.1111111111111111,
              "#46039f"
             ],
             [
              0.2222222222222222,
              "#7201a8"
             ],
             [
              0.3333333333333333,
              "#9c179e"
             ],
             [
              0.4444444444444444,
              "#bd3786"
             ],
             [
              0.5555555555555556,
              "#d8576b"
             ],
             [
              0.6666666666666666,
              "#ed7953"
             ],
             [
              0.7777777777777778,
              "#fb9f3a"
             ],
             [
              0.8888888888888888,
              "#fdca26"
             ],
             [
              1,
              "#f0f921"
             ]
            ],
            "type": "histogram2d"
           }
          ],
          "histogram2dcontour": [
           {
            "colorbar": {
             "outlinewidth": 0,
             "ticks": ""
            },
            "colorscale": [
             [
              0,
              "#0d0887"
             ],
             [
              0.1111111111111111,
              "#46039f"
             ],
             [
              0.2222222222222222,
              "#7201a8"
             ],
             [
              0.3333333333333333,
              "#9c179e"
             ],
             [
              0.4444444444444444,
              "#bd3786"
             ],
             [
              0.5555555555555556,
              "#d8576b"
             ],
             [
              0.6666666666666666,
              "#ed7953"
             ],
             [
              0.7777777777777778,
              "#fb9f3a"
             ],
             [
              0.8888888888888888,
              "#fdca26"
             ],
             [
              1,
              "#f0f921"
             ]
            ],
            "type": "histogram2dcontour"
           }
          ],
          "mesh3d": [
           {
            "colorbar": {
             "outlinewidth": 0,
             "ticks": ""
            },
            "type": "mesh3d"
           }
          ],
          "parcoords": [
           {
            "line": {
             "colorbar": {
              "outlinewidth": 0,
              "ticks": ""
             }
            },
            "type": "parcoords"
           }
          ],
          "pie": [
           {
            "automargin": true,
            "type": "pie"
           }
          ],
          "scatter": [
           {
            "fillpattern": {
             "fillmode": "overlay",
             "size": 10,
             "solidity": 0.2
            },
            "type": "scatter"
           }
          ],
          "scatter3d": [
           {
            "line": {
             "colorbar": {
              "outlinewidth": 0,
              "ticks": ""
             }
            },
            "marker": {
             "colorbar": {
              "outlinewidth": 0,
              "ticks": ""
             }
            },
            "type": "scatter3d"
           }
          ],
          "scattercarpet": [
           {
            "marker": {
             "colorbar": {
              "outlinewidth": 0,
              "ticks": ""
             }
            },
            "type": "scattercarpet"
           }
          ],
          "scattergeo": [
           {
            "marker": {
             "colorbar": {
              "outlinewidth": 0,
              "ticks": ""
             }
            },
            "type": "scattergeo"
           }
          ],
          "scattergl": [
           {
            "marker": {
             "colorbar": {
              "outlinewidth": 0,
              "ticks": ""
             }
            },
            "type": "scattergl"
           }
          ],
          "scattermapbox": [
           {
            "marker": {
             "colorbar": {
              "outlinewidth": 0,
              "ticks": ""
             }
            },
            "type": "scattermapbox"
           }
          ],
          "scatterpolar": [
           {
            "marker": {
             "colorbar": {
              "outlinewidth": 0,
              "ticks": ""
             }
            },
            "type": "scatterpolar"
           }
          ],
          "scatterpolargl": [
           {
            "marker": {
             "colorbar": {
              "outlinewidth": 0,
              "ticks": ""
             }
            },
            "type": "scatterpolargl"
           }
          ],
          "scatterternary": [
           {
            "marker": {
             "colorbar": {
              "outlinewidth": 0,
              "ticks": ""
             }
            },
            "type": "scatterternary"
           }
          ],
          "surface": [
           {
            "colorbar": {
             "outlinewidth": 0,
             "ticks": ""
            },
            "colorscale": [
             [
              0,
              "#0d0887"
             ],
             [
              0.1111111111111111,
              "#46039f"
             ],
             [
              0.2222222222222222,
              "#7201a8"
             ],
             [
              0.3333333333333333,
              "#9c179e"
             ],
             [
              0.4444444444444444,
              "#bd3786"
             ],
             [
              0.5555555555555556,
              "#d8576b"
             ],
             [
              0.6666666666666666,
              "#ed7953"
             ],
             [
              0.7777777777777778,
              "#fb9f3a"
             ],
             [
              0.8888888888888888,
              "#fdca26"
             ],
             [
              1,
              "#f0f921"
             ]
            ],
            "type": "surface"
           }
          ],
          "table": [
           {
            "cells": {
             "fill": {
              "color": "#EBF0F8"
             },
             "line": {
              "color": "white"
             }
            },
            "header": {
             "fill": {
              "color": "#C8D4E3"
             },
             "line": {
              "color": "white"
             }
            },
            "type": "table"
           }
          ]
         },
         "layout": {
          "annotationdefaults": {
           "arrowcolor": "#2a3f5f",
           "arrowhead": 0,
           "arrowwidth": 1
          },
          "autotypenumbers": "strict",
          "coloraxis": {
           "colorbar": {
            "outlinewidth": 0,
            "ticks": ""
           }
          },
          "colorscale": {
           "diverging": [
            [
             0,
             "#8e0152"
            ],
            [
             0.1,
             "#c51b7d"
            ],
            [
             0.2,
             "#de77ae"
            ],
            [
             0.3,
             "#f1b6da"
            ],
            [
             0.4,
             "#fde0ef"
            ],
            [
             0.5,
             "#f7f7f7"
            ],
            [
             0.6,
             "#e6f5d0"
            ],
            [
             0.7,
             "#b8e186"
            ],
            [
             0.8,
             "#7fbc41"
            ],
            [
             0.9,
             "#4d9221"
            ],
            [
             1,
             "#276419"
            ]
           ],
           "sequential": [
            [
             0,
             "#0d0887"
            ],
            [
             0.1111111111111111,
             "#46039f"
            ],
            [
             0.2222222222222222,
             "#7201a8"
            ],
            [
             0.3333333333333333,
             "#9c179e"
            ],
            [
             0.4444444444444444,
             "#bd3786"
            ],
            [
             0.5555555555555556,
             "#d8576b"
            ],
            [
             0.6666666666666666,
             "#ed7953"
            ],
            [
             0.7777777777777778,
             "#fb9f3a"
            ],
            [
             0.8888888888888888,
             "#fdca26"
            ],
            [
             1,
             "#f0f921"
            ]
           ],
           "sequentialminus": [
            [
             0,
             "#0d0887"
            ],
            [
             0.1111111111111111,
             "#46039f"
            ],
            [
             0.2222222222222222,
             "#7201a8"
            ],
            [
             0.3333333333333333,
             "#9c179e"
            ],
            [
             0.4444444444444444,
             "#bd3786"
            ],
            [
             0.5555555555555556,
             "#d8576b"
            ],
            [
             0.6666666666666666,
             "#ed7953"
            ],
            [
             0.7777777777777778,
             "#fb9f3a"
            ],
            [
             0.8888888888888888,
             "#fdca26"
            ],
            [
             1,
             "#f0f921"
            ]
           ]
          },
          "colorway": [
           "#636efa",
           "#EF553B",
           "#00cc96",
           "#ab63fa",
           "#FFA15A",
           "#19d3f3",
           "#FF6692",
           "#B6E880",
           "#FF97FF",
           "#FECB52"
          ],
          "font": {
           "color": "#2a3f5f"
          },
          "geo": {
           "bgcolor": "white",
           "lakecolor": "white",
           "landcolor": "#E5ECF6",
           "showlakes": true,
           "showland": true,
           "subunitcolor": "white"
          },
          "hoverlabel": {
           "align": "left"
          },
          "hovermode": "closest",
          "mapbox": {
           "style": "light"
          },
          "paper_bgcolor": "white",
          "plot_bgcolor": "#E5ECF6",
          "polar": {
           "angularaxis": {
            "gridcolor": "white",
            "linecolor": "white",
            "ticks": ""
           },
           "bgcolor": "#E5ECF6",
           "radialaxis": {
            "gridcolor": "white",
            "linecolor": "white",
            "ticks": ""
           }
          },
          "scene": {
           "xaxis": {
            "backgroundcolor": "#E5ECF6",
            "gridcolor": "white",
            "gridwidth": 2,
            "linecolor": "white",
            "showbackground": true,
            "ticks": "",
            "zerolinecolor": "white"
           },
           "yaxis": {
            "backgroundcolor": "#E5ECF6",
            "gridcolor": "white",
            "gridwidth": 2,
            "linecolor": "white",
            "showbackground": true,
            "ticks": "",
            "zerolinecolor": "white"
           },
           "zaxis": {
            "backgroundcolor": "#E5ECF6",
            "gridcolor": "white",
            "gridwidth": 2,
            "linecolor": "white",
            "showbackground": true,
            "ticks": "",
            "zerolinecolor": "white"
           }
          },
          "shapedefaults": {
           "line": {
            "color": "#2a3f5f"
           }
          },
          "ternary": {
           "aaxis": {
            "gridcolor": "white",
            "linecolor": "white",
            "ticks": ""
           },
           "baxis": {
            "gridcolor": "white",
            "linecolor": "white",
            "ticks": ""
           },
           "bgcolor": "#E5ECF6",
           "caxis": {
            "gridcolor": "white",
            "linecolor": "white",
            "ticks": ""
           }
          },
          "title": {
           "x": 0.05
          },
          "xaxis": {
           "automargin": true,
           "gridcolor": "white",
           "linecolor": "white",
           "ticks": "",
           "title": {
            "standoff": 15
           },
           "zerolinecolor": "white",
           "zerolinewidth": 2
          },
          "yaxis": {
           "automargin": true,
           "gridcolor": "white",
           "linecolor": "white",
           "ticks": "",
           "title": {
            "standoff": 15
           },
           "zerolinecolor": "white",
           "zerolinewidth": 2
          }
         }
        },
        "title": {
         "text": "KMeans (Euclidean Metric) Portfolio Drawdown Comparison"
        },
        "xaxis": {
         "title": {
          "text": "Date"
         }
        },
        "yaxis": {
         "title": {
          "text": "Maximum Drawdown"
         }
        }
       }
      }
     },
     "metadata": {},
     "output_type": "display_data"
    }
   ],
   "source": [
    "# Create traces\n",
    "kmeans_trace = go.Scatter(x=kmeans_portfolio_returns.index, y=maximum_drawdown(kmeans_portfolio_returns), mode='lines', name='KMeans (Euclidean Metric) Portfolio Drawdown', line=dict(color='orange'))\n",
    "masi_trace = go.Scatter(x=benchmark_cumulative_returns.index, y=maximum_drawdown(benchmark_cumulative_returns), mode='lines', name='MASI Drawdown', line=dict(dash='dash', color='red'))\n",
    "\n",
    "# Layout\n",
    "layout = go.Layout(\n",
    "    title='KMeans (Euclidean Metric) Portfolio Drawdown Comparison',\n",
    "    xaxis=dict(title='Date'),\n",
    "    yaxis=dict(title='Maximum Drawdown'),\n",
    "    legend=dict(x=0, y=1, traceorder='normal', font=dict(size=10))\n",
    ")\n",
    "\n",
    "# Create figure\n",
    "fig = go.Figure(data=[kmeans_trace, masi_trace], layout=layout)\n",
    "\n",
    "# Show plot\n",
    "fig.show()"
   ]
  },
  {
   "cell_type": "markdown",
   "metadata": {},
   "source": [
    "Throughout the testing period, the KMeans portfolio shows a more pronounced drawdown, particularly notable in May 2021, where it dips to nearly -2.5%. This indicates significant losses during that time, reflecting the challenges of asset selection and weight allocation inherent in the KMeans strategy. \n",
    "\n",
    "The MASI Index, while also experiencing drawdowns, maintains a relatively tighter range and demonstrates more stability compared to the KMeans portfolio. This suggests that the KMeans portfolio is more volatile, with larger fluctuations in value.\n",
    "\n",
    "As the portfolio approaches the end of 2021, the drawdown levels for the KMeans portfolio stabilize, indicating an improved recovery from earlier losses. However, the higher drawdown levels throughout the testing period highlight the inherent risks associated with this clustering approach, suggesting that while KMeans can provide robust returns, it also exposes investors to greater volatility and potential losses during downturns."
   ]
  },
  {
   "cell_type": "markdown",
   "metadata": {
    "slideshow": {
     "slide_type": "slide"
    }
   },
   "source": [
    "# K-Means With Dynamic Time Warping (DTW) Portfolio\n",
    "\n",
    "In this section, we extend our previous analysis by applying K-means clustering using the Dynamic Time Warping (DTW) distance metric. Unlike the Euclidean metric, DTW is particularly effective for time series data as it accounts for shifts and distortions in the temporal sequences of asset returns. This allows us to group assets based on their patterns of movement over time, rather than just their absolute return values.\n",
    "\n",
    "By clustering assets with DTW, we aim to construct a portfolio that captures the underlying dynamics of asset prices more accurately. After performing the clustering, we will select representative assets from each cluster and optimize their weights to maximize the Sharpe Ratio, similar to our earlier approach. This methodology not only enhances diversification but also leverages the temporal relationships between assets, potentially improving overall portfolio performance."
   ]
  },
  {
   "cell_type": "markdown",
   "metadata": {},
   "source": [
    "To prepare the data for K-means clustering using Dynamic Time Warping, we first resample the training returns to a weekly frequency. By taking the mean of each week, we reduce noise and make the dataset more manageable, while still preserving the overall trends in asset returns."
   ]
  },
  {
   "cell_type": "code",
   "execution_count": 41,
   "metadata": {},
   "outputs": [],
   "source": [
    "# Resample the training returns to weekly frequency by taking the mean of each week\n",
    "train_returns_resampled = train_returns.T.resample('W').mean().dropna()\n",
    "\n",
    "# Standardize the weekly returns after resampling (z-score normalization)\n",
    "scaled_returns = StandardScaler().fit_transform(train_returns_resampled.T)"
   ]
  },
  {
   "cell_type": "code",
   "execution_count": 42,
   "metadata": {},
   "outputs": [
    {
     "name": "stdout",
     "output_type": "stream",
     "text": [
      "Best Sharpe Ratio: -1.4428154743835477e-05\n",
      "Optimal Parameters: {'n_assets_per_cluster': 3, 'n_clusters': 4}\n"
     ]
    }
   ],
   "source": [
    "# Define the parameter grid for the number of clusters and assets per cluster\n",
    "param_grid = {\n",
    "    'n_clusters': range(3, 10),  # Define a reasonable range for clusters\n",
    "    'n_assets_per_cluster': range(3, 15)  # Define a range for assets per cluster\n",
    "}\n",
    "\n",
    "# Create a grid of all possible parameter combinations\n",
    "grid = ParameterGrid(param_grid)\n",
    "\n",
    "# Initialize variables to track the best Sharpe Ratio and corresponding parameters\n",
    "best_sharpe_ratio = float('inf')  # We use infinity to ensure any found Sharpe Ratio will be smaller\n",
    "best_params = None  # Placeholder for the best parameters\n",
    "\n",
    "# Iterate through each combination of parameters in the grid\n",
    "for params in grid:\n",
    "    n_clusters = params['n_clusters']\n",
    "    n_assets_per_cluster = params['n_assets_per_cluster']\n",
    "    \n",
    "    # Compute the negative Sharpe Ratio for the current parameter combination using Dynamic Time Warping (DTW) metric\n",
    "    sharpe_ratio_value = objective_function(n_clusters, n_assets_per_cluster, scaled_returns, \"dtw\")\n",
    "    \n",
    "    # Update the best Sharpe Ratio and parameters if a better combination is found\n",
    "    if sharpe_ratio_value < best_sharpe_ratio:\n",
    "        best_sharpe_ratio = sharpe_ratio_value\n",
    "        best_params = params\n",
    "\n",
    "# Print the best Sharpe Ratio (converted back to positive) and the corresponding optimal parameters\n",
    "print(f\"Best Sharpe Ratio: {-best_sharpe_ratio}\")\n",
    "print(f\"Optimal Parameters: {best_params}\")"
   ]
  },
  {
   "cell_type": "markdown",
   "metadata": {},
   "source": [
    "Once the data has been standardized and hyperparameters have been defined, we proceed to apply KMeans clustering using Dynamic Time Warping to group the assets based on their historical returns. Clustering with DTW allows us to capture the temporal relationships between assets, providing a more nuanced understanding of their return patterns."
   ]
  },
  {
   "cell_type": "code",
   "execution_count": 43,
   "metadata": {
    "slideshow": {
     "slide_type": "subslide"
    }
   },
   "outputs": [],
   "source": [
    "# Step 2: Apply KMeans Clustering using the Dynamic Time Warping (DTW) metric\n",
    "n_clusters = 4  # Set the number of clusters to use for KMeans\n",
    "kmeans = TimeSeriesKMeans(n_clusters=n_clusters, metric=\"dtw\", random_state=42)\n",
    "\n",
    "# Fit the KMeans model to the scaled returns and assign each asset to a cluster\n",
    "clusters = kmeans.fit_predict(scaled_returns)  # Transposed to cluster assets instead of time periods"
   ]
  },
  {
   "cell_type": "code",
   "execution_count": 44,
   "metadata": {},
   "outputs": [
    {
     "name": "stdout",
     "output_type": "stream",
     "text": [
      "         Instrument\n",
      "Cluster            \n",
      "0                 7\n",
      "1                32\n",
      "2                21\n",
      "3                 9\n"
     ]
    }
   ],
   "source": [
    "# Create a DataFrame to associate each asset with its assigned cluster\n",
    "cluster_df = pd.DataFrame({\n",
    "    'Instrument': train_returns_resampled.columns,  # Asset names (columns of the resampled returns)\n",
    "    'Cluster': clusters  # Cluster assignments from KMeans\n",
    "})\n",
    "\n",
    "# Print the count of assets in each cluster\n",
    "print(cluster_df.groupby('Cluster').count())"
   ]
  },
  {
   "cell_type": "code",
   "execution_count": 45,
   "metadata": {},
   "outputs": [
    {
     "name": "stdout",
     "output_type": "stream",
     "text": [
      "Selected Assets: ['Addoha', 'Cartier Saada', 'Timar', 'INVOLYS', 'Risma', 'Med Paper', 'Ste Boissons', 'Jet Contractors', 'Saham Assurance', 'Lesieur Cristal', 'CMT', 'Colorado', 'AFMA', 'Rebab Company', 'Maroc Telecom', 'Afric Indus', 'COSUMAR', 'BCP', 'Sonasid', 'Delattre Lev', 'Res.Dar Saada', 'Alliances', 'STROC Indus', 'FENIE BROSSETTE']\n"
     ]
    }
   ],
   "source": [
    "# Step 3: Select Assets from Each Cluster\n",
    "n_assets_per_cluster = 6  # Define the number of assets to select from each cluster\n",
    "selected_assets = []\n",
    "\n",
    "for cluster in range(n_clusters):\n",
    "    # Get the assets belonging to the current cluster\n",
    "    cluster_assets = cluster_df[cluster_df['Cluster'] == cluster]['Instrument']\n",
    "    \n",
    "    # Determine the number of assets available in the current cluster\n",
    "    n_assets_in_cluster = len(cluster_assets)\n",
    "    \n",
    "    # If the cluster contains fewer assets than needed, select all assets from the cluster\n",
    "    if n_assets_per_cluster > n_assets_in_cluster:\n",
    "        selected_assets.extend(cluster_assets.values)\n",
    "    else:\n",
    "        # Randomly select the specified number of assets from the current cluster\n",
    "        selected_assets.extend(cluster_assets.sample(n=n_assets_per_cluster, random_state=42).values)\n",
    "\n",
    "# Print the final list of selected assets from all clusters\n",
    "print(\"Selected Assets:\", selected_assets)"
   ]
  },
  {
   "cell_type": "code",
   "execution_count": 46,
   "metadata": {},
   "outputs": [
    {
     "name": "stdout",
     "output_type": "stream",
     "text": [
      "Optimized Weights: [0.001      0.05302953 0.001      0.06576776 0.001      0.03361686\n",
      " 0.08175674 0.08231999 0.03664512 0.06612375 0.00501535 0.04300035\n",
      " 0.22628596 0.001      0.001      0.07458222 0.001      0.001\n",
      " 0.12366488 0.001      0.001      0.001      0.04758538 0.05060612]\n",
      "Optimized Sharpe Ratio: 0.0035235493017717616\n"
     ]
    }
   ],
   "source": [
    "# Step 4: Create the Portfolio with Selected Assets\n",
    "# Calculate daily returns for the selected assets and drop missing values\n",
    "selected_returns = stocks[selected_assets].pct_change().dropna()\n",
    "\n",
    "# Define initial equal weights for the selected assets\n",
    "initial_weights = np.array([1 / len(selected_assets)] * len(selected_assets))\n",
    "\n",
    "# Define bounds for the weights (each weight between 0.001 and 1) and a constraint that the weights must sum to 1\n",
    "bounds = [(0.001, 1)] * len(selected_assets)\n",
    "constraints = ({'type': 'eq', 'fun': lambda x: np.sum(x) - 1})\n",
    "\n",
    "# Optimize the portfolio for maximum Sharpe Ratio using the selected assets' returns\n",
    "result = minimize(sharpe_ratio, initial_weights, args=(selected_returns, 0.02),\n",
    "                  bounds=bounds, method='SLSQP', constraints=constraints)\n",
    "\n",
    "# Extract the optimized portfolio weights from the optimization result\n",
    "optimized_weights = result.x\n",
    "\n",
    "# Print the optimized weights and the Sharpe Ratio of the optimized portfolio\n",
    "print(\"Optimized Weights:\", optimized_weights)\n",
    "optimized_sharpe_ratio = -result.fun  # Convert back to positive since it was negated for optimization\n",
    "print(\"Optimized Sharpe Ratio:\", optimized_sharpe_ratio)"
   ]
  },
  {
   "cell_type": "code",
   "execution_count": 47,
   "metadata": {},
   "outputs": [
    {
     "name": "stdout",
     "output_type": "stream",
     "text": [
      "Portfolio Composition:\n",
      "               Asset    Weight\n",
      "0            Addoha  0.001000\n",
      "1     Cartier Saada  0.053030\n",
      "2             Timar  0.001000\n",
      "3           INVOLYS  0.065768\n",
      "4             Risma  0.001000\n",
      "5         Med Paper  0.033617\n",
      "6      Ste Boissons  0.081757\n",
      "7   Jet Contractors  0.082320\n",
      "8   Saham Assurance  0.036645\n",
      "9   Lesieur Cristal  0.066124\n",
      "10              CMT  0.005015\n",
      "11         Colorado  0.043000\n",
      "12             AFMA  0.226286\n",
      "13    Rebab Company  0.001000\n",
      "14    Maroc Telecom  0.001000\n",
      "15      Afric Indus  0.074582\n",
      "16          COSUMAR  0.001000\n",
      "17              BCP  0.001000\n",
      "18          Sonasid  0.123665\n",
      "19     Delattre Lev  0.001000\n",
      "20    Res.Dar Saada  0.001000\n",
      "21        Alliances  0.001000\n",
      "22      STROC Indus  0.047585\n",
      "23  FENIE BROSSETTE  0.050606\n"
     ]
    }
   ],
   "source": [
    "# Show the selected assets and their corresponding optimized weights\n",
    "portfolio = pd.DataFrame({\n",
    "    'Asset': selected_assets,  # List of selected assets\n",
    "    'Weight': optimized_weights  # Corresponding optimized weights\n",
    "})\n",
    "\n",
    "# Print the portfolio composition (assets and their weights)\n",
    "print(\"Portfolio Composition:\\n\", portfolio)"
   ]
  },
  {
   "cell_type": "markdown",
   "metadata": {},
   "source": [
    "## Backtesting the K-Means DTW Portfolio"
   ]
  },
  {
   "cell_type": "code",
   "execution_count": 48,
   "metadata": {},
   "outputs": [
    {
     "name": "stdout",
     "output_type": "stream",
     "text": [
      "The cumulative return for the KMeans Portfolio (DTW Metric) over the entire testing period: 45.00%\n"
     ]
    }
   ],
   "source": [
    "# Calculate the cumulative returns for the KMeans-optimized portfolio over the testing period\n",
    "kmeans_portfolio_returns = cumulative_returns(optimized_weights, test[selected_assets])\n",
    "\n",
    "print(f\"The cumulative return for the KMeans Portfolio (DTW Metric) over the entire testing period: {kmeans_portfolio_returns[-1] * 100:.2f}%\")"
   ]
  },
  {
   "cell_type": "code",
   "execution_count": 49,
   "metadata": {},
   "outputs": [
    {
     "data": {
      "application/vnd.plotly.v1+json": {
       "config": {
        "plotlyServerURL": "https://plot.ly"
       },
       "data": [
        {
         "line": {
          "color": "green"
         },
         "mode": "lines",
         "name": "KMeans (DTW) Portfolio",
         "type": "scatter",
         "x": [
          "2021-02-08T00:00:00",
          "2021-02-09T00:00:00",
          "2021-02-10T00:00:00",
          "2021-02-11T00:00:00",
          "2021-02-12T00:00:00",
          "2021-02-15T00:00:00",
          "2021-02-16T00:00:00",
          "2021-02-17T00:00:00",
          "2021-02-18T00:00:00",
          "2021-02-19T00:00:00",
          "2021-02-22T00:00:00",
          "2021-02-23T00:00:00",
          "2021-02-24T00:00:00",
          "2021-02-25T00:00:00",
          "2021-02-26T00:00:00",
          "2021-03-01T00:00:00",
          "2021-03-02T00:00:00",
          "2021-03-03T00:00:00",
          "2021-03-04T00:00:00",
          "2021-03-05T00:00:00",
          "2021-03-08T00:00:00",
          "2021-03-09T00:00:00",
          "2021-03-10T00:00:00",
          "2021-03-11T00:00:00",
          "2021-03-12T00:00:00",
          "2021-03-15T00:00:00",
          "2021-03-16T00:00:00",
          "2021-03-17T00:00:00",
          "2021-03-18T00:00:00",
          "2021-03-19T00:00:00",
          "2021-03-22T00:00:00",
          "2021-03-23T00:00:00",
          "2021-03-24T00:00:00",
          "2021-03-25T00:00:00",
          "2021-03-26T00:00:00",
          "2021-03-29T00:00:00",
          "2021-03-30T00:00:00",
          "2021-03-31T00:00:00",
          "2021-04-01T00:00:00",
          "2021-04-02T00:00:00",
          "2021-04-05T00:00:00",
          "2021-04-06T00:00:00",
          "2021-04-07T00:00:00",
          "2021-04-08T00:00:00",
          "2021-04-09T00:00:00",
          "2021-04-12T00:00:00",
          "2021-04-13T00:00:00",
          "2021-04-14T00:00:00",
          "2021-04-15T00:00:00",
          "2021-04-16T00:00:00",
          "2021-04-19T00:00:00",
          "2021-04-20T00:00:00",
          "2021-04-21T00:00:00",
          "2021-04-22T00:00:00",
          "2021-04-23T00:00:00",
          "2021-04-26T00:00:00",
          "2021-04-27T00:00:00",
          "2021-04-28T00:00:00",
          "2021-04-29T00:00:00",
          "2021-04-30T00:00:00",
          "2021-05-03T00:00:00",
          "2021-05-04T00:00:00",
          "2021-05-05T00:00:00",
          "2021-05-06T00:00:00",
          "2021-05-07T00:00:00",
          "2021-05-10T00:00:00",
          "2021-05-11T00:00:00",
          "2021-05-12T00:00:00",
          "2021-05-17T00:00:00",
          "2021-05-18T00:00:00",
          "2021-05-19T00:00:00",
          "2021-05-20T00:00:00",
          "2021-05-21T00:00:00",
          "2021-05-24T00:00:00",
          "2021-05-25T00:00:00",
          "2021-05-26T00:00:00",
          "2021-05-27T00:00:00",
          "2021-05-28T00:00:00",
          "2021-05-31T00:00:00",
          "2021-06-01T00:00:00",
          "2021-06-02T00:00:00",
          "2021-06-03T00:00:00",
          "2021-06-04T00:00:00",
          "2021-06-07T00:00:00",
          "2021-06-08T00:00:00",
          "2021-06-09T00:00:00",
          "2021-06-10T00:00:00",
          "2021-06-11T00:00:00",
          "2021-06-14T00:00:00",
          "2021-06-15T00:00:00",
          "2021-06-16T00:00:00",
          "2021-06-17T00:00:00",
          "2021-06-18T00:00:00",
          "2021-06-21T00:00:00",
          "2021-06-22T00:00:00",
          "2021-06-23T00:00:00",
          "2021-06-24T00:00:00",
          "2021-06-25T00:00:00",
          "2021-06-28T00:00:00",
          "2021-06-29T00:00:00",
          "2021-06-30T00:00:00",
          "2021-07-01T00:00:00",
          "2021-07-02T00:00:00",
          "2021-07-05T00:00:00",
          "2021-07-06T00:00:00",
          "2021-07-07T00:00:00",
          "2021-07-08T00:00:00",
          "2021-07-09T00:00:00",
          "2021-07-12T00:00:00",
          "2021-07-13T00:00:00",
          "2021-07-14T00:00:00",
          "2021-07-15T00:00:00",
          "2021-07-16T00:00:00",
          "2021-07-19T00:00:00",
          "2021-07-20T00:00:00",
          "2021-07-23T00:00:00",
          "2021-07-26T00:00:00",
          "2021-07-27T00:00:00",
          "2021-07-28T00:00:00",
          "2021-07-29T00:00:00",
          "2021-08-02T00:00:00",
          "2021-08-03T00:00:00",
          "2021-08-04T00:00:00",
          "2021-08-05T00:00:00",
          "2021-08-06T00:00:00",
          "2021-08-09T00:00:00",
          "2021-08-11T00:00:00",
          "2021-08-12T00:00:00",
          "2021-08-13T00:00:00",
          "2021-08-16T00:00:00",
          "2021-08-17T00:00:00",
          "2021-08-18T00:00:00",
          "2021-08-19T00:00:00",
          "2021-08-23T00:00:00",
          "2021-08-24T00:00:00",
          "2021-08-25T00:00:00",
          "2021-08-26T00:00:00",
          "2021-08-27T00:00:00",
          "2021-08-30T00:00:00",
          "2021-08-31T00:00:00",
          "2021-09-01T00:00:00",
          "2021-09-02T00:00:00",
          "2021-09-03T00:00:00",
          "2021-09-06T00:00:00",
          "2021-09-07T00:00:00",
          "2021-09-08T00:00:00",
          "2021-09-09T00:00:00",
          "2021-09-10T00:00:00",
          "2021-09-13T00:00:00",
          "2021-09-14T00:00:00",
          "2021-09-15T00:00:00",
          "2021-09-16T00:00:00",
          "2021-09-17T00:00:00",
          "2021-09-20T00:00:00",
          "2021-09-21T00:00:00",
          "2021-09-22T00:00:00",
          "2021-09-23T00:00:00",
          "2021-09-24T00:00:00",
          "2021-09-27T00:00:00",
          "2021-09-28T00:00:00",
          "2021-09-29T00:00:00",
          "2021-09-30T00:00:00",
          "2021-10-01T00:00:00",
          "2021-10-04T00:00:00",
          "2021-10-05T00:00:00",
          "2021-10-06T00:00:00",
          "2021-10-07T00:00:00",
          "2021-10-08T00:00:00",
          "2021-10-11T00:00:00",
          "2021-10-12T00:00:00",
          "2021-10-13T00:00:00",
          "2021-10-14T00:00:00",
          "2021-10-15T00:00:00",
          "2021-10-18T00:00:00",
          "2021-10-21T00:00:00",
          "2021-10-22T00:00:00",
          "2021-10-25T00:00:00",
          "2021-10-26T00:00:00",
          "2021-10-27T00:00:00",
          "2021-10-28T00:00:00",
          "2021-10-29T00:00:00",
          "2021-11-01T00:00:00",
          "2021-11-02T00:00:00",
          "2021-11-03T00:00:00",
          "2021-11-04T00:00:00",
          "2021-11-05T00:00:00",
          "2021-11-08T00:00:00",
          "2021-11-09T00:00:00",
          "2021-11-10T00:00:00",
          "2021-11-11T00:00:00",
          "2021-11-12T00:00:00",
          "2021-11-15T00:00:00",
          "2021-11-16T00:00:00",
          "2021-11-17T00:00:00",
          "2021-11-19T00:00:00",
          "2021-11-22T00:00:00",
          "2021-11-23T00:00:00",
          "2021-11-24T00:00:00",
          "2021-11-25T00:00:00",
          "2021-11-26T00:00:00",
          "2021-11-29T00:00:00",
          "2021-11-30T00:00:00",
          "2021-12-01T00:00:00",
          "2021-12-02T00:00:00",
          "2021-12-03T00:00:00",
          "2021-12-06T00:00:00",
          "2021-12-07T00:00:00",
          "2021-12-08T00:00:00",
          "2021-12-09T00:00:00",
          "2021-12-10T00:00:00",
          "2021-12-13T00:00:00",
          "2021-12-14T00:00:00",
          "2021-12-15T00:00:00",
          "2021-12-16T00:00:00",
          "2021-12-17T00:00:00",
          "2021-12-20T00:00:00",
          "2021-12-21T00:00:00",
          "2021-12-22T00:00:00",
          "2021-12-23T00:00:00",
          "2021-12-24T00:00:00",
          "2021-12-27T00:00:00",
          "2021-12-28T00:00:00",
          "2021-12-29T00:00:00",
          "2021-12-30T00:00:00",
          "2021-12-31T00:00:00",
          "2022-01-03T00:00:00",
          "2022-01-04T00:00:00",
          "2022-01-05T00:00:00",
          "2022-01-06T00:00:00",
          "2022-01-07T00:00:00",
          "2022-01-10T00:00:00",
          "2022-01-12T00:00:00",
          "2022-01-13T00:00:00",
          "2022-01-14T00:00:00",
          "2022-01-17T00:00:00",
          "2022-01-18T00:00:00",
          "2022-01-19T00:00:00",
          "2022-01-20T00:00:00",
          "2022-01-21T00:00:00",
          "2022-01-24T00:00:00",
          "2022-01-25T00:00:00",
          "2022-01-26T00:00:00",
          "2022-01-27T00:00:00",
          "2022-01-28T00:00:00",
          "2022-01-31T00:00:00",
          "2022-02-01T00:00:00",
          "2022-02-02T00:00:00",
          "2022-02-03T00:00:00",
          "2022-02-04T00:00:00"
         ],
         "y": [
          0,
          0.0007275198016014617,
          -0.007630996746471719,
          -0.0000016883414778456896,
          0.0005651028155222448,
          -0.0005772621354434015,
          0.001877127355653485,
          0.0009962420551523632,
          -0.0018401706578308197,
          -0.002541910709363937,
          -0.01014752683212683,
          -0.01726925153078529,
          -0.024902156859619273,
          -0.02701351015243081,
          -0.01764498269067183,
          -0.012752534425806594,
          -0.009717822370472695,
          -0.013145626627349638,
          -0.01604877456226006,
          -0.018405464314091735,
          -0.014271935247166634,
          -0.01621946210917602,
          -0.014782797755249377,
          -0.015412754831040543,
          -0.012396744038626895,
          -0.014903241301865489,
          -0.013009579552086592,
          -0.011595843778356096,
          -0.013892052871507521,
          -0.021689209200094428,
          -0.02080497740298448,
          -0.021989017977187997,
          -0.02605912005859201,
          -0.030299723820115254,
          -0.0345229598115796,
          -0.029020918960991238,
          -0.026703495003501776,
          -0.024891149718043737,
          -0.01455673900119836,
          -0.008993477720134369,
          -0.012176283246984054,
          -0.013276836648888901,
          -0.01649395778273388,
          -0.012910650095438903,
          -0.01000899803422084,
          -0.01395353652935738,
          -0.012285202084934999,
          -0.010151246471111763,
          -0.009358397581210043,
          -0.009601747189441623,
          -0.008367899702422021,
          -0.00611062312154298,
          -0.003880192568961105,
          -0.0020071772261248677,
          -0.0035448208164237105,
          0.0032226249465669987,
          0.0074100754215868925,
          0.014545365967349566,
          0.019038242501010494,
          0.017314915655486596,
          0.02587054873611727,
          0.03482324037129714,
          0.041473640676452206,
          0.05391378376795797,
          0.055796687622387875,
          0.06012599071909697,
          0.060022222639817935,
          0.05933543838004263,
          0.06448059729773603,
          0.07042176952878343,
          0.07017047139446975,
          0.07135137787419232,
          0.07662643689970405,
          0.07230202255761631,
          0.06831394183446893,
          0.0701347131308725,
          0.06377619947096025,
          0.06843553511729161,
          0.0728254402015136,
          0.0862731500060907,
          0.07937484337597711,
          0.087772475047319,
          0.08386733933184676,
          0.08850459934447441,
          0.09159252260322082,
          0.0940639407532966,
          0.09718548693583928,
          0.1131408096603117,
          0.12489817471870923,
          0.13520339613216792,
          0.12631931010735564,
          0.13283688207706068,
          0.12482358324316523,
          0.14956637015641228,
          0.15699567454954333,
          0.1555836762636078,
          0.16256265710762619,
          0.15935637725049223,
          0.16171578323178037,
          0.1547199774397987,
          0.15291884980305492,
          0.1502477083900129,
          0.15291817556418552,
          0.13749802280132095,
          0.12107952518881304,
          0.13781700325223611,
          0.1500279177767585,
          0.15312985962846226,
          0.16209915888622572,
          0.16708145596129098,
          0.16812827034629185,
          0.17389340823220456,
          0.1760818867677254,
          0.1765665667596783,
          0.17571969230038054,
          0.17591148392765787,
          0.17456721272905784,
          0.17509213145100855,
          0.17591554256334585,
          0.18046549989880356,
          0.18558864605694958,
          0.19266195918608808,
          0.1944248400219164,
          0.19811067608514032,
          0.19755750888870338,
          0.2026378412065324,
          0.20462372323105038,
          0.1938122610060815,
          0.19550128881559514,
          0.1949156834210115,
          0.19738993226555057,
          0.20366871013560428,
          0.2054166795430239,
          0.20611556188879443,
          0.20818402242117595,
          0.20485821901448942,
          0.21327203206343248,
          0.21187805563423723,
          0.22200220785445235,
          0.21434146804061083,
          0.21197305277278256,
          0.20917994729804779,
          0.21424767601186834,
          0.2121921308389425,
          0.2084802975439095,
          0.20576778953521946,
          0.21453291225989912,
          0.21603926541772767,
          0.2227986812422944,
          0.22411832680448307,
          0.2270603513977687,
          0.23203532573954644,
          0.22168894095329517,
          0.2165386675824459,
          0.2089311083732599,
          0.21437799041256222,
          0.21141297531584602,
          0.21319664253856474,
          0.21454834627012498,
          0.2226658681523257,
          0.2304427595709293,
          0.2200372866525695,
          0.21693420972113153,
          0.21811434601610857,
          0.23168202280834427,
          0.24614452053630376,
          0.2566217824728445,
          0.26373815356508534,
          0.26812363193869193,
          0.2783643504002822,
          0.2942189394305448,
          0.30160653980228624,
          0.31060809378865084,
          0.3180863054061036,
          0.33633929952249386,
          0.35071155945373866,
          0.35858291591329805,
          0.3775580437419943,
          0.39138195083835114,
          0.4081403555864187,
          0.40560620710763406,
          0.4131484599507207,
          0.41859914760694483,
          0.43643660195711664,
          0.4446127572843106,
          0.4301054083271041,
          0.4238768990215349,
          0.42076548564053473,
          0.39883064511619737,
          0.39464055203560866,
          0.37626773272769265,
          0.3667127442235405,
          0.37636919667310065,
          0.3623991846914161,
          0.37216422738658905,
          0.38984886777307115,
          0.38812447655746474,
          0.3843648769787664,
          0.3831022694308506,
          0.37969135488910677,
          0.3613655192840959,
          0.3579694328158456,
          0.35423766000580126,
          0.35363613537645344,
          0.3669904152585448,
          0.36179863850079674,
          0.3636721399709357,
          0.3537277891950419,
          0.3560828451305986,
          0.36341856230495484,
          0.35846474584268395,
          0.351004890577578,
          0.3529803739582793,
          0.34902935036815985,
          0.3411066046634015,
          0.33229173937070366,
          0.32934397301913854,
          0.3348770361493678,
          0.3256967431785909,
          0.3284923403671023,
          0.33346357200981624,
          0.3385990004662247,
          0.3443725032407703,
          0.3314980723513523,
          0.3497648300196623,
          0.3568885108336015,
          0.3583183342665004,
          0.3670702601193496,
          0.3709461338452753,
          0.38198234090028915,
          0.38070635184750024,
          0.39463582417222187,
          0.39815615544315297,
          0.4070421592777069,
          0.4062170234709148,
          0.41736778431434396,
          0.4363142570436609,
          0.4432069359775217,
          0.4462630781838599,
          0.4402501222684787,
          0.43420457846301996,
          0.4350218169159741,
          0.4445487134597521,
          0.4472895579640579,
          0.45325817071046104,
          0.455009535927994,
          0.447209285891516,
          0.44956423735350537,
          0.45003931137061115
         ]
        },
        {
         "line": {
          "dash": "dash"
         },
         "mode": "lines",
         "name": "MASI Index",
         "type": "scatter",
         "x": [
          "2021-02-08T00:00:00",
          "2021-02-09T00:00:00",
          "2021-02-10T00:00:00",
          "2021-02-11T00:00:00",
          "2021-02-12T00:00:00",
          "2021-02-15T00:00:00",
          "2021-02-16T00:00:00",
          "2021-02-17T00:00:00",
          "2021-02-18T00:00:00",
          "2021-02-19T00:00:00",
          "2021-02-22T00:00:00",
          "2021-02-23T00:00:00",
          "2021-02-24T00:00:00",
          "2021-02-25T00:00:00",
          "2021-02-26T00:00:00",
          "2021-03-01T00:00:00",
          "2021-03-02T00:00:00",
          "2021-03-03T00:00:00",
          "2021-03-04T00:00:00",
          "2021-03-05T00:00:00",
          "2021-03-08T00:00:00",
          "2021-03-09T00:00:00",
          "2021-03-10T00:00:00",
          "2021-03-11T00:00:00",
          "2021-03-12T00:00:00",
          "2021-03-15T00:00:00",
          "2021-03-16T00:00:00",
          "2021-03-17T00:00:00",
          "2021-03-18T00:00:00",
          "2021-03-19T00:00:00",
          "2021-03-22T00:00:00",
          "2021-03-23T00:00:00",
          "2021-03-24T00:00:00",
          "2021-03-25T00:00:00",
          "2021-03-26T00:00:00",
          "2021-03-29T00:00:00",
          "2021-03-30T00:00:00",
          "2021-03-31T00:00:00",
          "2021-04-01T00:00:00",
          "2021-04-02T00:00:00",
          "2021-04-05T00:00:00",
          "2021-04-06T00:00:00",
          "2021-04-07T00:00:00",
          "2021-04-08T00:00:00",
          "2021-04-09T00:00:00",
          "2021-04-12T00:00:00",
          "2021-04-13T00:00:00",
          "2021-04-14T00:00:00",
          "2021-04-15T00:00:00",
          "2021-04-16T00:00:00",
          "2021-04-19T00:00:00",
          "2021-04-20T00:00:00",
          "2021-04-21T00:00:00",
          "2021-04-22T00:00:00",
          "2021-04-23T00:00:00",
          "2021-04-26T00:00:00",
          "2021-04-27T00:00:00",
          "2021-04-28T00:00:00",
          "2021-04-29T00:00:00",
          "2021-04-30T00:00:00",
          "2021-05-03T00:00:00",
          "2021-05-04T00:00:00",
          "2021-05-05T00:00:00",
          "2021-05-06T00:00:00",
          "2021-05-07T00:00:00",
          "2021-05-10T00:00:00",
          "2021-05-11T00:00:00",
          "2021-05-12T00:00:00",
          "2021-05-17T00:00:00",
          "2021-05-18T00:00:00",
          "2021-05-19T00:00:00",
          "2021-05-20T00:00:00",
          "2021-05-21T00:00:00",
          "2021-05-24T00:00:00",
          "2021-05-25T00:00:00",
          "2021-05-26T00:00:00",
          "2021-05-27T00:00:00",
          "2021-05-28T00:00:00",
          "2021-05-31T00:00:00",
          "2021-06-01T00:00:00",
          "2021-06-02T00:00:00",
          "2021-06-03T00:00:00",
          "2021-06-04T00:00:00",
          "2021-06-07T00:00:00",
          "2021-06-08T00:00:00",
          "2021-06-09T00:00:00",
          "2021-06-10T00:00:00",
          "2021-06-11T00:00:00",
          "2021-06-14T00:00:00",
          "2021-06-15T00:00:00",
          "2021-06-16T00:00:00",
          "2021-06-17T00:00:00",
          "2021-06-18T00:00:00",
          "2021-06-21T00:00:00",
          "2021-06-22T00:00:00",
          "2021-06-23T00:00:00",
          "2021-06-24T00:00:00",
          "2021-06-25T00:00:00",
          "2021-06-28T00:00:00",
          "2021-06-29T00:00:00",
          "2021-06-30T00:00:00",
          "2021-07-01T00:00:00",
          "2021-07-02T00:00:00",
          "2021-07-05T00:00:00",
          "2021-07-06T00:00:00",
          "2021-07-07T00:00:00",
          "2021-07-08T00:00:00",
          "2021-07-09T00:00:00",
          "2021-07-12T00:00:00",
          "2021-07-13T00:00:00",
          "2021-07-14T00:00:00",
          "2021-07-15T00:00:00",
          "2021-07-16T00:00:00",
          "2021-07-19T00:00:00",
          "2021-07-20T00:00:00",
          "2021-07-23T00:00:00",
          "2021-07-26T00:00:00",
          "2021-07-27T00:00:00",
          "2021-07-28T00:00:00",
          "2021-07-29T00:00:00",
          "2021-08-02T00:00:00",
          "2021-08-03T00:00:00",
          "2021-08-04T00:00:00",
          "2021-08-05T00:00:00",
          "2021-08-06T00:00:00",
          "2021-08-09T00:00:00",
          "2021-08-11T00:00:00",
          "2021-08-12T00:00:00",
          "2021-08-13T00:00:00",
          "2021-08-16T00:00:00",
          "2021-08-17T00:00:00",
          "2021-08-18T00:00:00",
          "2021-08-19T00:00:00",
          "2021-08-23T00:00:00",
          "2021-08-24T00:00:00",
          "2021-08-25T00:00:00",
          "2021-08-26T00:00:00",
          "2021-08-27T00:00:00",
          "2021-08-30T00:00:00",
          "2021-08-31T00:00:00",
          "2021-09-01T00:00:00",
          "2021-09-02T00:00:00",
          "2021-09-03T00:00:00",
          "2021-09-06T00:00:00",
          "2021-09-07T00:00:00",
          "2021-09-08T00:00:00",
          "2021-09-09T00:00:00",
          "2021-09-10T00:00:00",
          "2021-09-13T00:00:00",
          "2021-09-14T00:00:00",
          "2021-09-15T00:00:00",
          "2021-09-16T00:00:00",
          "2021-09-17T00:00:00",
          "2021-09-20T00:00:00",
          "2021-09-21T00:00:00",
          "2021-09-22T00:00:00",
          "2021-09-23T00:00:00",
          "2021-09-24T00:00:00",
          "2021-09-27T00:00:00",
          "2021-09-28T00:00:00",
          "2021-09-29T00:00:00",
          "2021-09-30T00:00:00",
          "2021-10-01T00:00:00",
          "2021-10-04T00:00:00",
          "2021-10-05T00:00:00",
          "2021-10-06T00:00:00",
          "2021-10-07T00:00:00",
          "2021-10-08T00:00:00",
          "2021-10-11T00:00:00",
          "2021-10-12T00:00:00",
          "2021-10-13T00:00:00",
          "2021-10-14T00:00:00",
          "2021-10-15T00:00:00",
          "2021-10-18T00:00:00",
          "2021-10-21T00:00:00",
          "2021-10-22T00:00:00",
          "2021-10-25T00:00:00",
          "2021-10-26T00:00:00",
          "2021-10-27T00:00:00",
          "2021-10-28T00:00:00",
          "2021-10-29T00:00:00",
          "2021-11-01T00:00:00",
          "2021-11-02T00:00:00",
          "2021-11-03T00:00:00",
          "2021-11-04T00:00:00",
          "2021-11-05T00:00:00",
          "2021-11-08T00:00:00",
          "2021-11-09T00:00:00",
          "2021-11-10T00:00:00",
          "2021-11-11T00:00:00",
          "2021-11-12T00:00:00",
          "2021-11-15T00:00:00",
          "2021-11-16T00:00:00",
          "2021-11-17T00:00:00",
          "2021-11-19T00:00:00",
          "2021-11-22T00:00:00",
          "2021-11-23T00:00:00",
          "2021-11-24T00:00:00",
          "2021-11-25T00:00:00",
          "2021-11-26T00:00:00",
          "2021-11-29T00:00:00",
          "2021-11-30T00:00:00",
          "2021-12-01T00:00:00",
          "2021-12-02T00:00:00",
          "2021-12-03T00:00:00",
          "2021-12-06T00:00:00",
          "2021-12-07T00:00:00",
          "2021-12-08T00:00:00",
          "2021-12-09T00:00:00",
          "2021-12-10T00:00:00",
          "2021-12-13T00:00:00",
          "2021-12-14T00:00:00",
          "2021-12-15T00:00:00",
          "2021-12-16T00:00:00",
          "2021-12-17T00:00:00",
          "2021-12-20T00:00:00",
          "2021-12-21T00:00:00",
          "2021-12-22T00:00:00",
          "2021-12-23T00:00:00",
          "2021-12-24T00:00:00",
          "2021-12-27T00:00:00",
          "2021-12-28T00:00:00",
          "2021-12-29T00:00:00",
          "2021-12-30T00:00:00",
          "2021-12-31T00:00:00",
          "2022-01-03T00:00:00",
          "2022-01-04T00:00:00",
          "2022-01-05T00:00:00",
          "2022-01-06T00:00:00",
          "2022-01-07T00:00:00",
          "2022-01-10T00:00:00",
          "2022-01-12T00:00:00",
          "2022-01-13T00:00:00",
          "2022-01-14T00:00:00",
          "2022-01-17T00:00:00",
          "2022-01-18T00:00:00",
          "2022-01-19T00:00:00",
          "2022-01-20T00:00:00",
          "2022-01-21T00:00:00",
          "2022-01-24T00:00:00",
          "2022-01-25T00:00:00",
          "2022-01-26T00:00:00",
          "2022-01-27T00:00:00",
          "2022-01-28T00:00:00",
          "2022-01-31T00:00:00",
          "2022-02-01T00:00:00",
          "2022-02-02T00:00:00",
          "2022-02-03T00:00:00",
          "2022-02-04T00:00:00"
         ],
         "y": [
          0,
          -0.004573021857980031,
          -0.01200090059126313,
          -0.009601986625110692,
          -0.012658633287570886,
          -0.015080324321870231,
          -0.010615156067898313,
          -0.015697133478634218,
          -0.01167973196944061,
          -0.020309113862777006,
          -0.02145708322350237,
          -0.027581970127370847,
          -0.03575385418792454,
          -0.03000693333612614,
          -0.029611000226924644,
          -0.03013541958063526,
          -0.028581786022703892,
          -0.031250427977778106,
          -0.030273491673029174,
          -0.03029827647223926,
          -0.03184497267858177,
          -0.02901062029073298,
          -0.029971417855148452,
          -0.030226425330785567,
          -0.024750761760931494,
          -0.024509765685054585,
          -0.018580995660147925,
          -0.01229515707330131,
          -0.017743677827887994,
          -0.020465699798634218,
          -0.022382245697429637,
          -0.027530623473370985,
          -0.02313302604909695,
          -0.018117243958691964,
          -0.017546663877600288,
          -0.01894424119893312,
          -0.01596197456471249,
          -0.018890416919366215,
          -0.012984167656513335,
          -0.011260799660144483,
          -0.014664689817639465,
          -0.014241938547555066,
          -0.015236465993832549,
          -0.012673080407689441,
          -0.010671979128755282,
          -0.007483898701714509,
          -0.008329580656148194,
          -0.007296983211497743,
          -0.005996366485213178,
          -0.0030256507122583542,
          -0.003520389820379166,
          -0.00029040334710417337,
          -0.0018872415688084843,
          0.000811798288916199,
          0.002963325613935197,
          0.0020871774085593486,
          0.0035530603037234876,
          0.0066458888430036556,
          0.008091532100343413,
          0.009097097795700337,
          0.012878390131860096,
          0.01758544298949838,
          0.02132037809693932,
          0.026074540014503267,
          0.026282985216546706,
          0.030054640443603287,
          0.027656495395730563,
          0.028811282498534263,
          0.04030036545233462,
          0.03950512453703792,
          0.04259626145610307,
          0.02945891673477119,
          0.03742749025868153,
          0.03299321543247369,
          0.03318656420562904,
          0.035194406334813744,
          0.0335058105317525,
          0.03910823455175505,
          0.03500297131382091,
          0.03932692345398925,
          0.048280549642266024,
          0.058264363997917235,
          0.05734041470616402,
          0.0576439750993849,
          0.05654210666128545,
          0.05609372478188357,
          0.057152234772554156,
          0.06476391060525355,
          0.07355755053016977,
          0.06807899070146295,
          0.06388621601978217,
          0.06298864062501663,
          0.06688809007013052,
          0.07186467441535238,
          0.06945555946669169,
          0.06918193562515351,
          0.06593546012655072,
          0.060902052720471556,
          0.06530440889454225,
          0.06042741655359185,
          0.06018752259391569,
          0.06100185831315419,
          0.06161974395550973,
          0.04925182158235519,
          0.0407908327922355,
          0.045940082008893324,
          0.0479549042073486,
          0.04528927812063732,
          0.04499276614497871,
          0.043221127167728524,
          0.03970141228672741,
          0.0372077932191468,
          0.03941445198480786,
          0.03849778178610075,
          0.03780690871194525,
          0.04378181383362367,
          0.04089397890766544,
          0.042952808862319,
          0.04546545438554994,
          0.05120916286764721,
          0.0622981776406093,
          0.0633383617456178,
          0.06161759952786294,
          0.06519147188635199,
          0.07038269549753595,
          0.067711063304708,
          0.07365556198019929,
          0.0701664756773328,
          0.07846031017701982,
          0.07628205867001903,
          0.07858024434155331,
          0.07794430620670179,
          0.07710655265408373,
          0.08617414961845937,
          0.08557670865880285,
          0.08119646315703677,
          0.08374413717966855,
          0.09226422161133807,
          0.0914825222012976,
          0.08453020233682951,
          0.08550619885257027,
          0.0862473762692797,
          0.09079457956014081,
          0.08429219649870645,
          0.08628414765011416,
          0.08853361807687188,
          0.10818786987158457,
          0.10075331009280597,
          0.10106601207001686,
          0.10224636997738346,
          0.10171420163612233,
          0.10232391111410544,
          0.1123001131787893,
          0.1063504712943617,
          0.1056037149483573,
          0.10838743833926756,
          0.11732630984011383,
          0.12192714945273986,
          0.12108426123472182,
          0.125131539490843,
          0.12751457102275476,
          0.12662119904791758,
          0.11969113509587359,
          0.1176433348467627,
          0.11567580112249809,
          0.11730454945280289,
          0.11897999675328408,
          0.12711043611857153,
          0.12309741744357128,
          0.12437764074837543,
          0.1266985265962286,
          0.1348510680902839,
          0.1363698611066162,
          0.13548998791935274,
          0.13590962079863655,
          0.13635197094131213,
          0.13918118012022473,
          0.15774894184242894,
          0.15665952988045784,
          0.16012675327357617,
          0.15811512635774894,
          0.15402205474631336,
          0.15872876586249407,
          0.15930068727880675,
          0.15397482607687762,
          0.1460130361209,
          0.14724853401244498,
          0.14315403563042417,
          0.14007390278629273,
          0.13906326223029097,
          0.13592522129617457,
          0.13598742678498832,
          0.13313492792574255,
          0.13539134424762556,
          0.13974608729312066,
          0.14069271113058335,
          0.13687067466914504,
          0.13977708324332183,
          0.13838597337907332,
          0.12954771910687146,
          0.11915973567289129,
          0.11795378987388938,
          0.12519969982455392,
          0.13043010409384803,
          0.1299683430363825,
          0.12591067583995108,
          0.13017085902413728,
          0.1304253966052702,
          0.13438509506935348,
          0.13969190418502309,
          0.13492168896249002,
          0.1347409675361917,
          0.13381532662422346,
          0.13368773745104034,
          0.1366087383854555,
          0.13235710728124528,
          0.1314170790539133,
          0.12864413760598947,
          0.13201550252026029,
          0.13137219131346178,
          0.13085552094730124,
          0.1347350468654389,
          0.14391130052624823,
          0.14522967926478958,
          0.14127306501736103,
          0.1359733043192537,
          0.1344521960045464,
          0.13548938987180126,
          0.14216571079160123,
          0.15143394416571465,
          0.15220751012906542,
          0.15604778704080147,
          0.1609163725418956,
          0.17766723163079456,
          0.17651197463348645,
          0.17627835162955674,
          0.1736862255868321,
          0.17709324267866378,
          0.17762453103567144,
          0.17503550629667397,
          0.17103009991264106,
          0.1723683936346223,
          0.17335769243659893,
          0.1784281873343605,
          0.18614133474934813,
          0.1843994614530522,
          0.18802229681887428,
          0.18869584360113123,
          0.19176737310406833
         ]
        }
       ],
       "layout": {
        "legend": {
         "font": {
          "size": 12
         },
         "traceorder": "normal",
         "x": 0,
         "y": 1
        },
        "template": {
         "data": {
          "bar": [
           {
            "error_x": {
             "color": "#2a3f5f"
            },
            "error_y": {
             "color": "#2a3f5f"
            },
            "marker": {
             "line": {
              "color": "#E5ECF6",
              "width": 0.5
             },
             "pattern": {
              "fillmode": "overlay",
              "size": 10,
              "solidity": 0.2
             }
            },
            "type": "bar"
           }
          ],
          "barpolar": [
           {
            "marker": {
             "line": {
              "color": "#E5ECF6",
              "width": 0.5
             },
             "pattern": {
              "fillmode": "overlay",
              "size": 10,
              "solidity": 0.2
             }
            },
            "type": "barpolar"
           }
          ],
          "carpet": [
           {
            "aaxis": {
             "endlinecolor": "#2a3f5f",
             "gridcolor": "white",
             "linecolor": "white",
             "minorgridcolor": "white",
             "startlinecolor": "#2a3f5f"
            },
            "baxis": {
             "endlinecolor": "#2a3f5f",
             "gridcolor": "white",
             "linecolor": "white",
             "minorgridcolor": "white",
             "startlinecolor": "#2a3f5f"
            },
            "type": "carpet"
           }
          ],
          "choropleth": [
           {
            "colorbar": {
             "outlinewidth": 0,
             "ticks": ""
            },
            "type": "choropleth"
           }
          ],
          "contour": [
           {
            "colorbar": {
             "outlinewidth": 0,
             "ticks": ""
            },
            "colorscale": [
             [
              0,
              "#0d0887"
             ],
             [
              0.1111111111111111,
              "#46039f"
             ],
             [
              0.2222222222222222,
              "#7201a8"
             ],
             [
              0.3333333333333333,
              "#9c179e"
             ],
             [
              0.4444444444444444,
              "#bd3786"
             ],
             [
              0.5555555555555556,
              "#d8576b"
             ],
             [
              0.6666666666666666,
              "#ed7953"
             ],
             [
              0.7777777777777778,
              "#fb9f3a"
             ],
             [
              0.8888888888888888,
              "#fdca26"
             ],
             [
              1,
              "#f0f921"
             ]
            ],
            "type": "contour"
           }
          ],
          "contourcarpet": [
           {
            "colorbar": {
             "outlinewidth": 0,
             "ticks": ""
            },
            "type": "contourcarpet"
           }
          ],
          "heatmap": [
           {
            "colorbar": {
             "outlinewidth": 0,
             "ticks": ""
            },
            "colorscale": [
             [
              0,
              "#0d0887"
             ],
             [
              0.1111111111111111,
              "#46039f"
             ],
             [
              0.2222222222222222,
              "#7201a8"
             ],
             [
              0.3333333333333333,
              "#9c179e"
             ],
             [
              0.4444444444444444,
              "#bd3786"
             ],
             [
              0.5555555555555556,
              "#d8576b"
             ],
             [
              0.6666666666666666,
              "#ed7953"
             ],
             [
              0.7777777777777778,
              "#fb9f3a"
             ],
             [
              0.8888888888888888,
              "#fdca26"
             ],
             [
              1,
              "#f0f921"
             ]
            ],
            "type": "heatmap"
           }
          ],
          "heatmapgl": [
           {
            "colorbar": {
             "outlinewidth": 0,
             "ticks": ""
            },
            "colorscale": [
             [
              0,
              "#0d0887"
             ],
             [
              0.1111111111111111,
              "#46039f"
             ],
             [
              0.2222222222222222,
              "#7201a8"
             ],
             [
              0.3333333333333333,
              "#9c179e"
             ],
             [
              0.4444444444444444,
              "#bd3786"
             ],
             [
              0.5555555555555556,
              "#d8576b"
             ],
             [
              0.6666666666666666,
              "#ed7953"
             ],
             [
              0.7777777777777778,
              "#fb9f3a"
             ],
             [
              0.8888888888888888,
              "#fdca26"
             ],
             [
              1,
              "#f0f921"
             ]
            ],
            "type": "heatmapgl"
           }
          ],
          "histogram": [
           {
            "marker": {
             "pattern": {
              "fillmode": "overlay",
              "size": 10,
              "solidity": 0.2
             }
            },
            "type": "histogram"
           }
          ],
          "histogram2d": [
           {
            "colorbar": {
             "outlinewidth": 0,
             "ticks": ""
            },
            "colorscale": [
             [
              0,
              "#0d0887"
             ],
             [
              0.1111111111111111,
              "#46039f"
             ],
             [
              0.2222222222222222,
              "#7201a8"
             ],
             [
              0.3333333333333333,
              "#9c179e"
             ],
             [
              0.4444444444444444,
              "#bd3786"
             ],
             [
              0.5555555555555556,
              "#d8576b"
             ],
             [
              0.6666666666666666,
              "#ed7953"
             ],
             [
              0.7777777777777778,
              "#fb9f3a"
             ],
             [
              0.8888888888888888,
              "#fdca26"
             ],
             [
              1,
              "#f0f921"
             ]
            ],
            "type": "histogram2d"
           }
          ],
          "histogram2dcontour": [
           {
            "colorbar": {
             "outlinewidth": 0,
             "ticks": ""
            },
            "colorscale": [
             [
              0,
              "#0d0887"
             ],
             [
              0.1111111111111111,
              "#46039f"
             ],
             [
              0.2222222222222222,
              "#7201a8"
             ],
             [
              0.3333333333333333,
              "#9c179e"
             ],
             [
              0.4444444444444444,
              "#bd3786"
             ],
             [
              0.5555555555555556,
              "#d8576b"
             ],
             [
              0.6666666666666666,
              "#ed7953"
             ],
             [
              0.7777777777777778,
              "#fb9f3a"
             ],
             [
              0.8888888888888888,
              "#fdca26"
             ],
             [
              1,
              "#f0f921"
             ]
            ],
            "type": "histogram2dcontour"
           }
          ],
          "mesh3d": [
           {
            "colorbar": {
             "outlinewidth": 0,
             "ticks": ""
            },
            "type": "mesh3d"
           }
          ],
          "parcoords": [
           {
            "line": {
             "colorbar": {
              "outlinewidth": 0,
              "ticks": ""
             }
            },
            "type": "parcoords"
           }
          ],
          "pie": [
           {
            "automargin": true,
            "type": "pie"
           }
          ],
          "scatter": [
           {
            "fillpattern": {
             "fillmode": "overlay",
             "size": 10,
             "solidity": 0.2
            },
            "type": "scatter"
           }
          ],
          "scatter3d": [
           {
            "line": {
             "colorbar": {
              "outlinewidth": 0,
              "ticks": ""
             }
            },
            "marker": {
             "colorbar": {
              "outlinewidth": 0,
              "ticks": ""
             }
            },
            "type": "scatter3d"
           }
          ],
          "scattercarpet": [
           {
            "marker": {
             "colorbar": {
              "outlinewidth": 0,
              "ticks": ""
             }
            },
            "type": "scattercarpet"
           }
          ],
          "scattergeo": [
           {
            "marker": {
             "colorbar": {
              "outlinewidth": 0,
              "ticks": ""
             }
            },
            "type": "scattergeo"
           }
          ],
          "scattergl": [
           {
            "marker": {
             "colorbar": {
              "outlinewidth": 0,
              "ticks": ""
             }
            },
            "type": "scattergl"
           }
          ],
          "scattermapbox": [
           {
            "marker": {
             "colorbar": {
              "outlinewidth": 0,
              "ticks": ""
             }
            },
            "type": "scattermapbox"
           }
          ],
          "scatterpolar": [
           {
            "marker": {
             "colorbar": {
              "outlinewidth": 0,
              "ticks": ""
             }
            },
            "type": "scatterpolar"
           }
          ],
          "scatterpolargl": [
           {
            "marker": {
             "colorbar": {
              "outlinewidth": 0,
              "ticks": ""
             }
            },
            "type": "scatterpolargl"
           }
          ],
          "scatterternary": [
           {
            "marker": {
             "colorbar": {
              "outlinewidth": 0,
              "ticks": ""
             }
            },
            "type": "scatterternary"
           }
          ],
          "surface": [
           {
            "colorbar": {
             "outlinewidth": 0,
             "ticks": ""
            },
            "colorscale": [
             [
              0,
              "#0d0887"
             ],
             [
              0.1111111111111111,
              "#46039f"
             ],
             [
              0.2222222222222222,
              "#7201a8"
             ],
             [
              0.3333333333333333,
              "#9c179e"
             ],
             [
              0.4444444444444444,
              "#bd3786"
             ],
             [
              0.5555555555555556,
              "#d8576b"
             ],
             [
              0.6666666666666666,
              "#ed7953"
             ],
             [
              0.7777777777777778,
              "#fb9f3a"
             ],
             [
              0.8888888888888888,
              "#fdca26"
             ],
             [
              1,
              "#f0f921"
             ]
            ],
            "type": "surface"
           }
          ],
          "table": [
           {
            "cells": {
             "fill": {
              "color": "#EBF0F8"
             },
             "line": {
              "color": "white"
             }
            },
            "header": {
             "fill": {
              "color": "#C8D4E3"
             },
             "line": {
              "color": "white"
             }
            },
            "type": "table"
           }
          ]
         },
         "layout": {
          "annotationdefaults": {
           "arrowcolor": "#2a3f5f",
           "arrowhead": 0,
           "arrowwidth": 1
          },
          "autotypenumbers": "strict",
          "coloraxis": {
           "colorbar": {
            "outlinewidth": 0,
            "ticks": ""
           }
          },
          "colorscale": {
           "diverging": [
            [
             0,
             "#8e0152"
            ],
            [
             0.1,
             "#c51b7d"
            ],
            [
             0.2,
             "#de77ae"
            ],
            [
             0.3,
             "#f1b6da"
            ],
            [
             0.4,
             "#fde0ef"
            ],
            [
             0.5,
             "#f7f7f7"
            ],
            [
             0.6,
             "#e6f5d0"
            ],
            [
             0.7,
             "#b8e186"
            ],
            [
             0.8,
             "#7fbc41"
            ],
            [
             0.9,
             "#4d9221"
            ],
            [
             1,
             "#276419"
            ]
           ],
           "sequential": [
            [
             0,
             "#0d0887"
            ],
            [
             0.1111111111111111,
             "#46039f"
            ],
            [
             0.2222222222222222,
             "#7201a8"
            ],
            [
             0.3333333333333333,
             "#9c179e"
            ],
            [
             0.4444444444444444,
             "#bd3786"
            ],
            [
             0.5555555555555556,
             "#d8576b"
            ],
            [
             0.6666666666666666,
             "#ed7953"
            ],
            [
             0.7777777777777778,
             "#fb9f3a"
            ],
            [
             0.8888888888888888,
             "#fdca26"
            ],
            [
             1,
             "#f0f921"
            ]
           ],
           "sequentialminus": [
            [
             0,
             "#0d0887"
            ],
            [
             0.1111111111111111,
             "#46039f"
            ],
            [
             0.2222222222222222,
             "#7201a8"
            ],
            [
             0.3333333333333333,
             "#9c179e"
            ],
            [
             0.4444444444444444,
             "#bd3786"
            ],
            [
             0.5555555555555556,
             "#d8576b"
            ],
            [
             0.6666666666666666,
             "#ed7953"
            ],
            [
             0.7777777777777778,
             "#fb9f3a"
            ],
            [
             0.8888888888888888,
             "#fdca26"
            ],
            [
             1,
             "#f0f921"
            ]
           ]
          },
          "colorway": [
           "#636efa",
           "#EF553B",
           "#00cc96",
           "#ab63fa",
           "#FFA15A",
           "#19d3f3",
           "#FF6692",
           "#B6E880",
           "#FF97FF",
           "#FECB52"
          ],
          "font": {
           "color": "#2a3f5f"
          },
          "geo": {
           "bgcolor": "white",
           "lakecolor": "white",
           "landcolor": "#E5ECF6",
           "showlakes": true,
           "showland": true,
           "subunitcolor": "white"
          },
          "hoverlabel": {
           "align": "left"
          },
          "hovermode": "closest",
          "mapbox": {
           "style": "light"
          },
          "paper_bgcolor": "white",
          "plot_bgcolor": "#E5ECF6",
          "polar": {
           "angularaxis": {
            "gridcolor": "white",
            "linecolor": "white",
            "ticks": ""
           },
           "bgcolor": "#E5ECF6",
           "radialaxis": {
            "gridcolor": "white",
            "linecolor": "white",
            "ticks": ""
           }
          },
          "scene": {
           "xaxis": {
            "backgroundcolor": "#E5ECF6",
            "gridcolor": "white",
            "gridwidth": 2,
            "linecolor": "white",
            "showbackground": true,
            "ticks": "",
            "zerolinecolor": "white"
           },
           "yaxis": {
            "backgroundcolor": "#E5ECF6",
            "gridcolor": "white",
            "gridwidth": 2,
            "linecolor": "white",
            "showbackground": true,
            "ticks": "",
            "zerolinecolor": "white"
           },
           "zaxis": {
            "backgroundcolor": "#E5ECF6",
            "gridcolor": "white",
            "gridwidth": 2,
            "linecolor": "white",
            "showbackground": true,
            "ticks": "",
            "zerolinecolor": "white"
           }
          },
          "shapedefaults": {
           "line": {
            "color": "#2a3f5f"
           }
          },
          "ternary": {
           "aaxis": {
            "gridcolor": "white",
            "linecolor": "white",
            "ticks": ""
           },
           "baxis": {
            "gridcolor": "white",
            "linecolor": "white",
            "ticks": ""
           },
           "bgcolor": "#E5ECF6",
           "caxis": {
            "gridcolor": "white",
            "linecolor": "white",
            "ticks": ""
           }
          },
          "title": {
           "x": 0.05
          },
          "xaxis": {
           "automargin": true,
           "gridcolor": "white",
           "linecolor": "white",
           "ticks": "",
           "title": {
            "standoff": 15
           },
           "zerolinecolor": "white",
           "zerolinewidth": 2
          },
          "yaxis": {
           "automargin": true,
           "gridcolor": "white",
           "linecolor": "white",
           "ticks": "",
           "title": {
            "standoff": 15
           },
           "zerolinecolor": "white",
           "zerolinewidth": 2
          }
         }
        },
        "title": {
         "text": "K-Means (DTW) Portfolio Performance"
        },
        "xaxis": {
         "title": {
          "text": "Date"
         }
        },
        "yaxis": {
         "title": {
          "text": "Cumulative Returns"
         }
        }
       }
      }
     },
     "metadata": {},
     "output_type": "display_data"
    }
   ],
   "source": [
    "# Create traces\n",
    "masi_trace = go.Scatter(x=benchmark_cumulative_returns.index, y=benchmark_cumulative_returns, mode='lines', name='MASI Index', line=dict(dash='dash'))\n",
    "kmeans_trace = go.Scatter(x=kmeans_portfolio_returns.index, y=kmeans_portfolio_returns, mode='lines', name='KMeans (DTW) Portfolio', line=dict(color='green'))\n",
    "\n",
    "# Layout\n",
    "layout = go.Layout(\n",
    "    title='K-Means (DTW) Portfolio Performance',\n",
    "    xaxis=dict(title='Date'),\n",
    "    yaxis=dict(title='Cumulative Returns'),\n",
    "    legend=dict(x=0, y=1, traceorder='normal', font=dict(size=12))\n",
    ")\n",
    "\n",
    "# Create figure\n",
    "fig = go.Figure(data=[kmeans_trace, masi_trace], layout=layout)\n",
    "\n",
    "# Show plot\n",
    "fig.show()"
   ]
  },
  {
   "cell_type": "markdown",
   "metadata": {},
   "source": [
    "During the initial months, the K-Means (DTW) Portfolio demonstrates a relatively slow start, exhibiting minimal growth. However, starting around mid-2021, it begins to show a marked improvement in returns, eventually surpassing the MASI Index. This suggests that the DTW clustering approach effectively identified and selected assets that performed well in the latter part of the testing period.\n",
    "\n",
    "The portfolio's performance trajectory indicates that the DTW method may provide advantages over traditional metrics by focusing on the shape of the return patterns rather than their magnitude alone. As the K-Means (DTW) Portfolio continues to gain momentum towards the end of the period, it reflects a successful strategy for capturing market trends and achieving competitive returns compared to the MASI Index."
   ]
  },
  {
   "cell_type": "code",
   "execution_count": 50,
   "metadata": {},
   "outputs": [
    {
     "data": {
      "application/vnd.plotly.v1+json": {
       "config": {
        "plotlyServerURL": "https://plot.ly"
       },
       "data": [
        {
         "line": {
          "color": "orange"
         },
         "mode": "lines",
         "name": "KMeans (DTW) Portfolio Drawdown",
         "type": "scatter",
         "x": [
          "2021-02-08T00:00:00",
          "2021-02-09T00:00:00",
          "2021-02-10T00:00:00",
          "2021-02-11T00:00:00",
          "2021-02-12T00:00:00",
          "2021-02-15T00:00:00",
          "2021-02-16T00:00:00",
          "2021-02-17T00:00:00",
          "2021-02-18T00:00:00",
          "2021-02-19T00:00:00",
          "2021-02-22T00:00:00",
          "2021-02-23T00:00:00",
          "2021-02-24T00:00:00",
          "2021-02-25T00:00:00",
          "2021-02-26T00:00:00",
          "2021-03-01T00:00:00",
          "2021-03-02T00:00:00",
          "2021-03-03T00:00:00",
          "2021-03-04T00:00:00",
          "2021-03-05T00:00:00",
          "2021-03-08T00:00:00",
          "2021-03-09T00:00:00",
          "2021-03-10T00:00:00",
          "2021-03-11T00:00:00",
          "2021-03-12T00:00:00",
          "2021-03-15T00:00:00",
          "2021-03-16T00:00:00",
          "2021-03-17T00:00:00",
          "2021-03-18T00:00:00",
          "2021-03-19T00:00:00",
          "2021-03-22T00:00:00",
          "2021-03-23T00:00:00",
          "2021-03-24T00:00:00",
          "2021-03-25T00:00:00",
          "2021-03-26T00:00:00",
          "2021-03-29T00:00:00",
          "2021-03-30T00:00:00",
          "2021-03-31T00:00:00",
          "2021-04-01T00:00:00",
          "2021-04-02T00:00:00",
          "2021-04-05T00:00:00",
          "2021-04-06T00:00:00",
          "2021-04-07T00:00:00",
          "2021-04-08T00:00:00",
          "2021-04-09T00:00:00",
          "2021-04-12T00:00:00",
          "2021-04-13T00:00:00",
          "2021-04-14T00:00:00",
          "2021-04-15T00:00:00",
          "2021-04-16T00:00:00",
          "2021-04-19T00:00:00",
          "2021-04-20T00:00:00",
          "2021-04-21T00:00:00",
          "2021-04-22T00:00:00",
          "2021-04-23T00:00:00",
          "2021-04-26T00:00:00",
          "2021-04-27T00:00:00",
          "2021-04-28T00:00:00",
          "2021-04-29T00:00:00",
          "2021-04-30T00:00:00",
          "2021-05-03T00:00:00",
          "2021-05-04T00:00:00",
          "2021-05-05T00:00:00",
          "2021-05-06T00:00:00",
          "2021-05-07T00:00:00",
          "2021-05-10T00:00:00",
          "2021-05-11T00:00:00",
          "2021-05-12T00:00:00",
          "2021-05-17T00:00:00",
          "2021-05-18T00:00:00",
          "2021-05-19T00:00:00",
          "2021-05-20T00:00:00",
          "2021-05-21T00:00:00",
          "2021-05-24T00:00:00",
          "2021-05-25T00:00:00",
          "2021-05-26T00:00:00",
          "2021-05-27T00:00:00",
          "2021-05-28T00:00:00",
          "2021-05-31T00:00:00",
          "2021-06-01T00:00:00",
          "2021-06-02T00:00:00",
          "2021-06-03T00:00:00",
          "2021-06-04T00:00:00",
          "2021-06-07T00:00:00",
          "2021-06-08T00:00:00",
          "2021-06-09T00:00:00",
          "2021-06-10T00:00:00",
          "2021-06-11T00:00:00",
          "2021-06-14T00:00:00",
          "2021-06-15T00:00:00",
          "2021-06-16T00:00:00",
          "2021-06-17T00:00:00",
          "2021-06-18T00:00:00",
          "2021-06-21T00:00:00",
          "2021-06-22T00:00:00",
          "2021-06-23T00:00:00",
          "2021-06-24T00:00:00",
          "2021-06-25T00:00:00",
          "2021-06-28T00:00:00",
          "2021-06-29T00:00:00",
          "2021-06-30T00:00:00",
          "2021-07-01T00:00:00",
          "2021-07-02T00:00:00",
          "2021-07-05T00:00:00",
          "2021-07-06T00:00:00",
          "2021-07-07T00:00:00",
          "2021-07-08T00:00:00",
          "2021-07-09T00:00:00",
          "2021-07-12T00:00:00",
          "2021-07-13T00:00:00",
          "2021-07-14T00:00:00",
          "2021-07-15T00:00:00",
          "2021-07-16T00:00:00",
          "2021-07-19T00:00:00",
          "2021-07-20T00:00:00",
          "2021-07-23T00:00:00",
          "2021-07-26T00:00:00",
          "2021-07-27T00:00:00",
          "2021-07-28T00:00:00",
          "2021-07-29T00:00:00",
          "2021-08-02T00:00:00",
          "2021-08-03T00:00:00",
          "2021-08-04T00:00:00",
          "2021-08-05T00:00:00",
          "2021-08-06T00:00:00",
          "2021-08-09T00:00:00",
          "2021-08-11T00:00:00",
          "2021-08-12T00:00:00",
          "2021-08-13T00:00:00",
          "2021-08-16T00:00:00",
          "2021-08-17T00:00:00",
          "2021-08-18T00:00:00",
          "2021-08-19T00:00:00",
          "2021-08-23T00:00:00",
          "2021-08-24T00:00:00",
          "2021-08-25T00:00:00",
          "2021-08-26T00:00:00",
          "2021-08-27T00:00:00",
          "2021-08-30T00:00:00",
          "2021-08-31T00:00:00",
          "2021-09-01T00:00:00",
          "2021-09-02T00:00:00",
          "2021-09-03T00:00:00",
          "2021-09-06T00:00:00",
          "2021-09-07T00:00:00",
          "2021-09-08T00:00:00",
          "2021-09-09T00:00:00",
          "2021-09-10T00:00:00",
          "2021-09-13T00:00:00",
          "2021-09-14T00:00:00",
          "2021-09-15T00:00:00",
          "2021-09-16T00:00:00",
          "2021-09-17T00:00:00",
          "2021-09-20T00:00:00",
          "2021-09-21T00:00:00",
          "2021-09-22T00:00:00",
          "2021-09-23T00:00:00",
          "2021-09-24T00:00:00",
          "2021-09-27T00:00:00",
          "2021-09-28T00:00:00",
          "2021-09-29T00:00:00",
          "2021-09-30T00:00:00",
          "2021-10-01T00:00:00",
          "2021-10-04T00:00:00",
          "2021-10-05T00:00:00",
          "2021-10-06T00:00:00",
          "2021-10-07T00:00:00",
          "2021-10-08T00:00:00",
          "2021-10-11T00:00:00",
          "2021-10-12T00:00:00",
          "2021-10-13T00:00:00",
          "2021-10-14T00:00:00",
          "2021-10-15T00:00:00",
          "2021-10-18T00:00:00",
          "2021-10-21T00:00:00",
          "2021-10-22T00:00:00",
          "2021-10-25T00:00:00",
          "2021-10-26T00:00:00",
          "2021-10-27T00:00:00",
          "2021-10-28T00:00:00",
          "2021-10-29T00:00:00",
          "2021-11-01T00:00:00",
          "2021-11-02T00:00:00",
          "2021-11-03T00:00:00",
          "2021-11-04T00:00:00",
          "2021-11-05T00:00:00",
          "2021-11-08T00:00:00",
          "2021-11-09T00:00:00",
          "2021-11-10T00:00:00",
          "2021-11-11T00:00:00",
          "2021-11-12T00:00:00",
          "2021-11-15T00:00:00",
          "2021-11-16T00:00:00",
          "2021-11-17T00:00:00",
          "2021-11-19T00:00:00",
          "2021-11-22T00:00:00",
          "2021-11-23T00:00:00",
          "2021-11-24T00:00:00",
          "2021-11-25T00:00:00",
          "2021-11-26T00:00:00",
          "2021-11-29T00:00:00",
          "2021-11-30T00:00:00",
          "2021-12-01T00:00:00",
          "2021-12-02T00:00:00",
          "2021-12-03T00:00:00",
          "2021-12-06T00:00:00",
          "2021-12-07T00:00:00",
          "2021-12-08T00:00:00",
          "2021-12-09T00:00:00",
          "2021-12-10T00:00:00",
          "2021-12-13T00:00:00",
          "2021-12-14T00:00:00",
          "2021-12-15T00:00:00",
          "2021-12-16T00:00:00",
          "2021-12-17T00:00:00",
          "2021-12-20T00:00:00",
          "2021-12-21T00:00:00",
          "2021-12-22T00:00:00",
          "2021-12-23T00:00:00",
          "2021-12-24T00:00:00",
          "2021-12-27T00:00:00",
          "2021-12-28T00:00:00",
          "2021-12-29T00:00:00",
          "2021-12-30T00:00:00",
          "2021-12-31T00:00:00",
          "2022-01-03T00:00:00",
          "2022-01-04T00:00:00",
          "2022-01-05T00:00:00",
          "2022-01-06T00:00:00",
          "2022-01-07T00:00:00",
          "2022-01-10T00:00:00",
          "2022-01-12T00:00:00",
          "2022-01-13T00:00:00",
          "2022-01-14T00:00:00",
          "2022-01-17T00:00:00",
          "2022-01-18T00:00:00",
          "2022-01-19T00:00:00",
          "2022-01-20T00:00:00",
          "2022-01-21T00:00:00",
          "2022-01-24T00:00:00",
          "2022-01-25T00:00:00",
          "2022-01-26T00:00:00",
          "2022-01-27T00:00:00",
          "2022-01-28T00:00:00",
          "2022-01-31T00:00:00",
          "2022-02-01T00:00:00",
          "2022-02-02T00:00:00",
          "2022-02-03T00:00:00",
          "2022-02-04T00:00:00"
         ],
         "y": [
          0,
          0,
          -11.489057108375464,
          -1.0023206811335297,
          -0.22324751260610984,
          -1.7934658742933132,
          0,
          -0.4692730612273555,
          -1.9803120988507465,
          -2.354149307828408,
          -6.4058808538295295,
          -10.199829451514939,
          -14.266098746374125,
          -15.390877673308738,
          -10.399992300750991,
          -7.793643695724124,
          -6.176964866664375,
          -8.00305527366482,
          -9.549646092964744,
          -10.805122842975262,
          -8.603072430958282,
          -9.640576282864693,
          -8.875223655298036,
          -9.210819998238689,
          -7.604103872489361,
          -8.939387413954774,
          -7.930579064283873,
          -7.177441154129487,
          -8.400698109090886,
          -12.554468659130352,
          -12.08341282243028,
          -12.71418546054535,
          -14.882446484042655,
          -17.141538680824883,
          -19.39137856448803,
          -16.460282369007494,
          -15.22572364260574,
          -14.260234923899647,
          -8.754795622873823,
          -5.791085534525954,
          -7.48665803644693,
          -8.072954644713933,
          -9.78680806236071,
          -7.8778764832098,
          -6.332082559063449,
          -8.43345223078896,
          -7.544682249680468,
          -6.407862413031537,
          -5.98548889238903,
          -6.115128262620712,
          -5.457822042398877,
          -4.255305562054252,
          -3.0670907369576383,
          -2.069281325041533,
          -2.888428510589603,
          0,
          0,
          0,
          0,
          -0.09051921916807337,
          0,
          0,
          0,
          0,
          0,
          0,
          -0.0017258439825769637,
          -0.013148262999070187,
          0,
          0,
          -0.0035684723061519966,
          0,
          0,
          -0.056435017952719754,
          -0.1084807724534459,
          -0.08471911303051377,
          -0.16769979068142518,
          -0.10689394044425515,
          -0.04960424694111193,
          0,
          -0.07995890528659945,
          0,
          -0.04449157567183726,
          0,
          0,
          0,
          0,
          0,
          0,
          0,
          -0.06570904488321912,
          -0.017503362510168423,
          -0.0767718355155511,
          0,
          0,
          -0.008993867442443052,
          0,
          -0.01972334799505156,
          -0.005209522844383194,
          -0.04824404206579348,
          -0.059323632352948595,
          -0.07575508998638023,
          -0.05932777991599535,
          -0.15418445264284128,
          -0.2551824180097452,
          -0.15222225261123143,
          -0.07710712628527558,
          -0.05802561084443181,
          -0.002851197376120622,
          0,
          0,
          0,
          0,
          0,
          -0.004796346640473732,
          -0.0037101181953209067,
          -0.011323514226460243,
          -0.008350591710131517,
          -0.0036871317615783292,
          0,
          0,
          0,
          0,
          0,
          -0.002792212955748096,
          0,
          0,
          -0.05283582008114052,
          -0.04458150927668667,
          -0.047443373899892644,
          -0.03535167306740769,
          -0.004667167034038127,
          0,
          0,
          0,
          -0.015975305731955353,
          0,
          -0.0065361426705056675,
          0,
          -0.03450749381224175,
          -0.04517592495406642,
          -0.05775735602058071,
          -0.03492997622648865,
          -0.04418909663250495,
          -0.060908900146650735,
          -0.07312728317493308,
          -0.033645141040444956,
          -0.026859833937480787,
          0,
          0,
          0,
          0,
          -0.04458969664759071,
          -0.06678577112217449,
          -0.09957198238090874,
          -0.07609761690685025,
          -0.08887590869180181,
          -0.08118885838153637,
          -0.07536343620820106,
          -0.04037944462705524,
          -0.0068634642744215225,
          -0.05170781237183008,
          -0.06508110767308557,
          -0.059995087726701576,
          -0.0015226256177852159,
          0,
          0,
          0,
          0,
          0,
          0,
          0,
          0,
          0,
          0,
          0,
          0,
          0,
          0,
          0,
          -0.006209012277513102,
          0,
          0,
          0,
          0,
          -0.0326291783569532,
          -0.0466380190920073,
          -0.053636049018104474,
          -0.10297075695207179,
          -0.1123948974247423,
          -0.1537180916131794,
          -0.175208677179176,
          -0.15348988415906192,
          -0.1849105120038706,
          -0.16294748342408413,
          -0.12317210564477869,
          -0.12705051711038523,
          -0.13550641388145834,
          -0.13834620542416584,
          -0.14601785785847213,
          -0.1872353787342672,
          -0.19487368063319055,
          -0.2032669908765537,
          -0.20461990893725424,
          -0.17458415385982654,
          -0.1862612294108282,
          -0.1820474468788507,
          -0.20441376591259552,
          -0.19911689600283092,
          -0.18261778063969403,
          -0.1937596482112157,
          -0.210537968542532,
          -0.2060948135760224,
          -0.21498125132524998,
          -0.23280068087367412,
          -0.25262661962212324,
          -0.2592565831201795,
          -0.24681190392558067,
          -0.2674597436925951,
          -0.26117203119962284,
          -0.24999099430567906,
          -0.23844065443739548,
          -0.2254551908402417,
          -0.25441169440090167,
          -0.21332704856239013,
          -0.19730483440584956,
          -0.19408894954993083,
          -0.1744045709317691,
          -0.16568715636724,
          -0.140865090706275,
          -0.14373497923710044,
          -0.11240553109035206,
          -0.10448778421229746,
          -0.08450184433772084,
          -0.08635769708434923,
          -0.061277982971920573,
          -0.0186645572010503,
          -0.0031619005162506833,
          0,
          -0.013474016133828285,
          -0.027021056211761832,
          -0.02518976320791307,
          -0.003841601082224152,
          0,
          0,
          0,
          -0.01714304738815935,
          -0.011967438360127772,
          -0.010923341523482654
         ]
        },
        {
         "line": {
          "color": "red",
          "dash": "dash"
         },
         "mode": "lines",
         "name": "MASI Drawdown",
         "type": "scatter",
         "x": [
          "2021-02-08T00:00:00",
          "2021-02-09T00:00:00",
          "2021-02-10T00:00:00",
          "2021-02-11T00:00:00",
          "2021-02-12T00:00:00",
          "2021-02-15T00:00:00",
          "2021-02-16T00:00:00",
          "2021-02-17T00:00:00",
          "2021-02-18T00:00:00",
          "2021-02-19T00:00:00",
          "2021-02-22T00:00:00",
          "2021-02-23T00:00:00",
          "2021-02-24T00:00:00",
          "2021-02-25T00:00:00",
          "2021-02-26T00:00:00",
          "2021-03-01T00:00:00",
          "2021-03-02T00:00:00",
          "2021-03-03T00:00:00",
          "2021-03-04T00:00:00",
          "2021-03-05T00:00:00",
          "2021-03-08T00:00:00",
          "2021-03-09T00:00:00",
          "2021-03-10T00:00:00",
          "2021-03-11T00:00:00",
          "2021-03-12T00:00:00",
          "2021-03-15T00:00:00",
          "2021-03-16T00:00:00",
          "2021-03-17T00:00:00",
          "2021-03-18T00:00:00",
          "2021-03-19T00:00:00",
          "2021-03-22T00:00:00",
          "2021-03-23T00:00:00",
          "2021-03-24T00:00:00",
          "2021-03-25T00:00:00",
          "2021-03-26T00:00:00",
          "2021-03-29T00:00:00",
          "2021-03-30T00:00:00",
          "2021-03-31T00:00:00",
          "2021-04-01T00:00:00",
          "2021-04-02T00:00:00",
          "2021-04-05T00:00:00",
          "2021-04-06T00:00:00",
          "2021-04-07T00:00:00",
          "2021-04-08T00:00:00",
          "2021-04-09T00:00:00",
          "2021-04-12T00:00:00",
          "2021-04-13T00:00:00",
          "2021-04-14T00:00:00",
          "2021-04-15T00:00:00",
          "2021-04-16T00:00:00",
          "2021-04-19T00:00:00",
          "2021-04-20T00:00:00",
          "2021-04-21T00:00:00",
          "2021-04-22T00:00:00",
          "2021-04-23T00:00:00",
          "2021-04-26T00:00:00",
          "2021-04-27T00:00:00",
          "2021-04-28T00:00:00",
          "2021-04-29T00:00:00",
          "2021-04-30T00:00:00",
          "2021-05-03T00:00:00",
          "2021-05-04T00:00:00",
          "2021-05-05T00:00:00",
          "2021-05-06T00:00:00",
          "2021-05-07T00:00:00",
          "2021-05-10T00:00:00",
          "2021-05-11T00:00:00",
          "2021-05-12T00:00:00",
          "2021-05-17T00:00:00",
          "2021-05-18T00:00:00",
          "2021-05-19T00:00:00",
          "2021-05-20T00:00:00",
          "2021-05-21T00:00:00",
          "2021-05-24T00:00:00",
          "2021-05-25T00:00:00",
          "2021-05-26T00:00:00",
          "2021-05-27T00:00:00",
          "2021-05-28T00:00:00",
          "2021-05-31T00:00:00",
          "2021-06-01T00:00:00",
          "2021-06-02T00:00:00",
          "2021-06-03T00:00:00",
          "2021-06-04T00:00:00",
          "2021-06-07T00:00:00",
          "2021-06-08T00:00:00",
          "2021-06-09T00:00:00",
          "2021-06-10T00:00:00",
          "2021-06-11T00:00:00",
          "2021-06-14T00:00:00",
          "2021-06-15T00:00:00",
          "2021-06-16T00:00:00",
          "2021-06-17T00:00:00",
          "2021-06-18T00:00:00",
          "2021-06-21T00:00:00",
          "2021-06-22T00:00:00",
          "2021-06-23T00:00:00",
          "2021-06-24T00:00:00",
          "2021-06-25T00:00:00",
          "2021-06-28T00:00:00",
          "2021-06-29T00:00:00",
          "2021-06-30T00:00:00",
          "2021-07-01T00:00:00",
          "2021-07-02T00:00:00",
          "2021-07-05T00:00:00",
          "2021-07-06T00:00:00",
          "2021-07-07T00:00:00",
          "2021-07-08T00:00:00",
          "2021-07-09T00:00:00",
          "2021-07-12T00:00:00",
          "2021-07-13T00:00:00",
          "2021-07-14T00:00:00",
          "2021-07-15T00:00:00",
          "2021-07-16T00:00:00",
          "2021-07-19T00:00:00",
          "2021-07-20T00:00:00",
          "2021-07-23T00:00:00",
          "2021-07-26T00:00:00",
          "2021-07-27T00:00:00",
          "2021-07-28T00:00:00",
          "2021-07-29T00:00:00",
          "2021-08-02T00:00:00",
          "2021-08-03T00:00:00",
          "2021-08-04T00:00:00",
          "2021-08-05T00:00:00",
          "2021-08-06T00:00:00",
          "2021-08-09T00:00:00",
          "2021-08-11T00:00:00",
          "2021-08-12T00:00:00",
          "2021-08-13T00:00:00",
          "2021-08-16T00:00:00",
          "2021-08-17T00:00:00",
          "2021-08-18T00:00:00",
          "2021-08-19T00:00:00",
          "2021-08-23T00:00:00",
          "2021-08-24T00:00:00",
          "2021-08-25T00:00:00",
          "2021-08-26T00:00:00",
          "2021-08-27T00:00:00",
          "2021-08-30T00:00:00",
          "2021-08-31T00:00:00",
          "2021-09-01T00:00:00",
          "2021-09-02T00:00:00",
          "2021-09-03T00:00:00",
          "2021-09-06T00:00:00",
          "2021-09-07T00:00:00",
          "2021-09-08T00:00:00",
          "2021-09-09T00:00:00",
          "2021-09-10T00:00:00",
          "2021-09-13T00:00:00",
          "2021-09-14T00:00:00",
          "2021-09-15T00:00:00",
          "2021-09-16T00:00:00",
          "2021-09-17T00:00:00",
          "2021-09-20T00:00:00",
          "2021-09-21T00:00:00",
          "2021-09-22T00:00:00",
          "2021-09-23T00:00:00",
          "2021-09-24T00:00:00",
          "2021-09-27T00:00:00",
          "2021-09-28T00:00:00",
          "2021-09-29T00:00:00",
          "2021-09-30T00:00:00",
          "2021-10-01T00:00:00",
          "2021-10-04T00:00:00",
          "2021-10-05T00:00:00",
          "2021-10-06T00:00:00",
          "2021-10-07T00:00:00",
          "2021-10-08T00:00:00",
          "2021-10-11T00:00:00",
          "2021-10-12T00:00:00",
          "2021-10-13T00:00:00",
          "2021-10-14T00:00:00",
          "2021-10-15T00:00:00",
          "2021-10-18T00:00:00",
          "2021-10-21T00:00:00",
          "2021-10-22T00:00:00",
          "2021-10-25T00:00:00",
          "2021-10-26T00:00:00",
          "2021-10-27T00:00:00",
          "2021-10-28T00:00:00",
          "2021-10-29T00:00:00",
          "2021-11-01T00:00:00",
          "2021-11-02T00:00:00",
          "2021-11-03T00:00:00",
          "2021-11-04T00:00:00",
          "2021-11-05T00:00:00",
          "2021-11-08T00:00:00",
          "2021-11-09T00:00:00",
          "2021-11-10T00:00:00",
          "2021-11-11T00:00:00",
          "2021-11-12T00:00:00",
          "2021-11-15T00:00:00",
          "2021-11-16T00:00:00",
          "2021-11-17T00:00:00",
          "2021-11-19T00:00:00",
          "2021-11-22T00:00:00",
          "2021-11-23T00:00:00",
          "2021-11-24T00:00:00",
          "2021-11-25T00:00:00",
          "2021-11-26T00:00:00",
          "2021-11-29T00:00:00",
          "2021-11-30T00:00:00",
          "2021-12-01T00:00:00",
          "2021-12-02T00:00:00",
          "2021-12-03T00:00:00",
          "2021-12-06T00:00:00",
          "2021-12-07T00:00:00",
          "2021-12-08T00:00:00",
          "2021-12-09T00:00:00",
          "2021-12-10T00:00:00",
          "2021-12-13T00:00:00",
          "2021-12-14T00:00:00",
          "2021-12-15T00:00:00",
          "2021-12-16T00:00:00",
          "2021-12-17T00:00:00",
          "2021-12-20T00:00:00",
          "2021-12-21T00:00:00",
          "2021-12-22T00:00:00",
          "2021-12-23T00:00:00",
          "2021-12-24T00:00:00",
          "2021-12-27T00:00:00",
          "2021-12-28T00:00:00",
          "2021-12-29T00:00:00",
          "2021-12-30T00:00:00",
          "2021-12-31T00:00:00",
          "2022-01-03T00:00:00",
          "2022-01-04T00:00:00",
          "2022-01-05T00:00:00",
          "2022-01-06T00:00:00",
          "2022-01-07T00:00:00",
          "2022-01-10T00:00:00",
          "2022-01-12T00:00:00",
          "2022-01-13T00:00:00",
          "2022-01-14T00:00:00",
          "2022-01-17T00:00:00",
          "2022-01-18T00:00:00",
          "2022-01-19T00:00:00",
          "2022-01-20T00:00:00",
          "2022-01-21T00:00:00",
          "2022-01-24T00:00:00",
          "2022-01-25T00:00:00",
          "2022-01-26T00:00:00",
          "2022-01-27T00:00:00",
          "2022-01-28T00:00:00",
          "2022-01-31T00:00:00",
          "2022-02-01T00:00:00",
          "2022-02-02T00:00:00",
          "2022-02-03T00:00:00",
          "2022-02-04T00:00:00"
         ],
         "y": [
          0,
          null,
          null,
          null,
          null,
          null,
          null,
          null,
          null,
          null,
          null,
          null,
          null,
          null,
          null,
          null,
          null,
          null,
          null,
          null,
          null,
          null,
          null,
          null,
          null,
          null,
          null,
          null,
          null,
          null,
          null,
          null,
          null,
          null,
          null,
          null,
          null,
          null,
          null,
          null,
          null,
          null,
          null,
          null,
          null,
          null,
          null,
          null,
          null,
          null,
          null,
          null,
          null,
          0,
          0,
          -0.2956638316274508,
          0,
          0,
          0,
          0,
          0,
          0,
          0,
          0,
          0,
          0,
          -0.07979283772743107,
          -0.04136991581723131,
          0,
          -0.019732846250172985,
          0,
          -0.3084154400467837,
          -0.12134330621357789,
          -0.22544340032107404,
          -0.220904298377712,
          -0.17376771735982496,
          -0.21340959543406396,
          -0.08188575206165807,
          -0.17826189160068215,
          -0.07675175920034641,
          0,
          0,
          -0.015857879986233787,
          -0.010647827522059767,
          -0.029559360447036682,
          -0.037255005754654055,
          -0.019087640352563256,
          0,
          0,
          -0.0744799111609865,
          -0.13147983369050442,
          -0.14368218937386007,
          -0.09066996402094375,
          -0.023014307880236597,
          -0.055765737628737974,
          -0.05948559833054242,
          -0.10362077514384928,
          -0.17204892928711019,
          -0.1121997888203533,
          -0.1785015118358593,
          -0.18176282162590962,
          -0.17069209247072248,
          -0.16229206231879245,
          -0.3304314617959653,
          -0.44545689058113674,
          -0.3754538904874094,
          -0.3480627908119397,
          -0.3843014375245973,
          -0.38833245777366054,
          -0.41241753081485094,
          -0.46026734168583006,
          -0.49416758781430664,
          -0.4641685088651511,
          -0.47663045454034236,
          -0.48602273404361557,
          -0.40479510916195505,
          -0.4440546400346393,
          -0.4160652638276498,
          -0.38190635688851277,
          -0.3038218034918975,
          -0.15306889379007282,
          -0.1389278015770869,
          -0.16232121537828578,
          -0.1137351445707319,
          -0.04316151108554986,
          -0.07948180959429615,
          0,
          -0.04737030319318519,
          0,
          -0.02776246362124096,
          0,
          -0.008092850056400713,
          -0.018753971813374612,
          0,
          -0.006932948712598003,
          -0.05776310510125803,
          -0.028198856032230404,
          0,
          -0.008472400204419108,
          -0.08382468457912133,
          -0.07324640733691865,
          -0.06521320222484793,
          -0.01592862352850178,
          -0.08640429598174773,
          -0.06481465791165397,
          -0.04043391326901684,
          0,
          -0.06871897734564125,
          -0.06582861655397339,
          -0.054918355461231305,
          -0.059837283450966165,
          -0.05420162874488113,
          0,
          -0.052979838719800436,
          -0.059629487815126996,
          -0.03484123683199228,
          0,
          0,
          -0.006913047847023979,
          0,
          0,
          -0.007006038350533025,
          -0.061353270172434596,
          -0.07741261329444894,
          -0.09284248698248034,
          -0.08006945000920652,
          -0.0669301884562487,
          -0.003169323324713311,
          -0.034640383006858504,
          -0.024600563286367914,
          -0.006399617078902627,
          0,
          0,
          -0.006452108846657537,
          -0.0033749415321309086,
          -0.0001311885570528065,
          0,
          0,
          -0.0069059858611240765,
          0,
          -0.012562715940354928,
          -0.038124163529581756,
          -0.008730504943753178,
          -0.005158825604601429,
          -0.03841910905536188,
          -0.08814090627668522,
          -0.08042515693257572,
          -0.10599551477918343,
          -0.1252311064661581,
          -0.13154260991789596,
          -0.1511398406739275,
          -0.1507513641230574,
          -0.1685653695964106,
          -0.15447393093451556,
          -0.12727833147053944,
          -0.12136661579461247,
          -0.14523543461034383,
          -0.12708476013053846,
          -0.13577231443242205,
          -0.19096767742777188,
          -0.25584118058456373,
          -0.2633723755557223,
          -0.21812128663690233,
          -0.18545713675335368,
          -0.18834085885491045,
          -0.21368120400946997,
          -0.18707613585507055,
          -0.18548653526722847,
          -0.16075801000125903,
          -0.12761670783170254,
          -0.15740695290326262,
          -0.15853556771998573,
          -0.16431624392208652,
          -0.165113045022307,
          -0.14687124048496875,
          -0.1734229004499112,
          -0.1792934261935134,
          -0.19661059144688162,
          -0.1755562401573701,
          -0.17957375249460839,
          -0.18280038611827157,
          -0.15857254262038017,
          -0.10126635565778243,
          -0.09303301106302317,
          -0.11774227523369352,
          -0.15083955966468868,
          -0.16033896113015458,
          -0.15386163085241628,
          -0.11216765540289539,
          -0.054287050290777315,
          -0.049456090144916316,
          -0.02547335875727026,
          0,
          0,
          -0.006502363923296933,
          -0.00781731098351337,
          -0.022407092221908845,
          -0.0032306967743133365,
          -0.00024034029646985785,
          -0.01481266584706802,
          -0.03735709538124589,
          -0.02982450926676016,
          -0.024256241033524792,
          0,
          0,
          -0.009357799537869905,
          0,
          0,
          0
         ]
        }
       ],
       "layout": {
        "legend": {
         "font": {
          "size": 11
         },
         "traceorder": "normal",
         "x": 0,
         "y": 1
        },
        "template": {
         "data": {
          "bar": [
           {
            "error_x": {
             "color": "#2a3f5f"
            },
            "error_y": {
             "color": "#2a3f5f"
            },
            "marker": {
             "line": {
              "color": "#E5ECF6",
              "width": 0.5
             },
             "pattern": {
              "fillmode": "overlay",
              "size": 10,
              "solidity": 0.2
             }
            },
            "type": "bar"
           }
          ],
          "barpolar": [
           {
            "marker": {
             "line": {
              "color": "#E5ECF6",
              "width": 0.5
             },
             "pattern": {
              "fillmode": "overlay",
              "size": 10,
              "solidity": 0.2
             }
            },
            "type": "barpolar"
           }
          ],
          "carpet": [
           {
            "aaxis": {
             "endlinecolor": "#2a3f5f",
             "gridcolor": "white",
             "linecolor": "white",
             "minorgridcolor": "white",
             "startlinecolor": "#2a3f5f"
            },
            "baxis": {
             "endlinecolor": "#2a3f5f",
             "gridcolor": "white",
             "linecolor": "white",
             "minorgridcolor": "white",
             "startlinecolor": "#2a3f5f"
            },
            "type": "carpet"
           }
          ],
          "choropleth": [
           {
            "colorbar": {
             "outlinewidth": 0,
             "ticks": ""
            },
            "type": "choropleth"
           }
          ],
          "contour": [
           {
            "colorbar": {
             "outlinewidth": 0,
             "ticks": ""
            },
            "colorscale": [
             [
              0,
              "#0d0887"
             ],
             [
              0.1111111111111111,
              "#46039f"
             ],
             [
              0.2222222222222222,
              "#7201a8"
             ],
             [
              0.3333333333333333,
              "#9c179e"
             ],
             [
              0.4444444444444444,
              "#bd3786"
             ],
             [
              0.5555555555555556,
              "#d8576b"
             ],
             [
              0.6666666666666666,
              "#ed7953"
             ],
             [
              0.7777777777777778,
              "#fb9f3a"
             ],
             [
              0.8888888888888888,
              "#fdca26"
             ],
             [
              1,
              "#f0f921"
             ]
            ],
            "type": "contour"
           }
          ],
          "contourcarpet": [
           {
            "colorbar": {
             "outlinewidth": 0,
             "ticks": ""
            },
            "type": "contourcarpet"
           }
          ],
          "heatmap": [
           {
            "colorbar": {
             "outlinewidth": 0,
             "ticks": ""
            },
            "colorscale": [
             [
              0,
              "#0d0887"
             ],
             [
              0.1111111111111111,
              "#46039f"
             ],
             [
              0.2222222222222222,
              "#7201a8"
             ],
             [
              0.3333333333333333,
              "#9c179e"
             ],
             [
              0.4444444444444444,
              "#bd3786"
             ],
             [
              0.5555555555555556,
              "#d8576b"
             ],
             [
              0.6666666666666666,
              "#ed7953"
             ],
             [
              0.7777777777777778,
              "#fb9f3a"
             ],
             [
              0.8888888888888888,
              "#fdca26"
             ],
             [
              1,
              "#f0f921"
             ]
            ],
            "type": "heatmap"
           }
          ],
          "heatmapgl": [
           {
            "colorbar": {
             "outlinewidth": 0,
             "ticks": ""
            },
            "colorscale": [
             [
              0,
              "#0d0887"
             ],
             [
              0.1111111111111111,
              "#46039f"
             ],
             [
              0.2222222222222222,
              "#7201a8"
             ],
             [
              0.3333333333333333,
              "#9c179e"
             ],
             [
              0.4444444444444444,
              "#bd3786"
             ],
             [
              0.5555555555555556,
              "#d8576b"
             ],
             [
              0.6666666666666666,
              "#ed7953"
             ],
             [
              0.7777777777777778,
              "#fb9f3a"
             ],
             [
              0.8888888888888888,
              "#fdca26"
             ],
             [
              1,
              "#f0f921"
             ]
            ],
            "type": "heatmapgl"
           }
          ],
          "histogram": [
           {
            "marker": {
             "pattern": {
              "fillmode": "overlay",
              "size": 10,
              "solidity": 0.2
             }
            },
            "type": "histogram"
           }
          ],
          "histogram2d": [
           {
            "colorbar": {
             "outlinewidth": 0,
             "ticks": ""
            },
            "colorscale": [
             [
              0,
              "#0d0887"
             ],
             [
              0.1111111111111111,
              "#46039f"
             ],
             [
              0.2222222222222222,
              "#7201a8"
             ],
             [
              0.3333333333333333,
              "#9c179e"
             ],
             [
              0.4444444444444444,
              "#bd3786"
             ],
             [
              0.5555555555555556,
              "#d8576b"
             ],
             [
              0.6666666666666666,
              "#ed7953"
             ],
             [
              0.7777777777777778,
              "#fb9f3a"
             ],
             [
              0.8888888888888888,
              "#fdca26"
             ],
             [
              1,
              "#f0f921"
             ]
            ],
            "type": "histogram2d"
           }
          ],
          "histogram2dcontour": [
           {
            "colorbar": {
             "outlinewidth": 0,
             "ticks": ""
            },
            "colorscale": [
             [
              0,
              "#0d0887"
             ],
             [
              0.1111111111111111,
              "#46039f"
             ],
             [
              0.2222222222222222,
              "#7201a8"
             ],
             [
              0.3333333333333333,
              "#9c179e"
             ],
             [
              0.4444444444444444,
              "#bd3786"
             ],
             [
              0.5555555555555556,
              "#d8576b"
             ],
             [
              0.6666666666666666,
              "#ed7953"
             ],
             [
              0.7777777777777778,
              "#fb9f3a"
             ],
             [
              0.8888888888888888,
              "#fdca26"
             ],
             [
              1,
              "#f0f921"
             ]
            ],
            "type": "histogram2dcontour"
           }
          ],
          "mesh3d": [
           {
            "colorbar": {
             "outlinewidth": 0,
             "ticks": ""
            },
            "type": "mesh3d"
           }
          ],
          "parcoords": [
           {
            "line": {
             "colorbar": {
              "outlinewidth": 0,
              "ticks": ""
             }
            },
            "type": "parcoords"
           }
          ],
          "pie": [
           {
            "automargin": true,
            "type": "pie"
           }
          ],
          "scatter": [
           {
            "fillpattern": {
             "fillmode": "overlay",
             "size": 10,
             "solidity": 0.2
            },
            "type": "scatter"
           }
          ],
          "scatter3d": [
           {
            "line": {
             "colorbar": {
              "outlinewidth": 0,
              "ticks": ""
             }
            },
            "marker": {
             "colorbar": {
              "outlinewidth": 0,
              "ticks": ""
             }
            },
            "type": "scatter3d"
           }
          ],
          "scattercarpet": [
           {
            "marker": {
             "colorbar": {
              "outlinewidth": 0,
              "ticks": ""
             }
            },
            "type": "scattercarpet"
           }
          ],
          "scattergeo": [
           {
            "marker": {
             "colorbar": {
              "outlinewidth": 0,
              "ticks": ""
             }
            },
            "type": "scattergeo"
           }
          ],
          "scattergl": [
           {
            "marker": {
             "colorbar": {
              "outlinewidth": 0,
              "ticks": ""
             }
            },
            "type": "scattergl"
           }
          ],
          "scattermapbox": [
           {
            "marker": {
             "colorbar": {
              "outlinewidth": 0,
              "ticks": ""
             }
            },
            "type": "scattermapbox"
           }
          ],
          "scatterpolar": [
           {
            "marker": {
             "colorbar": {
              "outlinewidth": 0,
              "ticks": ""
             }
            },
            "type": "scatterpolar"
           }
          ],
          "scatterpolargl": [
           {
            "marker": {
             "colorbar": {
              "outlinewidth": 0,
              "ticks": ""
             }
            },
            "type": "scatterpolargl"
           }
          ],
          "scatterternary": [
           {
            "marker": {
             "colorbar": {
              "outlinewidth": 0,
              "ticks": ""
             }
            },
            "type": "scatterternary"
           }
          ],
          "surface": [
           {
            "colorbar": {
             "outlinewidth": 0,
             "ticks": ""
            },
            "colorscale": [
             [
              0,
              "#0d0887"
             ],
             [
              0.1111111111111111,
              "#46039f"
             ],
             [
              0.2222222222222222,
              "#7201a8"
             ],
             [
              0.3333333333333333,
              "#9c179e"
             ],
             [
              0.4444444444444444,
              "#bd3786"
             ],
             [
              0.5555555555555556,
              "#d8576b"
             ],
             [
              0.6666666666666666,
              "#ed7953"
             ],
             [
              0.7777777777777778,
              "#fb9f3a"
             ],
             [
              0.8888888888888888,
              "#fdca26"
             ],
             [
              1,
              "#f0f921"
             ]
            ],
            "type": "surface"
           }
          ],
          "table": [
           {
            "cells": {
             "fill": {
              "color": "#EBF0F8"
             },
             "line": {
              "color": "white"
             }
            },
            "header": {
             "fill": {
              "color": "#C8D4E3"
             },
             "line": {
              "color": "white"
             }
            },
            "type": "table"
           }
          ]
         },
         "layout": {
          "annotationdefaults": {
           "arrowcolor": "#2a3f5f",
           "arrowhead": 0,
           "arrowwidth": 1
          },
          "autotypenumbers": "strict",
          "coloraxis": {
           "colorbar": {
            "outlinewidth": 0,
            "ticks": ""
           }
          },
          "colorscale": {
           "diverging": [
            [
             0,
             "#8e0152"
            ],
            [
             0.1,
             "#c51b7d"
            ],
            [
             0.2,
             "#de77ae"
            ],
            [
             0.3,
             "#f1b6da"
            ],
            [
             0.4,
             "#fde0ef"
            ],
            [
             0.5,
             "#f7f7f7"
            ],
            [
             0.6,
             "#e6f5d0"
            ],
            [
             0.7,
             "#b8e186"
            ],
            [
             0.8,
             "#7fbc41"
            ],
            [
             0.9,
             "#4d9221"
            ],
            [
             1,
             "#276419"
            ]
           ],
           "sequential": [
            [
             0,
             "#0d0887"
            ],
            [
             0.1111111111111111,
             "#46039f"
            ],
            [
             0.2222222222222222,
             "#7201a8"
            ],
            [
             0.3333333333333333,
             "#9c179e"
            ],
            [
             0.4444444444444444,
             "#bd3786"
            ],
            [
             0.5555555555555556,
             "#d8576b"
            ],
            [
             0.6666666666666666,
             "#ed7953"
            ],
            [
             0.7777777777777778,
             "#fb9f3a"
            ],
            [
             0.8888888888888888,
             "#fdca26"
            ],
            [
             1,
             "#f0f921"
            ]
           ],
           "sequentialminus": [
            [
             0,
             "#0d0887"
            ],
            [
             0.1111111111111111,
             "#46039f"
            ],
            [
             0.2222222222222222,
             "#7201a8"
            ],
            [
             0.3333333333333333,
             "#9c179e"
            ],
            [
             0.4444444444444444,
             "#bd3786"
            ],
            [
             0.5555555555555556,
             "#d8576b"
            ],
            [
             0.6666666666666666,
             "#ed7953"
            ],
            [
             0.7777777777777778,
             "#fb9f3a"
            ],
            [
             0.8888888888888888,
             "#fdca26"
            ],
            [
             1,
             "#f0f921"
            ]
           ]
          },
          "colorway": [
           "#636efa",
           "#EF553B",
           "#00cc96",
           "#ab63fa",
           "#FFA15A",
           "#19d3f3",
           "#FF6692",
           "#B6E880",
           "#FF97FF",
           "#FECB52"
          ],
          "font": {
           "color": "#2a3f5f"
          },
          "geo": {
           "bgcolor": "white",
           "lakecolor": "white",
           "landcolor": "#E5ECF6",
           "showlakes": true,
           "showland": true,
           "subunitcolor": "white"
          },
          "hoverlabel": {
           "align": "left"
          },
          "hovermode": "closest",
          "mapbox": {
           "style": "light"
          },
          "paper_bgcolor": "white",
          "plot_bgcolor": "#E5ECF6",
          "polar": {
           "angularaxis": {
            "gridcolor": "white",
            "linecolor": "white",
            "ticks": ""
           },
           "bgcolor": "#E5ECF6",
           "radialaxis": {
            "gridcolor": "white",
            "linecolor": "white",
            "ticks": ""
           }
          },
          "scene": {
           "xaxis": {
            "backgroundcolor": "#E5ECF6",
            "gridcolor": "white",
            "gridwidth": 2,
            "linecolor": "white",
            "showbackground": true,
            "ticks": "",
            "zerolinecolor": "white"
           },
           "yaxis": {
            "backgroundcolor": "#E5ECF6",
            "gridcolor": "white",
            "gridwidth": 2,
            "linecolor": "white",
            "showbackground": true,
            "ticks": "",
            "zerolinecolor": "white"
           },
           "zaxis": {
            "backgroundcolor": "#E5ECF6",
            "gridcolor": "white",
            "gridwidth": 2,
            "linecolor": "white",
            "showbackground": true,
            "ticks": "",
            "zerolinecolor": "white"
           }
          },
          "shapedefaults": {
           "line": {
            "color": "#2a3f5f"
           }
          },
          "ternary": {
           "aaxis": {
            "gridcolor": "white",
            "linecolor": "white",
            "ticks": ""
           },
           "baxis": {
            "gridcolor": "white",
            "linecolor": "white",
            "ticks": ""
           },
           "bgcolor": "#E5ECF6",
           "caxis": {
            "gridcolor": "white",
            "linecolor": "white",
            "ticks": ""
           }
          },
          "title": {
           "x": 0.05
          },
          "xaxis": {
           "automargin": true,
           "gridcolor": "white",
           "linecolor": "white",
           "ticks": "",
           "title": {
            "standoff": 15
           },
           "zerolinecolor": "white",
           "zerolinewidth": 2
          },
          "yaxis": {
           "automargin": true,
           "gridcolor": "white",
           "linecolor": "white",
           "ticks": "",
           "title": {
            "standoff": 15
           },
           "zerolinecolor": "white",
           "zerolinewidth": 2
          }
         }
        },
        "title": {
         "text": "K-Means (DTW) Portfolio Drawdown Comparison"
        },
        "xaxis": {
         "title": {
          "text": "Date"
         }
        },
        "yaxis": {
         "title": {
          "text": "Maximum Drawdown"
         }
        }
       }
      }
     },
     "metadata": {},
     "output_type": "display_data"
    }
   ],
   "source": [
    "# Create traces\n",
    "kmeans_trace = go.Scatter(x=kmeans_portfolio_returns.index, y=maximum_drawdown(kmeans_portfolio_returns), mode='lines', name='KMeans (DTW) Portfolio Drawdown', line=dict(color='orange'))\n",
    "masi_trace = go.Scatter(x=benchmark_cumulative_returns.index, y=maximum_drawdown(benchmark_cumulative_returns), mode='lines', name='MASI Drawdown', line=dict(dash='dash', color='red'))\n",
    "\n",
    "# Layout\n",
    "layout = go.Layout(\n",
    "    title='K-Means (DTW) Portfolio Drawdown Comparison',\n",
    "    xaxis=dict(title='Date'),\n",
    "    yaxis=dict(title='Maximum Drawdown'),\n",
    "    legend=dict(x=0, y=1, traceorder='normal', font=dict(size=11))\n",
    ")\n",
    "\n",
    "# Create figure\n",
    "fig = go.Figure(data=[kmeans_trace, masi_trace], layout=layout)\n",
    "\n",
    "# Show plot\n",
    "fig.show()"
   ]
  },
  {
   "cell_type": "markdown",
   "metadata": {},
   "source": [
    "In early 2021, the K-Means (DTW) Portfolio experiences significant drawdowns, reaching nearly -20% during the most volatile period. This indicates a challenging market environment for the portfolio, likely reflecting the complexities involved in clustering assets using DTW and the inherent risks of the selected investments. \n",
    "\n",
    "In contrast, the MASI Index exhibits a more stable performance, with a smaller drawdown throughout the testing period. This suggests that while the K-Means (DTW) Portfolio aimed for higher potential returns, it also exposed investors to greater volatility and risk.\n",
    "\n",
    "However, after the initial volatility, the K-Means (DTW) Portfolio stabilizes, maintaining a relatively flat drawdown level, which indicates a recovery and more consistent performance in the latter part of the period. This plot highlights the importance of managing drawdowns when employing clustering techniques in portfolio construction, as the approach can lead to both substantial risks and opportunities for recovery."
   ]
  },
  {
   "cell_type": "markdown",
   "metadata": {},
   "source": [
    "# Autoencoder + KMeans Portfolio Building"
   ]
  },
  {
   "cell_type": "markdown",
   "metadata": {},
   "source": [
    "In this section, we combine the strengths of autoencoders and KMeans clustering to construct a robust portfolio. Autoencoders, a type of neural network, are utilized to compress the high-dimensional asset return data into a lower-dimensional latent space. This compression allows us to capture the essential features and patterns in the data while reducing noise and computational complexity.\n",
    "\n",
    "Once the data is compressed, we apply KMeans clustering to the latent representations. This approach enables us to group similar assets based on their return patterns, facilitating more informed asset selection. By identifying clusters of assets that exhibit similar behaviors, we aim to create a diversified portfolio that minimizes risk while maximizing potential returns.\n",
    "\n",
    "After clustering, we will select representative assets from each cluster and optimize their weights using methods such as Sharpe Ratio maximization. This integrated approach leverages both machine learning and traditional portfolio theory, allowing us to harness the power of data-driven techniques to enhance portfolio performance."
   ]
  },
  {
   "cell_type": "markdown",
   "metadata": {},
   "source": [
    "## Building the Autoencoder + KMeans Portfolio"
   ]
  },
  {
   "cell_type": "code",
   "execution_count": 51,
   "metadata": {},
   "outputs": [
    {
     "data": {
      "text/html": [
       "<pre style=\"white-space:pre;overflow-x:auto;line-height:normal;font-family:Menlo,'DejaVu Sans Mono',consolas,'Courier New',monospace\"><span style=\"font-weight: bold\">Model: \"functional\"</span>\n",
       "</pre>\n"
      ],
      "text/plain": [
       "\u001b[1mModel: \"functional\"\u001b[0m\n"
      ]
     },
     "metadata": {},
     "output_type": "display_data"
    },
    {
     "data": {
      "text/html": [
       "<pre style=\"white-space:pre;overflow-x:auto;line-height:normal;font-family:Menlo,'DejaVu Sans Mono',consolas,'Courier New',monospace\">┏━━━━━━━━━━━━━━━━━━━━━━━━━━━━━━━━━┳━━━━━━━━━━━━━━━━━━━━━━━━┳━━━━━━━━━━━━━━━┓\n",
       "┃<span style=\"font-weight: bold\"> Layer (type)                    </span>┃<span style=\"font-weight: bold\"> Output Shape           </span>┃<span style=\"font-weight: bold\">       Param # </span>┃\n",
       "┡━━━━━━━━━━━━━━━━━━━━━━━━━━━━━━━━━╇━━━━━━━━━━━━━━━━━━━━━━━━╇━━━━━━━━━━━━━━━┩\n",
       "│ input_layer (<span style=\"color: #0087ff; text-decoration-color: #0087ff\">InputLayer</span>)        │ (<span style=\"color: #00d7ff; text-decoration-color: #00d7ff\">None</span>, <span style=\"color: #00af00; text-decoration-color: #00af00\">995</span>)            │             <span style=\"color: #00af00; text-decoration-color: #00af00\">0</span> │\n",
       "├─────────────────────────────────┼────────────────────────┼───────────────┤\n",
       "│ dense (<span style=\"color: #0087ff; text-decoration-color: #0087ff\">Dense</span>)                   │ (<span style=\"color: #00d7ff; text-decoration-color: #00d7ff\">None</span>, <span style=\"color: #00af00; text-decoration-color: #00af00\">64</span>)             │        <span style=\"color: #00af00; text-decoration-color: #00af00\">63,744</span> │\n",
       "├─────────────────────────────────┼────────────────────────┼───────────────┤\n",
       "│ dense_1 (<span style=\"color: #0087ff; text-decoration-color: #0087ff\">Dense</span>)                 │ (<span style=\"color: #00d7ff; text-decoration-color: #00d7ff\">None</span>, <span style=\"color: #00af00; text-decoration-color: #00af00\">32</span>)             │         <span style=\"color: #00af00; text-decoration-color: #00af00\">2,080</span> │\n",
       "├─────────────────────────────────┼────────────────────────┼───────────────┤\n",
       "│ dense_2 (<span style=\"color: #0087ff; text-decoration-color: #0087ff\">Dense</span>)                 │ (<span style=\"color: #00d7ff; text-decoration-color: #00d7ff\">None</span>, <span style=\"color: #00af00; text-decoration-color: #00af00\">10</span>)             │           <span style=\"color: #00af00; text-decoration-color: #00af00\">330</span> │\n",
       "├─────────────────────────────────┼────────────────────────┼───────────────┤\n",
       "│ dense_3 (<span style=\"color: #0087ff; text-decoration-color: #0087ff\">Dense</span>)                 │ (<span style=\"color: #00d7ff; text-decoration-color: #00d7ff\">None</span>, <span style=\"color: #00af00; text-decoration-color: #00af00\">32</span>)             │           <span style=\"color: #00af00; text-decoration-color: #00af00\">352</span> │\n",
       "├─────────────────────────────────┼────────────────────────┼───────────────┤\n",
       "│ dense_4 (<span style=\"color: #0087ff; text-decoration-color: #0087ff\">Dense</span>)                 │ (<span style=\"color: #00d7ff; text-decoration-color: #00d7ff\">None</span>, <span style=\"color: #00af00; text-decoration-color: #00af00\">64</span>)             │         <span style=\"color: #00af00; text-decoration-color: #00af00\">2,112</span> │\n",
       "├─────────────────────────────────┼────────────────────────┼───────────────┤\n",
       "│ dense_5 (<span style=\"color: #0087ff; text-decoration-color: #0087ff\">Dense</span>)                 │ (<span style=\"color: #00d7ff; text-decoration-color: #00d7ff\">None</span>, <span style=\"color: #00af00; text-decoration-color: #00af00\">995</span>)            │        <span style=\"color: #00af00; text-decoration-color: #00af00\">64,675</span> │\n",
       "└─────────────────────────────────┴────────────────────────┴───────────────┘\n",
       "</pre>\n"
      ],
      "text/plain": [
       "┏━━━━━━━━━━━━━━━━━━━━━━━━━━━━━━━━━┳━━━━━━━━━━━━━━━━━━━━━━━━┳━━━━━━━━━━━━━━━┓\n",
       "┃\u001b[1m \u001b[0m\u001b[1mLayer (type)                   \u001b[0m\u001b[1m \u001b[0m┃\u001b[1m \u001b[0m\u001b[1mOutput Shape          \u001b[0m\u001b[1m \u001b[0m┃\u001b[1m \u001b[0m\u001b[1m      Param #\u001b[0m\u001b[1m \u001b[0m┃\n",
       "┡━━━━━━━━━━━━━━━━━━━━━━━━━━━━━━━━━╇━━━━━━━━━━━━━━━━━━━━━━━━╇━━━━━━━━━━━━━━━┩\n",
       "│ input_layer (\u001b[38;5;33mInputLayer\u001b[0m)        │ (\u001b[38;5;45mNone\u001b[0m, \u001b[38;5;34m995\u001b[0m)            │             \u001b[38;5;34m0\u001b[0m │\n",
       "├─────────────────────────────────┼────────────────────────┼───────────────┤\n",
       "│ dense (\u001b[38;5;33mDense\u001b[0m)                   │ (\u001b[38;5;45mNone\u001b[0m, \u001b[38;5;34m64\u001b[0m)             │        \u001b[38;5;34m63,744\u001b[0m │\n",
       "├─────────────────────────────────┼────────────────────────┼───────────────┤\n",
       "│ dense_1 (\u001b[38;5;33mDense\u001b[0m)                 │ (\u001b[38;5;45mNone\u001b[0m, \u001b[38;5;34m32\u001b[0m)             │         \u001b[38;5;34m2,080\u001b[0m │\n",
       "├─────────────────────────────────┼────────────────────────┼───────────────┤\n",
       "│ dense_2 (\u001b[38;5;33mDense\u001b[0m)                 │ (\u001b[38;5;45mNone\u001b[0m, \u001b[38;5;34m10\u001b[0m)             │           \u001b[38;5;34m330\u001b[0m │\n",
       "├─────────────────────────────────┼────────────────────────┼───────────────┤\n",
       "│ dense_3 (\u001b[38;5;33mDense\u001b[0m)                 │ (\u001b[38;5;45mNone\u001b[0m, \u001b[38;5;34m32\u001b[0m)             │           \u001b[38;5;34m352\u001b[0m │\n",
       "├─────────────────────────────────┼────────────────────────┼───────────────┤\n",
       "│ dense_4 (\u001b[38;5;33mDense\u001b[0m)                 │ (\u001b[38;5;45mNone\u001b[0m, \u001b[38;5;34m64\u001b[0m)             │         \u001b[38;5;34m2,112\u001b[0m │\n",
       "├─────────────────────────────────┼────────────────────────┼───────────────┤\n",
       "│ dense_5 (\u001b[38;5;33mDense\u001b[0m)                 │ (\u001b[38;5;45mNone\u001b[0m, \u001b[38;5;34m995\u001b[0m)            │        \u001b[38;5;34m64,675\u001b[0m │\n",
       "└─────────────────────────────────┴────────────────────────┴───────────────┘\n"
      ]
     },
     "metadata": {},
     "output_type": "display_data"
    },
    {
     "data": {
      "text/html": [
       "<pre style=\"white-space:pre;overflow-x:auto;line-height:normal;font-family:Menlo,'DejaVu Sans Mono',consolas,'Courier New',monospace\"><span style=\"font-weight: bold\"> Total params: </span><span style=\"color: #00af00; text-decoration-color: #00af00\">133,293</span> (520.68 KB)\n",
       "</pre>\n"
      ],
      "text/plain": [
       "\u001b[1m Total params: \u001b[0m\u001b[38;5;34m133,293\u001b[0m (520.68 KB)\n"
      ]
     },
     "metadata": {},
     "output_type": "display_data"
    },
    {
     "data": {
      "text/html": [
       "<pre style=\"white-space:pre;overflow-x:auto;line-height:normal;font-family:Menlo,'DejaVu Sans Mono',consolas,'Courier New',monospace\"><span style=\"font-weight: bold\"> Trainable params: </span><span style=\"color: #00af00; text-decoration-color: #00af00\">133,293</span> (520.68 KB)\n",
       "</pre>\n"
      ],
      "text/plain": [
       "\u001b[1m Trainable params: \u001b[0m\u001b[38;5;34m133,293\u001b[0m (520.68 KB)\n"
      ]
     },
     "metadata": {},
     "output_type": "display_data"
    },
    {
     "data": {
      "text/html": [
       "<pre style=\"white-space:pre;overflow-x:auto;line-height:normal;font-family:Menlo,'DejaVu Sans Mono',consolas,'Courier New',monospace\"><span style=\"font-weight: bold\"> Non-trainable params: </span><span style=\"color: #00af00; text-decoration-color: #00af00\">0</span> (0.00 B)\n",
       "</pre>\n"
      ],
      "text/plain": [
       "\u001b[1m Non-trainable params: \u001b[0m\u001b[38;5;34m0\u001b[0m (0.00 B)\n"
      ]
     },
     "metadata": {},
     "output_type": "display_data"
    }
   ],
   "source": [
    "# Define the size of the input layer (equal to the number of assets/features)\n",
    "input_dim = train_returns.shape[1]  # Number of assets\n",
    "\n",
    "# Define the size of the latent space (compressed dimension)\n",
    "latent_dim = 10  # You can adjust this based on experimentation\n",
    "\n",
    "# Define the encoder part of the autoencoder\n",
    "input_layer = Input(shape=(input_dim,))  # Input layer with size equal to the number of assets\n",
    "encoder = Dense(64, activation='relu')(input_layer)  # First hidden layer with 64 units and ReLU activation\n",
    "encoder = Dense(32, activation='relu')(encoder)  # Second hidden layer with 32 units and ReLU activation\n",
    "latent_space = Dense(latent_dim, activation='relu')(encoder)  # Latent space with reduced dimensions\n",
    "\n",
    "# Define the decoder part of the autoencoder\n",
    "decoder = Dense(32, activation='relu')(latent_space)  # Decoder layer with 32 units and ReLU activation\n",
    "decoder = Dense(64, activation='relu')(decoder)  # Another decoder layer with 64 units and ReLU activation\n",
    "output_layer = Dense(input_dim, activation='sigmoid')(decoder)  # Output layer with sigmoid activation\n",
    "\n",
    "# Combine encoder and decoder into a complete autoencoder model\n",
    "autoencoder = Model(input_layer, output_layer)\n",
    "\n",
    "# Compile the model with Adam optimizer and Mean Squared Error loss function\n",
    "autoencoder.compile(optimizer='adam', loss='mse')\n",
    "\n",
    "# Print the model summary to show the architecture\n",
    "autoencoder.summary()"
   ]
  },
  {
   "cell_type": "markdown",
   "metadata": {},
   "source": [
    "With the autoencoder architecture defined, we now train the model on the asset return data for both the input and output, aiming to reconstruct the input."
   ]
  },
  {
   "cell_type": "code",
   "execution_count": 52,
   "metadata": {},
   "outputs": [
    {
     "name": "stdout",
     "output_type": "stream",
     "text": [
      "Epoch 1/50\n",
      "\u001b[1m2/2\u001b[0m \u001b[32m━━━━━━━━━━━━━━━━━━━━\u001b[0m\u001b[37m\u001b[0m \u001b[1m1s\u001b[0m 118ms/step - loss: 0.2502 - val_loss: 0.2499\n",
      "Epoch 2/50\n",
      "\u001b[1m2/2\u001b[0m \u001b[32m━━━━━━━━━━━━━━━━━━━━\u001b[0m\u001b[37m\u001b[0m \u001b[1m0s\u001b[0m 23ms/step - loss: 0.2497 - val_loss: 0.2493\n",
      "Epoch 3/50\n",
      "\u001b[1m2/2\u001b[0m \u001b[32m━━━━━━━━━━━━━━━━━━━━\u001b[0m\u001b[37m\u001b[0m \u001b[1m0s\u001b[0m 21ms/step - loss: 0.2491 - val_loss: 0.2487\n",
      "Epoch 4/50\n",
      "\u001b[1m2/2\u001b[0m \u001b[32m━━━━━━━━━━━━━━━━━━━━\u001b[0m\u001b[37m\u001b[0m \u001b[1m0s\u001b[0m 22ms/step - loss: 0.2484 - val_loss: 0.2478\n",
      "Epoch 5/50\n",
      "\u001b[1m2/2\u001b[0m \u001b[32m━━━━━━━━━━━━━━━━━━━━\u001b[0m\u001b[37m\u001b[0m \u001b[1m0s\u001b[0m 22ms/step - loss: 0.2475 - val_loss: 0.2467\n",
      "Epoch 6/50\n",
      "\u001b[1m2/2\u001b[0m \u001b[32m━━━━━━━━━━━━━━━━━━━━\u001b[0m\u001b[37m\u001b[0m \u001b[1m0s\u001b[0m 22ms/step - loss: 0.2463 - val_loss: 0.2453\n",
      "Epoch 7/50\n",
      "\u001b[1m2/2\u001b[0m \u001b[32m━━━━━━━━━━━━━━━━━━━━\u001b[0m\u001b[37m\u001b[0m \u001b[1m0s\u001b[0m 22ms/step - loss: 0.2447 - val_loss: 0.2434\n",
      "Epoch 8/50\n",
      "\u001b[1m2/2\u001b[0m \u001b[32m━━━━━━━━━━━━━━━━━━━━\u001b[0m\u001b[37m\u001b[0m \u001b[1m0s\u001b[0m 22ms/step - loss: 0.2426 - val_loss: 0.2409\n",
      "Epoch 9/50\n",
      "\u001b[1m2/2\u001b[0m \u001b[32m━━━━━━━━━━━━━━━━━━━━\u001b[0m\u001b[37m\u001b[0m \u001b[1m0s\u001b[0m 21ms/step - loss: 0.2397 - val_loss: 0.2375\n",
      "Epoch 10/50\n",
      "\u001b[1m2/2\u001b[0m \u001b[32m━━━━━━━━━━━━━━━━━━━━\u001b[0m\u001b[37m\u001b[0m \u001b[1m0s\u001b[0m 22ms/step - loss: 0.2358 - val_loss: 0.2330\n",
      "Epoch 11/50\n",
      "\u001b[1m2/2\u001b[0m \u001b[32m━━━━━━━━━━━━━━━━━━━━\u001b[0m\u001b[37m\u001b[0m \u001b[1m0s\u001b[0m 22ms/step - loss: 0.2305 - val_loss: 0.2270\n",
      "Epoch 12/50\n",
      "\u001b[1m2/2\u001b[0m \u001b[32m━━━━━━━━━━━━━━━━━━━━\u001b[0m\u001b[37m\u001b[0m \u001b[1m0s\u001b[0m 21ms/step - loss: 0.2236 - val_loss: 0.2192\n",
      "Epoch 13/50\n",
      "\u001b[1m2/2\u001b[0m \u001b[32m━━━━━━━━━━━━━━━━━━━━\u001b[0m\u001b[37m\u001b[0m \u001b[1m0s\u001b[0m 22ms/step - loss: 0.2142 - val_loss: 0.2090\n",
      "Epoch 14/50\n",
      "\u001b[1m2/2\u001b[0m \u001b[32m━━━━━━━━━━━━━━━━━━━━\u001b[0m\u001b[37m\u001b[0m \u001b[1m0s\u001b[0m 22ms/step - loss: 0.2021 - val_loss: 0.1962\n",
      "Epoch 15/50\n",
      "\u001b[1m2/2\u001b[0m \u001b[32m━━━━━━━━━━━━━━━━━━━━\u001b[0m\u001b[37m\u001b[0m \u001b[1m0s\u001b[0m 22ms/step - loss: 0.1864 - val_loss: 0.1801\n",
      "Epoch 16/50\n",
      "\u001b[1m2/2\u001b[0m \u001b[32m━━━━━━━━━━━━━━━━━━━━\u001b[0m\u001b[37m\u001b[0m \u001b[1m0s\u001b[0m 22ms/step - loss: 0.1683 - val_loss: 0.1607\n",
      "Epoch 17/50\n",
      "\u001b[1m2/2\u001b[0m \u001b[32m━━━━━━━━━━━━━━━━━━━━\u001b[0m\u001b[37m\u001b[0m \u001b[1m0s\u001b[0m 22ms/step - loss: 0.1451 - val_loss: 0.1380\n",
      "Epoch 18/50\n",
      "\u001b[1m2/2\u001b[0m \u001b[32m━━━━━━━━━━━━━━━━━━━━\u001b[0m\u001b[37m\u001b[0m \u001b[1m0s\u001b[0m 23ms/step - loss: 0.1192 - val_loss: 0.1129\n",
      "Epoch 19/50\n",
      "\u001b[1m2/2\u001b[0m \u001b[32m━━━━━━━━━━━━━━━━━━━━\u001b[0m\u001b[37m\u001b[0m \u001b[1m0s\u001b[0m 23ms/step - loss: 0.0908 - val_loss: 0.0871\n",
      "Epoch 20/50\n",
      "\u001b[1m2/2\u001b[0m \u001b[32m━━━━━━━━━━━━━━━━━━━━\u001b[0m\u001b[37m\u001b[0m \u001b[1m0s\u001b[0m 19ms/step - loss: 0.0657 - val_loss: 0.0630\n",
      "Epoch 21/50\n",
      "\u001b[1m2/2\u001b[0m \u001b[32m━━━━━━━━━━━━━━━━━━━━\u001b[0m\u001b[37m\u001b[0m \u001b[1m0s\u001b[0m 21ms/step - loss: 0.0443 - val_loss: 0.0428\n",
      "Epoch 22/50\n",
      "\u001b[1m2/2\u001b[0m \u001b[32m━━━━━━━━━━━━━━━━━━━━\u001b[0m\u001b[37m\u001b[0m \u001b[1m0s\u001b[0m 20ms/step - loss: 0.0263 - val_loss: 0.0278\n",
      "Epoch 23/50\n",
      "\u001b[1m2/2\u001b[0m \u001b[32m━━━━━━━━━━━━━━━━━━━━\u001b[0m\u001b[37m\u001b[0m \u001b[1m0s\u001b[0m 20ms/step - loss: 0.0162 - val_loss: 0.0176\n",
      "Epoch 24/50\n",
      "\u001b[1m2/2\u001b[0m \u001b[32m━━━━━━━━━━━━━━━━━━━━\u001b[0m\u001b[37m\u001b[0m \u001b[1m0s\u001b[0m 22ms/step - loss: 0.0089 - val_loss: 0.0111\n",
      "Epoch 25/50\n",
      "\u001b[1m2/2\u001b[0m \u001b[32m━━━━━━━━━━━━━━━━━━━━\u001b[0m\u001b[37m\u001b[0m \u001b[1m0s\u001b[0m 22ms/step - loss: 0.0051 - val_loss: 0.0072\n",
      "Epoch 26/50\n",
      "\u001b[1m2/2\u001b[0m \u001b[32m━━━━━━━━━━━━━━━━━━━━\u001b[0m\u001b[37m\u001b[0m \u001b[1m0s\u001b[0m 22ms/step - loss: 0.0033 - val_loss: 0.0048\n",
      "Epoch 27/50\n",
      "\u001b[1m2/2\u001b[0m \u001b[32m━━━━━━━━━━━━━━━━━━━━\u001b[0m\u001b[37m\u001b[0m \u001b[1m0s\u001b[0m 24ms/step - loss: 0.0019 - val_loss: 0.0033\n",
      "Epoch 28/50\n",
      "\u001b[1m2/2\u001b[0m \u001b[32m━━━━━━━━━━━━━━━━━━━━\u001b[0m\u001b[37m\u001b[0m \u001b[1m0s\u001b[0m 20ms/step - loss: 0.0014 - val_loss: 0.0025\n",
      "Epoch 29/50\n",
      "\u001b[1m2/2\u001b[0m \u001b[32m━━━━━━━━━━━━━━━━━━━━\u001b[0m\u001b[37m\u001b[0m \u001b[1m0s\u001b[0m 21ms/step - loss: 9.5878e-04 - val_loss: 0.0019\n",
      "Epoch 30/50\n",
      "\u001b[1m2/2\u001b[0m \u001b[32m━━━━━━━━━━━━━━━━━━━━\u001b[0m\u001b[37m\u001b[0m \u001b[1m0s\u001b[0m 26ms/step - loss: 7.7288e-04 - val_loss: 0.0015\n",
      "Epoch 31/50\n",
      "\u001b[1m2/2\u001b[0m \u001b[32m━━━━━━━━━━━━━━━━━━━━\u001b[0m\u001b[37m\u001b[0m \u001b[1m0s\u001b[0m 26ms/step - loss: 7.2053e-04 - val_loss: 0.0013\n",
      "Epoch 32/50\n",
      "\u001b[1m2/2\u001b[0m \u001b[32m━━━━━━━━━━━━━━━━━━━━\u001b[0m\u001b[37m\u001b[0m \u001b[1m0s\u001b[0m 24ms/step - loss: 5.9814e-04 - val_loss: 0.0011\n",
      "Epoch 33/50\n",
      "\u001b[1m2/2\u001b[0m \u001b[32m━━━━━━━━━━━━━━━━━━━━\u001b[0m\u001b[37m\u001b[0m \u001b[1m0s\u001b[0m 21ms/step - loss: 5.9575e-04 - val_loss: 0.0010\n",
      "Epoch 34/50\n",
      "\u001b[1m2/2\u001b[0m \u001b[32m━━━━━━━━━━━━━━━━━━━━\u001b[0m\u001b[37m\u001b[0m \u001b[1m0s\u001b[0m 22ms/step - loss: 5.4440e-04 - val_loss: 9.4951e-04\n",
      "Epoch 35/50\n",
      "\u001b[1m2/2\u001b[0m \u001b[32m━━━━━━━━━━━━━━━━━━━━\u001b[0m\u001b[37m\u001b[0m \u001b[1m0s\u001b[0m 21ms/step - loss: 5.3174e-04 - val_loss: 8.9075e-04\n",
      "Epoch 36/50\n",
      "\u001b[1m2/2\u001b[0m \u001b[32m━━━━━━━━━━━━━━━━━━━━\u001b[0m\u001b[37m\u001b[0m \u001b[1m0s\u001b[0m 23ms/step - loss: 5.2111e-04 - val_loss: 8.4700e-04\n",
      "Epoch 37/50\n",
      "\u001b[1m2/2\u001b[0m \u001b[32m━━━━━━━━━━━━━━━━━━━━\u001b[0m\u001b[37m\u001b[0m \u001b[1m0s\u001b[0m 22ms/step - loss: 4.8271e-04 - val_loss: 8.1377e-04\n",
      "Epoch 38/50\n",
      "\u001b[1m2/2\u001b[0m \u001b[32m━━━━━━━━━━━━━━━━━━━━\u001b[0m\u001b[37m\u001b[0m \u001b[1m0s\u001b[0m 22ms/step - loss: 4.9030e-04 - val_loss: 7.8800e-04\n",
      "Epoch 39/50\n",
      "\u001b[1m2/2\u001b[0m \u001b[32m━━━━━━━━━━━━━━━━━━━━\u001b[0m\u001b[37m\u001b[0m \u001b[1m0s\u001b[0m 23ms/step - loss: 4.7093e-04 - val_loss: 7.6796e-04\n",
      "Epoch 40/50\n",
      "\u001b[1m2/2\u001b[0m \u001b[32m━━━━━━━━━━━━━━━━━━━━\u001b[0m\u001b[37m\u001b[0m \u001b[1m0s\u001b[0m 22ms/step - loss: 4.7658e-04 - val_loss: 7.5203e-04\n",
      "Epoch 41/50\n",
      "\u001b[1m2/2\u001b[0m \u001b[32m━━━━━━━━━━━━━━━━━━━━\u001b[0m\u001b[37m\u001b[0m \u001b[1m0s\u001b[0m 21ms/step - loss: 4.6824e-04 - val_loss: 7.3925e-04\n",
      "Epoch 42/50\n",
      "\u001b[1m2/2\u001b[0m \u001b[32m━━━━━━━━━━━━━━━━━━━━\u001b[0m\u001b[37m\u001b[0m \u001b[1m0s\u001b[0m 21ms/step - loss: 4.7554e-04 - val_loss: 7.2889e-04\n",
      "Epoch 43/50\n",
      "\u001b[1m2/2\u001b[0m \u001b[32m━━━━━━━━━━━━━━━━━━━━\u001b[0m\u001b[37m\u001b[0m \u001b[1m0s\u001b[0m 22ms/step - loss: 4.6363e-04 - val_loss: 7.2046e-04\n",
      "Epoch 44/50\n",
      "\u001b[1m2/2\u001b[0m \u001b[32m━━━━━━━━━━━━━━━━━━━━\u001b[0m\u001b[37m\u001b[0m \u001b[1m0s\u001b[0m 26ms/step - loss: 4.5879e-04 - val_loss: 7.1342e-04\n",
      "Epoch 45/50\n",
      "\u001b[1m2/2\u001b[0m \u001b[32m━━━━━━━━━━━━━━━━━━━━\u001b[0m\u001b[37m\u001b[0m \u001b[1m0s\u001b[0m 25ms/step - loss: 4.6732e-04 - val_loss: 7.0754e-04\n",
      "Epoch 46/50\n",
      "\u001b[1m2/2\u001b[0m \u001b[32m━━━━━━━━━━━━━━━━━━━━\u001b[0m\u001b[37m\u001b[0m \u001b[1m0s\u001b[0m 26ms/step - loss: 4.5026e-04 - val_loss: 7.0263e-04\n",
      "Epoch 47/50\n",
      "\u001b[1m2/2\u001b[0m \u001b[32m━━━━━━━━━━━━━━━━━━━━\u001b[0m\u001b[37m\u001b[0m \u001b[1m0s\u001b[0m 22ms/step - loss: 4.3662e-04 - val_loss: 6.9836e-04\n",
      "Epoch 48/50\n",
      "\u001b[1m2/2\u001b[0m \u001b[32m━━━━━━━━━━━━━━━━━━━━\u001b[0m\u001b[37m\u001b[0m \u001b[1m0s\u001b[0m 22ms/step - loss: 4.5908e-04 - val_loss: 6.9464e-04\n",
      "Epoch 49/50\n",
      "\u001b[1m2/2\u001b[0m \u001b[32m━━━━━━━━━━━━━━━━━━━━\u001b[0m\u001b[37m\u001b[0m \u001b[1m0s\u001b[0m 23ms/step - loss: 4.6599e-04 - val_loss: 6.9142e-04\n",
      "Epoch 50/50\n",
      "\u001b[1m2/2\u001b[0m \u001b[32m━━━━━━━━━━━━━━━━━━━━\u001b[0m\u001b[37m\u001b[0m \u001b[1m0s\u001b[0m 23ms/step - loss: 4.4425e-04 - val_loss: 6.8858e-04\n"
     ]
    },
    {
     "data": {
      "text/plain": [
       "<keras.src.callbacks.history.History at 0x3339a71a0>"
      ]
     },
     "execution_count": 52,
     "metadata": {},
     "output_type": "execute_result"
    }
   ],
   "source": [
    "# Convert the train_returns DataFrame to a numpy array for training the autoencoder\n",
    "X_train = train_returns.values\n",
    "\n",
    "# Train the autoencoder on the training data (X_train) with 50 epochs and a batch size of 32\n",
    "autoencoder.fit(X_train, X_train, epochs=50, batch_size=32, validation_split=0.2)"
   ]
  },
  {
   "cell_type": "markdown",
   "metadata": {},
   "source": [
    "After training the autoencoder, we define an encoder model specifically to extract the latent features from the input data. This encoder model takes the original input layer and outputs the latent space, which contains the compressed representations of the asset returns.\n",
    "\n",
    "We then generate the compressed data by predicting the latent features using the trained encoder model on the training data. These compressed representations will be used for the subsequent KMeans clustering, enabling us to capture the essential patterns in asset behavior."
   ]
  },
  {
   "cell_type": "code",
   "execution_count": 53,
   "metadata": {},
   "outputs": [
    {
     "name": "stdout",
     "output_type": "stream",
     "text": [
      "\u001b[1m3/3\u001b[0m \u001b[32m━━━━━━━━━━━━━━━━━━━━\u001b[0m\u001b[37m\u001b[0m \u001b[1m0s\u001b[0m 15ms/step\n"
     ]
    }
   ],
   "source": [
    "# Define an encoder model to extract latent features\n",
    "encoder_model = Model(inputs=input_layer, outputs=latent_space)\n",
    "\n",
    "# Generate compressed representations (latent space) for clustering\n",
    "compressed_data = encoder_model.predict(X_train)"
   ]
  },
  {
   "cell_type": "code",
   "execution_count": 100,
   "metadata": {},
   "outputs": [
    {
     "name": "stdout",
     "output_type": "stream",
     "text": [
      "         Instrument\n",
      "Cluster            \n",
      "0                34\n",
      "1                21\n",
      "2                 4\n",
      "3                10\n"
     ]
    }
   ],
   "source": [
    "# Perform KMeans clustering on the compressed data (latent space from the autoencoder)\n",
    "n_clusters = 4  # Set the number of clusters\n",
    "kmeans = KMeans(n_clusters=n_clusters, random_state=42)\n",
    "clusters = kmeans.fit_predict(compressed_data)  # Perform clustering on the latent space\n",
    "\n",
    "# Create a DataFrame associating each asset with its assigned cluster\n",
    "cluster_df = pd.DataFrame({\n",
    "    'Instrument': train_returns.index,  # Asset names from the original data\n",
    "    'Cluster': clusters  # Cluster assignments from KMeans\n",
    "})\n",
    "\n",
    "# Display the count of assets in each cluster\n",
    "print(cluster_df.groupby('Cluster').count())"
   ]
  },
  {
   "cell_type": "code",
   "execution_count": 121,
   "metadata": {},
   "outputs": [
    {
     "name": "stdout",
     "output_type": "stream",
     "text": [
      "Selected Assets: ['FENIE BROSSETTE', 'LafargeHolcim', 'S2M', 'Risma', 'Colorado', 'Med Paper', 'AFMA', 'Stokvis Nord Afr', 'SALAFIN', 'Afric Indus', 'EQDOM', 'BCP', 'Addoha', 'Alliances', 'IBMaroc', 'Res.Dar Saada', 'Unimer', 'BALIMA', 'Rebab Company', 'Auto Nejma', 'Timar', 'Central.Danone']\n"
     ]
    }
   ],
   "source": [
    "# Step 3: Select Assets from Each Cluster\n",
    "n_assets_per_cluster = 6  # Number of assets to select from each cluster\n",
    "selected_assets = []\n",
    "\n",
    "for cluster in range(n_clusters):\n",
    "    # Get the assets belonging to the current cluster\n",
    "    cluster_assets = cluster_df[cluster_df['Cluster'] == cluster]['Instrument']\n",
    "    \n",
    "    # Determine the number of assets available in the current cluster\n",
    "    n_assets_in_cluster = len(cluster_assets)\n",
    "    \n",
    "    # If the cluster contains fewer assets than needed, select all assets from the cluster\n",
    "    if n_assets_per_cluster > n_assets_in_cluster:\n",
    "        selected_assets.extend(cluster_assets.values)\n",
    "    else:\n",
    "        # Randomly select the specified number of assets from the cluster\n",
    "        selected_assets.extend(cluster_assets.sample(n=n_assets_per_cluster, random_state=42).values)\n",
    "\n",
    "# Print the final list of selected assets from all clusters\n",
    "print(\"Selected Assets:\", selected_assets)"
   ]
  },
  {
   "cell_type": "markdown",
   "metadata": {},
   "source": [
    "Once a specified number of assets are selected from each cluster, we proceed to optimize the portfolio weights to maximize the Sharpe Ratio. By adjusting the asset allocations based on the latent representations and cluster characteristics, we aim to construct a portfolio that balances risk and return effectively."
   ]
  },
  {
   "cell_type": "code",
   "execution_count": 122,
   "metadata": {},
   "outputs": [
    {
     "name": "stdout",
     "output_type": "stream",
     "text": [
      "Optimized Weights: [0.07513009 0.001      0.001      0.06201394 0.0975145  0.05906878\n",
      " 0.30324808 0.001      0.00580149 0.10025831 0.19785838 0.001\n",
      " 0.001      0.001      0.001      0.001      0.001      0.08610643\n",
      " 0.001      0.001      0.001      0.001     ]\n",
      "Optimized Sharpe Ratio: 0.0026737551535977538\n"
     ]
    }
   ],
   "source": [
    "# Step 4: Create the Portfolio with Selected Assets\n",
    "# Calculate daily returns for the selected assets and drop missing values\n",
    "selected_returns = stocks[selected_assets].pct_change().dropna()\n",
    "\n",
    "# Define initial equal weights for the selected assets\n",
    "initial_weights = np.array([1 / len(selected_assets)] * len(selected_assets))\n",
    "\n",
    "# Define bounds for the weights (each weight between 0.001 and 1) and a constraint that the weights must sum to 1\n",
    "bounds = [(0.001, 1)] * len(selected_assets)\n",
    "constraints = ({'type': 'eq', 'fun': lambda x: np.sum(x) - 1})\n",
    "\n",
    "# Optimize the portfolio for maximum Sharpe Ratio using the selected assets' returns\n",
    "result = minimize(sharpe_ratio, initial_weights, args=(selected_returns, 0.02),\n",
    "                  bounds=bounds, method='SLSQP', constraints=constraints)\n",
    "\n",
    "# Extract the optimized portfolio weights from the optimization result\n",
    "optimized_weights = result.x\n",
    "\n",
    "# Print the optimized weights and the Sharpe Ratio of the optimized portfolio\n",
    "print(\"Optimized Weights:\", optimized_weights)\n",
    "optimized_sharpe_ratio = -result.fun  # Convert back to positive since it was negated for optimization\n",
    "print(\"Optimized Sharpe Ratio:\", optimized_sharpe_ratio)"
   ]
  },
  {
   "cell_type": "code",
   "execution_count": 123,
   "metadata": {},
   "outputs": [
    {
     "name": "stdout",
     "output_type": "stream",
     "text": [
      "Portfolio Composition:\n",
      "                Asset    Weight\n",
      "0    FENIE BROSSETTE  0.075130\n",
      "1      LafargeHolcim  0.001000\n",
      "2                S2M  0.001000\n",
      "3              Risma  0.062014\n",
      "4           Colorado  0.097514\n",
      "5          Med Paper  0.059069\n",
      "6               AFMA  0.303248\n",
      "7   Stokvis Nord Afr  0.001000\n",
      "8            SALAFIN  0.005801\n",
      "9        Afric Indus  0.100258\n",
      "10             EQDOM  0.197858\n",
      "11               BCP  0.001000\n",
      "12            Addoha  0.001000\n",
      "13         Alliances  0.001000\n",
      "14           IBMaroc  0.001000\n",
      "15     Res.Dar Saada  0.001000\n",
      "16            Unimer  0.001000\n",
      "17            BALIMA  0.086106\n",
      "18     Rebab Company  0.001000\n",
      "19        Auto Nejma  0.001000\n",
      "20             Timar  0.001000\n",
      "21    Central.Danone  0.001000\n"
     ]
    }
   ],
   "source": [
    "# Show the selected assets and their corresponding optimized weights in a DataFrame\n",
    "portfolio = pd.DataFrame({\n",
    "    'Asset': selected_assets,  # List of selected assets\n",
    "    'Weight': optimized_weights  # Corresponding optimized weights\n",
    "})\n",
    "\n",
    "# Print the portfolio composition (assets and their weights)\n",
    "print(\"Portfolio Composition:\\n\", portfolio)"
   ]
  },
  {
   "cell_type": "markdown",
   "metadata": {},
   "source": [
    "## Backtesting the Autoencoder + KMeans Portfolio"
   ]
  },
  {
   "cell_type": "code",
   "execution_count": 124,
   "metadata": {},
   "outputs": [
    {
     "name": "stdout",
     "output_type": "stream",
     "text": [
      "The cumulative return for the Autoencoder Portfolio over the entire testing period : 40.22%\n"
     ]
    }
   ],
   "source": [
    "# Calculate the cumulative returns for the autoencoder-optimized portfolio over the testing period\n",
    "autoencoder_portfolio_returns = cumulative_returns(optimized_weights, test[selected_assets])\n",
    "\n",
    "print(f\"The cumulative return for the Autoencoder Portfolio over the entire testing period : {autoencoder_portfolio_returns[-1]*100:.2f}%\")"
   ]
  },
  {
   "cell_type": "code",
   "execution_count": 125,
   "metadata": {},
   "outputs": [
    {
     "data": {
      "application/vnd.plotly.v1+json": {
       "config": {
        "plotlyServerURL": "https://plot.ly"
       },
       "data": [
        {
         "line": {
          "color": "green"
         },
         "mode": "lines",
         "name": "Autoencoder Clustered Portfolio",
         "type": "scatter",
         "x": [
          "2021-02-08T00:00:00",
          "2021-02-09T00:00:00",
          "2021-02-10T00:00:00",
          "2021-02-11T00:00:00",
          "2021-02-12T00:00:00",
          "2021-02-15T00:00:00",
          "2021-02-16T00:00:00",
          "2021-02-17T00:00:00",
          "2021-02-18T00:00:00",
          "2021-02-19T00:00:00",
          "2021-02-22T00:00:00",
          "2021-02-23T00:00:00",
          "2021-02-24T00:00:00",
          "2021-02-25T00:00:00",
          "2021-02-26T00:00:00",
          "2021-03-01T00:00:00",
          "2021-03-02T00:00:00",
          "2021-03-03T00:00:00",
          "2021-03-04T00:00:00",
          "2021-03-05T00:00:00",
          "2021-03-08T00:00:00",
          "2021-03-09T00:00:00",
          "2021-03-10T00:00:00",
          "2021-03-11T00:00:00",
          "2021-03-12T00:00:00",
          "2021-03-15T00:00:00",
          "2021-03-16T00:00:00",
          "2021-03-17T00:00:00",
          "2021-03-18T00:00:00",
          "2021-03-19T00:00:00",
          "2021-03-22T00:00:00",
          "2021-03-23T00:00:00",
          "2021-03-24T00:00:00",
          "2021-03-25T00:00:00",
          "2021-03-26T00:00:00",
          "2021-03-29T00:00:00",
          "2021-03-30T00:00:00",
          "2021-03-31T00:00:00",
          "2021-04-01T00:00:00",
          "2021-04-02T00:00:00",
          "2021-04-05T00:00:00",
          "2021-04-06T00:00:00",
          "2021-04-07T00:00:00",
          "2021-04-08T00:00:00",
          "2021-04-09T00:00:00",
          "2021-04-12T00:00:00",
          "2021-04-13T00:00:00",
          "2021-04-14T00:00:00",
          "2021-04-15T00:00:00",
          "2021-04-16T00:00:00",
          "2021-04-19T00:00:00",
          "2021-04-20T00:00:00",
          "2021-04-21T00:00:00",
          "2021-04-22T00:00:00",
          "2021-04-23T00:00:00",
          "2021-04-26T00:00:00",
          "2021-04-27T00:00:00",
          "2021-04-28T00:00:00",
          "2021-04-29T00:00:00",
          "2021-04-30T00:00:00",
          "2021-05-03T00:00:00",
          "2021-05-04T00:00:00",
          "2021-05-05T00:00:00",
          "2021-05-06T00:00:00",
          "2021-05-07T00:00:00",
          "2021-05-10T00:00:00",
          "2021-05-11T00:00:00",
          "2021-05-12T00:00:00",
          "2021-05-17T00:00:00",
          "2021-05-18T00:00:00",
          "2021-05-19T00:00:00",
          "2021-05-20T00:00:00",
          "2021-05-21T00:00:00",
          "2021-05-24T00:00:00",
          "2021-05-25T00:00:00",
          "2021-05-26T00:00:00",
          "2021-05-27T00:00:00",
          "2021-05-28T00:00:00",
          "2021-05-31T00:00:00",
          "2021-06-01T00:00:00",
          "2021-06-02T00:00:00",
          "2021-06-03T00:00:00",
          "2021-06-04T00:00:00",
          "2021-06-07T00:00:00",
          "2021-06-08T00:00:00",
          "2021-06-09T00:00:00",
          "2021-06-10T00:00:00",
          "2021-06-11T00:00:00",
          "2021-06-14T00:00:00",
          "2021-06-15T00:00:00",
          "2021-06-16T00:00:00",
          "2021-06-17T00:00:00",
          "2021-06-18T00:00:00",
          "2021-06-21T00:00:00",
          "2021-06-22T00:00:00",
          "2021-06-23T00:00:00",
          "2021-06-24T00:00:00",
          "2021-06-25T00:00:00",
          "2021-06-28T00:00:00",
          "2021-06-29T00:00:00",
          "2021-06-30T00:00:00",
          "2021-07-01T00:00:00",
          "2021-07-02T00:00:00",
          "2021-07-05T00:00:00",
          "2021-07-06T00:00:00",
          "2021-07-07T00:00:00",
          "2021-07-08T00:00:00",
          "2021-07-09T00:00:00",
          "2021-07-12T00:00:00",
          "2021-07-13T00:00:00",
          "2021-07-14T00:00:00",
          "2021-07-15T00:00:00",
          "2021-07-16T00:00:00",
          "2021-07-19T00:00:00",
          "2021-07-20T00:00:00",
          "2021-07-23T00:00:00",
          "2021-07-26T00:00:00",
          "2021-07-27T00:00:00",
          "2021-07-28T00:00:00",
          "2021-07-29T00:00:00",
          "2021-08-02T00:00:00",
          "2021-08-03T00:00:00",
          "2021-08-04T00:00:00",
          "2021-08-05T00:00:00",
          "2021-08-06T00:00:00",
          "2021-08-09T00:00:00",
          "2021-08-11T00:00:00",
          "2021-08-12T00:00:00",
          "2021-08-13T00:00:00",
          "2021-08-16T00:00:00",
          "2021-08-17T00:00:00",
          "2021-08-18T00:00:00",
          "2021-08-19T00:00:00",
          "2021-08-23T00:00:00",
          "2021-08-24T00:00:00",
          "2021-08-25T00:00:00",
          "2021-08-26T00:00:00",
          "2021-08-27T00:00:00",
          "2021-08-30T00:00:00",
          "2021-08-31T00:00:00",
          "2021-09-01T00:00:00",
          "2021-09-02T00:00:00",
          "2021-09-03T00:00:00",
          "2021-09-06T00:00:00",
          "2021-09-07T00:00:00",
          "2021-09-08T00:00:00",
          "2021-09-09T00:00:00",
          "2021-09-10T00:00:00",
          "2021-09-13T00:00:00",
          "2021-09-14T00:00:00",
          "2021-09-15T00:00:00",
          "2021-09-16T00:00:00",
          "2021-09-17T00:00:00",
          "2021-09-20T00:00:00",
          "2021-09-21T00:00:00",
          "2021-09-22T00:00:00",
          "2021-09-23T00:00:00",
          "2021-09-24T00:00:00",
          "2021-09-27T00:00:00",
          "2021-09-28T00:00:00",
          "2021-09-29T00:00:00",
          "2021-09-30T00:00:00",
          "2021-10-01T00:00:00",
          "2021-10-04T00:00:00",
          "2021-10-05T00:00:00",
          "2021-10-06T00:00:00",
          "2021-10-07T00:00:00",
          "2021-10-08T00:00:00",
          "2021-10-11T00:00:00",
          "2021-10-12T00:00:00",
          "2021-10-13T00:00:00",
          "2021-10-14T00:00:00",
          "2021-10-15T00:00:00",
          "2021-10-18T00:00:00",
          "2021-10-21T00:00:00",
          "2021-10-22T00:00:00",
          "2021-10-25T00:00:00",
          "2021-10-26T00:00:00",
          "2021-10-27T00:00:00",
          "2021-10-28T00:00:00",
          "2021-10-29T00:00:00",
          "2021-11-01T00:00:00",
          "2021-11-02T00:00:00",
          "2021-11-03T00:00:00",
          "2021-11-04T00:00:00",
          "2021-11-05T00:00:00",
          "2021-11-08T00:00:00",
          "2021-11-09T00:00:00",
          "2021-11-10T00:00:00",
          "2021-11-11T00:00:00",
          "2021-11-12T00:00:00",
          "2021-11-15T00:00:00",
          "2021-11-16T00:00:00",
          "2021-11-17T00:00:00",
          "2021-11-19T00:00:00",
          "2021-11-22T00:00:00",
          "2021-11-23T00:00:00",
          "2021-11-24T00:00:00",
          "2021-11-25T00:00:00",
          "2021-11-26T00:00:00",
          "2021-11-29T00:00:00",
          "2021-11-30T00:00:00",
          "2021-12-01T00:00:00",
          "2021-12-02T00:00:00",
          "2021-12-03T00:00:00",
          "2021-12-06T00:00:00",
          "2021-12-07T00:00:00",
          "2021-12-08T00:00:00",
          "2021-12-09T00:00:00",
          "2021-12-10T00:00:00",
          "2021-12-13T00:00:00",
          "2021-12-14T00:00:00",
          "2021-12-15T00:00:00",
          "2021-12-16T00:00:00",
          "2021-12-17T00:00:00",
          "2021-12-20T00:00:00",
          "2021-12-21T00:00:00",
          "2021-12-22T00:00:00",
          "2021-12-23T00:00:00",
          "2021-12-24T00:00:00",
          "2021-12-27T00:00:00",
          "2021-12-28T00:00:00",
          "2021-12-29T00:00:00",
          "2021-12-30T00:00:00",
          "2021-12-31T00:00:00",
          "2022-01-03T00:00:00",
          "2022-01-04T00:00:00",
          "2022-01-05T00:00:00",
          "2022-01-06T00:00:00",
          "2022-01-07T00:00:00",
          "2022-01-10T00:00:00",
          "2022-01-12T00:00:00",
          "2022-01-13T00:00:00",
          "2022-01-14T00:00:00",
          "2022-01-17T00:00:00",
          "2022-01-18T00:00:00",
          "2022-01-19T00:00:00",
          "2022-01-20T00:00:00",
          "2022-01-21T00:00:00",
          "2022-01-24T00:00:00",
          "2022-01-25T00:00:00",
          "2022-01-26T00:00:00",
          "2022-01-27T00:00:00",
          "2022-01-28T00:00:00",
          "2022-01-31T00:00:00",
          "2022-02-01T00:00:00",
          "2022-02-02T00:00:00",
          "2022-02-03T00:00:00",
          "2022-02-04T00:00:00"
         ],
         "y": [
          0,
          -0.00272972276624317,
          -0.003145366449155973,
          0.0016629663017591056,
          0.0025863618618122697,
          0.00729328325480183,
          0.012468299534202032,
          0.013501970609927305,
          0.009934489705821559,
          0.010123438908893556,
          0.007896104092653067,
          0.000816589937566059,
          -0.006366856451307967,
          -0.00563181289785275,
          0.00945422417641395,
          0.006672785540949189,
          0.01164594979771394,
          0.008243769919225263,
          0.012235264807101132,
          0.002588635738478562,
          0.0076229036142339,
          0.00146576019968081,
          0.0008485929919024304,
          0.0024730330411739665,
          0.004179369365832297,
          0.0037804354664658923,
          0.007774161728984819,
          0.006774994354519448,
          0.00435434602757212,
          -0.0008838955509329338,
          0.003611512309053877,
          0.014683183560193713,
          0.018664537976173623,
          0.01636104774127234,
          0.01600037531056997,
          0.01908625712370382,
          0.027076318557565093,
          0.028848223427182074,
          0.037756407515679546,
          0.03961123260411448,
          0.03629664129252297,
          0.03437328278271701,
          0.0323371056048658,
          0.03397813165574126,
          0.03613745634581167,
          0.0349439387428685,
          0.03715700418742829,
          0.037002268834250174,
          0.04009773639840564,
          0.03467657545058689,
          0.03151415218696618,
          0.030569858204823497,
          0.03469219255441769,
          0.030596767504357025,
          0.03843171342239593,
          0.034340927613918604,
          0.04378321202279145,
          0.05352976933487108,
          0.05638173283137271,
          0.04642415781193976,
          0.06504215814737302,
          0.07440776036222352,
          0.076601574394638,
          0.08633877001013013,
          0.09113348436570456,
          0.09701830192228034,
          0.09719841435026844,
          0.09904071226815181,
          0.09940555517254923,
          0.09600605155102926,
          0.0941528815680619,
          0.08531592316975267,
          0.08451023538354918,
          0.08388481475024512,
          0.07829521730625122,
          0.08021884353648057,
          0.08033994390480514,
          0.08193608639365046,
          0.07978660866002252,
          0.0721012189057928,
          0.06833975254658409,
          0.07996576103496711,
          0.08022620228015565,
          0.08240673659303965,
          0.08371038262809849,
          0.08539588061617431,
          0.08306746565105239,
          0.09468209311323084,
          0.10183460667684807,
          0.11524075722303873,
          0.11590890387524011,
          0.12408002759794479,
          0.10771651996470477,
          0.1299543613174401,
          0.13344797396372066,
          0.13774211989070206,
          0.1449877900057981,
          0.1403264438422922,
          0.14610716325557238,
          0.14407165336435668,
          0.14152674192046066,
          0.1383737150067066,
          0.1399987864584995,
          0.1295380262988446,
          0.11799991776634888,
          0.13059651514630422,
          0.13607668289124875,
          0.1305847153528652,
          0.12918804012104435,
          0.14317292655912683,
          0.15220850888218918,
          0.16166674088325106,
          0.16615152904126407,
          0.16814590097795712,
          0.16642789171018268,
          0.16839755985502602,
          0.16945271280193053,
          0.17331470664414494,
          0.17496039041135591,
          0.18016795127076568,
          0.18302182471930428,
          0.18022771694948192,
          0.17544090832204362,
          0.17739017788916778,
          0.16194351567055332,
          0.16128671470175626,
          0.16624700406161907,
          0.15805536728103609,
          0.15722470468260719,
          0.14390549877334302,
          0.1467517848749229,
          0.15021555991063718,
          0.15727363467819533,
          0.15832822859816464,
          0.15728763650548339,
          0.15711923625099677,
          0.16912229977540383,
          0.17019173270665378,
          0.18233814395355163,
          0.18274214033252356,
          0.18645848849742164,
          0.19009291702588849,
          0.19644441967867543,
          0.19879046517482402,
          0.20127536847748506,
          0.20382046267588128,
          0.21070567331087986,
          0.21928433094899424,
          0.22614765608449194,
          0.2270793606359327,
          0.22999198549460886,
          0.23726107230838944,
          0.23827929994346864,
          0.24181181187898337,
          0.23634621647820309,
          0.2350210704001674,
          0.22560058061255117,
          0.23205751340115643,
          0.23393609154005124,
          0.24530940824619396,
          0.25313419966875506,
          0.24747328712710215,
          0.2388455269847658,
          0.2454128972690981,
          0.24564760742350944,
          0.245214954907496,
          0.247786693897055,
          0.24362016329603597,
          0.24633816039938328,
          0.25509643147873673,
          0.27659802922050125,
          0.2893865334465746,
          0.292551811199961,
          0.3116885025586138,
          0.33487973672169646,
          0.3411069977644625,
          0.34153096456525733,
          0.34816525403490584,
          0.35940400334593736,
          0.3801027001570392,
          0.38438315936324563,
          0.39861834342934555,
          0.3892683508960233,
          0.4090317362341709,
          0.4129936799000873,
          0.40230571324074704,
          0.40048180279735246,
          0.40616489149173374,
          0.39228145871051123,
          0.3993484806290384,
          0.38514705128689397,
          0.3799789797654154,
          0.38879664036800077,
          0.38144778582545413,
          0.3927207366077581,
          0.4081283904393902,
          0.4069202350229004,
          0.4081647316787158,
          0.4140449835238311,
          0.41051036884459924,
          0.38841498729557955,
          0.39291054168111117,
          0.37837189572458296,
          0.3687422823499218,
          0.3614007606365808,
          0.3571439586947629,
          0.3574037787682931,
          0.3541741520090409,
          0.3488351961266589,
          0.3572214189125211,
          0.3490451216566859,
          0.34409999940360025,
          0.33933917196780317,
          0.34144914453723585,
          0.3354937260427837,
          0.32857761317197887,
          0.33200298440614695,
          0.32949214023511963,
          0.3238436000997327,
          0.32847875666560555,
          0.3318330142551795,
          0.33592585897101035,
          0.34611415360730047,
          0.31631605532854934,
          0.3351062268798315,
          0.3408856590318894,
          0.34730901252932034,
          0.3523001051078605,
          0.3486351924270543,
          0.3659367434129437,
          0.3747551351080849,
          0.36933132435708926,
          0.36792131948654494,
          0.3768604495720014,
          0.3825905930381033,
          0.3880297822393892,
          0.4064511122736014,
          0.4253904048851178,
          0.4237601816174321,
          0.41728447032158167,
          0.4156293463776364,
          0.41776576759369966,
          0.41996385399842984,
          0.41902501924007307,
          0.4213780118115713,
          0.4190941181209651,
          0.40724514878255613,
          0.4063140100797198,
          0.402200633657253
         ]
        },
        {
         "line": {
          "dash": "dash"
         },
         "mode": "lines",
         "name": "MASI Index",
         "type": "scatter",
         "x": [
          "2021-02-08T00:00:00",
          "2021-02-09T00:00:00",
          "2021-02-10T00:00:00",
          "2021-02-11T00:00:00",
          "2021-02-12T00:00:00",
          "2021-02-15T00:00:00",
          "2021-02-16T00:00:00",
          "2021-02-17T00:00:00",
          "2021-02-18T00:00:00",
          "2021-02-19T00:00:00",
          "2021-02-22T00:00:00",
          "2021-02-23T00:00:00",
          "2021-02-24T00:00:00",
          "2021-02-25T00:00:00",
          "2021-02-26T00:00:00",
          "2021-03-01T00:00:00",
          "2021-03-02T00:00:00",
          "2021-03-03T00:00:00",
          "2021-03-04T00:00:00",
          "2021-03-05T00:00:00",
          "2021-03-08T00:00:00",
          "2021-03-09T00:00:00",
          "2021-03-10T00:00:00",
          "2021-03-11T00:00:00",
          "2021-03-12T00:00:00",
          "2021-03-15T00:00:00",
          "2021-03-16T00:00:00",
          "2021-03-17T00:00:00",
          "2021-03-18T00:00:00",
          "2021-03-19T00:00:00",
          "2021-03-22T00:00:00",
          "2021-03-23T00:00:00",
          "2021-03-24T00:00:00",
          "2021-03-25T00:00:00",
          "2021-03-26T00:00:00",
          "2021-03-29T00:00:00",
          "2021-03-30T00:00:00",
          "2021-03-31T00:00:00",
          "2021-04-01T00:00:00",
          "2021-04-02T00:00:00",
          "2021-04-05T00:00:00",
          "2021-04-06T00:00:00",
          "2021-04-07T00:00:00",
          "2021-04-08T00:00:00",
          "2021-04-09T00:00:00",
          "2021-04-12T00:00:00",
          "2021-04-13T00:00:00",
          "2021-04-14T00:00:00",
          "2021-04-15T00:00:00",
          "2021-04-16T00:00:00",
          "2021-04-19T00:00:00",
          "2021-04-20T00:00:00",
          "2021-04-21T00:00:00",
          "2021-04-22T00:00:00",
          "2021-04-23T00:00:00",
          "2021-04-26T00:00:00",
          "2021-04-27T00:00:00",
          "2021-04-28T00:00:00",
          "2021-04-29T00:00:00",
          "2021-04-30T00:00:00",
          "2021-05-03T00:00:00",
          "2021-05-04T00:00:00",
          "2021-05-05T00:00:00",
          "2021-05-06T00:00:00",
          "2021-05-07T00:00:00",
          "2021-05-10T00:00:00",
          "2021-05-11T00:00:00",
          "2021-05-12T00:00:00",
          "2021-05-17T00:00:00",
          "2021-05-18T00:00:00",
          "2021-05-19T00:00:00",
          "2021-05-20T00:00:00",
          "2021-05-21T00:00:00",
          "2021-05-24T00:00:00",
          "2021-05-25T00:00:00",
          "2021-05-26T00:00:00",
          "2021-05-27T00:00:00",
          "2021-05-28T00:00:00",
          "2021-05-31T00:00:00",
          "2021-06-01T00:00:00",
          "2021-06-02T00:00:00",
          "2021-06-03T00:00:00",
          "2021-06-04T00:00:00",
          "2021-06-07T00:00:00",
          "2021-06-08T00:00:00",
          "2021-06-09T00:00:00",
          "2021-06-10T00:00:00",
          "2021-06-11T00:00:00",
          "2021-06-14T00:00:00",
          "2021-06-15T00:00:00",
          "2021-06-16T00:00:00",
          "2021-06-17T00:00:00",
          "2021-06-18T00:00:00",
          "2021-06-21T00:00:00",
          "2021-06-22T00:00:00",
          "2021-06-23T00:00:00",
          "2021-06-24T00:00:00",
          "2021-06-25T00:00:00",
          "2021-06-28T00:00:00",
          "2021-06-29T00:00:00",
          "2021-06-30T00:00:00",
          "2021-07-01T00:00:00",
          "2021-07-02T00:00:00",
          "2021-07-05T00:00:00",
          "2021-07-06T00:00:00",
          "2021-07-07T00:00:00",
          "2021-07-08T00:00:00",
          "2021-07-09T00:00:00",
          "2021-07-12T00:00:00",
          "2021-07-13T00:00:00",
          "2021-07-14T00:00:00",
          "2021-07-15T00:00:00",
          "2021-07-16T00:00:00",
          "2021-07-19T00:00:00",
          "2021-07-20T00:00:00",
          "2021-07-23T00:00:00",
          "2021-07-26T00:00:00",
          "2021-07-27T00:00:00",
          "2021-07-28T00:00:00",
          "2021-07-29T00:00:00",
          "2021-08-02T00:00:00",
          "2021-08-03T00:00:00",
          "2021-08-04T00:00:00",
          "2021-08-05T00:00:00",
          "2021-08-06T00:00:00",
          "2021-08-09T00:00:00",
          "2021-08-11T00:00:00",
          "2021-08-12T00:00:00",
          "2021-08-13T00:00:00",
          "2021-08-16T00:00:00",
          "2021-08-17T00:00:00",
          "2021-08-18T00:00:00",
          "2021-08-19T00:00:00",
          "2021-08-23T00:00:00",
          "2021-08-24T00:00:00",
          "2021-08-25T00:00:00",
          "2021-08-26T00:00:00",
          "2021-08-27T00:00:00",
          "2021-08-30T00:00:00",
          "2021-08-31T00:00:00",
          "2021-09-01T00:00:00",
          "2021-09-02T00:00:00",
          "2021-09-03T00:00:00",
          "2021-09-06T00:00:00",
          "2021-09-07T00:00:00",
          "2021-09-08T00:00:00",
          "2021-09-09T00:00:00",
          "2021-09-10T00:00:00",
          "2021-09-13T00:00:00",
          "2021-09-14T00:00:00",
          "2021-09-15T00:00:00",
          "2021-09-16T00:00:00",
          "2021-09-17T00:00:00",
          "2021-09-20T00:00:00",
          "2021-09-21T00:00:00",
          "2021-09-22T00:00:00",
          "2021-09-23T00:00:00",
          "2021-09-24T00:00:00",
          "2021-09-27T00:00:00",
          "2021-09-28T00:00:00",
          "2021-09-29T00:00:00",
          "2021-09-30T00:00:00",
          "2021-10-01T00:00:00",
          "2021-10-04T00:00:00",
          "2021-10-05T00:00:00",
          "2021-10-06T00:00:00",
          "2021-10-07T00:00:00",
          "2021-10-08T00:00:00",
          "2021-10-11T00:00:00",
          "2021-10-12T00:00:00",
          "2021-10-13T00:00:00",
          "2021-10-14T00:00:00",
          "2021-10-15T00:00:00",
          "2021-10-18T00:00:00",
          "2021-10-21T00:00:00",
          "2021-10-22T00:00:00",
          "2021-10-25T00:00:00",
          "2021-10-26T00:00:00",
          "2021-10-27T00:00:00",
          "2021-10-28T00:00:00",
          "2021-10-29T00:00:00",
          "2021-11-01T00:00:00",
          "2021-11-02T00:00:00",
          "2021-11-03T00:00:00",
          "2021-11-04T00:00:00",
          "2021-11-05T00:00:00",
          "2021-11-08T00:00:00",
          "2021-11-09T00:00:00",
          "2021-11-10T00:00:00",
          "2021-11-11T00:00:00",
          "2021-11-12T00:00:00",
          "2021-11-15T00:00:00",
          "2021-11-16T00:00:00",
          "2021-11-17T00:00:00",
          "2021-11-19T00:00:00",
          "2021-11-22T00:00:00",
          "2021-11-23T00:00:00",
          "2021-11-24T00:00:00",
          "2021-11-25T00:00:00",
          "2021-11-26T00:00:00",
          "2021-11-29T00:00:00",
          "2021-11-30T00:00:00",
          "2021-12-01T00:00:00",
          "2021-12-02T00:00:00",
          "2021-12-03T00:00:00",
          "2021-12-06T00:00:00",
          "2021-12-07T00:00:00",
          "2021-12-08T00:00:00",
          "2021-12-09T00:00:00",
          "2021-12-10T00:00:00",
          "2021-12-13T00:00:00",
          "2021-12-14T00:00:00",
          "2021-12-15T00:00:00",
          "2021-12-16T00:00:00",
          "2021-12-17T00:00:00",
          "2021-12-20T00:00:00",
          "2021-12-21T00:00:00",
          "2021-12-22T00:00:00",
          "2021-12-23T00:00:00",
          "2021-12-24T00:00:00",
          "2021-12-27T00:00:00",
          "2021-12-28T00:00:00",
          "2021-12-29T00:00:00",
          "2021-12-30T00:00:00",
          "2021-12-31T00:00:00",
          "2022-01-03T00:00:00",
          "2022-01-04T00:00:00",
          "2022-01-05T00:00:00",
          "2022-01-06T00:00:00",
          "2022-01-07T00:00:00",
          "2022-01-10T00:00:00",
          "2022-01-12T00:00:00",
          "2022-01-13T00:00:00",
          "2022-01-14T00:00:00",
          "2022-01-17T00:00:00",
          "2022-01-18T00:00:00",
          "2022-01-19T00:00:00",
          "2022-01-20T00:00:00",
          "2022-01-21T00:00:00",
          "2022-01-24T00:00:00",
          "2022-01-25T00:00:00",
          "2022-01-26T00:00:00",
          "2022-01-27T00:00:00",
          "2022-01-28T00:00:00",
          "2022-01-31T00:00:00",
          "2022-02-01T00:00:00",
          "2022-02-02T00:00:00",
          "2022-02-03T00:00:00",
          "2022-02-04T00:00:00"
         ],
         "y": [
          0,
          -0.004573021857980031,
          -0.01200090059126313,
          -0.009601986625110692,
          -0.012658633287570886,
          -0.015080324321870231,
          -0.010615156067898313,
          -0.015697133478634218,
          -0.01167973196944061,
          -0.020309113862777006,
          -0.02145708322350237,
          -0.027581970127370847,
          -0.03575385418792454,
          -0.03000693333612614,
          -0.029611000226924644,
          -0.03013541958063526,
          -0.028581786022703892,
          -0.031250427977778106,
          -0.030273491673029174,
          -0.03029827647223926,
          -0.03184497267858177,
          -0.02901062029073298,
          -0.029971417855148452,
          -0.030226425330785567,
          -0.024750761760931494,
          -0.024509765685054585,
          -0.018580995660147925,
          -0.01229515707330131,
          -0.017743677827887994,
          -0.020465699798634218,
          -0.022382245697429637,
          -0.027530623473370985,
          -0.02313302604909695,
          -0.018117243958691964,
          -0.017546663877600288,
          -0.01894424119893312,
          -0.01596197456471249,
          -0.018890416919366215,
          -0.012984167656513335,
          -0.011260799660144483,
          -0.014664689817639465,
          -0.014241938547555066,
          -0.015236465993832549,
          -0.012673080407689441,
          -0.010671979128755282,
          -0.007483898701714509,
          -0.008329580656148194,
          -0.007296983211497743,
          -0.005996366485213178,
          -0.0030256507122583542,
          -0.003520389820379166,
          -0.00029040334710417337,
          -0.0018872415688084843,
          0.000811798288916199,
          0.002963325613935197,
          0.0020871774085593486,
          0.0035530603037234876,
          0.0066458888430036556,
          0.008091532100343413,
          0.009097097795700337,
          0.012878390131860096,
          0.01758544298949838,
          0.02132037809693932,
          0.026074540014503267,
          0.026282985216546706,
          0.030054640443603287,
          0.027656495395730563,
          0.028811282498534263,
          0.04030036545233462,
          0.03950512453703792,
          0.04259626145610307,
          0.02945891673477119,
          0.03742749025868153,
          0.03299321543247369,
          0.03318656420562904,
          0.035194406334813744,
          0.0335058105317525,
          0.03910823455175505,
          0.03500297131382091,
          0.03932692345398925,
          0.048280549642266024,
          0.058264363997917235,
          0.05734041470616402,
          0.0576439750993849,
          0.05654210666128545,
          0.05609372478188357,
          0.057152234772554156,
          0.06476391060525355,
          0.07355755053016977,
          0.06807899070146295,
          0.06388621601978217,
          0.06298864062501663,
          0.06688809007013052,
          0.07186467441535238,
          0.06945555946669169,
          0.06918193562515351,
          0.06593546012655072,
          0.060902052720471556,
          0.06530440889454225,
          0.06042741655359185,
          0.06018752259391569,
          0.06100185831315419,
          0.06161974395550973,
          0.04925182158235519,
          0.0407908327922355,
          0.045940082008893324,
          0.0479549042073486,
          0.04528927812063732,
          0.04499276614497871,
          0.043221127167728524,
          0.03970141228672741,
          0.0372077932191468,
          0.03941445198480786,
          0.03849778178610075,
          0.03780690871194525,
          0.04378181383362367,
          0.04089397890766544,
          0.042952808862319,
          0.04546545438554994,
          0.05120916286764721,
          0.0622981776406093,
          0.0633383617456178,
          0.06161759952786294,
          0.06519147188635199,
          0.07038269549753595,
          0.067711063304708,
          0.07365556198019929,
          0.0701664756773328,
          0.07846031017701982,
          0.07628205867001903,
          0.07858024434155331,
          0.07794430620670179,
          0.07710655265408373,
          0.08617414961845937,
          0.08557670865880285,
          0.08119646315703677,
          0.08374413717966855,
          0.09226422161133807,
          0.0914825222012976,
          0.08453020233682951,
          0.08550619885257027,
          0.0862473762692797,
          0.09079457956014081,
          0.08429219649870645,
          0.08628414765011416,
          0.08853361807687188,
          0.10818786987158457,
          0.10075331009280597,
          0.10106601207001686,
          0.10224636997738346,
          0.10171420163612233,
          0.10232391111410544,
          0.1123001131787893,
          0.1063504712943617,
          0.1056037149483573,
          0.10838743833926756,
          0.11732630984011383,
          0.12192714945273986,
          0.12108426123472182,
          0.125131539490843,
          0.12751457102275476,
          0.12662119904791758,
          0.11969113509587359,
          0.1176433348467627,
          0.11567580112249809,
          0.11730454945280289,
          0.11897999675328408,
          0.12711043611857153,
          0.12309741744357128,
          0.12437764074837543,
          0.1266985265962286,
          0.1348510680902839,
          0.1363698611066162,
          0.13548998791935274,
          0.13590962079863655,
          0.13635197094131213,
          0.13918118012022473,
          0.15774894184242894,
          0.15665952988045784,
          0.16012675327357617,
          0.15811512635774894,
          0.15402205474631336,
          0.15872876586249407,
          0.15930068727880675,
          0.15397482607687762,
          0.1460130361209,
          0.14724853401244498,
          0.14315403563042417,
          0.14007390278629273,
          0.13906326223029097,
          0.13592522129617457,
          0.13598742678498832,
          0.13313492792574255,
          0.13539134424762556,
          0.13974608729312066,
          0.14069271113058335,
          0.13687067466914504,
          0.13977708324332183,
          0.13838597337907332,
          0.12954771910687146,
          0.11915973567289129,
          0.11795378987388938,
          0.12519969982455392,
          0.13043010409384803,
          0.1299683430363825,
          0.12591067583995108,
          0.13017085902413728,
          0.1304253966052702,
          0.13438509506935348,
          0.13969190418502309,
          0.13492168896249002,
          0.1347409675361917,
          0.13381532662422346,
          0.13368773745104034,
          0.1366087383854555,
          0.13235710728124528,
          0.1314170790539133,
          0.12864413760598947,
          0.13201550252026029,
          0.13137219131346178,
          0.13085552094730124,
          0.1347350468654389,
          0.14391130052624823,
          0.14522967926478958,
          0.14127306501736103,
          0.1359733043192537,
          0.1344521960045464,
          0.13548938987180126,
          0.14216571079160123,
          0.15143394416571465,
          0.15220751012906542,
          0.15604778704080147,
          0.1609163725418956,
          0.17766723163079456,
          0.17651197463348645,
          0.17627835162955674,
          0.1736862255868321,
          0.17709324267866378,
          0.17762453103567144,
          0.17503550629667397,
          0.17103009991264106,
          0.1723683936346223,
          0.17335769243659893,
          0.1784281873343605,
          0.18614133474934813,
          0.1843994614530522,
          0.18802229681887428,
          0.18869584360113123,
          0.19176737310406833
         ]
        }
       ],
       "layout": {
        "legend": {
         "font": {
          "size": 12
         },
         "traceorder": "normal",
         "x": 0,
         "y": 1
        },
        "template": {
         "data": {
          "bar": [
           {
            "error_x": {
             "color": "#2a3f5f"
            },
            "error_y": {
             "color": "#2a3f5f"
            },
            "marker": {
             "line": {
              "color": "#E5ECF6",
              "width": 0.5
             },
             "pattern": {
              "fillmode": "overlay",
              "size": 10,
              "solidity": 0.2
             }
            },
            "type": "bar"
           }
          ],
          "barpolar": [
           {
            "marker": {
             "line": {
              "color": "#E5ECF6",
              "width": 0.5
             },
             "pattern": {
              "fillmode": "overlay",
              "size": 10,
              "solidity": 0.2
             }
            },
            "type": "barpolar"
           }
          ],
          "carpet": [
           {
            "aaxis": {
             "endlinecolor": "#2a3f5f",
             "gridcolor": "white",
             "linecolor": "white",
             "minorgridcolor": "white",
             "startlinecolor": "#2a3f5f"
            },
            "baxis": {
             "endlinecolor": "#2a3f5f",
             "gridcolor": "white",
             "linecolor": "white",
             "minorgridcolor": "white",
             "startlinecolor": "#2a3f5f"
            },
            "type": "carpet"
           }
          ],
          "choropleth": [
           {
            "colorbar": {
             "outlinewidth": 0,
             "ticks": ""
            },
            "type": "choropleth"
           }
          ],
          "contour": [
           {
            "colorbar": {
             "outlinewidth": 0,
             "ticks": ""
            },
            "colorscale": [
             [
              0,
              "#0d0887"
             ],
             [
              0.1111111111111111,
              "#46039f"
             ],
             [
              0.2222222222222222,
              "#7201a8"
             ],
             [
              0.3333333333333333,
              "#9c179e"
             ],
             [
              0.4444444444444444,
              "#bd3786"
             ],
             [
              0.5555555555555556,
              "#d8576b"
             ],
             [
              0.6666666666666666,
              "#ed7953"
             ],
             [
              0.7777777777777778,
              "#fb9f3a"
             ],
             [
              0.8888888888888888,
              "#fdca26"
             ],
             [
              1,
              "#f0f921"
             ]
            ],
            "type": "contour"
           }
          ],
          "contourcarpet": [
           {
            "colorbar": {
             "outlinewidth": 0,
             "ticks": ""
            },
            "type": "contourcarpet"
           }
          ],
          "heatmap": [
           {
            "colorbar": {
             "outlinewidth": 0,
             "ticks": ""
            },
            "colorscale": [
             [
              0,
              "#0d0887"
             ],
             [
              0.1111111111111111,
              "#46039f"
             ],
             [
              0.2222222222222222,
              "#7201a8"
             ],
             [
              0.3333333333333333,
              "#9c179e"
             ],
             [
              0.4444444444444444,
              "#bd3786"
             ],
             [
              0.5555555555555556,
              "#d8576b"
             ],
             [
              0.6666666666666666,
              "#ed7953"
             ],
             [
              0.7777777777777778,
              "#fb9f3a"
             ],
             [
              0.8888888888888888,
              "#fdca26"
             ],
             [
              1,
              "#f0f921"
             ]
            ],
            "type": "heatmap"
           }
          ],
          "heatmapgl": [
           {
            "colorbar": {
             "outlinewidth": 0,
             "ticks": ""
            },
            "colorscale": [
             [
              0,
              "#0d0887"
             ],
             [
              0.1111111111111111,
              "#46039f"
             ],
             [
              0.2222222222222222,
              "#7201a8"
             ],
             [
              0.3333333333333333,
              "#9c179e"
             ],
             [
              0.4444444444444444,
              "#bd3786"
             ],
             [
              0.5555555555555556,
              "#d8576b"
             ],
             [
              0.6666666666666666,
              "#ed7953"
             ],
             [
              0.7777777777777778,
              "#fb9f3a"
             ],
             [
              0.8888888888888888,
              "#fdca26"
             ],
             [
              1,
              "#f0f921"
             ]
            ],
            "type": "heatmapgl"
           }
          ],
          "histogram": [
           {
            "marker": {
             "pattern": {
              "fillmode": "overlay",
              "size": 10,
              "solidity": 0.2
             }
            },
            "type": "histogram"
           }
          ],
          "histogram2d": [
           {
            "colorbar": {
             "outlinewidth": 0,
             "ticks": ""
            },
            "colorscale": [
             [
              0,
              "#0d0887"
             ],
             [
              0.1111111111111111,
              "#46039f"
             ],
             [
              0.2222222222222222,
              "#7201a8"
             ],
             [
              0.3333333333333333,
              "#9c179e"
             ],
             [
              0.4444444444444444,
              "#bd3786"
             ],
             [
              0.5555555555555556,
              "#d8576b"
             ],
             [
              0.6666666666666666,
              "#ed7953"
             ],
             [
              0.7777777777777778,
              "#fb9f3a"
             ],
             [
              0.8888888888888888,
              "#fdca26"
             ],
             [
              1,
              "#f0f921"
             ]
            ],
            "type": "histogram2d"
           }
          ],
          "histogram2dcontour": [
           {
            "colorbar": {
             "outlinewidth": 0,
             "ticks": ""
            },
            "colorscale": [
             [
              0,
              "#0d0887"
             ],
             [
              0.1111111111111111,
              "#46039f"
             ],
             [
              0.2222222222222222,
              "#7201a8"
             ],
             [
              0.3333333333333333,
              "#9c179e"
             ],
             [
              0.4444444444444444,
              "#bd3786"
             ],
             [
              0.5555555555555556,
              "#d8576b"
             ],
             [
              0.6666666666666666,
              "#ed7953"
             ],
             [
              0.7777777777777778,
              "#fb9f3a"
             ],
             [
              0.8888888888888888,
              "#fdca26"
             ],
             [
              1,
              "#f0f921"
             ]
            ],
            "type": "histogram2dcontour"
           }
          ],
          "mesh3d": [
           {
            "colorbar": {
             "outlinewidth": 0,
             "ticks": ""
            },
            "type": "mesh3d"
           }
          ],
          "parcoords": [
           {
            "line": {
             "colorbar": {
              "outlinewidth": 0,
              "ticks": ""
             }
            },
            "type": "parcoords"
           }
          ],
          "pie": [
           {
            "automargin": true,
            "type": "pie"
           }
          ],
          "scatter": [
           {
            "fillpattern": {
             "fillmode": "overlay",
             "size": 10,
             "solidity": 0.2
            },
            "type": "scatter"
           }
          ],
          "scatter3d": [
           {
            "line": {
             "colorbar": {
              "outlinewidth": 0,
              "ticks": ""
             }
            },
            "marker": {
             "colorbar": {
              "outlinewidth": 0,
              "ticks": ""
             }
            },
            "type": "scatter3d"
           }
          ],
          "scattercarpet": [
           {
            "marker": {
             "colorbar": {
              "outlinewidth": 0,
              "ticks": ""
             }
            },
            "type": "scattercarpet"
           }
          ],
          "scattergeo": [
           {
            "marker": {
             "colorbar": {
              "outlinewidth": 0,
              "ticks": ""
             }
            },
            "type": "scattergeo"
           }
          ],
          "scattergl": [
           {
            "marker": {
             "colorbar": {
              "outlinewidth": 0,
              "ticks": ""
             }
            },
            "type": "scattergl"
           }
          ],
          "scattermapbox": [
           {
            "marker": {
             "colorbar": {
              "outlinewidth": 0,
              "ticks": ""
             }
            },
            "type": "scattermapbox"
           }
          ],
          "scatterpolar": [
           {
            "marker": {
             "colorbar": {
              "outlinewidth": 0,
              "ticks": ""
             }
            },
            "type": "scatterpolar"
           }
          ],
          "scatterpolargl": [
           {
            "marker": {
             "colorbar": {
              "outlinewidth": 0,
              "ticks": ""
             }
            },
            "type": "scatterpolargl"
           }
          ],
          "scatterternary": [
           {
            "marker": {
             "colorbar": {
              "outlinewidth": 0,
              "ticks": ""
             }
            },
            "type": "scatterternary"
           }
          ],
          "surface": [
           {
            "colorbar": {
             "outlinewidth": 0,
             "ticks": ""
            },
            "colorscale": [
             [
              0,
              "#0d0887"
             ],
             [
              0.1111111111111111,
              "#46039f"
             ],
             [
              0.2222222222222222,
              "#7201a8"
             ],
             [
              0.3333333333333333,
              "#9c179e"
             ],
             [
              0.4444444444444444,
              "#bd3786"
             ],
             [
              0.5555555555555556,
              "#d8576b"
             ],
             [
              0.6666666666666666,
              "#ed7953"
             ],
             [
              0.7777777777777778,
              "#fb9f3a"
             ],
             [
              0.8888888888888888,
              "#fdca26"
             ],
             [
              1,
              "#f0f921"
             ]
            ],
            "type": "surface"
           }
          ],
          "table": [
           {
            "cells": {
             "fill": {
              "color": "#EBF0F8"
             },
             "line": {
              "color": "white"
             }
            },
            "header": {
             "fill": {
              "color": "#C8D4E3"
             },
             "line": {
              "color": "white"
             }
            },
            "type": "table"
           }
          ]
         },
         "layout": {
          "annotationdefaults": {
           "arrowcolor": "#2a3f5f",
           "arrowhead": 0,
           "arrowwidth": 1
          },
          "autotypenumbers": "strict",
          "coloraxis": {
           "colorbar": {
            "outlinewidth": 0,
            "ticks": ""
           }
          },
          "colorscale": {
           "diverging": [
            [
             0,
             "#8e0152"
            ],
            [
             0.1,
             "#c51b7d"
            ],
            [
             0.2,
             "#de77ae"
            ],
            [
             0.3,
             "#f1b6da"
            ],
            [
             0.4,
             "#fde0ef"
            ],
            [
             0.5,
             "#f7f7f7"
            ],
            [
             0.6,
             "#e6f5d0"
            ],
            [
             0.7,
             "#b8e186"
            ],
            [
             0.8,
             "#7fbc41"
            ],
            [
             0.9,
             "#4d9221"
            ],
            [
             1,
             "#276419"
            ]
           ],
           "sequential": [
            [
             0,
             "#0d0887"
            ],
            [
             0.1111111111111111,
             "#46039f"
            ],
            [
             0.2222222222222222,
             "#7201a8"
            ],
            [
             0.3333333333333333,
             "#9c179e"
            ],
            [
             0.4444444444444444,
             "#bd3786"
            ],
            [
             0.5555555555555556,
             "#d8576b"
            ],
            [
             0.6666666666666666,
             "#ed7953"
            ],
            [
             0.7777777777777778,
             "#fb9f3a"
            ],
            [
             0.8888888888888888,
             "#fdca26"
            ],
            [
             1,
             "#f0f921"
            ]
           ],
           "sequentialminus": [
            [
             0,
             "#0d0887"
            ],
            [
             0.1111111111111111,
             "#46039f"
            ],
            [
             0.2222222222222222,
             "#7201a8"
            ],
            [
             0.3333333333333333,
             "#9c179e"
            ],
            [
             0.4444444444444444,
             "#bd3786"
            ],
            [
             0.5555555555555556,
             "#d8576b"
            ],
            [
             0.6666666666666666,
             "#ed7953"
            ],
            [
             0.7777777777777778,
             "#fb9f3a"
            ],
            [
             0.8888888888888888,
             "#fdca26"
            ],
            [
             1,
             "#f0f921"
            ]
           ]
          },
          "colorway": [
           "#636efa",
           "#EF553B",
           "#00cc96",
           "#ab63fa",
           "#FFA15A",
           "#19d3f3",
           "#FF6692",
           "#B6E880",
           "#FF97FF",
           "#FECB52"
          ],
          "font": {
           "color": "#2a3f5f"
          },
          "geo": {
           "bgcolor": "white",
           "lakecolor": "white",
           "landcolor": "#E5ECF6",
           "showlakes": true,
           "showland": true,
           "subunitcolor": "white"
          },
          "hoverlabel": {
           "align": "left"
          },
          "hovermode": "closest",
          "mapbox": {
           "style": "light"
          },
          "paper_bgcolor": "white",
          "plot_bgcolor": "#E5ECF6",
          "polar": {
           "angularaxis": {
            "gridcolor": "white",
            "linecolor": "white",
            "ticks": ""
           },
           "bgcolor": "#E5ECF6",
           "radialaxis": {
            "gridcolor": "white",
            "linecolor": "white",
            "ticks": ""
           }
          },
          "scene": {
           "xaxis": {
            "backgroundcolor": "#E5ECF6",
            "gridcolor": "white",
            "gridwidth": 2,
            "linecolor": "white",
            "showbackground": true,
            "ticks": "",
            "zerolinecolor": "white"
           },
           "yaxis": {
            "backgroundcolor": "#E5ECF6",
            "gridcolor": "white",
            "gridwidth": 2,
            "linecolor": "white",
            "showbackground": true,
            "ticks": "",
            "zerolinecolor": "white"
           },
           "zaxis": {
            "backgroundcolor": "#E5ECF6",
            "gridcolor": "white",
            "gridwidth": 2,
            "linecolor": "white",
            "showbackground": true,
            "ticks": "",
            "zerolinecolor": "white"
           }
          },
          "shapedefaults": {
           "line": {
            "color": "#2a3f5f"
           }
          },
          "ternary": {
           "aaxis": {
            "gridcolor": "white",
            "linecolor": "white",
            "ticks": ""
           },
           "baxis": {
            "gridcolor": "white",
            "linecolor": "white",
            "ticks": ""
           },
           "bgcolor": "#E5ECF6",
           "caxis": {
            "gridcolor": "white",
            "linecolor": "white",
            "ticks": ""
           }
          },
          "title": {
           "x": 0.05
          },
          "xaxis": {
           "automargin": true,
           "gridcolor": "white",
           "linecolor": "white",
           "ticks": "",
           "title": {
            "standoff": 15
           },
           "zerolinecolor": "white",
           "zerolinewidth": 2
          },
          "yaxis": {
           "automargin": true,
           "gridcolor": "white",
           "linecolor": "white",
           "ticks": "",
           "title": {
            "standoff": 15
           },
           "zerolinecolor": "white",
           "zerolinewidth": 2
          }
         }
        },
        "title": {
         "text": "Autoencoder Portfolio Performance"
        },
        "xaxis": {
         "title": {
          "text": "Date"
         }
        },
        "yaxis": {
         "title": {
          "text": "Cumulative Returns"
         }
        }
       }
      }
     },
     "metadata": {},
     "output_type": "display_data"
    }
   ],
   "source": [
    "# Create traces\n",
    "masi_trace = go.Scatter(x=benchmark_cumulative_returns.index, y=benchmark_cumulative_returns, mode='lines', name='MASI Index', line=dict(dash='dash'))\n",
    "autoencoder_trace = go.Scatter(x=autoencoder_portfolio_returns.index, y=autoencoder_portfolio_returns, mode='lines', name='Autoencoder Clustered Portfolio', line=dict(color='green'))\n",
    "\n",
    "# Layout\n",
    "layout = go.Layout(\n",
    "    title='Autoencoder Portfolio Performance',\n",
    "    xaxis=dict(title='Date'),\n",
    "    yaxis=dict(title='Cumulative Returns'),\n",
    "    legend=dict(x=0, y=1, traceorder='normal', font=dict(size=12))\n",
    ")\n",
    "\n",
    "\n",
    "# Create figure\n",
    "fig = go.Figure(data=[autoencoder_trace, masi_trace], layout=layout)\n",
    "\n",
    "# Show plot\n",
    "fig.show()"
   ]
  },
  {
   "cell_type": "markdown",
   "metadata": {},
   "source": [
    "Initially, the Autoencoder Clustered Portfolio exhibits modest growth, trailing the MASI Index during the early months. However, as the market dynamics evolve, the portfolio starts to gain momentum, showcasing a notable increase in cumulative returns, particularly from mid-2021 onwards.\n",
    "\n",
    "By the end of the testing period, the Autoencoder Clustered Portfolio has surpassed the MASI Index, reflecting successful asset selection and weight optimization based on clustered features. This performance suggests that utilizing an autoencoder to inform clustering can lead to improved portfolio outcomes by effectively identifying assets that share similar return characteristics."
   ]
  },
  {
   "cell_type": "code",
   "execution_count": 60,
   "metadata": {},
   "outputs": [
    {
     "data": {
      "application/vnd.plotly.v1+json": {
       "config": {
        "plotlyServerURL": "https://plot.ly"
       },
       "data": [
        {
         "line": {
          "color": "green"
         },
         "mode": "lines",
         "name": "Autoencoder Portfolio Drawdown",
         "type": "scatter",
         "x": [
          "2021-02-08T00:00:00",
          "2021-02-09T00:00:00",
          "2021-02-10T00:00:00",
          "2021-02-11T00:00:00",
          "2021-02-12T00:00:00",
          "2021-02-15T00:00:00",
          "2021-02-16T00:00:00",
          "2021-02-17T00:00:00",
          "2021-02-18T00:00:00",
          "2021-02-19T00:00:00",
          "2021-02-22T00:00:00",
          "2021-02-23T00:00:00",
          "2021-02-24T00:00:00",
          "2021-02-25T00:00:00",
          "2021-02-26T00:00:00",
          "2021-03-01T00:00:00",
          "2021-03-02T00:00:00",
          "2021-03-03T00:00:00",
          "2021-03-04T00:00:00",
          "2021-03-05T00:00:00",
          "2021-03-08T00:00:00",
          "2021-03-09T00:00:00",
          "2021-03-10T00:00:00",
          "2021-03-11T00:00:00",
          "2021-03-12T00:00:00",
          "2021-03-15T00:00:00",
          "2021-03-16T00:00:00",
          "2021-03-17T00:00:00",
          "2021-03-18T00:00:00",
          "2021-03-19T00:00:00",
          "2021-03-22T00:00:00",
          "2021-03-23T00:00:00",
          "2021-03-24T00:00:00",
          "2021-03-25T00:00:00",
          "2021-03-26T00:00:00",
          "2021-03-29T00:00:00",
          "2021-03-30T00:00:00",
          "2021-03-31T00:00:00",
          "2021-04-01T00:00:00",
          "2021-04-02T00:00:00",
          "2021-04-05T00:00:00",
          "2021-04-06T00:00:00",
          "2021-04-07T00:00:00",
          "2021-04-08T00:00:00",
          "2021-04-09T00:00:00",
          "2021-04-12T00:00:00",
          "2021-04-13T00:00:00",
          "2021-04-14T00:00:00",
          "2021-04-15T00:00:00",
          "2021-04-16T00:00:00",
          "2021-04-19T00:00:00",
          "2021-04-20T00:00:00",
          "2021-04-21T00:00:00",
          "2021-04-22T00:00:00",
          "2021-04-23T00:00:00",
          "2021-04-26T00:00:00",
          "2021-04-27T00:00:00",
          "2021-04-28T00:00:00",
          "2021-04-29T00:00:00",
          "2021-04-30T00:00:00",
          "2021-05-03T00:00:00",
          "2021-05-04T00:00:00",
          "2021-05-05T00:00:00",
          "2021-05-06T00:00:00",
          "2021-05-07T00:00:00",
          "2021-05-10T00:00:00",
          "2021-05-11T00:00:00",
          "2021-05-12T00:00:00",
          "2021-05-17T00:00:00",
          "2021-05-18T00:00:00",
          "2021-05-19T00:00:00",
          "2021-05-20T00:00:00",
          "2021-05-21T00:00:00",
          "2021-05-24T00:00:00",
          "2021-05-25T00:00:00",
          "2021-05-26T00:00:00",
          "2021-05-27T00:00:00",
          "2021-05-28T00:00:00",
          "2021-05-31T00:00:00",
          "2021-06-01T00:00:00",
          "2021-06-02T00:00:00",
          "2021-06-03T00:00:00",
          "2021-06-04T00:00:00",
          "2021-06-07T00:00:00",
          "2021-06-08T00:00:00",
          "2021-06-09T00:00:00",
          "2021-06-10T00:00:00",
          "2021-06-11T00:00:00",
          "2021-06-14T00:00:00",
          "2021-06-15T00:00:00",
          "2021-06-16T00:00:00",
          "2021-06-17T00:00:00",
          "2021-06-18T00:00:00",
          "2021-06-21T00:00:00",
          "2021-06-22T00:00:00",
          "2021-06-23T00:00:00",
          "2021-06-24T00:00:00",
          "2021-06-25T00:00:00",
          "2021-06-28T00:00:00",
          "2021-06-29T00:00:00",
          "2021-06-30T00:00:00",
          "2021-07-01T00:00:00",
          "2021-07-02T00:00:00",
          "2021-07-05T00:00:00",
          "2021-07-06T00:00:00",
          "2021-07-07T00:00:00",
          "2021-07-08T00:00:00",
          "2021-07-09T00:00:00",
          "2021-07-12T00:00:00",
          "2021-07-13T00:00:00",
          "2021-07-14T00:00:00",
          "2021-07-15T00:00:00",
          "2021-07-16T00:00:00",
          "2021-07-19T00:00:00",
          "2021-07-20T00:00:00",
          "2021-07-23T00:00:00",
          "2021-07-26T00:00:00",
          "2021-07-27T00:00:00",
          "2021-07-28T00:00:00",
          "2021-07-29T00:00:00",
          "2021-08-02T00:00:00",
          "2021-08-03T00:00:00",
          "2021-08-04T00:00:00",
          "2021-08-05T00:00:00",
          "2021-08-06T00:00:00",
          "2021-08-09T00:00:00",
          "2021-08-11T00:00:00",
          "2021-08-12T00:00:00",
          "2021-08-13T00:00:00",
          "2021-08-16T00:00:00",
          "2021-08-17T00:00:00",
          "2021-08-18T00:00:00",
          "2021-08-19T00:00:00",
          "2021-08-23T00:00:00",
          "2021-08-24T00:00:00",
          "2021-08-25T00:00:00",
          "2021-08-26T00:00:00",
          "2021-08-27T00:00:00",
          "2021-08-30T00:00:00",
          "2021-08-31T00:00:00",
          "2021-09-01T00:00:00",
          "2021-09-02T00:00:00",
          "2021-09-03T00:00:00",
          "2021-09-06T00:00:00",
          "2021-09-07T00:00:00",
          "2021-09-08T00:00:00",
          "2021-09-09T00:00:00",
          "2021-09-10T00:00:00",
          "2021-09-13T00:00:00",
          "2021-09-14T00:00:00",
          "2021-09-15T00:00:00",
          "2021-09-16T00:00:00",
          "2021-09-17T00:00:00",
          "2021-09-20T00:00:00",
          "2021-09-21T00:00:00",
          "2021-09-22T00:00:00",
          "2021-09-23T00:00:00",
          "2021-09-24T00:00:00",
          "2021-09-27T00:00:00",
          "2021-09-28T00:00:00",
          "2021-09-29T00:00:00",
          "2021-09-30T00:00:00",
          "2021-10-01T00:00:00",
          "2021-10-04T00:00:00",
          "2021-10-05T00:00:00",
          "2021-10-06T00:00:00",
          "2021-10-07T00:00:00",
          "2021-10-08T00:00:00",
          "2021-10-11T00:00:00",
          "2021-10-12T00:00:00",
          "2021-10-13T00:00:00",
          "2021-10-14T00:00:00",
          "2021-10-15T00:00:00",
          "2021-10-18T00:00:00",
          "2021-10-21T00:00:00",
          "2021-10-22T00:00:00",
          "2021-10-25T00:00:00",
          "2021-10-26T00:00:00",
          "2021-10-27T00:00:00",
          "2021-10-28T00:00:00",
          "2021-10-29T00:00:00",
          "2021-11-01T00:00:00",
          "2021-11-02T00:00:00",
          "2021-11-03T00:00:00",
          "2021-11-04T00:00:00",
          "2021-11-05T00:00:00",
          "2021-11-08T00:00:00",
          "2021-11-09T00:00:00",
          "2021-11-10T00:00:00",
          "2021-11-11T00:00:00",
          "2021-11-12T00:00:00",
          "2021-11-15T00:00:00",
          "2021-11-16T00:00:00",
          "2021-11-17T00:00:00",
          "2021-11-19T00:00:00",
          "2021-11-22T00:00:00",
          "2021-11-23T00:00:00",
          "2021-11-24T00:00:00",
          "2021-11-25T00:00:00",
          "2021-11-26T00:00:00",
          "2021-11-29T00:00:00",
          "2021-11-30T00:00:00",
          "2021-12-01T00:00:00",
          "2021-12-02T00:00:00",
          "2021-12-03T00:00:00",
          "2021-12-06T00:00:00",
          "2021-12-07T00:00:00",
          "2021-12-08T00:00:00",
          "2021-12-09T00:00:00",
          "2021-12-10T00:00:00",
          "2021-12-13T00:00:00",
          "2021-12-14T00:00:00",
          "2021-12-15T00:00:00",
          "2021-12-16T00:00:00",
          "2021-12-17T00:00:00",
          "2021-12-20T00:00:00",
          "2021-12-21T00:00:00",
          "2021-12-22T00:00:00",
          "2021-12-23T00:00:00",
          "2021-12-24T00:00:00",
          "2021-12-27T00:00:00",
          "2021-12-28T00:00:00",
          "2021-12-29T00:00:00",
          "2021-12-30T00:00:00",
          "2021-12-31T00:00:00",
          "2022-01-03T00:00:00",
          "2022-01-04T00:00:00",
          "2022-01-05T00:00:00",
          "2022-01-06T00:00:00",
          "2022-01-07T00:00:00",
          "2022-01-10T00:00:00",
          "2022-01-12T00:00:00",
          "2022-01-13T00:00:00",
          "2022-01-14T00:00:00",
          "2022-01-17T00:00:00",
          "2022-01-18T00:00:00",
          "2022-01-19T00:00:00",
          "2022-01-20T00:00:00",
          "2022-01-21T00:00:00",
          "2022-01-24T00:00:00",
          "2022-01-25T00:00:00",
          "2022-01-26T00:00:00",
          "2022-01-27T00:00:00",
          "2022-01-28T00:00:00",
          "2022-01-31T00:00:00",
          "2022-02-01T00:00:00",
          "2022-02-02T00:00:00",
          "2022-02-03T00:00:00",
          "2022-02-04T00:00:00"
         ],
         "y": [
          0,
          0,
          0,
          0,
          0,
          -3.1885066543378855,
          -1.6424863324017165,
          -3.616826792311512,
          -2.806110440728194,
          -4.331443371494202,
          -6.274010599680342,
          -6.754566091555033,
          -9.954120272649268,
          -11.340912062940818,
          -7.534869537257921,
          -6.382298896016043,
          -5.070845148170335,
          -6.074023480699753,
          -6.2643902780151075,
          -4.819065216291063,
          -3.786579038196285,
          -3.1123216080447587,
          -3.5045686806252982,
          -6.647727314430602,
          -3.569113984782298,
          -3.789899165164736,
          -4.940529963393399,
          0,
          0,
          -0.009261484036367054,
          0,
          0,
          -0.22797505495476766,
          -0.35643829290566026,
          -0.14622870197011364,
          -0.13871746440737978,
          0,
          -0.008326368475027603,
          0,
          -0.06752790317288866,
          -0.3032137885013175,
          -0.4666893909663612,
          -0.8836746674121048,
          -0.6281234227304408,
          -0.481422549784587,
          -0.6607397698903553,
          -0.46063332942649005,
          -0.2807212686930413,
          -0.20088928290309935,
          -0.2016220829410041,
          -0.28701078585279205,
          -0.19761434578567863,
          -0.01995667880121378,
          0,
          0,
          0,
          0,
          0,
          0,
          0,
          0,
          0,
          0,
          0,
          0,
          0,
          -0.07351871869177318,
          -0.06409244360238742,
          -0.035338089847987794,
          -0.015270156500645064,
          -0.03958606766698642,
          -0.07832576009960335,
          -0.020315423790799474,
          -0.030373685991001164,
          -0.07895856124430431,
          0,
          -0.09105384620514716,
          -0.15522789282310723,
          -0.20422649913863575,
          -0.19091261530937725,
          -0.06671718400087487,
          0,
          -0.0029143924950799545,
          0,
          -0.03890512972293112,
          -0.07353124298304686,
          -0.005186766879304931,
          0,
          0,
          0,
          -0.0412883623794047,
          -0.03451408079992101,
          -0.02770728037911148,
          0,
          0,
          0,
          0,
          -0.005719902979521735,
          0,
          -0.07080152760456883,
          -0.06723905708638235,
          -0.08472925475700022,
          -0.045546788614077495,
          -0.14474872579984985,
          -0.11567147399529928,
          -0.025502323231279603,
          -0.0281209112126659,
          0,
          -0.025487987627508025,
          -0.10619668408500266,
          -0.08768187370656022,
          -0.02364815391177186,
          0,
          -0.007276667278254362,
          0,
          -0.0028681132440015362,
          -0.010051224697386913,
          0,
          0,
          0,
          0,
          -0.1559234574791446,
          -0.12321545406304574,
          -0.10658388216326059,
          -0.14345001613258668,
          -0.14304111334489825,
          -0.08137616294753328,
          -0.12508609821769615,
          -0.12738599502972864,
          -0.13747382539091285,
          -0.09549351391150722,
          -0.053467583473917564,
          -0.11230026933106282,
          -0.11147068619094232,
          -0.15076289359707826,
          -0.1928074789585178,
          -0.1266002456925938,
          -0.14455523595138803,
          -0.10493170462772429,
          -0.08071236220594676,
          -0.11242587087658,
          -0.08774173157948795,
          -0.041028862649975226,
          -0.08572546631629462,
          -0.15648443287843478,
          -0.168734339375951,
          -0.1414370372775663,
          -0.07361438545188465,
          -0.007081548557896448,
          -0.020323128230067374,
          -0.01673518771448524,
          0,
          0,
          0,
          -0.042736581986696345,
          -0.01949588540638388,
          0,
          0,
          -0.009553815597611232,
          -0.03648639849093653,
          0,
          -0.024578849876381925,
          0,
          0,
          0,
          -0.010409853849377022,
          0,
          0,
          0,
          0,
          0,
          0,
          0,
          0,
          0,
          0,
          0,
          0,
          -0.0007944243448341275,
          -0.03296379421691825,
          0,
          -0.049137666831903654,
          -0.07476485909685522,
          -0.034423244980582794,
          -0.03561623558084983,
          -0.05893688219305207,
          -0.08269259163299014,
          -0.0548197995683888,
          -0.07527599574459229,
          -0.09454147604306586,
          -0.11147810719773589,
          -0.10133601968457726,
          -0.0607805390451054,
          -0.0759063143021963,
          -0.05552728319834893,
          -0.05403048074251222,
          -0.12524294955660548,
          -0.11375337114344294,
          -0.06347736929823718,
          -0.0761949558585007,
          -0.19880236083584085,
          -0.12546835497579462,
          -0.1330365932399456,
          -0.14162454833176077,
          -0.14629488825223655,
          -0.16954865269047997,
          -0.12100157547858799,
          -0.11605860610350235,
          -0.11077094603829402,
          -0.08796094579516546,
          -0.10494043951856301,
          -0.1254883292873204,
          -0.12200754986139244,
          -0.0838592208811847,
          -0.05154623739367392,
          -0.06684021640700279,
          -0.06738608495971557,
          -0.05454571159023986,
          -0.02778451349734913,
          0,
          -0.010565243594794825,
          0,
          0,
          0,
          0,
          -0.0024940093863249817,
          -0.004995087569905257,
          0,
          -0.022984546238624667,
          0,
          0,
          0,
          0,
          0,
          0,
          0,
          0,
          0,
          0,
          -0.0011353750727149904,
          -0.030203953356622647,
          -0.019446866558558776,
          -0.021541947540786022,
          -0.014326424200357556,
          -0.01291769157215678,
          -0.004878314308844265,
          -0.00013472855708706694,
          0,
          -0.005965016934840351
         ]
        },
        {
         "line": {
          "color": "red",
          "dash": "dash"
         },
         "mode": "lines",
         "name": "MASI Index Drawdown",
         "type": "scatter",
         "x": [
          "2021-02-08T00:00:00",
          "2021-02-09T00:00:00",
          "2021-02-10T00:00:00",
          "2021-02-11T00:00:00",
          "2021-02-12T00:00:00",
          "2021-02-15T00:00:00",
          "2021-02-16T00:00:00",
          "2021-02-17T00:00:00",
          "2021-02-18T00:00:00",
          "2021-02-19T00:00:00",
          "2021-02-22T00:00:00",
          "2021-02-23T00:00:00",
          "2021-02-24T00:00:00",
          "2021-02-25T00:00:00",
          "2021-02-26T00:00:00",
          "2021-03-01T00:00:00",
          "2021-03-02T00:00:00",
          "2021-03-03T00:00:00",
          "2021-03-04T00:00:00",
          "2021-03-05T00:00:00",
          "2021-03-08T00:00:00",
          "2021-03-09T00:00:00",
          "2021-03-10T00:00:00",
          "2021-03-11T00:00:00",
          "2021-03-12T00:00:00",
          "2021-03-15T00:00:00",
          "2021-03-16T00:00:00",
          "2021-03-17T00:00:00",
          "2021-03-18T00:00:00",
          "2021-03-19T00:00:00",
          "2021-03-22T00:00:00",
          "2021-03-23T00:00:00",
          "2021-03-24T00:00:00",
          "2021-03-25T00:00:00",
          "2021-03-26T00:00:00",
          "2021-03-29T00:00:00",
          "2021-03-30T00:00:00",
          "2021-03-31T00:00:00",
          "2021-04-01T00:00:00",
          "2021-04-02T00:00:00",
          "2021-04-05T00:00:00",
          "2021-04-06T00:00:00",
          "2021-04-07T00:00:00",
          "2021-04-08T00:00:00",
          "2021-04-09T00:00:00",
          "2021-04-12T00:00:00",
          "2021-04-13T00:00:00",
          "2021-04-14T00:00:00",
          "2021-04-15T00:00:00",
          "2021-04-16T00:00:00",
          "2021-04-19T00:00:00",
          "2021-04-20T00:00:00",
          "2021-04-21T00:00:00",
          "2021-04-22T00:00:00",
          "2021-04-23T00:00:00",
          "2021-04-26T00:00:00",
          "2021-04-27T00:00:00",
          "2021-04-28T00:00:00",
          "2021-04-29T00:00:00",
          "2021-04-30T00:00:00",
          "2021-05-03T00:00:00",
          "2021-05-04T00:00:00",
          "2021-05-05T00:00:00",
          "2021-05-06T00:00:00",
          "2021-05-07T00:00:00",
          "2021-05-10T00:00:00",
          "2021-05-11T00:00:00",
          "2021-05-12T00:00:00",
          "2021-05-17T00:00:00",
          "2021-05-18T00:00:00",
          "2021-05-19T00:00:00",
          "2021-05-20T00:00:00",
          "2021-05-21T00:00:00",
          "2021-05-24T00:00:00",
          "2021-05-25T00:00:00",
          "2021-05-26T00:00:00",
          "2021-05-27T00:00:00",
          "2021-05-28T00:00:00",
          "2021-05-31T00:00:00",
          "2021-06-01T00:00:00",
          "2021-06-02T00:00:00",
          "2021-06-03T00:00:00",
          "2021-06-04T00:00:00",
          "2021-06-07T00:00:00",
          "2021-06-08T00:00:00",
          "2021-06-09T00:00:00",
          "2021-06-10T00:00:00",
          "2021-06-11T00:00:00",
          "2021-06-14T00:00:00",
          "2021-06-15T00:00:00",
          "2021-06-16T00:00:00",
          "2021-06-17T00:00:00",
          "2021-06-18T00:00:00",
          "2021-06-21T00:00:00",
          "2021-06-22T00:00:00",
          "2021-06-23T00:00:00",
          "2021-06-24T00:00:00",
          "2021-06-25T00:00:00",
          "2021-06-28T00:00:00",
          "2021-06-29T00:00:00",
          "2021-06-30T00:00:00",
          "2021-07-01T00:00:00",
          "2021-07-02T00:00:00",
          "2021-07-05T00:00:00",
          "2021-07-06T00:00:00",
          "2021-07-07T00:00:00",
          "2021-07-08T00:00:00",
          "2021-07-09T00:00:00",
          "2021-07-12T00:00:00",
          "2021-07-13T00:00:00",
          "2021-07-14T00:00:00",
          "2021-07-15T00:00:00",
          "2021-07-16T00:00:00",
          "2021-07-19T00:00:00",
          "2021-07-20T00:00:00",
          "2021-07-23T00:00:00",
          "2021-07-26T00:00:00",
          "2021-07-27T00:00:00",
          "2021-07-28T00:00:00",
          "2021-07-29T00:00:00",
          "2021-08-02T00:00:00",
          "2021-08-03T00:00:00",
          "2021-08-04T00:00:00",
          "2021-08-05T00:00:00",
          "2021-08-06T00:00:00",
          "2021-08-09T00:00:00",
          "2021-08-11T00:00:00",
          "2021-08-12T00:00:00",
          "2021-08-13T00:00:00",
          "2021-08-16T00:00:00",
          "2021-08-17T00:00:00",
          "2021-08-18T00:00:00",
          "2021-08-19T00:00:00",
          "2021-08-23T00:00:00",
          "2021-08-24T00:00:00",
          "2021-08-25T00:00:00",
          "2021-08-26T00:00:00",
          "2021-08-27T00:00:00",
          "2021-08-30T00:00:00",
          "2021-08-31T00:00:00",
          "2021-09-01T00:00:00",
          "2021-09-02T00:00:00",
          "2021-09-03T00:00:00",
          "2021-09-06T00:00:00",
          "2021-09-07T00:00:00",
          "2021-09-08T00:00:00",
          "2021-09-09T00:00:00",
          "2021-09-10T00:00:00",
          "2021-09-13T00:00:00",
          "2021-09-14T00:00:00",
          "2021-09-15T00:00:00",
          "2021-09-16T00:00:00",
          "2021-09-17T00:00:00",
          "2021-09-20T00:00:00",
          "2021-09-21T00:00:00",
          "2021-09-22T00:00:00",
          "2021-09-23T00:00:00",
          "2021-09-24T00:00:00",
          "2021-09-27T00:00:00",
          "2021-09-28T00:00:00",
          "2021-09-29T00:00:00",
          "2021-09-30T00:00:00",
          "2021-10-01T00:00:00",
          "2021-10-04T00:00:00",
          "2021-10-05T00:00:00",
          "2021-10-06T00:00:00",
          "2021-10-07T00:00:00",
          "2021-10-08T00:00:00",
          "2021-10-11T00:00:00",
          "2021-10-12T00:00:00",
          "2021-10-13T00:00:00",
          "2021-10-14T00:00:00",
          "2021-10-15T00:00:00",
          "2021-10-18T00:00:00",
          "2021-10-21T00:00:00",
          "2021-10-22T00:00:00",
          "2021-10-25T00:00:00",
          "2021-10-26T00:00:00",
          "2021-10-27T00:00:00",
          "2021-10-28T00:00:00",
          "2021-10-29T00:00:00",
          "2021-11-01T00:00:00",
          "2021-11-02T00:00:00",
          "2021-11-03T00:00:00",
          "2021-11-04T00:00:00",
          "2021-11-05T00:00:00",
          "2021-11-08T00:00:00",
          "2021-11-09T00:00:00",
          "2021-11-10T00:00:00",
          "2021-11-11T00:00:00",
          "2021-11-12T00:00:00",
          "2021-11-15T00:00:00",
          "2021-11-16T00:00:00",
          "2021-11-17T00:00:00",
          "2021-11-19T00:00:00",
          "2021-11-22T00:00:00",
          "2021-11-23T00:00:00",
          "2021-11-24T00:00:00",
          "2021-11-25T00:00:00",
          "2021-11-26T00:00:00",
          "2021-11-29T00:00:00",
          "2021-11-30T00:00:00",
          "2021-12-01T00:00:00",
          "2021-12-02T00:00:00",
          "2021-12-03T00:00:00",
          "2021-12-06T00:00:00",
          "2021-12-07T00:00:00",
          "2021-12-08T00:00:00",
          "2021-12-09T00:00:00",
          "2021-12-10T00:00:00",
          "2021-12-13T00:00:00",
          "2021-12-14T00:00:00",
          "2021-12-15T00:00:00",
          "2021-12-16T00:00:00",
          "2021-12-17T00:00:00",
          "2021-12-20T00:00:00",
          "2021-12-21T00:00:00",
          "2021-12-22T00:00:00",
          "2021-12-23T00:00:00",
          "2021-12-24T00:00:00",
          "2021-12-27T00:00:00",
          "2021-12-28T00:00:00",
          "2021-12-29T00:00:00",
          "2021-12-30T00:00:00",
          "2021-12-31T00:00:00",
          "2022-01-03T00:00:00",
          "2022-01-04T00:00:00",
          "2022-01-05T00:00:00",
          "2022-01-06T00:00:00",
          "2022-01-07T00:00:00",
          "2022-01-10T00:00:00",
          "2022-01-12T00:00:00",
          "2022-01-13T00:00:00",
          "2022-01-14T00:00:00",
          "2022-01-17T00:00:00",
          "2022-01-18T00:00:00",
          "2022-01-19T00:00:00",
          "2022-01-20T00:00:00",
          "2022-01-21T00:00:00",
          "2022-01-24T00:00:00",
          "2022-01-25T00:00:00",
          "2022-01-26T00:00:00",
          "2022-01-27T00:00:00",
          "2022-01-28T00:00:00",
          "2022-01-31T00:00:00",
          "2022-02-01T00:00:00",
          "2022-02-02T00:00:00",
          "2022-02-03T00:00:00",
          "2022-02-04T00:00:00"
         ],
         "y": [
          0,
          null,
          null,
          null,
          null,
          null,
          null,
          null,
          null,
          null,
          null,
          null,
          null,
          null,
          null,
          null,
          null,
          null,
          null,
          null,
          null,
          null,
          null,
          null,
          null,
          null,
          null,
          null,
          null,
          null,
          null,
          null,
          null,
          null,
          null,
          null,
          null,
          null,
          null,
          null,
          null,
          null,
          null,
          null,
          null,
          null,
          null,
          null,
          null,
          null,
          null,
          null,
          null,
          0,
          0,
          -0.2956638316274508,
          0,
          0,
          0,
          0,
          0,
          0,
          0,
          0,
          0,
          0,
          -0.07979283772743107,
          -0.04136991581723131,
          0,
          -0.019732846250172985,
          0,
          -0.3084154400467837,
          -0.12134330621357789,
          -0.22544340032107404,
          -0.220904298377712,
          -0.17376771735982496,
          -0.21340959543406396,
          -0.08188575206165807,
          -0.17826189160068215,
          -0.07675175920034641,
          0,
          0,
          -0.015857879986233787,
          -0.010647827522059767,
          -0.029559360447036682,
          -0.037255005754654055,
          -0.019087640352563256,
          0,
          0,
          -0.0744799111609865,
          -0.13147983369050442,
          -0.14368218937386007,
          -0.09066996402094375,
          -0.023014307880236597,
          -0.055765737628737974,
          -0.05948559833054242,
          -0.10362077514384928,
          -0.17204892928711019,
          -0.1121997888203533,
          -0.1785015118358593,
          -0.18176282162590962,
          -0.17069209247072248,
          -0.16229206231879245,
          -0.3304314617959653,
          -0.44545689058113674,
          -0.3754538904874094,
          -0.3480627908119397,
          -0.3843014375245973,
          -0.38833245777366054,
          -0.41241753081485094,
          -0.46026734168583006,
          -0.49416758781430664,
          -0.4641685088651511,
          -0.47663045454034236,
          -0.48602273404361557,
          -0.40479510916195505,
          -0.4440546400346393,
          -0.4160652638276498,
          -0.38190635688851277,
          -0.3038218034918975,
          -0.15306889379007282,
          -0.1389278015770869,
          -0.16232121537828578,
          -0.1137351445707319,
          -0.04316151108554986,
          -0.07948180959429615,
          0,
          -0.04737030319318519,
          0,
          -0.02776246362124096,
          0,
          -0.008092850056400713,
          -0.018753971813374612,
          0,
          -0.006932948712598003,
          -0.05776310510125803,
          -0.028198856032230404,
          0,
          -0.008472400204419108,
          -0.08382468457912133,
          -0.07324640733691865,
          -0.06521320222484793,
          -0.01592862352850178,
          -0.08640429598174773,
          -0.06481465791165397,
          -0.04043391326901684,
          0,
          -0.06871897734564125,
          -0.06582861655397339,
          -0.054918355461231305,
          -0.059837283450966165,
          -0.05420162874488113,
          0,
          -0.052979838719800436,
          -0.059629487815126996,
          -0.03484123683199228,
          0,
          0,
          -0.006913047847023979,
          0,
          0,
          -0.007006038350533025,
          -0.061353270172434596,
          -0.07741261329444894,
          -0.09284248698248034,
          -0.08006945000920652,
          -0.0669301884562487,
          -0.003169323324713311,
          -0.034640383006858504,
          -0.024600563286367914,
          -0.006399617078902627,
          0,
          0,
          -0.006452108846657537,
          -0.0033749415321309086,
          -0.0001311885570528065,
          0,
          0,
          -0.0069059858611240765,
          0,
          -0.012562715940354928,
          -0.038124163529581756,
          -0.008730504943753178,
          -0.005158825604601429,
          -0.03841910905536188,
          -0.08814090627668522,
          -0.08042515693257572,
          -0.10599551477918343,
          -0.1252311064661581,
          -0.13154260991789596,
          -0.1511398406739275,
          -0.1507513641230574,
          -0.1685653695964106,
          -0.15447393093451556,
          -0.12727833147053944,
          -0.12136661579461247,
          -0.14523543461034383,
          -0.12708476013053846,
          -0.13577231443242205,
          -0.19096767742777188,
          -0.25584118058456373,
          -0.2633723755557223,
          -0.21812128663690233,
          -0.18545713675335368,
          -0.18834085885491045,
          -0.21368120400946997,
          -0.18707613585507055,
          -0.18548653526722847,
          -0.16075801000125903,
          -0.12761670783170254,
          -0.15740695290326262,
          -0.15853556771998573,
          -0.16431624392208652,
          -0.165113045022307,
          -0.14687124048496875,
          -0.1734229004499112,
          -0.1792934261935134,
          -0.19661059144688162,
          -0.1755562401573701,
          -0.17957375249460839,
          -0.18280038611827157,
          -0.15857254262038017,
          -0.10126635565778243,
          -0.09303301106302317,
          -0.11774227523369352,
          -0.15083955966468868,
          -0.16033896113015458,
          -0.15386163085241628,
          -0.11216765540289539,
          -0.054287050290777315,
          -0.049456090144916316,
          -0.02547335875727026,
          0,
          0,
          -0.006502363923296933,
          -0.00781731098351337,
          -0.022407092221908845,
          -0.0032306967743133365,
          -0.00024034029646985785,
          -0.01481266584706802,
          -0.03735709538124589,
          -0.02982450926676016,
          -0.024256241033524792,
          0,
          0,
          -0.009357799537869905,
          0,
          0,
          0
         ]
        }
       ],
       "layout": {
        "legend": {
         "font": {
          "size": 11
         },
         "traceorder": "normal",
         "x": 0,
         "y": 1
        },
        "template": {
         "data": {
          "bar": [
           {
            "error_x": {
             "color": "#2a3f5f"
            },
            "error_y": {
             "color": "#2a3f5f"
            },
            "marker": {
             "line": {
              "color": "#E5ECF6",
              "width": 0.5
             },
             "pattern": {
              "fillmode": "overlay",
              "size": 10,
              "solidity": 0.2
             }
            },
            "type": "bar"
           }
          ],
          "barpolar": [
           {
            "marker": {
             "line": {
              "color": "#E5ECF6",
              "width": 0.5
             },
             "pattern": {
              "fillmode": "overlay",
              "size": 10,
              "solidity": 0.2
             }
            },
            "type": "barpolar"
           }
          ],
          "carpet": [
           {
            "aaxis": {
             "endlinecolor": "#2a3f5f",
             "gridcolor": "white",
             "linecolor": "white",
             "minorgridcolor": "white",
             "startlinecolor": "#2a3f5f"
            },
            "baxis": {
             "endlinecolor": "#2a3f5f",
             "gridcolor": "white",
             "linecolor": "white",
             "minorgridcolor": "white",
             "startlinecolor": "#2a3f5f"
            },
            "type": "carpet"
           }
          ],
          "choropleth": [
           {
            "colorbar": {
             "outlinewidth": 0,
             "ticks": ""
            },
            "type": "choropleth"
           }
          ],
          "contour": [
           {
            "colorbar": {
             "outlinewidth": 0,
             "ticks": ""
            },
            "colorscale": [
             [
              0,
              "#0d0887"
             ],
             [
              0.1111111111111111,
              "#46039f"
             ],
             [
              0.2222222222222222,
              "#7201a8"
             ],
             [
              0.3333333333333333,
              "#9c179e"
             ],
             [
              0.4444444444444444,
              "#bd3786"
             ],
             [
              0.5555555555555556,
              "#d8576b"
             ],
             [
              0.6666666666666666,
              "#ed7953"
             ],
             [
              0.7777777777777778,
              "#fb9f3a"
             ],
             [
              0.8888888888888888,
              "#fdca26"
             ],
             [
              1,
              "#f0f921"
             ]
            ],
            "type": "contour"
           }
          ],
          "contourcarpet": [
           {
            "colorbar": {
             "outlinewidth": 0,
             "ticks": ""
            },
            "type": "contourcarpet"
           }
          ],
          "heatmap": [
           {
            "colorbar": {
             "outlinewidth": 0,
             "ticks": ""
            },
            "colorscale": [
             [
              0,
              "#0d0887"
             ],
             [
              0.1111111111111111,
              "#46039f"
             ],
             [
              0.2222222222222222,
              "#7201a8"
             ],
             [
              0.3333333333333333,
              "#9c179e"
             ],
             [
              0.4444444444444444,
              "#bd3786"
             ],
             [
              0.5555555555555556,
              "#d8576b"
             ],
             [
              0.6666666666666666,
              "#ed7953"
             ],
             [
              0.7777777777777778,
              "#fb9f3a"
             ],
             [
              0.8888888888888888,
              "#fdca26"
             ],
             [
              1,
              "#f0f921"
             ]
            ],
            "type": "heatmap"
           }
          ],
          "heatmapgl": [
           {
            "colorbar": {
             "outlinewidth": 0,
             "ticks": ""
            },
            "colorscale": [
             [
              0,
              "#0d0887"
             ],
             [
              0.1111111111111111,
              "#46039f"
             ],
             [
              0.2222222222222222,
              "#7201a8"
             ],
             [
              0.3333333333333333,
              "#9c179e"
             ],
             [
              0.4444444444444444,
              "#bd3786"
             ],
             [
              0.5555555555555556,
              "#d8576b"
             ],
             [
              0.6666666666666666,
              "#ed7953"
             ],
             [
              0.7777777777777778,
              "#fb9f3a"
             ],
             [
              0.8888888888888888,
              "#fdca26"
             ],
             [
              1,
              "#f0f921"
             ]
            ],
            "type": "heatmapgl"
           }
          ],
          "histogram": [
           {
            "marker": {
             "pattern": {
              "fillmode": "overlay",
              "size": 10,
              "solidity": 0.2
             }
            },
            "type": "histogram"
           }
          ],
          "histogram2d": [
           {
            "colorbar": {
             "outlinewidth": 0,
             "ticks": ""
            },
            "colorscale": [
             [
              0,
              "#0d0887"
             ],
             [
              0.1111111111111111,
              "#46039f"
             ],
             [
              0.2222222222222222,
              "#7201a8"
             ],
             [
              0.3333333333333333,
              "#9c179e"
             ],
             [
              0.4444444444444444,
              "#bd3786"
             ],
             [
              0.5555555555555556,
              "#d8576b"
             ],
             [
              0.6666666666666666,
              "#ed7953"
             ],
             [
              0.7777777777777778,
              "#fb9f3a"
             ],
             [
              0.8888888888888888,
              "#fdca26"
             ],
             [
              1,
              "#f0f921"
             ]
            ],
            "type": "histogram2d"
           }
          ],
          "histogram2dcontour": [
           {
            "colorbar": {
             "outlinewidth": 0,
             "ticks": ""
            },
            "colorscale": [
             [
              0,
              "#0d0887"
             ],
             [
              0.1111111111111111,
              "#46039f"
             ],
             [
              0.2222222222222222,
              "#7201a8"
             ],
             [
              0.3333333333333333,
              "#9c179e"
             ],
             [
              0.4444444444444444,
              "#bd3786"
             ],
             [
              0.5555555555555556,
              "#d8576b"
             ],
             [
              0.6666666666666666,
              "#ed7953"
             ],
             [
              0.7777777777777778,
              "#fb9f3a"
             ],
             [
              0.8888888888888888,
              "#fdca26"
             ],
             [
              1,
              "#f0f921"
             ]
            ],
            "type": "histogram2dcontour"
           }
          ],
          "mesh3d": [
           {
            "colorbar": {
             "outlinewidth": 0,
             "ticks": ""
            },
            "type": "mesh3d"
           }
          ],
          "parcoords": [
           {
            "line": {
             "colorbar": {
              "outlinewidth": 0,
              "ticks": ""
             }
            },
            "type": "parcoords"
           }
          ],
          "pie": [
           {
            "automargin": true,
            "type": "pie"
           }
          ],
          "scatter": [
           {
            "fillpattern": {
             "fillmode": "overlay",
             "size": 10,
             "solidity": 0.2
            },
            "type": "scatter"
           }
          ],
          "scatter3d": [
           {
            "line": {
             "colorbar": {
              "outlinewidth": 0,
              "ticks": ""
             }
            },
            "marker": {
             "colorbar": {
              "outlinewidth": 0,
              "ticks": ""
             }
            },
            "type": "scatter3d"
           }
          ],
          "scattercarpet": [
           {
            "marker": {
             "colorbar": {
              "outlinewidth": 0,
              "ticks": ""
             }
            },
            "type": "scattercarpet"
           }
          ],
          "scattergeo": [
           {
            "marker": {
             "colorbar": {
              "outlinewidth": 0,
              "ticks": ""
             }
            },
            "type": "scattergeo"
           }
          ],
          "scattergl": [
           {
            "marker": {
             "colorbar": {
              "outlinewidth": 0,
              "ticks": ""
             }
            },
            "type": "scattergl"
           }
          ],
          "scattermapbox": [
           {
            "marker": {
             "colorbar": {
              "outlinewidth": 0,
              "ticks": ""
             }
            },
            "type": "scattermapbox"
           }
          ],
          "scatterpolar": [
           {
            "marker": {
             "colorbar": {
              "outlinewidth": 0,
              "ticks": ""
             }
            },
            "type": "scatterpolar"
           }
          ],
          "scatterpolargl": [
           {
            "marker": {
             "colorbar": {
              "outlinewidth": 0,
              "ticks": ""
             }
            },
            "type": "scatterpolargl"
           }
          ],
          "scatterternary": [
           {
            "marker": {
             "colorbar": {
              "outlinewidth": 0,
              "ticks": ""
             }
            },
            "type": "scatterternary"
           }
          ],
          "surface": [
           {
            "colorbar": {
             "outlinewidth": 0,
             "ticks": ""
            },
            "colorscale": [
             [
              0,
              "#0d0887"
             ],
             [
              0.1111111111111111,
              "#46039f"
             ],
             [
              0.2222222222222222,
              "#7201a8"
             ],
             [
              0.3333333333333333,
              "#9c179e"
             ],
             [
              0.4444444444444444,
              "#bd3786"
             ],
             [
              0.5555555555555556,
              "#d8576b"
             ],
             [
              0.6666666666666666,
              "#ed7953"
             ],
             [
              0.7777777777777778,
              "#fb9f3a"
             ],
             [
              0.8888888888888888,
              "#fdca26"
             ],
             [
              1,
              "#f0f921"
             ]
            ],
            "type": "surface"
           }
          ],
          "table": [
           {
            "cells": {
             "fill": {
              "color": "#EBF0F8"
             },
             "line": {
              "color": "white"
             }
            },
            "header": {
             "fill": {
              "color": "#C8D4E3"
             },
             "line": {
              "color": "white"
             }
            },
            "type": "table"
           }
          ]
         },
         "layout": {
          "annotationdefaults": {
           "arrowcolor": "#2a3f5f",
           "arrowhead": 0,
           "arrowwidth": 1
          },
          "autotypenumbers": "strict",
          "coloraxis": {
           "colorbar": {
            "outlinewidth": 0,
            "ticks": ""
           }
          },
          "colorscale": {
           "diverging": [
            [
             0,
             "#8e0152"
            ],
            [
             0.1,
             "#c51b7d"
            ],
            [
             0.2,
             "#de77ae"
            ],
            [
             0.3,
             "#f1b6da"
            ],
            [
             0.4,
             "#fde0ef"
            ],
            [
             0.5,
             "#f7f7f7"
            ],
            [
             0.6,
             "#e6f5d0"
            ],
            [
             0.7,
             "#b8e186"
            ],
            [
             0.8,
             "#7fbc41"
            ],
            [
             0.9,
             "#4d9221"
            ],
            [
             1,
             "#276419"
            ]
           ],
           "sequential": [
            [
             0,
             "#0d0887"
            ],
            [
             0.1111111111111111,
             "#46039f"
            ],
            [
             0.2222222222222222,
             "#7201a8"
            ],
            [
             0.3333333333333333,
             "#9c179e"
            ],
            [
             0.4444444444444444,
             "#bd3786"
            ],
            [
             0.5555555555555556,
             "#d8576b"
            ],
            [
             0.6666666666666666,
             "#ed7953"
            ],
            [
             0.7777777777777778,
             "#fb9f3a"
            ],
            [
             0.8888888888888888,
             "#fdca26"
            ],
            [
             1,
             "#f0f921"
            ]
           ],
           "sequentialminus": [
            [
             0,
             "#0d0887"
            ],
            [
             0.1111111111111111,
             "#46039f"
            ],
            [
             0.2222222222222222,
             "#7201a8"
            ],
            [
             0.3333333333333333,
             "#9c179e"
            ],
            [
             0.4444444444444444,
             "#bd3786"
            ],
            [
             0.5555555555555556,
             "#d8576b"
            ],
            [
             0.6666666666666666,
             "#ed7953"
            ],
            [
             0.7777777777777778,
             "#fb9f3a"
            ],
            [
             0.8888888888888888,
             "#fdca26"
            ],
            [
             1,
             "#f0f921"
            ]
           ]
          },
          "colorway": [
           "#636efa",
           "#EF553B",
           "#00cc96",
           "#ab63fa",
           "#FFA15A",
           "#19d3f3",
           "#FF6692",
           "#B6E880",
           "#FF97FF",
           "#FECB52"
          ],
          "font": {
           "color": "#2a3f5f"
          },
          "geo": {
           "bgcolor": "white",
           "lakecolor": "white",
           "landcolor": "#E5ECF6",
           "showlakes": true,
           "showland": true,
           "subunitcolor": "white"
          },
          "hoverlabel": {
           "align": "left"
          },
          "hovermode": "closest",
          "mapbox": {
           "style": "light"
          },
          "paper_bgcolor": "white",
          "plot_bgcolor": "#E5ECF6",
          "polar": {
           "angularaxis": {
            "gridcolor": "white",
            "linecolor": "white",
            "ticks": ""
           },
           "bgcolor": "#E5ECF6",
           "radialaxis": {
            "gridcolor": "white",
            "linecolor": "white",
            "ticks": ""
           }
          },
          "scene": {
           "xaxis": {
            "backgroundcolor": "#E5ECF6",
            "gridcolor": "white",
            "gridwidth": 2,
            "linecolor": "white",
            "showbackground": true,
            "ticks": "",
            "zerolinecolor": "white"
           },
           "yaxis": {
            "backgroundcolor": "#E5ECF6",
            "gridcolor": "white",
            "gridwidth": 2,
            "linecolor": "white",
            "showbackground": true,
            "ticks": "",
            "zerolinecolor": "white"
           },
           "zaxis": {
            "backgroundcolor": "#E5ECF6",
            "gridcolor": "white",
            "gridwidth": 2,
            "linecolor": "white",
            "showbackground": true,
            "ticks": "",
            "zerolinecolor": "white"
           }
          },
          "shapedefaults": {
           "line": {
            "color": "#2a3f5f"
           }
          },
          "ternary": {
           "aaxis": {
            "gridcolor": "white",
            "linecolor": "white",
            "ticks": ""
           },
           "baxis": {
            "gridcolor": "white",
            "linecolor": "white",
            "ticks": ""
           },
           "bgcolor": "#E5ECF6",
           "caxis": {
            "gridcolor": "white",
            "linecolor": "white",
            "ticks": ""
           }
          },
          "title": {
           "x": 0.05
          },
          "xaxis": {
           "automargin": true,
           "gridcolor": "white",
           "linecolor": "white",
           "ticks": "",
           "title": {
            "standoff": 15
           },
           "zerolinecolor": "white",
           "zerolinewidth": 2
          },
          "yaxis": {
           "automargin": true,
           "gridcolor": "white",
           "linecolor": "white",
           "ticks": "",
           "title": {
            "standoff": 15
           },
           "zerolinecolor": "white",
           "zerolinewidth": 2
          }
         }
        },
        "title": {
         "text": "Autoencoder Portfolio Drawdown Comparison"
        },
        "xaxis": {
         "title": {
          "text": "Date"
         }
        },
        "yaxis": {
         "title": {
          "text": "Maximum Drawdown"
         }
        }
       }
      }
     },
     "metadata": {},
     "output_type": "display_data"
    }
   ],
   "source": [
    "# Create traces\n",
    "masi_trace = go.Scatter(x=benchmark_cumulative_returns.index, y=maximum_drawdown(benchmark_cumulative_returns), mode='lines', name='MASI Index Drawdown', line=dict(dash='dash', color='red'))\n",
    "autoencoder_trace = go.Scatter(x=autoencoder_portfolio_returns.index, y=maximum_drawdown(autoencoder_portfolio_returns), mode='lines', name='Autoencoder Portfolio Drawdown', line=dict(color='green'))\n",
    "\n",
    "# Layout\n",
    "layout = go.Layout(\n",
    "    title='Autoencoder Portfolio Drawdown Comparison',\n",
    "    xaxis=dict(title='Date'),\n",
    "    yaxis=dict(title='Maximum Drawdown'),\n",
    "    legend=dict(x=0, y=1, traceorder='normal', font=dict(size=11))\n",
    ")\n",
    "\n",
    "# Create figure\n",
    "fig = go.Figure(data=[autoencoder_trace, masi_trace], layout=layout)\n",
    "\n",
    "# Show plot\n",
    "fig.show()"
   ]
  },
  {
   "cell_type": "markdown",
   "metadata": {},
   "source": [
    "The Autoencoder Portfolio shows a maximum drawdown of approximately -10% during the early months of 2021, indicating a challenging market environment. This initial dip suggests that the portfolio struggled with asset selection during this period, reflecting the inherent volatility associated with new strategies.\n",
    "\n",
    "In contrast, the MASI Index displays a more stable drawdown profile, with shallower fluctuations, indicating a less volatile investment environment. Notably, after the initial drawdown, the Autoencoder Portfolio stabilizes, maintaining a relatively flat drawdown level, which suggests improved resilience and recovery from earlier losses.\n",
    "\n",
    "Overall, while the Autoencoder Portfolio experienced a significant drawdown initially, it demonstrates a capacity for stabilization and recovery, highlighting the importance of risk management and asset selection in enhancing portfolio performance."
   ]
  },
  {
   "cell_type": "markdown",
   "metadata": {},
   "source": [
    "# Conclusion\n",
    "\n",
    "In this analysis, we explored various portfolio optimization strategies to assess their performance against the MASI Index. We began by implementing traditional methods, including the equal-weighted and market-cap weighted portfolios, and progressed to more advanced techniques such as Sharpe Ratio optimization and Mean-Variance optimization. \n",
    "\n",
    "Subsequently, we incorporated machine learning approaches by applying KMeans clustering with both Euclidean and Dynamic Time Warping (DTW) metrics, as well as leveraging autoencoders for dimensionality reduction prior to clustering. \n",
    "\n",
    "Throughout our analysis, the performance of the portfolios varied, with the autoencoder and KMeans approaches ultimately yielding competitive returns. The ability of these methods to capture patterns in asset behavior allowed for enhanced portfolio construction, demonstrating that integrating machine learning techniques can significantly improve investment strategies.\n",
    "\n",
    "The following plot visually compares the cumulative returns of all the portfolio strategies employed, providing a comprehensive overview of their effectiveness in achieving risk-adjusted returns over the testing period :"
   ]
  },
  {
   "cell_type": "code",
   "execution_count": 126,
   "metadata": {},
   "outputs": [
    {
     "data": {
      "application/vnd.plotly.v1+json": {
       "config": {
        "plotlyServerURL": "https://plot.ly"
       },
       "data": [
        {
         "line": {
          "color": "green"
         },
         "mode": "lines",
         "name": "Autoencoder Portfolio",
         "type": "scatter",
         "x": [
          "2021-02-08T00:00:00",
          "2021-02-09T00:00:00",
          "2021-02-10T00:00:00",
          "2021-02-11T00:00:00",
          "2021-02-12T00:00:00",
          "2021-02-15T00:00:00",
          "2021-02-16T00:00:00",
          "2021-02-17T00:00:00",
          "2021-02-18T00:00:00",
          "2021-02-19T00:00:00",
          "2021-02-22T00:00:00",
          "2021-02-23T00:00:00",
          "2021-02-24T00:00:00",
          "2021-02-25T00:00:00",
          "2021-02-26T00:00:00",
          "2021-03-01T00:00:00",
          "2021-03-02T00:00:00",
          "2021-03-03T00:00:00",
          "2021-03-04T00:00:00",
          "2021-03-05T00:00:00",
          "2021-03-08T00:00:00",
          "2021-03-09T00:00:00",
          "2021-03-10T00:00:00",
          "2021-03-11T00:00:00",
          "2021-03-12T00:00:00",
          "2021-03-15T00:00:00",
          "2021-03-16T00:00:00",
          "2021-03-17T00:00:00",
          "2021-03-18T00:00:00",
          "2021-03-19T00:00:00",
          "2021-03-22T00:00:00",
          "2021-03-23T00:00:00",
          "2021-03-24T00:00:00",
          "2021-03-25T00:00:00",
          "2021-03-26T00:00:00",
          "2021-03-29T00:00:00",
          "2021-03-30T00:00:00",
          "2021-03-31T00:00:00",
          "2021-04-01T00:00:00",
          "2021-04-02T00:00:00",
          "2021-04-05T00:00:00",
          "2021-04-06T00:00:00",
          "2021-04-07T00:00:00",
          "2021-04-08T00:00:00",
          "2021-04-09T00:00:00",
          "2021-04-12T00:00:00",
          "2021-04-13T00:00:00",
          "2021-04-14T00:00:00",
          "2021-04-15T00:00:00",
          "2021-04-16T00:00:00",
          "2021-04-19T00:00:00",
          "2021-04-20T00:00:00",
          "2021-04-21T00:00:00",
          "2021-04-22T00:00:00",
          "2021-04-23T00:00:00",
          "2021-04-26T00:00:00",
          "2021-04-27T00:00:00",
          "2021-04-28T00:00:00",
          "2021-04-29T00:00:00",
          "2021-04-30T00:00:00",
          "2021-05-03T00:00:00",
          "2021-05-04T00:00:00",
          "2021-05-05T00:00:00",
          "2021-05-06T00:00:00",
          "2021-05-07T00:00:00",
          "2021-05-10T00:00:00",
          "2021-05-11T00:00:00",
          "2021-05-12T00:00:00",
          "2021-05-17T00:00:00",
          "2021-05-18T00:00:00",
          "2021-05-19T00:00:00",
          "2021-05-20T00:00:00",
          "2021-05-21T00:00:00",
          "2021-05-24T00:00:00",
          "2021-05-25T00:00:00",
          "2021-05-26T00:00:00",
          "2021-05-27T00:00:00",
          "2021-05-28T00:00:00",
          "2021-05-31T00:00:00",
          "2021-06-01T00:00:00",
          "2021-06-02T00:00:00",
          "2021-06-03T00:00:00",
          "2021-06-04T00:00:00",
          "2021-06-07T00:00:00",
          "2021-06-08T00:00:00",
          "2021-06-09T00:00:00",
          "2021-06-10T00:00:00",
          "2021-06-11T00:00:00",
          "2021-06-14T00:00:00",
          "2021-06-15T00:00:00",
          "2021-06-16T00:00:00",
          "2021-06-17T00:00:00",
          "2021-06-18T00:00:00",
          "2021-06-21T00:00:00",
          "2021-06-22T00:00:00",
          "2021-06-23T00:00:00",
          "2021-06-24T00:00:00",
          "2021-06-25T00:00:00",
          "2021-06-28T00:00:00",
          "2021-06-29T00:00:00",
          "2021-06-30T00:00:00",
          "2021-07-01T00:00:00",
          "2021-07-02T00:00:00",
          "2021-07-05T00:00:00",
          "2021-07-06T00:00:00",
          "2021-07-07T00:00:00",
          "2021-07-08T00:00:00",
          "2021-07-09T00:00:00",
          "2021-07-12T00:00:00",
          "2021-07-13T00:00:00",
          "2021-07-14T00:00:00",
          "2021-07-15T00:00:00",
          "2021-07-16T00:00:00",
          "2021-07-19T00:00:00",
          "2021-07-20T00:00:00",
          "2021-07-23T00:00:00",
          "2021-07-26T00:00:00",
          "2021-07-27T00:00:00",
          "2021-07-28T00:00:00",
          "2021-07-29T00:00:00",
          "2021-08-02T00:00:00",
          "2021-08-03T00:00:00",
          "2021-08-04T00:00:00",
          "2021-08-05T00:00:00",
          "2021-08-06T00:00:00",
          "2021-08-09T00:00:00",
          "2021-08-11T00:00:00",
          "2021-08-12T00:00:00",
          "2021-08-13T00:00:00",
          "2021-08-16T00:00:00",
          "2021-08-17T00:00:00",
          "2021-08-18T00:00:00",
          "2021-08-19T00:00:00",
          "2021-08-23T00:00:00",
          "2021-08-24T00:00:00",
          "2021-08-25T00:00:00",
          "2021-08-26T00:00:00",
          "2021-08-27T00:00:00",
          "2021-08-30T00:00:00",
          "2021-08-31T00:00:00",
          "2021-09-01T00:00:00",
          "2021-09-02T00:00:00",
          "2021-09-03T00:00:00",
          "2021-09-06T00:00:00",
          "2021-09-07T00:00:00",
          "2021-09-08T00:00:00",
          "2021-09-09T00:00:00",
          "2021-09-10T00:00:00",
          "2021-09-13T00:00:00",
          "2021-09-14T00:00:00",
          "2021-09-15T00:00:00",
          "2021-09-16T00:00:00",
          "2021-09-17T00:00:00",
          "2021-09-20T00:00:00",
          "2021-09-21T00:00:00",
          "2021-09-22T00:00:00",
          "2021-09-23T00:00:00",
          "2021-09-24T00:00:00",
          "2021-09-27T00:00:00",
          "2021-09-28T00:00:00",
          "2021-09-29T00:00:00",
          "2021-09-30T00:00:00",
          "2021-10-01T00:00:00",
          "2021-10-04T00:00:00",
          "2021-10-05T00:00:00",
          "2021-10-06T00:00:00",
          "2021-10-07T00:00:00",
          "2021-10-08T00:00:00",
          "2021-10-11T00:00:00",
          "2021-10-12T00:00:00",
          "2021-10-13T00:00:00",
          "2021-10-14T00:00:00",
          "2021-10-15T00:00:00",
          "2021-10-18T00:00:00",
          "2021-10-21T00:00:00",
          "2021-10-22T00:00:00",
          "2021-10-25T00:00:00",
          "2021-10-26T00:00:00",
          "2021-10-27T00:00:00",
          "2021-10-28T00:00:00",
          "2021-10-29T00:00:00",
          "2021-11-01T00:00:00",
          "2021-11-02T00:00:00",
          "2021-11-03T00:00:00",
          "2021-11-04T00:00:00",
          "2021-11-05T00:00:00",
          "2021-11-08T00:00:00",
          "2021-11-09T00:00:00",
          "2021-11-10T00:00:00",
          "2021-11-11T00:00:00",
          "2021-11-12T00:00:00",
          "2021-11-15T00:00:00",
          "2021-11-16T00:00:00",
          "2021-11-17T00:00:00",
          "2021-11-19T00:00:00",
          "2021-11-22T00:00:00",
          "2021-11-23T00:00:00",
          "2021-11-24T00:00:00",
          "2021-11-25T00:00:00",
          "2021-11-26T00:00:00",
          "2021-11-29T00:00:00",
          "2021-11-30T00:00:00",
          "2021-12-01T00:00:00",
          "2021-12-02T00:00:00",
          "2021-12-03T00:00:00",
          "2021-12-06T00:00:00",
          "2021-12-07T00:00:00",
          "2021-12-08T00:00:00",
          "2021-12-09T00:00:00",
          "2021-12-10T00:00:00",
          "2021-12-13T00:00:00",
          "2021-12-14T00:00:00",
          "2021-12-15T00:00:00",
          "2021-12-16T00:00:00",
          "2021-12-17T00:00:00",
          "2021-12-20T00:00:00",
          "2021-12-21T00:00:00",
          "2021-12-22T00:00:00",
          "2021-12-23T00:00:00",
          "2021-12-24T00:00:00",
          "2021-12-27T00:00:00",
          "2021-12-28T00:00:00",
          "2021-12-29T00:00:00",
          "2021-12-30T00:00:00",
          "2021-12-31T00:00:00",
          "2022-01-03T00:00:00",
          "2022-01-04T00:00:00",
          "2022-01-05T00:00:00",
          "2022-01-06T00:00:00",
          "2022-01-07T00:00:00",
          "2022-01-10T00:00:00",
          "2022-01-12T00:00:00",
          "2022-01-13T00:00:00",
          "2022-01-14T00:00:00",
          "2022-01-17T00:00:00",
          "2022-01-18T00:00:00",
          "2022-01-19T00:00:00",
          "2022-01-20T00:00:00",
          "2022-01-21T00:00:00",
          "2022-01-24T00:00:00",
          "2022-01-25T00:00:00",
          "2022-01-26T00:00:00",
          "2022-01-27T00:00:00",
          "2022-01-28T00:00:00",
          "2022-01-31T00:00:00",
          "2022-02-01T00:00:00",
          "2022-02-02T00:00:00",
          "2022-02-03T00:00:00",
          "2022-02-04T00:00:00"
         ],
         "y": [
          0,
          -0.00272972276624317,
          -0.003145366449155973,
          0.0016629663017591056,
          0.0025863618618122697,
          0.00729328325480183,
          0.012468299534202032,
          0.013501970609927305,
          0.009934489705821559,
          0.010123438908893556,
          0.007896104092653067,
          0.000816589937566059,
          -0.006366856451307967,
          -0.00563181289785275,
          0.00945422417641395,
          0.006672785540949189,
          0.01164594979771394,
          0.008243769919225263,
          0.012235264807101132,
          0.002588635738478562,
          0.0076229036142339,
          0.00146576019968081,
          0.0008485929919024304,
          0.0024730330411739665,
          0.004179369365832297,
          0.0037804354664658923,
          0.007774161728984819,
          0.006774994354519448,
          0.00435434602757212,
          -0.0008838955509329338,
          0.003611512309053877,
          0.014683183560193713,
          0.018664537976173623,
          0.01636104774127234,
          0.01600037531056997,
          0.01908625712370382,
          0.027076318557565093,
          0.028848223427182074,
          0.037756407515679546,
          0.03961123260411448,
          0.03629664129252297,
          0.03437328278271701,
          0.0323371056048658,
          0.03397813165574126,
          0.03613745634581167,
          0.0349439387428685,
          0.03715700418742829,
          0.037002268834250174,
          0.04009773639840564,
          0.03467657545058689,
          0.03151415218696618,
          0.030569858204823497,
          0.03469219255441769,
          0.030596767504357025,
          0.03843171342239593,
          0.034340927613918604,
          0.04378321202279145,
          0.05352976933487108,
          0.05638173283137271,
          0.04642415781193976,
          0.06504215814737302,
          0.07440776036222352,
          0.076601574394638,
          0.08633877001013013,
          0.09113348436570456,
          0.09701830192228034,
          0.09719841435026844,
          0.09904071226815181,
          0.09940555517254923,
          0.09600605155102926,
          0.0941528815680619,
          0.08531592316975267,
          0.08451023538354918,
          0.08388481475024512,
          0.07829521730625122,
          0.08021884353648057,
          0.08033994390480514,
          0.08193608639365046,
          0.07978660866002252,
          0.0721012189057928,
          0.06833975254658409,
          0.07996576103496711,
          0.08022620228015565,
          0.08240673659303965,
          0.08371038262809849,
          0.08539588061617431,
          0.08306746565105239,
          0.09468209311323084,
          0.10183460667684807,
          0.11524075722303873,
          0.11590890387524011,
          0.12408002759794479,
          0.10771651996470477,
          0.1299543613174401,
          0.13344797396372066,
          0.13774211989070206,
          0.1449877900057981,
          0.1403264438422922,
          0.14610716325557238,
          0.14407165336435668,
          0.14152674192046066,
          0.1383737150067066,
          0.1399987864584995,
          0.1295380262988446,
          0.11799991776634888,
          0.13059651514630422,
          0.13607668289124875,
          0.1305847153528652,
          0.12918804012104435,
          0.14317292655912683,
          0.15220850888218918,
          0.16166674088325106,
          0.16615152904126407,
          0.16814590097795712,
          0.16642789171018268,
          0.16839755985502602,
          0.16945271280193053,
          0.17331470664414494,
          0.17496039041135591,
          0.18016795127076568,
          0.18302182471930428,
          0.18022771694948192,
          0.17544090832204362,
          0.17739017788916778,
          0.16194351567055332,
          0.16128671470175626,
          0.16624700406161907,
          0.15805536728103609,
          0.15722470468260719,
          0.14390549877334302,
          0.1467517848749229,
          0.15021555991063718,
          0.15727363467819533,
          0.15832822859816464,
          0.15728763650548339,
          0.15711923625099677,
          0.16912229977540383,
          0.17019173270665378,
          0.18233814395355163,
          0.18274214033252356,
          0.18645848849742164,
          0.19009291702588849,
          0.19644441967867543,
          0.19879046517482402,
          0.20127536847748506,
          0.20382046267588128,
          0.21070567331087986,
          0.21928433094899424,
          0.22614765608449194,
          0.2270793606359327,
          0.22999198549460886,
          0.23726107230838944,
          0.23827929994346864,
          0.24181181187898337,
          0.23634621647820309,
          0.2350210704001674,
          0.22560058061255117,
          0.23205751340115643,
          0.23393609154005124,
          0.24530940824619396,
          0.25313419966875506,
          0.24747328712710215,
          0.2388455269847658,
          0.2454128972690981,
          0.24564760742350944,
          0.245214954907496,
          0.247786693897055,
          0.24362016329603597,
          0.24633816039938328,
          0.25509643147873673,
          0.27659802922050125,
          0.2893865334465746,
          0.292551811199961,
          0.3116885025586138,
          0.33487973672169646,
          0.3411069977644625,
          0.34153096456525733,
          0.34816525403490584,
          0.35940400334593736,
          0.3801027001570392,
          0.38438315936324563,
          0.39861834342934555,
          0.3892683508960233,
          0.4090317362341709,
          0.4129936799000873,
          0.40230571324074704,
          0.40048180279735246,
          0.40616489149173374,
          0.39228145871051123,
          0.3993484806290384,
          0.38514705128689397,
          0.3799789797654154,
          0.38879664036800077,
          0.38144778582545413,
          0.3927207366077581,
          0.4081283904393902,
          0.4069202350229004,
          0.4081647316787158,
          0.4140449835238311,
          0.41051036884459924,
          0.38841498729557955,
          0.39291054168111117,
          0.37837189572458296,
          0.3687422823499218,
          0.3614007606365808,
          0.3571439586947629,
          0.3574037787682931,
          0.3541741520090409,
          0.3488351961266589,
          0.3572214189125211,
          0.3490451216566859,
          0.34409999940360025,
          0.33933917196780317,
          0.34144914453723585,
          0.3354937260427837,
          0.32857761317197887,
          0.33200298440614695,
          0.32949214023511963,
          0.3238436000997327,
          0.32847875666560555,
          0.3318330142551795,
          0.33592585897101035,
          0.34611415360730047,
          0.31631605532854934,
          0.3351062268798315,
          0.3408856590318894,
          0.34730901252932034,
          0.3523001051078605,
          0.3486351924270543,
          0.3659367434129437,
          0.3747551351080849,
          0.36933132435708926,
          0.36792131948654494,
          0.3768604495720014,
          0.3825905930381033,
          0.3880297822393892,
          0.4064511122736014,
          0.4253904048851178,
          0.4237601816174321,
          0.41728447032158167,
          0.4156293463776364,
          0.41776576759369966,
          0.41996385399842984,
          0.41902501924007307,
          0.4213780118115713,
          0.4190941181209651,
          0.40724514878255613,
          0.4063140100797198,
          0.402200633657253
         ]
        },
        {
         "line": {
          "dash": "dash"
         },
         "mode": "lines",
         "name": "MASI Index",
         "type": "scatter",
         "x": [
          "2021-02-08T00:00:00",
          "2021-02-09T00:00:00",
          "2021-02-10T00:00:00",
          "2021-02-11T00:00:00",
          "2021-02-12T00:00:00",
          "2021-02-15T00:00:00",
          "2021-02-16T00:00:00",
          "2021-02-17T00:00:00",
          "2021-02-18T00:00:00",
          "2021-02-19T00:00:00",
          "2021-02-22T00:00:00",
          "2021-02-23T00:00:00",
          "2021-02-24T00:00:00",
          "2021-02-25T00:00:00",
          "2021-02-26T00:00:00",
          "2021-03-01T00:00:00",
          "2021-03-02T00:00:00",
          "2021-03-03T00:00:00",
          "2021-03-04T00:00:00",
          "2021-03-05T00:00:00",
          "2021-03-08T00:00:00",
          "2021-03-09T00:00:00",
          "2021-03-10T00:00:00",
          "2021-03-11T00:00:00",
          "2021-03-12T00:00:00",
          "2021-03-15T00:00:00",
          "2021-03-16T00:00:00",
          "2021-03-17T00:00:00",
          "2021-03-18T00:00:00",
          "2021-03-19T00:00:00",
          "2021-03-22T00:00:00",
          "2021-03-23T00:00:00",
          "2021-03-24T00:00:00",
          "2021-03-25T00:00:00",
          "2021-03-26T00:00:00",
          "2021-03-29T00:00:00",
          "2021-03-30T00:00:00",
          "2021-03-31T00:00:00",
          "2021-04-01T00:00:00",
          "2021-04-02T00:00:00",
          "2021-04-05T00:00:00",
          "2021-04-06T00:00:00",
          "2021-04-07T00:00:00",
          "2021-04-08T00:00:00",
          "2021-04-09T00:00:00",
          "2021-04-12T00:00:00",
          "2021-04-13T00:00:00",
          "2021-04-14T00:00:00",
          "2021-04-15T00:00:00",
          "2021-04-16T00:00:00",
          "2021-04-19T00:00:00",
          "2021-04-20T00:00:00",
          "2021-04-21T00:00:00",
          "2021-04-22T00:00:00",
          "2021-04-23T00:00:00",
          "2021-04-26T00:00:00",
          "2021-04-27T00:00:00",
          "2021-04-28T00:00:00",
          "2021-04-29T00:00:00",
          "2021-04-30T00:00:00",
          "2021-05-03T00:00:00",
          "2021-05-04T00:00:00",
          "2021-05-05T00:00:00",
          "2021-05-06T00:00:00",
          "2021-05-07T00:00:00",
          "2021-05-10T00:00:00",
          "2021-05-11T00:00:00",
          "2021-05-12T00:00:00",
          "2021-05-17T00:00:00",
          "2021-05-18T00:00:00",
          "2021-05-19T00:00:00",
          "2021-05-20T00:00:00",
          "2021-05-21T00:00:00",
          "2021-05-24T00:00:00",
          "2021-05-25T00:00:00",
          "2021-05-26T00:00:00",
          "2021-05-27T00:00:00",
          "2021-05-28T00:00:00",
          "2021-05-31T00:00:00",
          "2021-06-01T00:00:00",
          "2021-06-02T00:00:00",
          "2021-06-03T00:00:00",
          "2021-06-04T00:00:00",
          "2021-06-07T00:00:00",
          "2021-06-08T00:00:00",
          "2021-06-09T00:00:00",
          "2021-06-10T00:00:00",
          "2021-06-11T00:00:00",
          "2021-06-14T00:00:00",
          "2021-06-15T00:00:00",
          "2021-06-16T00:00:00",
          "2021-06-17T00:00:00",
          "2021-06-18T00:00:00",
          "2021-06-21T00:00:00",
          "2021-06-22T00:00:00",
          "2021-06-23T00:00:00",
          "2021-06-24T00:00:00",
          "2021-06-25T00:00:00",
          "2021-06-28T00:00:00",
          "2021-06-29T00:00:00",
          "2021-06-30T00:00:00",
          "2021-07-01T00:00:00",
          "2021-07-02T00:00:00",
          "2021-07-05T00:00:00",
          "2021-07-06T00:00:00",
          "2021-07-07T00:00:00",
          "2021-07-08T00:00:00",
          "2021-07-09T00:00:00",
          "2021-07-12T00:00:00",
          "2021-07-13T00:00:00",
          "2021-07-14T00:00:00",
          "2021-07-15T00:00:00",
          "2021-07-16T00:00:00",
          "2021-07-19T00:00:00",
          "2021-07-20T00:00:00",
          "2021-07-23T00:00:00",
          "2021-07-26T00:00:00",
          "2021-07-27T00:00:00",
          "2021-07-28T00:00:00",
          "2021-07-29T00:00:00",
          "2021-08-02T00:00:00",
          "2021-08-03T00:00:00",
          "2021-08-04T00:00:00",
          "2021-08-05T00:00:00",
          "2021-08-06T00:00:00",
          "2021-08-09T00:00:00",
          "2021-08-11T00:00:00",
          "2021-08-12T00:00:00",
          "2021-08-13T00:00:00",
          "2021-08-16T00:00:00",
          "2021-08-17T00:00:00",
          "2021-08-18T00:00:00",
          "2021-08-19T00:00:00",
          "2021-08-23T00:00:00",
          "2021-08-24T00:00:00",
          "2021-08-25T00:00:00",
          "2021-08-26T00:00:00",
          "2021-08-27T00:00:00",
          "2021-08-30T00:00:00",
          "2021-08-31T00:00:00",
          "2021-09-01T00:00:00",
          "2021-09-02T00:00:00",
          "2021-09-03T00:00:00",
          "2021-09-06T00:00:00",
          "2021-09-07T00:00:00",
          "2021-09-08T00:00:00",
          "2021-09-09T00:00:00",
          "2021-09-10T00:00:00",
          "2021-09-13T00:00:00",
          "2021-09-14T00:00:00",
          "2021-09-15T00:00:00",
          "2021-09-16T00:00:00",
          "2021-09-17T00:00:00",
          "2021-09-20T00:00:00",
          "2021-09-21T00:00:00",
          "2021-09-22T00:00:00",
          "2021-09-23T00:00:00",
          "2021-09-24T00:00:00",
          "2021-09-27T00:00:00",
          "2021-09-28T00:00:00",
          "2021-09-29T00:00:00",
          "2021-09-30T00:00:00",
          "2021-10-01T00:00:00",
          "2021-10-04T00:00:00",
          "2021-10-05T00:00:00",
          "2021-10-06T00:00:00",
          "2021-10-07T00:00:00",
          "2021-10-08T00:00:00",
          "2021-10-11T00:00:00",
          "2021-10-12T00:00:00",
          "2021-10-13T00:00:00",
          "2021-10-14T00:00:00",
          "2021-10-15T00:00:00",
          "2021-10-18T00:00:00",
          "2021-10-21T00:00:00",
          "2021-10-22T00:00:00",
          "2021-10-25T00:00:00",
          "2021-10-26T00:00:00",
          "2021-10-27T00:00:00",
          "2021-10-28T00:00:00",
          "2021-10-29T00:00:00",
          "2021-11-01T00:00:00",
          "2021-11-02T00:00:00",
          "2021-11-03T00:00:00",
          "2021-11-04T00:00:00",
          "2021-11-05T00:00:00",
          "2021-11-08T00:00:00",
          "2021-11-09T00:00:00",
          "2021-11-10T00:00:00",
          "2021-11-11T00:00:00",
          "2021-11-12T00:00:00",
          "2021-11-15T00:00:00",
          "2021-11-16T00:00:00",
          "2021-11-17T00:00:00",
          "2021-11-19T00:00:00",
          "2021-11-22T00:00:00",
          "2021-11-23T00:00:00",
          "2021-11-24T00:00:00",
          "2021-11-25T00:00:00",
          "2021-11-26T00:00:00",
          "2021-11-29T00:00:00",
          "2021-11-30T00:00:00",
          "2021-12-01T00:00:00",
          "2021-12-02T00:00:00",
          "2021-12-03T00:00:00",
          "2021-12-06T00:00:00",
          "2021-12-07T00:00:00",
          "2021-12-08T00:00:00",
          "2021-12-09T00:00:00",
          "2021-12-10T00:00:00",
          "2021-12-13T00:00:00",
          "2021-12-14T00:00:00",
          "2021-12-15T00:00:00",
          "2021-12-16T00:00:00",
          "2021-12-17T00:00:00",
          "2021-12-20T00:00:00",
          "2021-12-21T00:00:00",
          "2021-12-22T00:00:00",
          "2021-12-23T00:00:00",
          "2021-12-24T00:00:00",
          "2021-12-27T00:00:00",
          "2021-12-28T00:00:00",
          "2021-12-29T00:00:00",
          "2021-12-30T00:00:00",
          "2021-12-31T00:00:00",
          "2022-01-03T00:00:00",
          "2022-01-04T00:00:00",
          "2022-01-05T00:00:00",
          "2022-01-06T00:00:00",
          "2022-01-07T00:00:00",
          "2022-01-10T00:00:00",
          "2022-01-12T00:00:00",
          "2022-01-13T00:00:00",
          "2022-01-14T00:00:00",
          "2022-01-17T00:00:00",
          "2022-01-18T00:00:00",
          "2022-01-19T00:00:00",
          "2022-01-20T00:00:00",
          "2022-01-21T00:00:00",
          "2022-01-24T00:00:00",
          "2022-01-25T00:00:00",
          "2022-01-26T00:00:00",
          "2022-01-27T00:00:00",
          "2022-01-28T00:00:00",
          "2022-01-31T00:00:00",
          "2022-02-01T00:00:00",
          "2022-02-02T00:00:00",
          "2022-02-03T00:00:00",
          "2022-02-04T00:00:00"
         ],
         "y": [
          0,
          -0.004573021857980031,
          -0.01200090059126313,
          -0.009601986625110692,
          -0.012658633287570886,
          -0.015080324321870231,
          -0.010615156067898313,
          -0.015697133478634218,
          -0.01167973196944061,
          -0.020309113862777006,
          -0.02145708322350237,
          -0.027581970127370847,
          -0.03575385418792454,
          -0.03000693333612614,
          -0.029611000226924644,
          -0.03013541958063526,
          -0.028581786022703892,
          -0.031250427977778106,
          -0.030273491673029174,
          -0.03029827647223926,
          -0.03184497267858177,
          -0.02901062029073298,
          -0.029971417855148452,
          -0.030226425330785567,
          -0.024750761760931494,
          -0.024509765685054585,
          -0.018580995660147925,
          -0.01229515707330131,
          -0.017743677827887994,
          -0.020465699798634218,
          -0.022382245697429637,
          -0.027530623473370985,
          -0.02313302604909695,
          -0.018117243958691964,
          -0.017546663877600288,
          -0.01894424119893312,
          -0.01596197456471249,
          -0.018890416919366215,
          -0.012984167656513335,
          -0.011260799660144483,
          -0.014664689817639465,
          -0.014241938547555066,
          -0.015236465993832549,
          -0.012673080407689441,
          -0.010671979128755282,
          -0.007483898701714509,
          -0.008329580656148194,
          -0.007296983211497743,
          -0.005996366485213178,
          -0.0030256507122583542,
          -0.003520389820379166,
          -0.00029040334710417337,
          -0.0018872415688084843,
          0.000811798288916199,
          0.002963325613935197,
          0.0020871774085593486,
          0.0035530603037234876,
          0.0066458888430036556,
          0.008091532100343413,
          0.009097097795700337,
          0.012878390131860096,
          0.01758544298949838,
          0.02132037809693932,
          0.026074540014503267,
          0.026282985216546706,
          0.030054640443603287,
          0.027656495395730563,
          0.028811282498534263,
          0.04030036545233462,
          0.03950512453703792,
          0.04259626145610307,
          0.02945891673477119,
          0.03742749025868153,
          0.03299321543247369,
          0.03318656420562904,
          0.035194406334813744,
          0.0335058105317525,
          0.03910823455175505,
          0.03500297131382091,
          0.03932692345398925,
          0.048280549642266024,
          0.058264363997917235,
          0.05734041470616402,
          0.0576439750993849,
          0.05654210666128545,
          0.05609372478188357,
          0.057152234772554156,
          0.06476391060525355,
          0.07355755053016977,
          0.06807899070146295,
          0.06388621601978217,
          0.06298864062501663,
          0.06688809007013052,
          0.07186467441535238,
          0.06945555946669169,
          0.06918193562515351,
          0.06593546012655072,
          0.060902052720471556,
          0.06530440889454225,
          0.06042741655359185,
          0.06018752259391569,
          0.06100185831315419,
          0.06161974395550973,
          0.04925182158235519,
          0.0407908327922355,
          0.045940082008893324,
          0.0479549042073486,
          0.04528927812063732,
          0.04499276614497871,
          0.043221127167728524,
          0.03970141228672741,
          0.0372077932191468,
          0.03941445198480786,
          0.03849778178610075,
          0.03780690871194525,
          0.04378181383362367,
          0.04089397890766544,
          0.042952808862319,
          0.04546545438554994,
          0.05120916286764721,
          0.0622981776406093,
          0.0633383617456178,
          0.06161759952786294,
          0.06519147188635199,
          0.07038269549753595,
          0.067711063304708,
          0.07365556198019929,
          0.0701664756773328,
          0.07846031017701982,
          0.07628205867001903,
          0.07858024434155331,
          0.07794430620670179,
          0.07710655265408373,
          0.08617414961845937,
          0.08557670865880285,
          0.08119646315703677,
          0.08374413717966855,
          0.09226422161133807,
          0.0914825222012976,
          0.08453020233682951,
          0.08550619885257027,
          0.0862473762692797,
          0.09079457956014081,
          0.08429219649870645,
          0.08628414765011416,
          0.08853361807687188,
          0.10818786987158457,
          0.10075331009280597,
          0.10106601207001686,
          0.10224636997738346,
          0.10171420163612233,
          0.10232391111410544,
          0.1123001131787893,
          0.1063504712943617,
          0.1056037149483573,
          0.10838743833926756,
          0.11732630984011383,
          0.12192714945273986,
          0.12108426123472182,
          0.125131539490843,
          0.12751457102275476,
          0.12662119904791758,
          0.11969113509587359,
          0.1176433348467627,
          0.11567580112249809,
          0.11730454945280289,
          0.11897999675328408,
          0.12711043611857153,
          0.12309741744357128,
          0.12437764074837543,
          0.1266985265962286,
          0.1348510680902839,
          0.1363698611066162,
          0.13548998791935274,
          0.13590962079863655,
          0.13635197094131213,
          0.13918118012022473,
          0.15774894184242894,
          0.15665952988045784,
          0.16012675327357617,
          0.15811512635774894,
          0.15402205474631336,
          0.15872876586249407,
          0.15930068727880675,
          0.15397482607687762,
          0.1460130361209,
          0.14724853401244498,
          0.14315403563042417,
          0.14007390278629273,
          0.13906326223029097,
          0.13592522129617457,
          0.13598742678498832,
          0.13313492792574255,
          0.13539134424762556,
          0.13974608729312066,
          0.14069271113058335,
          0.13687067466914504,
          0.13977708324332183,
          0.13838597337907332,
          0.12954771910687146,
          0.11915973567289129,
          0.11795378987388938,
          0.12519969982455392,
          0.13043010409384803,
          0.1299683430363825,
          0.12591067583995108,
          0.13017085902413728,
          0.1304253966052702,
          0.13438509506935348,
          0.13969190418502309,
          0.13492168896249002,
          0.1347409675361917,
          0.13381532662422346,
          0.13368773745104034,
          0.1366087383854555,
          0.13235710728124528,
          0.1314170790539133,
          0.12864413760598947,
          0.13201550252026029,
          0.13137219131346178,
          0.13085552094730124,
          0.1347350468654389,
          0.14391130052624823,
          0.14522967926478958,
          0.14127306501736103,
          0.1359733043192537,
          0.1344521960045464,
          0.13548938987180126,
          0.14216571079160123,
          0.15143394416571465,
          0.15220751012906542,
          0.15604778704080147,
          0.1609163725418956,
          0.17766723163079456,
          0.17651197463348645,
          0.17627835162955674,
          0.1736862255868321,
          0.17709324267866378,
          0.17762453103567144,
          0.17503550629667397,
          0.17103009991264106,
          0.1723683936346223,
          0.17335769243659893,
          0.1784281873343605,
          0.18614133474934813,
          0.1843994614530522,
          0.18802229681887428,
          0.18869584360113123,
          0.19176737310406833
         ]
        },
        {
         "mode": "lines",
         "name": "Equal-Weighted Portfolio",
         "type": "scatter",
         "x": [
          "2021-02-08T00:00:00",
          "2021-02-09T00:00:00",
          "2021-02-10T00:00:00",
          "2021-02-11T00:00:00",
          "2021-02-12T00:00:00",
          "2021-02-15T00:00:00",
          "2021-02-16T00:00:00",
          "2021-02-17T00:00:00",
          "2021-02-18T00:00:00",
          "2021-02-19T00:00:00",
          "2021-02-22T00:00:00",
          "2021-02-23T00:00:00",
          "2021-02-24T00:00:00",
          "2021-02-25T00:00:00",
          "2021-02-26T00:00:00",
          "2021-03-01T00:00:00",
          "2021-03-02T00:00:00",
          "2021-03-03T00:00:00",
          "2021-03-04T00:00:00",
          "2021-03-05T00:00:00",
          "2021-03-08T00:00:00",
          "2021-03-09T00:00:00",
          "2021-03-10T00:00:00",
          "2021-03-11T00:00:00",
          "2021-03-12T00:00:00",
          "2021-03-15T00:00:00",
          "2021-03-16T00:00:00",
          "2021-03-17T00:00:00",
          "2021-03-18T00:00:00",
          "2021-03-19T00:00:00",
          "2021-03-22T00:00:00",
          "2021-03-23T00:00:00",
          "2021-03-24T00:00:00",
          "2021-03-25T00:00:00",
          "2021-03-26T00:00:00",
          "2021-03-29T00:00:00",
          "2021-03-30T00:00:00",
          "2021-03-31T00:00:00",
          "2021-04-01T00:00:00",
          "2021-04-02T00:00:00",
          "2021-04-05T00:00:00",
          "2021-04-06T00:00:00",
          "2021-04-07T00:00:00",
          "2021-04-08T00:00:00",
          "2021-04-09T00:00:00",
          "2021-04-12T00:00:00",
          "2021-04-13T00:00:00",
          "2021-04-14T00:00:00",
          "2021-04-15T00:00:00",
          "2021-04-16T00:00:00",
          "2021-04-19T00:00:00",
          "2021-04-20T00:00:00",
          "2021-04-21T00:00:00",
          "2021-04-22T00:00:00",
          "2021-04-23T00:00:00",
          "2021-04-26T00:00:00",
          "2021-04-27T00:00:00",
          "2021-04-28T00:00:00",
          "2021-04-29T00:00:00",
          "2021-04-30T00:00:00",
          "2021-05-03T00:00:00",
          "2021-05-04T00:00:00",
          "2021-05-05T00:00:00",
          "2021-05-06T00:00:00",
          "2021-05-07T00:00:00",
          "2021-05-10T00:00:00",
          "2021-05-11T00:00:00",
          "2021-05-12T00:00:00",
          "2021-05-17T00:00:00",
          "2021-05-18T00:00:00",
          "2021-05-19T00:00:00",
          "2021-05-20T00:00:00",
          "2021-05-21T00:00:00",
          "2021-05-24T00:00:00",
          "2021-05-25T00:00:00",
          "2021-05-26T00:00:00",
          "2021-05-27T00:00:00",
          "2021-05-28T00:00:00",
          "2021-05-31T00:00:00",
          "2021-06-01T00:00:00",
          "2021-06-02T00:00:00",
          "2021-06-03T00:00:00",
          "2021-06-04T00:00:00",
          "2021-06-07T00:00:00",
          "2021-06-08T00:00:00",
          "2021-06-09T00:00:00",
          "2021-06-10T00:00:00",
          "2021-06-11T00:00:00",
          "2021-06-14T00:00:00",
          "2021-06-15T00:00:00",
          "2021-06-16T00:00:00",
          "2021-06-17T00:00:00",
          "2021-06-18T00:00:00",
          "2021-06-21T00:00:00",
          "2021-06-22T00:00:00",
          "2021-06-23T00:00:00",
          "2021-06-24T00:00:00",
          "2021-06-25T00:00:00",
          "2021-06-28T00:00:00",
          "2021-06-29T00:00:00",
          "2021-06-30T00:00:00",
          "2021-07-01T00:00:00",
          "2021-07-02T00:00:00",
          "2021-07-05T00:00:00",
          "2021-07-06T00:00:00",
          "2021-07-07T00:00:00",
          "2021-07-08T00:00:00",
          "2021-07-09T00:00:00",
          "2021-07-12T00:00:00",
          "2021-07-13T00:00:00",
          "2021-07-14T00:00:00",
          "2021-07-15T00:00:00",
          "2021-07-16T00:00:00",
          "2021-07-19T00:00:00",
          "2021-07-20T00:00:00",
          "2021-07-23T00:00:00",
          "2021-07-26T00:00:00",
          "2021-07-27T00:00:00",
          "2021-07-28T00:00:00",
          "2021-07-29T00:00:00",
          "2021-08-02T00:00:00",
          "2021-08-03T00:00:00",
          "2021-08-04T00:00:00",
          "2021-08-05T00:00:00",
          "2021-08-06T00:00:00",
          "2021-08-09T00:00:00",
          "2021-08-11T00:00:00",
          "2021-08-12T00:00:00",
          "2021-08-13T00:00:00",
          "2021-08-16T00:00:00",
          "2021-08-17T00:00:00",
          "2021-08-18T00:00:00",
          "2021-08-19T00:00:00",
          "2021-08-23T00:00:00",
          "2021-08-24T00:00:00",
          "2021-08-25T00:00:00",
          "2021-08-26T00:00:00",
          "2021-08-27T00:00:00",
          "2021-08-30T00:00:00",
          "2021-08-31T00:00:00",
          "2021-09-01T00:00:00",
          "2021-09-02T00:00:00",
          "2021-09-03T00:00:00",
          "2021-09-06T00:00:00",
          "2021-09-07T00:00:00",
          "2021-09-08T00:00:00",
          "2021-09-09T00:00:00",
          "2021-09-10T00:00:00",
          "2021-09-13T00:00:00",
          "2021-09-14T00:00:00",
          "2021-09-15T00:00:00",
          "2021-09-16T00:00:00",
          "2021-09-17T00:00:00",
          "2021-09-20T00:00:00",
          "2021-09-21T00:00:00",
          "2021-09-22T00:00:00",
          "2021-09-23T00:00:00",
          "2021-09-24T00:00:00",
          "2021-09-27T00:00:00",
          "2021-09-28T00:00:00",
          "2021-09-29T00:00:00",
          "2021-09-30T00:00:00",
          "2021-10-01T00:00:00",
          "2021-10-04T00:00:00",
          "2021-10-05T00:00:00",
          "2021-10-06T00:00:00",
          "2021-10-07T00:00:00",
          "2021-10-08T00:00:00",
          "2021-10-11T00:00:00",
          "2021-10-12T00:00:00",
          "2021-10-13T00:00:00",
          "2021-10-14T00:00:00",
          "2021-10-15T00:00:00",
          "2021-10-18T00:00:00",
          "2021-10-21T00:00:00",
          "2021-10-22T00:00:00",
          "2021-10-25T00:00:00",
          "2021-10-26T00:00:00",
          "2021-10-27T00:00:00",
          "2021-10-28T00:00:00",
          "2021-10-29T00:00:00",
          "2021-11-01T00:00:00",
          "2021-11-02T00:00:00",
          "2021-11-03T00:00:00",
          "2021-11-04T00:00:00",
          "2021-11-05T00:00:00",
          "2021-11-08T00:00:00",
          "2021-11-09T00:00:00",
          "2021-11-10T00:00:00",
          "2021-11-11T00:00:00",
          "2021-11-12T00:00:00",
          "2021-11-15T00:00:00",
          "2021-11-16T00:00:00",
          "2021-11-17T00:00:00",
          "2021-11-19T00:00:00",
          "2021-11-22T00:00:00",
          "2021-11-23T00:00:00",
          "2021-11-24T00:00:00",
          "2021-11-25T00:00:00",
          "2021-11-26T00:00:00",
          "2021-11-29T00:00:00",
          "2021-11-30T00:00:00",
          "2021-12-01T00:00:00",
          "2021-12-02T00:00:00",
          "2021-12-03T00:00:00",
          "2021-12-06T00:00:00",
          "2021-12-07T00:00:00",
          "2021-12-08T00:00:00",
          "2021-12-09T00:00:00",
          "2021-12-10T00:00:00",
          "2021-12-13T00:00:00",
          "2021-12-14T00:00:00",
          "2021-12-15T00:00:00",
          "2021-12-16T00:00:00",
          "2021-12-17T00:00:00",
          "2021-12-20T00:00:00",
          "2021-12-21T00:00:00",
          "2021-12-22T00:00:00",
          "2021-12-23T00:00:00",
          "2021-12-24T00:00:00",
          "2021-12-27T00:00:00",
          "2021-12-28T00:00:00",
          "2021-12-29T00:00:00",
          "2021-12-30T00:00:00",
          "2021-12-31T00:00:00",
          "2022-01-03T00:00:00",
          "2022-01-04T00:00:00",
          "2022-01-05T00:00:00",
          "2022-01-06T00:00:00",
          "2022-01-07T00:00:00",
          "2022-01-10T00:00:00",
          "2022-01-12T00:00:00",
          "2022-01-13T00:00:00",
          "2022-01-14T00:00:00",
          "2022-01-17T00:00:00",
          "2022-01-18T00:00:00",
          "2022-01-19T00:00:00",
          "2022-01-20T00:00:00",
          "2022-01-21T00:00:00",
          "2022-01-24T00:00:00",
          "2022-01-25T00:00:00",
          "2022-01-26T00:00:00",
          "2022-01-27T00:00:00",
          "2022-01-28T00:00:00",
          "2022-01-31T00:00:00",
          "2022-02-01T00:00:00",
          "2022-02-02T00:00:00",
          "2022-02-03T00:00:00",
          "2022-02-04T00:00:00"
         ],
         "y": [
          0,
          -0.0028566001226608684,
          -0.005402442994301815,
          -0.0039048614295835726,
          -0.0025491123588503584,
          -0.0029701711819448695,
          -0.003656364745435514,
          -0.004413603232252372,
          -0.004612875801084715,
          -0.0053863692269569,
          -0.007610248313445256,
          -0.009862307236745638,
          -0.016081385341762067,
          -0.01667529333691964,
          -0.014598358132562494,
          -0.015524171121699126,
          -0.012462126967131004,
          -0.013036653280491306,
          -0.012699531744481574,
          -0.011632584962045556,
          -0.01010484051273608,
          -0.008395840924616316,
          -0.010521824210738884,
          -0.012374614147940166,
          -0.007774482029372032,
          -0.00799624553588374,
          -0.004937661103340929,
          -0.0035263194162056255,
          -0.004651973497653561,
          -0.006952493429109752,
          -0.006642267832019488,
          -0.008427873876870828,
          -0.007434600710729322,
          -0.010492712932447468,
          -0.009811993961210796,
          -0.007813844362244304,
          -0.006524534248004699,
          -0.007469843551303201,
          -0.0038627254366129238,
          -0.0010123929691430167,
          -0.0033786171276708465,
          -0.0012267399176154603,
          -0.0033708124073911216,
          -0.00420306830909789,
          -0.00038502231038961554,
          -0.002399311616404831,
          0.0003697820857013756,
          0.001850533304983637,
          0.00266045691231942,
          0.0043136333000610705,
          0.0046652029996381295,
          0.00547573831141368,
          0.0060350408468823336,
          0.006624609763850042,
          0.00607792503496829,
          0.00791959494708605,
          0.011728509781467888,
          0.016793040730692654,
          0.01890336835241957,
          0.01865445532134391,
          0.022407660265400864,
          0.026361400929778123,
          0.028813716751610485,
          0.031155927331405042,
          0.033709768062558654,
          0.03762190631934259,
          0.037327461733873024,
          0.03710787334293619,
          0.04045945232101045,
          0.04208865790881955,
          0.044385481379451974,
          0.03916954139978368,
          0.04555328713561635,
          0.044931309885473336,
          0.04211776101588538,
          0.04601462506634202,
          0.04597629321549901,
          0.04452623161972502,
          0.044429229255822156,
          0.047432579635722005,
          0.05110547852187741,
          0.058406097766268594,
          0.061587969891061745,
          0.062151202652203086,
          0.06428979431839754,
          0.0680712212500929,
          0.06905007068630109,
          0.07519744087186742,
          0.08274383735646085,
          0.08665531367460844,
          0.07978184951538281,
          0.07903797898273512,
          0.08287816223597133,
          0.08996784936119862,
          0.08821835506477438,
          0.0874960550476016,
          0.08708535266051265,
          0.07801663433902872,
          0.08116929144999574,
          0.07785284586456931,
          0.07567710154714646,
          0.07607175758702489,
          0.07459174679417901,
          0.06524289292944863,
          0.06475529247828127,
          0.07151956032907258,
          0.07667480430485374,
          0.07679768710587132,
          0.07774186538608441,
          0.07755334231744859,
          0.07832233643464348,
          0.07903486317125363,
          0.08004854679479756,
          0.07996659402848172,
          0.0791339953138166,
          0.08046406332563416,
          0.07676651073186314,
          0.07737534262233936,
          0.07797291149000429,
          0.07879115539745629,
          0.08080740688782662,
          0.08470737801763617,
          0.0859270955071445,
          0.08765178828347753,
          0.08689797329134064,
          0.0855042323192845,
          0.08749298737226985,
          0.08225842369925718,
          0.0852042500151946,
          0.08873852157277318,
          0.09252459528295698,
          0.0950971757521466,
          0.09481851490204729,
          0.0966144718779196,
          0.10015531443552717,
          0.09871708749900998,
          0.10272713353985496,
          0.10576715619692911,
          0.10757936887481168,
          0.10918823813092349,
          0.11018725365606263,
          0.10977988913549597,
          0.11547017408787363,
          0.11576793867896806,
          0.11840651750891396,
          0.12116763362915384,
          0.13354805675906034,
          0.13511694293750587,
          0.13619204523716633,
          0.1354100596772656,
          0.134822318526006,
          0.1337958170994349,
          0.13653192673733283,
          0.1349984739120591,
          0.13366913017571336,
          0.13522112475001746,
          0.13787686193689863,
          0.14157777299668006,
          0.14050296751094504,
          0.14357543914870052,
          0.14561991653727624,
          0.1393385083315728,
          0.13373879589137339,
          0.13630870329115585,
          0.138239336658442,
          0.1414425646480617,
          0.14569268221709297,
          0.15015783742520905,
          0.15220210208166374,
          0.15579329033597578,
          0.1558854503574354,
          0.16255622454397822,
          0.17051579820523122,
          0.17399478616505215,
          0.17844036187324464,
          0.18520674526679826,
          0.18702514799402947,
          0.1970165321704762,
          0.2072907099484167,
          0.21296087028608146,
          0.21758482789568667,
          0.2205485348263927,
          0.22483111847785553,
          0.23319739687403307,
          0.23631735696204847,
          0.231880922157506,
          0.2291584830733142,
          0.22581300679551863,
          0.2214267057108692,
          0.21754555478765658,
          0.21411535903684964,
          0.21721009506638222,
          0.21618463515672426,
          0.21340678969727778,
          0.21844695164004535,
          0.22275573797708192,
          0.22046344797079964,
          0.2176247023033162,
          0.21802455292272538,
          0.21211323435294327,
          0.19510286870271365,
          0.196914928070679,
          0.19946935367552432,
          0.19981272905453018,
          0.20233699448632492,
          0.1987525007253661,
          0.20060043490339452,
          0.19777062925909306,
          0.20045463892075865,
          0.19913908421582005,
          0.19590993205382312,
          0.18960287895294803,
          0.19164214165654636,
          0.19238834766058543,
          0.1940721595828938,
          0.19078477282302586,
          0.19108634799386137,
          0.1902513278589817,
          0.18957646180076915,
          0.19352796996890476,
          0.19370889178177553,
          0.19477717305600617,
          0.1986303488301655,
          0.19789091975689033,
          0.1963082421827118,
          0.1968616400678953,
          0.1989013473213299,
          0.2039514098452948,
          0.20841245426457355,
          0.21900423166898086,
          0.2248404120332672,
          0.23120236513562853,
          0.23712401788119886,
          0.24742744656384885,
          0.25329147477904934,
          0.2578746146298043,
          0.2678539749013089,
          0.2743410234449051,
          0.2760846650044073,
          0.27191055978859313,
          0.265756609302511,
          0.26725917565164115,
          0.2690431426618358,
          0.27246378932507676,
          0.2765815343031939,
          0.2788863154433454,
          0.2789165583523916,
          0.27778228773561664,
          0.2805544441719616
         ]
        },
        {
         "mode": "lines",
         "name": "Sharpe Ratio Optimized Portfolio",
         "type": "scatter",
         "x": [
          "2021-02-08T00:00:00",
          "2021-02-09T00:00:00",
          "2021-02-10T00:00:00",
          "2021-02-11T00:00:00",
          "2021-02-12T00:00:00",
          "2021-02-15T00:00:00",
          "2021-02-16T00:00:00",
          "2021-02-17T00:00:00",
          "2021-02-18T00:00:00",
          "2021-02-19T00:00:00",
          "2021-02-22T00:00:00",
          "2021-02-23T00:00:00",
          "2021-02-24T00:00:00",
          "2021-02-25T00:00:00",
          "2021-02-26T00:00:00",
          "2021-03-01T00:00:00",
          "2021-03-02T00:00:00",
          "2021-03-03T00:00:00",
          "2021-03-04T00:00:00",
          "2021-03-05T00:00:00",
          "2021-03-08T00:00:00",
          "2021-03-09T00:00:00",
          "2021-03-10T00:00:00",
          "2021-03-11T00:00:00",
          "2021-03-12T00:00:00",
          "2021-03-15T00:00:00",
          "2021-03-16T00:00:00",
          "2021-03-17T00:00:00",
          "2021-03-18T00:00:00",
          "2021-03-19T00:00:00",
          "2021-03-22T00:00:00",
          "2021-03-23T00:00:00",
          "2021-03-24T00:00:00",
          "2021-03-25T00:00:00",
          "2021-03-26T00:00:00",
          "2021-03-29T00:00:00",
          "2021-03-30T00:00:00",
          "2021-03-31T00:00:00",
          "2021-04-01T00:00:00",
          "2021-04-02T00:00:00",
          "2021-04-05T00:00:00",
          "2021-04-06T00:00:00",
          "2021-04-07T00:00:00",
          "2021-04-08T00:00:00",
          "2021-04-09T00:00:00",
          "2021-04-12T00:00:00",
          "2021-04-13T00:00:00",
          "2021-04-14T00:00:00",
          "2021-04-15T00:00:00",
          "2021-04-16T00:00:00",
          "2021-04-19T00:00:00",
          "2021-04-20T00:00:00",
          "2021-04-21T00:00:00",
          "2021-04-22T00:00:00",
          "2021-04-23T00:00:00",
          "2021-04-26T00:00:00",
          "2021-04-27T00:00:00",
          "2021-04-28T00:00:00",
          "2021-04-29T00:00:00",
          "2021-04-30T00:00:00",
          "2021-05-03T00:00:00",
          "2021-05-04T00:00:00",
          "2021-05-05T00:00:00",
          "2021-05-06T00:00:00",
          "2021-05-07T00:00:00",
          "2021-05-10T00:00:00",
          "2021-05-11T00:00:00",
          "2021-05-12T00:00:00",
          "2021-05-17T00:00:00",
          "2021-05-18T00:00:00",
          "2021-05-19T00:00:00",
          "2021-05-20T00:00:00",
          "2021-05-21T00:00:00",
          "2021-05-24T00:00:00",
          "2021-05-25T00:00:00",
          "2021-05-26T00:00:00",
          "2021-05-27T00:00:00",
          "2021-05-28T00:00:00",
          "2021-05-31T00:00:00",
          "2021-06-01T00:00:00",
          "2021-06-02T00:00:00",
          "2021-06-03T00:00:00",
          "2021-06-04T00:00:00",
          "2021-06-07T00:00:00",
          "2021-06-08T00:00:00",
          "2021-06-09T00:00:00",
          "2021-06-10T00:00:00",
          "2021-06-11T00:00:00",
          "2021-06-14T00:00:00",
          "2021-06-15T00:00:00",
          "2021-06-16T00:00:00",
          "2021-06-17T00:00:00",
          "2021-06-18T00:00:00",
          "2021-06-21T00:00:00",
          "2021-06-22T00:00:00",
          "2021-06-23T00:00:00",
          "2021-06-24T00:00:00",
          "2021-06-25T00:00:00",
          "2021-06-28T00:00:00",
          "2021-06-29T00:00:00",
          "2021-06-30T00:00:00",
          "2021-07-01T00:00:00",
          "2021-07-02T00:00:00",
          "2021-07-05T00:00:00",
          "2021-07-06T00:00:00",
          "2021-07-07T00:00:00",
          "2021-07-08T00:00:00",
          "2021-07-09T00:00:00",
          "2021-07-12T00:00:00",
          "2021-07-13T00:00:00",
          "2021-07-14T00:00:00",
          "2021-07-15T00:00:00",
          "2021-07-16T00:00:00",
          "2021-07-19T00:00:00",
          "2021-07-20T00:00:00",
          "2021-07-23T00:00:00",
          "2021-07-26T00:00:00",
          "2021-07-27T00:00:00",
          "2021-07-28T00:00:00",
          "2021-07-29T00:00:00",
          "2021-08-02T00:00:00",
          "2021-08-03T00:00:00",
          "2021-08-04T00:00:00",
          "2021-08-05T00:00:00",
          "2021-08-06T00:00:00",
          "2021-08-09T00:00:00",
          "2021-08-11T00:00:00",
          "2021-08-12T00:00:00",
          "2021-08-13T00:00:00",
          "2021-08-16T00:00:00",
          "2021-08-17T00:00:00",
          "2021-08-18T00:00:00",
          "2021-08-19T00:00:00",
          "2021-08-23T00:00:00",
          "2021-08-24T00:00:00",
          "2021-08-25T00:00:00",
          "2021-08-26T00:00:00",
          "2021-08-27T00:00:00",
          "2021-08-30T00:00:00",
          "2021-08-31T00:00:00",
          "2021-09-01T00:00:00",
          "2021-09-02T00:00:00",
          "2021-09-03T00:00:00",
          "2021-09-06T00:00:00",
          "2021-09-07T00:00:00",
          "2021-09-08T00:00:00",
          "2021-09-09T00:00:00",
          "2021-09-10T00:00:00",
          "2021-09-13T00:00:00",
          "2021-09-14T00:00:00",
          "2021-09-15T00:00:00",
          "2021-09-16T00:00:00",
          "2021-09-17T00:00:00",
          "2021-09-20T00:00:00",
          "2021-09-21T00:00:00",
          "2021-09-22T00:00:00",
          "2021-09-23T00:00:00",
          "2021-09-24T00:00:00",
          "2021-09-27T00:00:00",
          "2021-09-28T00:00:00",
          "2021-09-29T00:00:00",
          "2021-09-30T00:00:00",
          "2021-10-01T00:00:00",
          "2021-10-04T00:00:00",
          "2021-10-05T00:00:00",
          "2021-10-06T00:00:00",
          "2021-10-07T00:00:00",
          "2021-10-08T00:00:00",
          "2021-10-11T00:00:00",
          "2021-10-12T00:00:00",
          "2021-10-13T00:00:00",
          "2021-10-14T00:00:00",
          "2021-10-15T00:00:00",
          "2021-10-18T00:00:00",
          "2021-10-21T00:00:00",
          "2021-10-22T00:00:00",
          "2021-10-25T00:00:00",
          "2021-10-26T00:00:00",
          "2021-10-27T00:00:00",
          "2021-10-28T00:00:00",
          "2021-10-29T00:00:00",
          "2021-11-01T00:00:00",
          "2021-11-02T00:00:00",
          "2021-11-03T00:00:00",
          "2021-11-04T00:00:00",
          "2021-11-05T00:00:00",
          "2021-11-08T00:00:00",
          "2021-11-09T00:00:00",
          "2021-11-10T00:00:00",
          "2021-11-11T00:00:00",
          "2021-11-12T00:00:00",
          "2021-11-15T00:00:00",
          "2021-11-16T00:00:00",
          "2021-11-17T00:00:00",
          "2021-11-19T00:00:00",
          "2021-11-22T00:00:00",
          "2021-11-23T00:00:00",
          "2021-11-24T00:00:00",
          "2021-11-25T00:00:00",
          "2021-11-26T00:00:00",
          "2021-11-29T00:00:00",
          "2021-11-30T00:00:00",
          "2021-12-01T00:00:00",
          "2021-12-02T00:00:00",
          "2021-12-03T00:00:00",
          "2021-12-06T00:00:00",
          "2021-12-07T00:00:00",
          "2021-12-08T00:00:00",
          "2021-12-09T00:00:00",
          "2021-12-10T00:00:00",
          "2021-12-13T00:00:00",
          "2021-12-14T00:00:00",
          "2021-12-15T00:00:00",
          "2021-12-16T00:00:00",
          "2021-12-17T00:00:00",
          "2021-12-20T00:00:00",
          "2021-12-21T00:00:00",
          "2021-12-22T00:00:00",
          "2021-12-23T00:00:00",
          "2021-12-24T00:00:00",
          "2021-12-27T00:00:00",
          "2021-12-28T00:00:00",
          "2021-12-29T00:00:00",
          "2021-12-30T00:00:00",
          "2021-12-31T00:00:00",
          "2022-01-03T00:00:00",
          "2022-01-04T00:00:00",
          "2022-01-05T00:00:00",
          "2022-01-06T00:00:00",
          "2022-01-07T00:00:00",
          "2022-01-10T00:00:00",
          "2022-01-12T00:00:00",
          "2022-01-13T00:00:00",
          "2022-01-14T00:00:00",
          "2022-01-17T00:00:00",
          "2022-01-18T00:00:00",
          "2022-01-19T00:00:00",
          "2022-01-20T00:00:00",
          "2022-01-21T00:00:00",
          "2022-01-24T00:00:00",
          "2022-01-25T00:00:00",
          "2022-01-26T00:00:00",
          "2022-01-27T00:00:00",
          "2022-01-28T00:00:00",
          "2022-01-31T00:00:00",
          "2022-02-01T00:00:00",
          "2022-02-02T00:00:00",
          "2022-02-03T00:00:00",
          "2022-02-04T00:00:00"
         ],
         "y": [
          0,
          -0.0010503453950776453,
          0.0048793328360277055,
          0.007274787709892205,
          0.009644872908285418,
          0.00914634665254388,
          0.010904163245470055,
          0.011757148440531884,
          0.006770081724891908,
          0.002849712246583369,
          0.003277751348811364,
          0.005023738772919506,
          -0.00042466523096551523,
          -0.007073900140438738,
          -0.0005895151272300447,
          -0.0021344666406323265,
          -0.0004758916950787784,
          0.0018372422022630008,
          -0.00402285850152162,
          0.001409685467818056,
          0.004275410429328552,
          0.006425064298311911,
          0.005361277662434993,
          0.00006339728502657849,
          0.002225207195464929,
          0.0018739273555741232,
          -0.0017642867324616507,
          -0.0001313010866630382,
          0.005167181557218736,
          0.0014421340108412561,
          -0.004135776655273982,
          -0.008583385241642483,
          -0.016090036710778466,
          -0.01694290996380199,
          -0.015554664325299838,
          -0.015864045405037275,
          -0.020784255807154928,
          -0.021083593316191807,
          -0.022950043771787443,
          -0.025827329631507134,
          -0.025346744472591665,
          -0.026622599499186328,
          -0.029882525235210178,
          -0.02406532029001507,
          -0.02733956144926719,
          -0.029701451327210915,
          -0.026367096787509703,
          -0.024367050405903257,
          -0.023538735195211546,
          -0.015758416214872062,
          -0.014997032769486718,
          -0.017330462034012895,
          -0.016912093039474496,
          -0.012150634148522022,
          -0.008694898039085741,
          -0.01040904898572681,
          -0.003878451904182012,
          -0.0016567559255524777,
          0.003553944398623221,
          0.0017601695585824917,
          0.008722423759717657,
          0.008598546211901592,
          0.008189021912137218,
          0.009025134269577961,
          0.012704079874445329,
          0.013369401726269992,
          0.010418935385861694,
          0.010993155735899762,
          0.011094987765526865,
          0.013003643206809246,
          0.01277452618904551,
          0.010067281333687061,
          0.016232042838276728,
          0.013752654167979994,
          0.01026553197379032,
          0.020107180377492817,
          0.023838283054492315,
          0.014778778818418825,
          0.007934986914907238,
          0.01179285839489208,
          0.0218361883833742,
          0.031256163385848135,
          0.03957404069271542,
          0.04521981661356045,
          0.04918234128176291,
          0.052753334249977524,
          0.050651095397535206,
          0.04644837879917896,
          0.04840531511318269,
          0.04983378782960379,
          0.0441301309096267,
          0.04484549637535307,
          0.04653493389161767,
          0.050541487634214954,
          0.05130163166550261,
          0.047254008057299624,
          0.04698437835366254,
          0.04462898530210113,
          0.046789552134340884,
          0.039904934712131857,
          0.03896017226293824,
          0.03654397946886734,
          0.04517430098302522,
          0.040708203285817035,
          0.03259858227858303,
          0.045156757358438826,
          0.04347508820734647,
          0.048558583415339696,
          0.04275038930548947,
          0.037798393332582725,
          0.034955930140642355,
          0.03484470843457643,
          0.03444775326041083,
          0.033523822173610274,
          0.03334099699841975,
          0.03942171162534769,
          0.03027547035592404,
          0.031232588607631673,
          0.030178385751340686,
          0.03137863773624039,
          0.031008424506315357,
          0.021130253213289096,
          0.02466977267437409,
          0.022522701065289086,
          0.026120248839380134,
          0.022810813447554423,
          0.019378524843262523,
          0.016225663910512722,
          0.019086198678524458,
          0.018481094769693174,
          0.021513777969849768,
          0.02451124862646048,
          0.02411839904026114,
          0.034830712707781375,
          0.035083675912782164,
          0.032390055949377494,
          0.032242000632320966,
          0.03711942243633426,
          0.0394934686263928,
          0.03542840458381735,
          0.03716234916624983,
          0.03594781538353664,
          0.0413894217686086,
          0.03679011599679227,
          0.035123629677096035,
          0.035477696335515674,
          0.043309784730937606,
          0.04594010285885286,
          0.04337711462609328,
          0.041706016836509985,
          0.04170945684482086,
          0.042211221335731075,
          0.05444406499178944,
          0.04873178914881349,
          0.0520125748625464,
          0.0536787027366874,
          0.05842911802583206,
          0.06109468850414812,
          0.06164423398266661,
          0.055269935616882426,
          0.05835465525083716,
          0.05800082891876279,
          0.05803496148558751,
          0.06053486321107093,
          0.05965396555277058,
          0.05940927891970338,
          0.06444630373187588,
          0.07180895838689971,
          0.0724130410072501,
          0.07131697798649461,
          0.07766292325628177,
          0.09610204935967892,
          0.10879140123840125,
          0.11306004951357651,
          0.11916058396761353,
          0.1262960112374487,
          0.13455305825702335,
          0.14801820887112216,
          0.14161273109420436,
          0.14369941949964993,
          0.15828144596931426,
          0.1556274742054291,
          0.14266358798711898,
          0.1448043917998294,
          0.1403909794629632,
          0.14352574474654256,
          0.14043869943017184,
          0.14682841408146818,
          0.13820630279754353,
          0.12782118831949396,
          0.12310330503301348,
          0.12478509445274044,
          0.1213134589858762,
          0.12418931327250116,
          0.12028647210774746,
          0.122556249405956,
          0.11847731035456621,
          0.12211717621562035,
          0.1238979523952235,
          0.12045450908844635,
          0.1028687802690309,
          0.12529633145282149,
          0.12391678291821129,
          0.12071291191032674,
          0.1240968656826893,
          0.1273866135993036,
          0.12698815056867563,
          0.12603964536991108,
          0.12682810841116643,
          0.12569971618976838,
          0.12483151131093906,
          0.11899857360428645,
          0.12010223508176998,
          0.12630550055833245,
          0.1414214622959855,
          0.13844139864878713,
          0.1377666448619792,
          0.13734404788997456,
          0.13748748004973899,
          0.1528264863386617,
          0.14950012291653292,
          0.1602541891856777,
          0.16804006174530173,
          0.17697799051580465,
          0.17771680839185677,
          0.17453835296034725,
          0.17379034996154052,
          0.17263960609127382,
          0.1707252199978455,
          0.1720172102451476,
          0.17129551550652944,
          0.17925465650288075,
          0.18425147480030546,
          0.20139987954383587,
          0.20984329690346115,
          0.21382881545467392,
          0.2183884519783572,
          0.22056036567091764,
          0.2278511541657724,
          0.22249825619200836,
          0.21639150528725581,
          0.21404407129253777,
          0.2172485759210514,
          0.22110453644149097,
          0.22046440494662845,
          0.22186659749697957,
          0.21458180015040185,
          0.21462958321386982,
          0.21723940429348176
         ]
        },
        {
         "line": {
          "color": "orange"
         },
         "mode": "lines",
         "name": "KMeans (DTW) Portfolio",
         "type": "scatter",
         "x": [
          "2021-02-08T00:00:00",
          "2021-02-09T00:00:00",
          "2021-02-10T00:00:00",
          "2021-02-11T00:00:00",
          "2021-02-12T00:00:00",
          "2021-02-15T00:00:00",
          "2021-02-16T00:00:00",
          "2021-02-17T00:00:00",
          "2021-02-18T00:00:00",
          "2021-02-19T00:00:00",
          "2021-02-22T00:00:00",
          "2021-02-23T00:00:00",
          "2021-02-24T00:00:00",
          "2021-02-25T00:00:00",
          "2021-02-26T00:00:00",
          "2021-03-01T00:00:00",
          "2021-03-02T00:00:00",
          "2021-03-03T00:00:00",
          "2021-03-04T00:00:00",
          "2021-03-05T00:00:00",
          "2021-03-08T00:00:00",
          "2021-03-09T00:00:00",
          "2021-03-10T00:00:00",
          "2021-03-11T00:00:00",
          "2021-03-12T00:00:00",
          "2021-03-15T00:00:00",
          "2021-03-16T00:00:00",
          "2021-03-17T00:00:00",
          "2021-03-18T00:00:00",
          "2021-03-19T00:00:00",
          "2021-03-22T00:00:00",
          "2021-03-23T00:00:00",
          "2021-03-24T00:00:00",
          "2021-03-25T00:00:00",
          "2021-03-26T00:00:00",
          "2021-03-29T00:00:00",
          "2021-03-30T00:00:00",
          "2021-03-31T00:00:00",
          "2021-04-01T00:00:00",
          "2021-04-02T00:00:00",
          "2021-04-05T00:00:00",
          "2021-04-06T00:00:00",
          "2021-04-07T00:00:00",
          "2021-04-08T00:00:00",
          "2021-04-09T00:00:00",
          "2021-04-12T00:00:00",
          "2021-04-13T00:00:00",
          "2021-04-14T00:00:00",
          "2021-04-15T00:00:00",
          "2021-04-16T00:00:00",
          "2021-04-19T00:00:00",
          "2021-04-20T00:00:00",
          "2021-04-21T00:00:00",
          "2021-04-22T00:00:00",
          "2021-04-23T00:00:00",
          "2021-04-26T00:00:00",
          "2021-04-27T00:00:00",
          "2021-04-28T00:00:00",
          "2021-04-29T00:00:00",
          "2021-04-30T00:00:00",
          "2021-05-03T00:00:00",
          "2021-05-04T00:00:00",
          "2021-05-05T00:00:00",
          "2021-05-06T00:00:00",
          "2021-05-07T00:00:00",
          "2021-05-10T00:00:00",
          "2021-05-11T00:00:00",
          "2021-05-12T00:00:00",
          "2021-05-17T00:00:00",
          "2021-05-18T00:00:00",
          "2021-05-19T00:00:00",
          "2021-05-20T00:00:00",
          "2021-05-21T00:00:00",
          "2021-05-24T00:00:00",
          "2021-05-25T00:00:00",
          "2021-05-26T00:00:00",
          "2021-05-27T00:00:00",
          "2021-05-28T00:00:00",
          "2021-05-31T00:00:00",
          "2021-06-01T00:00:00",
          "2021-06-02T00:00:00",
          "2021-06-03T00:00:00",
          "2021-06-04T00:00:00",
          "2021-06-07T00:00:00",
          "2021-06-08T00:00:00",
          "2021-06-09T00:00:00",
          "2021-06-10T00:00:00",
          "2021-06-11T00:00:00",
          "2021-06-14T00:00:00",
          "2021-06-15T00:00:00",
          "2021-06-16T00:00:00",
          "2021-06-17T00:00:00",
          "2021-06-18T00:00:00",
          "2021-06-21T00:00:00",
          "2021-06-22T00:00:00",
          "2021-06-23T00:00:00",
          "2021-06-24T00:00:00",
          "2021-06-25T00:00:00",
          "2021-06-28T00:00:00",
          "2021-06-29T00:00:00",
          "2021-06-30T00:00:00",
          "2021-07-01T00:00:00",
          "2021-07-02T00:00:00",
          "2021-07-05T00:00:00",
          "2021-07-06T00:00:00",
          "2021-07-07T00:00:00",
          "2021-07-08T00:00:00",
          "2021-07-09T00:00:00",
          "2021-07-12T00:00:00",
          "2021-07-13T00:00:00",
          "2021-07-14T00:00:00",
          "2021-07-15T00:00:00",
          "2021-07-16T00:00:00",
          "2021-07-19T00:00:00",
          "2021-07-20T00:00:00",
          "2021-07-23T00:00:00",
          "2021-07-26T00:00:00",
          "2021-07-27T00:00:00",
          "2021-07-28T00:00:00",
          "2021-07-29T00:00:00",
          "2021-08-02T00:00:00",
          "2021-08-03T00:00:00",
          "2021-08-04T00:00:00",
          "2021-08-05T00:00:00",
          "2021-08-06T00:00:00",
          "2021-08-09T00:00:00",
          "2021-08-11T00:00:00",
          "2021-08-12T00:00:00",
          "2021-08-13T00:00:00",
          "2021-08-16T00:00:00",
          "2021-08-17T00:00:00",
          "2021-08-18T00:00:00",
          "2021-08-19T00:00:00",
          "2021-08-23T00:00:00",
          "2021-08-24T00:00:00",
          "2021-08-25T00:00:00",
          "2021-08-26T00:00:00",
          "2021-08-27T00:00:00",
          "2021-08-30T00:00:00",
          "2021-08-31T00:00:00",
          "2021-09-01T00:00:00",
          "2021-09-02T00:00:00",
          "2021-09-03T00:00:00",
          "2021-09-06T00:00:00",
          "2021-09-07T00:00:00",
          "2021-09-08T00:00:00",
          "2021-09-09T00:00:00",
          "2021-09-10T00:00:00",
          "2021-09-13T00:00:00",
          "2021-09-14T00:00:00",
          "2021-09-15T00:00:00",
          "2021-09-16T00:00:00",
          "2021-09-17T00:00:00",
          "2021-09-20T00:00:00",
          "2021-09-21T00:00:00",
          "2021-09-22T00:00:00",
          "2021-09-23T00:00:00",
          "2021-09-24T00:00:00",
          "2021-09-27T00:00:00",
          "2021-09-28T00:00:00",
          "2021-09-29T00:00:00",
          "2021-09-30T00:00:00",
          "2021-10-01T00:00:00",
          "2021-10-04T00:00:00",
          "2021-10-05T00:00:00",
          "2021-10-06T00:00:00",
          "2021-10-07T00:00:00",
          "2021-10-08T00:00:00",
          "2021-10-11T00:00:00",
          "2021-10-12T00:00:00",
          "2021-10-13T00:00:00",
          "2021-10-14T00:00:00",
          "2021-10-15T00:00:00",
          "2021-10-18T00:00:00",
          "2021-10-21T00:00:00",
          "2021-10-22T00:00:00",
          "2021-10-25T00:00:00",
          "2021-10-26T00:00:00",
          "2021-10-27T00:00:00",
          "2021-10-28T00:00:00",
          "2021-10-29T00:00:00",
          "2021-11-01T00:00:00",
          "2021-11-02T00:00:00",
          "2021-11-03T00:00:00",
          "2021-11-04T00:00:00",
          "2021-11-05T00:00:00",
          "2021-11-08T00:00:00",
          "2021-11-09T00:00:00",
          "2021-11-10T00:00:00",
          "2021-11-11T00:00:00",
          "2021-11-12T00:00:00",
          "2021-11-15T00:00:00",
          "2021-11-16T00:00:00",
          "2021-11-17T00:00:00",
          "2021-11-19T00:00:00",
          "2021-11-22T00:00:00",
          "2021-11-23T00:00:00",
          "2021-11-24T00:00:00",
          "2021-11-25T00:00:00",
          "2021-11-26T00:00:00",
          "2021-11-29T00:00:00",
          "2021-11-30T00:00:00",
          "2021-12-01T00:00:00",
          "2021-12-02T00:00:00",
          "2021-12-03T00:00:00",
          "2021-12-06T00:00:00",
          "2021-12-07T00:00:00",
          "2021-12-08T00:00:00",
          "2021-12-09T00:00:00",
          "2021-12-10T00:00:00",
          "2021-12-13T00:00:00",
          "2021-12-14T00:00:00",
          "2021-12-15T00:00:00",
          "2021-12-16T00:00:00",
          "2021-12-17T00:00:00",
          "2021-12-20T00:00:00",
          "2021-12-21T00:00:00",
          "2021-12-22T00:00:00",
          "2021-12-23T00:00:00",
          "2021-12-24T00:00:00",
          "2021-12-27T00:00:00",
          "2021-12-28T00:00:00",
          "2021-12-29T00:00:00",
          "2021-12-30T00:00:00",
          "2021-12-31T00:00:00",
          "2022-01-03T00:00:00",
          "2022-01-04T00:00:00",
          "2022-01-05T00:00:00",
          "2022-01-06T00:00:00",
          "2022-01-07T00:00:00",
          "2022-01-10T00:00:00",
          "2022-01-12T00:00:00",
          "2022-01-13T00:00:00",
          "2022-01-14T00:00:00",
          "2022-01-17T00:00:00",
          "2022-01-18T00:00:00",
          "2022-01-19T00:00:00",
          "2022-01-20T00:00:00",
          "2022-01-21T00:00:00",
          "2022-01-24T00:00:00",
          "2022-01-25T00:00:00",
          "2022-01-26T00:00:00",
          "2022-01-27T00:00:00",
          "2022-01-28T00:00:00",
          "2022-01-31T00:00:00",
          "2022-02-01T00:00:00",
          "2022-02-02T00:00:00",
          "2022-02-03T00:00:00",
          "2022-02-04T00:00:00"
         ],
         "y": [
          0,
          0.0007275198016014617,
          -0.007630996746471719,
          -0.0000016883414778456896,
          0.0005651028155222448,
          -0.0005772621354434015,
          0.001877127355653485,
          0.0009962420551523632,
          -0.0018401706578308197,
          -0.002541910709363937,
          -0.01014752683212683,
          -0.01726925153078529,
          -0.024902156859619273,
          -0.02701351015243081,
          -0.01764498269067183,
          -0.012752534425806594,
          -0.009717822370472695,
          -0.013145626627349638,
          -0.01604877456226006,
          -0.018405464314091735,
          -0.014271935247166634,
          -0.01621946210917602,
          -0.014782797755249377,
          -0.015412754831040543,
          -0.012396744038626895,
          -0.014903241301865489,
          -0.013009579552086592,
          -0.011595843778356096,
          -0.013892052871507521,
          -0.021689209200094428,
          -0.02080497740298448,
          -0.021989017977187997,
          -0.02605912005859201,
          -0.030299723820115254,
          -0.0345229598115796,
          -0.029020918960991238,
          -0.026703495003501776,
          -0.024891149718043737,
          -0.01455673900119836,
          -0.008993477720134369,
          -0.012176283246984054,
          -0.013276836648888901,
          -0.01649395778273388,
          -0.012910650095438903,
          -0.01000899803422084,
          -0.01395353652935738,
          -0.012285202084934999,
          -0.010151246471111763,
          -0.009358397581210043,
          -0.009601747189441623,
          -0.008367899702422021,
          -0.00611062312154298,
          -0.003880192568961105,
          -0.0020071772261248677,
          -0.0035448208164237105,
          0.0032226249465669987,
          0.0074100754215868925,
          0.014545365967349566,
          0.019038242501010494,
          0.017314915655486596,
          0.02587054873611727,
          0.03482324037129714,
          0.041473640676452206,
          0.05391378376795797,
          0.055796687622387875,
          0.06012599071909697,
          0.060022222639817935,
          0.05933543838004263,
          0.06448059729773603,
          0.07042176952878343,
          0.07017047139446975,
          0.07135137787419232,
          0.07662643689970405,
          0.07230202255761631,
          0.06831394183446893,
          0.0701347131308725,
          0.06377619947096025,
          0.06843553511729161,
          0.0728254402015136,
          0.0862731500060907,
          0.07937484337597711,
          0.087772475047319,
          0.08386733933184676,
          0.08850459934447441,
          0.09159252260322082,
          0.0940639407532966,
          0.09718548693583928,
          0.1131408096603117,
          0.12489817471870923,
          0.13520339613216792,
          0.12631931010735564,
          0.13283688207706068,
          0.12482358324316523,
          0.14956637015641228,
          0.15699567454954333,
          0.1555836762636078,
          0.16256265710762619,
          0.15935637725049223,
          0.16171578323178037,
          0.1547199774397987,
          0.15291884980305492,
          0.1502477083900129,
          0.15291817556418552,
          0.13749802280132095,
          0.12107952518881304,
          0.13781700325223611,
          0.1500279177767585,
          0.15312985962846226,
          0.16209915888622572,
          0.16708145596129098,
          0.16812827034629185,
          0.17389340823220456,
          0.1760818867677254,
          0.1765665667596783,
          0.17571969230038054,
          0.17591148392765787,
          0.17456721272905784,
          0.17509213145100855,
          0.17591554256334585,
          0.18046549989880356,
          0.18558864605694958,
          0.19266195918608808,
          0.1944248400219164,
          0.19811067608514032,
          0.19755750888870338,
          0.2026378412065324,
          0.20462372323105038,
          0.1938122610060815,
          0.19550128881559514,
          0.1949156834210115,
          0.19738993226555057,
          0.20366871013560428,
          0.2054166795430239,
          0.20611556188879443,
          0.20818402242117595,
          0.20485821901448942,
          0.21327203206343248,
          0.21187805563423723,
          0.22200220785445235,
          0.21434146804061083,
          0.21197305277278256,
          0.20917994729804779,
          0.21424767601186834,
          0.2121921308389425,
          0.2084802975439095,
          0.20576778953521946,
          0.21453291225989912,
          0.21603926541772767,
          0.2227986812422944,
          0.22411832680448307,
          0.2270603513977687,
          0.23203532573954644,
          0.22168894095329517,
          0.2165386675824459,
          0.2089311083732599,
          0.21437799041256222,
          0.21141297531584602,
          0.21319664253856474,
          0.21454834627012498,
          0.2226658681523257,
          0.2304427595709293,
          0.2200372866525695,
          0.21693420972113153,
          0.21811434601610857,
          0.23168202280834427,
          0.24614452053630376,
          0.2566217824728445,
          0.26373815356508534,
          0.26812363193869193,
          0.2783643504002822,
          0.2942189394305448,
          0.30160653980228624,
          0.31060809378865084,
          0.3180863054061036,
          0.33633929952249386,
          0.35071155945373866,
          0.35858291591329805,
          0.3775580437419943,
          0.39138195083835114,
          0.4081403555864187,
          0.40560620710763406,
          0.4131484599507207,
          0.41859914760694483,
          0.43643660195711664,
          0.4446127572843106,
          0.4301054083271041,
          0.4238768990215349,
          0.42076548564053473,
          0.39883064511619737,
          0.39464055203560866,
          0.37626773272769265,
          0.3667127442235405,
          0.37636919667310065,
          0.3623991846914161,
          0.37216422738658905,
          0.38984886777307115,
          0.38812447655746474,
          0.3843648769787664,
          0.3831022694308506,
          0.37969135488910677,
          0.3613655192840959,
          0.3579694328158456,
          0.35423766000580126,
          0.35363613537645344,
          0.3669904152585448,
          0.36179863850079674,
          0.3636721399709357,
          0.3537277891950419,
          0.3560828451305986,
          0.36341856230495484,
          0.35846474584268395,
          0.351004890577578,
          0.3529803739582793,
          0.34902935036815985,
          0.3411066046634015,
          0.33229173937070366,
          0.32934397301913854,
          0.3348770361493678,
          0.3256967431785909,
          0.3284923403671023,
          0.33346357200981624,
          0.3385990004662247,
          0.3443725032407703,
          0.3314980723513523,
          0.3497648300196623,
          0.3568885108336015,
          0.3583183342665004,
          0.3670702601193496,
          0.3709461338452753,
          0.38198234090028915,
          0.38070635184750024,
          0.39463582417222187,
          0.39815615544315297,
          0.4070421592777069,
          0.4062170234709148,
          0.41736778431434396,
          0.4363142570436609,
          0.4432069359775217,
          0.4462630781838599,
          0.4402501222684787,
          0.43420457846301996,
          0.4350218169159741,
          0.4445487134597521,
          0.4472895579640579,
          0.45325817071046104,
          0.455009535927994,
          0.447209285891516,
          0.44956423735350537,
          0.45003931137061115
         ]
        },
        {
         "line": {
          "color": "purple"
         },
         "mode": "lines",
         "name": "Mean-Variance Optimized Portfolio",
         "type": "scatter",
         "x": [
          "2021-02-08T00:00:00",
          "2021-02-09T00:00:00",
          "2021-02-10T00:00:00",
          "2021-02-11T00:00:00",
          "2021-02-12T00:00:00",
          "2021-02-15T00:00:00",
          "2021-02-16T00:00:00",
          "2021-02-17T00:00:00",
          "2021-02-18T00:00:00",
          "2021-02-19T00:00:00",
          "2021-02-22T00:00:00",
          "2021-02-23T00:00:00",
          "2021-02-24T00:00:00",
          "2021-02-25T00:00:00",
          "2021-02-26T00:00:00",
          "2021-03-01T00:00:00",
          "2021-03-02T00:00:00",
          "2021-03-03T00:00:00",
          "2021-03-04T00:00:00",
          "2021-03-05T00:00:00",
          "2021-03-08T00:00:00",
          "2021-03-09T00:00:00",
          "2021-03-10T00:00:00",
          "2021-03-11T00:00:00",
          "2021-03-12T00:00:00",
          "2021-03-15T00:00:00",
          "2021-03-16T00:00:00",
          "2021-03-17T00:00:00",
          "2021-03-18T00:00:00",
          "2021-03-19T00:00:00",
          "2021-03-22T00:00:00",
          "2021-03-23T00:00:00",
          "2021-03-24T00:00:00",
          "2021-03-25T00:00:00",
          "2021-03-26T00:00:00",
          "2021-03-29T00:00:00",
          "2021-03-30T00:00:00",
          "2021-03-31T00:00:00",
          "2021-04-01T00:00:00",
          "2021-04-02T00:00:00",
          "2021-04-05T00:00:00",
          "2021-04-06T00:00:00",
          "2021-04-07T00:00:00",
          "2021-04-08T00:00:00",
          "2021-04-09T00:00:00",
          "2021-04-12T00:00:00",
          "2021-04-13T00:00:00",
          "2021-04-14T00:00:00",
          "2021-04-15T00:00:00",
          "2021-04-16T00:00:00",
          "2021-04-19T00:00:00",
          "2021-04-20T00:00:00",
          "2021-04-21T00:00:00",
          "2021-04-22T00:00:00",
          "2021-04-23T00:00:00",
          "2021-04-26T00:00:00",
          "2021-04-27T00:00:00",
          "2021-04-28T00:00:00",
          "2021-04-29T00:00:00",
          "2021-04-30T00:00:00",
          "2021-05-03T00:00:00",
          "2021-05-04T00:00:00",
          "2021-05-05T00:00:00",
          "2021-05-06T00:00:00",
          "2021-05-07T00:00:00",
          "2021-05-10T00:00:00",
          "2021-05-11T00:00:00",
          "2021-05-12T00:00:00",
          "2021-05-17T00:00:00",
          "2021-05-18T00:00:00",
          "2021-05-19T00:00:00",
          "2021-05-20T00:00:00",
          "2021-05-21T00:00:00",
          "2021-05-24T00:00:00",
          "2021-05-25T00:00:00",
          "2021-05-26T00:00:00",
          "2021-05-27T00:00:00",
          "2021-05-28T00:00:00",
          "2021-05-31T00:00:00",
          "2021-06-01T00:00:00",
          "2021-06-02T00:00:00",
          "2021-06-03T00:00:00",
          "2021-06-04T00:00:00",
          "2021-06-07T00:00:00",
          "2021-06-08T00:00:00",
          "2021-06-09T00:00:00",
          "2021-06-10T00:00:00",
          "2021-06-11T00:00:00",
          "2021-06-14T00:00:00",
          "2021-06-15T00:00:00",
          "2021-06-16T00:00:00",
          "2021-06-17T00:00:00",
          "2021-06-18T00:00:00",
          "2021-06-21T00:00:00",
          "2021-06-22T00:00:00",
          "2021-06-23T00:00:00",
          "2021-06-24T00:00:00",
          "2021-06-25T00:00:00",
          "2021-06-28T00:00:00",
          "2021-06-29T00:00:00",
          "2021-06-30T00:00:00",
          "2021-07-01T00:00:00",
          "2021-07-02T00:00:00",
          "2021-07-05T00:00:00",
          "2021-07-06T00:00:00",
          "2021-07-07T00:00:00",
          "2021-07-08T00:00:00",
          "2021-07-09T00:00:00",
          "2021-07-12T00:00:00",
          "2021-07-13T00:00:00",
          "2021-07-14T00:00:00",
          "2021-07-15T00:00:00",
          "2021-07-16T00:00:00",
          "2021-07-19T00:00:00",
          "2021-07-20T00:00:00",
          "2021-07-23T00:00:00",
          "2021-07-26T00:00:00",
          "2021-07-27T00:00:00",
          "2021-07-28T00:00:00",
          "2021-07-29T00:00:00",
          "2021-08-02T00:00:00",
          "2021-08-03T00:00:00",
          "2021-08-04T00:00:00",
          "2021-08-05T00:00:00",
          "2021-08-06T00:00:00",
          "2021-08-09T00:00:00",
          "2021-08-11T00:00:00",
          "2021-08-12T00:00:00",
          "2021-08-13T00:00:00",
          "2021-08-16T00:00:00",
          "2021-08-17T00:00:00",
          "2021-08-18T00:00:00",
          "2021-08-19T00:00:00",
          "2021-08-23T00:00:00",
          "2021-08-24T00:00:00",
          "2021-08-25T00:00:00",
          "2021-08-26T00:00:00",
          "2021-08-27T00:00:00",
          "2021-08-30T00:00:00",
          "2021-08-31T00:00:00",
          "2021-09-01T00:00:00",
          "2021-09-02T00:00:00",
          "2021-09-03T00:00:00",
          "2021-09-06T00:00:00",
          "2021-09-07T00:00:00",
          "2021-09-08T00:00:00",
          "2021-09-09T00:00:00",
          "2021-09-10T00:00:00",
          "2021-09-13T00:00:00",
          "2021-09-14T00:00:00",
          "2021-09-15T00:00:00",
          "2021-09-16T00:00:00",
          "2021-09-17T00:00:00",
          "2021-09-20T00:00:00",
          "2021-09-21T00:00:00",
          "2021-09-22T00:00:00",
          "2021-09-23T00:00:00",
          "2021-09-24T00:00:00",
          "2021-09-27T00:00:00",
          "2021-09-28T00:00:00",
          "2021-09-29T00:00:00",
          "2021-09-30T00:00:00",
          "2021-10-01T00:00:00",
          "2021-10-04T00:00:00",
          "2021-10-05T00:00:00",
          "2021-10-06T00:00:00",
          "2021-10-07T00:00:00",
          "2021-10-08T00:00:00",
          "2021-10-11T00:00:00",
          "2021-10-12T00:00:00",
          "2021-10-13T00:00:00",
          "2021-10-14T00:00:00",
          "2021-10-15T00:00:00",
          "2021-10-18T00:00:00",
          "2021-10-21T00:00:00",
          "2021-10-22T00:00:00",
          "2021-10-25T00:00:00",
          "2021-10-26T00:00:00",
          "2021-10-27T00:00:00",
          "2021-10-28T00:00:00",
          "2021-10-29T00:00:00",
          "2021-11-01T00:00:00",
          "2021-11-02T00:00:00",
          "2021-11-03T00:00:00",
          "2021-11-04T00:00:00",
          "2021-11-05T00:00:00",
          "2021-11-08T00:00:00",
          "2021-11-09T00:00:00",
          "2021-11-10T00:00:00",
          "2021-11-11T00:00:00",
          "2021-11-12T00:00:00",
          "2021-11-15T00:00:00",
          "2021-11-16T00:00:00",
          "2021-11-17T00:00:00",
          "2021-11-19T00:00:00",
          "2021-11-22T00:00:00",
          "2021-11-23T00:00:00",
          "2021-11-24T00:00:00",
          "2021-11-25T00:00:00",
          "2021-11-26T00:00:00",
          "2021-11-29T00:00:00",
          "2021-11-30T00:00:00",
          "2021-12-01T00:00:00",
          "2021-12-02T00:00:00",
          "2021-12-03T00:00:00",
          "2021-12-06T00:00:00",
          "2021-12-07T00:00:00",
          "2021-12-08T00:00:00",
          "2021-12-09T00:00:00",
          "2021-12-10T00:00:00",
          "2021-12-13T00:00:00",
          "2021-12-14T00:00:00",
          "2021-12-15T00:00:00",
          "2021-12-16T00:00:00",
          "2021-12-17T00:00:00",
          "2021-12-20T00:00:00",
          "2021-12-21T00:00:00",
          "2021-12-22T00:00:00",
          "2021-12-23T00:00:00",
          "2021-12-24T00:00:00",
          "2021-12-27T00:00:00",
          "2021-12-28T00:00:00",
          "2021-12-29T00:00:00",
          "2021-12-30T00:00:00",
          "2021-12-31T00:00:00",
          "2022-01-03T00:00:00",
          "2022-01-04T00:00:00",
          "2022-01-05T00:00:00",
          "2022-01-06T00:00:00",
          "2022-01-07T00:00:00",
          "2022-01-10T00:00:00",
          "2022-01-12T00:00:00",
          "2022-01-13T00:00:00",
          "2022-01-14T00:00:00",
          "2022-01-17T00:00:00",
          "2022-01-18T00:00:00",
          "2022-01-19T00:00:00",
          "2022-01-20T00:00:00",
          "2022-01-21T00:00:00",
          "2022-01-24T00:00:00",
          "2022-01-25T00:00:00",
          "2022-01-26T00:00:00",
          "2022-01-27T00:00:00",
          "2022-01-28T00:00:00",
          "2022-01-31T00:00:00",
          "2022-02-01T00:00:00",
          "2022-02-02T00:00:00",
          "2022-02-03T00:00:00",
          "2022-02-04T00:00:00"
         ],
         "y": [
          0,
          -0.00007465896094471791,
          -0.0002726597076705417,
          -0.000053091236216329385,
          -0.00019236475885531235,
          0.00008048003380678459,
          1.9160197206602447e-7,
          0.0002951730195133173,
          0.00042333298452845725,
          0.00021588104043801515,
          0.00006245338480725948,
          0.00014842145856275302,
          -0.0002759946549680814,
          -0.00015776739200323853,
          -0.00019845658238815123,
          -0.00026515787248626577,
          -0.00011485446985226577,
          0.00016618340818053134,
          0.00003341743884655024,
          0.0004883850514607602,
          0.0004347650273333059,
          0.0005371667752400722,
          0.0005028692004507285,
          0.0003943280853306863,
          0.0008622947615568588,
          0.0007149533204293679,
          0.00066621650408627,
          0.0008607728185363595,
          0.0012796793196399037,
          0.0011432987525372695,
          0.0009879624234165885,
          0.0011315093316153213,
          0.0014085235705063592,
          0.001058314890531431,
          0.0008955295764316862,
          0.001063560191722157,
          0.0010349983378874494,
          0.0013639769644515631,
          0.001359404952946841,
          0.0016674773925124953,
          0.001354998530973317,
          0.0014712434917805162,
          0.0016868761939141663,
          0.0016033695702337702,
          0.0020331439125793604,
          0.0017950023034909446,
          0.002459953257693437,
          0.002441932773969535,
          0.0024391035558120056,
          0.002669147974728059,
          0.0025970951817155807,
          0.0027018725543088706,
          0.002856324978953051,
          0.0029982306116391744,
          0.0030073761481670402,
          0.0032143652896765573,
          0.0038568461775945195,
          0.0042317213803855225,
          0.0043640904784227885,
          0.004503082105649314,
          0.004890550273042971,
          0.0050878952464079585,
          0.005158139367898107,
          0.005253783407271895,
          0.0054887089436834735,
          0.005451479954086791,
          0.005620651709204116,
          0.005282915502300867,
          0.005369262221455617,
          0.0057208205058356665,
          0.005749254665073922,
          0.005535344071243786,
          0.0058138661310995765,
          0.005542124961453787,
          0.005257652750973785,
          0.00516108203130794,
          0.004951559535769201,
          0.004987156464800746,
          0.005043041943189941,
          -0.11014361734110467,
          -0.10999001017000809,
          -0.1098486668161246,
          -0.10956515872510442,
          -0.1094409283696467,
          -0.10936602445074728,
          -0.10940118563704138,
          -0.10937152760200297,
          -0.10942836894472974,
          -0.1096805306906401,
          -0.10974827876415294,
          -0.11050307034011098,
          -0.11082818565956609,
          -0.11118085619333451,
          -0.11110591960495542,
          -0.1116728906670228,
          -0.11223855196586008,
          -0.11244652911471398,
          -0.11324050046484879,
          -0.11328937192560196,
          -0.11367577411593188,
          -0.11392277984399779,
          -0.11441247006903621,
          -0.11458643939132618,
          -0.11551915274582447,
          -0.11534190346355222,
          -0.11530464406996166,
          -0.11544674590427284,
          -0.11520533551367718,
          -0.11523218823503645,
          -0.11520314993390857,
          -0.11503963273363438,
          -0.11505682751399626,
          -0.11503381764381015,
          -0.11467296143689165,
          -0.1147489739440577,
          -0.11480699556559226,
          -0.11492232635707855,
          -0.11513608096310313,
          -0.11520195968801017,
          -0.11531922747430423,
          -0.11533135031709729,
          -0.11582579863890108,
          -0.11585163171390556,
          -0.11572413855476704,
          -0.16448112616334776,
          -0.16455722063608735,
          -0.1645363474198166,
          -0.16459438605139487,
          -0.16454749581748718,
          -0.1642365655430561,
          -0.1771129353845713,
          -0.16391681847229622,
          -0.1638602699838807,
          -0.16392923541045246,
          -0.16385056144008725,
          -0.14954109360542522,
          -0.13483420714553662,
          -0.12042164233990249,
          -0.12044740645379215,
          -0.12035052245315914,
          -0.12027141086354032,
          -0.12029666950631002,
          -0.11994701010287812,
          -0.120257920187546,
          -0.12026006973009284,
          -0.12004850597114014,
          -0.11935310330122173,
          -0.10442782225535707,
          -0.1045806203823576,
          -0.10461080695364111,
          -0.10448172159176239,
          -0.10448584272283001,
          -0.10425705061175039,
          -0.08890476357145916,
          -0.08873432359296862,
          -0.08822072336287012,
          -0.08815720841343055,
          -0.08818363032165422,
          -0.08830047513782135,
          -0.10259295312819361,
          -0.0891971937023146,
          -0.08949474032945248,
          -0.0892629590648234,
          -0.07398219369796644,
          -0.07361924683955612,
          -0.08924292196007289,
          -0.08839717657446389,
          -0.08817089758950081,
          -0.08791899872530295,
          -0.08865528316913751,
          -0.08870212325817495,
          -0.08835307623245148,
          -0.08802522193377671,
          -0.08728384645771337,
          -0.05660082999339444,
          -0.024445966607666514,
          -0.024527253070322996,
          -0.006714906232897722,
          -0.005648472655677583,
          0.02186825462820119,
          0.056843940684129235,
          0.057460433065297245,
          0.08830601995435039,
          0.08875073870095163,
          0.11089034089365502,
          0.11090283339055351,
          0.14863545194967065,
          0.18693645370503242,
          0.18689365625626508,
          0.1976190403292517,
          0.23597755519409902,
          0.2581007001159348,
          0.29262624069074206,
          0.29305416723747424,
          0.3281482864683696,
          0.32841884512966346,
          0.327596206795558,
          0.3273780636530865,
          0.3525767222537035,
          0.35224927118423466,
          0.3053875295009725,
          0.30551268697614264,
          0.305688216619449,
          0.2621252865190684,
          0.21954475743998136,
          0.17802690019137724,
          0.1642011966670065,
          0.16426755275175697,
          0.12525872074677236,
          0.12548164647158289,
          0.1297550287633369,
          0.12948344150532076,
          0.12961655288856422,
          0.12967405949825284,
          0.11277346651410469,
          0.11245097070377952,
          0.11245303693154529,
          0.11305936668732142,
          0.12145646193939497,
          0.12132427997548212,
          0.12995290009899296,
          0.13025299495264653,
          0.13101103476427123,
          0.1311100851436784,
          0.1320889114177557,
          0.13193618215347946,
          0.13200664328162204,
          0.1321098948817796,
          0.1319895691389188,
          0.15869694983107463,
          0.15895135364835222,
          0.1589754153481362,
          0.16326213009513202,
          0.1632540494061987,
          0.17655864750976336,
          0.21554895366400517,
          0.2166467893306696,
          0.21627083639510603,
          0.21718585273699675,
          0.2169100430412576,
          0.2162580118647699,
          0.21629089781286237,
          0.21629901097293702,
          0.21633842251726443,
          0.2165076406221098,
          0.21679216720279815,
          0.21684278687610092,
          0.21682942496244895,
          0.1759269655578437
         ]
        },
        {
         "mode": "lines",
         "name": "Market-Cap Portfolio",
         "type": "scatter",
         "x": [
          "2021-02-08T00:00:00",
          "2021-02-09T00:00:00",
          "2021-02-10T00:00:00",
          "2021-02-11T00:00:00",
          "2021-02-12T00:00:00",
          "2021-02-15T00:00:00",
          "2021-02-16T00:00:00",
          "2021-02-17T00:00:00",
          "2021-02-18T00:00:00",
          "2021-02-19T00:00:00",
          "2021-02-22T00:00:00",
          "2021-02-23T00:00:00",
          "2021-02-24T00:00:00",
          "2021-02-25T00:00:00",
          "2021-02-26T00:00:00",
          "2021-03-01T00:00:00",
          "2021-03-02T00:00:00",
          "2021-03-03T00:00:00",
          "2021-03-04T00:00:00",
          "2021-03-05T00:00:00",
          "2021-03-08T00:00:00",
          "2021-03-09T00:00:00",
          "2021-03-10T00:00:00",
          "2021-03-11T00:00:00",
          "2021-03-12T00:00:00",
          "2021-03-15T00:00:00",
          "2021-03-16T00:00:00",
          "2021-03-17T00:00:00",
          "2021-03-18T00:00:00",
          "2021-03-19T00:00:00",
          "2021-03-22T00:00:00",
          "2021-03-23T00:00:00",
          "2021-03-24T00:00:00",
          "2021-03-25T00:00:00",
          "2021-03-26T00:00:00",
          "2021-03-29T00:00:00",
          "2021-03-30T00:00:00",
          "2021-03-31T00:00:00",
          "2021-04-01T00:00:00",
          "2021-04-02T00:00:00",
          "2021-04-05T00:00:00",
          "2021-04-06T00:00:00",
          "2021-04-07T00:00:00",
          "2021-04-08T00:00:00",
          "2021-04-09T00:00:00",
          "2021-04-12T00:00:00",
          "2021-04-13T00:00:00",
          "2021-04-14T00:00:00",
          "2021-04-15T00:00:00",
          "2021-04-16T00:00:00",
          "2021-04-19T00:00:00",
          "2021-04-20T00:00:00",
          "2021-04-21T00:00:00",
          "2021-04-22T00:00:00",
          "2021-04-23T00:00:00",
          "2021-04-26T00:00:00",
          "2021-04-27T00:00:00",
          "2021-04-28T00:00:00",
          "2021-04-29T00:00:00",
          "2021-04-30T00:00:00",
          "2021-05-03T00:00:00",
          "2021-05-04T00:00:00",
          "2021-05-05T00:00:00",
          "2021-05-06T00:00:00",
          "2021-05-07T00:00:00",
          "2021-05-10T00:00:00",
          "2021-05-11T00:00:00",
          "2021-05-12T00:00:00",
          "2021-05-17T00:00:00",
          "2021-05-18T00:00:00",
          "2021-05-19T00:00:00",
          "2021-05-20T00:00:00",
          "2021-05-21T00:00:00",
          "2021-05-24T00:00:00",
          "2021-05-25T00:00:00",
          "2021-05-26T00:00:00",
          "2021-05-27T00:00:00",
          "2021-05-28T00:00:00",
          "2021-05-31T00:00:00",
          "2021-06-01T00:00:00",
          "2021-06-02T00:00:00",
          "2021-06-03T00:00:00",
          "2021-06-04T00:00:00",
          "2021-06-07T00:00:00",
          "2021-06-08T00:00:00",
          "2021-06-09T00:00:00",
          "2021-06-10T00:00:00",
          "2021-06-11T00:00:00",
          "2021-06-14T00:00:00",
          "2021-06-15T00:00:00",
          "2021-06-16T00:00:00",
          "2021-06-17T00:00:00",
          "2021-06-18T00:00:00",
          "2021-06-21T00:00:00",
          "2021-06-22T00:00:00",
          "2021-06-23T00:00:00",
          "2021-06-24T00:00:00",
          "2021-06-25T00:00:00",
          "2021-06-28T00:00:00",
          "2021-06-29T00:00:00",
          "2021-06-30T00:00:00",
          "2021-07-01T00:00:00",
          "2021-07-02T00:00:00",
          "2021-07-05T00:00:00",
          "2021-07-06T00:00:00",
          "2021-07-07T00:00:00",
          "2021-07-08T00:00:00",
          "2021-07-09T00:00:00",
          "2021-07-12T00:00:00",
          "2021-07-13T00:00:00",
          "2021-07-14T00:00:00",
          "2021-07-15T00:00:00",
          "2021-07-16T00:00:00",
          "2021-07-19T00:00:00",
          "2021-07-20T00:00:00",
          "2021-07-23T00:00:00",
          "2021-07-26T00:00:00",
          "2021-07-27T00:00:00",
          "2021-07-28T00:00:00",
          "2021-07-29T00:00:00",
          "2021-08-02T00:00:00",
          "2021-08-03T00:00:00",
          "2021-08-04T00:00:00",
          "2021-08-05T00:00:00",
          "2021-08-06T00:00:00",
          "2021-08-09T00:00:00",
          "2021-08-11T00:00:00",
          "2021-08-12T00:00:00",
          "2021-08-13T00:00:00",
          "2021-08-16T00:00:00",
          "2021-08-17T00:00:00",
          "2021-08-18T00:00:00",
          "2021-08-19T00:00:00",
          "2021-08-23T00:00:00",
          "2021-08-24T00:00:00",
          "2021-08-25T00:00:00",
          "2021-08-26T00:00:00",
          "2021-08-27T00:00:00",
          "2021-08-30T00:00:00",
          "2021-08-31T00:00:00",
          "2021-09-01T00:00:00",
          "2021-09-02T00:00:00",
          "2021-09-03T00:00:00",
          "2021-09-06T00:00:00",
          "2021-09-07T00:00:00",
          "2021-09-08T00:00:00",
          "2021-09-09T00:00:00",
          "2021-09-10T00:00:00",
          "2021-09-13T00:00:00",
          "2021-09-14T00:00:00",
          "2021-09-15T00:00:00",
          "2021-09-16T00:00:00",
          "2021-09-17T00:00:00",
          "2021-09-20T00:00:00",
          "2021-09-21T00:00:00",
          "2021-09-22T00:00:00",
          "2021-09-23T00:00:00",
          "2021-09-24T00:00:00",
          "2021-09-27T00:00:00",
          "2021-09-28T00:00:00",
          "2021-09-29T00:00:00",
          "2021-09-30T00:00:00",
          "2021-10-01T00:00:00",
          "2021-10-04T00:00:00",
          "2021-10-05T00:00:00",
          "2021-10-06T00:00:00",
          "2021-10-07T00:00:00",
          "2021-10-08T00:00:00",
          "2021-10-11T00:00:00",
          "2021-10-12T00:00:00",
          "2021-10-13T00:00:00",
          "2021-10-14T00:00:00",
          "2021-10-15T00:00:00",
          "2021-10-18T00:00:00",
          "2021-10-21T00:00:00",
          "2021-10-22T00:00:00",
          "2021-10-25T00:00:00",
          "2021-10-26T00:00:00",
          "2021-10-27T00:00:00",
          "2021-10-28T00:00:00",
          "2021-10-29T00:00:00",
          "2021-11-01T00:00:00",
          "2021-11-02T00:00:00",
          "2021-11-03T00:00:00",
          "2021-11-04T00:00:00",
          "2021-11-05T00:00:00",
          "2021-11-08T00:00:00",
          "2021-11-09T00:00:00",
          "2021-11-10T00:00:00",
          "2021-11-11T00:00:00",
          "2021-11-12T00:00:00",
          "2021-11-15T00:00:00",
          "2021-11-16T00:00:00",
          "2021-11-17T00:00:00",
          "2021-11-19T00:00:00",
          "2021-11-22T00:00:00",
          "2021-11-23T00:00:00",
          "2021-11-24T00:00:00",
          "2021-11-25T00:00:00",
          "2021-11-26T00:00:00",
          "2021-11-29T00:00:00",
          "2021-11-30T00:00:00",
          "2021-12-01T00:00:00",
          "2021-12-02T00:00:00",
          "2021-12-03T00:00:00",
          "2021-12-06T00:00:00",
          "2021-12-07T00:00:00",
          "2021-12-08T00:00:00",
          "2021-12-09T00:00:00",
          "2021-12-10T00:00:00",
          "2021-12-13T00:00:00",
          "2021-12-14T00:00:00",
          "2021-12-15T00:00:00",
          "2021-12-16T00:00:00",
          "2021-12-17T00:00:00",
          "2021-12-20T00:00:00",
          "2021-12-21T00:00:00",
          "2021-12-22T00:00:00",
          "2021-12-23T00:00:00",
          "2021-12-24T00:00:00",
          "2021-12-27T00:00:00",
          "2021-12-28T00:00:00",
          "2021-12-29T00:00:00",
          "2021-12-30T00:00:00",
          "2021-12-31T00:00:00",
          "2022-01-03T00:00:00",
          "2022-01-04T00:00:00",
          "2022-01-05T00:00:00",
          "2022-01-06T00:00:00",
          "2022-01-07T00:00:00",
          "2022-01-10T00:00:00",
          "2022-01-12T00:00:00",
          "2022-01-13T00:00:00",
          "2022-01-14T00:00:00",
          "2022-01-17T00:00:00",
          "2022-01-18T00:00:00",
          "2022-01-19T00:00:00",
          "2022-01-20T00:00:00",
          "2022-01-21T00:00:00",
          "2022-01-24T00:00:00",
          "2022-01-25T00:00:00",
          "2022-01-26T00:00:00",
          "2022-01-27T00:00:00",
          "2022-01-28T00:00:00",
          "2022-01-31T00:00:00",
          "2022-02-01T00:00:00",
          "2022-02-02T00:00:00",
          "2022-02-03T00:00:00",
          "2022-02-04T00:00:00"
         ],
         "y": [
          0,
          -0.007355157896288489,
          -0.014030539272416931,
          -0.010666913731401273,
          -0.01384466959047903,
          -0.014117268884396128,
          -0.011827295517101932,
          -0.012066321831994409,
          -0.009674907209634154,
          -0.02747920076742838,
          -0.031669761011591024,
          -0.040033857058867084,
          -0.04831209231746658,
          -0.041738026488222335,
          -0.0400668978026949,
          -0.03997039505088262,
          -0.03708963395872078,
          -0.03932797899494045,
          -0.03828731011199038,
          -0.036986334790683695,
          -0.0373042575238538,
          -0.03556443605301696,
          -0.03528064184354929,
          -0.034478936018016104,
          -0.03190294926948556,
          -0.03110821918001261,
          -0.02466142741991517,
          -0.020603557992127874,
          -0.026866089299168894,
          -0.02723289954777408,
          -0.02920699067249899,
          -0.030832903510981113,
          -0.02889553718827087,
          -0.02559285015731405,
          -0.02796203396043806,
          -0.025393132469245905,
          -0.023777620592695392,
          -0.026221497133672278,
          -0.020718986398637562,
          -0.018290532285648697,
          -0.02123521779756643,
          -0.023352893035716527,
          -0.026792104726864663,
          -0.02665373298701257,
          -0.022778247660895534,
          -0.020137376295907172,
          -0.021294347945982173,
          -0.019578520579396463,
          -0.019017094810773627,
          -0.017525411100916544,
          -0.018278542610156046,
          -0.016797568126442064,
          -0.017119026691552408,
          -0.016144743013193796,
          -0.021262221572280304,
          -0.020244728209133367,
          -0.01863239353378232,
          -0.013426105718991166,
          -0.012146790427026932,
          -0.00962448706797403,
          -0.00825508876482195,
          -0.0011832760023915423,
          0.003161018277976213,
          0.00559682362923164,
          0.006199583291531585,
          0.008586580752170558,
          0.0064667895769146,
          0.006843822787931719,
          0.016166275453482815,
          0.01590631615154403,
          0.017387078802096667,
          0.006497515142360744,
          0.012984883162617589,
          0.010169766381192824,
          0.010478314169108938,
          0.01303673015434037,
          0.012086957116186792,
          0.01674012852533835,
          0.01340674184399937,
          0.01596666502267774,
          0.022336559329424688,
          0.030174003128690785,
          0.028963642702583003,
          0.02630025593387031,
          0.0237910004434434,
          0.019263041051328367,
          0.022769432011129798,
          0.029124192256940518,
          0.033155698995608995,
          0.029306909872301556,
          0.025891053839234512,
          0.02580990013777984,
          0.027792118782035136,
          0.03019447793633212,
          0.026747173860823148,
          0.027352604915082512,
          0.02463451262757066,
          0.015224173708966893,
          0.019834695028243754,
          0.016945340665237563,
          0.015346166980799714,
          0.0158013548714806,
          0.01347719655552404,
          0.003288740373873722,
          -0.003010505194239732,
          0.0006635759206630176,
          0.003473127027148415,
          0.0029450926046923342,
          0.004245556996846922,
          0.003926168063466351,
          0.002832067662431159,
          0.00023790425966629947,
          0.0024778544480665854,
          0.0006876216482598618,
          -0.0003950962549895687,
          0.0023347424567390362,
          -0.00011713085618036967,
          0.0031937717785603947,
          0.005115666849162537,
          0.009114481669394436,
          0.01967336517048146,
          0.019857062148028515,
          0.019613765239052894,
          0.02151762376275146,
          0.025026810447593695,
          0.022713926906011705,
          0.028280132135193092,
          0.024837709349980086,
          0.03097602977072622,
          0.029550832525889303,
          0.034484999194582144,
          0.033249229351082654,
          0.03235889875160569,
          0.03963539276388839,
          0.039499598225963384,
          0.03447253851467247,
          0.038690793355866226,
          0.0449474375073835,
          0.04401323439916238,
          0.041698069901149104,
          0.04119805924504183,
          0.04183042970724382,
          0.047457913433607724,
          0.03450142291682834,
          0.03941453437491882,
          0.04383217699839537,
          0.06187481069043521,
          0.05131195719216941,
          0.05061215502339178,
          0.05340997071915132,
          0.052069410734930655,
          0.05268671229825528,
          0.06004635246989598,
          0.05416065995012098,
          0.054378621925231796,
          0.05717542204040105,
          0.06260746549140461,
          0.06838244604394816,
          0.06543128928059105,
          0.06906338991297245,
          0.0697529737046807,
          0.06522451189945677,
          0.06280235849367632,
          0.06163331450397225,
          0.06050271469167323,
          0.059786571203976235,
          0.06074604510552328,
          0.06635297929516226,
          0.06376461543373924,
          0.06618868516187981,
          0.06741409761313433,
          0.07419381762566091,
          0.0770438653425356,
          0.07632444753007905,
          0.07707883869032717,
          0.07837984928456043,
          0.08083044542274354,
          0.089525477258805,
          0.09396608979263021,
          0.09268625550035603,
          0.08743170680011736,
          0.0857504659233308,
          0.09015580988693372,
          0.09303720356230327,
          0.08772492352461092,
          0.08116051455864515,
          0.08136536476117384,
          0.07890521355056346,
          0.0772555885461057,
          0.07700408181933471,
          0.07326016382248657,
          0.07416928780145304,
          0.07251315987662421,
          0.07435036241886128,
          0.07733665696284886,
          0.07971173747482307,
          0.07699970081024765,
          0.07789266857135813,
          0.07633728389610317,
          0.06949486781612224,
          0.059465230154386095,
          0.0593289494081608,
          0.06514369794000219,
          0.06994996062769454,
          0.07122492205600062,
          0.0662090503041608,
          0.07008908601880304,
          0.06996682017231959,
          0.07130859923547184,
          0.07796994462133777,
          0.0742002087488729,
          0.0737712982070089,
          0.07142994531278135,
          0.06987679795655599,
          0.0676882793139546,
          0.06091713460543602,
          0.057844653798790446,
          0.05540598594103163,
          0.05692873854651426,
          0.056198075391579394,
          0.056820847926308815,
          0.05818605926238907,
          0.06658829983063042,
          0.06842725819928286,
          0.06666393929181247,
          0.06297331920496907,
          0.06212599603570523,
          0.06238919005196997,
          0.06743773305359468,
          0.07701152068732853,
          0.07792628481959918,
          0.08214787337542884,
          0.083399218272042,
          0.0924079680389267,
          0.09016038364848655,
          0.09065734138114778,
          0.08936495797112087,
          0.0892569896880131,
          0.08766505998506391,
          0.08462260387349407,
          0.08028941023134006,
          0.08148074547637418,
          0.08364761894163886,
          0.08281252304491726,
          0.08595254458688228,
          0.08674113230943092,
          0.08742158559466806,
          0.09042910091020606,
          0.08860463550825282
         ]
        }
       ],
       "layout": {
        "legend": {
         "font": {
          "size": 10
         },
         "traceorder": "normal",
         "x": 0,
         "y": 1
        },
        "template": {
         "data": {
          "bar": [
           {
            "error_x": {
             "color": "#2a3f5f"
            },
            "error_y": {
             "color": "#2a3f5f"
            },
            "marker": {
             "line": {
              "color": "#E5ECF6",
              "width": 0.5
             },
             "pattern": {
              "fillmode": "overlay",
              "size": 10,
              "solidity": 0.2
             }
            },
            "type": "bar"
           }
          ],
          "barpolar": [
           {
            "marker": {
             "line": {
              "color": "#E5ECF6",
              "width": 0.5
             },
             "pattern": {
              "fillmode": "overlay",
              "size": 10,
              "solidity": 0.2
             }
            },
            "type": "barpolar"
           }
          ],
          "carpet": [
           {
            "aaxis": {
             "endlinecolor": "#2a3f5f",
             "gridcolor": "white",
             "linecolor": "white",
             "minorgridcolor": "white",
             "startlinecolor": "#2a3f5f"
            },
            "baxis": {
             "endlinecolor": "#2a3f5f",
             "gridcolor": "white",
             "linecolor": "white",
             "minorgridcolor": "white",
             "startlinecolor": "#2a3f5f"
            },
            "type": "carpet"
           }
          ],
          "choropleth": [
           {
            "colorbar": {
             "outlinewidth": 0,
             "ticks": ""
            },
            "type": "choropleth"
           }
          ],
          "contour": [
           {
            "colorbar": {
             "outlinewidth": 0,
             "ticks": ""
            },
            "colorscale": [
             [
              0,
              "#0d0887"
             ],
             [
              0.1111111111111111,
              "#46039f"
             ],
             [
              0.2222222222222222,
              "#7201a8"
             ],
             [
              0.3333333333333333,
              "#9c179e"
             ],
             [
              0.4444444444444444,
              "#bd3786"
             ],
             [
              0.5555555555555556,
              "#d8576b"
             ],
             [
              0.6666666666666666,
              "#ed7953"
             ],
             [
              0.7777777777777778,
              "#fb9f3a"
             ],
             [
              0.8888888888888888,
              "#fdca26"
             ],
             [
              1,
              "#f0f921"
             ]
            ],
            "type": "contour"
           }
          ],
          "contourcarpet": [
           {
            "colorbar": {
             "outlinewidth": 0,
             "ticks": ""
            },
            "type": "contourcarpet"
           }
          ],
          "heatmap": [
           {
            "colorbar": {
             "outlinewidth": 0,
             "ticks": ""
            },
            "colorscale": [
             [
              0,
              "#0d0887"
             ],
             [
              0.1111111111111111,
              "#46039f"
             ],
             [
              0.2222222222222222,
              "#7201a8"
             ],
             [
              0.3333333333333333,
              "#9c179e"
             ],
             [
              0.4444444444444444,
              "#bd3786"
             ],
             [
              0.5555555555555556,
              "#d8576b"
             ],
             [
              0.6666666666666666,
              "#ed7953"
             ],
             [
              0.7777777777777778,
              "#fb9f3a"
             ],
             [
              0.8888888888888888,
              "#fdca26"
             ],
             [
              1,
              "#f0f921"
             ]
            ],
            "type": "heatmap"
           }
          ],
          "heatmapgl": [
           {
            "colorbar": {
             "outlinewidth": 0,
             "ticks": ""
            },
            "colorscale": [
             [
              0,
              "#0d0887"
             ],
             [
              0.1111111111111111,
              "#46039f"
             ],
             [
              0.2222222222222222,
              "#7201a8"
             ],
             [
              0.3333333333333333,
              "#9c179e"
             ],
             [
              0.4444444444444444,
              "#bd3786"
             ],
             [
              0.5555555555555556,
              "#d8576b"
             ],
             [
              0.6666666666666666,
              "#ed7953"
             ],
             [
              0.7777777777777778,
              "#fb9f3a"
             ],
             [
              0.8888888888888888,
              "#fdca26"
             ],
             [
              1,
              "#f0f921"
             ]
            ],
            "type": "heatmapgl"
           }
          ],
          "histogram": [
           {
            "marker": {
             "pattern": {
              "fillmode": "overlay",
              "size": 10,
              "solidity": 0.2
             }
            },
            "type": "histogram"
           }
          ],
          "histogram2d": [
           {
            "colorbar": {
             "outlinewidth": 0,
             "ticks": ""
            },
            "colorscale": [
             [
              0,
              "#0d0887"
             ],
             [
              0.1111111111111111,
              "#46039f"
             ],
             [
              0.2222222222222222,
              "#7201a8"
             ],
             [
              0.3333333333333333,
              "#9c179e"
             ],
             [
              0.4444444444444444,
              "#bd3786"
             ],
             [
              0.5555555555555556,
              "#d8576b"
             ],
             [
              0.6666666666666666,
              "#ed7953"
             ],
             [
              0.7777777777777778,
              "#fb9f3a"
             ],
             [
              0.8888888888888888,
              "#fdca26"
             ],
             [
              1,
              "#f0f921"
             ]
            ],
            "type": "histogram2d"
           }
          ],
          "histogram2dcontour": [
           {
            "colorbar": {
             "outlinewidth": 0,
             "ticks": ""
            },
            "colorscale": [
             [
              0,
              "#0d0887"
             ],
             [
              0.1111111111111111,
              "#46039f"
             ],
             [
              0.2222222222222222,
              "#7201a8"
             ],
             [
              0.3333333333333333,
              "#9c179e"
             ],
             [
              0.4444444444444444,
              "#bd3786"
             ],
             [
              0.5555555555555556,
              "#d8576b"
             ],
             [
              0.6666666666666666,
              "#ed7953"
             ],
             [
              0.7777777777777778,
              "#fb9f3a"
             ],
             [
              0.8888888888888888,
              "#fdca26"
             ],
             [
              1,
              "#f0f921"
             ]
            ],
            "type": "histogram2dcontour"
           }
          ],
          "mesh3d": [
           {
            "colorbar": {
             "outlinewidth": 0,
             "ticks": ""
            },
            "type": "mesh3d"
           }
          ],
          "parcoords": [
           {
            "line": {
             "colorbar": {
              "outlinewidth": 0,
              "ticks": ""
             }
            },
            "type": "parcoords"
           }
          ],
          "pie": [
           {
            "automargin": true,
            "type": "pie"
           }
          ],
          "scatter": [
           {
            "fillpattern": {
             "fillmode": "overlay",
             "size": 10,
             "solidity": 0.2
            },
            "type": "scatter"
           }
          ],
          "scatter3d": [
           {
            "line": {
             "colorbar": {
              "outlinewidth": 0,
              "ticks": ""
             }
            },
            "marker": {
             "colorbar": {
              "outlinewidth": 0,
              "ticks": ""
             }
            },
            "type": "scatter3d"
           }
          ],
          "scattercarpet": [
           {
            "marker": {
             "colorbar": {
              "outlinewidth": 0,
              "ticks": ""
             }
            },
            "type": "scattercarpet"
           }
          ],
          "scattergeo": [
           {
            "marker": {
             "colorbar": {
              "outlinewidth": 0,
              "ticks": ""
             }
            },
            "type": "scattergeo"
           }
          ],
          "scattergl": [
           {
            "marker": {
             "colorbar": {
              "outlinewidth": 0,
              "ticks": ""
             }
            },
            "type": "scattergl"
           }
          ],
          "scattermapbox": [
           {
            "marker": {
             "colorbar": {
              "outlinewidth": 0,
              "ticks": ""
             }
            },
            "type": "scattermapbox"
           }
          ],
          "scatterpolar": [
           {
            "marker": {
             "colorbar": {
              "outlinewidth": 0,
              "ticks": ""
             }
            },
            "type": "scatterpolar"
           }
          ],
          "scatterpolargl": [
           {
            "marker": {
             "colorbar": {
              "outlinewidth": 0,
              "ticks": ""
             }
            },
            "type": "scatterpolargl"
           }
          ],
          "scatterternary": [
           {
            "marker": {
             "colorbar": {
              "outlinewidth": 0,
              "ticks": ""
             }
            },
            "type": "scatterternary"
           }
          ],
          "surface": [
           {
            "colorbar": {
             "outlinewidth": 0,
             "ticks": ""
            },
            "colorscale": [
             [
              0,
              "#0d0887"
             ],
             [
              0.1111111111111111,
              "#46039f"
             ],
             [
              0.2222222222222222,
              "#7201a8"
             ],
             [
              0.3333333333333333,
              "#9c179e"
             ],
             [
              0.4444444444444444,
              "#bd3786"
             ],
             [
              0.5555555555555556,
              "#d8576b"
             ],
             [
              0.6666666666666666,
              "#ed7953"
             ],
             [
              0.7777777777777778,
              "#fb9f3a"
             ],
             [
              0.8888888888888888,
              "#fdca26"
             ],
             [
              1,
              "#f0f921"
             ]
            ],
            "type": "surface"
           }
          ],
          "table": [
           {
            "cells": {
             "fill": {
              "color": "#EBF0F8"
             },
             "line": {
              "color": "white"
             }
            },
            "header": {
             "fill": {
              "color": "#C8D4E3"
             },
             "line": {
              "color": "white"
             }
            },
            "type": "table"
           }
          ]
         },
         "layout": {
          "annotationdefaults": {
           "arrowcolor": "#2a3f5f",
           "arrowhead": 0,
           "arrowwidth": 1
          },
          "autotypenumbers": "strict",
          "coloraxis": {
           "colorbar": {
            "outlinewidth": 0,
            "ticks": ""
           }
          },
          "colorscale": {
           "diverging": [
            [
             0,
             "#8e0152"
            ],
            [
             0.1,
             "#c51b7d"
            ],
            [
             0.2,
             "#de77ae"
            ],
            [
             0.3,
             "#f1b6da"
            ],
            [
             0.4,
             "#fde0ef"
            ],
            [
             0.5,
             "#f7f7f7"
            ],
            [
             0.6,
             "#e6f5d0"
            ],
            [
             0.7,
             "#b8e186"
            ],
            [
             0.8,
             "#7fbc41"
            ],
            [
             0.9,
             "#4d9221"
            ],
            [
             1,
             "#276419"
            ]
           ],
           "sequential": [
            [
             0,
             "#0d0887"
            ],
            [
             0.1111111111111111,
             "#46039f"
            ],
            [
             0.2222222222222222,
             "#7201a8"
            ],
            [
             0.3333333333333333,
             "#9c179e"
            ],
            [
             0.4444444444444444,
             "#bd3786"
            ],
            [
             0.5555555555555556,
             "#d8576b"
            ],
            [
             0.6666666666666666,
             "#ed7953"
            ],
            [
             0.7777777777777778,
             "#fb9f3a"
            ],
            [
             0.8888888888888888,
             "#fdca26"
            ],
            [
             1,
             "#f0f921"
            ]
           ],
           "sequentialminus": [
            [
             0,
             "#0d0887"
            ],
            [
             0.1111111111111111,
             "#46039f"
            ],
            [
             0.2222222222222222,
             "#7201a8"
            ],
            [
             0.3333333333333333,
             "#9c179e"
            ],
            [
             0.4444444444444444,
             "#bd3786"
            ],
            [
             0.5555555555555556,
             "#d8576b"
            ],
            [
             0.6666666666666666,
             "#ed7953"
            ],
            [
             0.7777777777777778,
             "#fb9f3a"
            ],
            [
             0.8888888888888888,
             "#fdca26"
            ],
            [
             1,
             "#f0f921"
            ]
           ]
          },
          "colorway": [
           "#636efa",
           "#EF553B",
           "#00cc96",
           "#ab63fa",
           "#FFA15A",
           "#19d3f3",
           "#FF6692",
           "#B6E880",
           "#FF97FF",
           "#FECB52"
          ],
          "font": {
           "color": "#2a3f5f"
          },
          "geo": {
           "bgcolor": "white",
           "lakecolor": "white",
           "landcolor": "#E5ECF6",
           "showlakes": true,
           "showland": true,
           "subunitcolor": "white"
          },
          "hoverlabel": {
           "align": "left"
          },
          "hovermode": "closest",
          "mapbox": {
           "style": "light"
          },
          "paper_bgcolor": "white",
          "plot_bgcolor": "#E5ECF6",
          "polar": {
           "angularaxis": {
            "gridcolor": "white",
            "linecolor": "white",
            "ticks": ""
           },
           "bgcolor": "#E5ECF6",
           "radialaxis": {
            "gridcolor": "white",
            "linecolor": "white",
            "ticks": ""
           }
          },
          "scene": {
           "xaxis": {
            "backgroundcolor": "#E5ECF6",
            "gridcolor": "white",
            "gridwidth": 2,
            "linecolor": "white",
            "showbackground": true,
            "ticks": "",
            "zerolinecolor": "white"
           },
           "yaxis": {
            "backgroundcolor": "#E5ECF6",
            "gridcolor": "white",
            "gridwidth": 2,
            "linecolor": "white",
            "showbackground": true,
            "ticks": "",
            "zerolinecolor": "white"
           },
           "zaxis": {
            "backgroundcolor": "#E5ECF6",
            "gridcolor": "white",
            "gridwidth": 2,
            "linecolor": "white",
            "showbackground": true,
            "ticks": "",
            "zerolinecolor": "white"
           }
          },
          "shapedefaults": {
           "line": {
            "color": "#2a3f5f"
           }
          },
          "ternary": {
           "aaxis": {
            "gridcolor": "white",
            "linecolor": "white",
            "ticks": ""
           },
           "baxis": {
            "gridcolor": "white",
            "linecolor": "white",
            "ticks": ""
           },
           "bgcolor": "#E5ECF6",
           "caxis": {
            "gridcolor": "white",
            "linecolor": "white",
            "ticks": ""
           }
          },
          "title": {
           "x": 0.05
          },
          "xaxis": {
           "automargin": true,
           "gridcolor": "white",
           "linecolor": "white",
           "ticks": "",
           "title": {
            "standoff": 15
           },
           "zerolinecolor": "white",
           "zerolinewidth": 2
          },
          "yaxis": {
           "automargin": true,
           "gridcolor": "white",
           "linecolor": "white",
           "ticks": "",
           "title": {
            "standoff": 15
           },
           "zerolinecolor": "white",
           "zerolinewidth": 2
          }
         }
        },
        "title": {
         "text": "Portfolio Strategies Comparison"
        },
        "xaxis": {
         "title": {
          "text": "Date"
         }
        },
        "yaxis": {
         "title": {
          "text": "Cumulative Returns"
         }
        }
       }
      }
     },
     "metadata": {},
     "output_type": "display_data"
    }
   ],
   "source": [
    "# Create traces\n",
    "marketcap_trace = go.Scatter(x=portfolio_returns_market_cap_weighted.index, y=portfolio_returns_market_cap_weighted, mode='lines', name='Market-Cap Portfolio')\n",
    "masi_trace = go.Scatter(x=benchmark_cumulative_returns.index, y=benchmark_cumulative_returns, mode='lines', name='MASI Index', line=dict(dash='dash'))\n",
    "portfolio_trace = go.Scatter(x=portfolio_returns_equal_weighted.index, y=portfolio_returns_equal_weighted, mode='lines', name='Equal-Weighted Portfolio')\n",
    "optimized_trace = go.Scatter(x=portfolio_returns_optimized.index, y=portfolio_returns_optimized, mode='lines', name='Sharpe Ratio Optimized Portfolio')\n",
    "autoencoder_trace = go.Scatter(x=autoencoder_portfolio_returns.index, y=autoencoder_portfolio_returns, mode='lines', name='Autoencoder Portfolio', line=dict(color='green'))\n",
    "kmeans_trace = go.Scatter(x=kmeans_portfolio_returns.index, y=kmeans_portfolio_returns, mode='lines', name='KMeans (DTW) Portfolio', line=dict(color='orange'))\n",
    "mean_variance_trace = go.Scatter(x=mean_variance_portfolio.index, y=mean_variance_portfolio, mode='lines', name='Mean-Variance Optimized Portfolio', line=dict(color='purple'))\n",
    "\n",
    "# Layout\n",
    "layout = go.Layout(\n",
    "    title='Portfolio Strategies Comparison',\n",
    "    xaxis=dict(title='Date'),\n",
    "    yaxis=dict(title='Cumulative Returns'),\n",
    "    legend=dict(x=0, y=1, traceorder='normal', font=dict(size=10))\n",
    ")\n",
    "\n",
    "\n",
    "# Create figure\n",
    "fig = go.Figure(data=[autoencoder_trace, masi_trace, portfolio_trace, optimized_trace, kmeans_trace, mean_variance_trace, marketcap_trace], layout=layout)\n",
    "\n",
    "# Show plot\n",
    "fig.show()"
   ]
  },
  {
   "cell_type": "markdown",
   "metadata": {},
   "source": [
    "+ The **Autoencoder Portfolio** emerges as a standout performer, demonstrating consistent growth throughout the period and outperforming all other strategies by a notable margin, particularly towards the end of 2021. This suggests that the combination of autoencoder and clustering techniques effectively captured advantageous patterns in asset returns.\n",
    "\n",
    "+ The **KMeans (DTW) Portfolio** also performs well, reflecting a successful optimization strategy focused on maximizing risk-adjusted returns. It maintains a trajectory similar to that of the Autoencoder Portfolio, indicating the effectiveness of this traditional method.\n",
    "\n",
    "+ In contrast, the **Mean-Variance Optimized Portfolio** and the **Market-Cap Portfolio** display more volatility and lesser cumulative returns, particularly the Market-Cap Portfolio, which struggles to keep pace with the others. \n",
    "\n",
    "+ The **Sharpe Ratio Optimized Portfolio** performs moderately, showcasing potential but not achieving the same level of success as the Autoencoder and Sharpe Ratio optimized approaches.\n",
    "\n",
    "+ Finally, the **Equal-Weighted Portfolio** remains relatively flat, highlighting the limitations of this simple strategy in a dynamic market environment."
   ]
  },
  {
   "cell_type": "markdown",
   "metadata": {},
   "source": [
    "\n",
    "Overall, the comparison illustrates that advanced clustering techniques, such as those employed with autoencoders and KMeans, can enhance portfolio performance, providing investors with valuable insights into asset behavior and more effective strategies for maximizing returns."
   ]
  },
  {
   "cell_type": "markdown",
   "metadata": {},
   "source": [
    "# End :)"
   ]
  }
 ],
 "metadata": {
  "colab": {
   "provenance": []
  },
  "kernelspec": {
   "display_name": "gold",
   "language": "python",
   "name": "python3"
  },
  "language_info": {
   "codemirror_mode": {
    "name": "ipython",
    "version": 3
   },
   "file_extension": ".py",
   "mimetype": "text/x-python",
   "name": "python",
   "nbconvert_exporter": "python",
   "pygments_lexer": "ipython3",
   "version": "3.12.5"
  }
 },
 "nbformat": 4,
 "nbformat_minor": 4
}
